{
 "cells": [
  {
   "cell_type": "markdown",
   "metadata": {},
   "source": [
    "# Practical Proportional (P) and Proportional-Integral (PI) Control"
   ]
  },
  {
   "cell_type": "markdown",
   "metadata": {},
   "source": [
    "## Learning Goals\n",
    "\n",
    "* Explain terms in the equations for proportional control and proportional-integral control/\n",
    "* Derive velocity from form of PI control.\n",
    "* Define terminology\n",
    "    * negative feedback\n",
    "    * bias (aka offset or null) term\n",
    "    * proportional gain and integral gain\n",
    "* Explain difference between setpoint tracking and disturbance rejection.\n",
    "* Explain roles of the proportional and integral terms contribute.\n",
    "* Explain the purpose of each of the following enhancements of 'textbook' PI control:\n",
    "    * Anti-reset windup\n",
    "         * Control algorithm modifications\n",
    "         * Event loop modifications\n",
    "    * Bumpless Transfer"
   ]
  },
  {
   "cell_type": "markdown",
   "metadata": {},
   "source": [
    "## Negative Feedback\n",
    "\n",
    "**Negative feedback** is the core principle underpinning process control.  Negative feedback suppresses deviations from the setpoint. If the process variable grows above the setpoint then the manipulated variable is decreased. If the process variable falls below the setpoint then the manipulated variable is increased.\n",
    "\n",
    "If the system exhibits a negative-going response to a positive change in the manipulated variable, then the sign of the proportional gain must be negative to assure negative feedback control.\n",
    "\n",
    "**Positive feedback** is encountered in social, economic, and biological systems where there is a desire to amplify a desirable outcome. Positive feedback can induce good behaviors, result in 'virtuous' cycles of innovation and development, or wealth creation. But in most hard engineering situations, the immediate objective is to cause a variable to track a setpoint for which negative feedback is enabling technology\n",
    "\n",
    "<hr>\n",
    "\n",
    "**Study Question:** Describe the two types of negative feedback taking place in the glucose/insulin/glucagon system diagrammed below. \n",
    "\n",
    "![](http://4.bp.blogspot.com/-ZKMZhvwDJ2o/UM3-y4BDIqI/AAAAAAAAAbM/PIsa1XpziNg/s1600/fbl+glucose.gif)\n",
    "\n",
    "\n",
    "**Study Question:** Why are two feedback loops necessary in this biological system? Can you think of an analogy for temperature control of the Temperature Control Lab?\n",
    "\n",
    "**Study Question:** For the glucose feedback loops diagrammed above, describe at least one physiological source disturbance for each.\n",
    "\n",
    "**Study Question:** Describe a situation where you have witnessed positive feedback in an audio or visual system.\n",
    "\n",
    "<hr>"
   ]
  },
  {
   "cell_type": "markdown",
   "metadata": {
    "tags": []
   },
   "source": [
    "## Nomenclature\n",
    "\n",
    "In this notebook we will refer to control signals with a generic nomenclature common to the process control industry.\n",
    "\n",
    "![](./figures/FeedbackControlDiagram.png)\n",
    "\n",
    "* **CV**: Control variables. A variable that is the subject of control. For example, a product composition.\n",
    "* **PV**: Process variables. A variable that can be measured. Sometimes the same as the control variable, often different but closely related to a CV.  For example, pressure or temperature of a binary mixture at phase equilibrium may be a proxy for composition.\n",
    "* **MV**: Manipulated variables. Variables that can be manipulated by the control system, such as flow via a valve position, or power input to heater.\n",
    "* **DV**: Disturbance variables. All of the exogeneous inputs that can affect our system of interest.\n",
    "* **SP**: Setpoints. Desired values for the control variables."
   ]
  },
  {
   "cell_type": "markdown",
   "metadata": {},
   "source": [
    "## Typical P&ID Diagram for PI and PID control.\n",
    "\n",
    "![](https://cdn.instrumentationtools.com/wp-content/uploads/2020/01/Identify-Process-Variables-in-PID.png)"
   ]
  },
  {
   "cell_type": "markdown",
   "metadata": {
    "tags": []
   },
   "source": [
    "## Time-Out for Engineering History\n",
    "\n",
    "Proportional control, and its variations, have a long history of implementation in both ancient and modern technologies.\n",
    "\n",
    "### Origins of PID Control\n",
    "\n",
    "#### Boulton and Watt Steam Engine\n",
    "\n",
    "![](https://upload.wikimedia.org/wikipedia/commons/thumb/f/f2/SteamEngine_Boulton%26Watt_1784.png/1280px-SteamEngine_Boulton%26Watt_1784.png)\n",
    "\n",
    "[Video demonstrating how a mechanical governor works.](https://youtu.be/B01LgS8S5C8?t=42)\n",
    "\n",
    "#### Ship Autopilot - First PID application\n",
    "\n",
    "![](https://owaysonline.com/wp-content/uploads/Block-Diagram-of-Ships-Auto-Pilot.png)\n",
    "\n",
    "### Implementations\n",
    "\n",
    "![](https://upload.wikimedia.org/wikipedia/commons/thumb/6/69/Nozzle_and_flapper_proportional_controller.png/1280px-Nozzle_and_flapper_proportional_controller.png)\n",
    "\n",
    "![](https://upload.wikimedia.org/wikipedia/commons/thumb/9/93/Smart_current_loop_positioner.png/1024px-Smart_current_loop_positioner.png?1645118511583)\n",
    "\n",
    "A collection of [PID controllers you can buy on Amazon](https://www.amazon.com/pid-controller/s?k=pid+controller) for home and commercial use: \n",
    "\n"
   ]
  },
  {
   "cell_type": "markdown",
   "metadata": {},
   "source": [
    "### Formulation of Proportional Control\n",
    "\n",
    "**Proportional control** adjusts the manipulated variable in proportion to the error between the setpoint and measured process variable.\n",
    "\n",
    "$$MV(t) = \\bar{MV} - K_P(PV(t) - SP(t))$$\n",
    "\n",
    "When measurements and actions take place at discrete points in time\n",
    "\n",
    "$$\\begin{align}\n",
    "MV_k & = \\bar{MV} - K_P(PV_k - SP_k)\n",
    "\\end{align}$$\n",
    "\n",
    "The constant of proportionality, $K_p$, is called the **proportional control gain**. The **error signal** is the difference between the the measured process variable and setpoint,\n",
    "\n",
    "$$\\begin{align}\n",
    "e_k & = PV_k - SP_k\n",
    "\\end{align}$$\n",
    "\n",
    "for which the proportional control becomes\n",
    "\n",
    "$$\\begin{align}\n",
    "MV_k & = \\bar{MV} - K_P e_k\n",
    "\\end{align}$$\n",
    "\n",
    "The negative sign results in **negative feedback control**. \n",
    "\n",
    "The constant term $\\bar{MV}$ is called the **bias**, **offset**, or **null** value of the manipulated variable. It is an initial estimate of the value of the manipulated variable required to maintain the desired setpoint. The estimate can be determined in several ways:\n",
    "\n",
    "* manual adjustment of the manipulated variable followed by a transition to automatic control,\n",
    "* solving a process model for the desired steady state,\n",
    "* feedforward control,\n",
    "* a user provided estimate,\n",
    "* set to zero.\n",
    "\n",
    "In subsequent notebooks we will see how $\\bar{MV}$ is used when building advanced control implementations."
   ]
  },
  {
   "cell_type": "markdown",
   "metadata": {},
   "source": [
    "### Proportional Control Implementation\n",
    "\n",
    "Using the Python `yield` statement, n instance of a proportional controller is created by specifying the gain $K_P$, upper and lower bounds on the manipulated variable, and the offset value $\\bar{MV}$."
   ]
  },
  {
   "cell_type": "code",
   "execution_count": 24,
   "metadata": {},
   "outputs": [],
   "source": [
    "# proportional control\n",
    "def P(Kp, MV_bar=0):\n",
    "    \n",
    "    # initialize MV ... must do this so the first use returns a useful value\n",
    "    MV = MV_bar\n",
    "    \n",
    "    # run indefinitely\n",
    "    while True:\n",
    "        \n",
    "        # limit the manipulated variable to the feasible range of values\n",
    "        MV = max(0, min(100, MV))\n",
    "        \n",
    "        # yield MV to calling program. Then pause and wait for updates to SP aand PV\n",
    "        SP, PV = yield MV\n",
    "        \n",
    "        # compute error signal\n",
    "        e = PV - SP\n",
    "        \n",
    "        # compute new value of the manipulated variable\n",
    "        MV = MV_bar - Kp * e\n",
    "        \n",
    "\n"
   ]
  },
  {
   "cell_type": "markdown",
   "metadata": {},
   "source": [
    "The benefits of using the `yield` statement is that we can use the same code to create multiple instances of controller, each with it's own parameters and state. The communication between the main event loop and a controller instance is illustrated in this diagram:\n",
    "\n",
    "![](https://jckantor.github.io/cbe30338-2021/figures/controller-coroutine.png)\n",
    "\n",
    "The following cells demonstrate performance of the controller when subject to a step change in setpoint and a disturbance input."
   ]
  },
  {
   "cell_type": "markdown",
   "metadata": {},
   "source": [
    "### Testing Setpoint and Disturbance Reponses\n",
    "\n",
    "We'll test the controller using the following inputs:\n",
    "\n",
    "* At time 20, the setpoint will switch from 25C to 40C.\n",
    "* At time 200, the second heater will turn at 100% power to introduce a disturbance.\n",
    "\n",
    "Let's see how proportional control works when applied to the Temperature Control Laboratory. For this simulation we set $\\bar{MV} = 0$ and $K_p = 3.0$."
   ]
  },
  {
   "cell_type": "code",
   "execution_count": 27,
   "metadata": {},
   "outputs": [
    {
     "data": {
      "image/png": "[encoded data removed]",
      "text/plain": [
       "<Figure size 640x360 with 3 Axes>"
      ]
     },
     "metadata": {},
     "output_type": "display_data"
    },
    {
     "name": "stdout",
     "output_type": "stream",
     "text": [
      "TCLab Model disconnected successfully.\n"
     ]
    },
    {
     "data": {
      "image/png": "[encoded data removed]",
      "text/plain": [
       "<Figure size 640x360 with 3 Axes>"
      ]
     },
     "metadata": {},
     "output_type": "display_data"
    }
   ],
   "source": [
    "from tclab import TCLab, clock, Historian, Plotter, setup\n",
    "\n",
    "TCLab = setup(connected=False, speedup=10)\n",
    "\n",
    "# create functions to simulate setpoints and disturbance variables\n",
    "def SP(t):\n",
    "    return 40 if t >= 20 else 25\n",
    "\n",
    "def DV(t):\n",
    "    return 100 if t >= 200 else 0\n",
    "\n",
    "# create a controller instance\n",
    "controller = P(100)\n",
    "\n",
    "# simulation duration and sampling time\n",
    "t_final = 600\n",
    "t_step = 2\n",
    "\n",
    "with TCLab() as lab:\n",
    "\n",
    "    # intialize historian and plotting\n",
    "    sources = [[\"T1\", lambda: lab.T1],\n",
    "               [\"SP1\", lambda: SP(t)],\n",
    "               [\"Q1\", lab.Q1],\n",
    "               [\"DV\", lambda: DV(t)]]\n",
    "    h = Historian(sources)\n",
    "    p = Plotter(h, t_final, layout=[[\"T1\", \"SP1\"], [\"Q1\"], [\"DV\"]])\n",
    "    \n",
    "    # initialize maximum power for both heaters\n",
    "    lab.P1 = 200\n",
    "    lab.P2 = 200\n",
    "    \n",
    "    # initialize the controller\n",
    "    U1 = next(controller)\n",
    "    lab.Q1(U1)\n",
    "    lab.Q2(DV(0))\n",
    "\n",
    "    # event loop\n",
    "    for t in clock(t_final, t_step):\n",
    "        \n",
    "        # get measurement of process variable T1\n",
    "        T1 = lab.T1\n",
    "        \n",
    "        # send current setpoint and PV to controller\n",
    "        U1 = controller.send((SP(t), T1))\n",
    "        \n",
    "        # update manipulated variable\n",
    "        lab.Q1(U1)\n",
    "        \n",
    "        # simulate disturbance\n",
    "        lab.Q2(DV(t))\n",
    "        \n",
    "        # update the historian\n",
    "        p.update(t)"
   ]
  },
  {
   "cell_type": "markdown",
   "metadata": {},
   "source": [
    "For systems without significant time delay and with properly chosen parameters, proportional control can achieve a fast response to changes in setpoint. Note, however, the steady state may be different than the desired setpoint, sometimes unacceptably different. This steady-state error a short-coming of purely proportional control."
   ]
  },
  {
   "cell_type": "markdown",
   "metadata": {},
   "source": [
    "<hr>\n",
    "\n",
    "**Study Question:** For this simulation, did the proportional control achieve the setpoint? Did proportional control reject the disturbance? How serious is the problem?\n",
    "\n",
    "<hr>"
   ]
  },
  {
   "cell_type": "markdown",
   "metadata": {},
   "source": [
    "### Steady-State Offset\n",
    "\n",
    "Proportional-only control provides no assurance the the process variable will eventually acquire the setpoint. To see this, consider the proportional control law\n",
    "\n",
    "$$MV_k = \\bar{MV} - K_P e_k$$\n",
    "\n",
    "in the limit $k\\rightarrow\\infty$. \n",
    "\n",
    "$$e_{\\infty} = \\frac{\\bar{MV} - MV_{\\infty}}{K_P}$$\n",
    "\n",
    "The error $e_\\infty$ expresses the steady-state difference between a process variable and it setpoint. With proportional control, the only options to reduce steady-state offset are \n",
    "\n",
    "1. Increase $K_P$. This leads to increasing oscillations and relay-like behavior of the manipulated variable.\n",
    "2. Find a perfect initial estimate for $\\bar{MV}$. If we could do this, we wouldn't need feedback control.\n",
    "\n",
    "**A persistent steady-state offset is most significant shortcoming of proportional-only control.**"
   ]
  },
  {
   "cell_type": "markdown",
   "metadata": {},
   "source": [
    "<hr>\n",
    "\n",
    "**Study Question:** Test the simulation for values of $K_p$ that are twice as large, and half as large as demonstrated above. What do you notice about the steady-state error between the desired setpoint and the measured process variable?\n",
    "\n",
    "<hr>"
   ]
  },
  {
   "cell_type": "markdown",
   "metadata": {},
   "source": [
    "## Proportional-Integral (PI) Control"
   ]
  },
  {
   "cell_type": "markdown",
   "metadata": {},
   "source": [
    "### Position form\n",
    "\n",
    "Given a process variable $PV$ and setpoint $SP$, proportional-integral control is defined by the relation\n",
    "\n",
    "\\begin{align}\n",
    "MV(t) & = \\bar{MV} - K_P\\left(PV(t) - SP(t)\\right) - K_I\\int_{-\\infty}^t (PV(t') - SP(t'))\\,dt'\n",
    "\\end{align}\n",
    "\n",
    "or \n",
    "\n",
    "\\begin{align}\n",
    "MV(t) & = \\bar{MV} - K_P e(t) - K_I\\int_{-\\infty}^t e(t') \\,dt'\n",
    "\\end{align}\n",
    "\n",
    "where\n",
    "\n",
    "$$e(t) = PV(t) - SP(t)$$\n",
    "\n",
    "where **$K_P$ is the proportional gain** and **$K_I$ is the integral gain**. When implemented in discrete time with time steps of length $h$, the basic rule for proportional-integral control becomes\n",
    "\n",
    "\\begin{align}\n",
    "MV_k & = \\bar{MV} - K_P(PV_k - SP_k) - h K_I\\sum_{j=0}^{j=k}(PV_j - SP_j)\n",
    "\\end{align}\n",
    "\n",
    "or \n",
    "\n",
    "\\begin{align}\n",
    "MV_k & = \\bar{MV} - K_P e_k - h K_I\\sum_{j=0}^{j=k}e_j\n",
    "\\end{align}\n",
    "\n",
    "where\n",
    "\n",
    "\\begin{align}\n",
    "e_k & = PV_k - SP_k\n",
    "\\end{align}\n",
    "\n",
    "This is the so-called **position form** of PI control. The position form specifies the value (or \"position\") of the manipulated variable stricly in terms of the current and past values of the **error** signal $e_k$. Note the sign convention: A positive error occurs when the process variable is greater than the setpoint. The position form of PI control is rarely used in practice."
   ]
  },
  {
   "cell_type": "markdown",
   "metadata": {},
   "source": [
    "### Velocity form\n",
    "\n",
    "A more common implementation of PI control is done by computing how much the manipulated variable changes at each time step, and incrementing the manipulated variable by that amount. Consecutive values of $MV$ are given by \n",
    "\n",
    "\\begin{align}\n",
    "MV_{k-1} & = \\bar{MV} - K_p e_{k-1} - h K_i \\sum_{j=0}^{k-1} e_{j} \\\\\n",
    "MV_{k} & = \\bar{MV} - K_p e_{k} - h K_i \\sum_{j=0}^{k} e_{j}\n",
    "\\end{align}\n",
    "\n",
    "Taking differences gives a formula for updating the value of $MV$ in response to process measurements or changes in setpoint.\n",
    "\n",
    "\\begin{align}\n",
    "MV_{k} & = MV_{k-1} - K_p(e_{k} - e_{k-1}) - h K_i e_{k}\n",
    "\\end{align}\n",
    "\n",
    "with $MV_0 = \\bar{MV}$. Let's see how this works."
   ]
  },
  {
   "cell_type": "code",
   "execution_count": 28,
   "metadata": {},
   "outputs": [],
   "source": [
    "def PI(Kp, Ki, MV_bar=0):\n",
    "    MV = MV_bar\n",
    "    e_prev = 0\n",
    "    while True:\n",
    "        SP, PV = yield MV\n",
    "        e = PV - SP\n",
    "        MV = MV - Kp*(e - e_prev) - t_step*Ki*e\n",
    "        MV = max(0, min(100, MV))\n",
    "        e_prev = e\n",
    "        "
   ]
  },
  {
   "cell_type": "code",
   "execution_count": 29,
   "metadata": {},
   "outputs": [
    {
     "data": {
      "image/png": "[encoded data removed]",
      "text/plain": [
       "<Figure size 640x360 with 3 Axes>"
      ]
     },
     "metadata": {},
     "output_type": "display_data"
    },
    {
     "name": "stdout",
     "output_type": "stream",
     "text": [
      "TCLab Model disconnected successfully.\n"
     ]
    },
    {
     "data": {
      "image/png": "[encoded data removed]",
      "text/plain": [
       "<Figure size 640x360 with 3 Axes>"
      ]
     },
     "metadata": {},
     "output_type": "display_data"
    }
   ],
   "source": [
    "from tclab import TCLab, clock, Historian, Plotter, setup\n",
    "TCLab = setup(connected=False, speedup=60)\n",
    "\n",
    "def SP(t):\n",
    "    return 40 if t >= 20 else 25\n",
    "\n",
    "def DV(t):\n",
    "    return 100 if t>= 200 else 0\n",
    "\n",
    "controller = PI(3, 0.2)\n",
    "\n",
    "t_final = 600\n",
    "t_step = 2\n",
    "\n",
    "with TCLab() as lab:\n",
    "    sources = [(\"T1\", lambda: lab.T1),\n",
    "               (\"Q1\", lab.Q1),\n",
    "               (\"DV\", lab.Q2),\n",
    "               (\"SP1\", lambda: SP(t))]\n",
    "    h = Historian(sources)\n",
    "    layout = [[\"T1\", \"SP1\"], [\"Q1\"], [\"DV\"]]\n",
    "    p = Plotter(h, t_final, layout=layout)\n",
    "    \n",
    "    # initialize manipulated variable\n",
    "    lab.P1 = 200\n",
    "    lab.P2 = 200\n",
    "    \n",
    "    U1 = next(controller)\n",
    "    lab.Q1(U1)\n",
    "\n",
    "    # event loop\n",
    "    for t in clock(t_final, t_step):\n",
    "        T1 = lab.T1\n",
    "        U1 = controller.send((SP(t), T1))\n",
    "        lab.Q1(U1)\n",
    "        lab.Q2(DV(t))\n",
    "        p.update(t)    "
   ]
  },
  {
   "cell_type": "markdown",
   "metadata": {},
   "source": [
    "As we can see from this example, an important practical property of proportonal-integral control is **steady-state tracking of the setpoint.** In other words, for a steaady setpoint $\\bar{SP}$, at steady-state \n",
    "\n",
    "\\begin{align}\n",
    "\\lim_{k \\rightarrow \\infty} PV_k = \\bar{SP}\n",
    "\\end{align}\n",
    "\n",
    "To see why this is true, start with the velocity form of the proportional-integral controller\n",
    "\n",
    "\\begin{align}\n",
    "MV_{k} & = MV_{k-1} - K_p(e_{k} - e_{k-1}) - h K_i e_{k}\n",
    "\\end{align}\n",
    "\n",
    "At steady-state $MV_{k} = MV_{k-1}$ and $e_{k} = e_{k-1}$ leaving \n",
    "\n",
    "$$h K_i e_{k} = 0 \\implies e_{k} = 0 \\implies PV_{k} = \\bar{SP}$$\n",
    "\n",
    "Steady-state tracking is normally important in chemical process applications. For this reason, PI control is, by far, the most commonly encountered control used in the process industries."
   ]
  },
  {
   "cell_type": "markdown",
   "metadata": {},
   "source": [
    "<hr>\n",
    "\n",
    "**Study Question:** Repeat the simulation experiments using the Ziegler-Nichols and the Astrom and Murray tuning rules for PI control. Compare the magnitude of the recommended control constants. Compare the resulting performance in response to regard to both setpoint tracking and disturbance rejection. Compare:\n",
    "\n",
    "* Maximum overshoot\n",
    "* Damping\n",
    "* Time to acheive steady-state\n",
    "\n",
    "<hr>"
   ]
  },
  {
   "cell_type": "code",
   "execution_count": null,
   "metadata": {},
   "outputs": [],
   "source": []
  }
 ],
 "metadata": {
  "kernelspec": {
   "display_name": "Python 3 (ipykernel)",
   "language": "python",
   "name": "python3"
  },
  "language_info": {
   "codemirror_mode": {
    "name": "ipython",
    "version": 3
   },
   "file_extension": ".py",
   "mimetype": "text/x-python",
   "name": "python",
   "nbconvert_exporter": "python",
   "pygments_lexer": "ipython3",
   "version": "3.9.13"
  }
 },
 "nbformat": 4,
 "nbformat_minor": 4
}

{
 "cells": [
  {
   "cell_type": "markdown",
   "metadata": {},
   "source": [
    "# Chemotaxis\n",
    "\n",
    "**Chemotaxis** is a behavior exhibited by single organisms in response to gradients of certain chemicals. In the presence of gradient of an attractant or repellant, the normally random motion of cells changes causing a net movement towards or away from the source of the chemical. This behavior is contributes to foraging for feed, fleeing from poisons, or to serve the needs of a large organism in development, injury, infection, and reproduction.\n",
    "\n",
    "![](https://upload.wikimedia.org/wikipedia/commons/2/23/Chemotaxis1.jpg)\n",
    "\n",
    "Attribution: By User:Fortinda\n",
    "<a href=\"https://creativecommons.org/licenses/by-sa/4.0\" title=\"Creative Commons Attribution-Share Alike 4.0\">CC BY-SA 4.0</a>, \n",
    " <a href=\"https://commons.wikimedia.org/w/index.php?curid=53871041\">Link</a>\n",
    "\n",
    "\n",
    "For many organisms such as *E. coli*, the movement consists of alternating tumbling and swimming phases. The tumbling results in a new random direction. If cell senses that it is moving in the 'right' direction (i.e., towards an attractant or away from a repellant), the swimming phase will last somewhat longer. The biochemical mechanisms for this behavior is part of a signal transduction pathways for chemotactic organisms."
   ]
  },
  {
   "cell_type": "markdown",
   "metadata": {},
   "source": [
    "## Simulation with Simpy\n",
    "\n",
    "Here we create a simulation of chemotaxis using Simpy. This is an exercise to demonstrate the utility of discrete-event simulation, so no attempt has been made to reproduce results from the current literature on the topic. [See, for example.](https://journals.plos.org/ploscompbiol/article?id=10.1371/journal.pcbi.1007548)\n",
    "\n",
    "Motivated by [Brown and Berg (1974)](https://www.pnas.org/content/71/4/1388), we assume:\n",
    "\n",
    "1. We will confine this simulation to two dimesions, $x$ and $y$.\n",
    "2. The swimming motion consists of alternating 'twiddles' and straight runs. We assume a \"twiddle time\" of 0.1s.\n",
    "3. The twiddles result in a new random direction described by the angle $\\theta$ relative to the $x$ axis.\n",
    "4. The run length depends on the temporal gradient experienced by the cell:\n",
    "    * positive gradients increase the length of runs\n",
    "    * negative gradients have little effect\n",
    "    \n",
    "Followning [a](https://journals.plos.org/ploscompbiol/article?id=10.1371/journal.pcbi.1007548)\n",
    "    \n",
    "$$\\tau = \\begin{cases}\n",
    "\\tau_0 & \\text{for} & \\nabla_{\\|}C \\leq 0 \\\\ \n",
    "\\tau_0\\left(1 + \\frac{\\nabla_{\\|}C}{\\nabla C_0}\\right) & \\text{for} & 0 < \\nabla_{\\|}C  \\leq \\nabla C_0 \\\\\n",
    "2\\tau_0 & \\text{for} & \\nabla_{\\|}C  > \\nabla C_0\n",
    "\\end{cases}$$\n",
    "\n",
    "where $\\nabla C_0$ is the threshold gradient at which the maximum run time is reached, and $\\nabla_{\\|}C$ is a projection of the concentration gradient in the direction of swimming. We will assume *E. coli* swim at an average speed of 25$\\mu$/s, and $\\tau_0$ is one second."
   ]
  },
  {
   "cell_type": "code",
   "execution_count": null,
   "metadata": {},
   "outputs": [
    {
     "ename": "NameError",
     "evalue": "name 'agent' is not defined",
     "output_type": "error",
     "traceback": [
      "\u001b[0;31m---------------------------------------------------------------------------\u001b[0m",
      "\u001b[0;31mNameError\u001b[0m                                 Traceback (most recent call last)",
      "\u001b[0;32m/var/folders/cm/z3t28j296f98jdp1vqyplkz00000gn/T/ipykernel_7256/2583242820.py\u001b[0m in \u001b[0;36m<module>\u001b[0;34m\u001b[0m\n\u001b[1;32m     52\u001b[0m \u001b[0menv\u001b[0m \u001b[0;34m=\u001b[0m \u001b[0msimpy\u001b[0m\u001b[0;34m.\u001b[0m\u001b[0mEnvironment\u001b[0m\u001b[0;34m(\u001b[0m\u001b[0;34m)\u001b[0m\u001b[0;34m\u001b[0m\u001b[0;34m\u001b[0m\u001b[0m\n\u001b[1;32m     53\u001b[0m \u001b[0;32mfor\u001b[0m \u001b[0mn\u001b[0m \u001b[0;32min\u001b[0m \u001b[0mrange\u001b[0m\u001b[0;34m(\u001b[0m\u001b[0;36m1000\u001b[0m\u001b[0;34m)\u001b[0m\u001b[0;34m:\u001b[0m\u001b[0;34m\u001b[0m\u001b[0;34m\u001b[0m\u001b[0m\n\u001b[0;32m---> 54\u001b[0;31m     \u001b[0menv\u001b[0m\u001b[0;34m.\u001b[0m\u001b[0mprocess\u001b[0m\u001b[0;34m(\u001b[0m\u001b[0magent\u001b[0m\u001b[0;34m(\u001b[0m\u001b[0mn\u001b[0m\u001b[0;34m,\u001b[0m \u001b[0mnp\u001b[0m\u001b[0;34m.\u001b[0m\u001b[0mrandom\u001b[0m\u001b[0;34m.\u001b[0m\u001b[0muniform\u001b[0m\u001b[0;34m(\u001b[0m\u001b[0;36m0\u001b[0m\u001b[0;34m,\u001b[0m \u001b[0mx_max\u001b[0m\u001b[0;34m)\u001b[0m\u001b[0;34m,\u001b[0m \u001b[0mnp\u001b[0m\u001b[0;34m.\u001b[0m\u001b[0mrandom\u001b[0m\u001b[0;34m.\u001b[0m\u001b[0muniform\u001b[0m\u001b[0;34m(\u001b[0m\u001b[0;36m0\u001b[0m\u001b[0;34m,\u001b[0m \u001b[0my_max\u001b[0m\u001b[0;34m)\u001b[0m\u001b[0;34m)\u001b[0m\u001b[0;34m)\u001b[0m\u001b[0;34m\u001b[0m\u001b[0;34m\u001b[0m\u001b[0m\n\u001b[0m\u001b[1;32m     55\u001b[0m \u001b[0menv\u001b[0m\u001b[0;34m.\u001b[0m\u001b[0mrun\u001b[0m\u001b[0;34m(\u001b[0m\u001b[0muntil\u001b[0m\u001b[0;34m=\u001b[0m\u001b[0;36m1000\u001b[0m\u001b[0;34m)\u001b[0m\u001b[0;34m\u001b[0m\u001b[0;34m\u001b[0m\u001b[0m\n",
      "\u001b[0;31mNameError\u001b[0m: name 'agent' is not defined"
     ]
    }
   ],
   "source": [
    "%matplotlib inline\n",
    "\n",
    "import matplotlib.pyplot as plt\n",
    "import numpy as np\n",
    "import simpy\n",
    "\n",
    "# dimension in mm\n",
    "x_max = 10.0   \n",
    "y_max = 10.0\n",
    "tau = 1.0\n",
    "V = 0.025\n",
    "\n",
    "# dictionary to store tracks of each bacteria\n",
    "tracks = {}\n",
    "\n",
    "# concentration gradient\n",
    "def C(x, y):\n",
    "    return 1.0*x\n",
    "\n",
    "# agent model\n",
    "def swimmer(id, x_pos, y_pos):\n",
    "    \n",
    "    #  store initial position of particle n\n",
    "    tracks[id] = {0: (x_pos, y_pos)}\n",
    "    \n",
    "    # variable to track distance traveled\n",
    "    s = 0\n",
    "    \n",
    "    # angle traveliing\n",
    "    a = np.random.uniform(0, 2*np.pi)\n",
    "    \n",
    "    # velocity\n",
    "    vx, vy = v*np.cos(a), v*np.sin(a)\n",
    "    \n",
    "    while True:\n",
    "        yield env.timeout(dt)\n",
    "        dx = vx*dt\n",
    "        dy = vy*dt\n",
    "        x += dx\n",
    "        y += dy\n",
    "        track[n][env.now] = (x, y)\n",
    "        p = np.random.uniform()\n",
    "        if p <= 1.0*c(x,y)/(1 + c(x,y)):\n",
    "            s = 0\n",
    "        else:\n",
    "            s += np.sqrt(dx**2 + dy**2)\n",
    "        if s >= 2.0:\n",
    "            s = 0\n",
    "            a = np.random.uniform(0, 2*np.pi)\n",
    "            vx, vy = v*np.cos(a), v*np.sin(a)\n",
    "    \n",
    "env = simpy.Environment()\n",
    "for n in range(1000):\n",
    "    env.process(agent(n, np.random.uniform(0, x_max), np.random.uniform(0, y_max)))\n",
    "env.run(until=1000)"
   ]
  },
  {
   "cell_type": "code",
   "execution_count": null,
   "metadata": {},
   "outputs": [
    {
     "ename": "NameError",
     "evalue": "name 'track' is not defined",
     "output_type": "error",
     "traceback": [
      "\u001b[0;31m---------------------------------------------------------------------------\u001b[0m",
      "\u001b[0;31mNameError\u001b[0m                                 Traceback (most recent call last)",
      "\u001b[0;32m/var/folders/cm/z3t28j296f98jdp1vqyplkz00000gn/T/ipykernel_7256/693317792.py\u001b[0m in \u001b[0;36m<module>\u001b[0;34m\u001b[0m\n\u001b[1;32m      1\u001b[0m \u001b[0mfig\u001b[0m\u001b[0;34m,\u001b[0m \u001b[0max\u001b[0m \u001b[0;34m=\u001b[0m \u001b[0mplt\u001b[0m\u001b[0;34m.\u001b[0m\u001b[0msubplots\u001b[0m\u001b[0;34m(\u001b[0m\u001b[0;36m1\u001b[0m\u001b[0;34m,\u001b[0m \u001b[0;36m1\u001b[0m\u001b[0;34m,\u001b[0m \u001b[0mfigsize\u001b[0m\u001b[0;34m=\u001b[0m\u001b[0;34m(\u001b[0m\u001b[0;36m10\u001b[0m\u001b[0;34m,\u001b[0m \u001b[0;36m10\u001b[0m\u001b[0;34m)\u001b[0m\u001b[0;34m)\u001b[0m\u001b[0;34m\u001b[0m\u001b[0;34m\u001b[0m\u001b[0m\n\u001b[1;32m      2\u001b[0m \u001b[0;34m\u001b[0m\u001b[0m\n\u001b[0;32m----> 3\u001b[0;31m \u001b[0;32mfor\u001b[0m \u001b[0mn\u001b[0m \u001b[0;32min\u001b[0m \u001b[0mtrack\u001b[0m\u001b[0;34m.\u001b[0m\u001b[0mkeys\u001b[0m\u001b[0;34m(\u001b[0m\u001b[0;34m)\u001b[0m\u001b[0;34m:\u001b[0m\u001b[0;34m\u001b[0m\u001b[0;34m\u001b[0m\u001b[0m\n\u001b[0m\u001b[1;32m      4\u001b[0m     \u001b[0mpos\u001b[0m \u001b[0;34m=\u001b[0m \u001b[0mtrack\u001b[0m\u001b[0;34m[\u001b[0m\u001b[0mn\u001b[0m\u001b[0;34m]\u001b[0m\u001b[0;34m.\u001b[0m\u001b[0mvalues\u001b[0m\u001b[0;34m(\u001b[0m\u001b[0;34m)\u001b[0m\u001b[0;34m\u001b[0m\u001b[0;34m\u001b[0m\u001b[0m\n\u001b[1;32m      5\u001b[0m     \u001b[0max\u001b[0m\u001b[0;34m.\u001b[0m\u001b[0mplot\u001b[0m\u001b[0;34m(\u001b[0m\u001b[0;34m[\u001b[0m\u001b[0mx\u001b[0m \u001b[0;32mfor\u001b[0m \u001b[0mx\u001b[0m\u001b[0;34m,\u001b[0m\u001b[0my\u001b[0m \u001b[0;32min\u001b[0m \u001b[0mpos\u001b[0m\u001b[0;34m]\u001b[0m\u001b[0;34m,\u001b[0m \u001b[0;34m[\u001b[0m\u001b[0my\u001b[0m \u001b[0;32mfor\u001b[0m \u001b[0mx\u001b[0m\u001b[0;34m,\u001b[0m\u001b[0my\u001b[0m \u001b[0;32min\u001b[0m \u001b[0mpos\u001b[0m\u001b[0;34m]\u001b[0m\u001b[0;34m,\u001b[0m \u001b[0mlw\u001b[0m\u001b[0;34m=\u001b[0m\u001b[0;36m0.6\u001b[0m\u001b[0;34m,\u001b[0m \u001b[0malpha\u001b[0m\u001b[0;34m=\u001b[0m\u001b[0;36m0.6\u001b[0m\u001b[0;34m)\u001b[0m\u001b[0;34m\u001b[0m\u001b[0;34m\u001b[0m\u001b[0m\n",
      "\u001b[0;31mNameError\u001b[0m: name 'track' is not defined"
     ]
    },
    {
     "data": {
      "image/png": "[encoded data removed]",
      "text/plain": [
       "<Figure size 720x720 with 1 Axes>"
      ]
     },
     "metadata": {
      "needs_background": "light"
     },
     "output_type": "display_data"
    }
   ],
   "source": [
    "fig, ax = plt.subplots(1, 1, figsize=(10, 10))\n",
    "\n",
    "for n in track.keys():\n",
    "    pos = track[n].values()\n",
    "    ax.plot([x for x,y in pos], [y for x,y in pos], lw=0.6, alpha=0.6)\n",
    "    \n",
    "ax.axis('equal')\n",
    "ax.axis('square')"
   ]
  },
  {
   "cell_type": "code",
   "execution_count": 23,
   "metadata": {},
   "outputs": [
    {
     "data": {
      "image/png": "[encoded data removed]",
      "text/plain": [
       "<Figure size 432x288 with 1 Axes>"
      ]
     },
     "metadata": {
      "needs_background": "light"
     },
     "output_type": "display_data"
    }
   ],
   "source": [
    "plt.hist([x for x,y in pos], bins = 100);"
   ]
  },
  {
   "cell_type": "code",
   "execution_count": null,
   "metadata": {},
   "outputs": [],
   "source": []
  }
 ],
 "metadata": {
  "kernelspec": {
   "display_name": "Python 3 (ipykernel)",
   "language": "python",
   "name": "python3"
  },
  "language_info": {
   "codemirror_mode": {
    "name": "ipython",
    "version": 3
   },
   "file_extension": ".py",
   "mimetype": "text/x-python",
   "name": "python",
   "nbconvert_exporter": "python",
   "pygments_lexer": "ipython3",
   "version": "3.9.7"
  }
 },
 "nbformat": 4,
 "nbformat_minor": 4
}

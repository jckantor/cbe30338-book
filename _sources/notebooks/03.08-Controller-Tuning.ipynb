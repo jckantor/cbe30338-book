{
 "cells": [
  {
   "cell_type": "markdown",
   "metadata": {},
   "source": [
    "# Controller Tuning"
   ]
  },
  {
   "cell_type": "markdown",
   "metadata": {},
   "source": [
    "## Learning Goals\n",
    "\n",
    "Up to this point we have been discussing the theory and implementation of Proportional and Proportional-Integral control. The controllers have been specified with several parameters $K_p$, $K_I$, and the sampling time step. The purpose of this notebook is to describe methods for the practical determination of these parameters."
   ]
  },
  {
   "cell_type": "markdown",
   "metadata": {},
   "source": [
    "## Glossary\n",
    "\n",
    "Process Variable (PV)\n",
    ": A process measurement. Guiding this variable to a desired target may be direct target of the control system, or it may be a proxy for a variable that cannot be directly measured. Example: Speed of a car.  Example: Measured temperature of the TCLab device.\n",
    "\n",
    "Manipulated Variable (MV):\n",
    ": A process variable that is manipulated in order to acheive the control objective.  Example: Throttle setting on a car.\n",
    "\n",
    "Disturbance Variable (DV):\n",
    ": Any process variable that may change and cause the process variable (PV) to change in undesired manner.\n",
    "\n",
    "Setpoint (SP):\n",
    ": A signal indicating the desired value for a measured process variable.\n",
    "\n",
    "Proportional Gain ($K_P$)\n",
    ": The control parameter determining the magnitude of the proportional control term in P, PI, and PID control\n",
    "\n",
    "Integral Gain ($K_I$)\n",
    ": The control parameter determining the magnitude of the integral control term."
   ]
  },
  {
   "cell_type": "markdown",
   "metadata": {},
   "source": [
    "## Typical P&ID Diagram for PI and PID control.\n",
    "\n",
    "Refer to this diagram for a typical \n",
    "\n",
    "![](https://cdn.instrumentationtools.com/wp-content/uploads/2020/01/Identify-Process-Variables-in-PID.png)"
   ]
  },
  {
   "cell_type": "markdown",
   "metadata": {},
   "source": [
    "## Versions of P, PI, and PID Control\n",
    "\n",
    "### Error Signal\n",
    "\n",
    "The error signal measures the difference \n",
    "\n",
    "$$e(t) = SP(t) - PV(t)$$\n",
    "\n",
    "### Idealized (Textbook) PID control\n",
    "\n",
    "Textbook equations, Position Form\n",
    "\n",
    "$$MV = \\bar{MV} + \\underbrace{K_P (SP - PV)}_{\\text{proportional}} \n",
    "    + \\underbrace{K_I \\int^t (SP - PV) dt}_{\\text{integral}}\n",
    "    + \\underbrace{K_D \\frac{d}{dt}(SP-PV)}_{\\text{derivative}}$$\n",
    "    \n",
    "Expressed with error signal\n",
    "    \n",
    "$$MV = \\bar{MV} + \\underbrace{K_P e(t)}_{\\text{proportional}} \n",
    "    + \\underbrace{K_I \\int^t e(t) dt}_{\\text{integral}}\n",
    "    + \\underbrace{K_D \\frac{d}{dt}e(t)}_{\\text{derivative}}$$\n",
    "\n",
    "\n",
    "Discrete-time Version for TCLab\n",
    "\n",
    "$$MV_k = \\bar{MV} + \\underbrace{K_P(SP_k - PV_k)}_{\\text{proportional}} + \\underbrace{\\delta t K_I \\sum^k (SP_k - PV_k)}_{\\text{integral}}$$\n",
    "\n",
    "* Proportional Control: Reduces system time constants. Too much leads to overshoot and excessive control action.\n",
    "* Integral Control: Eliminates steady-state offset. Tends to slow-down and destablize control.\n",
    "* Derivative Control: Mitigates fast changes in PV.  Not as important as P and PI for most process control applications.\n",
    "\n",
    "### Practical PI Control\n",
    "\n",
    "Problems with textbook control:\n",
    "\n",
    "1. Position Form: How to choose $\\bar{MV}$?\n",
    "2. Reset (also called Integral) windup due to limits on manipulated variable.\n",
    "3. Abrupt changes (\"Bumps\") on transition from manual to automatic control.\n",
    "\n",
    "Three changes to the textbook control rule:\n",
    "\n",
    "* **Velocity form**. Compute updates to $MV$\n",
    "* **Anti-reset windup**. Limit MV to feasible limits. Use measured MV if available.\n",
    "* **Bumpless transfer**. Leave SP out of the proportional control term."
   ]
  },
  {
   "cell_type": "markdown",
   "metadata": {},
   "source": [
    "Given:\n",
    "\n",
    "* parameter values $\\delta t$, $K_P$, $K_I$, $MV_{min}$, $MV_{out}$\n",
    "* prior values $PV_{k-1}$\n",
    "* current values for $PV_k$, $SP_k$, $MV_k$ (if available):\n",
    "\n",
    "\\begin{align}\n",
    "\\\\\n",
    "E_k & = PV_k - SP_k & \\text{Error} \\\\\n",
    "\\\\\n",
    "\\hat{MV}_{k} & = MV_{k-1} - K_p(PV_{k} - PV_{k-1}) - \\delta t K_i E_{k} & \\text{Tentative update to MV}\\\\\n",
    "\\\\\n",
    "MV_k & = \\max(MV^{min}, \\min(MV^{max}, \\hat{MV}_k) & \\text{limit MV}\n",
    "\\end{align}"
   ]
  },
  {
   "cell_type": "markdown",
   "metadata": {},
   "source": [
    "## PI Control for Temperature Control Lab"
   ]
  },
  {
   "cell_type": "markdown",
   "metadata": {},
   "source": [
    "![](figures/sequence-PID-1.png)"
   ]
  },
  {
   "cell_type": "code",
   "execution_count": 23,
   "metadata": {},
   "outputs": [],
   "source": [
    "# caution: this is not a final version of our PI controller\n",
    "def PI(Kp, Ki, MV_bar=0):\n",
    "    MV = MV_bar\n",
    "    e_prev = 0\n",
    "    while True:\n",
    "        t_step, SP, PV = yield MV\n",
    "        e = PV - SP\n",
    "        MV = MV - Kp*(e - e_prev) - t_step*Ki*e\n",
    "        e_prev = e"
   ]
  },
  {
   "cell_type": "markdown",
   "metadata": {},
   "source": [
    "The benefits of using the `yield` statement is that we can use the same code to create multiple instances of controller, each with it's own parameters and state. The communication between the main event loop and a controller instance is illustrated in this diagram:\n",
    "\n",
    "![](https://jckantor.github.io/cbe30338-2021/figures/controller-coroutine.png)\n",
    "\n",
    "The following cells demonstrate performance of the controller when subject to a step change in setpoint and a disturbance input."
   ]
  },
  {
   "cell_type": "code",
   "execution_count": 4,
   "metadata": {},
   "outputs": [],
   "source": [
    "from tclab import TCLab, clock, Historian, Plotter, setup\n",
    "\n",
    "def experiment_3(controller, t_final=1000, t_step=5,\n",
    "               SP=lambda t: 40 if t >= 20 else 0, \n",
    "               DV=lambda t: 100 if t >= 420 else 0,\n",
    "               MV=lambda t: 25 if t <= 100 else None):   # <== manipulated variable. Return none for auto\n",
    "    TCLab = setup(connected=False, speedup=60)\n",
    "    with TCLab() as lab:\n",
    "\n",
    "        # set up historian and plotter\n",
    "        sources = ((\"T1\", lambda: lab.T1), (\"SP\", lambda: SP(t)), \n",
    "                   (\"U1\", lambda: U1), (\"Q1\", lab.Q1))\n",
    "        h = Historian(sources)\n",
    "        p = Plotter(h, t_final, layout=[(\"T1\", \"SP\"), (\"Q1\", \"U1\")])\n",
    "\n",
    "        # initialize manipulated variable\n",
    "        lab.P1 = 200\n",
    "        lab.Q1(next(controller))\n",
    "\n",
    "        # event loop\n",
    "        for t in clock(t_final, t_step):\n",
    "            T1 = lab.T1\n",
    "            U1 = lab.Q1()\n",
    "            if MV(t) is None:           \n",
    "                U1 = controller.send((t_step, SP(t), T1, U1))    # automatic control\n",
    "            else:\n",
    "                U1 = MV(t)                                       # manual control\n",
    "            lab.Q1(U1)\n",
    "            lab.Q2(DV(t))\n",
    "            p.update(t)  \n",
    "            "
   ]
  },
  {
   "cell_type": "code",
   "execution_count": 5,
   "metadata": {},
   "outputs": [
    {
     "data": {
      "image/png": "[encoded data removed]",
      "text/plain": [
       "<Figure size 640x240 with 2 Axes>"
      ]
     },
     "metadata": {},
     "output_type": "display_data"
    },
    {
     "name": "stdout",
     "output_type": "stream",
     "text": [
      "TCLab Model disconnected successfully.\n"
     ]
    },
    {
     "data": {
      "image/png": "[encoded data removed]",
      "text/plain": [
       "<Figure size 640x240 with 2 Axes>"
      ]
     },
     "metadata": {
      "needs_background": "light"
     },
     "output_type": "display_data"
    }
   ],
   "source": [
    "# add anti-integral windup feature.\n",
    "\n",
    "def PI_bumpless(Kp, Ki, MV_bar=0, MV_min=0, MV_max=100):\n",
    "    MV = MV_bar\n",
    "    PV_prev = None\n",
    "    while True:\n",
    "        t_step, SP, PV, MV = yield MV \n",
    "        e = PV - SP\n",
    "        if PV_prev is not None:\n",
    "            MV += -Kp*(PV - PV_prev) - t_step*Ki*e \n",
    "            MV = max(MV_min, min(MV_max, MV))\n",
    "        PV_prev = PV\n",
    "        \n",
    "experiment_3(PI_bumpless(10, 0.5))"
   ]
  },
  {
   "cell_type": "markdown",
   "metadata": {
    "tags": []
   },
   "source": [
    "## Empirical Tuning Rules"
   ]
  },
  {
   "cell_type": "markdown",
   "metadata": {
    "tags": []
   },
   "source": [
    "There are a number of **tuning rules** in the literature that provide recommended values for the proportional gain $K_P$. These rules require process information obtained from testing. "
   ]
  },
  {
   "cell_type": "markdown",
   "metadata": {
    "tags": []
   },
   "source": [
    "### Rules based on Step Reponse\n",
    "\n",
    "![](https://cdn-images-1.medium.com/max/421/1*I4X51TgnOaR7CifBWmRFlA.png)\n",
    "\n",
    "For a first-order plus time-delay (FOPTD), the available process information includes gain $K$, process time constant $T$, and process time delay $\\tau$.\n",
    "\n",
    "Tuning rules are developed based on acheiving some performance criteria. Typical criteria include measures liks\n",
    "\n",
    "\\begin{align}\n",
    "\\text{IAE} & = \\int_0^{\\infty} |e(t)|dt \\qquad \\text{Integral Absolute Error}\\\\\n",
    "\\text{ISE} & = \\int_0^{\\infty} |e(t)|^2dt \\qquad \\text{Integral Square Error}\\\\\n",
    "\\text{ITAE} & = \\int_0^{\\infty} t|e(t)|dt \\qquad \\text{Integral Time Absolute Error}\\\\\n",
    "\\end{align}\n",
    "\n",
    "Among the best known and commonly used tuning rules are listed in the following table (also see Astrom and Murray, Chapter 11):\n",
    "\n",
    "| Type | $K_P$ | $K_I$ |\n",
    "| :---: | :---: | :---: |\n",
    "| P (Ziegler-Nichols) | $\\frac{T}{K\\tau}$ | |\n",
    "| PI (Astrom and Murray) | $\\frac{0.15\\tau + 0.35T}{K\\tau}$ | $\\frac{0.46\\tau + 0.02T}{K\\tau^2}$ |\n",
    "| PI (Aggressvie IMC) | $\\frac{T}{K(\\tau + \\max(0.1T, 0.8\\tau)}$ | $\\frac{1}{K(\\tau + \\max(0.1T, 0.8\\tau)}$ |\n",
    "| PI (ITAE Tuning) | $\\frac{0.586}{K}\\left(\\frac{\\tau}{T}\\right)^{-0.916}$  | $\\frac{1.03  -  0 .165\\left(\\frac{\\tau}{T}\\right)}{T}K_P$ |\n",
    "| PI (Morari and Zafiriou) | $\\frac{T + 0.5\\tau}{1.7 K \\tau}$ | $\\frac{1}{1.7K}$ |\n",
    "| PI (Ziegler-Nichols) | $\\frac{0.9 T}{K\\tau}$ | $\\frac{0.3T}{K\\tau^2}$ |"
   ]
  },
  {
   "cell_type": "markdown",
   "metadata": {},
   "source": [
    "### Rules based on Closed Loop Testing\n",
    "\n",
    "* https://d1.amobbs.com/bbs_upload782111/files_36/ourdev_614499E39LAH.pdf\n",
    "* https://en.wikipedia.org/wiki/Ziegler%E2%80%93Nichols_method\n",
    "\n"
   ]
  },
  {
   "cell_type": "code",
   "execution_count": null,
   "metadata": {},
   "outputs": [],
   "source": []
  }
 ],
 "metadata": {
  "kernelspec": {
   "display_name": "Python 3 (ipykernel)",
   "language": "python",
   "name": "python3"
  },
  "language_info": {
   "codemirror_mode": {
    "name": "ipython",
    "version": 3
   },
   "file_extension": ".py",
   "mimetype": "text/x-python",
   "name": "python",
   "nbconvert_exporter": "python",
   "pygments_lexer": "ipython3",
   "version": "3.9.7"
  }
 },
 "nbformat": 4,
 "nbformat_minor": 4
}

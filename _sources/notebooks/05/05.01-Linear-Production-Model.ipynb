{
 "cells": [
  {
   "cell_type": "markdown",
   "metadata": {
    "slideshow": {
     "slide_type": "slide"
    }
   },
   "source": [
    "# Linear Production Model"
   ]
  },
  {
   "cell_type": "markdown",
   "metadata": {},
   "source": [
    "This notebook demonstrates the use of linear programming to maximize profit for a simple model of a multiproduct production facility. The notebook uses [Pyomo](http://www.pyomo.org/) to represent the model."
   ]
  },
  {
   "cell_type": "code",
   "execution_count": 5,
   "metadata": {},
   "outputs": [],
   "source": [
    "# install Pyomo and solvers for Google Colab\n",
    "import sys\n",
    "if \"google.colab\" in sys.modules:\n",
    "    !wget -N -q https://raw.githubusercontent.com/jckantor/MO-book/main/tools/install_on_colab.py \n",
    "    %run install_on_colab.py"
   ]
  },
  {
   "cell_type": "markdown",
   "metadata": {},
   "source": [
    "## Learning Goals\n",
    "\n",
    "This notebook introduces core concepts in the application of optimization techniques using a simple production planning problem. \n",
    "\n",
    "### Optimization\n",
    "\n",
    "**Optimization** is a the process of finding a \"best\" solution to a problem with multiple degrees of freedom. The components of an optimization problem are:\n",
    "\n",
    "* **Decision Variables**: The degrees of freedom associated with a particular application. Examples might include how much of each raw material to use in a blended product, the value of a manipulated variable in feedback control, or the timing and sequencing of batch operations.\n",
    "\n",
    "* **Constraints**: Equations or inequalities the determine the set of possible solutions to a problem. There can be many constraints in a optimization problem.\n",
    "\n",
    "* **Objective**: A function of the decision variables that is to be either minimized or maximized. There is one optimization objective.\n",
    "\n",
    "### Modeling for Optimization\n",
    "\n",
    "**Modeling** for optimization is the process of creating a mathematical description of an optimization problem. \n",
    "\n",
    "**Algebraic Modeling Languages (AML)** are a software systems for specifying and computing solutions to optimization problems. The are many examples of AML's in current use. AML are **descriptive**, not procedural. They are used to specify the problem, a numerical solution is found in a separate step using a **solver**.\n",
    "\n",
    "**Pyomo** is a fully featured AML embedded in Python that is well suited to modeling optimization problems for process systems. This notebook demonstrates key steps in creating a Pyomo model for a simple application. \n",
    "\n",
    "* `import pyomo.environ as pyo` is the standard way to import pyomo into a python application. Note that Pyomo and at least one solver must be installed prior to this step.\n",
    "\n",
    "* `model = pyo.ConcreteModel()` creates a empty model named `model`. You can choose any valid Python name. \n",
    "\n",
    "* `model.x = pyo.Var(domain=pyo.NonNegativeReals)` creates a new decision variable named `model.x` within the model.\n",
    "\n",
    "* Constraints are specifed with Python functions that return logical relationships (`==`, `<=`, or `>=`) between two expressions involving the decision variables. A function is designated as a constraint with a decorator `model.Constraint()`, see examples below.\n",
    "\n",
    "* An objective is specified with a Python function that returns an expression. An objective can be either minimized or maximized. A function is designated as an objective with the `model.Objective(sense=pyo.minimize)` or `model.Objective(sense=pyo.maximize)` decorator.\n",
    "\n",
    "**Decorators** are a Python feature used to modify a function. Pyomo uses decorators to designate constraints, objectives, and several types of optimization objects that will be introduced in subsequent notebooks. You can think of it as a way of tagging functions with a special purpose. Decorators are implemented in Python as functions that process other functions, but those details are not needed for Pyomo modeling.\n",
    "\n",
    "### Solving Optimization Problems\n",
    "\n",
    "**Linear Programming**: Optimization models are catorgized by their mathematical features. Solving problems with a one linear objective and multiple linear constraints is called **Linear Programming (LP)**. The problem below is a linear programming problem. \n",
    "\n",
    "**Solvers**: Linear programming has an enormous range of applications in business, logistics, and large scale planning problems involving up to millions of decision variables. The first practical algorithms were developed in the 1940's in the course of solving planning problems for the US Army Air Force. Since then, providing solvers for large scale linear programming has become a highly competitive commercial business. The commercial leaders are:\n",
    "\n",
    "* **CPLEX** Founded in 1988, sold in 1997 to ILOG, later sold to IBM in 2009. This is the foundation of IBM's optimization business.\n",
    "\n",
    "* **Gurobi**  Founded in 2008 by some of the same people involved in founding CPLEX. Generally considered the highest performing solver for large scale applications.\n",
    "\n",
    "* **FICO Xpress**  Started in 1983 as an LP solver for PCs. Currently owned by FICO. Fast, robust, and many features beyond linear programming.\n",
    "\n",
    "There are many, many other solvers from open-source projects, or specialized for specific applications.\n",
    "\n",
    "### Additional Terminology\n",
    "\n",
    "Regarding solutions:\n",
    "\n",
    "* **Feasible Solution**: Any value of the decisions variables that satisfy all constraints.\n",
    "\n",
    "* **Infeasible Solution**: Any value of the decisions variables that does not satisfy all constraints.\n",
    "\n",
    "* **Optimal Solution**: A feasible solution that resulting in the smallest (minimization) or largest (maximization) value for the objective.\n",
    "\n",
    "* **Active Constraints**: The constraints that are 'active' at the optimal solution. Tiny changes in the parameters of an active consraint will affect the solution.\n",
    "\n",
    "* **Inactive Constraints**: Constraints that are not active at the optimal solution.  Tiny changes in the parameters of an inactive constraint will have no effect on the optimal solution.\n",
    "\n",
    "Regarding problems:\n",
    "\n",
    "* **Infeasible Problem**: A problem with no feasible solutions.\n",
    "\n",
    "* **Feasible Region** The set of all feasible solutions.\n",
    "\n",
    "* **Unbounded Problem**: A problem that admits a feasible solution with unbounded value for the objective.  \n",
    "\n",
    "\n",
    "\n"
   ]
  },
  {
   "cell_type": "markdown",
   "metadata": {
    "slideshow": {
     "slide_type": "slide"
    }
   },
   "source": [
    "## Example: Production Plan for a Single Product Plant"
   ]
  },
  {
   "cell_type": "markdown",
   "metadata": {},
   "source": [
    "Suppose you are thinking about starting up a business to produce Product X. You have determined there is a market for X of up to 40 units per week at a price of \\$270 each. The production of each unit requires \\$100 of raw materials, 1 hour of type A labor, and 2 hours of type B labor. You have an unlimited amount of raw material available to you, but only 80 hours per week of labor A at a cost of \\$50/hour, and 100 hours per week of labor B at a cost of \\$40 per hour. Ignoring all other expenses, what is the maximum weekly profit?\n",
    "\n",
    "To get started on this problem, we sketch a flow diagram illustrating the flow of raw materials and labor through the production plant."
   ]
  },
  {
   "cell_type": "markdown",
   "metadata": {},
   "source": [
    "\n",
    "![LP_ProductX.png](../figures/LP_ProductX.png)"
   ]
  },
  {
   "cell_type": "markdown",
   "metadata": {},
   "source": [
    "The essential decision we need to make is how many units or Product X to produce each week. That's our *decision variable* which we denote as $x$. The weekly revenues are then\n",
    "\n",
    "$$ \\mbox{Revenue} = \\$270 x $$\n",
    "\n",
    "The costs include the value of the raw materials and each form of labor. If we produce x units a week, then the total cost is\n",
    "\n",
    "$$ \\mbox{Cost} = \\underbrace{\\$100 x}_{\\mbox{Raw Material}} \n",
    "    + \\underbrace{\\$50 x}_{\\mbox{Labor A}} + \\underbrace{2\\times\\$40 x}_{\\mbox{Labor B}} = \\$230 x$$\n",
    "    \n",
    "We see immediately that the gross profit is just\n",
    "\n",
    "$$\\begin{eqnarray*}\\mbox{Profit} & = & \\mbox{Revenue} - \\mbox{Cost} \\\\\n",
    "& = & \\$270x - \\$230x \\\\\n",
    "& = & \\$40 x\n",
    "\\end{eqnarray*}$$\n",
    "\n",
    "which means there is a profit earned on each unit of X produced, so let's produce as many as possible. \n",
    "\n",
    "There are three constraints that limit how many units can be produced. There is market demand for no more than 40 units per week. Producing $x = 40$ units per week will require 40 hours per week of Labor A, and 80 hours per week of Labor B. Checking those constraints we see that we have enough labor of each type, so the maximum profit will be\n",
    "\n",
    "$$\\max \\mbox{Profit} = $40 \\mbox{ per unit} \\times 40 \\mbox{ units per week} = \\$1600 \\mbox{ per week}$$\n",
    "\n",
    "What we conclude is that market demand is the 'most constraining constraint.' Once we've made that deduction, the rest is a straightforward problem that can be solved by inspection.  "
   ]
  },
  {
   "cell_type": "markdown",
   "metadata": {},
   "source": [
    "### Mathematical Model\n",
    "\n",
    "Even though this example has a straightforward solution, it is useful to consider how it can be represented mathematically, and solved using typical tools for linear programming.\n",
    "\n",
    "The mathematical representation consists of a single non-negative decision variable, $x$, an objective function, and a set of linear constraints.  Here we include all constraints even though we know only one of them -- the most 'constraining constraint' -- will be active.\n",
    "\n",
    "$$\\begin{align}\n",
    "\\max_{x \\geq 0} &\\ 40\\ x  & \\mbox{objective}\\\\\n",
    "\\mbox{subject to:}\\qquad \\\\\n",
    "x & \\leq 40  & \\mbox{demand constraint} \\\\\n",
    "x & \\leq 80  & \\mbox{labor A constraint} \\\\\n",
    "2\\ x & \\leq 100 & \\mbox{labor B constraint}\n",
    "\\end{align}$$\n",
    "\n",
    "All of these constraints must be satisfied, therefore the demand constraint is the 'most constrainting'. Again, the maximum value of $x$ is 40, so the maximum profit is $\\$ 40 \\times 40 = \\$1,600$."
   ]
  },
  {
   "cell_type": "markdown",
   "metadata": {},
   "source": [
    "### Exercises"
   ]
  },
  {
   "cell_type": "markdown",
   "metadata": {},
   "source": [
    "1. Suppose the demand could be increased to 50 units per month. What would be the increased profits?  What if the demand increased to 60 units per month?  How much would you be willing to pay for your marketing department for the increased demand?\n",
    "\n",
    "2. Increase the cost of LaborB. At what point is it no longer financially viable to run the plant?"
   ]
  },
  {
   "cell_type": "markdown",
   "metadata": {
    "slideshow": {
     "slide_type": "slide"
    }
   },
   "source": [
    "## Production Plan: Product Y"
   ]
  },
  {
   "cell_type": "markdown",
   "metadata": {},
   "source": [
    "Your marketing department has developed plans for a new product called Y. The product sells at a price of \\\\$210 each, and they expect that you can sell all that you can make. It's also cheaper to make, requiring only \\\\$90 in raw materials, 1 hour of Labor type A at \\\\$50 per hour, and 1 hour of Labor B at \\\\$40 per hour. What is the potential weekly profit?"
   ]
  },
  {
   "cell_type": "markdown",
   "metadata": {},
   "source": [
    "![LP_ProductY.png](../figures/LP_ProductY.png)"
   ]
  },
  {
   "cell_type": "markdown",
   "metadata": {},
   "source": [
    "The analysis proceeds in the same form as Product X. In this case the revenue is given by\n",
    "\n",
    "$$ \\mbox{Revenue} = \\$210 y $$\n",
    "\n",
    "The total cost is\n",
    "\n",
    "$$ \\mbox{Cost} = \\underbrace{\\$90 x}_{\\mbox{Raw Material}} \n",
    "    + \\underbrace{\\$50 x}_{\\mbox{Labor A}} + \\underbrace{\\$40 x}_{\\mbox{Labor B}} = \\$180 x$$\n",
    "    \n",
    "The gross profit is thn\n",
    "\n",
    "$$\\begin{eqnarray}\\mbox{Profit} & = & \\mbox{Revenue} - \\mbox{Cost} \\\\\n",
    "& = & \\$210x - \\$180x \\\\\n",
    "& = & \\$30 x\n",
    "\\end{eqnarray}$$\n",
    "\n",
    "We see the profit per unit of Y is smaller. So a decision to produce Y instead of X must be based on the ability to make Y in larger quantities.\n",
    "\n",
    "The mathematical formulation of this problem becomes\n",
    "\n",
    "$$\\begin{align}\n",
    "\\max_{y \\geq 0} &\\ 30\\ y  & \\mbox{objective}\\\\\n",
    "\\mbox{subject to:}\\qquad \\\\\n",
    "y & \\leq 80  & \\mbox{labor A constraint} \\\\\n",
    "y & \\leq 100 & \\mbox{labor B constraint}\n",
    "\\end{align}$$"
   ]
  },
  {
   "cell_type": "markdown",
   "metadata": {},
   "source": [
    "Compared to product X, we can manufacture and sell up 80 units per week for a total profit of \\$2,400. This is very welcome news. "
   ]
  },
  {
   "cell_type": "markdown",
   "metadata": {},
   "source": [
    "### Exercises\n",
    "\n",
    "1. What is the limiting resource?  That is, which of the two types of labor limits the capacity of your plant to produce more units of Y?\n",
    "\n",
    "2. What rate would you be willing to pay for the additional labor necessary to increase the production of Y?"
   ]
  },
  {
   "cell_type": "markdown",
   "metadata": {
    "slideshow": {
     "slide_type": "slide"
    }
   },
   "source": [
    "## Production Plan: Mixed Product Strategy"
   ]
  },
  {
   "cell_type": "markdown",
   "metadata": {},
   "source": [
    "So far we have learned that we can make \\\\$1,600 per week by manufacturing product X, and \\\\$2,400 per week manufacturing product Y.  Is it possible to do even better?\n",
    "\n",
    "To answer this question, we consider the possibilty of manufacturing both products in the same plant. The marketing department assures us that product Y will not affect the sales of product X.  So the same constraints hold as before, but now we have two decision variables, $x$ and $y$."
   ]
  },
  {
   "cell_type": "markdown",
   "metadata": {},
   "source": [
    "![LP_ProductXY.png](../figures/LP_ProductXY.png)"
   ]
  },
  {
   "cell_type": "markdown",
   "metadata": {},
   "source": [
    "Mathematical formulation\n",
    "\n",
    "$$\\begin{align}\n",
    "\\max_{x,y \\geq 0} &\\ 40\\ x + 30\\ y  & \\mbox{objective}\\\\\n",
    "\\mbox{subject to:}\\qquad \\\\\n",
    "x & \\leq 40  & \\mbox{demand constraint} \\\\\n",
    "x + y & \\leq 80  & \\mbox{labor A constraint} \\\\\n",
    "2x + y & \\leq 100 & \\mbox{labor B constraint}\n",
    "\\end{align}$$"
   ]
  },
  {
   "cell_type": "markdown",
   "metadata": {},
   "source": [
    "## Solution using Pyomo"
   ]
  },
  {
   "cell_type": "code",
   "execution_count": null,
   "metadata": {},
   "outputs": [
    {
     "name": "stdout",
     "output_type": "stream",
     "text": [
      "profit =  2600.0\n",
      "x =  20.0\n",
      "y =  60.0\n"
     ]
    }
   ],
   "source": [
    "import pyomo.environ as pyo\n",
    "\n",
    "# create a new model\n",
    "model = pyo.ConcreteModel(\"Production Model\")\n",
    "\n",
    "# add decision variables x and y\n",
    "model.x = pyo.Var(domain=pyo.NonNegativeReals)\n",
    "model.y = pyo.Var(domain=pyo.NonNegativeReals)\n",
    "\n",
    "# add objective\n",
    "@model.Objective(sense=pyo.maximize)\n",
    "def profit(model):\n",
    "    return 40*model.x + 30*model.y\n",
    "\n",
    "# add constraints\n",
    "@model.Constraint()\n",
    "def demand(model):\n",
    "    return model.x <= 40\n",
    "\n",
    "@model.Constraint()\n",
    "def laborA(model):\n",
    "    return model.x + model.y <= 80\n",
    "\n",
    "@model.Constraint()\n",
    "def laborB(model):\n",
    "    return 2*model.x + model.y <= 100\n",
    "\n",
    "# compute solution\n",
    "solver = pyo.SolverFactory('gurobi_direct')\n",
    "solver.solve(model)\n",
    "\n",
    "# display solution\n",
    "print(\"profit = \", model.profit())\n",
    "print(\"x = \", model.x())\n",
    "print(\"y = \", model.y())"
   ]
  },
  {
   "cell_type": "markdown",
   "metadata": {},
   "source": [
    "The mixed product strategy earns more profit than either of the single product srategies. Does this surprise you?  Before going further, try to explain why it is possible for a mixed product strategy to earn more profit than either of the possible single product strategies."
   ]
  },
  {
   "cell_type": "markdown",
   "metadata": {
    "slideshow": {
     "slide_type": "slide"
    }
   },
   "source": [
    "## What are the active constraints?"
   ]
  },
  {
   "cell_type": "code",
   "execution_count": null,
   "metadata": {
    "slideshow": {
     "slide_type": "fragment"
    }
   },
   "outputs": [
    {
     "data": {
      "image/png": "[encoded data removed]",
      "text/plain": [
       "<Figure size 432x432 with 1 Axes>"
      ]
     },
     "metadata": {
      "needs_background": "light"
     },
     "output_type": "display_data"
    }
   ],
   "source": [
    "import matplotlib.pyplot as plt\n",
    "import numpy as np\n",
    "\n",
    "fig, ax = plt.subplots(1, 1, figsize=(6,6))\n",
    "ax.set_aspect('equal')\n",
    "ax.set_xlim(0, 100)\n",
    "ax.set_ylim(0, 100)\n",
    "ax.set_xlabel('Production Qty X')\n",
    "ax.set_ylabel('Production Qty Y')\n",
    "\n",
    "# labor A constraint\n",
    "x = np.array([0, 80])\n",
    "y = 80 - x\n",
    "ax.plot(x, y , 'r', lw=2, label=\"labor A constraint\")\n",
    "ax.fill_between([0, 80, 100], [80, 0,0 ], [100, 100, 100], color='r', alpha=0.15)\n",
    "\n",
    "# labor B constraint\n",
    "x = np.array([0, 50])\n",
    "y = 100 - 2*x\n",
    "ax.plot(x, y, 'b', lw=2, label=\"labor B constraint\")\n",
    "ax.fill_between([0, 50, 100], [100, 0, 0], [100, 100, 100], color='b', alpha=0.15)\n",
    "\n",
    "# demand constraint\n",
    "ax.plot([40, 40], [0, 100], 'g', lw=2, label=\"demand constraint\")\n",
    "ax.fill_between([40, 100], [0, 0], [100, 100], color='g', alpha=0.15)\n",
    "\n",
    "ax.legend()\n",
    "\n",
    "# Contours of constant profit\n",
    "x = np.array([0, 100])\n",
    "for p in np.linspace(0, 3600, 10):\n",
    "    y = (p - 40*x)/30\n",
    "    ax.plot(x, y, 'y--')\n",
    "\n",
    "# annotations\n",
    "arrowprops = {\"shrink\": 0.1, \"width\": 1, \"headwidth\": 5}\n",
    "\n",
    "ax.plot(20, 60, 'r.', ms=20)\n",
    "ax.annotate('Mixed Product Strategy', xy=(20, 60), xytext=(50, 70), arrowprops=arrowprops)\n",
    "\n",
    "ax.plot(0, 80, 'b.', ms=20)\n",
    "ax.annotate('Y Only', xy=(0,80), xytext=(20,90), arrowprops=arrowprops)\n",
    "\n",
    "ax.plot(40,0,'b.',ms=20)\n",
    "ax.annotate('X Only', xy=(40,0), xytext=(70,20), arrowprops=arrowprops)\n",
    "\n",
    "ax.text(4,23,'Increasing Profit')\n",
    "ax.annotate('', xy=(20,15), xytext=(0,0), arrowprops=arrowprops)\n",
    "\n",
    "plt.savefig('figures/LPprob01.png', bbox_inches='tight')"
   ]
  },
  {
   "cell_type": "markdown",
   "metadata": {
    "slideshow": {
     "slide_type": "slide"
    }
   },
   "source": [
    "## What is the incremental value of labor?\n",
    "\n",
    "The optimal solution is found at the intersection of constraints corresponding to Labor A and Labor B.  These are the **active constraints**. Adding additional labor of either type will increase the profit.  By contrast, the demand constraint for product X is inactive at the optimum, therefore attempting to increase demand for product X would be wasted effort.\n",
    "\n",
    "This leaves the important question of how much the profit will increase if additional resources are available. Let's see what happens if one additional hour of Labor A is available.\n",
    "\n",
    "For this analysis, we repackage the Pyomo model into a Python function that accepts values for the available resources (i.e, demand, labor A, and labor B). This packaging makes it easy to do sensitivity studies, like this one, where parameters in the problem are adjusted to determine their impact on the optimal response."
   ]
  },
  {
   "cell_type": "code",
   "execution_count": null,
   "metadata": {},
   "outputs": [
    {
     "name": "stdout",
     "output_type": "stream",
     "text": [
      "profit =  2620.0\n",
      "x =  19.0\n",
      "y =  62.0\n"
     ]
    }
   ],
   "source": [
    "import pyomo.environ as pyo\n",
    "\n",
    "def production_model(demand=40, laborA=80, laborB=100):\n",
    "\n",
    "    # create a new model\n",
    "    model = pyo.ConcreteModel(\"Production Model\")\n",
    "\n",
    "    # add decision variables x and y\n",
    "    model.x = pyo.Var(domain=pyo.NonNegativeReals)\n",
    "    model.y = pyo.Var(domain=pyo.NonNegativeReals)\n",
    "\n",
    "    # add objective\n",
    "    @model.Objective(sense=pyo.maximize)\n",
    "    def profit(model):\n",
    "        return 40*model.x + 30*model.y\n",
    "\n",
    "    # add constraints\n",
    "    @model.Constraint()\n",
    "    def demand(model):\n",
    "        return model.x <= demand\n",
    "\n",
    "    @model.Constraint()\n",
    "    def laborA(model):\n",
    "        return model.x + model.y <= laborA\n",
    "\n",
    "    @model.Constraint()\n",
    "    def laborB(model):\n",
    "        return 2*model.x + model.y <= laborB\n",
    "\n",
    "    # compute solution\n",
    "    solver = pyo.SolverFactory('gurobi_direct')\n",
    "    solver.solve(model)\n",
    "    \n",
    "    return model\n",
    "\n",
    "model= production_model(40, 81, 100)\n",
    "print(\"profit = \", model.profit())\n",
    "print(\"x = \", model.x())\n",
    "print(\"y = \", model.y())"
   ]
  },
  {
   "cell_type": "markdown",
   "metadata": {},
   "source": [
    "An additional hour of Labor A increases the profit by 0 dollars. The base cost of 50 dollars per hour for Labor A is included in the objective function. Therefore we should be willing to pay up to 50 + 20 = 70 dollars per hour for additional Labor A."
   ]
  },
  {
   "cell_type": "markdown",
   "metadata": {},
   "source": [
    "### Exercise\n",
    "\n",
    "1. What is the incremental value of Labor B?"
   ]
  },
  {
   "cell_type": "markdown",
   "metadata": {
    "slideshow": {
     "slide_type": "slide"
    }
   },
   "source": [
    "## Theory of Constraints"
   ]
  },
  {
   "cell_type": "markdown",
   "metadata": {
    "slideshow": {
     "slide_type": "fragment"
    }
   },
   "source": [
    "* For $n$ decisions you should expect to find $n$ 'active' constraints.\n",
    "* Each inactive constraint has an associated 'slack.'  The associated resources have no incremental value.\n",
    "* Each active constraint has an associated 'shadow price'.  This is additional value of additional resources."
   ]
  },
  {
   "cell_type": "code",
   "execution_count": null,
   "metadata": {},
   "outputs": [],
   "source": []
  }
 ],
 "metadata": {
  "kernelspec": {
   "display_name": "Python 3 (ipykernel)",
   "language": "python",
   "name": "python3"
  },
  "language_info": {
   "codemirror_mode": {
    "name": "ipython",
    "version": 3
   },
   "file_extension": ".py",
   "mimetype": "text/x-python",
   "name": "python",
   "nbconvert_exporter": "python",
   "pygments_lexer": "ipython3",
   "version": "3.9.7"
  }
 },
 "nbformat": 4,
 "nbformat_minor": 4
}

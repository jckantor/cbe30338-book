{
 "cells": [
  {
   "cell_type": "markdown",
   "metadata": {},
   "source": [
    "# Assignment 1\n",
    "\n",
    "The first assignment is to prepare you with the tools you will need for this course. These are simple tasks, but will require some time to complete. (So don't leave this to the last minute!). The assignment is due no later than 11:00 am, Tuesday, February 9th.\n",
    "\n",
    "1. Download and install the most current version of Anaconda. (You will be interfacing Arduino hardware with your laptop, so it is essential to be using versions of Python and the associated library that are consistent with the software developed for this course. To avoid the headaches of incompatiable libraries, the easiest step is maintain an up-to-date Anaconda installation.) After installation, create a new Jupyter notebook with the following features:\n",
    "\n",
    "* A level one header \"Assignment 1\"\n",
    "* A level two header with your name.\n",
    "* The results of executing the followiing commands in separate code cells\n",
    "\n",
    "```\n",
    "    # verify laptop and network\n",
    "    import platform\n",
    "    print(platform.node())\n",
    "    print(platform.platform())\n",
    "    \n",
    "    # verify anaconda installation\n",
    "    !conda --version\n",
    "    \n",
    "    # python version\n",
    "    import sys\n",
    "    print(sys.version)\n",
    "    \n",
    "    # jupyter version\n",
    "    !jupyter --version\n",
    "    \n",
    "    # tclab installation\n",
    "    !pip install tclab\n",
    "```\n",
    "    \n",
    "2. You will need your own copy of the Temperature Control Laboratory no later than the first lab session Friday, February 12th. They can be purchased from the Hammes Bookstore (limited number of devices in stock), or on-line for $35 from [Amazon](https://www.amazon.com/gp/product/B07GMFWMRY) or [apmonitor.com](https://apmonitor.com/pdc/index.php/Main/PurchaseLabKit). Include some indication purchase in your assignment submission. **Please let the instructors immediately if there is any issue with obtaining a copy of the device in time for first lab session.** \n",
    "\n",
    "3. Download the textbook *Feedback Systems: An Introduction for Scientists and Engineers, \n",
    "Second Edition* by Karl J. Åström and Richard M. Murray from [https://fbswiki.org/wiki/index.php/Main_Page](https://fbswiki.org/wiki/index.php/Main_Page). The most current version is v3.1.5. Read sections 1.1 through 1.4.\n",
    "\n",
    "4. After you have completed the reading, prepare a few sentences about any topic you would like to see incorporated into the course. Over the years I've received many fascinating suggestions from students and have used them to expand the scope of the course. So I look forward to hearing your thoughts on how this course can meet your needs and interests!"
   ]
  },
  {
   "cell_type": "code",
   "execution_count": null,
   "metadata": {},
   "outputs": [],
   "source": []
  }
 ],
 "metadata": {
  "kernelspec": {
   "display_name": "Python 3 (ipykernel)",
   "language": "python",
   "name": "python3"
  },
  "language_info": {
   "codemirror_mode": {
    "name": "ipython",
    "version": 3
   },
   "file_extension": ".py",
   "mimetype": "text/x-python",
   "name": "python",
   "nbconvert_exporter": "python",
   "pygments_lexer": "ipython3",
   "version": "3.8.12"
  }
 },
 "nbformat": 4,
 "nbformat_minor": 4
}

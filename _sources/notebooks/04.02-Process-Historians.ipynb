{
 "cells": [
  {
   "cell_type": "markdown",
   "metadata": {},
   "source": [
    "# Data/Process/Operational Historian"
   ]
  },
  {
   "cell_type": "markdown",
   "metadata": {},
   "source": [
    "## Introduction"
   ]
  },
  {
   "cell_type": "markdown",
   "metadata": {},
   "source": [
    "### Terminology\n",
    "\n",
    "* **DCS**: Distributed Control System\n",
    "\n",
    "* **Database**: An organized collection of data that is stored and accessed electronically. Databases are a major industry and one of the most significant technologies underpinning the modern global economy.\n",
    "\n",
    "    * **Ralational database**: Data organized as linked collections of tables comprised of rows and columns. Structured Query Language (SQL) is a specialized language for writing and querying relational databases. \n",
    "    * **NoSQL database**: Typically organized as key-value pairs, NoSQL databases encompass a broad range of technologies used in modern web applications and extremely large scale databases.\n",
    "    * **Time-series database**: Data organized in time series consisting of time-value pairs, often organized as traces, curves, or trends. Typically used in industrial applications.\n",
    "    \n",
    "    \n",
    "* **[Data | Operational | Process] Historian**: A time-series database used to store and access operational process data. "
   ]
  },
  {
   "cell_type": "markdown",
   "metadata": {},
   "source": [
    "### Major Vendors of Data Historians\n",
    "\n",
    "Data historians is about a $1B/year market globally, poised to grow much larger with the emerging **Industrial Internet of Things (IIoT)** market.\n",
    "\n",
    "* GE, IBM, Hitachi-ABB, Rockwell Automation, Emerson, Honeywell, Siemens, AVEVA, OSIsoft, ICONICS, Yokogawa, PTC, Inductive Automation, Canary Labs, Open Automation Software, InfluxData, Progea, Kx Systems, SORBA, Savigent Software, Automsoft, LiveData Utilities, Industrial Video & Control, Aspen Technology, and COPA-DATA"
   ]
  },
  {
   "cell_type": "markdown",
   "metadata": {},
   "source": [
    "### Example: OSIsoft PI System\n",
    "\n",
    "* One of the market leaders is OSIsoft which markets their proprietary PI system. Founded in 1980, OSIsoft now has 1,400 employees and recently announced sale of the company for $5B to AVENA.\n",
    "\n",
    "* The PI system is integrated suite of tools supporting the storage and retreival of process data in a time-series data base.\n",
    "\n",
    "![](http://www.automatedresults.com/images/arpidiagram.png)\n",
    "\n"
   ]
  },
  {
   "cell_type": "markdown",
   "metadata": {},
   "source": [
    "### Process Analytics\n",
    "\n",
    "Process analytics refers to analytical tools that use the data historian to provide usable information about the underlying processes. "
   ]
  },
  {
   "cell_type": "markdown",
   "metadata": {},
   "source": [
    "## The tclab Data Historian\n",
    "\n",
    "The tclab Python library support the Temperature Control Lab includes a very basic and no-frills implementation of a time-series data base. The purposes of the data historian are to \n",
    "\n",
    "* enable the collection and display of data durinig the course of developing control strategies, and\n",
    "* enable post-experiment analysis using standard Python libraries such as Pandas.\n",
    "\n",
    "Documentatiion is available for the tclab [Historian](https://tclab.readthedocs.io/en/latest/notebooks/05_TCLab_Historian.html) and associated [Plotter](https://tclab.readthedocs.io/en/latest/notebooks/06_TCLab_Plotter.html) modules.\n",
    "\n",
    "Historian is implemented using [SQLite](https://www.sqlite.org/index.html), a small, self-contained SQL data system in the public domain. SQLite was originally developed in 2000 by D. Richard Hipp who was designing software for a damage-control systems used in the U.S. Navy aboard gui}ded missile destroyers. Since then it has become widely used in embedded systems including most laptops, smartphones, and browsers. If you used Apple photos, messaging on your smartphone, GPS units in your car, then you've used SQLite. It estimated there are over 1 trillion SQLite databases in active use. Much of the success is to due to the licensing terms (free!) and an extraordinarily level of automated code testing assuring a high level of reliability.\n",
    "\n",
    "Below we will introduce useful capabilities of the Historian that will prove useful as we explore more sophisticated control algorithms and strategies.\n",
    "\n",
    "* Data logging\n",
    "* Acessing data"
   ]
  },
  {
   "cell_type": "markdown",
   "metadata": {},
   "source": [
    "### Data Logging"
   ]
  },
  {
   "cell_type": "markdown",
   "metadata": {},
   "source": [
    "#### Creating a log\n",
    "\n",
    "An instance of a data historian is created by providing a list of data sources. An instance of a `lab` created by `TCLab()` provides a default list of sources in `lab.sources`."
   ]
  },
  {
   "cell_type": "code",
   "execution_count": 1,
   "metadata": {},
   "outputs": [
    {
     "name": "stdout",
     "output_type": "stream",
     "text": [
      "TCLab version 0.4.9\n",
      "Simulated TCLab\n",
      "TCLab Model disconnected successfully.\n"
     ]
    }
   ],
   "source": [
    "from tclab import setup, clock, Historian\n",
    "\n",
    "TCLab = setup(connected=False, speedup=60)\n",
    "\n",
    "with TCLab() as lab:\n",
    "    h = Historian(lab.sources)  # <= creates an instance of an historian with default lab.sources\n",
    "    lab.Q1(100)\n",
    "    for t in clock(600):\n",
    "        h.update(t)             # <= updates the historian at time t\n",
    "        \n",
    "# note that the historian lives on after we're finished with lab"
   ]
  },
  {
   "cell_type": "markdown",
   "metadata": {},
   "source": [
    "#### Accessing Data using `.columns` and `.fields`\n",
    "\n",
    "There are several approaches to accessing the data that has been recorded using the historian. Perhaps the most straightforward is to access the 'tags' with `h.columns` and to access the values with `h.fields` as shown here."
   ]
  },
  {
   "cell_type": "code",
   "execution_count": 22,
   "metadata": {},
   "outputs": [
    {
     "data": {
      "text/plain": [
       "['Time', 'T1', 'T2', 'Q1', 'Q2']"
      ]
     },
     "execution_count": 22,
     "metadata": {},
     "output_type": "execute_result"
    }
   ],
   "source": [
    "# columns property consists of all data being logged\n",
    "h.columns"
   ]
  },
  {
   "cell_type": "code",
   "execution_count": 3,
   "metadata": {},
   "outputs": [
    {
     "data": {
      "text/plain": [
       "[<matplotlib.lines.Line2D at 0x7f8a9a61db80>,\n",
       " <matplotlib.lines.Line2D at 0x7f8a9a61dbb0>]"
      ]
     },
     "execution_count": 3,
     "metadata": {},
     "output_type": "execute_result"
    },
    {
     "data": {
      "image/png": "[encoded data removed]",
      "text/plain": [
       "<Figure size 432x288 with 1 Axes>"
      ]
     },
     "metadata": {
      "needs_background": "light"
     },
     "output_type": "display_data"
    }
   ],
   "source": [
    "%matplotlib inline\n",
    "import matplotlib.pyplot as plt\n",
    "\n",
    "t, T1, T2, Q1, Q1 = h.fields   # <= access data using h.fields\n",
    "plt.plot(t, T1, t, T2)         # <= plot data "
   ]
  },
  {
   "cell_type": "markdown",
   "metadata": {},
   "source": [
    "#### Accessing Data by Name `logdict`\n",
    "\n",
    "Often you only need data corresponding to specific tags. You can access the data directly using `.logdict[]`."
   ]
  },
  {
   "cell_type": "code",
   "execution_count": 25,
   "metadata": {},
   "outputs": [
    {
     "data": {
      "text/plain": [
       "[<matplotlib.lines.Line2D at 0x7fa19159ba30>]"
      ]
     },
     "execution_count": 25,
     "metadata": {},
     "output_type": "execute_result"
    },
    {
     "data": {
      "image/png": "[encoded data removed]",
      "text/plain": [
       "<Figure size 432x288 with 1 Axes>"
      ]
     },
     "metadata": {
      "needs_background": "light"
     },
     "output_type": "display_data"
    }
   ],
   "source": [
    "plt.plot(h.logdict[\"Time\"], h.logdict[\"T2\"])"
   ]
  },
  {
   "cell_type": "markdown",
   "metadata": {},
   "source": [
    "#### Accessing Data using `pandas`\n",
    "\n",
    "The Python `pandas` library provides an enormous range of commonly tools for data analysis, it is among the most widely used libraries by data scientists. Data collected by the historian can be converted to a pandas data frame with one line of code."
   ]
  },
  {
   "cell_type": "code",
   "execution_count": 4,
   "metadata": {},
   "outputs": [
    {
     "data": {
      "text/html": [
       "<div>\n",
       "<style scoped>\n",
       "    .dataframe tbody tr th:only-of-type {\n",
       "        vertical-align: middle;\n",
       "    }\n",
       "\n",
       "    .dataframe tbody tr th {\n",
       "        vertical-align: top;\n",
       "    }\n",
       "\n",
       "    .dataframe thead th {\n",
       "        text-align: right;\n",
       "    }\n",
       "</style>\n",
       "<table border=\"1\" class=\"dataframe\">\n",
       "  <thead>\n",
       "    <tr style=\"text-align: right;\">\n",
       "      <th></th>\n",
       "      <th>T1</th>\n",
       "      <th>T2</th>\n",
       "      <th>Q1</th>\n",
       "      <th>Q2</th>\n",
       "    </tr>\n",
       "    <tr>\n",
       "      <th>Time</th>\n",
       "      <th></th>\n",
       "      <th></th>\n",
       "      <th></th>\n",
       "      <th></th>\n",
       "    </tr>\n",
       "  </thead>\n",
       "  <tbody>\n",
       "    <tr>\n",
       "      <th>0.00</th>\n",
       "      <td>20.9495</td>\n",
       "      <td>20.9495</td>\n",
       "      <td>100</td>\n",
       "      <td>0</td>\n",
       "    </tr>\n",
       "    <tr>\n",
       "      <th>1.18</th>\n",
       "      <td>20.6272</td>\n",
       "      <td>20.9495</td>\n",
       "      <td>100</td>\n",
       "      <td>0</td>\n",
       "    </tr>\n",
       "    <tr>\n",
       "      <th>2.05</th>\n",
       "      <td>20.9495</td>\n",
       "      <td>20.9495</td>\n",
       "      <td>100</td>\n",
       "      <td>0</td>\n",
       "    </tr>\n",
       "    <tr>\n",
       "      <th>3.02</th>\n",
       "      <td>20.9495</td>\n",
       "      <td>20.9495</td>\n",
       "      <td>100</td>\n",
       "      <td>0</td>\n",
       "    </tr>\n",
       "    <tr>\n",
       "      <th>4.14</th>\n",
       "      <td>20.9495</td>\n",
       "      <td>20.9495</td>\n",
       "      <td>100</td>\n",
       "      <td>0</td>\n",
       "    </tr>\n",
       "  </tbody>\n",
       "</table>\n",
       "</div>"
      ],
      "text/plain": [
       "           T1       T2   Q1  Q2\n",
       "Time                           \n",
       "0.00  20.9495  20.9495  100   0\n",
       "1.18  20.6272  20.9495  100   0\n",
       "2.05  20.9495  20.9495  100   0\n",
       "3.02  20.9495  20.9495  100   0\n",
       "4.14  20.9495  20.9495  100   0"
      ]
     },
     "metadata": {},
     "output_type": "display_data"
    },
    {
     "data": {
      "text/plain": [
       "<AxesSubplot:xlabel='Time'>"
      ]
     },
     "execution_count": 4,
     "metadata": {},
     "output_type": "execute_result"
    },
    {
     "data": {
      "image/png": "[encoded data removed]",
      "text/plain": [
       "<Figure size 432x288 with 1 Axes>"
      ]
     },
     "metadata": {
      "needs_background": "light"
     },
     "output_type": "display_data"
    }
   ],
   "source": [
    "import pandas as pd\n",
    "df = pd.DataFrame.from_records(h.log, columns=h.columns, index='Time')\n",
    "\n",
    "display(df.head())\n",
    "df.plot()"
   ]
  },
  {
   "cell_type": "markdown",
   "metadata": {},
   "source": [
    "#### Specifying additional sources\n",
    "\n",
    "As we develop increasingly complex control algorthms, we will wish to record additional data during the course of an experiment. This is done by specifying data sources. Each source is defined by a `(tag, fcn)` pair where `tag` is string label for data, and `fcn` is a function with no arguments that returns a current value. An example is \n",
    "\n",
    "    ['Q1', lab.Q1]\n",
    "    \n",
    "where `Q1` is the tag, and `lab.Q1()` returns the current value of heater power reported by the hardware.\n",
    "\n",
    "The following cell presents an example where two setpoints are provided for two control loops. The setpoint tags are `SP1` and `SP2`, respectively. Setpoint `SP1` is specified as a Python constant. The historian requires a function that returns the value of the  which is a function of time. This has to be \n",
    "\n",
    "    ['SP1', SP1\n",
    "    "
   ]
  },
  {
   "cell_type": "code",
   "execution_count": 31,
   "metadata": {},
   "outputs": [
    {
     "name": "stdout",
     "output_type": "stream",
     "text": [
      "TCLab version 0.4.9\n",
      "Simulated TCLab\n",
      "TCLab Model disconnected successfully.\n"
     ]
    }
   ],
   "source": [
    "from tclab import setup, clock, Historian\n",
    "\n",
    "# proportional control gain\n",
    "Kp = 4.0\n",
    "\n",
    "# setpoint 1\n",
    "SP1 = 30.0\n",
    "\n",
    "# setpoint function\n",
    "SP2 = 30.0\n",
    "\n",
    "TCLab = setup(connected=False, speedup=60)\n",
    "\n",
    "with TCLab() as lab:\n",
    "    # add setpoint to default sources\n",
    "    sources = lab.sources\n",
    "    sources.append(['SP1', lambda: SP1(t)])\n",
    "    sources.append(['SP2', lambda: SP2])\n",
    "    h = Historian(sources)\n",
    "    for t in clock(600):\n",
    "        U1 = Kp*(SP1(t) - lab.T1)\n",
    "        U2 = 100 if lab.T2 < SP2 else 0\n",
    "        lab.Q1(U1)\n",
    "        lab.Q2(U2)\n",
    "        h.update(t)"
   ]
  },
  {
   "cell_type": "markdown",
   "metadata": {},
   "source": [
    "### Persistence"
   ]
  },
  {
   "cell_type": "markdown",
   "metadata": {},
   "source": [
    "#### Saving to a file"
   ]
  },
  {
   "cell_type": "code",
   "execution_count": 27,
   "metadata": {},
   "outputs": [],
   "source": [
    "h.to_csv(\"data/saved_data.csv\")"
   ]
  },
  {
   "cell_type": "code",
   "execution_count": 32,
   "metadata": {
    "collapsed": true,
    "jupyter": {
     "outputs_hidden": true
    }
   },
   "outputs": [
    {
     "data": {
      "text/plain": [
       "['Time', 'T1', 'T2', 'Q1', 'Q2', 'SP1', 'SP2']"
      ]
     },
     "execution_count": 32,
     "metadata": {},
     "output_type": "execute_result"
    }
   ],
   "source": [
    "h.columns"
   ]
  },
  {
   "cell_type": "code",
   "execution_count": 33,
   "metadata": {},
   "outputs": [
    {
     "data": {
      "text/plain": [
       "[<matplotlib.lines.Line2D at 0x7fa19192aa90>,\n",
       " <matplotlib.lines.Line2D at 0x7fa19192aac0>]"
      ]
     },
     "execution_count": 33,
     "metadata": {},
     "output_type": "execute_result"
    },
    {
     "data": {
      "image/png": "[encoded data removed]",
      "text/plain": [
       "<Figure size 432x288 with 2 Axes>"
      ]
     },
     "metadata": {
      "needs_background": "light"
     },
     "output_type": "display_data"
    }
   ],
   "source": [
    "fig, ax = plt.subplots(2, 1)\n",
    "\n",
    "ax[0].plot(h.logdict[\"Time\"], h.logdict[\"T1\"], h.logdict[\"Time\"], h.logdict[\"SP1\"])\n",
    "ax[1].plot(h.logdict[\"Time\"], h.logdict[\"T2\"], h.logdict[\"Time\"], h.logdict[\"SP2\"])"
   ]
  },
  {
   "cell_type": "code",
   "execution_count": 34,
   "metadata": {},
   "outputs": [
    {
     "name": "stdout",
     "output_type": "stream",
     "text": [
      "TCLab version 0.4.9\n",
      "Simulated TCLab\n",
      "TCLab Model disconnected successfully.\n"
     ]
    }
   ],
   "source": [
    "from tclab import setup, clock, Historian\n",
    "\n",
    "# proportional control gain\n",
    "Kp = 4.0\n",
    "\n",
    "# setpoint function\n",
    "def SP1(t):\n",
    "    return 20.0 if t <= 100 else 50.0\n",
    "\n",
    "# setpoint function\n",
    "SP2 = 40.0\n",
    "\n",
    "TCLab = setup(connected=False, speedup=60)\n",
    "\n",
    "with TCLab() as lab:\n",
    "    # add setpoint to default sources\n",
    "    sources = lab.sources\n",
    "    sources.append(['SP1', lambda: SP1(t)])\n",
    "    sources.append(['SP2', lambda: SP2])\n",
    "    h = Historian(sources, dbfile=\"data/tclab_historian.db\")\n",
    "    for t in clock(600):\n",
    "        U1 = Kp*(SP1(t) - lab.T1)\n",
    "        U2 = 100 if lab.T2 < SP2 else 0\n",
    "        lab.Q1(U1)\n",
    "        lab.Q2(U2)\n",
    "        h.update(t)"
   ]
  },
  {
   "cell_type": "code",
   "execution_count": 35,
   "metadata": {},
   "outputs": [
    {
     "data": {
      "text/plain": [
       "[(1, '2021-03-16 17:07:35', 164),\n",
       " (2, '2021-03-16 17:12:20', 593),\n",
       " (3, '2021-03-16 17:12:32', 301),\n",
       " (4, '2021-03-16 17:15:51', 592)]"
      ]
     },
     "execution_count": 35,
     "metadata": {},
     "output_type": "execute_result"
    }
   ],
   "source": [
    "h.get_sessions()"
   ]
  },
  {
   "cell_type": "code",
   "execution_count": 36,
   "metadata": {},
   "outputs": [
    {
     "data": {
      "text/plain": [
       "[<matplotlib.lines.Line2D at 0x7fa191a79f70>,\n",
       " <matplotlib.lines.Line2D at 0x7fa191a79fa0>]"
      ]
     },
     "execution_count": 36,
     "metadata": {},
     "output_type": "execute_result"
    },
    {
     "data": {
      "image/png": "[encoded data removed]",
      "text/plain": [
       "<Figure size 432x288 with 2 Axes>"
      ]
     },
     "metadata": {
      "needs_background": "light"
     },
     "output_type": "display_data"
    }
   ],
   "source": [
    "h.load_session(1)\n",
    "fig, ax = plt.subplots(2, 1)\n",
    "\n",
    "ax[0].plot(h.logdict[\"Time\"], h.logdict[\"T1\"], h.logdict[\"Time\"], h.logdict[\"SP1\"])\n",
    "ax[1].plot(h.logdict[\"Time\"], h.logdict[\"T2\"], h.logdict[\"Time\"], h.logdict[\"SP2\"])"
   ]
  },
  {
   "cell_type": "code",
   "execution_count": 37,
   "metadata": {},
   "outputs": [
    {
     "data": {
      "text/plain": [
       "[(1, '2021-03-16 17:12:32', 0), (2, '2021-03-16 17:16:02', 0)]"
      ]
     },
     "execution_count": 37,
     "metadata": {},
     "output_type": "execute_result"
    }
   ],
   "source": [
    "g = Historian([], dbfile=\"lab4.db\")\n",
    "g.get_sessions()"
   ]
  },
  {
   "cell_type": "markdown",
   "metadata": {},
   "source": [
    "## Plotter\n",
    "\n",
    "The `Plotter` class provides a real-time graphical interface to an historian. It provides some simple facilities for "
   ]
  },
  {
   "cell_type": "code",
   "execution_count": 38,
   "metadata": {},
   "outputs": [
    {
     "data": {
      "image/png": "[encoded data removed]",
      "text/plain": [
       "<Figure size 640x360 with 3 Axes>"
      ]
     },
     "metadata": {},
     "output_type": "display_data"
    },
    {
     "name": "stdout",
     "output_type": "stream",
     "text": [
      "TCLab Model disconnected successfully.\n"
     ]
    },
    {
     "data": {
      "image/png": "[encoded data removed]",
      "text/plain": [
       "<Figure size 640x360 with 3 Axes>"
      ]
     },
     "metadata": {
      "needs_background": "light"
     },
     "output_type": "display_data"
    }
   ],
   "source": [
    "from tclab import setup, clock, Historian, Plotter\n",
    "\n",
    "# proportional control gain\n",
    "Kp = 4.0\n",
    "\n",
    "# setpoint function\n",
    "def SP1(t):\n",
    "    return 20.0 if t <= 100 else 50.0\n",
    "\n",
    "# setpoint function\n",
    "SP2 = 40.0\n",
    "\n",
    "TCLab = setup(connected=False, speedup=60)\n",
    "\n",
    "with TCLab() as lab:\n",
    "    # add setpoint to default sources\n",
    "    sources = lab.sources\n",
    "    sources.append(['SP1', lambda: SP1(t)])\n",
    "    sources.append(['SP2', lambda: SP2])\n",
    "    h = Historian(sources, dbfile=\"data/tclab_historian.db\")\n",
    "    \n",
    "    layout = [[\"T1\", \"SP1\"], [\"T2\", \"SP2\"], [\"Q1\", \"Q2\"]]\n",
    "    p = Plotter(h, 400, layout)\n",
    "    for t in clock(400):\n",
    "        U1 = Kp*(SP1(t) - lab.T1)\n",
    "        U2 = 100 if lab.T2 < SP2 else 0\n",
    "        lab.Q1(U1)\n",
    "        lab.Q2(U2)\n",
    "        p.update(t)"
   ]
  },
  {
   "cell_type": "code",
   "execution_count": 39,
   "metadata": {},
   "outputs": [
    {
     "data": {
      "text/plain": [
       "[(1, '2021-03-16 17:07:35', 164),\n",
       " (2, '2021-03-16 17:12:20', 593),\n",
       " (3, '2021-03-16 17:12:32', 301),\n",
       " (4, '2021-03-16 17:15:51', 592),\n",
       " (5, '2021-03-16 17:16:02', 302)]"
      ]
     },
     "execution_count": 39,
     "metadata": {},
     "output_type": "execute_result"
    }
   ],
   "source": [
    "h.get_sessions()"
   ]
  },
  {
   "cell_type": "code",
   "execution_count": 40,
   "metadata": {},
   "outputs": [
    {
     "data": {
      "text/plain": [
       "[<matplotlib.lines.Line2D at 0x7fa191da1c70>,\n",
       " <matplotlib.lines.Line2D at 0x7fa191da1ca0>]"
      ]
     },
     "execution_count": 40,
     "metadata": {},
     "output_type": "execute_result"
    },
    {
     "data": {
      "image/png": "[encoded data removed]",
      "text/plain": [
       "<Figure size 432x288 with 2 Axes>"
      ]
     },
     "metadata": {
      "needs_background": "light"
     },
     "output_type": "display_data"
    }
   ],
   "source": [
    "fig, ax = plt.subplots(2, 1)\n",
    "\n",
    "ax[0].plot(h.logdict[\"Time\"], h.logdict[\"T1\"], h.logdict[\"Time\"], h.logdict[\"SP1\"])\n",
    "ax[1].plot(h.logdict[\"Time\"], h.logdict[\"T2\"], h.logdict[\"Time\"], h.logdict[\"SP2\"])"
   ]
  },
  {
   "cell_type": "code",
   "execution_count": null,
   "metadata": {},
   "outputs": [],
   "source": []
  }
 ],
 "metadata": {
  "kernelspec": {
   "display_name": "Python 3 (ipykernel)",
   "language": "python",
   "name": "python3"
  },
  "language_info": {
   "codemirror_mode": {
    "name": "ipython",
    "version": 3
   },
   "file_extension": ".py",
   "mimetype": "text/x-python",
   "name": "python",
   "nbconvert_exporter": "python",
   "pygments_lexer": "ipython3",
   "version": "3.8.12"
  }
 },
 "nbformat": 4,
 "nbformat_minor": 4
}

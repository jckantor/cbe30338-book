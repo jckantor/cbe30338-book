{
 "cells": [
  {
   "cell_type": "markdown",
   "metadata": {},
   "source": [
    "# Troubleshooting TCLab"
   ]
  },
  {
   "cell_type": "markdown",
   "metadata": {},
   "source": [
    "## Testing\n",
    "\n",
    "The next cells test for some commonly encountered issues with installation and operation of the Temperature Control Laboratory. This approach uses the library [`ipytest`](https://github.com/chmp/ipytest) which adapts the well known `pytest` unit testing environment for use within Jupyter notebooks. If you have not encountered unit testing before, it is a widely used technique to check for correct operation of individual units of code.\n",
    "\n",
    "Run these cells. If the any of unit tests fail, comments within the unit test code may help determine the reason for the failure."
   ]
  },
  {
   "cell_type": "markdown",
   "metadata": {},
   "source": [
    "### Installing ipytest"
   ]
  },
  {
   "cell_type": "code",
   "execution_count": 1,
   "metadata": {},
   "outputs": [],
   "source": [
    "try:\n",
    "    import ipytest\n",
    "except:\n",
    "    !pip install ipytest\n",
    "    import ipytest\n",
    "    \n",
    "ipytest.autoconfig()"
   ]
  },
  {
   "cell_type": "markdown",
   "metadata": {},
   "source": [
    "### Software testing\n",
    "\n",
    "The following tetsts check for installation and operation the tclab library."
   ]
  },
  {
   "cell_type": "code",
   "execution_count": 2,
   "metadata": {},
   "outputs": [
    {
     "name": "stdout",
     "output_type": "stream",
     "text": [
      "\u001b[1m======================================= test session starts ========================================\u001b[0m\n",
      "platform darwin -- Python 3.9.7, pytest-6.2.4, py-1.10.0, pluggy-0.13.1 -- /Users/jeff/opt/anaconda3/bin/python\n",
      "cachedir: .pytest_cache\n",
      "rootdir: /Users/jeff/Google Drive/GitHub/cbe30338-book/tclab\n",
      "plugins: anyio-2.2.0\n",
      "\u001b[1mcollecting ... \u001b[0mcollected 2 items\n",
      "\n",
      "tmp8j02q4il.py::test_tclab_install \u001b[32mPASSED\u001b[0m\u001b[32m                                                    [ 50%]\u001b[0m\n",
      "tmp8j02q4il.py::test_tclab_offline \u001b[32mPASSED\u001b[0m\u001b[33m                                                    [100%]\u001b[0m\n",
      "\n",
      "\u001b[33m========================================= warnings summary =========================================\u001b[0m\n",
      "tmp8j02q4il.py::test_tclab_install\n",
      "  /Users/jeff/opt/anaconda3/lib/python3.9/site-packages/tclab/historian.py:6: DeprecationWarning: Using or importing the ABCs from 'collections' instead of from 'collections.abc' is deprecated since Python 3.3, and in 3.10 it will stop working\n",
      "    from collections import Iterable\n",
      "\n",
      "-- Docs: https://docs.pytest.org/en/stable/warnings.html\n",
      "\u001b[33m=================================== \u001b[32m2 passed\u001b[0m, \u001b[33m\u001b[1m1 warning\u001b[0m\u001b[33m in 0.03s\u001b[0m\u001b[33m ===================================\u001b[0m\n"
     ]
    }
   ],
   "source": [
    "%%ipytest --verbosity=1\n",
    "\n",
    "# Verify tclab has been installed and is accessible by the Python kernal.\n",
    "    \n",
    "def test_tclab_install():\n",
    "    from tclab import TCLab, clock, Historian, Plotter\n",
    "    \n",
    "# Verify that TCLab can be run offline (i.e., without access to hardware).\n",
    "\n",
    "def test_tclab_offline():\n",
    "    from tclab import setup\n",
    "    TCLab = setup(connected=False, speedup=20)\n",
    "    with TCLab() as lab:\n",
    "        pass"
   ]
  },
  {
   "cell_type": "markdown",
   "metadata": {},
   "source": [
    "### Hardware testing\n",
    "\n",
    "The following tests check for connectivity and operation of the Temperature Control Lab hardware."
   ]
  },
  {
   "cell_type": "code",
   "execution_count": 68,
   "metadata": {},
   "outputs": [
    {
     "name": "stdout",
     "output_type": "stream",
     "text": [
      "\u001b[1m======================================= test session starts ========================================\u001b[0m\n",
      "platform darwin -- Python 3.9.7, pytest-6.2.4, py-1.10.0, pluggy-0.13.1 -- /Users/jeff/opt/anaconda3/bin/python\n",
      "cachedir: .pytest_cache\n",
      "rootdir: /Users/jeff/Google Drive/GitHub/cbe30338-book/tclab\n",
      "plugins: anyio-2.2.0\n",
      "\u001b[1mcollecting ... \u001b[0mcollected 3 items\n",
      "\n",
      "tmp1faqvc8i.py::test_not_google_colab \u001b[32mPASSED\u001b[0m\u001b[32m                                                 [ 33%]\u001b[0m\n",
      "tmp1faqvc8i.py::test_tclab_connect \u001b[32mPASSED\u001b[0m\u001b[32m                                                    [ 66%]\u001b[0m\n",
      "tmp1faqvc8i.py::test_tclab_firmware_version \u001b[32mPASSED\u001b[0m\u001b[32m                                           [100%]\u001b[0m\n",
      "\n",
      "\u001b[32m======================================== \u001b[32m\u001b[1m3 passed\u001b[0m\u001b[32m in 8.87s\u001b[0m\u001b[32m =========================================\u001b[0m\n"
     ]
    }
   ],
   "source": [
    "%%ipytest --verbosity=1\n",
    "\n",
    "# TCLab cannot access the Arduino if it is run remotely on Google Colab. This is a common\n",
    "# error since notebooks are so easy to open in Google Colab. The following test fails if\n",
    "# the test is run on Google Colab.\n",
    "\n",
    "def test_not_google_colab():\n",
    "    import sys\n",
    "    assert not \"google.colab\" in sys.modules\n",
    "\n",
    "# Verify that a connection an be opened to the Arduino.\n",
    "\n",
    "def test_tclab_connect():\n",
    "    from tclab import TCLab, clock, Historian, Plotter\n",
    "    lab = TCLab()\n",
    "    lab.close()\n",
    "    \n",
    "# Verify tclab-sketch firmware version number is 2.0.1 or greater\n",
    "\n",
    "def test_tclab_firmware_version():\n",
    "    import packaging\n",
    "    from tclab import TCLab\n",
    "    with TCLab() as lab:\n",
    "        vers = re.search(r'\\s*([\\d.]+)', lab.version).group(1)\n",
    "    assert packaging.version.parse(vers) >= packaging.version.parse(\"2.0.1\")"
   ]
  },
  {
   "cell_type": "markdown",
   "metadata": {},
   "source": [
    "### Visual test"
   ]
  },
  {
   "cell_type": "markdown",
   "metadata": {},
   "source": [
    "If all of the above tests pass, then the following code fragment should turn on the LED at 50% level for 10 seconds."
   ]
  },
  {
   "cell_type": "code",
   "execution_count": 46,
   "metadata": {},
   "outputs": [
    {
     "name": "stdout",
     "output_type": "stream",
     "text": [
      "TCLab version 0.4.9\n",
      "Arduino Leonardo connected on port /dev/cu.usbmodem141101 at 115200 baud.\n",
      "TCLab Firmware 2.0.1 Arduino Leonardo/Micro.\n",
      "TCLab disconnected successfully.\n"
     ]
    }
   ],
   "source": [
    "from tclab import TCLab\n",
    "\n",
    "lab = TCLab()\n",
    "lab.LED(50)\n",
    "lab.close()"
   ]
  },
  {
   "cell_type": "markdown",
   "metadata": {},
   "source": [
    "## Troubleshooting"
   ]
  },
  {
   "cell_type": "markdown",
   "metadata": {},
   "source": [
    "### Laptop doesn't connect to the Arduino\n",
    "\n",
    "If your laptop consistently fails to locate or connect to the Arduino device, check the following:\n",
    "\n",
    "1. Be sure you are have installed Python and tclab on your laptop, and that you are not attempting to run tclab on a remote server such as Google Colab. tclab requires direct access to the USB port on your laptop.\n",
    "\n",
    "1. Check cable connections. The USB cable from the Arduino should be connected to your laptop. The USB cable for the heater shield should be connected to a USB power supply. Reversing these connections will not harm anything but the system will not function.\n",
    "\n",
    "1. Verify that the laptop has made connection with the Arduino. This can be checked with the device manager on Windows. On Mac OS, open a terminal window and execute `ls /dev/cu*` on the command line. This will return a list of devices. If only `cu.Bluetooth-Incoming-Port` is present then Mac OS is not connecting to the Arduino. Try connecting and reconnecting the USB data cable. If that fails, try rebooting.\n",
    "\n",
    "1. Some USB cables are for charging only and not intended for data communications. Verify the cable you are using is a USB data cable.\n",
    "\n",
    "1. Download and install the Arduino IDE. From the tools menu, select \"Arduino Leonardo\" for the board, and select the incoming port. Though rare, we have experienced failures of the Arduino devices. Replace the Arduino and try again.\n",
    "\n",
    "1. The Arduino must have the tclab-sketch firmware to communicate with tclab. Download and install the latest tclab-sketch firmware."
   ]
  },
  {
   "cell_type": "markdown",
   "metadata": {},
   "source": [
    "### Heaters don't appear to work\n",
    "\n",
    "If you observe no change in temperature after the heaters on turned on:\n",
    "\n",
    "1. Check that your heater power supply is plugged into power and into the top heater shield, not the Arduino.\n",
    "\n",
    "1. If you're using a power strip, verify the power strip is turned on.\n",
    "\n",
    "1. The LED indicator should be at 100% if the heaters are on.\n",
    "\n",
    "1. Check that lab.P1 and/or lab.P2 are set at non-zero values between 0 and 255. Values of about 100 are good for testing.\n",
    "\n",
    "1. We have experienced occasional failed USB power supplies. Try a different USB power supply."
   ]
  }
 ],
 "metadata": {
  "kernelspec": {
   "display_name": "Python 3 (ipykernel)",
   "language": "python",
   "name": "python3"
  },
  "language_info": {
   "codemirror_mode": {
    "name": "ipython",
    "version": 3
   },
   "file_extension": ".py",
   "mimetype": "text/x-python",
   "name": "python",
   "nbconvert_exporter": "python",
   "pygments_lexer": "ipython3",
   "version": "3.9.7"
  }
 },
 "nbformat": 4,
 "nbformat_minor": 4
}

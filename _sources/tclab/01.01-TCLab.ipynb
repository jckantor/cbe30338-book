{
 "cells": [
  {
   "cell_type": "markdown",
   "metadata": {},
   "source": [
    "# Hardware Setup\n",
    "\n",
    "The [Temperature Control Laboratory](http://apmonitor.com/pdc/index.php/Main/ArduinoTemperatureControl) provides a hands-on learning environment for traditional courses in process control. The Arduino-based device consists of a two-input, two-output system of heaters and sensors. [TCLab](https://github.com/jckantor/TCLab) is a Python library providing the software tools to create and test control algorithms ranging from simple step testing to sophisticated multivarible predictive control."
   ]
  },
  {
   "cell_type": "markdown",
   "metadata": {},
   "source": [
    "## Hardware\n",
    "\n",
    "This notebook provides a basic introduction to the device and the TCLab library.\n",
    "\n",
    "<img src='figures/B.00-arduino_lab_kit.png' style=\"float: right;padding-left:30px;\"></img>\n",
    "The Temperature Control Laboratory hardware consists of five components:\n",
    "\n",
    "1. Arduino microcontroller board (Arduino Uno, Arduino Leonardo, or equivalents).\n",
    "\n",
    "2. The Temperature Control Laboratory plug-in board (also known as a shield).\n",
    "\n",
    "3. Five watt USB power supply.\n",
    "\n",
    "4. 5.5mm to USB power supply cable.\n",
    "\n",
    "5. USB 2.0 data cable. (w/mini-USB connector for Arduino Uno, or micro-USB cable for Arduino Leonardo.)\n",
    "\n",
    "Before going further, be sure to complete the steps outlined under *Hardware setup* as described in TCLab [README](https://github.com/jckantor/TCLab/blob/master/README.rst). Mac OS users may need to install a serial driver available [here](https://github.com/adrianmihalko/ch340g-ch34g-ch34x-mac-os-x-driver). Normally the TCLab shield will already be mounted on the Arduino board, and the firmware driver will have been loaded on to the Arduino."
   ]
  },
  {
   "cell_type": "markdown",
   "metadata": {},
   "source": [
    "<!--NAVIGATION-->\n",
    "< [Introduction to the Temperature Control Laboratory](http://nbviewer.jupyter.org/github/jckantor/CBE32338/blob/master/notebooks/01.00-Introduction-to-the-Temperature-Control-Laboratory.ipynb) | [Contents](toc.ipynb) | [The TCLab Python Package](http://nbviewer.jupyter.org/github/jckantor/CBE32338/blob/master/notebooks/01.02-The-TCLab-Python-Package.ipynb) ><p><a href=\"https://colab.research.google.com/github/jckantor/CBE32338/blob/master/notebooks/01.01-TCLab.ipynb\"><img align=\"left\" src=\"https://colab.research.google.com/assets/colab-badge.svg\" alt=\"Open in Colab\" title=\"Open in Google Colaboratory\"></a><p><a href=\"https://raw.githubusercontent.com/jckantor/CBE32338/master/notebooks/01.01-TCLab.ipynb\"><img align=\"left\" src=\"https://img.shields.io/badge/Github-Download-blue.svg\" alt=\"Download\" title=\"Download Notebook\"></a>"
   ]
  }
 ],
 "metadata": {
  "kernelspec": {
   "display_name": "Python 3 (ipykernel)",
   "language": "python",
   "name": "python3"
  },
  "language_info": {
   "codemirror_mode": {
    "name": "ipython",
    "version": 3
   },
   "file_extension": ".py",
   "mimetype": "text/x-python",
   "name": "python",
   "nbconvert_exporter": "python",
   "pygments_lexer": "ipython3",
   "version": "3.8.12"
  }
 },
 "nbformat": 4,
 "nbformat_minor": 4
}

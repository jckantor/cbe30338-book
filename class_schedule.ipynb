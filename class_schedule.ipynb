{
 "cells": [
  {
   "cell_type": "markdown",
   "metadata": {
    "id": "9hX_peCKAPoV"
   },
   "source": [
    "# Course Schedule"
   ]
  },
  {
   "cell_type": "markdown",
   "metadata": {
    "id": "exrndE_3AV3N"
   },
   "source": [
    "## Create Course Calendar"
   ]
  },
  {
   "cell_type": "markdown",
   "metadata": {
    "id": "j90WYC9GA88P"
   },
   "source": [
    "### Compute class days"
   ]
  },
  {
   "cell_type": "code",
   "execution_count": 1,
   "metadata": {
    "colab": {
     "base_uri": "https://localhost:8080/"
    },
    "executionInfo": {
     "elapsed": 98,
     "status": "ok",
     "timestamp": 1641220431836,
     "user": {
      "displayName": "Jeffrey Kantor",
      "photoUrl": "https://lh3.googleusercontent.com/a-/AOh14Gg_n8V7bVINy02QRuRgOoMo11Ri7NKU3OUKdC1bkQ=s64",
      "userId": "09038942003589296665"
     },
     "user_tz": 300
    },
    "id": "f6TwWpnWihmI",
    "outputId": "869dde55-d0e0-4a1b-fccf-08a92078a64c"
   },
   "outputs": [
    {
     "name": "stdout",
     "output_type": "stream",
     "text": [
      "28 Tuesday-Thursday classes\n",
      "14 Wednesday clssses\n",
      "11 Friday clssses\n"
     ]
    }
   ],
   "source": [
    "from datetime import date, timedelta\n",
    "\n",
    "# first and last class days for the semester\n",
    "first_class_day = date(2022, 1, 10)\n",
    "last_class_day = date(2022, 4, 26)\n",
    "\n",
    "# dictionary of university holidays with start and end dates\n",
    "holidays = {\n",
    "    'Martin Luther_King': (date(2022, 1, 17), date(2022, 1, 17)),\n",
    "    'Spring Break': (date(2022, 3, 5), date(2022, 3, 13)),\n",
    "    'Easter Break': (date(2022, 4, 15), date(2022, 4, 18)),\n",
    "}\n",
    "\n",
    "# additional no-class days\n",
    "no_class_days = [\n",
    "    date(2022, 3, 4),     # no lab on the friday before spring break\n",
    "    date(2022, 4, 22),    # no lab day after last class session\n",
    "    date(2022, 4, 26),    # special university rule for Spring, 2022\n",
    "]\n",
    "\n",
    "# create list of all class days in semester\n",
    "days = [first_class_day + timedelta(days=k) for k in range((last_class_day  -  first_class_day).days + 1)]\n",
    "\n",
    "# remove weekends Monday = 0, Friday = 4\n",
    "class_days = [day for day in days if day.weekday() <= 4]\n",
    "\n",
    "# remove holidays\n",
    "for holiday, dates in holidays.items():\n",
    "    start, end = dates\n",
    "    class_days = [day for day in class_days if not (day >= start and day <= end)]\n",
    "\n",
    "# remove no-class days\n",
    "class_days = [day for day in class_days if not day in no_class_days]\n",
    "\n",
    "# get standard class schedules (Mo=0, Tu=1, We=2, Th=3, Fr=4, Sa=5, Su=6)\n",
    "tuesday_thursdays= [day for day in class_days if (day.weekday()==1 or day.weekday()==3)]\n",
    "wednesdays = [day for day in class_days if (day.weekday()==2)]\n",
    "fridays = [day for day in class_days if (day.weekday()==4)]\n",
    "\n",
    "print(f\"{len(tuesday_thursdays)} Tuesday-Thursday classes\")\n",
    "print(f\"{len(wednesdays)} Wednesday clssses\")\n",
    "print(f\"{len(fridays)} Friday clssses\")"
   ]
  },
  {
   "cell_type": "markdown",
   "metadata": {
    "id": "ufpueXLtQzjm"
   },
   "source": [
    "## Labs and Lectures"
   ]
  },
  {
   "cell_type": "code",
   "execution_count": 2,
   "metadata": {
    "executionInfo": {
     "elapsed": 172,
     "status": "ok",
     "timestamp": 1641224121451,
     "user": {
      "displayName": "Jeffrey Kantor",
      "photoUrl": "https://lh3.googleusercontent.com/a-/AOh14Gg_n8V7bVINy02QRuRgOoMo11Ri7NKU3OUKdC1bkQ=s64",
      "userId": "09038942003589296665"
     },
     "user_tz": 300
    },
    "id": "vl_oMiVVJPuH"
   },
   "outputs": [],
   "source": [
    "# enter informaation as (title, readings, assignment due)\n",
    "\n",
    "\n",
    "labs = [\n",
    "    (\"Lab 1: Coding a Simple Thermostat\", \"Lab 1.0\", \"\"),\n",
    "    (\"Lab 2: Empirical Model Fitting\", \"Lab 2.0\", \"Lab 1 assignment\"),\n",
    "    (\"Lab 3: Model Parameter Estimation\", \"Lab 3.0\", \"Lab 2 assignment\"),\n",
    "    (\"Quiz 1: Process Modeling\", \"\", \"Lab 3 assignment\"),\n",
    "    (\"Lab 4: PID Control\", \"Lab 4.0\", \"\"),\n",
    "    (\"Quiz 2: Feedback Control\", \"\", \"Lab 4 assignment\"),\n",
    "    (\"Lab 5: Observers and State Estimation\", \"Lab 5.0\", \"\"),\n",
    "    (\"Quiz 3: Process Analytics\", \"\", \"\"),\n",
    "    (\"Lab 6: Optimal Control\", \"Lab 6.0\", \"\"),\n",
    "    (\"Lab 7: Model Predictive Control\", \"Lab 7.0\", \"Lab 6 assignment\"),\n",
    "    (\"Quiz 4: Optimization\", \"\", \"Lab 7 assignment\"),\n",
    "]\n",
    "\n",
    "lectures = [\n",
    "    # Course Introduction\n",
    "    (\"Course organization and Introduction to Process Control\", \"\", \"\"),\n",
    "    (\"Introduction to the Temperature Control Laboratory\", \"\", \"\"),\n",
    "    # Modeling\n",
    "    (\"First and Second Order Linear Systems \", \"\", \"\"),\n",
    "    (\"Step Responses and Model Fitting\", \"\", \"\"),\n",
    "    (\"Modeling: Pharamakokinetics\", \"\", \"\"),\n",
    "    (\"Modeling: Temperature Control Lab\", \"\", \"\"),\n",
    "    (\"Modeling: Exothermic Reactor\", \"\", \"\"),\n",
    "    (\"Modeling: Systems\", \"\", \"\"),\n",
    "    # Feedback Control\n",
    "    (\"Setpoints, Disturbances, Servo and Regulation Problems\", \"\", \"\"),\n",
    "    (\"P, PI, and PID Control, and Tuning\", \"\", \"\"),\n",
    "    (\"Implementation Issues: Bumpless Transfer and Integral Windup\", \"\", \"\"),\n",
    "    (\"Cascade Control\", \"\", \"\"),\n",
    "    # Process Analytics\n",
    "    (\"Historians, Open Loop Estimation\", \"\", \"\"),\n",
    "    (\"Observers, State Estimation, Anomoly Detection\", \"\", \"\"),\n",
    "    (\"Semester Project Instructions and Group Formation\", \"\", \"\"),\n",
    "    (\"State Estimation: Environmental and Medical Applications\", \"\", \"\"),\n",
    "    # Optimization\n",
    "    (\"Linear Production Models\", \"\", \"\"),\n",
    "    (\"Linear Blending Problems\", \"\", \"\"),\n",
    "    (\"Static Operability\", \"\", \"\"),\n",
    "    (\"Dynamic Optimization\", \"\", \"\"),\n",
    "    # Predictive Control\n",
    "    (\"Simulation and Open-Loop Optimal Control\", \"\", \"\"),\n",
    "    (\"Predictive Control\", \"\", \"\"),\n",
    "    (\"Implementing Predictive Control\", \"\", \"\"),\n",
    "    (\"Predictive Control Case Study\", \"\", \"\"),\n",
    "    # Discrete Event Modeling\n",
    "    (\"Agent Based Models\", \"\", \"\"),\n",
    "    (\"Queuing and Batch Chemcial Processes\", \"\", \"\"),\n",
    "    # Student Projects\n",
    "    (\"Student Project Presentations - Day 1\", \"\", \"\"),\n",
    "    (\"Student Project Presentations - Day 2\", \"\", \"\"),\n",
    "]\n",
    "\n",
    "office_hours = [\n",
    "    (\"\", \"\", \"\"),\n",
    "    (\"\", \"\", \"\"),\n",
    "    (\"\", \"\", \"\"),\n",
    "    (\"\", \"\", \"\"),\n",
    "    (\"\", \"\", \"\"),\n",
    "    (\"\", \"\", \"\"),\n",
    "    (\"\", \"\", \"\"),\n",
    "    (\"\", \"\", \"\"),\n",
    "    (\"Project Reviews\", \"\", \"\"),\n",
    "    (\"\", \"\", \"\"),\n",
    "    (\"\", \"\", \"\"),\n",
    "    (\"\", \"\", \"\"),\n",
    "    (\"\", \"\", \"\"),\n",
    "    (\"\", \"\", \"\"),\n",
    "]\n"
   ]
  },
  {
   "cell_type": "markdown",
   "metadata": {
    "id": "f18gQQnDBQW6"
   },
   "source": [
    "## Display Course Schedule"
   ]
  },
  {
   "cell_type": "code",
   "execution_count": 18,
   "metadata": {
    "colab": {
     "base_uri": "https://localhost:8080/",
     "height": 1000
    },
    "executionInfo": {
     "elapsed": 338,
     "status": "ok",
     "timestamp": 1641224122194,
     "user": {
      "displayName": "Jeffrey Kantor",
      "photoUrl": "https://lh3.googleusercontent.com/a-/AOh14Gg_n8V7bVINy02QRuRgOoMo11Ri7NKU3OUKdC1bkQ=s64",
      "userId": "09038942003589296665"
     },
     "user_tz": 300
    },
    "id": "oQkG4N42YHA0",
    "outputId": "f67a2c17-8f4a-4e24-f915-428c5eff6b97"
   },
   "outputs": [
    {
     "data": {
      "text/markdown": [
       "#### Week 1: Jan 11 - Jan 14"
      ],
      "text/plain": [
       "<IPython.core.display.Markdown object>"
      ]
     },
     "metadata": {},
     "output_type": "display_data"
    },
    {
     "data": {
      "text/markdown": [
       "|        | Day   | Activity     | Topic                                                   | Reading   | Due   |\n",
       "|:-------|:------|:-------------|:--------------------------------------------------------|:----------|:------|\n",
       "| Jan 11 | Tue   | Class        | Course organization and Introduction to Process Control |           |       |\n",
       "| Jan 12 | Wed   | Office Hours |                                                         |           |       |\n",
       "| Jan 13 | Thu   | Class        | Introduction to the Temperature Control Laboratory      |           |       |\n",
       "| Jan 14 | Fri   | Lab          | Lab 1: Coding a Simple Thermostat                       | Lab 1.0   |       |"
      ],
      "text/plain": [
       "<IPython.core.display.Markdown object>"
      ]
     },
     "metadata": {},
     "output_type": "display_data"
    },
    {
     "data": {
      "text/markdown": [
       "#### Week 2: Jan 18 - Jan 21"
      ],
      "text/plain": [
       "<IPython.core.display.Markdown object>"
      ]
     },
     "metadata": {},
     "output_type": "display_data"
    },
    {
     "data": {
      "text/markdown": [
       "|        | Day   | Activity     | Topic                                 | Reading   | Due              |\n",
       "|:-------|:------|:-------------|:--------------------------------------|:----------|:-----------------|\n",
       "| Jan 18 | Tue   | Class        | First and Second Order Linear Systems |           |                  |\n",
       "| Jan 19 | Wed   | Office Hours |                                       |           |                  |\n",
       "| Jan 20 | Thu   | Class        | Step Responses and Model Fitting      |           |                  |\n",
       "| Jan 21 | Fri   | Lab          | Lab 2: Empirical Model Fitting        | Lab 2.0   | Lab 1 assignment |"
      ],
      "text/plain": [
       "<IPython.core.display.Markdown object>"
      ]
     },
     "metadata": {},
     "output_type": "display_data"
    },
    {
     "data": {
      "text/markdown": [
       "#### Week 3: Jan 25 - Jan 28"
      ],
      "text/plain": [
       "<IPython.core.display.Markdown object>"
      ]
     },
     "metadata": {},
     "output_type": "display_data"
    },
    {
     "data": {
      "text/markdown": [
       "|        | Day   | Activity     | Topic                             | Reading   | Due              |\n",
       "|:-------|:------|:-------------|:----------------------------------|:----------|:-----------------|\n",
       "| Jan 25 | Tue   | Class        | Modeling: Pharamakokinetics       |           |                  |\n",
       "| Jan 26 | Wed   | Office Hours |                                   |           |                  |\n",
       "| Jan 27 | Thu   | Class        | Modeling: Temperature Control Lab |           |                  |\n",
       "| Jan 28 | Fri   | Lab          | Lab 3: Model Parameter Estimation | Lab 3.0   | Lab 2 assignment |"
      ],
      "text/plain": [
       "<IPython.core.display.Markdown object>"
      ]
     },
     "metadata": {},
     "output_type": "display_data"
    },
    {
     "data": {
      "text/markdown": [
       "#### Week 4: Feb 1 - Feb 4"
      ],
      "text/plain": [
       "<IPython.core.display.Markdown object>"
      ]
     },
     "metadata": {},
     "output_type": "display_data"
    },
    {
     "data": {
      "text/markdown": [
       "|       | Day   | Activity     | Topic                        | Reading   | Due              |\n",
       "|:------|:------|:-------------|:-----------------------------|:----------|:-----------------|\n",
       "| Feb 1 | Tue   | Class        | Modeling: Exothermic Reactor |           |                  |\n",
       "| Feb 2 | Wed   | Office Hours |                              |           |                  |\n",
       "| Feb 3 | Thu   | Class        | Modeling: Systems            |           |                  |\n",
       "| Feb 4 | Fri   | Lab          | Quiz 1: Process Modeling     |           | Lab 3 assignment |"
      ],
      "text/plain": [
       "<IPython.core.display.Markdown object>"
      ]
     },
     "metadata": {},
     "output_type": "display_data"
    },
    {
     "data": {
      "text/markdown": [
       "#### Week 5: Feb 8 - Feb 11"
      ],
      "text/plain": [
       "<IPython.core.display.Markdown object>"
      ]
     },
     "metadata": {},
     "output_type": "display_data"
    },
    {
     "data": {
      "text/markdown": [
       "|        | Day   | Activity     | Topic                                                  | Reading   | Due   |\n",
       "|:-------|:------|:-------------|:-------------------------------------------------------|:----------|:------|\n",
       "| Feb 8  | Tue   | Class        | Setpoints, Disturbances, Servo and Regulation Problems |           |       |\n",
       "| Feb 9  | Wed   | Office Hours |                                                        |           |       |\n",
       "| Feb 10 | Thu   | Class        | P, PI, and PID Control, and Tuning                     |           |       |\n",
       "| Feb 11 | Fri   | Lab          | Lab 4: PID Control                                     | Lab 4.0   |       |"
      ],
      "text/plain": [
       "<IPython.core.display.Markdown object>"
      ]
     },
     "metadata": {},
     "output_type": "display_data"
    },
    {
     "data": {
      "text/markdown": [
       "#### Week 6: Feb 15 - Feb 18"
      ],
      "text/plain": [
       "<IPython.core.display.Markdown object>"
      ]
     },
     "metadata": {},
     "output_type": "display_data"
    },
    {
     "data": {
      "text/markdown": [
       "|        | Day   | Activity     | Topic                                                        | Reading   | Due              |\n",
       "|:-------|:------|:-------------|:-------------------------------------------------------------|:----------|:-----------------|\n",
       "| Feb 15 | Tue   | Class        | Implementation Issues: Bumpless Transfer and Integral Windup |           |                  |\n",
       "| Feb 16 | Wed   | Office Hours |                                                              |           |                  |\n",
       "| Feb 17 | Thu   | Class        | Cascade Control                                              |           |                  |\n",
       "| Feb 18 | Fri   | Lab          | Quiz 2: Feedback Control                                     |           | Lab 4 assignment |"
      ],
      "text/plain": [
       "<IPython.core.display.Markdown object>"
      ]
     },
     "metadata": {},
     "output_type": "display_data"
    },
    {
     "data": {
      "text/markdown": [
       "#### Week 7: Feb 22 - Feb 25"
      ],
      "text/plain": [
       "<IPython.core.display.Markdown object>"
      ]
     },
     "metadata": {},
     "output_type": "display_data"
    },
    {
     "data": {
      "text/markdown": [
       "|        | Day   | Activity     | Topic                                          | Reading   | Due   |\n",
       "|:-------|:------|:-------------|:-----------------------------------------------|:----------|:------|\n",
       "| Feb 22 | Tue   | Class        | Historians, Open Loop Estimation               |           |       |\n",
       "| Feb 23 | Wed   | Office Hours |                                                |           |       |\n",
       "| Feb 24 | Thu   | Class        | Observers, State Estimation, Anomoly Detection |           |       |\n",
       "| Feb 25 | Fri   | Lab          | Lab 5: Observers and State Estimation          | Lab 5.0   |       |"
      ],
      "text/plain": [
       "<IPython.core.display.Markdown object>"
      ]
     },
     "metadata": {},
     "output_type": "display_data"
    },
    {
     "data": {
      "text/markdown": [
       "#### Week 8: Mar 1 - Mar 3"
      ],
      "text/plain": [
       "<IPython.core.display.Markdown object>"
      ]
     },
     "metadata": {},
     "output_type": "display_data"
    },
    {
     "data": {
      "text/markdown": [
       "|       | Day   | Activity     | Topic                                                    | Reading   | Due   |\n",
       "|:------|:------|:-------------|:---------------------------------------------------------|:----------|:------|\n",
       "| Mar 1 | Tue   | Class        | Semester Project Instructions and Group Formation        |           |       |\n",
       "| Mar 2 | Wed   | Office Hours |                                                          |           |       |\n",
       "| Mar 3 | Thu   | Class        | State Estimation: Environmental and Medical Applications |           |       |"
      ],
      "text/plain": [
       "<IPython.core.display.Markdown object>"
      ]
     },
     "metadata": {},
     "output_type": "display_data"
    },
    {
     "data": {
      "text/markdown": [
       "#### Week 9: Mar 15 - Mar 18"
      ],
      "text/plain": [
       "<IPython.core.display.Markdown object>"
      ]
     },
     "metadata": {},
     "output_type": "display_data"
    },
    {
     "data": {
      "text/markdown": [
       "|        | Day   | Activity     | Topic                     | Reading   | Due   |\n",
       "|:-------|:------|:-------------|:--------------------------|:----------|:------|\n",
       "| Mar 15 | Tue   | Class        | Linear Production Models  |           |       |\n",
       "| Mar 16 | Wed   | Office Hours | Project Reviews           |           |       |\n",
       "| Mar 17 | Thu   | Class        | Linear Blending Problems  |           |       |\n",
       "| Mar 18 | Fri   | Lab          | Quiz 3: Process Analytics |           |       |"
      ],
      "text/plain": [
       "<IPython.core.display.Markdown object>"
      ]
     },
     "metadata": {},
     "output_type": "display_data"
    },
    {
     "data": {
      "text/markdown": [
       "#### Week 10: Mar 22 - Mar 25"
      ],
      "text/plain": [
       "<IPython.core.display.Markdown object>"
      ]
     },
     "metadata": {},
     "output_type": "display_data"
    },
    {
     "data": {
      "text/markdown": [
       "|        | Day   | Activity     | Topic                  | Reading   | Due   |\n",
       "|:-------|:------|:-------------|:-----------------------|:----------|:------|\n",
       "| Mar 22 | Tue   | Class        | Static Operability     |           |       |\n",
       "| Mar 23 | Wed   | Office Hours |                        |           |       |\n",
       "| Mar 24 | Thu   | Class        | Dynamic Optimization   |           |       |\n",
       "| Mar 25 | Fri   | Lab          | Lab 6: Optimal Control | Lab 6.0   |       |"
      ],
      "text/plain": [
       "<IPython.core.display.Markdown object>"
      ]
     },
     "metadata": {},
     "output_type": "display_data"
    },
    {
     "data": {
      "text/markdown": [
       "#### Week 11: Mar 29 - Apr 1"
      ],
      "text/plain": [
       "<IPython.core.display.Markdown object>"
      ]
     },
     "metadata": {},
     "output_type": "display_data"
    },
    {
     "data": {
      "text/markdown": [
       "|        | Day   | Activity     | Topic                                    | Reading   | Due              |\n",
       "|:-------|:------|:-------------|:-----------------------------------------|:----------|:-----------------|\n",
       "| Mar 29 | Tue   | Class        | Simulation and Open-Loop Optimal Control |           |                  |\n",
       "| Mar 30 | Wed   | Office Hours |                                          |           |                  |\n",
       "| Mar 31 | Thu   | Class        | Predictive Control                       |           |                  |\n",
       "| Apr 1  | Fri   | Lab          | Lab 7: Model Predictive Control          | Lab 7.0   | Lab 6 assignment |"
      ],
      "text/plain": [
       "<IPython.core.display.Markdown object>"
      ]
     },
     "metadata": {},
     "output_type": "display_data"
    },
    {
     "data": {
      "text/markdown": [
       "#### Week 12: Apr 5 - Apr 8"
      ],
      "text/plain": [
       "<IPython.core.display.Markdown object>"
      ]
     },
     "metadata": {},
     "output_type": "display_data"
    },
    {
     "data": {
      "text/markdown": [
       "|       | Day   | Activity     | Topic                           | Reading   | Due              |\n",
       "|:------|:------|:-------------|:--------------------------------|:----------|:-----------------|\n",
       "| Apr 5 | Tue   | Class        | Implementing Predictive Control |           |                  |\n",
       "| Apr 6 | Wed   | Office Hours |                                 |           |                  |\n",
       "| Apr 7 | Thu   | Class        | Predictive Control Case Study   |           |                  |\n",
       "| Apr 8 | Fri   | Lab          | Quiz 4: Optimization            |           | Lab 7 assignment |"
      ],
      "text/plain": [
       "<IPython.core.display.Markdown object>"
      ]
     },
     "metadata": {},
     "output_type": "display_data"
    },
    {
     "data": {
      "text/markdown": [
       "#### Week 13: Apr 12 - Apr 14"
      ],
      "text/plain": [
       "<IPython.core.display.Markdown object>"
      ]
     },
     "metadata": {},
     "output_type": "display_data"
    },
    {
     "data": {
      "text/markdown": [
       "|        | Day   | Activity     | Topic                                | Reading   | Due   |\n",
       "|:-------|:------|:-------------|:-------------------------------------|:----------|:------|\n",
       "| Apr 12 | Tue   | Class        | Agent Based Models                   |           |       |\n",
       "| Apr 13 | Wed   | Office Hours |                                      |           |       |\n",
       "| Apr 14 | Thu   | Class        | Queuing and Batch Chemcial Processes |           |       |"
      ],
      "text/plain": [
       "<IPython.core.display.Markdown object>"
      ]
     },
     "metadata": {},
     "output_type": "display_data"
    },
    {
     "data": {
      "text/markdown": [
       "#### Week 14: Apr 19 - Apr 21"
      ],
      "text/plain": [
       "<IPython.core.display.Markdown object>"
      ]
     },
     "metadata": {},
     "output_type": "display_data"
    },
    {
     "data": {
      "text/markdown": [
       "|        | Day   | Activity     | Topic                                 | Reading   | Due   |\n",
       "|:-------|:------|:-------------|:--------------------------------------|:----------|:------|\n",
       "| Apr 19 | Tue   | Class        | Student Project Presentations - Day 1 |           |       |\n",
       "| Apr 20 | Wed   | Office Hours |                                       |           |       |\n",
       "| Apr 21 | Thu   | Class        | Student Project Presentations - Day 2 |           |       |"
      ],
      "text/plain": [
       "<IPython.core.display.Markdown object>"
      ]
     },
     "metadata": {},
     "output_type": "display_data"
    },
    {
     "name": "stdout",
     "output_type": "stream",
     "text": [
      "writing\n"
     ]
    }
   ],
   "source": [
    "import pandas as pd\n",
    "from datetime import timedelta\n",
    "from IPython.display import display, HTML, Markdown\n",
    "\n",
    "# create a class schedule dictionary\n",
    "def schedule(activity, days, topics=[(\"\", \"\", \"\")]*len(days)):\n",
    "    if len(topics) < len(days):\n",
    "        topics = topics + [(\"\", \"\", \"\")]*(len(days) - len(topics))\n",
    "    classes = {}\n",
    "    for k, day in enumerate(sorted(days)):\n",
    "        classes[day] = {\n",
    "            \"Activity\": activity,\n",
    "            \"Topic\": topics[k][0],\n",
    "            \"Reading\": topics[k][1],\n",
    "            \"Due\": topics[k][2],\n",
    "            \"k\": k + 1,\n",
    "            \"week\": day.isocalendar()[1],\n",
    "        }\n",
    "    return classes\n",
    " \n",
    "class_schedule = schedule(\"Class\", tuesday_thursdays, lectures)\n",
    "class_schedule.update(schedule(\"Lab\", fridays, labs))\n",
    "class_schedule.update(schedule(\"Office Hours\", wednesdays, office_hours))\n",
    "\n",
    "# create pandas dataframe\n",
    "class_meetings = pd.DataFrame.from_dict(class_schedule, orient=\"index\")\n",
    "class_meetings.sort_index(inplace=True)\n",
    "class_meetings[\"date\"] = class_meetings.index\n",
    "class_meetings[\"Day\"] = pd.to_datetime(class_meetings.index).strftime(\"%a\")\n",
    "class_meetings.index = pd.to_datetime(class_meetings.index).strftime(\"%b %-d\")\n",
    "\n",
    "weeks = class_meetings.groupby(\"week\")\n",
    "\n",
    "txt = f\"# Schedule\\n\\n\"\n",
    "for k, week in enumerate(weeks):\n",
    "    d1 = week[1][\"date\"].min().strftime(\"%b %-d\")\n",
    "    d2 = week[1][\"date\"].max().strftime(\"%b %-d\")\n",
    "    hdr = f\"#### Week {k + 1}: {d1} - {d2}\"\n",
    "    txt += hdr + \"\\n\" * 2\n",
    "    tbl = week[1][[\"Day\", \"Activity\", \"Topic\", \"Reading\", \"Due\"]].to_markdown()\n",
    "    txt += tbl+ \"\\n\" * 2\n",
    "    display(Markdown(hdr))\n",
    "    display(Markdown(tbl))\n",
    "    \n",
    "with open(\"Schedule.md\", \"w\") as f:\n",
    "    print(\"writing\")\n",
    "    f.write(txt)"
   ]
  },
  {
   "cell_type": "code",
   "execution_count": null,
   "metadata": {},
   "outputs": [],
   "source": []
  },
  {
   "cell_type": "code",
   "execution_count": null,
   "metadata": {},
   "outputs": [],
   "source": []
  }
 ],
 "metadata": {
  "colab": {
   "authorship_tag": "ABX9TyNFboPP2FJ7SCeFije0iBvO",
   "collapsed_sections": [],
   "name": "ND_Class_Schedule.ipynb",
   "provenance": []
  },
  "kernelspec": {
   "display_name": "Python 3 (ipykernel)",
   "language": "python",
   "name": "python3"
  },
  "language_info": {
   "codemirror_mode": {
    "name": "ipython",
    "version": 3
   },
   "file_extension": ".py",
   "mimetype": "text/x-python",
   "name": "python",
   "nbconvert_exporter": "python",
   "pygments_lexer": "ipython3",
   "version": "3.8.12"
  }
 },
 "nbformat": 4,
 "nbformat_minor": 4
}

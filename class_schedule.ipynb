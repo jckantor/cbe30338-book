{
 "cells": [
  {
   "cell_type": "markdown",
   "metadata": {
    "id": "9hX_peCKAPoV"
   },
   "source": [
    "# Course Schedule\n",
    "\n",
    "The purpose of this notebook is prepare a markdown document containing a detailed course schedule."
   ]
  },
  {
   "cell_type": "markdown",
   "metadata": {
    "id": "j90WYC9GA88P"
   },
   "source": [
    "## Compute University Class Schedules\n",
    "\n",
    "The first cell computes a list ``classday_dates`` containing date objects for every valid class day in a semester, and a derived dictionary ``class_dates`` with date objects for standard weekly class schedules such as MWF and TR. The class dates account for university holidays and breaks. To update for a new semester, consult the University calendar and then update the first and last class day, the list of University holidays and breaks, and any special rules that may apply to a particular semeester."
   ]
  },
  {
   "cell_type": "code",
   "execution_count": 9,
   "metadata": {
    "colab": {
     "base_uri": "https://localhost:8080/"
    },
    "executionInfo": {
     "elapsed": 98,
     "status": "ok",
     "timestamp": 1641220431836,
     "user": {
      "displayName": "Jeffrey Kantor",
      "photoUrl": "https://lh3.googleusercontent.com/a-/AOh14Gg_n8V7bVINy02QRuRgOoMo11Ri7NKU3OUKdC1bkQ=s64",
      "userId": "09038942003589296665"
     },
     "user_tz": 300
    },
    "id": "f6TwWpnWihmI",
    "outputId": "869dde55-d0e0-4a1b-fccf-08a92078a64c"
   },
   "outputs": [
    {
     "name": "stdout",
     "output_type": "stream",
     "text": [
      "  MWF:  41 class days\n",
      "   TR:  28 class days\n",
      "   MW:  27 class days\n",
      "    W:  14 class days\n",
      "    F:  13 class days\n"
     ]
    }
   ],
   "source": [
    "from datetime import date, timedelta         \n",
    "\n",
    "def date_range(start_date, end_date):\n",
    "    return [start_date + timedelta(days=k) for k in range((end_date - start_date).days + 1)]\n",
    "\n",
    "def remove_dates(a, b):\n",
    "    return sorted(set(a) - set(b))\n",
    "\n",
    "# first and last class days for the semester\n",
    "first_class_day = date(2022, 1, 10)\n",
    "last_class_day = date(2022, 4, 26)\n",
    "\n",
    "# compute all dates in the semester\n",
    "semester_dates = date_range(first_class_day, last_class_day)\n",
    "\n",
    "# remove weekends from classdays\n",
    "weekend_dates = [day for day in semester_dates if day.weekday() in (5, 6)]\n",
    "classday_dates = remove_dates(semester_dates, weekend_dates)\n",
    "\n",
    "# university holidays\n",
    "holidays = {\n",
    "    'Martin Luther_King': date_range(date(2022, 1, 17), date(2022, 1, 17)),\n",
    "    'Spring Break': date_range(date(2022, 3, 5), date(2022, 3, 13)),\n",
    "    'Easter Break': date_range(date(2022, 4, 15), date(2022, 4, 18)),\n",
    "}\n",
    "\n",
    "# remove university holidays\n",
    "for holiday, holiday_dates in holidays.items():\n",
    "    classday_dates = remove_dates(classday_dates, holiday_dates)\n",
    "    \n",
    "# compute standard university class schedules\n",
    "class_dates = dict()\n",
    "class_dates[\"MWF\"] = [day for day in classday_dates if day.weekday() in (0, 2, 4)]\n",
    "class_dates[\"TR\"] = [day for day in classday_dates if day.weekday() in (1, 3)]\n",
    "class_dates[\"MW\"] = [day for day in classday_dates if day.weekday() in (0, 2)]\n",
    "class_dates[\"W\"] = [day for day in classday_dates if day.weekday() == 2]\n",
    "class_dates[\"F\"] = [day for day in classday_dates if day.weekday() == 4]\n",
    "\n",
    "# special rules for Spring, 2022\n",
    "class_dates[\"MWF\"].append(class_dates[\"TR\"][-1])\n",
    "class_dates[\"TR\"] = class_dates[\"TR\"][:-1]\n",
    "\n",
    "for sched, dates in class_dates.items():\n",
    "    print(f\"{sched:>5s}:  {len(dates):2d} class days\")                                        "
   ]
  },
  {
   "cell_type": "markdown",
   "metadata": {
    "id": "ufpueXLtQzjm"
   },
   "source": [
    "## CBE 30338/32338 Labs and Lectures\n",
    "\n",
    "The following cell adds course specific details. In this instance, we we first modify the ``class_dates`` dictionary to remove any dates for which this class may not meet. Considerations may include lab or tutorial sessions on days prior to Spring or Fall break, or prior to Junior Parents Weekend.\n",
    "\n",
    "Individual lists are created for each type of course activity, such as lectures, labs, or office hours. The times in each list contain information specific to session. The information has three components: title, pre-reads, and assignment to be distributed on that date."
   ]
  },
  {
   "cell_type": "code",
   "execution_count": 10,
   "metadata": {
    "executionInfo": {
     "elapsed": 172,
     "status": "ok",
     "timestamp": 1641224121451,
     "user": {
      "displayName": "Jeffrey Kantor",
      "photoUrl": "https://lh3.googleusercontent.com/a-/AOh14Gg_n8V7bVINy02QRuRgOoMo11Ri7NKU3OUKdC1bkQ=s64",
      "userId": "09038942003589296665"
     },
     "user_tz": 300
    },
    "id": "vl_oMiVVJPuH"
   },
   "outputs": [
    {
     "name": "stdout",
     "output_type": "stream",
     "text": [
      "MWF 41\n",
      "TR 28\n",
      "MW 27\n",
      "W 14\n",
      "F 13\n"
     ]
    }
   ],
   "source": [
    "# enter informaation as (title, pre-readings, assignment)\n",
    "\n",
    "no_class_days = [\n",
    "    date(2022, 3, 4),     # no lab on the friday before spring break\n",
    "    date(2022, 1, 21),    # no lab day\n",
    "    date(2022, 4, 22),    # no lab day after last class session\n",
    "]\n",
    "\n",
    "for sched, dates in class_dates.items():\n",
    "    class_dates[sched] = remove_dates(class_dates[sched], no_class_days)\n",
    "    print(sched, len(dates))\n",
    "\n",
    "labs = [\n",
    "    (\"Lab 1: Coding a Simple Thermostat\", \"Lab Chapter 1\", \"Lab Assignment 1\"),\n",
    "#    (\"Lab 2: Empirical Model Fitting\", \"Lab Chapter 2\", \"Lab Assignment 2\"),\n",
    "    (\"Lab 3: Model Parameter Estimation\", \"Lab Chapter 3\", \"Lab Assignment 3\"),\n",
    "    (\"\", \"\", \"\"),\n",
    "    (\"Quiz 1 / Lab 4: PID Control\", \"Lab Chapter 4\", \"Lab Assignment 4\"),\n",
    "    (\"Quiz 2: Feedback Control\", \"\", \"\"),\n",
    "    (\"Lab 5: Observers and State Estimation\", \"Lab Chapter 5\", \"Lab Assignment 5\"),\n",
    "    (\"Quiz 3: Process Analytics\", \"\", \"\"),\n",
    "    (\"Lab 6: Optimal Control\", \"Lab Chapter 6\", \"Lab Assignment 6\"),\n",
    "    (\"Lab 7: Model Predictive Control\", \"Lab Chapter 7\", \"Lab Assignment 7\"),\n",
    "    (\"Quiz 4: Optimization\", \"\", \"\"),\n",
    "]\n",
    "\n",
    "lectures = [\n",
    "    # Course Introduction\n",
    "    (\"Course organization and Introduction to Process Control\", \"\", \"\"),\n",
    "    (\"Introduction to the Temperature Control Laboratory\", \"\", \"\"),\n",
    "    # Modeling\n",
    "    (\"First Linear Systems \", \"Section 2.1\", \"HW Assignment 1\"),\n",
    "    (\"Modeling: Pharamakokinetics\", \"Section 2.2\", \"\"),\n",
    "    (\"Modeling: Temperature Control Lab\", \"Section 2.3\", \"\"),\n",
    "    (\"Modeling: Second Order Systems\", \"Section 2.4\", \"\"),\n",
    "    (\"Modeling: Fitting Higher Order Models\", \"Section 2.5\", \"\"),\n",
    "    (\"Modeling: Reactor Modeling\", \"Sections 2.6 and 2.7\", \"HW Assignment 2\"),\n",
    "    # Feedback Control\n",
    "    (\"Setpoints, Disturbances, Servo and Regulation Problems\", \"\", \"\"),\n",
    "    (\"P, PI, and PID Control, and Tuning\", \"\", \"\"),\n",
    "    (\"Implementation Issues: Bumpless Transfer and Integral Windup\", \"\", \"No Assignment (JPW)\"),\n",
    "    (\"Cascade Control\", \"\", \"\"),\n",
    "    # Process Analytics\n",
    "    (\"Historians, Open Loop Estimation\", \"\", \"\"),\n",
    "    (\"Observers and State Estimation\", \"\", \"\"),\n",
    "    (\"Anomoly Detection\", \"\", \"Final Project Assigned\"),\n",
    "    (\"State Estimation: Environmental and Medical Applications\", \"\", \"\"),\n",
    "    # Optimization\n",
    "    (\"Linear Production Models\", \"\", \"Project Proposal Due\"),\n",
    "    (\"Linear Blending Problems\", \"\", \"\"),\n",
    "    (\"Static Operability\", \"\", \"\"),\n",
    "    (\"Dynamic Optimization\", \"\", \"\"),\n",
    "    # Predictive Control\n",
    "    (\"Simulation and Open-Loop Optimal Control\", \"\", \"\"),\n",
    "    (\"Predictive Control\", \"\", \"\"),\n",
    "    (\"Implementing Predictive Control\", \"\", \"Project Progress Report Due\"),\n",
    "    (\"Predictive Control Case Study\", \"\", \"\"),\n",
    "    # Discrete Event Modeling\n",
    "    (\"Agent Based Models\", \"\", \"\"),\n",
    "    (\"Queuing and Batch Chemcial Processes\", \"\", \"\"),\n",
    "    # Student Projects\n",
    "    (\"Student Project Presentations\", \"\", \"\"),\n",
    "    (\"Student Project Presentations\", \"\", \"\"),\n",
    "]\n",
    "\n",
    "office_hours = [\n",
    "    (\"\", \"\", \"\"),\n",
    "    (\"\", \"\", \"\"),\n",
    "    (\"\", \"\", \"\"),\n",
    "    (\"\", \"\", \"\"),\n",
    "    (\"\", \"\", \"\"),\n",
    "    (\"\", \"\", \"\"),\n",
    "    (\"\", \"\", \"\"),\n",
    "    (\"\", \"\", \"\"),\n",
    "    (\"Project Reviews\", \"\", \"\"),\n",
    "    (\"Project Reviews\", \"\", \"\"),\n",
    "    (\"Project Reviews\", \"\", \"\"),\n",
    "    (\"\", \"\", \"\"),\n",
    "    (\"\", \"\", \"\"),\n",
    "    (\"\", \"\", \"\"),\n",
    "]\n"
   ]
  },
  {
   "cell_type": "markdown",
   "metadata": {
    "id": "f18gQQnDBQW6"
   },
   "source": [
    "## Display Course Schedule"
   ]
  },
  {
   "cell_type": "code",
   "execution_count": 11,
   "metadata": {
    "colab": {
     "base_uri": "https://localhost:8080/",
     "height": 1000
    },
    "executionInfo": {
     "elapsed": 338,
     "status": "ok",
     "timestamp": 1641224122194,
     "user": {
      "displayName": "Jeffrey Kantor",
      "photoUrl": "https://lh3.googleusercontent.com/a-/AOh14Gg_n8V7bVINy02QRuRgOoMo11Ri7NKU3OUKdC1bkQ=s64",
      "userId": "09038942003589296665"
     },
     "user_tz": 300
    },
    "id": "oQkG4N42YHA0",
    "outputId": "f67a2c17-8f4a-4e24-f915-428c5eff6b97"
   },
   "outputs": [
    {
     "data": {
      "text/markdown": [
       "## Week 1: Jan 11 - Jan 14"
      ],
      "text/plain": [
       "<IPython.core.display.Markdown object>"
      ]
     },
     "metadata": {},
     "output_type": "display_data"
    },
    {
     "data": {
      "text/markdown": [
       "|        | Day   | Activity     | Topic                                                   | Pre-reading   | Assignment       |\n",
       "|:-------|:------|:-------------|:--------------------------------------------------------|:--------------|:-----------------|\n",
       "| Jan 11 | Tue   | Class        | Course organization and Introduction to Process Control |               |                  |\n",
       "| Jan 12 | Wed   | Office Hours |                                                         |               |                  |\n",
       "| Jan 13 | Thu   | Class        | Introduction to the Temperature Control Laboratory      |               |                  |\n",
       "| Jan 14 | Fri   | Lab          | Lab 1: Coding a Simple Thermostat                       | Lab Chapter 1 | Lab Assignment 1 |"
      ],
      "text/plain": [
       "<IPython.core.display.Markdown object>"
      ]
     },
     "metadata": {},
     "output_type": "display_data"
    },
    {
     "data": {
      "text/markdown": [
       "## Week 2: Jan 18 - Jan 20"
      ],
      "text/plain": [
       "<IPython.core.display.Markdown object>"
      ]
     },
     "metadata": {},
     "output_type": "display_data"
    },
    {
     "data": {
      "text/markdown": [
       "|        | Day   | Activity     | Topic                       | Pre-reading   | Assignment      |\n",
       "|:-------|:------|:-------------|:----------------------------|:--------------|:----------------|\n",
       "| Jan 18 | Tue   | Class        | First Linear Systems        | Section 2.1   | HW Assignment 1 |\n",
       "| Jan 19 | Wed   | Office Hours |                             |               |                 |\n",
       "| Jan 20 | Thu   | Class        | Modeling: Pharamakokinetics | Section 2.2   |                 |"
      ],
      "text/plain": [
       "<IPython.core.display.Markdown object>"
      ]
     },
     "metadata": {},
     "output_type": "display_data"
    },
    {
     "data": {
      "text/markdown": [
       "## Week 3: Jan 25 - Jan 28"
      ],
      "text/plain": [
       "<IPython.core.display.Markdown object>"
      ]
     },
     "metadata": {},
     "output_type": "display_data"
    },
    {
     "data": {
      "text/markdown": [
       "|        | Day   | Activity     | Topic                             | Pre-reading          | Assignment       |\n",
       "|:-------|:------|:-------------|:----------------------------------|:---------------------|:-----------------|\n",
       "| Jan 25 | Tue   | Class        | Modeling: Temperature Control Lab | Section 2.3          |                  |\n",
       "| Jan 26 | Wed   | Office Hours |                                   |                      |                  |\n",
       "| Jan 27 | Thu   | Class        | Modeling: Second Order Systems    | Sections 2.4 and 2.5 |                  |\n",
       "| Jan 28 | Fri   | Lab          | Lab 3: Model Parameter Estimation | Lab Chapter 3        | Lab Assignment 3 |"
      ],
      "text/plain": [
       "<IPython.core.display.Markdown object>"
      ]
     },
     "metadata": {},
     "output_type": "display_data"
    },
    {
     "data": {
      "text/markdown": [
       "## Week 4: Feb 1 - Feb 4"
      ],
      "text/plain": [
       "<IPython.core.display.Markdown object>"
      ]
     },
     "metadata": {},
     "output_type": "display_data"
    },
    {
     "data": {
      "text/markdown": [
       "|       | Day   | Activity     | Topic                        | Pre-reading   | Assignment   |\n",
       "|:------|:------|:-------------|:-----------------------------|:--------------|:-------------|\n",
       "| Feb 1 | Tue   | Class        | Modeling: Exothermic Reactor |               |              |\n",
       "| Feb 2 | Wed   | Office Hours |                              |               |              |\n",
       "| Feb 3 | Thu   | Class        | Modeling: Systems            |               |              |\n",
       "| Feb 4 | Fri   | Lab          | Quiz 1: Process Modeling     |               |              |"
      ],
      "text/plain": [
       "<IPython.core.display.Markdown object>"
      ]
     },
     "metadata": {},
     "output_type": "display_data"
    },
    {
     "data": {
      "text/markdown": [
       "## Week 5: Feb 8 - Feb 11"
      ],
      "text/plain": [
       "<IPython.core.display.Markdown object>"
      ]
     },
     "metadata": {},
     "output_type": "display_data"
    },
    {
     "data": {
      "text/markdown": [
       "|        | Day   | Activity     | Topic                                                  | Pre-reading   | Assignment       |\n",
       "|:-------|:------|:-------------|:-------------------------------------------------------|:--------------|:-----------------|\n",
       "| Feb 8  | Tue   | Class        | Setpoints, Disturbances, Servo and Regulation Problems |               |                  |\n",
       "| Feb 9  | Wed   | Office Hours |                                                        |               |                  |\n",
       "| Feb 10 | Thu   | Class        | P, PI, and PID Control, and Tuning                     |               |                  |\n",
       "| Feb 11 | Fri   | Lab          | Lab 4: PID Control                                     | Lab Chapter 4 | Lab Assignment 4 |"
      ],
      "text/plain": [
       "<IPython.core.display.Markdown object>"
      ]
     },
     "metadata": {},
     "output_type": "display_data"
    },
    {
     "data": {
      "text/markdown": [
       "## Week 6: Feb 15 - Feb 18"
      ],
      "text/plain": [
       "<IPython.core.display.Markdown object>"
      ]
     },
     "metadata": {},
     "output_type": "display_data"
    },
    {
     "data": {
      "text/markdown": [
       "|        | Day   | Activity     | Topic                                                        | Pre-reading   | Assignment          |\n",
       "|:-------|:------|:-------------|:-------------------------------------------------------------|:--------------|:--------------------|\n",
       "| Feb 15 | Tue   | Class        | Implementation Issues: Bumpless Transfer and Integral Windup |               | No Assignment (JPW) |\n",
       "| Feb 16 | Wed   | Office Hours |                                                              |               |                     |\n",
       "| Feb 17 | Thu   | Class        | Cascade Control                                              |               |                     |\n",
       "| Feb 18 | Fri   | Lab          | Quiz 2: Feedback Control                                     |               |                     |"
      ],
      "text/plain": [
       "<IPython.core.display.Markdown object>"
      ]
     },
     "metadata": {},
     "output_type": "display_data"
    },
    {
     "data": {
      "text/markdown": [
       "## Week 7: Feb 22 - Feb 25"
      ],
      "text/plain": [
       "<IPython.core.display.Markdown object>"
      ]
     },
     "metadata": {},
     "output_type": "display_data"
    },
    {
     "data": {
      "text/markdown": [
       "|        | Day   | Activity     | Topic                                 | Pre-reading   | Assignment       |\n",
       "|:-------|:------|:-------------|:--------------------------------------|:--------------|:-----------------|\n",
       "| Feb 22 | Tue   | Class        | Historians, Open Loop Estimation      |               |                  |\n",
       "| Feb 23 | Wed   | Office Hours |                                       |               |                  |\n",
       "| Feb 24 | Thu   | Class        | Observers and State Estimation        |               |                  |\n",
       "| Feb 25 | Fri   | Lab          | Lab 5: Observers and State Estimation | Lab Chapter 5 | Lab Assignment 5 |"
      ],
      "text/plain": [
       "<IPython.core.display.Markdown object>"
      ]
     },
     "metadata": {},
     "output_type": "display_data"
    },
    {
     "data": {
      "text/markdown": [
       "## Week 8: Mar 1 - Mar 3"
      ],
      "text/plain": [
       "<IPython.core.display.Markdown object>"
      ]
     },
     "metadata": {},
     "output_type": "display_data"
    },
    {
     "data": {
      "text/markdown": [
       "|       | Day   | Activity     | Topic                                                    | Pre-reading   | Assignment             |\n",
       "|:------|:------|:-------------|:---------------------------------------------------------|:--------------|:-----------------------|\n",
       "| Mar 1 | Tue   | Class        | Anomoly Detection                                        |               | Final Project Assigned |\n",
       "| Mar 2 | Wed   | Office Hours |                                                          |               |                        |\n",
       "| Mar 3 | Thu   | Class        | State Estimation: Environmental and Medical Applications |               |                        |"
      ],
      "text/plain": [
       "<IPython.core.display.Markdown object>"
      ]
     },
     "metadata": {},
     "output_type": "display_data"
    },
    {
     "data": {
      "text/markdown": [
       "## Week 9: Mar 15 - Mar 18"
      ],
      "text/plain": [
       "<IPython.core.display.Markdown object>"
      ]
     },
     "metadata": {},
     "output_type": "display_data"
    },
    {
     "data": {
      "text/markdown": [
       "|        | Day   | Activity     | Topic                     | Pre-reading   | Assignment           |\n",
       "|:-------|:------|:-------------|:--------------------------|:--------------|:---------------------|\n",
       "| Mar 15 | Tue   | Class        | Linear Production Models  |               | Project Proposal Due |\n",
       "| Mar 16 | Wed   | Office Hours | Project Reviews           |               |                      |\n",
       "| Mar 17 | Thu   | Class        | Linear Blending Problems  |               |                      |\n",
       "| Mar 18 | Fri   | Lab          | Quiz 3: Process Analytics |               |                      |"
      ],
      "text/plain": [
       "<IPython.core.display.Markdown object>"
      ]
     },
     "metadata": {},
     "output_type": "display_data"
    },
    {
     "data": {
      "text/markdown": [
       "## Week 10: Mar 22 - Mar 25"
      ],
      "text/plain": [
       "<IPython.core.display.Markdown object>"
      ]
     },
     "metadata": {},
     "output_type": "display_data"
    },
    {
     "data": {
      "text/markdown": [
       "|        | Day   | Activity     | Topic                  | Pre-reading   | Assignment       |\n",
       "|:-------|:------|:-------------|:-----------------------|:--------------|:-----------------|\n",
       "| Mar 22 | Tue   | Class        | Static Operability     |               |                  |\n",
       "| Mar 23 | Wed   | Office Hours | Project Reviews        |               |                  |\n",
       "| Mar 24 | Thu   | Class        | Dynamic Optimization   |               |                  |\n",
       "| Mar 25 | Fri   | Lab          | Lab 6: Optimal Control | Lab Chapter 6 | Lab Assignment 6 |"
      ],
      "text/plain": [
       "<IPython.core.display.Markdown object>"
      ]
     },
     "metadata": {},
     "output_type": "display_data"
    },
    {
     "data": {
      "text/markdown": [
       "## Week 11: Mar 29 - Apr 1"
      ],
      "text/plain": [
       "<IPython.core.display.Markdown object>"
      ]
     },
     "metadata": {},
     "output_type": "display_data"
    },
    {
     "data": {
      "text/markdown": [
       "|        | Day   | Activity     | Topic                                    | Pre-reading   | Assignment       |\n",
       "|:-------|:------|:-------------|:-----------------------------------------|:--------------|:-----------------|\n",
       "| Mar 29 | Tue   | Class        | Simulation and Open-Loop Optimal Control |               |                  |\n",
       "| Mar 30 | Wed   | Office Hours | Project Reviews                          |               |                  |\n",
       "| Mar 31 | Thu   | Class        | Predictive Control                       |               |                  |\n",
       "| Apr 1  | Fri   | Lab          | Lab 7: Model Predictive Control          | Lab Chapter 7 | Lab Assignment 7 |"
      ],
      "text/plain": [
       "<IPython.core.display.Markdown object>"
      ]
     },
     "metadata": {},
     "output_type": "display_data"
    },
    {
     "data": {
      "text/markdown": [
       "## Week 12: Apr 5 - Apr 8"
      ],
      "text/plain": [
       "<IPython.core.display.Markdown object>"
      ]
     },
     "metadata": {},
     "output_type": "display_data"
    },
    {
     "data": {
      "text/markdown": [
       "|       | Day   | Activity     | Topic                           | Pre-reading   | Assignment                  |\n",
       "|:------|:------|:-------------|:--------------------------------|:--------------|:----------------------------|\n",
       "| Apr 5 | Tue   | Class        | Implementing Predictive Control |               | Project Progress Report Due |\n",
       "| Apr 6 | Wed   | Office Hours |                                 |               |                             |\n",
       "| Apr 7 | Thu   | Class        | Predictive Control Case Study   |               |                             |\n",
       "| Apr 8 | Fri   | Lab          | Quiz 4: Optimization            |               |                             |"
      ],
      "text/plain": [
       "<IPython.core.display.Markdown object>"
      ]
     },
     "metadata": {},
     "output_type": "display_data"
    },
    {
     "data": {
      "text/markdown": [
       "## Week 13: Apr 12 - Apr 14"
      ],
      "text/plain": [
       "<IPython.core.display.Markdown object>"
      ]
     },
     "metadata": {},
     "output_type": "display_data"
    },
    {
     "data": {
      "text/markdown": [
       "|        | Day   | Activity     | Topic                                | Pre-reading   | Assignment   |\n",
       "|:-------|:------|:-------------|:-------------------------------------|:--------------|:-------------|\n",
       "| Apr 12 | Tue   | Class        | Agent Based Models                   |               |              |\n",
       "| Apr 13 | Wed   | Office Hours |                                      |               |              |\n",
       "| Apr 14 | Thu   | Class        | Queuing and Batch Chemcial Processes |               |              |"
      ],
      "text/plain": [
       "<IPython.core.display.Markdown object>"
      ]
     },
     "metadata": {},
     "output_type": "display_data"
    },
    {
     "data": {
      "text/markdown": [
       "## Week 14: Apr 19 - Apr 21"
      ],
      "text/plain": [
       "<IPython.core.display.Markdown object>"
      ]
     },
     "metadata": {},
     "output_type": "display_data"
    },
    {
     "data": {
      "text/markdown": [
       "|        | Day   | Activity     | Topic                         | Pre-reading   | Assignment   |\n",
       "|:-------|:------|:-------------|:------------------------------|:--------------|:-------------|\n",
       "| Apr 19 | Tue   | Class        | Student Project Presentations |               |              |\n",
       "| Apr 20 | Wed   | Office Hours |                               |               |              |\n",
       "| Apr 21 | Thu   | Class        | Student Project Presentations |               |              |"
      ],
      "text/plain": [
       "<IPython.core.display.Markdown object>"
      ]
     },
     "metadata": {},
     "output_type": "display_data"
    }
   ],
   "source": [
    "import pandas as pd\n",
    "from datetime import timedelta\n",
    "from IPython.display import display, HTML, Markdown\n",
    "\n",
    "# create a class schedule dictionary\n",
    "def schedule(activity, days, topics=[(\"\", \"\", \"\")]*len(class_dates)):\n",
    "    if len(topics) < len(days):\n",
    "        topics = topics + [(\"\", \"\", \"\")]*(len(days) - len(topics))\n",
    "    classes = {}\n",
    "    for k, day in enumerate(sorted(days)):\n",
    "        classes[day] = {\n",
    "            \"Activity\": activity,\n",
    "            \"Topic\": topics[k][0],\n",
    "            \"Pre-reading\": topics[k][1],\n",
    "            \"Assignment\": topics[k][2],\n",
    "            \"k\": k + 1,\n",
    "            \"week\": day.isocalendar()[1],\n",
    "        }\n",
    "    return classes\n",
    "\n",
    "class_schedule = schedule(\"Class\", class_dates[\"TR\"], lectures)\n",
    "class_schedule.update(schedule(\"Lab\", class_dates[\"F\"], labs))\n",
    "class_schedule.update(schedule(\"Office Hours\", class_dates[\"W\"], office_hours))\n",
    "\n",
    "# create pandas dataframe\n",
    "class_meetings = pd.DataFrame.from_dict(class_schedule, orient=\"index\")\n",
    "class_meetings.sort_index(inplace=True)\n",
    "class_meetings[\"date\"] = class_meetings.index\n",
    "class_meetings[\"Day\"] = pd.to_datetime(class_meetings.index).strftime(\"%a\")\n",
    "class_meetings.index = pd.to_datetime(class_meetings.index).strftime(\"%b %-d\")\n",
    "\n",
    "weeks = class_meetings.groupby(\"week\")\n",
    "\n",
    "txt = f\"# CBE 30338/32338 Schedule\\n\\n\"\n",
    "for k, week in enumerate(weeks):\n",
    "    d1 = week[1][\"date\"].min().strftime(\"%b %-d\")\n",
    "    d2 = week[1][\"date\"].max().strftime(\"%b %-d\")\n",
    "    hdr = f\"## Week {k + 1}: {d1} - {d2}\"\n",
    "    txt += hdr + \"\\n\" * 2\n",
    "    tbl = week[1][[\"Day\", \"Activity\", \"Topic\", \"Pre-reading\", \"Assignment\"]].to_markdown()\n",
    "    txt += tbl+ \"\\n\" * 2\n",
    "    display(Markdown(hdr))\n",
    "    display(Markdown(tbl))\n",
    "    \n",
    "with open(\"Schedule.md\", \"w\") as f:\n",
    "    f.write(txt)"
   ]
  },
  {
   "cell_type": "code",
   "execution_count": null,
   "metadata": {},
   "outputs": [],
   "source": []
  }
 ],
 "metadata": {
  "colab": {
   "authorship_tag": "ABX9TyNFboPP2FJ7SCeFije0iBvO",
   "collapsed_sections": [],
   "name": "ND_Class_Schedule.ipynb",
   "provenance": []
  },
  "kernelspec": {
   "display_name": "Python 3 (ipykernel)",
   "language": "python",
   "name": "python3"
  },
  "language_info": {
   "codemirror_mode": {
    "name": "ipython",
    "version": 3
   },
   "file_extension": ".py",
   "mimetype": "text/x-python",
   "name": "python",
   "nbconvert_exporter": "python",
   "pygments_lexer": "ipython3",
   "version": "3.9.7"
  }
 },
 "nbformat": 4,
 "nbformat_minor": 4
}

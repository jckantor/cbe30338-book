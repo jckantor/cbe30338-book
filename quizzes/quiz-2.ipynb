{
 "cells": [
  {
   "cell_type": "markdown",
   "id": "b0781c64-0bc3-4192-8a2c-7d557c8887a5",
   "metadata": {},
   "source": [
    "# Quiz 2"
   ]
  },
  {
   "cell_type": "markdown",
   "id": "9379300b-7751-4a89-9c32-dc9f2305226f",
   "metadata": {},
   "source": [
    "## Problem 1 (10 points)\n",
    "\n",
    "The following step "
   ]
  },
  {
   "cell_type": "code",
   "execution_count": null,
   "id": "ef11a2d6-5a20-4e26-a2d3-b1be12cfa433",
   "metadata": {},
   "outputs": [],
   "source": []
  }
 ],
 "metadata": {
  "kernelspec": {
   "display_name": "Python 3 (ipykernel)",
   "language": "python",
   "name": "python3"
  },
  "language_info": {
   "codemirror_mode": {
    "name": "ipython",
    "version": 3
   },
   "file_extension": ".py",
   "mimetype": "text/x-python",
   "name": "python",
   "nbconvert_exporter": "python",
   "pygments_lexer": "ipython3",
   "version": "3.9.16"
  }
 },
 "nbformat": 4,
 "nbformat_minor": 5
}

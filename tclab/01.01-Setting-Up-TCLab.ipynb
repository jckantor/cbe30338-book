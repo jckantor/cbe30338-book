{
 "cells": [
  {
   "cell_type": "markdown",
   "metadata": {},
   "source": [
    "# Setting Up TCLab"
   ]
  },
  {
   "cell_type": "markdown",
   "metadata": {},
   "source": [
    "## Hardware Setup\n",
    "\n",
    "![](figures/TCLab_labelled.jpg)\n",
    "\n",
    "1. Insert the temperature control shield into the Arduino module. This will fit together in only one way. Squeeze the modules together until the shield is fully seated.\n",
    "\n",
    "1. Connect the Arduino to your laptop with the USB data cable. You will need to USB-C to USB-A adapter if your laptop is equipped with USB-C only.\n",
    "\n",
    "1. Plug the DC power adapter into a wall socket and connect the power cable to to the temperature control shield. **Note: The temperature control shield requires its own power supply. There are two places where the power connector will fit. It's important to be sure it is plugged into the shield, not the Arduino.**\n",
    "\n",
    "TCLab requires the one-time installation of custom firmware on an Arduino device. The firmware is normally preinstalled when you receive the device. But if necessary, the firmware and instructions for installation are available from the [TCLab-Sketch repository](https://github.com/jckantor/TCLab-sketch).\n"
   ]
  },
  {
   "cell_type": "markdown",
   "metadata": {},
   "source": [
    "## Software Setup"
   ]
  },
  {
   "cell_type": "markdown",
   "metadata": {},
   "source": [
    "### Requirements\n",
    "\n",
    "The tclab library must run locally on your laptop to access the USB port. A Python development system, such as [Anaconda](https://www.anaconda.com/products/individual) needs to be installed on your laptop prior to installing tclab."
   ]
  },
  {
   "cell_type": "markdown",
   "metadata": {
    "slideshow": {
     "slide_type": "slide"
    }
   },
   "source": [
    "### How the software is organized\n",
    "\n",
    "Software for the Temperature Control Lab is organized as shown in the accompanying diagram. Note that the Python scripts must run on your laptop, not a remote server, in order to access the local USB port.\n",
    "\n",
    "![](figures/TCLab_overview.png)\n",
    "\n",
    "**_Jupyter notebooks and Python scripts:_**\n",
    "The top level consists of the you code you write to implement control algorithms. This may be done in Jupyter/Python notebooks or directly in Python using an interactive development environment (IDE). This repository contains many examples of code written in Jupyter/Python notebooks.\n",
    "\n",
    "**_TCLab.py:_**\n",
    "[TCLab.py](https://github.com/jckantor/TCLab) is contained in a Python library entitled `tclab`. The library includes\n",
    "\n",
    "* `TCLab()` class that creates an object to access to the device,\n",
    "* `clock` for synchronizing with a real time clock\n",
    "* `Historian()` class to create objects for data logging.\n",
    "* `Plotter()` class to visualize data in real time.\n",
    "\n",
    "**_TCLab-sketch:_**\n",
    "The [TCLab-sketch](https://github.com/jckantor/TCLab-sketch) repository provides firmware to ensure intrisically safe operation of the Arduino board and shield. The sketch is downloaded to the Arduino using the [Arduino IDE](https://www.arduino.cc/en/Main/Software). Loading firmware to the Arduino is a one-time operation. \n",
    "\n",
    "**_Arduino:_**\n",
    "The hardware platform for the Temperature Control Laboratory. The Python tools and libraries have been tested with the Arduino Leonardo boards."
   ]
  },
  {
   "cell_type": "markdown",
   "metadata": {
    "slideshow": {
     "slide_type": "skip"
    },
    "tags": []
   },
   "source": [
    "### Installing the tclab library\n",
    "\n",
    "The tclab library is installed from a terminal window (MacOS) or command window (PC) with the command\n",
    "\n",
    "    pip install tclab\n",
    "\n",
    "Alternatively, the installation can be performed from within a Jupyter/Python notebook with the command"
   ]
  },
  {
   "cell_type": "code",
   "execution_count": 6,
   "metadata": {
    "slideshow": {
     "slide_type": "skip"
    },
    "tags": []
   },
   "outputs": [
    {
     "name": "stdout",
     "output_type": "stream",
     "text": [
      "Requirement already satisfied: tclab in /Users/jeff/Google Drive/GitHub/TCLab (0.4.10.dev0)\n",
      "Requirement already satisfied: pyserial in /Users/jeff/opt/anaconda3/lib/python3.8/site-packages (from tclab) (3.5)\n"
     ]
    }
   ],
   "source": [
    "!pip install tclab"
   ]
  },
  {
   "cell_type": "markdown",
   "metadata": {
    "slideshow": {
     "slide_type": "skip"
    },
    "tags": []
   },
   "source": [
    "There are occasional updates to the library. These can be installed by appending a ` --upgrade` to the above commands and demonstrated in the next cell."
   ]
  },
  {
   "cell_type": "code",
   "execution_count": 7,
   "metadata": {},
   "outputs": [
    {
     "name": "stdout",
     "output_type": "stream",
     "text": [
      "Requirement already satisfied: tclab in /Users/jeff/Google Drive/GitHub/TCLab (0.4.10.dev0)\n",
      "Requirement already satisfied: pyserial in /Users/jeff/opt/anaconda3/lib/python3.8/site-packages (from tclab) (3.5)\n"
     ]
    }
   ],
   "source": [
    "!pip install tclab --upgrade"
   ]
  },
  {
   "cell_type": "markdown",
   "metadata": {},
   "source": [
    "## Testing\n",
    "\n",
    "The next cells test for some commonly encountered issues with installation and operation of the Temperature Control Laboratory. This approach uses the library [`ipytest`](https://github.com/chmp/ipytest) which adapts the well known `pytest` unit testing environment for use within Jupyter notebooks. If you have not encountered this before, unit testing is a widely used software testing technique to check for correct operation of individual units of code.\n",
    "\n",
    "If the any of unit tests fail, comments within the unit test code may help determine the cause of the failure."
   ]
  },
  {
   "cell_type": "code",
   "execution_count": 41,
   "metadata": {},
   "outputs": [],
   "source": [
    "try:\n",
    "    import ipytest\n",
    "except:\n",
    "    !pip install ipytest\n",
    "    import ipytest\n",
    "    \n",
    "ipytest.autoconfig()"
   ]
  },
  {
   "cell_type": "code",
   "execution_count": 65,
   "metadata": {},
   "outputs": [
    {
     "name": "stdout",
     "output_type": "stream",
     "text": [
      "\u001b[1m======================================= test session starts ========================================\u001b[0m\n",
      "platform darwin -- Python 3.9.7, pytest-6.2.4, py-1.10.0, pluggy-0.13.1 -- /Users/jeff/opt/anaconda3/bin/python\n",
      "cachedir: .pytest_cache\n",
      "rootdir: /Users/jeff/Google Drive/GitHub/cbe30338-book/tclab\n",
      "plugins: anyio-2.2.0\n",
      "\u001b[1mcollecting ... \u001b[0mcollected 5 items\n",
      "\n",
      "tmpn552ce7j.py::test_tclab_install \u001b[32mPASSED\u001b[0m\u001b[32m                                                    [ 20%]\u001b[0m\n",
      "tmpn552ce7j.py::test_tclab_offline \u001b[32mPASSED\u001b[0m\u001b[32m                                                    [ 40%]\u001b[0m\n",
      "tmpn552ce7j.py::test_not_google_colab \u001b[32mPASSED\u001b[0m\u001b[32m                                                 [ 60%]\u001b[0m\n",
      "tmpn552ce7j.py::test_tclab_connect \u001b[32mPASSED\u001b[0m\u001b[32m                                                    [ 80%]\u001b[0m\n",
      "tmpn552ce7j.py::test_tclab_firmware_version \u001b[32mPASSED\u001b[0m\u001b[32m                                           [100%]\u001b[0m\n",
      "\n",
      "\u001b[32m======================================== \u001b[32m\u001b[1m5 passed\u001b[0m\u001b[32m in 8.89s\u001b[0m\u001b[32m =========================================\u001b[0m\n"
     ]
    }
   ],
   "source": [
    "%%ipytest --verbosity=1\n",
    "\n",
    "# Verify tclab has been installed and is accessible by the Python kernal.\n",
    "    \n",
    "def test_tclab_install():\n",
    "    from tclab import TCLab, clock, Historian, Plotter\n",
    "    \n",
    "# Verify that TCLab can be run offline (i.e., without access to hardware).\n",
    "\n",
    "def test_tclab_offline():\n",
    "    from tclab import setup\n",
    "    TCLab = setup(connected=False, speedup=20)\n",
    "    with TCLab() as lab:\n",
    "        pass\n",
    "    \n",
    "# TCLab cannot access the Arduino if it is run remotely on Google Colab. This is a common\n",
    "# error since notebooks are so easy to open in Google Colab. The following test fails if\n",
    "# the test is run on Google Colab.\n",
    "\n",
    "def test_not_google_colab():\n",
    "    import sys\n",
    "    assert not \"google.colab\" in sys.modules\n",
    "    \n",
    "# The following tests require the TCLab hardware to be attached and operational\n",
    "\n",
    "# Verify that a connection an be opened to the Arduino.\n",
    "\n",
    "def test_tclab_connect():\n",
    "    from tclab import TCLab, clock, Historian, Plotter\n",
    "    lab = TCLab()\n",
    "    lab.close()\n",
    "    \n",
    "# Verify tclab-sketch firmware version number is 2.0.1 or greater\n",
    "\n",
    "def test_tclab_firmware_version():\n",
    "    import packaging\n",
    "    from tclab import TCLab\n",
    "    with TCLab() as lab:\n",
    "        vers = re.search(r'\\s*([\\d.]+)', lab.version).group(1)\n",
    "    assert packaging.version.parse(vers) >= packaging.version.parse(\"2.0.1\")"
   ]
  },
  {
   "cell_type": "code",
   "execution_count": 46,
   "metadata": {},
   "outputs": [
    {
     "name": "stdout",
     "output_type": "stream",
     "text": [
      "TCLab version 0.4.9\n",
      "Arduino Leonardo connected on port /dev/cu.usbmodem141101 at 115200 baud.\n",
      "TCLab Firmware 2.0.1 Arduino Leonardo/Micro.\n",
      "TCLab disconnected successfully.\n"
     ]
    }
   ],
   "source": [
    "from tclab import TCLab\n",
    "\n",
    "lab = TCLab()\n",
    "lab.LED(50)\n",
    "lab.close()"
   ]
  },
  {
   "cell_type": "markdown",
   "metadata": {},
   "source": [
    "## Troubleshooting\n",
    "\n",
    "1. If your laptop consistently fails to locate or connect to the Arduino device, check the following:\n",
    "\n",
    "    * Be sure you are have installed Python and tclab on your laptop, and that you are not attempting to run tclab on a remote server such as Google Colab. tclab requires direct access to the USB port on your laptop.\n",
    "    * Check cable connections. The USB cable from the Arduino should be connected to your laptop. The USB cable for the heater shield should be connected to a USB power supply. Reversing these connections will not harm anything, but the system will not function.\n",
    "    * \n",
    "    * The Arduino must have the tclab-sketch firmware to communicate with tclab. \n",
    "    * Though rare, we have experienced failed Arduino devices. Try changing Arduinos.\n",
    "\n",
    "1. If you observe no change in temperature after the heaters on turned on:\n",
    "\n",
    "    * Check that your heater power supply is plugged into power and into the top heater shield, not the Arduino.\n",
    "    * If you're using a power strip, verify the power strip is turned on.\n",
    "    * The LED indicator should be at 100% if the heaters are on.\n",
    "    * Check that lab.P1 and/or lab.P2 are set at non-zero values between 0 and 255. Values of about 100 are good for testing.\n",
    "    * We have experienced occasional failed USB power supplies. Try a different USB power supply.\n"
   ]
  },
  {
   "cell_type": "code",
   "execution_count": null,
   "metadata": {},
   "outputs": [],
   "source": []
  }
 ],
 "metadata": {
  "kernelspec": {
   "display_name": "Python 3 (ipykernel)",
   "language": "python",
   "name": "python3"
  },
  "language_info": {
   "codemirror_mode": {
    "name": "ipython",
    "version": 3
   },
   "file_extension": ".py",
   "mimetype": "text/x-python",
   "name": "python",
   "nbconvert_exporter": "python",
   "pygments_lexer": "ipython3",
   "version": "3.9.7"
  }
 },
 "nbformat": 4,
 "nbformat_minor": 4
}

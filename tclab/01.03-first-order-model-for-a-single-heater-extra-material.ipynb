{
 "cells": [
  {
   "cell_type": "markdown",
   "metadata": {
    "jp-MarkdownHeadingCollapsed": true,
    "tags": []
   },
   "source": [
    "## Matching the Model to Experimental Data\n",
    "\n",
    "The following cell provides an interactive tool for 'tuning' the model to fit the experimental data. Work with the sliders to find good choices for each of the parameters. "
   ]
  },
  {
   "cell_type": "code",
   "execution_count": 10,
   "metadata": {},
   "outputs": [
    {
     "data": {
      "application/vnd.jupyter.widget-view+json": {
       "model_id": "0dee00c8602e4c47bf9b9461170fc321",
       "version_major": 2,
       "version_minor": 0
      },
      "text/plain": [
       "interactive(children=(FloatSlider(value=0.05, description='Ua', max=0.1, step=0.001), FloatSlider(value=6.5, d…"
      ]
     },
     "metadata": {},
     "output_type": "display_data"
    },
    {
     "data": {
      "text/plain": [
       "<function __main__.compare(Ua, Cp)>"
      ]
     },
     "execution_count": 10,
     "metadata": {},
     "output_type": "execute_result"
    }
   ],
   "source": [
    "%matplotlib inline\n",
    "import pandas as pd\n",
    "import matplotlib.pyplot as plt\n",
    "\n",
    "data = pd.read_csv('Step_Test_Data.csv').set_index('Time')[1:]\n",
    "t = data.index\n",
    "T1 = data['T1'].values\n",
    "\n",
    "# known parameter values\n",
    "P1 = 4\n",
    "u1_steadystate = 0.5   # steady state value of u1 (fraction of total power)\n",
    "T_ambient = 21         # ambient temperature\n",
    "\n",
    "def compare(Ua, Cp):\n",
    "    T1_deviation_initial = 0\n",
    "    T1_deviation_steadystate = P1*u1_steadystate/Ua\n",
    "    T1_deviation = T1_deviation_steadystate \\\n",
    "         + (T1_deviation_initial - T1_deviation_steadystate)*np.exp(-Ua*t/Cp)\n",
    "    T1_model = T1_deviation + T_ambient\n",
    "    plt.plot(t, T1, t, T1_model)\n",
    "    plt.xlabel('time / seconds')\n",
    "    plt.ylabel('temperture / °C')\n",
    "    plt.grid()\n",
    "    plt.text(200,35,'Sum of errors = ' + str(round(sum(abs(T1_model-T1),2))))\n",
    "    plt.text(200,30,'Ua = ' + str(Ua))\n",
    "    plt.text(200,25,'Cp = ' + str(Cp))\n",
    "\n",
    "from ipywidgets import interact\n",
    "interact(compare, Ua=(0.0,0.10,0.001), Cp=(2.0,11.0))"
   ]
  },
  {
   "cell_type": "markdown",
   "metadata": {},
   "source": [
    "**Exercise:** Determine values for $U_a$ and $C_p$. \n",
    "\n",
    "**Exercise:** The sum of absolute errors is shown on the chart. Try to find values of $U_a$ and $C_p$ that minimize this error criterion. In your opinion, is that the best choice of model parameters? Why or why not?"
   ]
  },
  {
   "cell_type": "markdown",
   "metadata": {},
   "source": [
    "### Does this solution make sense?\n",
    "\n",
    "The parameter values in the above plot were chosen to (at least roughly) reproduce the measured response of temperature control laboratory. The value used for the heat capacity was $C_p = 7$ watts/degC. Is this reasonable?\n",
    "\n",
    "The [specific heat capacity for solids](https://en.wikipedia.org/wiki/Heat_capacity) is typically has values in the range of 0.2 to 0.9 watts/degC/gram. Using a value of 0.9 that is typical of aluminum and plastics used for electronic products, the estimated mass of the heater/sensor pair would be\n",
    "\n",
    "$$ m \\approx \\frac{7 \\mbox{ watts/degC}}{0.9 \\mbox{ watts/degC/grams}} \\approx 8 \\mbox{ grams}$$\n",
    "\n",
    "Does that seem reasonable?"
   ]
  },
  {
   "cell_type": "code",
   "execution_count": null,
   "metadata": {},
   "outputs": [],
   "source": []
  }
 ],
 "metadata": {
  "kernelspec": {
   "display_name": "Python 3 (ipykernel)",
   "language": "python",
   "name": "python3"
  },
  "language_info": {
   "codemirror_mode": {
    "name": "ipython",
    "version": 3
   },
   "file_extension": ".py",
   "mimetype": "text/x-python",
   "name": "python",
   "nbconvert_exporter": "python",
   "pygments_lexer": "ipython3",
   "version": "3.9.15"
  }
 },
 "nbformat": 4,
 "nbformat_minor": 4
}

{
 "cells": [
  {
   "cell_type": "code",
   "execution_count": 1,
   "id": "d2c7fd4a-7a17-430d-b75c-80a267354f3b",
   "metadata": {},
   "outputs": [],
   "source": [
    "try:\n",
    "    import ipytest\n",
    "except:\n",
    "    !pip install ipytest\n",
    "    import ipytest\n",
    "    \n",
    "ipytest.autoconfig()"
   ]
  },
  {
   "cell_type": "code",
   "execution_count": 2,
   "id": "f603eac5-8a1e-4c72-9d97-6ad06442dd6c",
   "metadata": {},
   "outputs": [
    {
     "name": "stdout",
     "output_type": "stream",
     "text": [
      "\u001b[1m======================================= test session starts ========================================\u001b[0m\n",
      "platform darwin -- Python 3.9.7, pytest-7.1.2, pluggy-1.0.0 -- /Users/jeff/opt/anaconda3/bin/python\n",
      "cachedir: .pytest_cache\n",
      "rootdir: /Users/jeff/Google Drive/GitHub/cbe30338-book\n",
      "plugins: anyio-3.5.0\n",
      "\u001b[1mcollecting ... \u001b[0mcollected 2 items\n",
      "\n",
      "t_838721faf9df43e29af993ffe1c4fa7a.py::test_tclab_install \u001b[32mPASSED\u001b[0m\u001b[32m                             [ 50%]\u001b[0m\n",
      "t_838721faf9df43e29af993ffe1c4fa7a.py::test_tclab_offline \u001b[32mPASSED\u001b[0m\u001b[32m                             [100%]\u001b[0m\n",
      "\n",
      "\u001b[32m======================================== \u001b[32m\u001b[1m2 passed\u001b[0m\u001b[32m in 0.03s\u001b[0m\u001b[32m =========================================\u001b[0m\n"
     ]
    }
   ],
   "source": [
    "%%ipytest --verbosity=1\n",
    "\n",
    "# Verify tclab has been installed and is accessible by the Python kernal.\n",
    "    \n",
    "def test_tclab_install():\n",
    "    from tclab import TCLab, clock, Historian, Plotter\n",
    "    \n",
    "# Verify that TCLab can be run offline (i.e., without access to hardware).\n",
    "\n",
    "def test_tclab_offline():\n",
    "    from tclab import setup\n",
    "    TCLab = setup(connected=False, speedup=20)\n",
    "    with TCLab() as lab:\n",
    "        pass"
   ]
  },
  {
   "cell_type": "code",
   "execution_count": 3,
   "id": "68c53d36-1d3c-479c-88b4-a04b9b84d4d9",
   "metadata": {},
   "outputs": [
    {
     "name": "stdout",
     "output_type": "stream",
     "text": [
      "\u001b[1m======================================= test session starts ========================================\u001b[0m\n",
      "platform darwin -- Python 3.9.7, pytest-7.1.2, pluggy-1.0.0 -- /Users/jeff/opt/anaconda3/bin/python\n",
      "cachedir: .pytest_cache\n",
      "rootdir: /Users/jeff/Google Drive/GitHub/cbe30338-book\n",
      "plugins: anyio-3.5.0\n",
      "\u001b[1mcollecting ... \u001b[0mcollected 3 items\n",
      "\n",
      "t_838721faf9df43e29af993ffe1c4fa7a.py::test_not_google_colab \u001b[32mPASSED\u001b[0m\u001b[32m                          [ 33%]\u001b[0m\n",
      "t_838721faf9df43e29af993ffe1c4fa7a.py::test_tclab_connect \u001b[32mPASSED\u001b[0m\u001b[32m                             [ 66%]\u001b[0m\n",
      "t_838721faf9df43e29af993ffe1c4fa7a.py::test_tclab_firmware_version \u001b[31mFAILED\u001b[0m\u001b[31m                    [100%]\u001b[0m\n",
      "\n",
      "============================================= FAILURES =============================================\n",
      "\u001b[31m\u001b[1m___________________________________ test_tclab_firmware_version ____________________________________\u001b[0m\n",
      "\n",
      "    \u001b[94mdef\u001b[39;49;00m \u001b[92mtest_tclab_firmware_version\u001b[39;49;00m():\n",
      "        \u001b[94mimport\u001b[39;49;00m \u001b[04m\u001b[96mpackaging\u001b[39;49;00m\n",
      "        \u001b[94mfrom\u001b[39;49;00m \u001b[04m\u001b[96mtclab\u001b[39;49;00m \u001b[94mimport\u001b[39;49;00m TCLab\n",
      "        \u001b[94mwith\u001b[39;49;00m TCLab() \u001b[94mas\u001b[39;49;00m lab:\n",
      ">           vers = re.search(\u001b[33mr\u001b[39;49;00m\u001b[33m'\u001b[39;49;00m\u001b[33m\\\u001b[39;49;00m\u001b[33ms*([\u001b[39;49;00m\u001b[33m\\\u001b[39;49;00m\u001b[33md.]+)\u001b[39;49;00m\u001b[33m'\u001b[39;49;00m, lab.version).group(\u001b[94m1\u001b[39;49;00m)\n",
      "\u001b[1m\u001b[31mE           NameError: name 're' is not defined\u001b[0m\n",
      "\n",
      "\u001b[1m\u001b[31m/var/folders/cm/z3t28j296f98jdp1vqyplkz00000gn/T/ipykernel_25500/2778744772.py\u001b[0m:22: NameError\n",
      "--------------------------------------- Captured stdout call ---------------------------------------\n",
      "TCLab version 0.4.10dev\n",
      "Arduino Leonardo connected on port /dev/cu.usbmodem143101 at 115200 baud.\n",
      "TCLab Firmware 2.0.1 Arduino Leonardo/Micro.\n",
      "TCLab disconnected successfully.\n",
      "===================================== short test summary info ======================================\n",
      "FAILED t_838721faf9df43e29af993ffe1c4fa7a.py::test_tclab_firmware_version - NameError: name 're' ...\n",
      "\u001b[31m=================================== \u001b[31m\u001b[1m1 failed\u001b[0m, \u001b[32m2 passed\u001b[0m\u001b[31m in 9.04s\u001b[0m\u001b[31m ====================================\u001b[0m\n"
     ]
    }
   ],
   "source": [
    "%%ipytest --verbosity=1\n",
    "\n",
    "# TCLab cannot access the Arduino if it is run remotely on Google Colab. This is a common\n",
    "# error since notebooks are so easy to open in Google Colab. The following test fails if\n",
    "# the test is run on Google Colab.\n",
    "\n",
    "def test_not_google_colab():\n",
    "    import sys\n",
    "    assert not \"google.colab\" in sys.modules\n",
    "\n",
    "# Verify that a connection an be opened to the Arduino.\n",
    "\n",
    "def test_tclab_connect():\n",
    "    from tclab import TCLab, clock, Historian, Plotter\n",
    "    lab = TCLab()\n",
    "    lab.close()\n",
    "    \n",
    "# Verify tclab-sketch firmware version number is 2.0.1 or greater\n",
    "\n",
    "def test_tclab_firmware_version():\n",
    "    import packaging\n",
    "    from tclab import TCLab\n",
    "    with TCLab() as lab:\n",
    "        vers = re.search(r'\\s*([\\d.]+)', lab.version).group(1)\n",
    "    assert packaging.version.parse(vers) >= packaging.version.parse(\"2.0.1\")\n"
   ]
  },
  {
   "cell_type": "code",
   "execution_count": null,
   "id": "63669439-742f-4a99-a9ed-478903f4ed71",
   "metadata": {},
   "outputs": [],
   "source": []
  }
 ],
 "metadata": {
  "kernelspec": {
   "display_name": "Python 3 (ipykernel)",
   "language": "python",
   "name": "python3"
  },
  "language_info": {
   "codemirror_mode": {
    "name": "ipython",
    "version": 3
   },
   "file_extension": ".py",
   "mimetype": "text/x-python",
   "name": "python",
   "nbconvert_exporter": "python",
   "pygments_lexer": "ipython3",
   "version": "3.9.7"
  }
 },
 "nbformat": 4,
 "nbformat_minor": 5
}

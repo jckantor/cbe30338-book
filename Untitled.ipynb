{
 "cells": [
  {
   "cell_type": "code",
   "execution_count": 6,
   "id": "f3803af5-d2f9-498d-b819-605510df8320",
   "metadata": {},
   "outputs": [
    {
     "name": "stdout",
     "output_type": "stream",
     "text": [
      "0 1.0\n",
      "1 0.0\n",
      "2 1.0\n",
      "3 0.0\n"
     ]
    }
   ],
   "source": [
    "import pyomo.environ as pyo\n",
    "\n",
    "weights = [3, 4, 5, 6]\n",
    "profits = [3, 1, 4, 2]\n",
    "\n",
    "lim = 8 \n",
    "\n",
    "m = pyo.ConcreteModel('knapsack')\n",
    "\n",
    "m.OBJECTS = pyo.RangeSet(0, 3)\n",
    "m.b = pyo.Var(m.OBJECTS, domain=pyo.Binary)\n",
    "\n",
    "@m.Objective(sense=pyo.maximize)\n",
    "def max_profit(m):\n",
    "    return sum(m.b[i] * profits[i] for i in m.OBJECTS)\n",
    "\n",
    "@m.Constraint()\n",
    "def total_weight(m):\n",
    "    return sum(m.b[i] * weights[i] for i in m.OBJECTS) <= 8\n",
    "\n",
    "solver = pyo.SolverFactory('cbc')\n",
    "solver.solve(m)\n",
    "\n",
    "for i in m.OBJECTS:\n",
    "    print(i, m.b[i]())"
   ]
  },
  {
   "cell_type": "code",
   "execution_count": 12,
   "id": "56a8faea-eba2-46a1-b398-5c6448e5d4a6",
   "metadata": {},
   "outputs": [
    {
     "name": "stdout",
     "output_type": "stream",
     "text": [
      "0 1.0\n",
      "1 0.0\n",
      "2 1.0\n",
      "3 0.0\n"
     ]
    }
   ],
   "source": [
    "import pyomo.environ as pyo\n",
    "\n",
    "weights = [3, 4, 5, 6]\n",
    "profits = [3, 1, 4, 2]\n",
    "\n",
    "lim = 8 \n",
    "\n",
    "m = pyo.ConcreteModel('knapsack')\n",
    "\n",
    "m.OBJECTS = pyo.RangeSet(0, 3)\n",
    "m.b = pyo.Var(m.OBJECTS, bounds = (0, 100))\n",
    "\n",
    "@m.Objective(sense=pyo.maximize)\n",
    "def max_profit(m):\n",
    "    return sum(m.b[i] * profits[i] for i in m.OBJECTS)\n",
    "\n",
    "@m.Constraint()\n",
    "def total_weight(m):\n",
    "    return sum(m.b[i] * weights[i] for i in m.OBJECTS) <= 8\n",
    "\n",
    "@m.Disjunction(m.OBJECTS, xor=True)\n",
    "def dis(m, i):\n",
    "    return [m.b[i]==1, m.b[i]==0]\n",
    "\n",
    "pyo.TransformationFactory('gdp.hull').apply_to(m)\n",
    "solver = pyo.SolverFactory('glpk')\n",
    "solver.solve(m)\n",
    "\n",
    "for i in m.OBJECTS:\n",
    "    print(i, m.b[i]())"
   ]
  },
  {
   "cell_type": "code",
   "execution_count": null,
   "id": "46205274-7355-4db8-b865-79c31e04f6be",
   "metadata": {},
   "outputs": [],
   "source": []
  }
 ],
 "metadata": {
  "kernelspec": {
   "display_name": "Python 3 (ipykernel)",
   "language": "python",
   "name": "python3"
  },
  "language_info": {
   "codemirror_mode": {
    "name": "ipython",
    "version": 3
   },
   "file_extension": ".py",
   "mimetype": "text/x-python",
   "name": "python",
   "nbconvert_exporter": "python",
   "pygments_lexer": "ipython3",
   "version": "3.9.7"
  }
 },
 "nbformat": 4,
 "nbformat_minor": 5
}

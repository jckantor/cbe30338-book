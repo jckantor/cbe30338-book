{
 "cells": [
  {
   "cell_type": "markdown",
   "metadata": {},
   "source": [
    "# Lab 3: Model Identification"
   ]
  },
  {
   "cell_type": "markdown",
   "metadata": {},
   "source": [
    "Fitting models to data is an engineering skill that links between the real world of engineering systems to the theory you've been learning in the classroom. For this laboratory session you will collect data from a step test experiments, then fit the data to models derived from first-principles energy balances. "
   ]
  },
  {
   "cell_type": "markdown",
   "metadata": {},
   "source": [
    "## Procedure"
   ]
  },
  {
   "cell_type": "markdown",
   "metadata": {},
   "source": [
    "1. Download a copy of this notebook to your laptop and complete the the data collection exercises shown below. The results should be embedded in the notebook. Be sure to 'save-as-you-go' to avoid losing your work. \n",
    "\n",
    "2. Use your step test data to fit two versions of a model for the temperature control lab:\n",
    "  * One-state model with one input.\n",
    "  * Two-state model with one input.\n",
    "\n",
    "3. Submit your completed lab notebook via Gradescope."
   ]
  },
  {
   "cell_type": "markdown",
   "metadata": {},
   "source": [
    "## Pre-lab Exercise\n",
    "1. Read through the entirety of the assignment before coming to lab.\n",
    "2. Write pseudocode for estimating the model parameters **with uncertainty** in Exercise 3.\n",
    "3. Bring pseudocode to lab on a piece of paper or a tablet. The instructor and TAs will likely ask to see this as a starting point for debugging."
   ]
  },
  {
   "cell_type": "markdown",
   "metadata": {},
   "source": [
    "## Exercise 1. Step Tests and Data Collection"
   ]
  },
  {
   "cell_type": "markdown",
   "metadata": {},
   "source": [
    "### Step 1. Verify operation.\n",
    "\n",
    "Execute the following cell to verify that you have a working connection to the temperature control lab hardware. This will test for installation of TCLab.py, connection to the Arduino device, and working firmware within the Arduino."
   ]
  },
  {
   "cell_type": "code",
   "execution_count": null,
   "metadata": {},
   "outputs": [],
   "source": [
    "from tclab import TCLab, clock, Historian, Plotter, setup\n",
    "\n",
    "\n",
    "TCLab = setup(connected=False)\n",
    "\n",
    "lab = TCLab()\n",
    "print(\"TCLab Temperatures:\", lab.T1, lab.T2)\n",
    "lab.close()"
   ]
  },
  {
   "cell_type": "markdown",
   "metadata": {},
   "source": [
    "### Step 2.  Check for steady state\n",
    "\n",
    "As discussed in class, for step testing the device must be initially at steady state. Run the following code to verify the heaters are off and that the temperatures are at a steady ambient temperature."
   ]
  },
  {
   "cell_type": "code",
   "execution_count": null,
   "metadata": {},
   "outputs": [],
   "source": [
    "# experimental parameters\n",
    "tfinal = 30\n",
    "\n",
    "# perform experiment\n",
    "with TCLab() as lab:\n",
    "    lab.U1 = 0\n",
    "    lab.U2 = 0\n",
    "    h = Historian(lab.sources)\n",
    "    p = Plotter(h, tfinal)\n",
    "    for t in clock(tfinal):\n",
    "        p.update(t)"
   ]
  },
  {
   "cell_type": "markdown",
   "metadata": {},
   "source": [
    "### Step 3. Step Test\n",
    "\n",
    "The step test consists of turning one heater one at 50% power and recording temperature data for at least 900 seconds. Copy the code from Step 2 into the following cell. Then modify as needed to accomplish the step test with P1 at 200 and using 50% of maximum power."
   ]
  },
  {
   "cell_type": "code",
   "execution_count": null,
   "metadata": {},
   "outputs": [],
   "source": [
    "# Add your solution here"
   ]
  },
  {
   "cell_type": "markdown",
   "metadata": {},
   "source": [
    "### Step 4. Save data to a .csv file\n",
    "\n",
    "Run the following cell to verify and save your data to a '.csv' file. Be sure you can find and locate the data on your laptop before ending your session. You will need access to this data for subsequent exercises."
   ]
  },
  {
   "cell_type": "code",
   "execution_count": null,
   "metadata": {},
   "outputs": [],
   "source": [
    "import matplotlib.pyplot as plt\n",
    "import os.path\n",
    "\n",
    "t, T1, T2, Q1, Q2 = h.fields\n",
    "\n",
    "plt.plot(t, T1, t, T2, t, Q1, t, Q2)\n",
    "plt.legend(['T1','T2','Q1','Q2'])\n",
    "plt.xlabel('Time / seconds')\n",
    "plt.grid()\n",
    "\n",
    "# Change the filename here\n",
    "data_file = 'tclab-model-id.csv'\n",
    "\n",
    "# Set to True to overwrite the file. Default is False\n",
    "# to safeguard against accidentally rerunning this cell.\n",
    "overwrite_file = False\n",
    "\n",
    "if not overwrite_file and os.path.isfile('./'+data_file):\n",
    "    raise FileExistsError(data_file + ' already exisits. Either choose a new filename or set overwrite_file = True.')\n",
    "else:\n",
    "    h.to_csv(data_file)\n",
    "    print(\"Successfully saved data to \"+data_file)"
   ]
  },
  {
   "cell_type": "markdown",
   "metadata": {},
   "source": [
    "## Exercise 2. Fitting a First-Order Model"
   ]
  },
  {
   "cell_type": "markdown",
   "metadata": {},
   "source": [
    "As discussed in class, a simple energy balance model for T1 is given by\n",
    "\n",
    "$$C_p \\frac{dT_1}{dt} = U_a(T_{amb} - T_1) + \\alpha P_1 U_1$$\n",
    "\n",
    "where the parameter $\\alpha$ has, through independent means, been determined as 0.00016 when U1 is given in percent of full power and power is measured in Watts. Following the notes from Section 2.4, use the results of this experiment to estimate values for $C_p$ and $U_a$. Write your answers in the following cell.  \n",
    "\n",
    "You may cut and paste code from Section 2.4 for this task. You will need to modify the code to read your data file. Be sure to report\n",
    "\n",
    "1. Final estimates for $U_a$ and $C_p$\n",
    "2. An estimate of the time constant computed from $U_a$ and $C_p$.\n",
    "3. An estimate of the steady-state gain computed from $U_a$."
   ]
  },
  {
   "cell_type": "code",
   "execution_count": null,
   "metadata": {},
   "outputs": [],
   "source": [
    "# Load and plot data\n",
    "# Add your solution here"
   ]
  },
  {
   "cell_type": "code",
   "execution_count": null,
   "metadata": {},
   "outputs": [],
   "source": [
    "# Implement and test model\n",
    "# Add your solution here"
   ]
  },
  {
   "cell_type": "code",
   "execution_count": null,
   "metadata": {},
   "outputs": [],
   "source": [
    "# Fit model\n",
    "# Add your solution here"
   ]
  },
  {
   "cell_type": "code",
   "execution_count": null,
   "metadata": {},
   "outputs": [],
   "source": [
    "# Plot histogram of residuals\n",
    "# Add your solution here\n",
    "\n",
    "# Estimate covariance and correlation of fitted parameters\n",
    "# Add your solution here\n",
    "\n",
    "print(\"Covariance of p = [Ua, Cp]\")\n",
    "print(cov_p)\n",
    "\n",
    "# Convert to correlation matrix\n",
    "\n",
    "def covariance_to_correlation(cov):\n",
    "    ''' Convert covariance matrix into correlation matrix\n",
    "\n",
    "    Argument:\n",
    "        cov: covariance matrix\n",
    "\n",
    "    Returns:\n",
    "        cor: correlation matrix\n",
    "\n",
    "    '''\n",
    "\n",
    "    # Copy matrix\n",
    "    cor = cov.copy()\n",
    "\n",
    "    # Get number of rows\n",
    "    n = cor.shape[0]\n",
    "\n",
    "    # Loop over rows\n",
    "    for r in range(n):\n",
    "        # Loop over columns\n",
    "        for c in range(n):\n",
    "            # Scale element\n",
    "            cor[r,c] = cor[r,c] / np.sqrt(cov[r,r]*cov[c,c])\n",
    "\n",
    "    return cor\n",
    "\n",
    "print(\"Correlation matrix\")\n",
    "print(covariance_to_correlation(cov_p))\n"
   ]
  },
  {
   "cell_type": "code",
   "execution_count": null,
   "metadata": {},
   "outputs": [],
   "source": [
    "# Calculate and print model parameters with uncertainty\n",
    "\n",
    "# Add your solution here\n",
    "\n",
    "print(\"The value of Ua is\",round(Ua,4), \"+/-\", round(np.sqrt(cov_p[0,0]),4), \"Watts/degC.\")\n",
    "print(\"The value of Cp is\", round(Cp,3), \"+/-\", round(np.sqrt(cov_p[1,1]),3), \"Joules/degC.\")\n",
    "print(\"The value of the time constant (tau) is\", round(tau,3), \"+/-\", round(np.sqrt(var_tau),3), \"seconds.\")\n",
    "print(\"The value of the steady state gain (K) is\",round(K,3),\"+/-\", round(np.sqrt(var_K),3), \"Watts.\")"
   ]
  },
  {
   "cell_type": "markdown",
   "metadata": {},
   "source": [
    "## Exercise 3. Fitting a Second-Order Model\n",
    "\n",
    "A second order model is for the heater/sensor combination is given by\n",
    "\n",
    "$$\n",
    "\\begin{align}\n",
    "C^H_p\\frac{dT_{H,1}}{dt} & = U_a(T_{amb} - T_{H,1}) + U_b(T_{S,1} - T_{H,1}) + P_1u_1\\\\\n",
    "C^S_p\\frac{dT_{S,1}}{dt} & = U_b(T_{H,1} - T_{S,1}) \n",
    "\\end{align}\n",
    "$$\n",
    "\n",
    "where $T_{H,1}$ is the heater temperature, $T_{S,1}$ is the sensor temperature, and $U_b$ is the heat transfer coefficient between the heater and sensor. \n",
    "\n",
    "Modify the code you developed for Exercise 2 to fit this second order model. The code shown in Section 2.5 of the notes may be helpful. \n",
    "\n",
    "Do the following:\n",
    "1. Report your best fit for $U_a$, $U_b$, $C^H_p$, and $C^S_p$ with uncertainty.\n",
    "2. Calculate the time constants for the heater and sensor and report with uncertainty."
   ]
  },
  {
   "cell_type": "code",
   "execution_count": null,
   "metadata": {},
   "outputs": [],
   "source": [
    "# Load and plot data\n",
    "# Add your solution here"
   ]
  },
  {
   "cell_type": "code",
   "execution_count": null,
   "metadata": {},
   "outputs": [],
   "source": [
    "# Implement and test model\n",
    "\n",
    "# Add your solution here"
   ]
  },
  {
   "cell_type": "code",
   "execution_count": null,
   "metadata": {},
   "outputs": [],
   "source": [
    "# Regress model\n",
    "\n",
    "# Add your solution here\n",
    "\n",
    "# Plot fitted model\n",
    "\n",
    "# Add your solution here"
   ]
  },
  {
   "cell_type": "code",
   "execution_count": null,
   "metadata": {},
   "outputs": [],
   "source": [
    "# Plot histogram of residuals\n",
    "# Add your solution here\n",
    "\n",
    "# Estimate covariance and correlation of fitted parameters\n",
    "\n",
    "# Estimate covariance and correlation of fitted parameters\n",
    "# Add your solution here\n",
    "\n",
    "print(\"\\nCovariance of p = [Ua, Ub, CpH, CpS]\")\n",
    "print(cov_p)\n",
    "\n",
    "# Convert to correlation matrix\n",
    "print(\"\\nCorrelation matrix\")\n",
    "print(covariance_to_correlation(cov_p))\n"
   ]
  },
  {
   "cell_type": "markdown",
   "metadata": {},
   "source": [
    "**Discussion Question:** What are the time constants for the heater and sensor?"
   ]
  },
  {
   "cell_type": "code",
   "execution_count": null,
   "metadata": {},
   "outputs": [],
   "source": [
    "# Calculate and print model parameters with uncertainty\n",
    "\n",
    "# Add your solution here\n",
    "\n",
    "print(\"The value of Ua is\", round(Ua,4), \"+/-\", round(np.sqrt(cov_p[0,0]),4), \"Watts/degC.\")\n",
    "print(\"The value of Ub is\", round(Ub,4), \"+/-\", round(np.sqrt(cov_p[1,1]),4), \"Watts/degC.\")\n",
    "print(\"The value of CpH is\", round(CpH,3), \"+/-\", round(np.sqrt(cov_p[2,2]),3), \"Joules/degC.\")\n",
    "print(\"The value of CpS is\", round(CpS,3), \"+/-\", round(np.sqrt(cov_p[3,3]),3), \"Joules/degC.\")\n",
    "\n",
    "print(\"The value of the time constant TH1 is\", round(TH1,3), \"+/-\", round(np.sqrt(cov_tau[0,0]),3), \"seconds.\")\n",
    "print(\"The value of the time constant TS1 is\", round(TS1,3), \"+/-\", round(np.sqrt(cov_tau[1,1]),3), \"seconds.\")\n",
    "print(\"The value of the time constant TH1 + TS1 is\", round(addition,3), \"+/-\", round(np.sqrt(cov_tau[2,2]),3), \"seconds.\")"
   ]
  },
  {
   "cell_type": "markdown",
   "metadata": {},
   "source": [
    "**Discussion Question:** Do you see any relationship between the heater and sensor time constants and what you found for the first-order model?\n",
    "\n",
    "*Answer*: "
   ]
  }
 ],
 "metadata": {
  "kernelspec": {
   "display_name": "Python 3 (ipykernel)",
   "language": "python",
   "name": "python3"
  },
  "language_info": {
   "codemirror_mode": {
    "name": "ipython",
    "version": 3
   },
   "file_extension": ".py",
   "mimetype": "text/x-python",
   "name": "python",
   "nbconvert_exporter": "python",
   "pygments_lexer": "ipython3",
   "version": "3.10.13"
  }
 },
 "nbformat": 4,
 "nbformat_minor": 4
}

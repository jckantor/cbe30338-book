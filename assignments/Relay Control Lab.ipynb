{
 "cells": [
  {
   "cell_type": "markdown",
   "metadata": {},
   "source": [
    "# Lab Assignment: Relay (On-Off) Control\n",
    "\n",
    "In this lab assignment you will implement relay control for the Temperature Control Laboratory.\n",
    "\n",
    "1. Implement and test a relay control for the heater/sensor system\n",
    "2. Implement and test a relay control to track a complex setpoint."
   ]
  },
  {
   "cell_type": "markdown",
   "metadata": {},
   "source": [
    "## Exercise 1. Simple relay control\n"
   ]
  },
  {
   "cell_type": "markdown",
   "metadata": {},
   "source": [
    "Create a relay controller subject to the following requirements:\n",
    "\n",
    "* Simultaneous control of sensor temperatures T1 and T2 to setpoints 35 and 40 degrees, respectively. The setpoints return to 25 deg C at  t = 300.\n",
    "* Use a tolerance value $d$ of 0.5 deg C.\n",
    "* Set the minimum and maximum values of the heater to 0 and 100%, respectively. lab.P1 and lab.P2 should be left at their default values.\n",
    "* Show the results of an experiment in which the setpoints are adjusted as \n",
    "\n",
    "Some started code is include below."
   ]
  },
  {
   "cell_type": "code",
   "execution_count": null,
   "metadata": {},
   "outputs": [],
   "source": [
    "# As a first step, let's verify the sample code runs\n",
    "\n",
    "from tclab import TCLab, clock, Historian, Plotter, setup\n",
    "\n",
    "TCLab = setup(connected=False)\n",
    "\n",
    "# modify these setpoints to change with time\n",
    "\n",
    "def SP1(t):\n",
    "    return 40\n",
    "\n",
    "def SP2(t):\n",
    "    return 35\n",
    "\n",
    "# relay controller\n",
    "def relay(SP, d=1, Umin=0, Umax=100):\n",
    "    U = 0\n",
    "    while True:\n",
    "        t, T = yield U\n",
    "        if T < SP(t) - d/2:\n",
    "            U = Umax\n",
    "        if T > SP(t) + d/2:\n",
    "            U = Umin\n",
    "\n",
    "# create a single control loop\n",
    "controller1 = relay(SP1)\n",
    "controller1.send(None)\n",
    "\n",
    "t_final = 60 # change this to 500 seconds for the actual experiment\n",
    "t_step = 1\n",
    "with TCLab() as lab:\n",
    "    sources = [(\"T1\", lambda: lab.T1), (\"T2\", lambda: lab.T2),\n",
    "               (\"SP1\", lambda: SP1(t)), (\"SP2\", lambda: SP2(t)),\n",
    "               (\"Q1\", lab.Q1), (\"Q2\", lab.Q2)]\n",
    "    h = Historian(sources)\n",
    "    p = Plotter(h, t_final, layout=((\"T1\", \"SP1\"), (\"T2\", \"SP2\"), (\"Q1\", \"Q2\")))\n",
    "    for t in clock(t_final, t_step):\n",
    "        # This starter code only manipulates U1 to control T1.\n",
    "        # Your specifications also give a setpoint for T2\n",
    "        T1 = lab.T1\n",
    "        U1 = controller1.send([t, T1])\n",
    "        lab.Q1(U1)\n",
    "        p.update()"
   ]
  },
  {
   "cell_type": "code",
   "execution_count": null,
   "metadata": {},
   "outputs": [],
   "source": [
    "# Verify your device has cooled back to ambient\n",
    "tfinal = 30\n",
    "\n",
    "# perform experiment\n",
    "with TCLab() as lab:\n",
    "    lab.U1 = 0\n",
    "    lab.U2 = 0\n",
    "    h = Historian(lab.sources)\n",
    "    p = Plotter(h, tfinal)\n",
    "    for t in clock(tfinal):\n",
    "        p.update(t)"
   ]
  },
  {
   "cell_type": "code",
   "execution_count": null,
   "metadata": {},
   "outputs": [],
   "source": [
    "# Copy the code from above and modify to match the specifications\n",
    "\n",
    "# Add your solution here"
   ]
  },
  {
   "cell_type": "markdown",
   "metadata": {},
   "source": [
    "## Tempering Chocolate\n",
    "\n",
    "We now want to create a rely controller that matches the temperature profile for tempering chocolate.\n",
    "\n",
    "![](https://d29hmqxeker05q.cloudfront.net/eyJidWNrZXQiOiJpbWFnZXMuY2tiay5jb20iLCJrZXkiOiJpbWFnZXMvY2hvYzI0NDE0YzA0czAwMXNzMDAxc3NzMDA0ZzAxLmpwZyIsImVkaXRzIjp7InJlc2l6ZSI6eyJ3aXRob3V0RW5sYXJnZW1lbnQiOnRydWUsIndpZHRoIjo2NTEsImhlaWdodCI6NTAwLCJmaXQiOiJpbnNpZGUifSwianBlZyI6eyJxdWFsaXR5Ijo5MCwicHJvZ3Jlc3NpdmUiOnRydWV9fX0=)\n",
    "\n",
    "Temperature 1 specifications:\n",
    "* Start from ambient.\n",
    "* Reach 50 deg C at 3 miinutes, 27 deg C at 7 minutes, return to 32 deg C at 8 minutes, and hold until 10 minutes. \n",
    "* The goal is follow the linear ramp between setpoints as closely as possible.\n",
    "\n",
    "Temperature 2 specifications:\n",
    "* Start from ambient, ramp, and then hold at 30 deg C.\n",
    "\n",
    "Hints:\n",
    "* Modify SP1 to linearly interpolate the set point as a function of time."
   ]
  },
  {
   "cell_type": "markdown",
   "metadata": {},
   "source": []
  },
  {
   "cell_type": "code",
   "execution_count": null,
   "metadata": {},
   "outputs": [],
   "source": [
    "# Copy your code from above and modify to match the specifications\n",
    "\n",
    "# Add your solution here"
   ]
  },
  {
   "cell_type": "markdown",
   "metadata": {},
   "source": [
    "## Discussion\n",
    "\n",
    "Write a 1 to 3 sentences to answer each of the following questions."
   ]
  },
  {
   "cell_type": "markdown",
   "metadata": {},
   "source": [
    "Describe the shape of the temperature profiles (time-series) for the excrise 1 experiment. Are these shapes expected?\n",
    "\n",
    "Answer:"
   ]
  },
  {
   "cell_type": "markdown",
   "metadata": {},
   "source": [
    "Speculate about why T1 overshoots the setpoint more than T2 in the excerise 1 experiment.\n",
    "\n",
    "Answer: "
   ]
  },
  {
   "cell_type": "markdown",
   "metadata": {},
   "source": [
    "In the cholcate tempering simulation, how many times does each heater transitions from (a) one to off and (b) off to on?\n",
    "\n",
    "Fill in this table:\n",
    "\n",
    "| Sensor | On to Off | Off to On |\n",
    "| ------ | --------- | --------- |\n",
    "| T1 | | | \n",
    "| T2 | | |\n",
    "\n"
   ]
  },
  {
   "cell_type": "markdown",
   "metadata": {},
   "source": [
    "Descibe the shape of the T1 and T2 timeseries for the excerise 2 experiment. How do the T1 and T2 profiles relate to the on/off and off/on transitions for Q1 and Q2?\n",
    "\n",
    "Answer:"
   ]
  },
  {
   "cell_type": "markdown",
   "metadata": {},
   "source": [
    "How can we reduce the oscillations in these experiments? Propose at least one idea and provide reasoning for why it could work.\n",
    "\n",
    "Answer:"
   ]
  },
  {
   "cell_type": "markdown",
   "metadata": {},
   "source": []
  }
 ],
 "metadata": {
  "kernelspec": {
   "display_name": "Python 3 (ipykernel)",
   "language": "python",
   "name": "python3"
  },
  "language_info": {
   "codemirror_mode": {
    "name": "ipython",
    "version": 3
   },
   "file_extension": ".py",
   "mimetype": "text/x-python",
   "name": "python",
   "nbconvert_exporter": "python",
   "pygments_lexer": "ipython3",
   "version": "3.10.13"
  }
 },
 "nbformat": 4,
 "nbformat_minor": 4
}

{
 "cells": [
  {
   "cell_type": "markdown",
   "id": "13b1160c",
   "metadata": {},
   "source": [
    "# Step Testing Lab Assignment\n",
    "## Task 1: Plot Experimental Data and Estimate Parameters from 1st Order Model"
   ]
  },
  {
   "cell_type": "code",
   "execution_count": null,
   "id": "202fb48b",
   "metadata": {},
   "outputs": [],
   "source": [
    "import pandas as pd\n",
    "\n",
    "# parameters\n",
    "P1 = 200\n",
    "U1 = 50\n",
    "\n",
    "#file location\n",
    "file_path = \"data.csv\" # my data file from the testing experiment is in the same folder as this notebook\n",
    "\n",
    "# get data\n",
    "data = pd.read_csv(file_path, index_col = \"Time\")\n",
    "\n",
    "#display step test data\n",
    "display(data)\n",
    "\n",
    "#plot data\n",
    "data.plot(y=[\"T1\", \"T2\"], \n",
    "          title=f\"{P1=}, {U1=}\",\n",
    "          xlabel=\"seconds\", \n",
    "          ylabel=\"deg C\", \n",
    "          grid=True, \n",
    "          figsize=(8, 2.5)\n",
    "         )\n",
    "\n",
    "data.plot(y=[\"Q1\", \"Q2\"],\n",
    "          title=f\"{P1=}, {U1=}\",\n",
    "          xlabel=\"seconds\", \n",
    "          ylabel=\"% of full range\", \n",
    "          grid=True, \n",
    "          figsize=(8, 1.5),\n",
    "          ylim=(0, 100)\n",
    "         )"
   ]
  },
  {
   "cell_type": "markdown",
   "id": "054191d1",
   "metadata": {},
   "source": [
    "### Parameter Estimation\n",
    "Gain - if the system is at steady state then: $$0 = a \\bar{x} + b \\bar{u}$$\n",
    "so $$\\bar{x}=-\\frac{b}{a}\\bar{u}$$\n",
    "where the gain K is $$K=-\\frac{b}{a}$$\n",
    "\n",
    "in this case, the steady state temperature is ~55.74&deg;C and the ambient is 23&deg;C so $\\bar{x} = 32.74C$\n",
    "\n",
    "and $\\bar{u}=50$ % corresponding to the heater output\n",
    "\n",
    "thus $K=.6548$ &deg;C/%\n",
    "\n"
   ]
  },
  {
   "cell_type": "markdown",
   "id": "c6a036fd",
   "metadata": {},
   "source": [
    "Time constant - time it takes to get to 63.2% of the way to the final steady state value: $$.623*(55.74-23)+23=43.98C$$"
   ]
  },
  {
   "cell_type": "code",
   "execution_count": null,
   "id": "f73725d7",
   "metadata": {},
   "outputs": [],
   "source": [
    "around44 = data[data['T1'].between(43.8,44.2)]\n",
    "display(around44)"
   ]
  },
  {
   "cell_type": "markdown",
   "id": "4caaba5d",
   "metadata": {},
   "source": [
    "This temp. is between 176s and 177s so:\n",
    "$\\tau$ = 176.5 s"
   ]
  },
  {
   "cell_type": "markdown",
   "id": "d650d59c",
   "metadata": {},
   "source": [
    "Ambient temperature - The steady state temperature: 23&deg;C"
   ]
  },
  {
   "cell_type": "markdown",
   "id": "e1ae321d",
   "metadata": {},
   "source": [
    "## Task 2: Plot Analytical Solution and Adjust Parameters for a Good Fit\n",
    "### Initial Plot"
   ]
  },
  {
   "cell_type": "code",
   "execution_count": null,
   "id": "5f9f2e04",
   "metadata": {},
   "outputs": [],
   "source": [
    "import numpy as np\n",
    "import matplotlib.pyplot as plt\n",
    "\n",
    "# parameter values\n",
    "T_amb = 23 # °C\n",
    "x0 = 0 # °C\n",
    "K = 0.6548 # °C/% U1\n",
    "tau = 176.5 # sec\n",
    "\n",
    "# known input\n",
    "U1 = 50 # %\n",
    "\n",
    "# compute analytical solution\n",
    "t = data.index\n",
    "x = x0*np.exp(-t/tau) + (1 - np.exp(-t/tau))*K*U1\n",
    "\n",
    "# plotting solution for T1\n",
    "T1 = x + T_amb\n",
    "plt.plot(t, T1, t, data[\"T1\"])\n",
    "plt.legend([\"T1 predicted\", \"T1 measured\"])\n",
    "\n",
    "# dress up the plot\n",
    "plt.title(f\"{x0=}, {K=}, {tau=}\")\n",
    "plt.xlabel(\"seconds\")\n",
    "plt.ylabel(\"deg C\")\n",
    "plt.grid(True)"
   ]
  },
  {
   "cell_type": "markdown",
   "id": "a94f975a",
   "metadata": {},
   "source": [
    "### Measuring Fit"
   ]
  },
  {
   "cell_type": "code",
   "execution_count": null,
   "id": "f7257fff",
   "metadata": {},
   "outputs": [],
   "source": [
    "# Measuring the fit of the model\n",
    "\n",
    "# re-defining things\n",
    "t = data.index\n",
    "T1 = data['T1'].values\n",
    "\n",
    "# redefining parameters\n",
    "T_amb = 23 # deg C\n",
    "x0 = 0 # °C\n",
    "\n",
    "# the model 'p'\n",
    "K = 0.6548 # °C/% U1\n",
    "tau = 176.5 # sec\n",
    "\n",
    "def compare(p, plot=False): # a fuction that takes values for K and tau and then compares the model to the data.\n",
    "    # if plot is true it will also do some graphs to show\n",
    "    \n",
    "    K, tau = p\n",
    "\n",
    "    # model\n",
    "    T1_dev_initial = x0 # intial deviation temperature - 0 if at ambient\n",
    "    T1_dev_ss = K*U1 # steady state deviation value at U1 output (50% in this case)\n",
    "    T1_dev = T1_dev_initial*np.exp(-t/tau) + (1 - np.exp(-t/tau))*T1_dev_ss # model temp. deviation\n",
    "    T1_model = T1_dev + T_amb # model actual temp.\n",
    "\n",
    "    # model mismatch calculated\n",
    "    sse = sum((T1_model - T1)**2)\n",
    "    sae = sum(np.abs(T1_model - T1))\n",
    "\n",
    "    # visualization\n",
    "    if plot:\n",
    "        fig, ax = plt.subplots(4, 1, figsize=(10,10))\n",
    "        ax[0].plot(t, T1, 'r', lw=2)\n",
    "        ax[0].plot(t, T1_model, 'r--', lw=2)\n",
    "        ax[0].axhline(T_amb)\n",
    "        ax[0].axvline(0)\n",
    "        ax[0].set_xlabel(\"time / seconds\")\n",
    "        ax[0].set_ylabel(\"temperture / °C\")\n",
    "        ax[0].set_title(f\"Step Response (P1 = {P1}, U1 = {U1})\")\n",
    "        ax[0].grid(True)\n",
    "\n",
    "        ax[1].plot(t, T1_model - T1)\n",
    "        ax[1].axhline(0)\n",
    "        ax[1].axvline(0)\n",
    "        ax[1].fill_between(t, T1_model - T1, alpha=0.2)\n",
    "        ax[1].set_title(f'Model Error')\n",
    "        ax[1].set_xlabel(\"time / seconds\")\n",
    "        ax[1].set_ylabel(\"temperture / °C\")\n",
    "        ax[1].grid(True)\n",
    "\n",
    "        ax[2].plot(t, (T1_model - T1)**2)\n",
    "        ax[2].axhline(0)\n",
    "        ax[2].axvline(0)\n",
    "        ax[2].fill_between(t, (T1_model - T1)**2, alpha=0.2)\n",
    "        ax[2].set_title(f'Sum of Squares = {sse:0.1f}')\n",
    "        ax[2].set_xlabel(\"time / seconds\")\n",
    "        ax[2].set_ylabel(\"(temperture / °C)^2\")\n",
    "        ax[2].grid(True)\n",
    "\n",
    "        ax[3].plot(t, np.abs(T1_model - T1))\n",
    "        ax[3].axhline(0)\n",
    "        ax[3].axvline(0)\n",
    "        ax[3].fill_between(t, np.abs(T1_model - T1), alpha=0.2)\n",
    "        ax[3].set_title(f'Sum of Absolute Values = {sae:0.1f}')\n",
    "        ax[3].set_xlabel(\"time / seconds\")\n",
    "        ax[3].set_ylabel(\"temperture / °C\")\n",
    "        ax[3].grid(True)\n",
    "\n",
    "        plt.tight_layout()\n",
    "\n",
    "    return sae \n",
    "    \n",
    "compare([K, tau], plot=True) # call the function with the initial values"
   ]
  },
  {
   "cell_type": "markdown",
   "id": "4513bebd",
   "metadata": {},
   "source": [
    "### Optimizing Parameters"
   ]
  },
  {
   "cell_type": "code",
   "execution_count": null,
   "id": "89024547",
   "metadata": {
    "scrolled": true
   },
   "outputs": [],
   "source": [
    "from scipy.optimize import fmin #old minimizer\n",
    "print(\"The original K = \", K, \"Tau = \", tau)\n",
    "\n",
    "p = fmin(compare, [K, tau]) # compare returns the SAE which fmin minimizes by changing K and tau\n",
    "compare(p, plot=True)\n",
    "print(p)\n",
    "\n",
    "# scipy says that fmin is a legacy method and that new scripts should move to minimize instead, it works almost the same way\n",
    "from scipy.optimize import minimize # new minimizer\n",
    "# reset K and Tau\n",
    "K = 0.6548 # °C/% U1\n",
    "tau = 176.5 # sec\n",
    "print(\"New Minimizer:\")\n",
    "p = minimize(compare, [K, tau])\n",
    "print(p.x) # p.x is the array for the solutions\n",
    "print(p)\n",
    "compare(p.x, plot=True)"
   ]
  },
  {
   "cell_type": "markdown",
   "id": "166ce397",
   "metadata": {},
   "source": [
    "## Task 3: Derive Expressions for tau and K"
   ]
  },
  {
   "cell_type": "markdown",
   "id": "cd1a1198",
   "metadata": {},
   "source": [
    "The energy ballance is (Eq.1) \n",
    "\n",
    "$$\n",
    "\\begin{align}\n",
    "C_p\\frac{dT_1}{dt} & = U_a(T_{amb} - T_1) + \\alpha P_1u_1 \\\\\n",
    "\\end{align}\n",
    "$$\n",
    "\n",
    "rearranged\n",
    "\n",
    "$$\n",
    "\\begin{align}\n",
    "\\frac{dT_1}{dt} & = \\frac{U_a}{C_p}(T_{amb} - T_1) + \\frac{\\alpha P_1}{C_p}u_1 \\\\\n",
    "\\end{align}\n",
    "$$\n",
    "\n",
    "then take \n",
    "\n",
    "$$\\begin{align} x & = T_1 - T_{amb} \\end{align}$$\n",
    "\n",
    "to get $$\\begin{align} \\frac{dx}{dt} & = \\frac{-U_a}{C_p}x + \\frac{\\alpha P_1}{C_p}u_1\\end{align}$$  \n",
    "\n",
    "the gain/time-constant form is $$\\begin{align} \\tau\\frac{dx}{dt} = -x + K \\bar{u} \\end{align}$$\n",
    "\n",
    "\n",
    "which rearranges to \n",
    "$$\\begin{align} \\frac{dx}{dt} = -\\frac{1}{\\tau} x + \\frac{K}{\\tau} \\bar{u} \\end{align}$$\n",
    "\n",
    "so $$\\begin{align} \\tau & = \\frac{C_p}{U_a} \\end{align}$$\n",
    "\n",
    "and $$\\begin{align} K & = \\frac{\\alpha P_1}{C_p} \\tau = \\frac{\\alpha P_1}{C_p} \\frac{C_p}{U_a} = \\frac{\\alpha P_1}{U_a}\\end{align}$$\n",
    "\n",
    "plugging in for $K$ \n",
    "\n",
    "$$\\begin{align} K & = \\frac{\\alpha P_1}{U_a} = 0.6759 \\frac{degC}{\\%} = \\frac{0.16 \\frac{mW}{\\% unitsP_1}}{U_a} 200 units P_1 \\end{align}\n",
    "\\begin{align} U_a = 47.34 \\frac{mW}{degC}\\end{align} $$\n",
    "\n",
    "and plugging in for $\\tau$ \n",
    "\n",
    "$$\\begin{align} \\tau & = \\frac{C_p}{U_a} = 180.7 s = \\frac{C_p}{47.34 \\frac{mW}{degC}}\\end{align}\n",
    "\\begin{align} C_p & = 8554\\frac{mJ}{degC} = 8.55 \\frac{J}{degC} \\end{align}$$"
   ]
  },
  {
   "cell_type": "markdown",
   "id": "8813159f",
   "metadata": {},
   "source": [
    "# Task 4: Issues writting python code to automatically fit a model to the step test\n",
    "edited student responses\n",
    "\n",
    "**How can you measure the quality of fit?**\n",
    "\n",
    "Quality of fit can be judged by standard absolute error and/or sum of square error. One interesting aspect is that, in the graphs above, the error is clearly dependent on the time of the experiment. This may indicate problems with the model, as the error should be random across the data set, not systematic. At the start of the experiment this seems attributable to some time delay as the heater conducts heat to the sensor. The model could be improved by accounting for the heat transfer between the heater and sensor.\n",
    "\n",
    "**How should one handle bad measurements?**\n",
    "\n",
    "In this case there is some noise in the measurments. Minimizing absolute error rather than the square error will keep large noisy measurements from being disproportionately amplified\n",
    "\n",
    "**What parameters should be fit?**\n",
    "\n",
    "Tau and K (or $C_p$ and $U_a$). The ambient temperature and starting temperature are known because the system should have been started at a steady state which was the ambient temperature. Alpha was given and $P_1$ and $u_1$ are set at the outset of the experiment.\n",
    "\n",
    "**How can you estimate uncertainty in the estimates of $C_p$ and $U_a$?**\n",
    "\n",
    "You can estimate the uncertainty in $C_p$ and $U_a$ through running several experiments and examining the range of parameter values.\n",
    "\n",
    "**Is it possible to estimate $U_a$ from a steady state experiment?**\n",
    "\n",
    "Yes - If d$T_1$/dt in Eq.1 above is set to 0 then $T_1$ is the steady state temperature and Alpha, $P_1$ and $U_1$ are all known constants so you can solve for $U_a$\n",
    "\n",
    "**Is is possible to estimate $C_p$ from a steady state experiment?**\n",
    "\n",
    "No - In a similar manner to above, if d$T_1$/dt in Eq.1 above is set to 0 then $C_p$ is a a constant multiplier of a 0 term that can't be found"
   ]
  }
 ],
 "metadata": {
  "kernelspec": {
   "display_name": "Python 3 (ipykernel)",
   "language": "python",
   "name": "python3"
  },
  "language_info": {
   "codemirror_mode": {
    "name": "ipython",
    "version": 3
   },
   "file_extension": ".py",
   "mimetype": "text/x-python",
   "name": "python",
   "nbconvert_exporter": "python",
   "pygments_lexer": "ipython3",
   "version": "3.11.5"
  }
 },
 "nbformat": 4,
 "nbformat_minor": 5
}

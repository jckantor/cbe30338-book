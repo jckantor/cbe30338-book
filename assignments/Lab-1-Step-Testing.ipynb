{
 "cells": [
  {
   "cell_type": "markdown",
   "metadata": {},
   "source": [
    "# Lab 1: Step Test of a First-Order System\n",
    "\n",
    "This notebook outlines a process for fitting a first-order model of a heater/sensor assembly to data taken during a step test. The learning goals for this notebook are:\n",
    "\n",
    "* Read and plot a previously saved step test data using the `Pandas` library.\n",
    "* By inspection, identify the gain and dominant time constant of the step test.\n",
    "* Simulate the response of a first-order model to step test.\n",
    "* Through iteration, adjust model parameters to fit the first order model to step test data. \n",
    "* Understand the relationship of model parameters to gain and time constant.\n",
    "* Determine if a first-order model provides an adequate description of the observed response."
   ]
  },
  {
   "cell_type": "markdown",
   "metadata": {},
   "source": [
    "## Background and Starter Code"
   ]
  },
  {
   "cell_type": "markdown",
   "metadata": {},
   "source": [
    "### First-order lumped model for heater/sensor device.\n",
    "\n",
    "We have previously developed a first-order model for one heater/sensor pair on the temperature control lab device.  An energy balance gives\n",
    "\n",
    "\\begin{align}\n",
    "C_p\\frac{dT_1}{dt} & = U_a(T_{amb} - T_1) + \\alpha P_1u_1 \\\\\n",
    "\\end{align}\n",
    "\n",
    "where $T_1$ is the average temperature of heater/sensor one, $T_{amb}$ is the ambient temperature of the surroundings. The unknown parameters are the heat capacity $C_p$ and the heat transfer coefficient $U_a$.\n",
    "\n",
    "The parameters describing the heat input are as follows:\n",
    "\n",
    "* $\\alpha$ is a system calibration constant  The measured value of $\\alpha$ is 0.16 milliwatts per unit of $P_1$ per percent.\n",
    "* $P_1$ is a constant integer value in the range 0 to 255 that controls the operating range of heater 1. It is set using the `tclab` library.\n",
    "* $u_1$ is a floating point value in the range 0 to 100 that specify the percentage of available power for heater 1.\n",
    "\n",
    "For example, if $P_1 = 255$ and $u_1 = 100$, then the total applied power is\n",
    "\n",
    "$$\\alpha_1 P_1 u_1 = 0.16 \\times 200 \\times 50 = 4080\\ \\text{milliwatts} = 4.08\\ \\text{watts}$$\n",
    "\n",
    "\n",
    "\n"
   ]
  },
  {
   "cell_type": "markdown",
   "metadata": {},
   "source": [
    "### Reading previously saved experimental data\n",
    "\n",
    "A step test was performed where the temperature control laboratory was initially at steady state at ambient temperature. The heater range $P_1$ was set to 200, then  heater 1 was set to 50% of full range with $\\bar{u}_1 = 50$. Temperatures $T_1$ and $T_2$ were recorded for 800 seconds. The has been saved to the course Github repository where it can be located with the url\n",
    "\n",
    "[https://raw.githubusercontent.com/ndcbe/controls/main/tclab/data/tclab-data.csv](\"https://raw.githubusercontent.com/ndcbe/controls/main/tclab/data/tclab-data.csv\")\n",
    "\n",
    "The following cell reads the step test data using the `Pandas` library. The data is stored in a Pandas DataFrame called `data`."
   ]
  },
  {
   "cell_type": "code",
   "execution_count": null,
   "metadata": {},
   "outputs": [],
   "source": [
    "import pandas as pd\n",
    "\n",
    "# parameter values\n",
    "P1 = 200\n",
    "U1 = 50\n",
    "\n",
    "# file location\n",
    "github_repo = \"https://raw.githubusercontent.com/ndcbe/controls/main/\"\n",
    "file_path = \"tclhttps://raw.githubusercontent.com/ndcbe/controls/main/notebooks/data/tclab-data.csv\"\n",
    "url = github_repo + file_path\n",
    "\n",
    "# read file\n",
    "data = pd.read_csv(url, index_col=\"Time\")\n",
    "\n",
    "# display the step test data\n",
    "display(data)"
   ]
  },
  {
   "cell_type": "markdown",
   "metadata": {},
   "source": [
    "Next we plot the data using the `.plot()` method associated with every Pandas DataFrame. The Pandas plot method provides a concise and intuitive means of plotting data."
   ]
  },
  {
   "cell_type": "code",
   "execution_count": null,
   "metadata": {},
   "outputs": [],
   "source": [
    "data.plot(y=[\"T1\", \"T2\"], \n",
    "          title=f\"{P1=}, {U1=}\",\n",
    "          xlabel=\"seconds\", \n",
    "          ylabel=\"deg C\", \n",
    "          grid=True, \n",
    "          figsize=(8, 2.5)\n",
    "         )\n",
    "\n",
    "data.plot(y=[\"Q1\", \"Q2\"],\n",
    "          title=f\"{P1=}, {U1=}\",\n",
    "          xlabel=\"seconds\", \n",
    "          ylabel=\"% of full range\", \n",
    "          grid=True, \n",
    "          figsize=(8, 1.5),\n",
    "          ylim=(0, 100)\n",
    "         )"
   ]
  },
  {
   "cell_type": "markdown",
   "metadata": {},
   "source": [
    "### Analytical Solution for a Step Test\n",
    "\n",
    "The goal of this assignment is to fit a first-order model to the step test. The strategy we use will be use an analytical solution for a first-order model subject to a step change in the input. Then, by trail-and-error, find a set of model parameters that provide a good fit to the experimental data.\n",
    "\n",
    "We start with a first-order model written in gain/time-constant form\n",
    "\n",
    "$$\\tau\\frac{dx}{dt} = -x + K \\bar{u}$$\n",
    "\n",
    "where $x = T_1 - T_{amb}$ and the $\\bar{u}$ is a constant value for the input $u_1(t)$. The analytical solution consists of two parts\n",
    "\n",
    "$$x(t) = \\underbrace{x_0e^{-t/\\tau}}_{\\text{initial condition }x_0} + \\underbrace{(1 - e^{-t/\\tau}) K \\bar{u}}_{\\text{input }\\bar{u}}$$\n",
    "\n",
    "The solution depends on three parameters:\n",
    "\n",
    "* $x_0$: initial condition\n",
    "* $K$: steady-state gain\n",
    "* $\\tau$: time constant\n",
    "\n",
    "The initial condition $x_0 = 0$ if the step test starts at steady-state. In that case there are two parameters to fit, $K$ and $\\tau$. The following cell demonstrates the calculation and plotting of the analytical solution.\n"
   ]
  },
  {
   "cell_type": "code",
   "execution_count": null,
   "metadata": {},
   "outputs": [],
   "source": [
    "import numpy as np\n",
    "import matplotlib.pyplot as plt\n",
    "\n",
    "# estimate parameter values\n",
    "T_amb = 23\n",
    "x0 = 0\n",
    "K = 0.66\n",
    "tau = 180\n",
    "\n",
    "# known input\n",
    "U1 = 50\n",
    "\n",
    "# compute analytical solution\n",
    "t = data.index\n",
    "x = x0*np.exp(-t/tau) + (1 - np.exp(-t/tau))*K*U1\n",
    "\n",
    "# plotting solution for T1\n",
    "T1 = x + T_amb\n",
    "plt.plot(t, T1, t, data[\"T1\"])\n",
    "plt.legend([\"T1 predicted\", \"T1 measured\"])\n",
    "\n",
    "# dress up the plot\n",
    "plt.title(f\"{x0=}, {K=}, {tau=}\")\n",
    "plt.xlabel(\"seconds\")\n",
    "plt.ylabel(\"deg C\")\n",
    "plt.grid(True)\n"
   ]
  },
  {
   "cell_type": "markdown",
   "metadata": {},
   "source": [
    "The remainder of this notebook is your labratory assignment; in summary, you will to conduct a step test of the Temperature Control Lab, and then to fit the results to a first order model of a heater/sensor assembly."
   ]
  },
  {
   "cell_type": "markdown",
   "metadata": {},
   "source": [
    "## Task 1\n",
    "\n",
    "Do the following:\n",
    "* Copy code from above to reproduce the experiment\n",
    "* Read the data you saved from your step test.\n",
    "* Plot the results.\n",
    "* Inspecting the plot for $T_1$, estimate the\n",
    "    * gain\n",
    "    * time constant\n",
    "    * ambient temperature\n"
   ]
  },
  {
   "cell_type": "code",
   "execution_count": null,
   "metadata": {},
   "outputs": [],
   "source": [
    "# Add your solution here"
   ]
  },
  {
   "cell_type": "markdown",
   "metadata": {},
   "source": [
    "Write your estimates below in this markdown cell.\n",
    "\n",
    "*Answer*: "
   ]
  },
  {
   "cell_type": "markdown",
   "metadata": {},
   "source": [
    "## Task 2\n",
    "\n",
    "Following the starter code presented above, create a new cell to plot an analytical solution for the step response of a first-order model in gain/time constant form. Use your estimates of gain, time constant, initial condition, and the input. On the same plot, overlay a plot of the experimental data. Adjust parameter values until you get the a good fit of the model to the experimental data.\n",
    "\n",
    "Note that you may need to also adjust values of the ambient temperature and initial condition to fit the model. \n",
    "\n",
    "Report the following:\n",
    "* gain\n",
    "* time constant\n",
    "* ambient temperature\n",
    "* initial condition"
   ]
  },
  {
   "cell_type": "code",
   "execution_count": null,
   "metadata": {},
   "outputs": [],
   "source": [
    "# Add your solution here"
   ]
  },
  {
   "cell_type": "code",
   "execution_count": null,
   "metadata": {},
   "outputs": [],
   "source": [
    "# Add your solution here"
   ]
  },
  {
   "cell_type": "code",
   "execution_count": null,
   "metadata": {},
   "outputs": [],
   "source": [
    "# Add your solution here"
   ]
  },
  {
   "cell_type": "markdown",
   "metadata": {},
   "source": [
    "## Task 3\n",
    "\n",
    "A first-order model in gain/time constant form is given by\n",
    "\n",
    "$$\\tau\\frac{dx}{dt} = - x + K u $$\n",
    "\n",
    "Where $x$ is the state variable. Again letting $x = T_1 - T_{amb}$ and $u = u_1$  Comparing this model of a first order system to the model given up for the heater/sensor assembly.\n",
    "\n",
    "Do the following:\n",
    "* Derive expressions for the parameters $\\tau$ and $K$ in terms of $C_p$, $U_a$, $\\alpha$, and $P_1$. \n",
    "* Assume $\\alpha = 0.16$ milliwatts per unit of $P1$ per percent. Solve for estimates of $C_p$ and $U_a$. "
   ]
  },
  {
   "cell_type": "markdown",
   "metadata": {},
   "source": [
    "*Answer*: "
   ]
  },
  {
   "cell_type": "markdown",
   "metadata": {},
   "source": [
    "## Task 4\n",
    "\n",
    "Below discuss issues you would face in writing a Python function to automatically fit the model of the heater/sensor assembly to step test data. For each question, please write a few sentences.\n",
    "\n",
    "**How can you measure the quality of fit?**\n",
    "\n",
    "*Answer*: \n",
    "\n",
    "**How should one handle bad measurements?**\n",
    "\n",
    "*Answer*: \n",
    "\n",
    "**What parameters should be fit?**\n",
    "\n",
    "*Answer*: \n",
    "\n",
    "**How can you estimate uncertainty in the estimates of $C_p$ and $U_a$?**\n",
    "\n",
    "*Answer*: \n",
    "\n",
    "**Is it possible to estimate $U_a$ from a steady state experiment?**\n",
    "\n",
    "*Answer*: \n",
    "\n",
    "**Is is possible to estimate $C_p$ from a steady state experiment?**\n",
    "\n",
    "*Answer*: \n"
   ]
  },
  {
   "cell_type": "code",
   "execution_count": null,
   "metadata": {},
   "outputs": [],
   "source": []
  }
 ],
 "metadata": {
  "kernelspec": {
   "display_name": "Python 3 (ipykernel)",
   "language": "python",
   "name": "python3"
  },
  "language_info": {
   "codemirror_mode": {
    "name": "ipython",
    "version": 3
   },
   "file_extension": ".py",
   "mimetype": "text/x-python",
   "name": "python",
   "nbconvert_exporter": "python",
   "pygments_lexer": "ipython3",
   "version": "3.9.16"
  }
 },
 "nbformat": 4,
 "nbformat_minor": 4
}

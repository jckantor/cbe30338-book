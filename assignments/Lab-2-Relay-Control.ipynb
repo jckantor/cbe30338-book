{
 "cells": [
  {
   "cell_type": "markdown",
   "metadata": {},
   "source": [
    "# Lab 2: Relay (On-Off) Control\n",
    "\n",
    "*Your Name:* \n",
    "\n",
    "In this lab assignment you will implement [relay control](https://ndcbe.github.io/controls/notebooks/03.04-Relay-Control.html) for the Temperature Control Laboratory. The [class website](https://ndcbe.github.io/controls/notebooks/03.05-Implementing-Controllers.html) explains the Python interface to the TCLab in more detail.\n",
    "\n",
    "1. Implement and test a relay control for the heater/sensor system\n",
    "2. Implement and test a relay control to track a complex setpoint."
   ]
  },
  {
   "cell_type": "markdown",
   "metadata": {},
   "source": [
    "## Exercise 1. Simple Relay Control\n"
   ]
  },
  {
   "cell_type": "markdown",
   "metadata": {},
   "source": [
    "Create a relay controller subject to the following requirements:\n",
    "\n",
    "* Simultaneous control of sensor temperatures T$_1$ and T$_2$ to setpoints 35 and 40 &deg;C, respectively. The setpoints return to 25 &deg;C at  t = 300.\n",
    "* Use a tolerance value $d$ of 0.5 &deg;C.\n",
    "* Set the minimum and maximum values of the heater to 0 and 100%, respectively. lab.P1 and lab.P2 should be left at their default values.\n",
    "* Show the results of an experiment in which the setpoints are adjusted as \n",
    "\n",
    "Some started code is include below."
   ]
  },
  {
   "cell_type": "code",
   "execution_count": null,
   "metadata": {},
   "outputs": [],
   "source": [
    "# As a first step, let's verify the sample code runs\n",
    "\n",
    "from tclab import TCLab, clock, Historian, Plotter, setup\n",
    "\n",
    "TCLab = setup(connected=True)\n",
    "\n",
    "# modify these setpoints to change with time\n",
    "\n",
    "def SP1(t):\n",
    "    \"\"\"Set point definition for T1\n",
    "    Arguments:\n",
    "        t: time (s)\n",
    "    Returns:\n",
    "        set point of T1\n",
    "    \"\"\"\n",
    "    return 40\n",
    "\n",
    "def SP2(t):\n",
    "    \"\"\"Set point definition for T2\n",
    "    Arguments:\n",
    "        t: time (s)\n",
    "    Returns:\n",
    "        set point of T2\n",
    "    \"\"\"\n",
    "    return 35\n",
    "\n",
    "# relay controller\n",
    "def relay(SP, d=1, Umin=0, Umax=100):\n",
    "    \"\"\"Relay controller definition\n",
    "    Arguments:\n",
    "        SP: set point function\n",
    "        d: set point tolerance\n",
    "        Umin: minimum heater output (%) \n",
    "        Umax: maximum heater output (%)\n",
    "    Returns:\n",
    "        none\n",
    "    \"\"\"\n",
    "    #start with the heater off\n",
    "    U = 0\n",
    "    #while the simulation is active (t<tfinal)\n",
    "    while True:\n",
    "        t, T = yield U\n",
    "        #When T is below the set point, turn on heater\n",
    "        if T < SP(t) - d/2:\n",
    "            U = Umax\n",
    "        #When T is above the set point, turn off heater\n",
    "        if T > SP(t) + d/2:\n",
    "            U = Umin\n",
    "\n",
    "# create a single control loop for T1\n",
    "controller1 = relay(SP1)\n",
    "controller1.send(None)\n",
    "\n",
    "#simulate with TCLab\n",
    "t_final = 60 # change this to 500 seconds for the actual experiment\n",
    "t_step = 1\n",
    "with TCLab() as lab:\n",
    "    sources = [(\"T1\", lambda: lab.T1), (\"T2\", lambda: lab.T2),\n",
    "               (\"SP1\", lambda: SP1(t)), (\"SP2\", lambda: SP2(t)),\n",
    "               (\"Q1\", lab.Q1), (\"Q2\", lab.Q2)]\n",
    "    #load historian\n",
    "    h = Historian(sources)\n",
    "    #load plotter\n",
    "    p = Plotter(h, t_final, layout=((\"T1\", \"SP1\"), (\"T2\", \"SP2\"), (\"Q1\", \"Q2\")))\n",
    "    #While time is less than tfinal\n",
    "    for t in clock(t_final, t_step):\n",
    "        # This starter code only manipulates U1 to control T1.\n",
    "        # Your specifications also give a setpoint for T2\n",
    "        T1 = lab.T1\n",
    "        #Send the controller time and T1 data\n",
    "        U1 = controller1.send([t, T1])\n",
    "        lab.Q1(U1)\n",
    "        #Read data and update plot\n",
    "        p.update()"
   ]
  },
  {
   "cell_type": "code",
   "execution_count": null,
   "metadata": {},
   "outputs": [],
   "source": [
    "# Verify your device has cooled back to ambient\n",
    "tfinal = 30 #seconds\n",
    "\n",
    "# perform experiment\n",
    "with TCLab() as lab:\n",
    "    #Set power to 0\n",
    "    lab.U1 = 0\n",
    "    lab.U2 = 0\n",
    "    #load historian \n",
    "    h = Historian(lab.sources)\n",
    "    #Load plotter\n",
    "    p = Plotter(h, tfinal)\n",
    "    #While time is less than tfinal\n",
    "    for t in clock(tfinal):\n",
    "        #Read data and update plot\n",
    "        p.update(t)"
   ]
  },
  {
   "cell_type": "code",
   "execution_count": null,
   "metadata": {},
   "outputs": [],
   "source": [
    "# Copy the code from above and modify to match the specifications\n",
    "\n",
    "# Add your solution here"
   ]
  },
  {
   "cell_type": "markdown",
   "metadata": {},
   "source": [
    "## Exercise 2. Tempering Chocolate\n",
    "\n",
    "We now want to create a rely controller that matches the temperature profile for tempering chocolate.\n",
    "\n",
    "![](https://d29hmqxeker05q.cloudfront.net/eyJidWNrZXQiOiJpbWFnZXMuY2tiay5jb20iLCJrZXkiOiJpbWFnZXMvY2hvYzI0NDE0YzA0czAwMXNzMDAxc3NzMDA0ZzAxLmpwZyIsImVkaXRzIjp7InJlc2l6ZSI6eyJ3aXRob3V0RW5sYXJnZW1lbnQiOnRydWUsIndpZHRoIjo2NTEsImhlaWdodCI6NTAwLCJmaXQiOiJpbnNpZGUifSwianBlZyI6eyJxdWFsaXR5Ijo5MCwicHJvZ3Jlc3NpdmUiOnRydWV9fX0=)\n",
    "\n",
    "Temperature 1 specifications:\n",
    "* Start from ambient.\n",
    "* Reach 50 &deg;C at 3 minutes, 27 &deg;C at 7 minutes, return to 32 &deg;C at 8 minutes, and hold until 10 minutes. \n",
    "* The goal is follow the linear ramp between setpoints as closely as possible.\n",
    "\n",
    "Temperature 2 specifications:\n",
    "* Start from ambient, ramp, and then hold at 30 &deg;C.\n",
    "\n",
    "Hints:\n",
    "* Modify SP1 to [linearly interpolate](https://numpy.org/doc/stable/reference/generated/numpy.interp.html) the set point as a function of time."
   ]
  },
  {
   "cell_type": "code",
   "execution_count": null,
   "metadata": {},
   "outputs": [],
   "source": [
    "# Copy your code from above and modify to match the specifications\n",
    "\n",
    "# Add your solution here"
   ]
  },
  {
   "cell_type": "markdown",
   "metadata": {},
   "source": [
    "## Discussion\n",
    "\n",
    "Write a 1 to 3 sentences to answer each of the following questions."
   ]
  },
  {
   "cell_type": "markdown",
   "metadata": {},
   "source": [
    "Describe the shape of the temperature profiles (time-series) for the excrise 1 experiment. Are these shapes expected?\n",
    "\n",
    "*Answer*: "
   ]
  },
  {
   "cell_type": "markdown",
   "metadata": {},
   "source": [
    "Speculate about why T1 overshoots the setpoint more than T2 in the excerise 1 experiment.\n",
    "\n",
    "*Answer*: "
   ]
  },
  {
   "cell_type": "markdown",
   "metadata": {},
   "source": [
    "In the cholcate tempering simulation, how many times does each heater transitions from (a) one to off and (b) off to on? Fill in the table below.\n",
    "\n",
    "| Sensor | On to Off | Off to On |\n",
    "| ------ | --------- | --------- |\n",
    "| T1     |           |          |\n",
    "| T2     |           |          |\n",
    "\n",
    "*Answer*: "
   ]
  },
  {
   "cell_type": "markdown",
   "metadata": {},
   "source": [
    "Descibe the shape of the T1 and T2 timeseries for the excerise 2 experiment. How do the T1 and T2 profiles relate to the on/off and off/on transitions for Q1 and Q2?\n",
    "\n",
    "*Answer*: "
   ]
  },
  {
   "cell_type": "markdown",
   "metadata": {},
   "source": [
    "How can we reduce the oscillations in these experiments? Propose at least one idea and provide reasoning for why it could work.\n",
    "\n",
    "*Answer*: \n",
    "\n",
    "Consider the following feedback diagram from the first day of class:\n",
    "\n",
    "![](https://ndcbe.github.io/controls/_images/FeedbackControlDiagram.png)\n",
    "\n",
    "Identify the variables in each of the categories for our temperature control lab.\n",
    "\n",
    "**Maninpulated Variable(s)**:\n",
    "\n",
    "*Answer*: \n",
    "\n",
    "**Controlled Variable(s)**:\n",
    "\n",
    "*Answer*: \n",
    "\n",
    "\n",
    "**Process/Measured Variable(s)**:\n",
    "\n",
    "*Answer*: \n",
    "\n",
    "\n",
    "**Set Point Variable(s)**:\n",
    "\n",
    "*Answer*: \n",
    "\n",
    "**Disturbance Variable(s)**:\n",
    "\n",
    "*Answer*: \n",
    "\n"
   ]
  },
  {
   "cell_type": "markdown",
   "metadata": {},
   "source": []
  }
 ],
 "metadata": {
  "kernelspec": {
   "display_name": "Python 3 (ipykernel)",
   "language": "python",
   "name": "python3"
  },
  "language_info": {
   "codemirror_mode": {
    "name": "ipython",
    "version": 3
   },
   "file_extension": ".py",
   "mimetype": "text/x-python",
   "name": "python",
   "nbconvert_exporter": "python",
   "pygments_lexer": "ipython3",
   "version": "3.9.12"
  }
 },
 "nbformat": 4,
 "nbformat_minor": 4
}

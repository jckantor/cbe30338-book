{
 "cells": [
  {
   "cell_type": "markdown",
   "metadata": {},
   "source": [
    "# Lab 4: PI Control\n",
    "\n",
    "This lab assignment introduces the use of PID control for the temperature control laboratory. In this assignment you will be \n",
    "\n",
    "* testing a simple implementation of PI control\n",
    "* identifying issues that have to be addressed for a more practical implementation"
   ]
  },
  {
   "cell_type": "markdown",
   "metadata": {},
   "source": [
    "## Implementation of a simple PI controller\n",
    "\n",
    "Given a process variable $PV$ and setpoint $SP$, proportional-integral-derivative control determines the value of a manipulated variable MV by the equation\n",
    "\n",
    "TODO: Make consistent with rest of website. Check sign convention.\n",
    "\n",
    "\\begin{align}\n",
    "MV & = \\bar{MV} + k_p\\left(SP - PV\\right) + k_i \\int_0^t \\left(SP-PV)\\right)dt\n",
    "\\end{align}\n",
    "\n",
    "where $k_p$ and $k_i$ are the proportional and integral coefficients, respectively. The value $\\bar{MV}$ is a nominal or initial value of the manipulated variable.\n",
    "\n",
    "The actual implementation of PI control is normally done by computing how much the $MV$ should change at each time step. Defining the error at time $k$ as\n",
    "\n",
    "\\begin{align}\n",
    "e_k & = SP_k - PV_k\n",
    "\\end{align}\n",
    "\n",
    "then consecutive values of $MV$ are given by \n",
    "\n",
    "\\begin{align}\n",
    "MV_{k-1} & = \\bar{MV} + k_p e_{k-1} + k_i \\sum_{j=0}^{k-1} e_{j} \\\\\n",
    "MV_{k} & = \\bar{MV} + k_p e_{k} + k_i \\sum_{j=0}^{k} e_{j}\n",
    "\\end{align}\n",
    "\n",
    "Taking differences gives a practical formula for updating the value of $MV$ in response to measurements\n",
    "\n",
    "\\begin{align}\n",
    "MV_{k} & = MV_{k-1} + k_p(e_{k} - e_{k-1}) + k_i e_{k}\n",
    "\\end{align}\n",
    "\n",
    "The following code defines a Python object that implements this algorithm."
   ]
  },
  {
   "cell_type": "code",
   "execution_count": null,
   "metadata": {},
   "outputs": [],
   "source": [
    "def PI(Kp=1, Ki=0, MV_bar=0):\n",
    "    MV = MV_bar\n",
    "    e_prev = 0\n",
    "    MV_min = 0\n",
    "    MV_max = 100\n",
    "    while True:\n",
    "        t_step, SP, PV, MV = yield MV\n",
    "        #e = PV - SP # Calculate error\n",
    "        e = SP - PV\n",
    "        #MV += -Kp*(e - e_prev) - t_step*Ki*e # Apply PI formula\n",
    "        MV += Kp*(e - e_prev) + t_step*Ki*e\n",
    "        MV = max(MV_min, min(MV_max, MV)) # Apply upper and lower bounds\n",
    "        e_prev = e"
   ]
  },
  {
   "cell_type": "markdown",
   "metadata": {},
   "source": [
    "## Exercise 1. Tune the PI control for the Temperature Control Lab"
   ]
  },
  {
   "cell_type": "markdown",
   "metadata": {},
   "source": [
    "The following cell provides an initial implementation of PI control for heater T1.  This is setup for testing with the off-line simulation mode of tclab.  Experiment with the simulation to find appropriate values for $k_p$ and $k_i$. Your design goal is to achieve the setpoint and stay within a zone of +/- 2 degrees as quickly as possible."
   ]
  },
  {
   "cell_type": "code",
   "execution_count": null,
   "metadata": {},
   "outputs": [],
   "source": [
    "%matplotlib inline\n",
    "from tclab import setup, clock, Historian, Plotter"
   ]
  },
  {
   "cell_type": "code",
   "execution_count": null,
   "metadata": {},
   "outputs": [],
   "source": [
    "TCLab = setup(connected=False, speedup = 20)\n",
    "\n",
    "SP = 50 # deg C\n",
    "tfinal = 600 # seconds\n",
    "t_step = 1 # seconds\n",
    "\n",
    "# create control loop\n",
    "controller1 = PI(Kp=10.0, Ki=0.5) \n",
    "controller1.send(None)\n",
    "\n",
    "with TCLab() as lab:\n",
    "    h = Historian(lab.sources)\n",
    "    p = Plotter(h, tfinal)\n",
    "    for t in clock(tfinal, t_step):\n",
    "        PV = lab.T1                                     # measure the the process variable\n",
    "        MV = lab.U1                                     # get manipulated variable\n",
    "        MV = controller1.send([t_step, SP, PV, MV])     # PI control to determine the MV\n",
    "        lab.Q1(MV)                                      # set the heater power\n",
    "        p.update()                                      # log data"
   ]
  },
  {
   "cell_type": "markdown",
   "metadata": {},
   "source": [
    "## Exercise 2. Hardware testing the PI controller\n",
    "\n",
    "* Copy and paste the above code into the cell below. Connect the code to the tclab hardware by changing 'connected' to 'True'.  Adjust the experiment horizon to 1200 seconds to provide plenty of time for testing.\n",
    "\n",
    "* Test your controller.  Does the performance match the simulation?\n",
    "\n",
    "* After the controller has achieved the setpoint, introduce a disturbance. An example of a disturbance would be to increase air flow around the device, or to touch the heater with something thermally conductive (be careful, don't use your finger. 50 deg C is hot enough to burn your skin.) \n",
    "\n",
    "* Add a text cell below, and comment on your results. Do you see any shortcomings in this control implementation?"
   ]
  },
  {
   "cell_type": "code",
   "execution_count": null,
   "metadata": {},
   "outputs": [],
   "source": [
    "# Add your solution here"
   ]
  },
  {
   "cell_type": "markdown",
   "metadata": {},
   "source": [
    "Write your comments in this cell.\n",
    "\n"
   ]
  },
  {
   "cell_type": "markdown",
   "metadata": {},
   "source": [
    "## Exercise 3. Improved PI Control\n",
    "\n",
    "Now implmement the most [practical version of the PI controller](../notebooks/03.07-Integral-Windup-and-Bumpless-Transfer.ipynb). You may optionally use the trick above to simulate the system to debug and then try it on your hardware. \n",
    "\n",
    "Test your controller with the TCLab hardware. **Be sure to wait until your TCLab cools to room temperature before starting.**"
   ]
  },
  {
   "cell_type": "code",
   "execution_count": null,
   "metadata": {},
   "outputs": [],
   "source": [
    "def PI_Bumpless(Kp=1, Ki=0, MV_bar=0):\n",
    "    MV = MV_bar\n",
    "    PV_prev = None\n",
    "    MV_min = 0\n",
    "    MV_max = 100\n",
    "    while True:\n",
    "        t_step, SP, PV, MV = yield MV\n",
    "        # Add your solution here\n",
    "        PV_prev = PV\n",
    "\n",
    "# Add your solution here"
   ]
  },
  {
   "cell_type": "markdown",
   "metadata": {},
   "source": [
    "## Excercise 4. Chocolate Tempering Revisited "
   ]
  },
  {
   "cell_type": "markdown",
   "metadata": {},
   "source": []
  },
  {
   "cell_type": "code",
   "execution_count": null,
   "metadata": {},
   "outputs": [],
   "source": [
    "# Add your solution here"
   ]
  }
 ],
 "metadata": {
  "kernelspec": {
   "display_name": "Python 3 (ipykernel)",
   "language": "python",
   "name": "python3"
  },
  "language_info": {
   "codemirror_mode": {
    "name": "ipython",
    "version": 3
   },
   "file_extension": ".py",
   "mimetype": "text/x-python",
   "name": "python",
   "nbconvert_exporter": "python",
   "pygments_lexer": "ipython3",
   "version": "3.10.13"
  }
 },
 "nbformat": 4,
 "nbformat_minor": 4
}

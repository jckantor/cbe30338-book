{
 "cells": [
  {
   "cell_type": "markdown",
   "metadata": {},
   "source": [
    "# Lab 4: PI Control\n",
    "\n",
    "This lab assignment introduces the use of propotional-integral (PI) control for the temperature control laboratory. In this assignment, you will: \n",
    "\n",
    "* testing a simple implementation of PI control\n",
    "* identifying issues with the simple implementation\n",
    "* test a more sophisticate PI control implementation\n",
    "* analyze the results and answer discussion questions"
   ]
  },
  {
   "cell_type": "markdown",
   "metadata": {},
   "source": [
    "## Implementation of a Simple PI Controller\n",
    "\n",
    "Given a process variable $PV$ and setpoint $SP$, proportional-integral-derivative control determines the value of a manipulated variable MV by the equation\n",
    "\n",
    "\\begin{align}\n",
    "MV(t) & = \\bar{MV} + K_P\\left(SP(t) - PV(t)\\right) + K_I \\int_0^t \\left(SP(t')-PV(t')\\right)dt'\n",
    "\\end{align}\n",
    "\n",
    "where $K_P$ and $K_I$ are the proportional and integral coefficients, respectively. The value $\\bar{MV}$ is a nominal or initial value of the manipulated variable.\n",
    "\n",
    "The actual implementation of PI control is normally done by computing how much the $MV$ should change at each time step. Defining the error at time $k$ as\n",
    "\n",
    "\\begin{align}\n",
    "e_k & =  SP_k - PV_k\n",
    "\\end{align}\n",
    "\n",
    "then consecutive values of $MV$ are given by \n",
    "\n",
    "\\begin{align}\n",
    "MV_{k-1} & = \\bar{MV} + K_P e_{k-1} + h K_I \\sum_{j=0}^{k-1} e_{j} \\\\\n",
    "MV_{k} & = \\bar{MV} + K_P e_{k} + h K_I \\sum_{j=0}^{k} e_{j}\n",
    "\\end{align}\n",
    "\n",
    "Taking differences gives a practical formula (velocity form) for updating the value of $MV$ in response to measurements\n",
    "\n",
    "\\begin{align}\n",
    "MV_{k} & = MV_{k-1} + K_P(e_{k} - e_{k-1}) + h K_I e_{k}\n",
    "\\end{align}\n",
    "\n",
    "The following code defines a Python object that implements this algorithm."
   ]
  },
  {
   "cell_type": "code",
   "execution_count": null,
   "metadata": {},
   "outputs": [],
   "source": [
    "def PI(Kp=1, Ki=0, MV_bar=0):\n",
    "    ''' Simple proportion-integral controller\n",
    "\n",
    "    Arguments:\n",
    "        Kp: proportional gain\n",
    "        Ki: integral gain\n",
    "        MV_bar: bias\n",
    "    \n",
    "    '''\n",
    "    # Initialize MV with bias\n",
    "    MV = MV_bar\n",
    "\n",
    "    # Initialize previous error as zero\n",
    "    e_prev = 0\n",
    "\n",
    "    # Define upper and lower bounds for MV (useful for later in this lab)\n",
    "    MV_min = 0\n",
    "    MV_max = 100\n",
    "\n",
    "    # Infinite loop for the controller\n",
    "    while True:\n",
    "        # Yield MV and wait for new t_step, SP, and PV\n",
    "        t_step, SP, PV = yield MV\n",
    "\n",
    "        # Calculate error\n",
    "        e = SP - PV\n",
    "\n",
    "        # Apply the velocity form of the PI controller\n",
    "        MV += Kp*(e - e_prev) + t_step*Ki*e\n",
    "\n",
    "        # Apply upper and lower bounds\n",
    "        # ** disabled for this simple controller, important later **\n",
    "        # MV = max(MV_min, min(MV_max, MV)) # Apply upper and lower bounds\n",
    "\n",
    "        # Store the current error for the next iteration\n",
    "        e_prev = e"
   ]
  },
  {
   "cell_type": "markdown",
   "metadata": {},
   "source": [
    "## Exercise 1. Tune the PI control for the Temperature Control Lab"
   ]
  },
  {
   "cell_type": "markdown",
   "metadata": {},
   "source": [
    "The following cell provides an initial implementation of PI control for heater T1.  This is setup for testing with the off-line simulation mode of tclab.  Experiment with the simulation to find appropriate values for $K_P$ and $K_I$. Your design goal is to achieve the setpoint and stay within a zone of +/- 2 degrees as quickly as possible."
   ]
  },
  {
   "cell_type": "code",
   "execution_count": null,
   "metadata": {},
   "outputs": [],
   "source": [
    "%matplotlib inline\n",
    "from tclab import setup, clock, Historian, Plotter"
   ]
  },
  {
   "cell_type": "code",
   "execution_count": null,
   "metadata": {},
   "outputs": [],
   "source": [
    "# Suggestion: set to \"if False:\" after you have completed this \n",
    "# exercise to prevent yourself from accidently overwriting your results.\n",
    "if True:\n",
    "\n",
    "    # Debug this code with connected=False\n",
    "    # Once you are happy with the code, proceed to the next exercise\n",
    "    TCLab = setup(connected=False, speedup = 20)\n",
    "\n",
    "    # Set point\n",
    "    SP = 50 # deg C\n",
    "\n",
    "    # Total time\n",
    "    tfinal = 600 # seconds\n",
    "\n",
    "    # Time step\n",
    "    t_step = 1 # seconds\n",
    "\n",
    "    # Create and intialize the PI controller\n",
    "    controller1 = PI(Kp=10.0, Ki=0.5) \n",
    "    controller1.send(None)\n",
    "\n",
    "    with TCLab() as lab:\n",
    "        # Create the historian and plotter\n",
    "        h = Historian(lab.sources)\n",
    "        p = Plotter(h, tfinal)\n",
    "\n",
    "        # Loop over time\n",
    "        for t in clock(tfinal, t_step):\n",
    "\n",
    "            # measure the the process variable\n",
    "            PV = lab.T1\n",
    "\n",
    "            # send the current time, set point, and process variable to the controller\n",
    "            # compute the control action\n",
    "            MV = controller1.send([t_step, SP, PV])\n",
    "\n",
    "            # set the heat power (acutate)\n",
    "            lab.Q1(MV)\n",
    "\n",
    "            # Log the data                                      \n",
    "            p.update()\n",
    "\n",
    "        # This saves the results in case you accidently overwrite the experiment\n",
    "        # After runnng this exercise, please find and save this csv flie\n",
    "        h.to_csv(\"lab4-ex1.csv\")"
   ]
  },
  {
   "cell_type": "markdown",
   "metadata": {},
   "source": [
    "## Exercise 2. Hardware testing the PI controller\n",
    "\n",
    "* Copy and paste the above code into the cell below. Connect the code to the tclab hardware by changing `connected=True`.  Adjust the experiment horizon to 1200 seconds to provide plenty of time for testing.\n",
    "\n",
    "* Test your controller.\n",
    "\n",
    "* After the controller has achieved the setpoint, introduce a disturbance. An example of a disturbance would be to increase air flow around the device (e.g., fan with a piece of paper), or to touch the heater with something thermally conductive (be careful, don't use your finger. 50 deg C is hot enough to burn your skin.) "
   ]
  },
  {
   "cell_type": "code",
   "execution_count": null,
   "metadata": {},
   "outputs": [],
   "source": [
    "# Suggestion: set to False after you have completed this \n",
    "# exercise to prevent yourself from accidently overwriting your results.\n",
    "if True: \n",
    "\n",
    "    TCLab = setup(connected=True)\n",
    "\n",
    "    # Add your solution here\n",
    "\n",
    "    with TCLab() as lab:\n",
    "        # Create the historian and plotter\n",
    "        h = Historian(lab.sources)\n",
    "        p = Plotter(h, tfinal)\n",
    "        # Add your solution here\n",
    "\n",
    "        # This saves the results in case you accidently overwrite the experiment\n",
    "        # After runnng this exercise, please find and save this csv flie\n",
    "        h.to_csv(\"lab4-ex2.csv\")"
   ]
  },
  {
   "cell_type": "markdown",
   "metadata": {},
   "source": [
    "**Discribe the distrubance you introduced. Note the time you introduced the distrubance. Is the distrubance visible in the data?**\n",
    "\n",
    "**Does the performance match the simulation (Exercise 1)?**\n",
    "\n",
    "*Answer*: \n",
    "\n",
    "**Do you see any shortcomings in this control implementation with the naive \"textbook\" PI control? Please refer to specific aspects of your data to support your discussion.**\n",
    "\n",
    "*Answer*: "
   ]
  },
  {
   "cell_type": "markdown",
   "metadata": {},
   "source": [
    "## Exercise 3. Improved PI Control\n",
    "\n",
    "Now implmement the most [practical version of the PI controller](../notebooks/03.07-Integral-Windup-and-Bumpless-Transfer.ipynb). You may optionally use the trick above to simulate the system to debug and then try it on your hardware. "
   ]
  },
  {
   "cell_type": "code",
   "execution_count": null,
   "metadata": {},
   "outputs": [],
   "source": [
    "# Optional: test your implementation here using connected=False and speedup=20 (or similar)"
   ]
  },
  {
   "cell_type": "markdown",
   "metadata": {},
   "source": [
    "Test your controller with the TCLab hardware. **Be sure to wait until your TCLab cools to room temperature before starting.**"
   ]
  },
  {
   "cell_type": "code",
   "execution_count": null,
   "metadata": {},
   "outputs": [],
   "source": [
    "# Check that the device is at steady state \n",
    "# length of check\n",
    "tfinal = 30 # seconds\n",
    "\n",
    "# perform experiment\n",
    "with TCLab() as lab:\n",
    "    # No power to either heater\n",
    "    lab.U1 = 0\n",
    "    lab.U2 = 0\n",
    "\n",
    "    # Initialize plotter and historian\n",
    "    h = Historian(lab.sources)\n",
    "    p = Plotter(h, tfinal)\n",
    "\n",
    "    # Loop over time\n",
    "    for t in clock(tfinal):\n",
    "        \n",
    "        # Take measurements and update plots\n",
    "        p.update(t)"
   ]
  },
  {
   "cell_type": "code",
   "execution_count": null,
   "metadata": {},
   "outputs": [],
   "source": [
    "def PI_Bumpless(Kp=1, Ki=0, MV_bar=0):\n",
    "    ''' Improved PI controller with:\n",
    "        - Two anti-integral windup protections\n",
    "        - Bumpless transition from manual to automatic control\n",
    "    \n",
    "    Arguments:\n",
    "        Kp: proportional gain\n",
    "        Ki: integral gain\n",
    "        MV_bar: bias\n",
    "\n",
    "    Usage:\n",
    "        controller = PI_Bumpless(Kp, Ki, MV_bar)\n",
    "        controller.send(None)\n",
    "        MV = controller.send([t_step, SP, PV, MV])\n",
    "\n",
    "    '''\n",
    "    MV = MV_bar\n",
    "    PV_prev = None\n",
    "    MV_min = 0\n",
    "    MV_max = 100\n",
    "    while True:\n",
    "        t_step, SP, PV, MV = yield MV\n",
    "        # Add your solution here\n",
    "        PV_prev = PV"
   ]
  },
  {
   "cell_type": "code",
   "execution_count": null,
   "metadata": {},
   "outputs": [],
   "source": [
    "# Suggestion: set to False after you've completed this exercise to prevent yourself from accidently overwriting your results.\n",
    "if True: \n",
    "\n",
    "    # Add your solution here\n",
    "    \n",
    "        # This saves the results in case you accidently overwrite the experiment\n",
    "        # After runnng this exercise, please find and save this csv flie\n",
    "        h.to_csv(\"lab4-ex3.csv\")"
   ]
  },
  {
   "cell_type": "markdown",
   "metadata": {},
   "source": [
    "**How do your results compare to the simple PI controller? Does this make sense? Use the mathematical formula for both controllers in your explanation.**\n",
    "\n",
    "*Answer*: "
   ]
  },
  {
   "cell_type": "markdown",
   "metadata": {},
   "source": [
    "## Excercise 4. Chocolate Tempering Revisited "
   ]
  },
  {
   "cell_type": "markdown",
   "metadata": {},
   "source": [
    "Revisit the chocolate tempering example described in Lab 2 (https://ndcbe.github.io/controls/assignments/Lab-2-Relay-Control.html). Implement this heating curve using PI control. **Be sure to wait until your TCLab cools to room temperature before starting.**\n",
    "\n",
    "\n",
    "![](https://d29hmqxeker05q.cloudfront.net/eyJidWNrZXQiOiJpbWFnZXMuY2tiay5jb20iLCJrZXkiOiJpbWFnZXMvY2hvYzI0NDE0YzA0czAwMXNzMDAxc3NzMDA0ZzAxLmpwZyIsImVkaXRzIjp7InJlc2l6ZSI6eyJ3aXRob3V0RW5sYXJnZW1lbnQiOnRydWUsIndpZHRoIjo2NTEsImhlaWdodCI6NTAwLCJmaXQiOiJpbnNpZGUifSwianBlZyI6eyJxdWFsaXR5Ijo5MCwicHJvZ3Jlc3NpdmUiOnRydWV9fX0=)"
   ]
  },
  {
   "cell_type": "code",
   "execution_count": null,
   "metadata": {},
   "outputs": [],
   "source": [
    "# Optional: test your implementation here using connected=False and speedup=20 (or similar)"
   ]
  },
  {
   "cell_type": "code",
   "execution_count": null,
   "metadata": {},
   "outputs": [],
   "source": [
    "# Check that the device is at steady state \n",
    "# experimental parameters\n",
    "tfinal = 30\n",
    "\n",
    "# perform experiment\n",
    "with TCLab() as lab:\n",
    "    lab.U1 = 0\n",
    "    lab.U2 = 0\n",
    "    h = Historian(lab.sources)\n",
    "    p = Plotter(h, tfinal)\n",
    "    for t in clock(tfinal):\n",
    "        p.update(t)"
   ]
  },
  {
   "cell_type": "code",
   "execution_count": null,
   "metadata": {},
   "outputs": [],
   "source": [
    "# Suggestion: set to False after you've completed this exercise to prevent yourself from accidently overwriting your results.\n",
    "if True: \n",
    "    # Add your solution here\n",
    "            \n",
    "        # This saves the results in case you accidently overwrite the experiment\n",
    "        # After runnng this exercise, please find and save this csv flie\n",
    "        h.to_csv(\"lab4-ex4.csv\")"
   ]
  },
  {
   "cell_type": "markdown",
   "metadata": {},
   "source": [
    "**How do your results compare to the chocolate tempering curve using relay control? Does this make sense?**\n",
    "\n",
    "*Answer*: "
   ]
  },
  {
   "cell_type": "markdown",
   "metadata": {},
   "source": [
    "## Exercise 5. Stability Analysis Revisited\n",
    "\n",
    "Repeat the stability analysis for the PI controller that was performed in the notes (https://ndcbe.github.io/controls/notebooks/03.09-PI-Controller-Analysis.html). Identify values of Kp and Ki for (a) no oscillations and (b) with oscillations. Include a justification for these values in the Markdown cells. Make and reference plots in your justification."
   ]
  },
  {
   "cell_type": "code",
   "execution_count": null,
   "metadata": {},
   "outputs": [],
   "source": [
    "import matplotlib.pyplot as plt\n",
    "import numpy as np\n",
    "from scipy.linalg import eig\n",
    "\n",
    "# instructions:\n",
    "# 1. update the parameters to match your TCLab device\n",
    "# 2. moodify with code from our lecture\n",
    "\n",
    "# parameters\n",
    "T_amb = 21 # deg C <-- update based on your experimental data above\n",
    "alpha = 0.00016 # watts / (units P1 * percent U1)\n",
    "P1 = 100 # P1 units\n",
    "U1 = 50 # steady state value of u1 (percent)\n",
    "\n",
    "# fitted model parameters\n",
    "# adjust using your values from Lab 3\n",
    "Ua = 0.0261 # watts/deg C\n",
    "Ub = 0.0222 # watts/deg C\n",
    "CpH = 1.335 # joules/deg C\n",
    "CpS = 1.328 # joules/deg C\n",
    "\n",
    "\n",
    "def calc_eig(Kp,Ki,verbose=True):\n",
    "    ''' Calculate the eigenvalues of the PI controller\n",
    "\n",
    "    Arguments:\n",
    "        Kp: proportional gain\n",
    "        Ki: integral gain\n",
    "        verbose: print the eigenvalues and eigenvectors\n",
    "\n",
    "    Returns:\n",
    "        w: vector of eigenvalues (complex numbers)\n",
    "    \n",
    "    '''\n",
    "\n",
    "    # Add your solution here"
   ]
  },
  {
   "cell_type": "code",
   "execution_count": null,
   "metadata": {},
   "outputs": [],
   "source": [
    "# Create plots to analyze the stability using eigenvalues and eigenvectors\n",
    "\n",
    "# Add your solution here"
   ]
  },
  {
   "cell_type": "markdown",
   "metadata": {},
   "source": [
    "**Analysis: Using the plot, identify values for $K_P$ and $K_I$ that (1) overshoot and oscillate (underdamped) and (b) do not oscillate (overdamped).**\n",
    "\n",
    "**Overdamped**: $K_P = $, $K_I= $ (from plot)\n",
    "\n"
   ]
  },
  {
   "cell_type": "code",
   "execution_count": null,
   "metadata": {},
   "outputs": [],
   "source": [
    "## Overdamped\n",
    "#  Compute and print the eigenvalues and eigenvectors here\n",
    "\n",
    "# Add your solution here"
   ]
  },
  {
   "cell_type": "markdown",
   "metadata": {},
   "source": [
    "**Justify** why these Kp and Ki values are **overdamped**. Refer to the plot and the eigenvalues/eigenvectors printed above.\n",
    "\n",
    "*Answer*: "
   ]
  },
  {
   "cell_type": "markdown",
   "metadata": {},
   "source": [
    "**Underdamped**: $K_P = $, $K_I= $ (from plot). "
   ]
  },
  {
   "cell_type": "code",
   "execution_count": null,
   "metadata": {},
   "outputs": [],
   "source": [
    "# Underdamped\n",
    "# Compute and print the eigenvalues and eigenvectors here\n",
    "\n",
    "# Add your solution here"
   ]
  },
  {
   "cell_type": "markdown",
   "metadata": {},
   "source": [
    "**Justify** why these Kp and Ki values are **underdamped**. Refer to the plot and the eigenvalues/eigenvectors printed above.\n",
    "\n",
    "*Answer*: "
   ]
  },
  {
   "cell_type": "markdown",
   "metadata": {},
   "source": [
    "## Exercise 6. Simulate a Disturbance\n",
    "\n",
    "Using your both sets of controller gains from Exercise 5, simulate the system using a test case similar to class (https://ndcbe.github.io/controls/notebooks/03.06-Proportional-Integral-Control.html)."
   ]
  },
  {
   "cell_type": "code",
   "execution_count": null,
   "metadata": {},
   "outputs": [],
   "source": [
    "def SP(t):\n",
    "    '''\n",
    "    This function defines the setpoint for T1 as: \n",
    "        SP is 25 degC for t <= 20 seconds\n",
    "        SP is 40 degC for t > 20 seconds \n",
    "    '''\n",
    "\n",
    "    # Add your solution here\n",
    "\n",
    "def DV(t):\n",
    "    '''\n",
    "    This function uses heat 2 as a disurbance:\n",
    "        DV is 0% for t <= 200 seconds\n",
    "        DV is 100% for t > 200 seconds\n",
    "    '''\n",
    "    # Add your solution here"
   ]
  },
  {
   "cell_type": "code",
   "execution_count": null,
   "metadata": {},
   "outputs": [],
   "source": [
    "def simulate_system(Kp,Ki):\n",
    "    ''' Define function to simulate Exercise 6\n",
    "\n",
    "    Arguments:\n",
    "        Kp: proportional gain\n",
    "        Ki: integral gain\n",
    "\n",
    "    Action:\n",
    "        Simulate the TCLab and creates plots\n",
    "    \n",
    "    '''\n",
    "\n",
    "    # Create the TCLab object\n",
    "    # you may use connected=False for debugging\n",
    "    # but you need to conduct a real experiment for the final submission\n",
    "    # TCLab = setup(connected=False, speedup=60)\n",
    "    TCLab = setup(connected=True)\n",
    "\n",
    "    # Add your solution here"
   ]
  },
  {
   "cell_type": "code",
   "execution_count": null,
   "metadata": {},
   "outputs": [],
   "source": [
    "# Underdamped system\n",
    "\n",
    "# Add your solution here"
   ]
  },
  {
   "cell_type": "code",
   "execution_count": null,
   "metadata": {},
   "outputs": [],
   "source": [
    "# Overdamped system\n",
    "\n",
    "# Add your solution here"
   ]
  },
  {
   "cell_type": "markdown",
   "metadata": {},
   "source": [
    "**How does the controller perform? Compare the eigenvalue analysis.**\n",
    "\n",
    "*Answer*: "
   ]
  },
  {
   "cell_type": "markdown",
   "metadata": {},
   "source": [
    "## Declarations\n",
    "\n",
    "**Collaboration**: If you worked with any classmates, please give their names here. Describe the nature of the collaboration.\n",
    "\n",
    "**Generative AI**: If you used any Generative AI tools, please elaborate here."
   ]
  },
  {
   "cell_type": "markdown",
   "metadata": {},
   "source": []
  }
 ],
 "metadata": {
  "kernelspec": {
   "display_name": "Python 3 (ipykernel)",
   "language": "python",
   "name": "python3"
  },
  "language_info": {
   "codemirror_mode": {
    "name": "ipython",
    "version": 3
   },
   "file_extension": ".py",
   "mimetype": "text/x-python",
   "name": "python",
   "nbconvert_exporter": "python",
   "pygments_lexer": "ipython3",
   "version": "3.10.13"
  }
 },
 "nbformat": 4,
 "nbformat_minor": 4
}

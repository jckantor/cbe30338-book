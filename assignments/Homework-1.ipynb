{
 "cells": [
  {
   "cell_type": "markdown",
   "metadata": {},
   "source": [
    "# Homework 1: Computing and Data Analysis Review"
   ]
  },
  {
   "cell_type": "markdown",
   "metadata": {},
   "source": [
    "## Learning Objectives\n",
    "\n",
    "In this homework assignment, you will review and practice the following skills from CBE 20258:\n",
    "* [Plotting in Python](https://ndcbe.github.io/data-and-computing/notebooks/01/Matplotlib.html) including [best practices](https://ndcbe.github.io/data-and-computing/notebooks/01/Publication-Quality-Figures.html)\n",
    "* [Solving initial value problems in Python](https://ndcbe.github.io/data-and-computing/notebooks/07/Systems-of-Differential-Equations-and-Scipy.html)\n",
    "* [Nonlinear regression](https://ndcbe.github.io/data-and-computing/notebooks/15/Nonlinear-Regression.html) with [weights based on measurement uncertainty](https://ndcbe.github.io/data-and-computing/notebooks/15/Weighted-Regression.html)\n",
    "* [Error propagation](https://ndcbe.github.io/data-and-computing/notebooks/12/Error-Propagation.html) coupled with [nonlinear regression](https://ndcbe.github.io/data-and-computing/notebooks/15/Nonlinear-Case-Study-Adsorptive-Membranes.html)\n",
    "* Solving a boundary value problem by calculating the [root of a nonlinear function](https://ndcbe.github.io/data-and-computing/notebooks/06/Newton-Methods-in-Scipy.html)\n",
    "\n",
    "Each topic links to pages on a website with the CBE 20258 content. The search feature on the CBE 20258 is a great way to find more related examples."
   ]
  },
  {
   "cell_type": "markdown",
   "metadata": {},
   "source": [
    "## Introduction"
   ]
  },
  {
   "cell_type": "markdown",
   "metadata": {},
   "source": [
    "This homework problem is inspired, in part, by a [Wired blog post](https://www.wired.com/2011/12/cannon-balls-size-matters/) analyzing an incident with a cannonball on the popular show Myth Busters.\n",
    "\n",
    "Consider $n$ iron cannonballs of mass 12 lb (5.44 kg) fired at unknown angles $\\theta_i$ (where $i \\in \\{1,...,n\\}$) with unknown initial velocities $v_{0,i}$. The drag on the cannonball is $F_D = \\frac{1}{2} \\rho C_D A v |v|$ where $\\rho$ is the density of air, $C_D$ is the coefficient of drag, and $A$ is the cross sectional area of the cannonball. We can lump these parameters together into a single unknown coefficient $\\bar{C}_D$:\n",
    "\n",
    "$$\\begin{equation}\n",
    "F_D = \\bar{C}_D v |v|\n",
    "\\end{equation}$$\n",
    "\n",
    "It is important to use $v |v|$ to account for the change in sign when the cannonball transitions from moving upward to moving downward.\n",
    "\n",
    "Applying Newton's laws of motion gives the following coupled differential equations:\n",
    "\n",
    "$$\\begin{equation}\n",
    "m \\frac{dv_x}{dt}=-\\bar{C}_D v_x |v |, \\quad m \\frac{dv_z}{dt} = -mg - \\bar{C}_D v_z | v |,   \\quad \\frac{dx}{dt} = v_x, \\quad \\frac{dz}{dt} = v_z, \\quad |v| = \\sqrt{v_x^2 + v_z^2}\n",
    "\\end{equation}$$\n",
    "\n",
    "We assume the cannonball is fired from the origin at time $t=0$ where $x$ and $z$ represent horiztonal and vertical displacement, respectively. This gives the follow initial values:\n",
    "\n",
    "$$\\begin{equation}\n",
    "x(0) = 0, \\quad z(0) = 0, \\quad v_x(0) = v_0 \\cos(\\theta), \\quad v_z(0) = v_0 \\sin(\\theta)\n",
    "\\end{equation}$$\n",
    "\n",
    "The $n$ cannonballs are fired on completely flat terrian. We observe the impact location (horizonal distance traveled), impact time, and crater size. The latter can be correlated with impact velocity:\n",
    "\n",
    "| Time (s) | Horizontal Displacement (m) | Impact Velocity (m/s) |\n",
    "| -------- | --------------------------- | --------------------- |\n",
    "| 12.0     | 726                         | 73                    |\n",
    "| 6.8      | 529                         | 77                    |\n",
    "| 15.3     | 616                         | 76                    |\n",
    "\n",
    "Given these data, our ultimate goals are: \n",
    "* Build a mathematical model\n",
    "* Estimate $\\theta_i$, $v_{0,i}$ and $\\bar{C}_D$\n",
    "* Predict the distance traveled and impact velocity of a cannonball shot at a new angle and initial velocity with uncertainty\n",
    "\n",
    "\n",
    "We will assume the time, location, and velocity measurements are corrupted with normally distributed noise with a standard deviations of 0.2 s, 5 m, and 20 m/s, respectively. When we do regression, we need to account for the fact that the velocity estimates (based on crater size) have greater uncertainty."
   ]
  },
  {
   "cell_type": "markdown",
   "metadata": {},
   "source": [
    "## Exercise 1"
   ]
  },
  {
   "cell_type": "markdown",
   "metadata": {},
   "source": [
    "On paper, derive the above ordinary differential equation model from first principles, similar to Physics I. Start with a free body diagram. Use trigonomety to justify the initial conditions."
   ]
  },
  {
   "cell_type": "markdown",
   "metadata": {},
   "source": [
    "## Exercise 2"
   ]
  },
  {
   "cell_type": "markdown",
   "metadata": {},
   "source": [
    "Write a Python function to numerical simulate a cannon ball experiment. The inputs to your function should be the unknown parameters $\\theta_i$, $v_{0,i}$, and $\\bar{C}_D$. Your function should return:\n",
    "1. Final time $t_f > 0$ when the cannonball returns to zero elevation, i.e., $z(t_f) = 0$\n",
    "1. Horizontal distance traveled, $x(t_f)$ \n",
    "2. Impact velocity, $v(t_f) = \\sqrt{v_x(t_f)^2 + v_z(t_f)^2}$"
   ]
  },
  {
   "cell_type": "code",
   "execution_count": null,
   "metadata": {},
   "outputs": [],
   "source": [
    "import numpy as np\n",
    "import matplotlib.pyplot as plt\n",
    "import scipy.integrate as integrate\n",
    "%matplotlib inline\n",
    "\n",
    "def ode_rhs(t, y, Cd):\n",
    "    \"\"\"ODE system for a cannonball with drag\n",
    "    Arguments:\n",
    "        t: time (s)\n",
    "        y: state vector [x, z, vx, vz] (m, m, m/s, m/s)\n",
    "        Cd: drag coefficient (kg/m)\n",
    "    \n",
    "    Returns:\n",
    "        dy: time derivative of the state vector [vx, vz, ax, az] (m/s, m/s, m/s^2, m/s^2)\n",
    "\n",
    "    \"\"\"\n",
    "\n",
    "    x, z, vx, vz = y\n",
    "    vabs = np.sqrt(vx**2 + vz**2)\n",
    "\n",
    "    g = 9.81 # m/s^2\n",
    "    m = 5.44 # kg\n",
    "\n",
    "# Add your solution here\n",
    "\n",
    "def simulate_experiment(Cd, angle, v0=100, tmax=200, plot=True, tdata=None, xdata=None, vdata=None):\n",
    "    \"\"\"Simulate an experiment.\n",
    "    \n",
    "    Arguments:\n",
    "        Cd: drag coefficient (kg/m)\n",
    "        angle: launch angle (degrees)\n",
    "        v0: initial speed (m/s)\n",
    "        tmax: maximum time (s)\n",
    "        plot: bool, if true, plot simulation results and data\n",
    "        tdata: measured impact time (s) [only used for plotting]\n",
    "        xdata: measured impact location (m) [only used for plotting]\n",
    "        vdata: inferred impect velocity (m/s) [only used for plotting]\n",
    "    \n",
    "    Returns:\n",
    "        tfinal: final time (s)\n",
    "        xfinal: final x position (m)\n",
    "        vfinal: final speed (m/s)\n",
    "\n",
    "    \"\"\"\n",
    "\n",
    "# Add your solution here"
   ]
  },
  {
   "cell_type": "markdown",
   "metadata": {},
   "source": [
    "## Exercise 3\n",
    "\n",
    "Test your function by simulating the provided data for the cannonball experiments. For each experiment, make a plot showing the model predictions (lines) and observed data (symbols). You can use the data given below as intial guesses for $\\theta_{i}$ and $v_{0,i}$. You can use $\\bar{C_D} = 0.003$ as an intial guess for the coefficient of drag."
   ]
  },
  {
   "cell_type": "code",
   "execution_count": null,
   "metadata": {},
   "outputs": [],
   "source": [
    "import pandas as pd\n",
    "\n",
    "data = {}\n",
    "data['time'] = [12.0, 6.9, 15.3]\n",
    "data['distance'] = [726., 529., 616.]\n",
    "data['velocity'] = [73., 77., 76.]\n",
    "data['theta_guess'] = [40., 20., 60.]\n",
    "data['v0_guess'] = [110., 100., 90.]\n",
    "df = pd.DataFrame(data)\n",
    "df.head()"
   ]
  },
  {
   "cell_type": "code",
   "execution_count": null,
   "metadata": {},
   "outputs": [],
   "source": [
    "# Confirm your plots show both the simulation results (lines)\n",
    "# and experimental data (symbols)\n",
    "for i, row in df.iterrows():    \n",
    "    simulate_experiment(0.003, \n",
    "                        row.theta_guess, \n",
    "                        xdata=row.distance,\n",
    "                        vdata=row.velocity,\n",
    "                        tdata=row.time,\n",
    "                        v0=row.v0_guess,\n",
    "                        plot=True)\n",
    "    \n"
   ]
  },
  {
   "cell_type": "markdown",
   "metadata": {},
   "source": [
    "## Exercise 4"
   ]
  },
  {
   "cell_type": "markdown",
   "metadata": {},
   "source": [
    "Perform nonlinear regression to estimate $\\bar{C}_D$, $\\theta_1$, ..., $\\theta_n$, $v_{0,1}$, ..., $v_{0,n}$. Report the estimate parameters with a reasonable number of significant digits. Include plots to compare the model predictions and experiment data."
   ]
  },
  {
   "cell_type": "code",
   "execution_count": null,
   "metadata": {},
   "outputs": [],
   "source": [
    "from scipy.optimize import least_squares\n",
    "\n",
    "def unpack(param):\n",
    "    \"\"\" Unpacks the vector \"param\"\n",
    "\n",
    "    Arguments:\n",
    "        param: vector [Cd, theta1, theta2, ..., thetaN, v01, v02, ..., v0N]\n",
    "    \n",
    "    Returns,\n",
    "        Cd: lumped drag coefficient (kg/m)\n",
    "        theta: launch angles (degrees)\n",
    "        v0: initial speeds (m/s)\n",
    "        \n",
    "    \"\"\"\n",
    "    n = (len(param) - 1 )//2\n",
    "    Cd = param[0]\n",
    "    theta = param[1:(n+1)]\n",
    "    v0 = param[(n+1):(2*n+1)]\n",
    "    return Cd, theta, v0\n",
    "\n",
    "def pack(Cd, theta, v0):\n",
    "    \"\"\" Packs the parameters into a vector\n",
    "\n",
    "    Arguments:\n",
    "        Cd: lumped drag coefficient (kg/m)\n",
    "        theta: launch angles (degrees)\n",
    "        v0: initial speeds (m/s)\n",
    "    \n",
    "    Returns:\n",
    "        param: vector [Cd, theta1, theta2, ..., thetaN, v01, v02, ..., v0N]\n",
    "    \"\"\"\n",
    "    return np.hstack([Cd, theta, v0])\n",
    "\n",
    "# Assumed standard deviation of measurement error\n",
    "sigma_t = 0.2 # s\n",
    "sigma_x = 5 # m\n",
    "sigma_v = 2 # m/s\n",
    "\n",
    "def residuals_all(parameter_vec, data, plot=False):\n",
    "    \"\"\"\n",
    "    Computes the residuals for all experiments\n",
    "\n",
    "    Arguments:\n",
    "        parameter_vec: vector [Cd, theta1, theta2, ..., thetaN, v01, v02, ..., v0N]\n",
    "        data: dataframe with experimental data\n",
    "        plot: bool, if true, plot simulation results and data\n",
    "\n",
    "    Returns:\n",
    "        residuals: vector of residuals scaled by the measurement uncertainty\n",
    "    \"\"\"\n",
    "\n",
    "    n = len(data)\n",
    "\n",
    "    Cd, theta, v0 = unpack(parameter_vec)\n",
    "\n",
    "    # Allocate matrix for residuals, n experiments (rows) with 3 measurements per experiment (columns)\n",
    "    residuals = np.zeros((n,3))\n",
    "\n",
    "    # Loop over experiments\n",
    "    for i, row in data.iterrows():\n",
    "        # Simulate experiment    \n",
    "        tsim, xsim, vsim = simulate_experiment(Cd, \n",
    "                        theta[i],\n",
    "                        v0 = v0[i], \n",
    "                        xdata=row.distance,\n",
    "                        vdata=row.velocity,\n",
    "                        tdata=row.time,\n",
    "                        plot=plot)\n",
    "        \n",
    "        # Compute and record scaled residuals\n",
    "        residuals[i,0] = (tsim - row.time)/sigma_t\n",
    "        residuals[i,1] = (xsim - row.distance)/sigma_x\n",
    "        residuals[i,2] = (vsim - row.velocity)/sigma_v\n",
    "\n",
    "    # Flatten the residual matrix into a vector\n",
    "    return residuals.reshape(3*n)\n",
    "\n",
    "# Add your solution here\n",
    "\n",
    "# Determine the number of experiments\n",
    "n = len(df)\n",
    "\n",
    "# Extract the estimated parameters\n",
    "Cd_est = sln.x[0]\n",
    "theta_est = sln.x[1:(n+1)]\n",
    "v0_est = sln.x[(n+1):(2*n+1)]\n",
    "\n",
    "# Print the results (with rounding and units)\n",
    "for i in range(0,n):\n",
    "    print(\"\\nExperiment\",i+1)\n",
    "    print(\"theta =\",round(theta_est[i],1),\"degrees\")\n",
    "    print(\"v0 =\",round(v0_est[i],1),\"m/s\")\n",
    "\n",
    "# Plot the experimental data and the simulation results\n",
    "residuals_all(sln.x, df, True)"
   ]
  },
  {
   "cell_type": "markdown",
   "metadata": {},
   "source": [
    "## Exercise 5"
   ]
  },
  {
   "cell_type": "markdown",
   "metadata": {},
   "source": [
    "Quantify the uncertainty in your parameter estimates. *Hint:* Calculate the covariance matrix and correlation matrix of the estimated parameters."
   ]
  },
  {
   "cell_type": "code",
   "execution_count": null,
   "metadata": {},
   "outputs": [],
   "source": [
    "# Add your solution here"
   ]
  },
  {
   "cell_type": "code",
   "execution_count": null,
   "metadata": {},
   "outputs": [],
   "source": [
    "# Add your solution here"
   ]
  },
  {
   "cell_type": "code",
   "execution_count": null,
   "metadata": {},
   "outputs": [],
   "source": [
    "# Add your solution here"
   ]
  },
  {
   "cell_type": "code",
   "execution_count": null,
   "metadata": {},
   "outputs": [],
   "source": [
    "# Add your solution here"
   ]
  },
  {
   "cell_type": "code",
   "execution_count": null,
   "metadata": {},
   "outputs": [],
   "source": [
    "# Add your solution here"
   ]
  },
  {
   "cell_type": "markdown",
   "metadata": {},
   "source": [
    "Interpret your uncertianty estimate in a few sentences.\n",
    "\n",
    "*Answer*: "
   ]
  },
  {
   "cell_type": "markdown",
   "metadata": {},
   "source": [
    "In a few sentences, describe and justify your choice of uncertainty quantification method. In other words, what are the pros and cons of the selected method and why it is a reasonable choice for this problem.\n",
    "\n",
    "*Answer*: "
   ]
  },
  {
   "cell_type": "markdown",
   "metadata": {},
   "source": [
    "## Exercise 6"
   ]
  },
  {
   "cell_type": "markdown",
   "metadata": {},
   "source": [
    "Determine the firing angle $\\theta_j$ and intial velocity $v_{0,j}$ to hit a target at 300 m with an impact velocity of 80 m/s."
   ]
  },
  {
   "cell_type": "code",
   "execution_count": null,
   "metadata": {},
   "outputs": [],
   "source": [
    "\n",
    "\n",
    "from scipy.optimize import fsolve\n",
    "\n",
    "def firing_residuals(guess):\n",
    "    \"\"\" Residuals for the firing experiment\n",
    "    \n",
    "    Arguments:\n",
    "        guess: vector [angle in deg, v0 in m/s]\n",
    "\n",
    "    Returns:\n",
    "        residuals: vector [position, impact speed]\n",
    "\n",
    "\n",
    "    \"\"\"\n",
    "\n",
    "    # Add your solution here"
   ]
  },
  {
   "cell_type": "markdown",
   "metadata": {},
   "source": [
    "## Exercise 7"
   ]
  },
  {
   "cell_type": "markdown",
   "metadata": {},
   "source": [
    "Quantify and interpret the uncertainty in your prediction (distance, time, velocity) from the previous exercise. Assume you can specify the firing angle and initial velocity with uncertainties of 1 degree and 2 m/s, respectively. You also have some uncertainty in your estimate of $C_D$ (quantified above). *Hint*: Calculate the covariance matrix and correlation matrix for the predicted displacement and impact velocity."
   ]
  },
  {
   "cell_type": "code",
   "execution_count": null,
   "metadata": {},
   "outputs": [],
   "source": [
    "# Add your solution here\n",
    "\n",
    "# Here is code copied from CBE 20258 notebooks that you may find helpful\n",
    "# You can also answer this question without calculating a Jacobian\n",
    "def Jacobian(f,x,delta = 1.0e-7):\n",
    "    '''Approximate Jacobian using forward finite difference\n",
    "\n",
    "    Args:\n",
    "        f: vector-valued function\n",
    "        x: point to build approximation J(x) around\n",
    "        delta: finite difference step size\n",
    "\n",
    "    Returns:\n",
    "        J: m x n Jacobian matrix (approximation), where\n",
    "            n = length of x\n",
    "            m = length of f(x)\n",
    "\n",
    "    Reference:\n",
    "        https://ndcbe.github.io/data-and-computing/notebooks/06/Newton-Raphson-Methods-for-Systems-of-Equations.html\n",
    "\n",
    "    '''\n",
    "\n",
    "    \n",
    "    #Evaluate function f at x\n",
    "    fx = f(x) #only need to evaluate this once\n",
    "    \n",
    "    # Determine size\n",
    "    N = x.size\n",
    "    M = fx.size\n",
    "        \n",
    "    # Allocate empty matrix\n",
    "    J = np.zeros((M,N))\n",
    "\n",
    "    idelta = 1.0/delta #division is slower than multiplication\n",
    "    x_perturbed = x.copy() #copy x to add delta\n",
    "    \n",
    "    # Loop over elements of x and columns of J\n",
    "    for i in range(N):\n",
    "        # Perturb (apply step) to element i of x\n",
    "        x_perturbed[i] += delta\n",
    "        \n",
    "        # Approximate column in Jacobian\n",
    "        col = (f(x_perturbed) - fx) * idelta\n",
    "        \n",
    "        # Reset element of x\n",
    "        x_perturbed[i] = x[i]\n",
    "        \n",
    "        # Save results\n",
    "        J[:,i] = col\n",
    "    # end for loop\n",
    "    return J\n",
    "\n",
    "# Add your solution here"
   ]
  },
  {
   "cell_type": "markdown",
   "metadata": {},
   "source": [
    "Please interpret the uncertainty in your predictions. How do these results compare to the measurement uncertainty? \n",
    "\n",
    "*Answer*: "
   ]
  },
  {
   "cell_type": "markdown",
   "metadata": {},
   "source": [
    "## Submission Instructions\n",
    "\n",
    "Please submit your answer to Exercise 1, neatly written on paper, to Gradescope as a PDF. Please submit your answers to the remaining exercises in this notebook (.ipynb file) to Gradescope. There are two separate assignments on Gradescope."
   ]
  },
  {
   "cell_type": "markdown",
   "metadata": {},
   "source": []
  }
 ],
 "metadata": {
  "kernelspec": {
   "display_name": "Python 3 (ipykernel)",
   "language": "python",
   "name": "python3"
  },
  "language_info": {
   "codemirror_mode": {
    "name": "ipython",
    "version": 3
   },
   "file_extension": ".py",
   "mimetype": "text/x-python",
   "name": "python",
   "nbconvert_exporter": "python",
   "pygments_lexer": "ipython3",
   "version": "3.10.9"
  }
 },
 "nbformat": 4,
 "nbformat_minor": 2
}

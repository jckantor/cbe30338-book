{
 "cells": [
  {
   "cell_type": "markdown",
   "metadata": {},
   "source": [
    "# Linear Blending Problems\n",
    "\n",
    "This notebook introduces simple material blending problems, and outlines a multi-step procedure for creating and solving models for these problems using CVXPY."
   ]
  },
  {
   "cell_type": "markdown",
   "metadata": {},
   "source": [
    "## Learning Goals\n",
    "\n",
    "* Linear Blending problems\n",
    "    * Frequently encountered in material blending \n",
    "    * Models generally consist of linear mixing rules and mass/material balances\n",
    "    * Decision variables are indexed by a set of raw materials\n",
    "\n",
    "\n",
    "* Further practice with key elements of modeling for optimization\n",
    "    * cvxpy.Variable(): Create instance of an optimization **decision variable**\n",
    "    * cvxpy.Minimize()/cvxpy.Maximize(): Create instance of an **optimization objective**\n",
    "    * cvxpy.Problem(): Create instance of an optimization problem with objective and **constraints**.\n",
    " \n",
    " \n",
    "* Modeling and solving linear blending problems in CVXPY\n",
    "    * Step 1. Coding problem data. Nested dictionaries or Pandas dataframes.\n",
    "    * Step 2. Create index set. Use .keys() with nested dictionaries, or .index with Pandas dataframes.\n",
    "    * Step 3. Create a dictionary of decision variables. Add any pertinent qualifiers or constraints for individual variables such as lower and upper bounds, non-negativity, variable names.\n",
    "    * Step 4. Create an expression defining the problem objective.\n",
    "    * Step 5. Create a one or more lists of problem constraints.\n",
    "    * Step 6. Create the problem object from the objectives and constraints.\n",
    "    * Step 7. Solve and display the solution."
   ]
  },
  {
   "cell_type": "markdown",
   "metadata": {},
   "source": [
    "## Problem Statement (Jenchura, 2017)\n",
    "\n",
    "A brewery receives an order for 100 gallons that is at least 4% ABV (alchohol by volume) beer. The brewery has on hand beer A that is 4.5% ABV and costs \\\\$0.32 per gallon to make, and beer B that is 3.7% ABV and costs \\\\$0.25 per gallon. Water (W) can also be used as a blending agent at a cost of \\\\$0.05 per gallon. Find the minimum cost blend of A, B, and W that meets the customer requirements."
   ]
  },
  {
   "cell_type": "markdown",
   "metadata": {},
   "source": [
    "## Solving optimization problems with CVXPY\n",
    "\n",
    "The blending problem described above is relatively simple, it can be solved in CVXPY using no more than `cp.Variable()`, `cp.Minimize()`, and `cp.Problem()` as demonstrated below."
   ]
  },
  {
   "cell_type": "code",
   "execution_count": 1,
   "metadata": {},
   "outputs": [],
   "source": [
    "import numpy as np\n",
    "import cvxpy as cp"
   ]
  },
  {
   "cell_type": "markdown",
   "metadata": {},
   "source": [
    "### Step 1. Coding Problem Data as a Python Dictionary\n",
    "\n",
    "The first step is to represent the problem data in a generic manner that could be extended to include additional blending components.  Here we use a dictionary of raw materials, each key denoting a unique blending agent. For each key there is a second level dictionary containing attributes of the blending component. This nested \"dictionary of dictionaries\" organization is a useful of organizing tabular data for optimization problems."
   ]
  },
  {
   "cell_type": "code",
   "execution_count": 2,
   "metadata": {},
   "outputs": [
    {
     "name": "stdout",
     "output_type": "stream",
     "text": [
      "{'A': {'abv': 0.045, 'cost': 0.32}, 'B': {'abv': 0.037, 'cost': 0.25}, 'W': {'abv': 0.0, 'cost': 0.05}}\n"
     ]
    }
   ],
   "source": [
    "data = {\n",
    "    'A': {'abv': 0.045, 'cost': 0.32},\n",
    "    'B': {'abv': 0.037, 'cost': 0.25},\n",
    "    'W': {'abv': 0.000, 'cost': 0.05},\n",
    "}\n",
    "print(data)"
   ]
  },
  {
   "cell_type": "markdown",
   "metadata": {},
   "source": [
    "### Step 2. Identifying index sets\n",
    "\n",
    "The objectives and constraints encountered in optimization problems often include sums over a set of objects. In the case, we will need to create sums over the set of raw materials in the blending problem."
   ]
  },
  {
   "cell_type": "code",
   "execution_count": 3,
   "metadata": {},
   "outputs": [
    {
     "name": "stdout",
     "output_type": "stream",
     "text": [
      "{'A', 'B', 'W'}\n"
     ]
    }
   ],
   "source": [
    "components = set(data.keys())\n",
    "print(components)"
   ]
  },
  {
   "cell_type": "markdown",
   "metadata": {},
   "source": [
    "### Step 3. Create decision variables"
   ]
  },
  {
   "cell_type": "code",
   "execution_count": 4,
   "metadata": {},
   "outputs": [
    {
     "name": "stdout",
     "output_type": "stream",
     "text": [
      "{'A': Variable((), nonneg=True), 'B': Variable((), nonneg=True), 'W': Variable((), nonneg=True)}\n"
     ]
    }
   ],
   "source": [
    "x = {c: cp.Variable(nonneg=True) for c in components}\n",
    "print(x)"
   ]
  },
  {
   "cell_type": "markdown",
   "metadata": {},
   "source": [
    "### Step 4. Objective Function\n",
    "\n",
    "If we let subscript $c$ denote a blending component from the set of blending components $C$, and denote the volume of $c$ used in the blend as $x_c$, the cost of the blend is\n",
    "\n",
    "\\begin{align}\n",
    "\\mbox{cost} & = \\sum_{c\\in C} x_c P_c\n",
    "\\end{align}\n",
    "\n",
    "where $P_c$ is the price per unit volume of $c$. Using the Python data dictionary defined above, the price $P_c$ is given by `data[c]['cost']`."
   ]
  },
  {
   "cell_type": "code",
   "execution_count": 5,
   "metadata": {},
   "outputs": [
    {
     "name": "stdout",
     "output_type": "stream",
     "text": [
      "minimize var0 @ 0.32 + var1 @ 0.25 + var2 @ 0.05\n"
     ]
    }
   ],
   "source": [
    "total_cost = sum(x[c]*data[c][\"cost\"] for c in components)\n",
    "objective = cp.Minimize(total_cost)\n",
    "print(objective)"
   ]
  },
  {
   "cell_type": "markdown",
   "metadata": {},
   "source": [
    "### Step 5. Constraints"
   ]
  },
  {
   "cell_type": "code",
   "execution_count": 6,
   "metadata": {},
   "outputs": [],
   "source": [
    "volume = 100\n",
    "abv = 0.040"
   ]
  },
  {
   "cell_type": "markdown",
   "metadata": {},
   "source": [
    "#### Volume Constraint\n",
    "\n",
    "The customer requirement is produce a total volume $V$. Assuming ideal solutions, the constraint is given by\n",
    "\n",
    "$$\\begin{align}\n",
    "V &  = \\sum_{c\\in C} x_c\n",
    "\\end{align}$$\n",
    "\n",
    "where $x_c$ denotes the volume of component $c$ used in the blend."
   ]
  },
  {
   "cell_type": "code",
   "execution_count": 7,
   "metadata": {},
   "outputs": [],
   "source": [
    "constraints = [volume == sum(x[c] for c in components)]"
   ]
  },
  {
   "cell_type": "markdown",
   "metadata": {},
   "source": [
    "#### Product Composition Constraint\n",
    "\n",
    "The product composition is specified as requiring at least 4% alchohol by volume. Denoting the specification as $\\bar{A}$, the constraint may be written as\n",
    "\n",
    "$$\\begin{align}\n",
    "\\bar{A} & \\leq \\frac{\\sum_{c\\in C}x_c A_c}{\\sum_{c\\in C} x_c}\n",
    "\\end{align}$$\n",
    "\n",
    "where $A_c$ is the alcohol by volume for component $c$. As written, this is a nonlinear constraint. Multiplying both sides of the equation by the denominator yields a linear constraint\n",
    "\n",
    "$$\\begin{align}\n",
    "\\bar{A}\\sum_{c\\in C} x_c & \\leq \\sum_{c\\in C}x_c A_c\n",
    "\\end{align}$$\n",
    "\n",
    "A final form for this constraint can be given in either of two versions. In the first version we subtract the left-hand side from the right to give\n",
    "\n",
    "$$\\begin{align}\n",
    "0 & \\leq \\sum_{c\\in C}x_c \\left(A_c - \\bar{A}\\right) & \\mbox{ Version 1 of the linear blending constraint}\n",
    "\\end{align}$$\n",
    "\n",
    "Alternatively, the summation on the left-hand side corresponds to total volume. Since that is known as part of the problem specification, the blending constraint could also be written as\n",
    "\n",
    "$$\\begin{align}\n",
    "\\bar{A}V & \\leq \\sum_{c\\in C}x_c A_c  & \\mbox{ Version 2 of the linear blending constraint}\n",
    "\\end{align}$$\n",
    "\n",
    "Which should you use? Normally either will work well. The advantage of version 1 is that it is fully specified by a single product requirement $\\bar{A}$, and doesn't require knowledge of the other product requirement $V$. This may be helpful in writing elegant Python code."
   ]
  },
  {
   "cell_type": "code",
   "execution_count": 8,
   "metadata": {},
   "outputs": [],
   "source": [
    "constraints.append(0 <= sum(x[c]*(data[c]['abv'] - abv) for c in components))"
   ]
  },
  {
   "cell_type": "markdown",
   "metadata": {},
   "source": [
    "We can review the constraints by printing them out. If no name is specified for a decision variable when it is created, then cvxpy will assign a name beginiing with `var`. "
   ]
  },
  {
   "cell_type": "code",
   "execution_count": 9,
   "metadata": {},
   "outputs": [
    {
     "name": "stdout",
     "output_type": "stream",
     "text": [
      "var0 + var1 + var2 == 100.0\n",
      "0.0 <= var0 @ 0.0049999999999999975 + var1 @ -0.0030000000000000027 + var2 @ -0.04\n"
     ]
    }
   ],
   "source": [
    "for constraint in constraints:\n",
    "    print(constraint)"
   ]
  },
  {
   "cell_type": "markdown",
   "metadata": {},
   "source": [
    "<hr>\n",
    "\n",
    "**Study Question:** Consult the CVXPY document for `cvxpy.Variable()`. Modify the code above to assign a name to each variable corresponding to the key for its entry in the data dictionary. Rerun the cells to see how the objective and constraints are printed.\n",
    "\n",
    "<hr>"
   ]
  },
  {
   "cell_type": "markdown",
   "metadata": {},
   "source": [
    "### Step 6. Create CVXPY Problem object\n",
    "\n",
    "An optimization problem consists of decision variables, and algebraic expressions that define an objective and a list of constranits. These are encapsulated into a CVXPY Problem."
   ]
  },
  {
   "cell_type": "code",
   "execution_count": 10,
   "metadata": {},
   "outputs": [
    {
     "data": {
      "text/plain": [
       "27.625000014836907"
      ]
     },
     "execution_count": 10,
     "metadata": {},
     "output_type": "execute_result"
    }
   ],
   "source": [
    "problem = cp.Problem(objective, constraints)\n",
    "problem.solve()"
   ]
  },
  {
   "cell_type": "markdown",
   "metadata": {},
   "source": [
    "### Step 7. Display solution\n",
    "\n",
    "Following solution, the values of any CVXPY variable, expression, objective, or constraint can be accessed using the associated `value` property."
   ]
  },
  {
   "cell_type": "code",
   "execution_count": 11,
   "metadata": {},
   "outputs": [
    {
     "name": "stdout",
     "output_type": "stream",
     "text": [
      "var0 @ 0.32 + var1 @ 0.25 + var2 @ 0.05\n"
     ]
    }
   ],
   "source": [
    "print(total_cost)"
   ]
  },
  {
   "cell_type": "code",
   "execution_count": 12,
   "metadata": {},
   "outputs": [
    {
     "name": "stdout",
     "output_type": "stream",
     "text": [
      "27.625000014836907\n"
     ]
    }
   ],
   "source": [
    "print(total_cost.value)"
   ]
  },
  {
   "cell_type": "code",
   "execution_count": 13,
   "metadata": {},
   "outputs": [
    {
     "name": "stdout",
     "output_type": "stream",
     "text": [
      "Minimum cost to produce 100 gallons at ABV=0.04: $27.63\n"
     ]
    }
   ],
   "source": [
    "print(f\"Minimum cost to produce {volume} gallons at ABV={abv}: ${total_cost.value:5.2f}\")"
   ]
  },
  {
   "cell_type": "code",
   "execution_count": 14,
   "metadata": {},
   "outputs": [
    {
     "name": "stdout",
     "output_type": "stream",
     "text": [
      "A: 37.50 gallons\n",
      "B: 62.50 gallons\n",
      "W:  0.00 gallons\n"
     ]
    }
   ],
   "source": [
    "for c in sorted(components):\n",
    "    print(f\"{c}: {x[c].value:5.2f} gallons\")"
   ]
  },
  {
   "cell_type": "markdown",
   "metadata": {},
   "source": [
    "## Parametric Studies\n",
    "\n",
    "An important use of optimization models is to investigate how operations depend on critical parameters. For example, for this blending problem we may be interested in questions like:\n",
    "\n",
    "* How does the operating cost change with product alcohol content?\n",
    "* What is the cost of producing one more gallon of product?\n",
    "* What if the supply of a raw material is constrained?\n",
    "* What if we produce two products rather than one?\n",
    "* How much would be pay for raw materials with different specifications"
   ]
  },
  {
   "cell_type": "markdown",
   "metadata": {},
   "source": [
    "### Consolidating\n",
    "\n",
    "To enable parametric studies, our first step is to consolidate the model into a function that accepts problem data and reports an optimal solution."
   ]
  },
  {
   "cell_type": "code",
   "execution_count": 15,
   "metadata": {},
   "outputs": [],
   "source": [
    "import numpy as np\n",
    "import cvxpy as cp\n",
    "\n",
    "def brew_blend(volume, abv, data):\n",
    "    \n",
    "    # create set of components\n",
    "    components = set(data.keys())\n",
    "    \n",
    "    # create variables\n",
    "    x = {c: cp.Variable(nonneg=True, name=c) for c in components}\n",
    "    \n",
    "    # create objective function\n",
    "    total_cost = sum(x[c]*data[c]['cost'] for c in components)\n",
    "    \n",
    "    # create list of constraints\n",
    "    constraints = [\n",
    "        volume == sum(x[c] for c in components),\n",
    "        0 == sum(x[c]*(data[c]['abv'] - abv) for c in components)\n",
    "    ]\n",
    "    \n",
    "    # create and solve problem\n",
    "    problem = cp.Problem(cp.Minimize(total_cost), constraints)\n",
    "    problem.solve()\n",
    "    \n",
    "    # return results\n",
    "    min_cost = problem.value\n",
    "    optimal_blend = {c: x[c].value for c in components}\n",
    "    return min_cost, optimal_blend\n"
   ]
  },
  {
   "cell_type": "markdown",
   "metadata": {},
   "source": [
    "Demonstration"
   ]
  },
  {
   "cell_type": "code",
   "execution_count": 16,
   "metadata": {},
   "outputs": [
    {
     "name": "stdout",
     "output_type": "stream",
     "text": [
      "Minimum cost to produce 100 gallons at ABV=0.04 = $27.63\n",
      "A: 37.50\n",
      "B: 62.50\n",
      "W:  0.00\n"
     ]
    }
   ],
   "source": [
    "# problem data\n",
    "data = {\n",
    "    'A': {'abv': 0.045, 'cost': 0.32},\n",
    "    'B': {'abv': 0.037, 'cost': 0.25},\n",
    "    'W': {'abv': 0.000, 'cost': 0.05},\n",
    "}\n",
    "\n",
    "# product requirement\n",
    "volume = 100\n",
    "abv = 0.04\n",
    "\n",
    "# optimal solution\n",
    "min_cost, optimal_blend = brew_blend(volume, abv, data)\n",
    "\n",
    "# display solutoin\n",
    "print(f\"Minimum cost to produce {volume} gallons at ABV={abv} = ${min_cost:5.2f}\")\n",
    "for c in sorted(optimal_blend.keys()):\n",
    "    print(f\"{c}: {optimal_blend[c]:5.2f}\")"
   ]
  },
  {
   "cell_type": "markdown",
   "metadata": {},
   "source": [
    "The Pandas library has a function to convert dictionaries of data to DataFrames. This is a convenient way to display and visualize the data resulting from a complex optimization problem."
   ]
  },
  {
   "cell_type": "code",
   "execution_count": 17,
   "metadata": {},
   "outputs": [
    {
     "name": "stdout",
     "output_type": "stream",
     "text": [
      "{'A': 37.500001136050194, 'B': 62.49999861831747, 'W': 2.4563236418836055e-07}\n"
     ]
    },
    {
     "data": {
      "text/plain": [
       "<AxesSubplot:>"
      ]
     },
     "execution_count": 17,
     "metadata": {},
     "output_type": "execute_result"
    },
    {
     "data": {
      "image/png": "[encoded data removed]",
      "text/plain": [
       "<Figure size 432x288 with 1 Axes>"
      ]
     },
     "metadata": {
      "needs_background": "light"
     },
     "output_type": "display_data"
    }
   ],
   "source": [
    "import pandas as pd\n",
    "\n",
    "print(optimal_blend)\n",
    "df = pd.DataFrame.from_dict(optimal_blend, orient=\"index\")\n",
    "df.plot(kind=\"bar\")"
   ]
  },
  {
   "cell_type": "markdown",
   "metadata": {},
   "source": [
    "### Optimal blend as a function of product specification"
   ]
  },
  {
   "cell_type": "code",
   "execution_count": 18,
   "metadata": {},
   "outputs": [
    {
     "data": {
      "image/png": "[encoded data removed]",
      "text/plain": [
       "<Figure size 432x288 with 2 Axes>"
      ]
     },
     "metadata": {
      "needs_background": "light"
     },
     "output_type": "display_data"
    }
   ],
   "source": [
    "%matplotlib inline\n",
    "\n",
    "import numpy as np\n",
    "import matplotlib.pyplot as plt\n",
    "\n",
    "data = {\n",
    "    'A': {'abv': 0.045, 'cost': 0.32},\n",
    "    'B': {'abv': 0.037, 'cost': 0.25},\n",
    "    'W': {'abv': 0.000, 'cost': 0.05},\n",
    "}\n",
    "\n",
    "# gather results for a range of abv values\n",
    "abv = np.linspace(0, 0.05)\n",
    "results = [brew_blend(volume, a, data) for a in abv]\n",
    "\n",
    "fig, ax = plt.subplots(2, 1, sharex=True)\n",
    "ax[0].plot(abv, [cost for cost, values in results])\n",
    "ax[0].set_ylabel(\"$\")\n",
    "ax[0].grid(True)\n",
    "\n",
    "for c in sorted(data.keys()):\n",
    "    ax[1].plot(abv, [values[c] for cost, values in results], label=c)\n",
    "ax[1].set_xlabel('Blended ABV')\n",
    "ax[1].set_ylabel('gallons')\n",
    "ax[1].legend()\n",
    "ax[1].grid(True)"
   ]
  },
  {
   "cell_type": "markdown",
   "metadata": {},
   "source": [
    "<hr>\n",
    "\n",
    "**Study Question:** Suppose an additional raw material \"C\" becomes available with an abv of 4.2% at a cost of 28 cents per gallon. How does that change the optimal blend?\n",
    "\n",
    "**Study Question:** Having decided to use \"C\" for the blended product, you later learn only 50 gallons of \"C\" are available. Modify the solution procedure to allow for limits on the amount of raw maaterial, and investigate the implications for the optimal blend of having only 50 gallons of \"C\" available, and assuming the amounts of the other components \"A\", \"B\", and \"W\" remain unlimited.\n",
    "\n",
    "**Study Question:** An opportunity has developed to sell a second product with an abv of 3.8%. The first product is now labeled \"X\" with abv 4.0% and sells for \\\\$1.25 per gallon, and the second product is designated \"Y\" and sells for \\\\$1.10 per gallon. You've also learned that all of your raw materials are limited to 50 gallons. What should your production plan be to maximize profits?\n",
    "\n",
    "<hr>"
   ]
  },
  {
   "cell_type": "code",
   "execution_count": 39,
   "metadata": {},
   "outputs": [
    {
     "data": {
      "image/png": "[encoded data removed]",
      "text/plain": [
       "<Figure size 432x288 with 2 Axes>"
      ]
     },
     "metadata": {
      "needs_background": "light"
     },
     "output_type": "display_data"
    }
   ],
   "source": [
    "import numpy as np\n",
    "import cvxpy as cp\n",
    "\n",
    "def brew_blend(volume, abv, data):\n",
    "    \n",
    "    # create set of components\n",
    "    components = set(data.keys())\n",
    "    \n",
    "    # create variables\n",
    "    x = {c: cp.Variable(nonneg=True, name=c) for c in components}\n",
    "    \n",
    "    # create objective function\n",
    "    total_cost = sum(x[c]*data[c]['cost'] for c in components)\n",
    "    \n",
    "    # create list of constraints\n",
    "    constraints = [\n",
    "        volume == sum(x[c] for c in components),\n",
    "        0 == sum(x[c]*(data[c]['abv'] - abv) for c in components)\n",
    "    ]\n",
    "    \n",
    "    # add volume constraints\n",
    "    for c in components:\n",
    "        constraints.append(x[c] <= data[c]['volume'])    \n",
    "    \n",
    "    # create and solve problem\n",
    "    problem = cp.Problem(cp.Minimize(total_cost), constraints)\n",
    "    problem.solve()\n",
    "    \n",
    "    # return results\n",
    "    min_cost = problem.value\n",
    "    optimal_blend = {c: x[c].value for c in components}\n",
    "    return min_cost, optimal_blend\n",
    "\n",
    "\n",
    "import numpy as np\n",
    "import matplotlib.pyplot as plt\n",
    "\n",
    "data = {\n",
    "    'A': {'abv': 0.045, 'cost': 0.32, 'volume': 50},\n",
    "    'B': {'abv': 0.037, 'cost': 0.25, 'volume': 50},\n",
    "    'C': {'abv': 0.042, 'cost': 0.28, 'volume': 50},           # <= add raw material data\n",
    "    'W': {'abv': 0.000, 'cost': 0.05, 'volume': 50},\n",
    "}\n",
    "\n",
    "# gather results for a range of abv values\n",
    "abv = np.linspace(0.03, 0.05, 200)                         # <= narrow range of plott\n",
    "results = [brew_blend(volume, a, data) for a in abv]\n",
    "\n",
    "fig, ax = plt.subplots(2, 1, sharex=True)\n",
    "ax[0].plot(abv, [cost for cost, values in results])\n",
    "ax[0].set_ylabel(\"$\")\n",
    "ax[0].grid(True)\n",
    "\n",
    "for c in sorted(data.keys()):\n",
    "    ax[1].plot(abv, [values[c] for cost, values in results], label=c)\n",
    "ax[1].set_xlabel('Blended ABV')\n",
    "ax[1].set_ylabel('gallons')\n",
    "ax[1].legend()\n",
    "ax[1].grid(True)"
   ]
  },
  {
   "cell_type": "code",
   "execution_count": 52,
   "metadata": {},
   "outputs": [
    {
     "name": "stdout",
     "output_type": "stream",
     "text": [
      "A,Y\n",
      "A,X\n",
      "W,Y\n",
      "W,X\n",
      "C,Y\n",
      "C,X\n",
      "B,Y\n",
      "B,X\n",
      "A,Y @ 0.32 + A,X @ 0.32 + W,Y @ 0.05 + W,X @ 0.05 + C,Y @ 0.28 + C,X @ 0.28 + B,Y @ 0.25 + B,X @ 0.25\n"
     ]
    },
    {
     "ename": "KeyError",
     "evalue": "'A'",
     "output_type": "error",
     "traceback": [
      "\u001b[0;31m---------------------------------------------------------------------------\u001b[0m",
      "\u001b[0;31mKeyError\u001b[0m                                  Traceback (most recent call last)",
      "\u001b[0;32m<ipython-input-52-e27f4d8b0906>\u001b[0m in \u001b[0;36m<module>\u001b[0;34m\u001b[0m\n\u001b[1;32m     58\u001b[0m \u001b[0;31m# gather results for a range of abv values\u001b[0m\u001b[0;34m\u001b[0m\u001b[0;34m\u001b[0m\u001b[0;34m\u001b[0m\u001b[0m\n\u001b[1;32m     59\u001b[0m \u001b[0mabv\u001b[0m \u001b[0;34m=\u001b[0m \u001b[0mnp\u001b[0m\u001b[0;34m.\u001b[0m\u001b[0mlinspace\u001b[0m\u001b[0;34m(\u001b[0m\u001b[0;36m0.03\u001b[0m\u001b[0;34m,\u001b[0m \u001b[0;36m0.05\u001b[0m\u001b[0;34m,\u001b[0m \u001b[0;36m200\u001b[0m\u001b[0;34m)\u001b[0m                         \u001b[0;31m# <= narrow range of plott\u001b[0m\u001b[0;34m\u001b[0m\u001b[0;34m\u001b[0m\u001b[0m\n\u001b[0;32m---> 60\u001b[0;31m \u001b[0mresults\u001b[0m \u001b[0;34m=\u001b[0m \u001b[0;34m[\u001b[0m\u001b[0mbrew_blend\u001b[0m\u001b[0;34m(\u001b[0m\u001b[0mvolume\u001b[0m\u001b[0;34m,\u001b[0m \u001b[0ma\u001b[0m\u001b[0;34m,\u001b[0m \u001b[0mdata\u001b[0m\u001b[0;34m)\u001b[0m \u001b[0;32mfor\u001b[0m \u001b[0ma\u001b[0m \u001b[0;32min\u001b[0m \u001b[0mabv\u001b[0m\u001b[0;34m]\u001b[0m\u001b[0;34m\u001b[0m\u001b[0;34m\u001b[0m\u001b[0m\n\u001b[0m\u001b[1;32m     61\u001b[0m \u001b[0;34m\u001b[0m\u001b[0m\n\u001b[1;32m     62\u001b[0m \u001b[0mfig\u001b[0m\u001b[0;34m,\u001b[0m \u001b[0max\u001b[0m \u001b[0;34m=\u001b[0m \u001b[0mplt\u001b[0m\u001b[0;34m.\u001b[0m\u001b[0msubplots\u001b[0m\u001b[0;34m(\u001b[0m\u001b[0;36m2\u001b[0m\u001b[0;34m,\u001b[0m \u001b[0;36m1\u001b[0m\u001b[0;34m,\u001b[0m \u001b[0msharex\u001b[0m\u001b[0;34m=\u001b[0m\u001b[0;32mTrue\u001b[0m\u001b[0;34m)\u001b[0m\u001b[0;34m\u001b[0m\u001b[0;34m\u001b[0m\u001b[0m\n",
      "\u001b[0;32m<ipython-input-52-e27f4d8b0906>\u001b[0m in \u001b[0;36m<listcomp>\u001b[0;34m(.0)\u001b[0m\n\u001b[1;32m     58\u001b[0m \u001b[0;31m# gather results for a range of abv values\u001b[0m\u001b[0;34m\u001b[0m\u001b[0;34m\u001b[0m\u001b[0;34m\u001b[0m\u001b[0m\n\u001b[1;32m     59\u001b[0m \u001b[0mabv\u001b[0m \u001b[0;34m=\u001b[0m \u001b[0mnp\u001b[0m\u001b[0;34m.\u001b[0m\u001b[0mlinspace\u001b[0m\u001b[0;34m(\u001b[0m\u001b[0;36m0.03\u001b[0m\u001b[0;34m,\u001b[0m \u001b[0;36m0.05\u001b[0m\u001b[0;34m,\u001b[0m \u001b[0;36m200\u001b[0m\u001b[0;34m)\u001b[0m                         \u001b[0;31m# <= narrow range of plott\u001b[0m\u001b[0;34m\u001b[0m\u001b[0;34m\u001b[0m\u001b[0m\n\u001b[0;32m---> 60\u001b[0;31m \u001b[0mresults\u001b[0m \u001b[0;34m=\u001b[0m \u001b[0;34m[\u001b[0m\u001b[0mbrew_blend\u001b[0m\u001b[0;34m(\u001b[0m\u001b[0mvolume\u001b[0m\u001b[0;34m,\u001b[0m \u001b[0ma\u001b[0m\u001b[0;34m,\u001b[0m \u001b[0mdata\u001b[0m\u001b[0;34m)\u001b[0m \u001b[0;32mfor\u001b[0m \u001b[0ma\u001b[0m \u001b[0;32min\u001b[0m \u001b[0mabv\u001b[0m\u001b[0;34m]\u001b[0m\u001b[0;34m\u001b[0m\u001b[0;34m\u001b[0m\u001b[0m\n\u001b[0m\u001b[1;32m     61\u001b[0m \u001b[0;34m\u001b[0m\u001b[0m\n\u001b[1;32m     62\u001b[0m \u001b[0mfig\u001b[0m\u001b[0;34m,\u001b[0m \u001b[0max\u001b[0m \u001b[0;34m=\u001b[0m \u001b[0mplt\u001b[0m\u001b[0;34m.\u001b[0m\u001b[0msubplots\u001b[0m\u001b[0;34m(\u001b[0m\u001b[0;36m2\u001b[0m\u001b[0;34m,\u001b[0m \u001b[0;36m1\u001b[0m\u001b[0;34m,\u001b[0m \u001b[0msharex\u001b[0m\u001b[0;34m=\u001b[0m\u001b[0;32mTrue\u001b[0m\u001b[0;34m)\u001b[0m\u001b[0;34m\u001b[0m\u001b[0;34m\u001b[0m\u001b[0m\n",
      "\u001b[0;32m<ipython-input-52-e27f4d8b0906>\u001b[0m in \u001b[0;36mbrew_blend\u001b[0;34m(volume, abv, data)\u001b[0m\n\u001b[1;32m     23\u001b[0m     \u001b[0;31m# create list of constraints\u001b[0m\u001b[0;34m\u001b[0m\u001b[0;34m\u001b[0m\u001b[0;34m\u001b[0m\u001b[0m\n\u001b[1;32m     24\u001b[0m     constraints = [\n\u001b[0;32m---> 25\u001b[0;31m         \u001b[0mvolume\u001b[0m \u001b[0;34m==\u001b[0m \u001b[0msum\u001b[0m\u001b[0;34m(\u001b[0m\u001b[0mx\u001b[0m\u001b[0;34m[\u001b[0m\u001b[0mc\u001b[0m\u001b[0;34m]\u001b[0m \u001b[0;32mfor\u001b[0m \u001b[0mc\u001b[0m \u001b[0;32min\u001b[0m \u001b[0mcomponents\u001b[0m\u001b[0;34m)\u001b[0m\u001b[0;34m,\u001b[0m\u001b[0;34m\u001b[0m\u001b[0;34m\u001b[0m\u001b[0m\n\u001b[0m\u001b[1;32m     26\u001b[0m         \u001b[0;36m0\u001b[0m \u001b[0;34m==\u001b[0m \u001b[0msum\u001b[0m\u001b[0;34m(\u001b[0m\u001b[0mx\u001b[0m\u001b[0;34m[\u001b[0m\u001b[0mc\u001b[0m\u001b[0;34m]\u001b[0m\u001b[0;34m*\u001b[0m\u001b[0;34m(\u001b[0m\u001b[0mdata\u001b[0m\u001b[0;34m[\u001b[0m\u001b[0mc\u001b[0m\u001b[0;34m]\u001b[0m\u001b[0;34m[\u001b[0m\u001b[0;34m'abv'\u001b[0m\u001b[0;34m]\u001b[0m \u001b[0;34m-\u001b[0m \u001b[0mabv\u001b[0m\u001b[0;34m)\u001b[0m \u001b[0;32mfor\u001b[0m \u001b[0mc\u001b[0m \u001b[0;32min\u001b[0m \u001b[0mcomponents\u001b[0m\u001b[0;34m)\u001b[0m\u001b[0;34m\u001b[0m\u001b[0;34m\u001b[0m\u001b[0m\n\u001b[1;32m     27\u001b[0m     ]\n",
      "\u001b[0;32m<ipython-input-52-e27f4d8b0906>\u001b[0m in \u001b[0;36m<genexpr>\u001b[0;34m(.0)\u001b[0m\n\u001b[1;32m     23\u001b[0m     \u001b[0;31m# create list of constraints\u001b[0m\u001b[0;34m\u001b[0m\u001b[0;34m\u001b[0m\u001b[0;34m\u001b[0m\u001b[0m\n\u001b[1;32m     24\u001b[0m     constraints = [\n\u001b[0;32m---> 25\u001b[0;31m         \u001b[0mvolume\u001b[0m \u001b[0;34m==\u001b[0m \u001b[0msum\u001b[0m\u001b[0;34m(\u001b[0m\u001b[0mx\u001b[0m\u001b[0;34m[\u001b[0m\u001b[0mc\u001b[0m\u001b[0;34m]\u001b[0m \u001b[0;32mfor\u001b[0m \u001b[0mc\u001b[0m \u001b[0;32min\u001b[0m \u001b[0mcomponents\u001b[0m\u001b[0;34m)\u001b[0m\u001b[0;34m,\u001b[0m\u001b[0;34m\u001b[0m\u001b[0;34m\u001b[0m\u001b[0m\n\u001b[0m\u001b[1;32m     26\u001b[0m         \u001b[0;36m0\u001b[0m \u001b[0;34m==\u001b[0m \u001b[0msum\u001b[0m\u001b[0;34m(\u001b[0m\u001b[0mx\u001b[0m\u001b[0;34m[\u001b[0m\u001b[0mc\u001b[0m\u001b[0;34m]\u001b[0m\u001b[0;34m*\u001b[0m\u001b[0;34m(\u001b[0m\u001b[0mdata\u001b[0m\u001b[0;34m[\u001b[0m\u001b[0mc\u001b[0m\u001b[0;34m]\u001b[0m\u001b[0;34m[\u001b[0m\u001b[0;34m'abv'\u001b[0m\u001b[0;34m]\u001b[0m \u001b[0;34m-\u001b[0m \u001b[0mabv\u001b[0m\u001b[0;34m)\u001b[0m \u001b[0;32mfor\u001b[0m \u001b[0mc\u001b[0m \u001b[0;32min\u001b[0m \u001b[0mcomponents\u001b[0m\u001b[0;34m)\u001b[0m\u001b[0;34m\u001b[0m\u001b[0;34m\u001b[0m\u001b[0m\n\u001b[1;32m     27\u001b[0m     ]\n",
      "\u001b[0;31mKeyError\u001b[0m: 'A'"
     ]
    }
   ],
   "source": [
    "import numpy as np\n",
    "import cvxpy as cp\n",
    "\n",
    "def brew_blend(volume, abv, data):\n",
    "    \n",
    "    # create set of components\n",
    "    components = set(data.keys())\n",
    "    products = set(product_specs.keys())\n",
    "    \n",
    "    # create variables\n",
    "    x = {(c, p): cp.Variable(nonneg=True, name=f\"{c},{p}\") for c in components for p in products}\n",
    "    y = {p: cp.Variable(nonneg=True, name=p) for p in products}\n",
    "    \n",
    "    \n",
    "    # create objective function\n",
    "    total_cost = sum(x[c,p]*data[c]['cost'] for c in components for p in products)\n",
    "    revenue = sum(y[p*product_specs[])\n",
    "    \n",
    "    print(total_cost)\n",
    "    \n",
    "    # create list of constraints\n",
    "    constraints = [\n",
    "        volume == sum(x[c] for c in components),\n",
    "        0 == sum(x[c]*(data[c]['abv'] - abv) for c in components)\n",
    "    ]\n",
    "    \n",
    "    # add volume constraints\n",
    "    for c in components:\n",
    "        constraints.append(x[c] <= data[c]['volume'])    \n",
    "    \n",
    "    # create and solve problem\n",
    "    problem = cp.Problem(cp.Minimize(total_cost), constraints)\n",
    "    problem.solve()\n",
    "    \n",
    "    # return results\n",
    "    min_cost = problem.value\n",
    "    optimal_blend = {c: x[c].value for c in components}\n",
    "    return min_cost, optimal_blend\n",
    "\n",
    "\n",
    "import numpy as np\n",
    "import matplotlib.pyplot as plt\n",
    "\n",
    "product_specs = {\n",
    "    'X': {'abv': 0.040, 'price': 1.25},\n",
    "    'Y': {'abv': 0.038, 'price': 1.10}\n",
    "}\n",
    "\n",
    "data = {\n",
    "    'A': {'abv': 0.045, 'cost': 0.32, 'volume': 50},\n",
    "    'B': {'abv': 0.037, 'cost': 0.25, 'volume': 50},\n",
    "    'C': {'abv': 0.042, 'cost': 0.28, 'volume': 50},           # <= add raw material data\n",
    "    'W': {'abv': 0.000, 'cost': 0.05, 'volume': 50},\n",
    "}\n",
    "\n",
    "# gather results for a range of abv values\n",
    "abv = np.linspace(0.03, 0.05, 200)                         # <= narrow range of plott\n",
    "results = [brew_blend(volume, a, data) for a in abv]\n",
    "\n",
    "fig, ax = plt.subplots(2, 1, sharex=True)\n",
    "ax[0].plot(abv, [cost for cost, values in results])\n",
    "ax[0].set_ylabel(\"$\")\n",
    "ax[0].grid(True)\n",
    "\n",
    "for c in sorted(data.keys()):\n",
    "    ax[1].plot(abv, [values[c] for cost, values in results], label=c)\n",
    "ax[1].set_xlabel('Blended ABV')\n",
    "ax[1].set_ylabel('gallons')\n",
    "ax[1].legend()\n",
    "ax[1].grid(True)"
   ]
  },
  {
   "cell_type": "code",
   "execution_count": null,
   "metadata": {},
   "outputs": [],
   "source": []
  }
 ],
 "metadata": {
  "kernelspec": {
   "display_name": "Python 3 (ipykernel)",
   "language": "python",
   "name": "python3"
  },
  "language_info": {
   "codemirror_mode": {
    "name": "ipython",
    "version": 3
   },
   "file_extension": ".py",
   "mimetype": "text/x-python",
   "name": "python",
   "nbconvert_exporter": "python",
   "pygments_lexer": "ipython3",
   "version": "3.8.12"
  }
 },
 "nbformat": 4,
 "nbformat_minor": 4
}

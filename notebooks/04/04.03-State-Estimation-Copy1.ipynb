{
 "cells": [
  {
   "cell_type": "markdown",
   "metadata": {},
   "source": [
    "# Estimation and Anamoly Detection\n",
    "\n",
    "This is an advanced topic ... \n",
    "\n",
    "This notebook provides what you will need to implement one meaans for controller diagnositics."
   ]
  },
  {
   "cell_type": "markdown",
   "metadata": {},
   "source": [
    "![](../figures/FeedbackControlDiagram2.png)"
   ]
  },
  {
   "cell_type": "markdown",
   "metadata": {},
   "source": [
    "In the context of control, the control variable (CV) is heater temperature, the measured process variable (PV) is the sensor temperature, and we haven't yet established the relationship between them."
   ]
  },
  {
   "cell_type": "markdown",
   "metadata": {},
   "source": [
    "## State-Space Model\n",
    "\n",
    "The same model can be written in a **state-space** matrix/vector format:\n",
    "\n",
    "\\begin{align}\n",
    "\\frac{dx}{dt} & = A x + B_u u + B_d d \\\\\n",
    "y & = C x\n",
    "\\end{align}\n",
    "\n",
    "where\n",
    "\n",
    "$$x = \\begin{bmatrix} T_{H,1} \\\\ T_{S,1} \\end{bmatrix}\n",
    "\\qquad\n",
    "u = \\begin{bmatrix} u_1 \\end{bmatrix}\n",
    "\\qquad\n",
    "d = \\begin{bmatrix} T_{amb} \\end{bmatrix}\n",
    "\\qquad\n",
    "y = \\begin{bmatrix} T_{S,1} \\end{bmatrix}$$\n",
    "\n",
    "and\n",
    "\n",
    "$$A = \\begin{bmatrix} -\\frac{U_a+U_b}{C^H_p} & \\frac{U_b}{C^H_p} \\\\ \\frac{U_b}{C^S_p} & -\\frac{U_b}{C^S_p} \\end{bmatrix}\n",
    "\\qquad\n",
    "B_u = \\begin{bmatrix} \\frac{\\alpha P_1}{C^H_p} \\\\ 0 \\end{bmatrix}\n",
    "\\qquad\n",
    "B_d = \\begin{bmatrix} \\frac{U_a}{C_p^H} \\\\ 0 \\end{bmatrix}\n",
    "\\qquad\n",
    "C = \\begin{bmatrix} 0 & 1 \\end{bmatrix}$$\n",
    "\n",
    "By common convention, in state-space models the vector $x$ contains all variables representing the **state** of the system. The input vector $u$ is reserved for all manipulated variables (MV's), and the input vector $d$ for all disturbance variables (DV's). The vector $y$ holds all measured process variables (PV's)."
   ]
  },
  {
   "cell_type": "code",
   "execution_count": 1,
   "metadata": {},
   "outputs": [],
   "source": [
    "import numpy as np\n",
    "\n",
    "# parameter estimates.\n",
    "alpha = 0.00016       # watts / (units P * percent U1)\n",
    "P1 = 200              # P units\n",
    "P2 = 100              # P units\n",
    "Ua = 0.050            # heat transfer coefficient from heater to environment\n",
    "CpH = 2.2             # heat capacity of the heater (J/deg C)\n",
    "CpS = 1.9             # heat capacity of the sensor (J/deg C)\n",
    "Ub = 0.021            # heat transfer coefficient from heater to sensor\n",
    "Tamb = 21             # ambient room temperature\n",
    "\n",
    "# state space model\n",
    "A = np.array([[-(Ua + Ub)/CpH, Ub/CpH], [Ub/CpS, -Ub/CpS]])\n",
    "Bu = np.array([[alpha*P1/CpH], [0]])     # single column\n",
    "Bd = np.array([[Ua/CpH], [0]])           # single column\n",
    "C = np.array([[0, 1]])                   # single row\n",
    "\n",
    "u_initial = np.array([0])                # initial manipulable input\n",
    "d_initial = [Tamb]                       # initial disturbance input\n",
    "x_initial = np.array([Tamb, Tamb])       # initial steady state"
   ]
  },
  {
   "cell_type": "markdown",
   "metadata": {},
   "source": [
    "### Prediction and Correction\n",
    "\n",
    "Making the substitution $\\hat{y} = C\\hat{x}$, the observer equation becomes\n",
    "\n",
    "\\begin{align*}\n",
    "\\frac{d\\hat{x}}{dt} & = \\underbrace{A \\hat{x} + B_u u + B_d \\hat{d}}_{\\text{prediction}} - \\underbrace{L(\\hat{y} - y)}_{\\text{correction}}\n",
    "\\end{align*}\n",
    "\n",
    "As before, we can try approximating the derivative with a first order difference formula over small intervals of time. One clever detail is to choose the start of the interval, time $t_{k-1}$, to evaluate the model prediction part of the obsever equation, and use the process measurement available at end of the interval, time $t_k$, to evaluate the correction term.\n",
    "\n",
    "$$\\frac{\\hat{x}_{k} - \\hat{x}_{k-1}}{t_k - t_{k-1}} = \\underbrace{A \\hat{x}_{k-1} + B_u u_{k-1} + B_d \\hat{d}_{k-1}}_{\\text{prediction at time $t_{k-1}$}} - \\underbrace{L(\\hat{y}_k - y_k)}_{\\text{correction at time $t_k$}}$$\n",
    "\n",
    "For this purpose we introduce some extra notation. We use $\\hat{x}_{k-1}$ to represent the state estimate at time $t_{k-1}$ using all information up to time $t_{k-1}$. Given knowledge of the manipulated inputs $u_{k-1}$ and an estimate of the disturbances $\\hat{d}_{k-1}$, we will use the model to create a predicted state $\\hat{x}_k^{pred}$ for time $t_k$. A measurement is then taken at time $t_k$ which is used to produce a new estimate $\\hat{x}_k$. \n",
    "\n",
    "At each time step $t_k$ there are two calculations to perform:\n",
    "\n",
    "* **Model Prediction:** Use the model to update the state to the next time step, i.e., $\\hat{x}_{k-1} \\rightarrow \\hat{x}_{k}^{pred}$ with the equation\n",
    "\n",
    "\\begin{align}\n",
    "\\hat{x}_k^{pred} & = \\hat{x}_{k-1} + (t_k - t_{k-1}) ( A \\hat{x}_{k-1} + B_u u_{k-1} + B_d \\hat{d}_{k-1}) \\\\\n",
    "\\hat{y}_k^{pred} & = C \\hat{x}_k^{pred}\n",
    "\\end{align}\n",
    "\n",
    "* **Measurement Correction:** Use measurement $y_k$ to update $\\hat{x}_{k}^{pred} \\rightarrow \\hat{x}_{k}$ with the equation\n",
    "\n",
    "$$\\hat{x}_{k} = \\hat{x}_{k}^{pred} - (t_k - t_{k-1})L (\\hat{y}_{k}^{pred} - y_k)$$ \n",
    "\n",
    "While the notation may be a little daunting, the underlying concepts are quite straightforward. At each time step we have two calculations to perform. First, use all available information to predict the current state using the process model. Second, when a measurement becomes available, compare the measure to the model prediction and apply an appropriate correction to the state estimate. \n",
    "\n",
    "Let's see how this works in practice. The next cell introduces `tclab_observer`, a Python generator that creates instances of observers using the two-state model."
   ]
  },
  {
   "cell_type": "code",
   "execution_count": 2,
   "metadata": {},
   "outputs": [],
   "source": [
    "def tclab_observer(L, x_initial=[Tamb, Tamb]):\n",
    "    # initialize variables\n",
    "    t_now = 0\n",
    "    x_now = x_initial\n",
    "    d = d_initial                         # estimate of unmeasured disturbance\n",
    "    y_err = None\n",
    "    \n",
    "    while True:\n",
    "        # yield current state, get MV for next period\n",
    "        t_next, Q, T_measured = yield x_now, y_err\n",
    "        u = np.array([Q])\n",
    "        d = np.array([Tamb])\n",
    "        y = np.array([T_measured])\n",
    "        \n",
    "        # model prediction\n",
    "        x_predict = x_now + (t_next - t_now)*(np.dot(A, x_now) + np.dot(Bu, u) + np.dot(Bd, d))\n",
    "        y_predict = np.dot(C, x_predict)\n",
    "        \n",
    "        # measurement correction\n",
    "        y_err = y_predict - y\n",
    "        x_correct = x_predict - (t_next - t_now)*np.dot(L, y_err)\n",
    "        \n",
    "        # update time and state\n",
    "        t_now = t_next\n",
    "        x_now = x_correct"
   ]
  },
  {
   "cell_type": "markdown",
   "metadata": {},
   "source": [
    "## Testing\n",
    "\n",
    "The first experiment is to test if the observer can converge to the measured temperature. We will start with a very bad initial estimate."
   ]
  },
  {
   "cell_type": "code",
   "execution_count": 3,
   "metadata": {},
   "outputs": [
    {
     "data": {
      "image/png": "[encoded data removed]",
      "text/plain": [
       "<Figure size 640x360 with 3 Axes>"
      ]
     },
     "metadata": {},
     "output_type": "display_data"
    },
    {
     "name": "stdout",
     "output_type": "stream",
     "text": [
      "TCLab Model disconnected successfully.\n"
     ]
    },
    {
     "data": {
      "text/plain": [
       "<tclab.historian.Historian at 0x7fb065027b80>"
      ]
     },
     "execution_count": 3,
     "metadata": {},
     "output_type": "execute_result"
    },
    {
     "data": {
      "image/png": "[encoded data removed]",
      "text/plain": [
       "<Figure size 640x360 with 3 Axes>"
      ]
     },
     "metadata": {
      "needs_background": "light"
     },
     "output_type": "display_data"
    }
   ],
   "source": [
    "%matplotlib inline\n",
    "\n",
    "from tclab import setup, Historian, Plotter, clock\n",
    "\n",
    "# input\n",
    "def u1(t):\n",
    "    return 50 if 20 <= t <= 200 else 0\n",
    "\n",
    "def experiment(observer, u1, t_final=400, t_step=2):\n",
    "    # execute the event loop\n",
    "    TCLab = setup(connected=False, speedup=20)\n",
    "    with TCLab() as lab:\n",
    "        sources = [('T1', lambda: lab.T1), ('Q1', lab.Q1),\n",
    "                   ('Th', lambda: Th), ('Ts', lambda: Ts), \n",
    "                   ('y_err', lambda: y_err)]\n",
    "        h = Historian(sources)\n",
    "        p = Plotter(h, t_final, layout=[('T1','Ts', 'Th'), ['Q1'], ['y_err']])\n",
    "\n",
    "        # initial input\n",
    "        U1 = u1(0)\n",
    "        lab.Q1(U1)\n",
    "        next(observer)\n",
    "\n",
    "        for t in clock(t_final, t_step):\n",
    "            # get new measurement\n",
    "            T1 = lab.T1\n",
    "            x, y_err = observer.send([t, U1, lab.T1])\n",
    "\n",
    "            # unpack state for historian\n",
    "            Th, Ts = x\n",
    "            p.update(t)\n",
    "\n",
    "            # set input for next period\n",
    "            U1 = u1(t)\n",
    "            lab.Q1(U1)\n",
    "            \n",
    "    return h\n",
    "\n",
    "# create observer/estimator instance\n",
    "L = np.array([[0.4], [0.2]])\n",
    "experiment(tclab_observer(L, x_initial=[50, 50]), u1)"
   ]
  },
  {
   "cell_type": "markdown",
   "metadata": {},
   "source": [
    "<hr>\n",
    "\n",
    "**Study Question:**\n",
    "\n",
    "<hr>"
   ]
  },
  {
   "cell_type": "markdown",
   "metadata": {},
   "source": [
    "## Choosing L\n",
    "\n",
    "As this example has made clear, we need a notation that distinguishes the actual state of the physical system from our best estimate of that state. We will use $\\hat{x}$ to denote our best estimate of $x$, and use $\\hat{y}$ to denote the measurement that would result from $\\hat{x}$. We can write two systems of equations corresponding to the dynamics of the actual process and to a model of the process.\n",
    "\n",
    "* **Process**\n",
    "\\begin{align*}\n",
    "\\frac{dx}{dt} & = A x + B_u u + B_d d \\\\\n",
    "y & = C x\n",
    "\\end{align*}\n",
    "\n",
    "* **Prediction Model**\n",
    "\\begin{align*}\n",
    "\\frac{d\\hat{x}}{dt} & = A \\hat{x} + B_u u + B_d \\hat{d}\\\\\n",
    "\\hat{y} & = C \\hat{x}\n",
    "\\end{align*}\n",
    "\n",
    "We have made a bold assumption that the equatons and coefficients in these systems are the same. Any differences are due to different values for the states $x$ and $\\hat{x}$, and differences between unmeasured process disturbances $d$ and our estimate for those disturbances, $\\hat{d}$.\n",
    "\n",
    "As we learned from the example, the problem with using this formulation for the feedback control of unmeasured states is that we are neglecting available measurements. This is a obvious oversight. How can this be addressed?\n",
    "\n",
    "A brilliant answer to this question was given by David Luenberger in the early 1960's while a graduate student at Stanford University. The answer was to modify the second system of equations to include a corrective action due to differences between actual process measurements and predictions of what those measurments should be.\n",
    "\n",
    "* **Observer**\n",
    "\\begin{align*}\n",
    "\\frac{d\\hat{x}}{dt} & = \\underbrace{A \\hat{x} + B_u u + B_d \\hat{d}}_{\\text{prediction}} - \\underbrace{L(\\hat{y} - y)}_{\\text{correction}}\\\\\n",
    "\\hat{y} & = C \\hat{x}\n",
    "\\end{align*}\n",
    "\n",
    "The idea is that if predicted measurements $\\hat{y}$ are different from the actual measurements $y$, then corrective action will be imposed to modify the state estimates. In a sense, this is imposing feedback control on our process model to cause the model states to track the actual process states. We will need find values for a matrrix $L$ (after Luenberger?) to make this work.\n",
    "\n",
    "Taking the difference between predicted and actual measurements, we find\n",
    "\n",
    "\\begin{align*}\n",
    "\\hat{y} - y & = C \\hat{x} - C x \\\\\n",
    "& = C\\underbrace{(\\hat{x} - x)}_e\n",
    "\\end{align*}\n",
    "\n",
    "where $e = \\hat{x} - x$ is error in our prediction of the state. Subtracting the new model equations from the process model, we get an expression for the dynamics of the model error $e = \\hat{x} - x$\n",
    "\n",
    "\\begin{align*}\n",
    "\\frac{de}{dt} & = \\frac{d\\hat{x}}{dt} - \\frac{dx}{dt} \\\\\n",
    "\\\\\n",
    "\\frac{de}{dt} & = (A\\hat{x} + B_u u + B_d \\hat{d}) - (Ax + B_u u B_d d + L(C\\hat{x} - C x)) \\\\\n",
    "\\\\\n",
    "\\frac{de}{dt} & = (A - LC)(\\hat{x} - x) + B_d(\\hat{d} - d) \\\\\n",
    "\\\\\n",
    "\\implies \\frac{de}{dt} & = (A - LC) e + B_d(\\hat{d} - d) \n",
    "\\end{align*}\n",
    "\n",
    "The choice of $L$ determines observer performance. What we seek is a matrix $L$ such that $A - LC$ results in error $e$ that quickly decays to zero."
   ]
  },
  {
   "cell_type": "code",
   "execution_count": 4,
   "metadata": {},
   "outputs": [
    {
     "data": {
      "image/png": "[encoded data removed]",
      "text/plain": [
       "<Figure size 640x360 with 3 Axes>"
      ]
     },
     "metadata": {},
     "output_type": "display_data"
    },
    {
     "name": "stdout",
     "output_type": "stream",
     "text": [
      "TCLab Model disconnected successfully.\n"
     ]
    },
    {
     "data": {
      "text/plain": [
       "<tclab.historian.Historian at 0x7fb0e270e9d0>"
      ]
     },
     "execution_count": 4,
     "metadata": {},
     "output_type": "execute_result"
    },
    {
     "data": {
      "image/png": "[encoded data removed]",
      "text/plain": [
       "<Figure size 640x360 with 3 Axes>"
      ]
     },
     "metadata": {
      "needs_background": "light"
     },
     "output_type": "display_data"
    }
   ],
   "source": [
    "# create observer/estimator instance\n",
    "L = np.array([[0.4], [0.2]])\n",
    "experiment(tclab_observer(2*L, x_initial=[50, 50]), u1)"
   ]
  },
  {
   "cell_type": "markdown",
   "metadata": {},
   "source": [
    "## Eigenvalues\n",
    "\n",
    "Given a system\n",
    "\n",
    "$$\\frac{dx}{dt} = A x$$\n",
    "\n",
    "1. An eigenvalue $\\lambda_i$ and eigenvector $u_i$ satisfy a relationship\n",
    "\n",
    "$$A u_j = \\lambda_j u_j$$\n",
    "\n",
    "2. Complex eigenvalues of real matrices come in complex conjugate pairs determine can be written\n",
    " \n",
    "$$\\lambda_{j,j+1} = \\sigma \\pm i \\omega$$\n",
    " \n",
    "3. Each eigenvalue corresponds to a 'mode'\n",
    " \n",
    "    * Real eigenvalues \n",
    "     \n",
    "    $$e^{\\sigma t}$$\n",
    "     \n",
    "    * Each pair of complex conjugate eigenvalues corresponds to two modes\n",
    "     \n",
    "    $$e^{\\sigma t}\\sin(\\omega t)$$\n",
    "     \n",
    "    $$e^{\\sigma t}\\cos{\\omega t}$$\n",
    "     \n",
    "3. The system is asympototically stable if and only if the eigenvalues of $A$ have negative real part.\n"
   ]
  },
  {
   "cell_type": "code",
   "execution_count": 5,
   "metadata": {},
   "outputs": [
    {
     "name": "stdout",
     "output_type": "stream",
     "text": [
      "eigenvalue = -0.03643\n",
      "time constant =  27.45 seconds\n",
      "eigenvector = [-0.91681931  0.39930233]\n",
      "     A u = [ 0.03339978 -0.01454661]\n",
      "lambda u = [ 0.03339978 -0.01454661]\n",
      "\n",
      "eigenvalue = -0.00690\n",
      "time constant =  145.03 seconds\n",
      "eigenvector = [-0.35205837 -0.93597805]\n",
      "     A u = [0.00242755 0.00645385]\n",
      "lambda u = [0.00242755 0.00645385]\n",
      "\n"
     ]
    }
   ],
   "source": [
    "eigenvalues, eigenvectors = np.linalg.eig(A)\n",
    "print \n",
    "\n",
    "for val, vec in zip(eigenvalues, eigenvectors.T):\n",
    "    print(f\"eigenvalue = {val : 8.5f}\")\n",
    "    print(f\"time constant = {-1/val : 5.2f} seconds\")\n",
    "    print(f\"eigenvector = {vec}\")\n",
    "    print(f\"     A u = {np.dot(A, vec)}\")\n",
    "    print(f\"lambda u = {val*vec}\")\n",
    "    print()"
   ]
  },
  {
   "cell_type": "markdown",
   "metadata": {},
   "source": [
    "Application to state space model"
   ]
  },
  {
   "cell_type": "code",
   "execution_count": 6,
   "metadata": {},
   "outputs": [
    {
     "ename": "NameError",
     "evalue": "name 'tclab_phase_plane' is not defined",
     "output_type": "error",
     "traceback": [
      "\u001b[0;31m---------------------------------------------------------------------------\u001b[0m",
      "\u001b[0;31mNameError\u001b[0m                                 Traceback (most recent call last)",
      "\u001b[0;32m<ipython-input-6-00b63113dbdb>\u001b[0m in \u001b[0;36m<module>\u001b[0;34m\u001b[0m\n\u001b[1;32m     45\u001b[0m \u001b[0mx_ic\u001b[0m \u001b[0;34m=\u001b[0m \u001b[0;34m[\u001b[0m\u001b[0;34m[\u001b[0m\u001b[0mx_ss\u001b[0m\u001b[0;34m[\u001b[0m\u001b[0;36m0\u001b[0m\u001b[0;34m]\u001b[0m \u001b[0;34m+\u001b[0m \u001b[0;36m25\u001b[0m\u001b[0;34m*\u001b[0m\u001b[0mnp\u001b[0m\u001b[0;34m.\u001b[0m\u001b[0mcos\u001b[0m\u001b[0;34m(\u001b[0m\u001b[0ma\u001b[0m\u001b[0;34m)\u001b[0m\u001b[0;34m,\u001b[0m \u001b[0mx_ss\u001b[0m\u001b[0;34m[\u001b[0m\u001b[0;36m1\u001b[0m\u001b[0;34m]\u001b[0m \u001b[0;34m+\u001b[0m \u001b[0;36m30\u001b[0m\u001b[0;34m*\u001b[0m\u001b[0mnp\u001b[0m\u001b[0;34m.\u001b[0m\u001b[0msin\u001b[0m\u001b[0;34m(\u001b[0m\u001b[0ma\u001b[0m\u001b[0;34m)\u001b[0m\u001b[0;34m]\u001b[0m \u001b[0;32mfor\u001b[0m \u001b[0ma\u001b[0m \u001b[0;32min\u001b[0m \u001b[0mnp\u001b[0m\u001b[0;34m.\u001b[0m\u001b[0mlinspace\u001b[0m\u001b[0;34m(\u001b[0m\u001b[0;36m0\u001b[0m\u001b[0;34m,\u001b[0m \u001b[0;36m2\u001b[0m\u001b[0;34m*\u001b[0m\u001b[0mnp\u001b[0m\u001b[0;34m.\u001b[0m\u001b[0mpi\u001b[0m\u001b[0;34m,\u001b[0m \u001b[0;36m1\u001b[0m\u001b[0;34m)\u001b[0m\u001b[0;34m]\u001b[0m\u001b[0;34m\u001b[0m\u001b[0;34m\u001b[0m\u001b[0m\n\u001b[1;32m     46\u001b[0m \u001b[0;34m\u001b[0m\u001b[0m\n\u001b[0;32m---> 47\u001b[0;31m \u001b[0mtclab_phase_plane\u001b[0m\u001b[0;34m(\u001b[0m\u001b[0mx_ic\u001b[0m\u001b[0;34m,\u001b[0m \u001b[0;34m[\u001b[0m\u001b[0;36m50\u001b[0m\u001b[0;34m]\u001b[0m\u001b[0;34m,\u001b[0m \u001b[0;34m[\u001b[0m\u001b[0mTamb\u001b[0m\u001b[0;34m]\u001b[0m\u001b[0;34m)\u001b[0m\u001b[0;34m\u001b[0m\u001b[0;34m\u001b[0m\u001b[0m\n\u001b[0m\u001b[1;32m     48\u001b[0m \u001b[0;34m\u001b[0m\u001b[0m\n\u001b[1;32m     49\u001b[0m \u001b[0;31m#def tclab_sim(x_ics, [50], [21]):\u001b[0m\u001b[0;34m\u001b[0m\u001b[0;34m\u001b[0m\u001b[0;34m\u001b[0m\u001b[0m\n",
      "\u001b[0;31mNameError\u001b[0m: name 'tclab_phase_plane' is not defined"
     ]
    }
   ],
   "source": [
    "%matplotlib inline\n",
    "import matplotlib.gridspec as gridspec\n",
    "\n",
    "u_ss = np.array([50])                # constant manipulable input\n",
    "d_ss = [Tamb]                       # constanat disturbance input\n",
    "x_initial = np.array([Tamb, Tamb])  # initial steady state\n",
    "\n",
    "def tctlab_phase_plane(ic, u_ss, d_ss):\n",
    "    \n",
    "    def deriv(t, x):\n",
    "        return np.dot(A, x) + np.dot(Bu, u_ss) + np.dot(Bd, d_ss)\n",
    "\n",
    "    fig = plt.figure(figsize=(12, 6))\n",
    "    gs = gridspec.GridSpec(2, 3)\n",
    "    ax = fig.add_subplot(gs[:, 0])\n",
    "\n",
    "    bx = fig.add_subplot(gs[0, 1:])\n",
    "    cx = fig.add_subplot(gs[1, 1:])\n",
    "\n",
    "    for ic in x_ic:\n",
    "        soln = solve_ivp(deriv, [0, 500, 0], ic, t_eval=np.linspace(0, 500, 501))\n",
    "        t = soln.t\n",
    "        x = soln.y\n",
    "        ax.plot(x[0], x[1], 'b', label=\"trajectory\")\n",
    "        ax.plot(ic[0], ic[1], 'bo', label=\"initial condition\")\n",
    "        \n",
    "        bx.plot(t, x[0])\n",
    "        cx.plot(t, x[1])\n",
    "    ax.set_xlabel('Th: heater temp / deg C')\n",
    "    ax.set_ylabel('Ts: sensor temp / deg C')\n",
    "    ax.axis('equal')\n",
    "    ax.axis('square')\n",
    "    ax.grid(True)\n",
    "    ax.plot(x_ss[0], x_ss[1], 'r.', ms=20, label=\"steady state\")\n",
    "\n",
    "    eigenvaalues, eigenmatrix = np.linalg.eig(A)\n",
    "    for val, vec in zip(eigenvalues, eigenmatrix.T):\n",
    "        r = 20\n",
    "        ax.plot([x_ss[0], x_ss[0] + r*vec[0]], [x_ss[1], x_ss[1] + r*vec[1]], 'r--', lw=2)\n",
    "        ax.plot([x_ss[0], x_ss[0] - r*vec[0]], [x_ss[1], x_ss[1] - r*vec[1]], 'r--', lw=2)\n",
    "    ax.set_xlim(Tamb-2, 90)\n",
    "    ax.set_ylim(Tamb-2, 90)\n",
    "\n",
    "x_ss = np.linalg.solve(A, -(np.dot(Bd, d_ss) + np.dot(Bu, u_ss)))\n",
    "x_ic = [[x_ss[0] + 25*np.cos(a), x_ss[1] + 30*np.sin(a)] for a in np.linspace(0, 2*np.pi, 1)]\n",
    "\n",
    "tclab_phase_plane(x_ic, [50], [Tamb])\n",
    "\n",
    "#def tclab_sim(x_ics, [50], [21]):\n",
    "#    pass\n",
    "    #_, bx = plt.subplots(2, 1)\n",
    "        #bx[0].plot(t, x[0])\n",
    "        #bx[0].set_title('heater temp')\n",
    "        #bx[0].grid(True)\n",
    "        #bx[1].plot(t, x[1])\n",
    "        #bx[1].set_title('sensor temp')\n",
    "        #bx[1].grid(True)\n",
    "        #plt.tight_layout()\n"
   ]
  },
  {
   "cell_type": "code",
   "execution_count": null,
   "metadata": {},
   "outputs": [],
   "source": [
    "from scipy.signal import place_poles\n",
    "\n",
    "evals, evecs = np.linalg.eig(A)\n",
    "results = place_poles(A.T, C.T, 3*evals)\n",
    "print(3*evals, results.computed_poles)\n",
    "L = results.gain_matrix.T\n",
    "print(L)"
   ]
  },
  {
   "cell_type": "code",
   "execution_count": null,
   "metadata": {},
   "outputs": [],
   "source": [
    "fig, ax = plt.subplots(2, 1)\n",
    "ax[0].plot(h.logdict[\"Time\"], h.logdict[\"Ts\"], h.logdict[\"Time\"], h.logdict[\"T1\"])\n",
    "ax[1].plot(h.logdict[\"Time\"], np.array(h.logdict[\"Ts\"]) - np.array(h.logdict[\"T1\"]))"
   ]
  },
  {
   "cell_type": "markdown",
   "metadata": {},
   "source": [
    "**Study Question:** Rerun the estimator simulation using:\n",
    "\n",
    "* Change parameter value\n",
    "* Change in d\n",
    "* Change sensor offset\n",
    "* "
   ]
  }
 ],
 "metadata": {
  "kernelspec": {
   "display_name": "Python 3 (ipykernel)",
   "language": "python",
   "name": "python3"
  },
  "language_info": {
   "codemirror_mode": {
    "name": "ipython",
    "version": 3
   },
   "file_extension": ".py",
   "mimetype": "text/x-python",
   "name": "python",
   "nbconvert_exporter": "python",
   "pygments_lexer": "ipython3",
   "version": "3.9.7"
  }
 },
 "nbformat": 4,
 "nbformat_minor": 4
}

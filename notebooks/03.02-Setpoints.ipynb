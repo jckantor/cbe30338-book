{
 "cells": [
  {
   "cell_type": "markdown",
   "metadata": {},
   "source": [
    "# Setpoints\n",
    "\n",
    "Setpoints are functions of time that establish target values for key control variables. This notebook describes typical nomenclature used in describing setpoint functions, and shows how to creatd setpoint functions in Python."
   ]
  },
  {
   "cell_type": "markdown",
   "metadata": {},
   "source": [
    "## Setpoint profiles\n",
    "\n",
    "Example descriptions from commercial vendors:\n",
    "\n",
    "* [West Control Solutions: Understanding Setpoint Ramping and Ramp/Soak Temperature Control](https://www.west-cs.com/news/understanding-setpoint-ramping-and-rampsoak-temperature-control/)\n",
    "* [Eurotherm: Ramp and Soak Applications](https://www.eurotherm.com/us/temperature-control-applications-us/ramp-and-soak-applications/)\n",
    "* [Allen-Bradley: Introduction to the Allen Bradley Ramp/Soak Controller](https://control.com/technical-articles/Introduction-to-the-Allen-Bradley-Ramp-Soak-Controller-System/)\n",
    "* [Wikipedia: Thermal Profiling](https://en.wikipedia.org/wiki/Thermal_profiling)\n",
    "\n",
    "Common descriptions for setpoint functions include so-called **step** changes, and **ramp** and **soak** periods.\n",
    "\n",
    "* A **step** change is an discontinuous change in setpoint value occuring as specified point in time. An example is specifying a setpoint change from 45 deg C to 65 deg C at a specified point in time.\n",
    "* A **soak** (or **dwell**) is a specified period of time over which the setpoint is held a constant, specified value.\n",
    "* A **ramp** is a specified period of time over which the setpoint changes at a constant rate from a specified starting value to a specified final value.\n",
    "* The **ramp rate** is the rate of change in a setpoint ramp. These may have positive or negative values."
   ]
  },
  {
   "cell_type": "code",
   "execution_count": 35,
   "metadata": {},
   "outputs": [
    {
     "data": {
      "text/plain": [
       "Text(210, 55, 'Soak/Dwell')"
      ]
     },
     "execution_count": 35,
     "metadata": {},
     "output_type": "execute_result"
    },
    {
     "data": {
      "image/png": "[encoded data removed]",
      "text/plain": [
       "<Figure size 432x288 with 1 Axes>"
      ]
     },
     "metadata": {
      "needs_background": "light"
     },
     "output_type": "display_data"
    }
   ],
   "source": [
    "import numpy as np\n",
    "import pandas as pd\n",
    "\n",
    "import matplotlib.pyplot as plt\n",
    "\n",
    "# specify a setpoint profile\n",
    "profile = [\n",
    "    (0, 25),\n",
    "    (50, 35),\n",
    "    (120, 35),\n",
    "    (120, 40),\n",
    "    (170, 50),\n",
    "    (170, 50),\n",
    "    (270, 50),\n",
    "    (370, 40),\n",
    "    (450, 40),\n",
    "    (600, 25),\n",
    "]\n",
    "\n",
    "sp_profile = pd.DataFrame(profile, columns=[\"Time\", \"SP\"])\n",
    "ax = sp_profile.plot(x=\"Time\", grid=True, ylim=(25, 60), title=\"Setpoint\")\n",
    "ax.annotate(\"Step\", xy=(120, 37.5), xytext=(180, 37.5), fontsize=20, \n",
    "            va=\"center\", arrowprops=dict(facecolor='black', shrink=0.05))\n",
    "ax.annotate(\"Ramp\", xy=(320, 45), xytext=(380, 48), fontsize=20, \n",
    "            va=\"center\", arrowprops=dict(facecolor='black', shrink=0.05))\n",
    "ax.annotate(\"Soak/Dwell\", xy=(210, 50), xytext=(210, 55), fontsize=20, \n",
    "            ha=\"center\", arrowprops=dict(facecolor='black', shrink=0.05))"
   ]
  },
  {
   "cell_type": "markdown",
   "metadata": {},
   "source": [
    "<hr>\n",
    "\n",
    "**Study Question:** Classify all of the segments in the sample setpoint profile.\n",
    "\n",
    "**Study Question:** What is the ramp rate of the first ramp in the example above.\n",
    "\n",
    "**Study Question:** Modify the data in the above example to remove the step. Replace it with a single raamp from the initial condition to the soak period that begins at t=170 at a temperature of 170C.\n",
    "\n",
    "<hr>"
   ]
  },
  {
   "cell_type": "markdown",
   "metadata": {},
   "source": [
    "## Creating setpoint functions\n",
    "\n",
    "For feedback control we would like functions that return the value of a setpoint for any point in time. Functions are in the form $SP_1(t)$ and $SP_2(t)$, for example, are straightfoward to use inside in control applications. \n",
    "\n",
    "In the section we show how to write a function that accepts points defining a piecewise linear setpoint profile, then produce a function to compute the setpoint for any point in time."
   ]
  },
  {
   "cell_type": "markdown",
   "metadata": {},
   "source": [
    "### Specifying piecewise linear setpoint profiles\n",
    "\n",
    "Describiing the setpoint as a series of a step/ramp/soak periods naturally leads a piecewise linear function. The start and end of each line segment are spceified by (time, value) pairs. Ordering these points into a list provides a straightforward specification of the setpoint, \n",
    "\n",
    "Here we show the points for a typical setpoint."
   ]
  },
  {
   "cell_type": "code",
   "execution_count": 37,
   "metadata": {},
   "outputs": [
    {
     "name": "stdout",
     "output_type": "stream",
     "text": [
      "   Time  SP\n",
      "0     0  25\n",
      "1    50  35\n",
      "2   120  35\n",
      "3   120  40\n",
      "4   170  50\n",
      "5   170  50\n",
      "6   270  50\n",
      "7   370  40\n",
      "8   450  40\n",
      "9   600  25\n"
     ]
    },
    {
     "data": {
      "text/plain": [
       "<AxesSubplot:xlabel='Time'>"
      ]
     },
     "execution_count": 37,
     "metadata": {},
     "output_type": "execute_result"
    },
    {
     "data": {
      "image/png": "[encoded data removed]",
      "text/plain": [
       "<Figure size 432x288 with 1 Axes>"
      ]
     },
     "metadata": {
      "needs_background": "light"
     },
     "output_type": "display_data"
    }
   ],
   "source": [
    "import numpy as np\n",
    "import matplotlib.pyplot as plt\n",
    "\n",
    "sp_profile = pd.DataFrame([(0, 25), (50, 35), (120, 35), (120, 40), (170, 50), \n",
    "                        (170, 50), (270, 50), (370, 40), (450, 40), (600, 25)],\n",
    "                       columns=[\"Time\", \"SP\"])\n",
    "\n",
    "print(sp_profile)\n",
    "sp_profile.plot(x=\"Time\", y=\"SP\", style={\"SP\": \"r.\"}, ms=10, ylim=(25, 80), grid=True)"
   ]
  },
  {
   "cell_type": "markdown",
   "metadata": {},
   "source": [
    "### Interpolation\n",
    "\n",
    "Interpolation is a method to fill in points between known values of a function. Here we will use linear interpolation to create a continuous setpoint function given \"breakpoint\".\n",
    "\n",
    "The Python standard libraries include "
   ]
  },
  {
   "cell_type": "code",
   "execution_count": 27,
   "metadata": {},
   "outputs": [
    {
     "data": {
      "text/plain": [
       "35.0"
      ]
     },
     "execution_count": 27,
     "metadata": {},
     "output_type": "execute_result"
    }
   ],
   "source": [
    "t_interp = profile[\"Time\"]\n",
    "sp_interp = profile[\"SP\"]\n",
    "\n",
    "np.interp(500, t_interp, sp_interp)"
   ]
  },
  {
   "cell_type": "code",
   "execution_count": 39,
   "metadata": {},
   "outputs": [
    {
     "data": {
      "text/plain": [
       "35.0"
      ]
     },
     "execution_count": 39,
     "metadata": {},
     "output_type": "execute_result"
    }
   ],
   "source": [
    "def sp(t):\n",
    "    t_interp = sp_profile[\"Time\"]\n",
    "    y_interp = sp_profile[\"SP\"]\n",
    "    return np.interp(t, t_interp, y_interp)\n",
    "\n",
    "sp(500)"
   ]
  },
  {
   "cell_type": "code",
   "execution_count": 42,
   "metadata": {},
   "outputs": [
    {
     "data": {
      "text/plain": [
       "[<matplotlib.lines.Line2D at 0x7ffdc16d8790>]"
      ]
     },
     "execution_count": 42,
     "metadata": {},
     "output_type": "execute_result"
    },
    {
     "data": {
      "image/png": "[encoded data removed]",
      "text/plain": [
       "<Figure size 432x288 with 1 Axes>"
      ]
     },
     "metadata": {
      "needs_background": "light"
     },
     "output_type": "display_data"
    }
   ],
   "source": [
    "t = np.linspace(0, 600, 101)\n",
    "\n",
    "ax = sp_profile.plot(x=\"Time\", y=\"SP\", style={\"SP\": \"r.\"}, ms=20, ylim=(25, 60), grid=True)\n",
    "ax.plot(t, sp(t), '.')"
   ]
  },
  {
   "cell_type": "markdown",
   "metadata": {},
   "source": [
    "### A functon to create functions\n",
    "\n",
    "Python functions are frequently written to accept data, perform calculations, and return values. What may be less familiar is that functions can also return function. This is just what we neeed - a function that accepts a series of (time, value) pairs describing a setpoint profile, then returns a function that can be used to find values of the setpoint at any point in time."
   ]
  },
  {
   "cell_type": "code",
   "execution_count": 46,
   "metadata": {},
   "outputs": [],
   "source": [
    "def create_setpoint_function(profile):\n",
    "    \n",
    "    profile = np.array(profile)\n",
    "    t_interp = profile[:, 0]\n",
    "    y_interp = profile[:, 1]\n",
    "    \n",
    "    # define a function to interpolate time and values\n",
    "    def setpoint_function(t):\n",
    "        return np.interp(t, t_interp, y_interp)\n",
    "    \n",
    "    # return that function\n",
    "    return setpoint_function"
   ]
  },
  {
   "cell_type": "markdown",
   "metadata": {},
   "source": [
    "### Example of a setpoint function\n",
    "\n",
    "The following example creates a setpoint function that produces setpoints corresponding the profile described in the introduction to this notebook."
   ]
  },
  {
   "cell_type": "code",
   "execution_count": 47,
   "metadata": {},
   "outputs": [
    {
     "name": "stdout",
     "output_type": "stream",
     "text": [
      "at time = 100 setpoint = 35.0\n"
     ]
    }
   ],
   "source": [
    "sp = create_setpoint_function(sp_profile)\n",
    "\n",
    "# print select values\n",
    "t = 100\n",
    "print(f\"at time = {t:3d} setpoint = {sp(t)}\")"
   ]
  },
  {
   "cell_type": "markdown",
   "metadata": {},
   "source": [
    "We can use the setpoint function to create plots."
   ]
  },
  {
   "cell_type": "code",
   "execution_count": 49,
   "metadata": {},
   "outputs": [
    {
     "data": {
      "image/png": "[encoded data removed]",
      "text/plain": [
       "<Figure size 720x360 with 1 Axes>"
      ]
     },
     "metadata": {
      "needs_background": "light"
     },
     "output_type": "display_data"
    }
   ],
   "source": [
    "import matplotlib.pyplot as plt\n",
    "\n",
    "# compute setpoint values\n",
    "t = np.linspace(0, 600, 600)\n",
    "y = sp(t)\n",
    "\n",
    "# create a plot\n",
    "fix, ax = plt.subplots(1, 1, figsize=(10, 5))\n",
    "ax.plot(t, y)\n",
    "ax.set_xlabel(\"time / seconds\")\n",
    "ax.set_title(\"setpoint function\")\n",
    "ax.grid(True)"
   ]
  },
  {
   "cell_type": "markdown",
   "metadata": {},
   "source": [
    "### Creating multiple setpoint functions \n",
    "\n",
    "The next cell demonstrates the use of `create_setpoint_function` to create multiple independent setpoint functions."
   ]
  },
  {
   "cell_type": "code",
   "execution_count": 50,
   "metadata": {},
   "outputs": [
    {
     "data": {
      "text/plain": [
       "[<matplotlib.lines.Line2D at 0x7ffdc1af8a60>]"
      ]
     },
     "execution_count": 50,
     "metadata": {},
     "output_type": "execute_result"
    },
    {
     "data": {
      "image/png": "[encoded data removed]",
      "text/plain": [
       "<Figure size 432x288 with 2 Axes>"
      ]
     },
     "metadata": {
      "needs_background": "light"
     },
     "output_type": "display_data"
    }
   ],
   "source": [
    "T_amb = 21.0\n",
    "\n",
    "sp_1 = create_setpoint_function([[0, T_amb], [20, T_amb], [60, 50], [100, 50], [140, T_amb]])\n",
    "sp_2 = create_setpoint_function([[0, T_amb], [0, 45], [120, 35], [200, T_amb]])\n",
    "\n",
    "# create plot axes\n",
    "fig, ax = plt.subplots(2, 1)\n",
    "\n",
    "# plot setpoint functions\n",
    "t = np.linspace(-1, 250, 250)\n",
    "ax[0].plot(t, sp_1(t))\n",
    "ax[1].plot(t, sp_2(t))"
   ]
  },
  {
   "cell_type": "markdown",
   "metadata": {
    "colab": {},
    "colab_type": "code",
    "id": "rGhvoGiONmjt"
   },
   "source": [
    "### Typcial PCR thermal cycler protocols\n",
    "\n",
    "Here's an example of a PCR thermal cycler protocol:\n",
    "\n",
    "* Activation of polymerase: 95°C, 15 min\n",
    "* Thermal cycling: 30 cycles\n",
    "    * Denaturation: 94°C, 20 s\n",
    "    * Annealing: 60°C, 20 s\n",
    "    * Elongation: 72°C, 30 s\n",
    "* Extension: 72°C, 10 min\n",
    "* Storage: 4°C, as necessary\n",
    "\n",
    "The details of these protocols vary depending on the nature of the test, the reagents used, and the type of detection that will be employed. In real-time PCR, the number of cycling steps will end once a positive result is obtained."
   ]
  },
  {
   "cell_type": "markdown",
   "metadata": {},
   "source": [
    "### Representing PCR protocols in Python\n",
    "\n",
    "The PCR protocol is a series of (time, temperature) pairs. The code in the next cell represents a protocol as a sequence of (time, temperature) pairs in a Python list. The list is constructed by concatenating subprotocols denoting the activation, cycling and extension steps in a PCR protocol"
   ]
  },
  {
   "cell_type": "code",
   "execution_count": 51,
   "metadata": {},
   "outputs": [
    {
     "data": {
      "text/plain": [
       "array([[900,  95],\n",
       "       [ 20,  94],\n",
       "       [ 20,  60],\n",
       "       [ 30,  72],\n",
       "       [ 20,  94],\n",
       "       [ 20,  60],\n",
       "       [ 30,  72],\n",
       "       [ 20,  94],\n",
       "       [ 20,  60],\n",
       "       [ 30,  72],\n",
       "       [ 20,  94],\n",
       "       [ 20,  60],\n",
       "       [ 30,  72],\n",
       "       [ 20,  94],\n",
       "       [ 20,  60],\n",
       "       [ 30,  72],\n",
       "       [600,  72],\n",
       "       [  0,  30]])"
      ]
     },
     "execution_count": 51,
     "metadata": {},
     "output_type": "execute_result"
    }
   ],
   "source": [
    "%matplotlib inline\n",
    "import numpy as np\n",
    "import matplotlib.pyplot as plt\n",
    "\n",
    "# number of cycles\n",
    "n_cycles = 5\n",
    "\n",
    "# enter steps in the protocol as a list of (time, temperature) pairs\n",
    "activation = [(900, 95)]\n",
    "cycling = [(20, 94), (20, 60), (30, 72)]*n_cycles\n",
    "extension = [(600, 72)]\n",
    "finish = [[0, 30]]\n",
    "\n",
    "# concatenate into a list of (time, temperature) intervals\n",
    "protocol = np.concatenate([activation, cycling, extension, finish])\n",
    "protocol"
   ]
  },
  {
   "cell_type": "markdown",
   "metadata": {},
   "source": [
    "### Converting to ramp, soak specifications\n",
    "\n",
    "Each step in a PCR protocol consists of an initial ramp to the specified temperature, followed by a soak for the specified time and temperature. We begin the coding by demonstrating how to interpret the protocol specification as a series of ramp and soak periods."
   ]
  },
  {
   "cell_type": "code",
   "execution_count": 52,
   "metadata": {},
   "outputs": [
    {
     "name": "stdout",
     "output_type": "stream",
     "text": [
      "Ramp to 95C\n",
      "Soak at 95C for 900 seconds.\n",
      "Ramp to 94C\n",
      "Soak at 94C for  20 seconds.\n",
      "Ramp to 60C\n",
      "Soak at 60C for  20 seconds.\n",
      "Ramp to 72C\n",
      "Soak at 72C for  30 seconds.\n",
      "Ramp to 94C\n",
      "Soak at 94C for  20 seconds.\n",
      "Ramp to 60C\n",
      "Soak at 60C for  20 seconds.\n",
      "Ramp to 72C\n",
      "Soak at 72C for  30 seconds.\n",
      "Ramp to 94C\n",
      "Soak at 94C for  20 seconds.\n",
      "Ramp to 60C\n",
      "Soak at 60C for  20 seconds.\n",
      "Ramp to 72C\n",
      "Soak at 72C for  30 seconds.\n",
      "Ramp to 94C\n",
      "Soak at 94C for  20 seconds.\n",
      "Ramp to 60C\n",
      "Soak at 60C for  20 seconds.\n",
      "Ramp to 72C\n",
      "Soak at 72C for  30 seconds.\n",
      "Ramp to 94C\n",
      "Soak at 94C for  20 seconds.\n",
      "Ramp to 60C\n",
      "Soak at 60C for  20 seconds.\n",
      "Ramp to 72C\n",
      "Soak at 72C for  30 seconds.\n",
      "Ramp to 72C\n",
      "Soak at 72C for 600 seconds.\n",
      "Ramp to 30C\n",
      "Soak at 30C for   0 seconds.\n"
     ]
    }
   ],
   "source": [
    "# each soak period is preceeded by a ramp\n",
    "for time, temp in protocol:\n",
    "    print(f\"Ramp to {temp}C\")\n",
    "    print(f\"Soak at {temp}C for {time:3d} seconds.\" )"
   ]
  },
  {
   "cell_type": "markdown",
   "metadata": {},
   "source": [
    "The next step is to introduce a ramp rate and add variables to track the start time and temperature for each segment. We will assume all ramp rates have the same absolute value."
   ]
  },
  {
   "cell_type": "code",
   "execution_count": 53,
   "metadata": {},
   "outputs": [
    {
     "name": "stdout",
     "output_type": "stream",
     "text": [
      "Time =    0.0: Ramp to 95C\n",
      "Time -   29.6: Soak at 95C for 900 seconds\n",
      "Time =  929.6: Ramp to 94C\n",
      "Time -  930.0: Soak at 94C for 20 seconds\n",
      "Time =  950.0: Ramp to 60C\n",
      "Time -  963.6: Soak at 60C for 20 seconds\n",
      "Time =  983.6: Ramp to 72C\n",
      "Time -  988.4: Soak at 72C for 30 seconds\n",
      "Time = 1018.4: Ramp to 94C\n",
      "Time - 1027.2: Soak at 94C for 20 seconds\n",
      "Time = 1047.2: Ramp to 60C\n",
      "Time - 1060.8: Soak at 60C for 20 seconds\n",
      "Time = 1080.8: Ramp to 72C\n",
      "Time - 1085.6: Soak at 72C for 30 seconds\n",
      "Time = 1115.6: Ramp to 94C\n",
      "Time - 1124.4: Soak at 94C for 20 seconds\n",
      "Time = 1144.4: Ramp to 60C\n",
      "Time - 1158.0: Soak at 60C for 20 seconds\n",
      "Time = 1178.0: Ramp to 72C\n",
      "Time - 1182.8: Soak at 72C for 30 seconds\n",
      "Time = 1212.8: Ramp to 94C\n",
      "Time - 1221.6: Soak at 94C for 20 seconds\n",
      "Time = 1241.6: Ramp to 60C\n",
      "Time - 1255.2: Soak at 60C for 20 seconds\n",
      "Time = 1275.2: Ramp to 72C\n",
      "Time - 1280.0: Soak at 72C for 30 seconds\n",
      "Time = 1310.0: Ramp to 94C\n",
      "Time - 1318.8: Soak at 94C for 20 seconds\n",
      "Time = 1338.8: Ramp to 60C\n",
      "Time - 1352.4: Soak at 60C for 20 seconds\n",
      "Time = 1372.4: Ramp to 72C\n",
      "Time - 1377.2: Soak at 72C for 30 seconds\n",
      "Time = 1407.2: Ramp to 72C\n",
      "Time - 1407.2: Soak at 72C for 600 seconds\n",
      "Time = 2007.2: Ramp to 30C\n",
      "Time - 2024.0: Soak at 30C for 0 seconds\n"
     ]
    }
   ],
   "source": [
    "# add varibles to track current time and temperature\n",
    "# ramp period is determined by a \"ramp_rate\"\n",
    "ramp_rate = 2.5\n",
    "time_now = 0.0\n",
    "temp_now = 21.0\n",
    "\n",
    "for time, temp in protocol:\n",
    "    print(f\"Time = {time_now:6.1f}: Ramp to {temp}C\")\n",
    "    time_now += np.abs((temp - temp_now)/ramp_rate) \n",
    "    temp_now = temp\n",
    "    print(f\"Time - {time_now:6.1f}: Soak at {temp}C for {time} seconds\")\n",
    "    time_now += time"
   ]
  },
  {
   "cell_type": "markdown",
   "metadata": {},
   "source": [
    "### Finding the start and finish of each segment\n",
    "\n",
    "Finally, we create a two column numpy array representing the setpoint profile. The first row in the array is the starting time and temperature. Each subsequent row constains the ending time and temperature of a segment."
   ]
  },
  {
   "cell_type": "code",
   "execution_count": 54,
   "metadata": {},
   "outputs": [
    {
     "data": {
      "text/plain": [
       "array([[   0.,   21.],\n",
       "       [ 148.,   95.],\n",
       "       [1048.,   95.],\n",
       "       [1050.,   94.],\n",
       "       [1070.,   94.],\n",
       "       [1138.,   60.],\n",
       "       [1158.,   60.],\n",
       "       [1182.,   72.],\n",
       "       [1212.,   72.],\n",
       "       [1256.,   94.],\n",
       "       [1276.,   94.],\n",
       "       [1344.,   60.],\n",
       "       [1364.,   60.],\n",
       "       [1388.,   72.],\n",
       "       [1418.,   72.],\n",
       "       [1462.,   94.],\n",
       "       [1482.,   94.],\n",
       "       [1550.,   60.],\n",
       "       [1570.,   60.],\n",
       "       [1594.,   72.],\n",
       "       [1624.,   72.],\n",
       "       [1668.,   94.],\n",
       "       [1688.,   94.],\n",
       "       [1756.,   60.],\n",
       "       [1776.,   60.],\n",
       "       [1800.,   72.],\n",
       "       [1830.,   72.],\n",
       "       [1874.,   94.],\n",
       "       [1894.,   94.],\n",
       "       [1962.,   60.],\n",
       "       [1982.,   60.],\n",
       "       [2006.,   72.],\n",
       "       [2036.,   72.],\n",
       "       [2036.,   72.],\n",
       "       [2636.,   72.],\n",
       "       [2720.,   30.],\n",
       "       [2720.,   30.]])"
      ]
     },
     "execution_count": 54,
     "metadata": {},
     "output_type": "execute_result"
    }
   ],
   "source": [
    "# store the data in a list of time, temperature pairs marking the end of each period\n",
    "\n",
    "ramp_rate = 0.5 # deg/sec\n",
    "time_now = 0.0\n",
    "temp_now = 21.0\n",
    "\n",
    "# intialze a list with the starting time and temperature\n",
    "SP_list = [[time_now, temp_now]]\n",
    "\n",
    "# append the ending time and temperature to the list\n",
    "for time, temp in protocol:\n",
    "    # ramp\n",
    "    time_now += np.abs((temp - temp_now)/ramp_rate) \n",
    "    temp_now = temp\n",
    "    SP_list.append([time_now, temp_now])\n",
    "\n",
    "    # soak\n",
    "    time_now += time\n",
    "    SP_list.append([time_now, temp_now])\n",
    "\n",
    "# convert list to numpy array to access columns\n",
    "SP_array = np.array(SP_list)\n",
    "SP_array"
   ]
  },
  {
   "cell_type": "code",
   "execution_count": 55,
   "metadata": {},
   "outputs": [
    {
     "data": {
      "text/plain": [
       "[<matplotlib.lines.Line2D at 0x7ffdc1607eb0>]"
      ]
     },
     "execution_count": 55,
     "metadata": {},
     "output_type": "execute_result"
    },
    {
     "data": {
      "image/png": "[encoded data removed]",
      "text/plain": [
       "<Figure size 864x360 with 1 Axes>"
      ]
     },
     "metadata": {
      "needs_background": "light"
     },
     "output_type": "display_data"
    }
   ],
   "source": [
    "fig, ax = plt.subplots(1, 1, figsize=(12, 5))\n",
    "ax.plot(SP_array[:,0], SP_array[:,1], '.')"
   ]
  },
  {
   "cell_type": "markdown",
   "metadata": {},
   "source": [
    "### Finding the setpoint function by interpolating the start and end of each segment\n",
    "\n",
    "To implement control algorithms we will need to find values of the setpoint function at arbitrary points in time, not just at the start and finish of ramp or soak periods. The standard numpy library includes a linear interpolation function [`numpy.interp`](https://numpy.org/doc/stable/reference/generated/numpy.interp.html) well suited to this purpose."
   ]
  },
  {
   "cell_type": "code",
   "execution_count": 56,
   "metadata": {},
   "outputs": [
    {
     "data": {
      "text/plain": [
       "Text(0.5, 1.0, 'Setpoint function')"
      ]
     },
     "execution_count": 56,
     "metadata": {},
     "output_type": "execute_result"
    },
    {
     "data": {
      "image/png": "[encoded data removed]",
      "text/plain": [
       "<Figure size 864x360 with 1 Axes>"
      ]
     },
     "metadata": {
      "needs_background": "light"
     },
     "output_type": "display_data"
    }
   ],
   "source": [
    "# create function to interpolate\n",
    "\n",
    "def SP(t):\n",
    "    return np.interp(t, SP_array[:,0], SP_array[:, 1])\n",
    "\n",
    "# plotting the setpoint function\n",
    "t = np.linspace(-100, max(SP_array[:,0]), 2000)\n",
    "fig, ax = plt.subplots(1, 1, figsize=(12,5))\n",
    "ax.plot(t, SP(t))\n",
    "ax.set_title(\"Setpoint function\")"
   ]
  },
  {
   "cell_type": "markdown",
   "metadata": {},
   "source": [
    "### Creating a setpoint function for PCR thermal cycler\n",
    "\n",
    "The last step is to put all of these steps together to create a function that generates a setpoint function. This is an example of a very powerful coding technique of [nested functions](https://realpython.com/inner-functions-what-are-they-good-for/)."
   ]
  },
  {
   "cell_type": "code",
   "execution_count": 57,
   "metadata": {},
   "outputs": [
    {
     "data": {
      "text/plain": [
       "Text(0.5, 1.0, 'Setpoint function')"
      ]
     },
     "execution_count": 57,
     "metadata": {},
     "output_type": "execute_result"
    },
    {
     "data": {
      "image/png": "[encoded data removed]",
      "text/plain": [
       "<Figure size 864x360 with 1 Axes>"
      ]
     },
     "metadata": {
      "needs_background": "light"
     },
     "output_type": "display_data"
    }
   ],
   "source": [
    "# create the setpoint function from a specified PCR \n",
    "def PCR_setpoint(protocol):\n",
    "    \n",
    "    ramp_rate = 0.5 # deg/sec\n",
    "    time_now = 0.0\n",
    "    temp_now = 21.0\n",
    "\n",
    "    # intialze a list with the starting time and temperature\n",
    "    SP_list = [[time_now, temp_now]]\n",
    "\n",
    "    # append the ending time and temperature to the list\n",
    "    for time, temp in protocol:\n",
    "        # ramp\n",
    "        time_now += np.abs((temp - temp_now)/ramp_rate) \n",
    "        temp_now = temp\n",
    "        SP_list.append([time_now, temp_now])\n",
    "\n",
    "        # soak\n",
    "        time_now += time\n",
    "        SP_list.append([time_now, temp_now])\n",
    "\n",
    "    # convert list to numpy array to access columns\n",
    "    SP_array = np.array(SP_list)\n",
    "    \n",
    "    def SP(t):\n",
    "        return np.interp(t, SP_array[:,0], SP_array[:, 1])\n",
    "\n",
    "    return SP\n",
    "\n",
    "# create a setpoint function\n",
    "setpoint = PCR_setpoint(protocol)\n",
    "\n",
    "# plotting the setpoint function\n",
    "t = np.linspace(0, 3000, 3000)\n",
    "fig, ax = plt.subplots(1, 1, figsize=(12,5))\n",
    "ax.plot(t, setpoint(t))\n",
    "ax.set_title(\"Setpoint function\")"
   ]
  },
  {
   "cell_type": "markdown",
   "metadata": {},
   "source": [
    "<hr>\n",
    "\n",
    "**Study Question:** Change the protocol to include 30 thermal cycles, then create the setpoint function with `PCR_setpoint()` and plot the results.\n",
    "\n",
    "**Study Question:** To better reflect the unequal heating and cooling rates available in most PCR devices, modify `PCR_setpoint()` to provide differing ramp rates for positive going and negative going ramps. Demonstrate the result using a postive ramp_rate of 2.5 degC/sec and a negative ramp_rate of -0.5 degC/sec.\n",
    "\n",
    "<hr>"
   ]
  }
 ],
 "metadata": {
  "kernelspec": {
   "display_name": "Python 3 (ipykernel)",
   "language": "python",
   "name": "python3"
  },
  "language_info": {
   "codemirror_mode": {
    "name": "ipython",
    "version": 3
   },
   "file_extension": ".py",
   "mimetype": "text/x-python",
   "name": "python",
   "nbconvert_exporter": "python",
   "pygments_lexer": "ipython3",
   "version": "3.9.7"
  }
 },
 "nbformat": 4,
 "nbformat_minor": 4
}

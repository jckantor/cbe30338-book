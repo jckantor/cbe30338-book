{
 "cells": [
  {
   "cell_type": "code",
   "execution_count": null,
   "id": "b2c94fa0-13b8-42f3-a780-7fc0d40625b9",
   "metadata": {},
   "outputs": [],
   "source": []
  },
  {
   "cell_type": "markdown",
   "id": "d7ceb2b6-8255-4447-a93f-4df57ffbe367",
   "metadata": {},
   "source": [
    "## Lab Assignment 8\n",
    "\n",
    "The goal of this lab assignment is to extend the calculations shown above to the case of the four-state models with two manipulable inputs and independent setpoint functions for $T_{S,1}$ and $T_{S,2}$."
   ]
  },
  {
   "cell_type": "markdown",
   "id": "32840138-8a4a-4004-9c2f-f273002a5eea",
   "metadata": {},
   "source": [
    "### Exercise 1\n",
    "\n",
    "In a new cell, create reference inputs for sensor temperatures $T_{S,1}$ and $T_{S,2}$. The new reference trajectories should \n",
    "\n",
    "* Set the final time to 800 seconds. \n",
    "* Use the same ramp/soak specifications as above for $T_{S,1}$\n",
    "* For $T_{S,2}$, delay the ramp by 100 seconds, and set the soak temperature to 45C. The high temperature soak period should remain the same. The slopes of the ramps should remain the same. Plot your results."
   ]
  },
  {
   "cell_type": "markdown",
   "id": "ee47e3b9-e0a6-4c0e-baca-77c106fb5dfc",
   "metadata": {
    "jp-MarkdownHeadingCollapsed": true,
    "tags": []
   },
   "source": [
    "### Exercise 2\n",
    "\n",
    "Set up and solve for the heater control policies minimizing the sum of least squares between the sensor temperatures and reference trajectories. Create functions U1(t) and U2(t) that interpolate the solutions for u1(t) and u2(t) for any value of t. Plot the results."
   ]
  },
  {
   "cell_type": "markdown",
   "id": "d0d0423e-da1e-49ce-a70d-a7d27e5c5ee7",
   "metadata": {
    "jp-MarkdownHeadingCollapsed": true,
    "tags": []
   },
   "source": [
    "### Exercise 3\n",
    "\n",
    "Apply the functions U1(t) and U2(t) to your hardware and compare the measured sensor temperatures to those predicted in Exercise 2. How did you do?"
   ]
  }
 ],
 "metadata": {
  "kernelspec": {
   "display_name": "Python 3 (ipykernel)",
   "language": "python",
   "name": "python3"
  },
  "language_info": {
   "codemirror_mode": {
    "name": "ipython",
    "version": 3
   },
   "file_extension": ".py",
   "mimetype": "text/x-python",
   "name": "python",
   "nbconvert_exporter": "python",
   "pygments_lexer": "ipython3",
   "version": "3.9.7"
  }
 },
 "nbformat": 4,
 "nbformat_minor": 5
}

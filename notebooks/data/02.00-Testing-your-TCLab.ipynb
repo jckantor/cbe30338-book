{
 "cells": [
  {
   "cell_type": "markdown",
   "metadata": {},
   "source": [
    "# Operation of the Temperature Control Laboratory\n",
    "\n",
    "The primary purpose of this notebook is to test and verify correct operation of the Temperature Control Laboratory. Before starting, be sure the latest version of TCLab firmware has been installed on the Arduino, and the lastest version of the `tclab` has been installed on your laptop. The library can be installed by copying and runing the following command into a new code cell:\n",
    "\n",
    "    !pip install tclab\n",
    "    \n",
    "And prerequisite libraries, such as `pyserial` will be installed at the same time. To upgrade a previous installation, use\n",
    "\n",
    "    !pip install tclab --upgrade"
   ]
  },
  {
   "cell_type": "code",
   "execution_count": 33,
   "metadata": {},
   "outputs": [
    {
     "name": "stdout",
     "output_type": "stream",
     "text": [
      "Requirement already up-to-date: tclab in /Users/jeff/opt/anaconda3/lib/python3.7/site-packages (0.4.9)\n",
      "Requirement already satisfied, skipping upgrade: pyserial in /Users/jeff/opt/anaconda3/lib/python3.7/site-packages (from tclab) (3.4)\n"
     ]
    }
   ],
   "source": [
    "!pip install tclab --upgrade"
   ]
  },
  {
   "cell_type": "markdown",
   "metadata": {},
   "source": [
    "## Establishing connection with `tclab.TCLab`\n",
    "\n",
    "The interface to the Temperature Control Laboratory is established by creating an instance of a `TCLab` object from the `tclab` library. When all operations are complete, the instance should be closed. The following cell opens a serial connection to the TCLab hardware over USB, turns on the LED at 100% power, and then closes the connection. The output of this cell will report:\n",
    "\n",
    "* version number of the tclab Python library\n",
    "* device port and speed of the serial connection\n",
    "* version number of the TCLab firmware\n",
    "\n",
    "The LED will return to normal operation after 10 seconds."
   ]
  },
  {
   "cell_type": "code",
   "execution_count": 1,
   "metadata": {},
   "outputs": [
    {
     "name": "stdout",
     "output_type": "stream",
     "text": [
      "TCLab version 0.4.9\n",
      "Arduino Leonardo connected on port /dev/cu.usbmodem142101 at 115200 baud.\n",
      "TCLab Firmware 1.5.1 Arduino Leonardo/Micro.\n",
      "TCLab disconnected successfully.\n"
     ]
    }
   ],
   "source": [
    "from tclab import TCLab\n",
    "\n",
    "lab = TCLab()\n",
    "lab.LED(100)\n",
    "lab.close()"
   ]
  },
  {
   "cell_type": "markdown",
   "metadata": {},
   "source": [
    "The Python `with` statement provides a more convenient syntax for coding with the Temperature Control Laboratory.  The `with` statement creates an instance of `TCLab` and assigns the name given after `as`.  Once the code block is complete, the `TCLab.close()` command is executed automatically.  Generally speaking, this is the preferred syntax for coding with TCLab."
   ]
  },
  {
   "cell_type": "code",
   "execution_count": 37,
   "metadata": {},
   "outputs": [
    {
     "name": "stdout",
     "output_type": "stream",
     "text": [
      "TCLab version 0.4.9\n",
      "Arduino Leonardo connected on port /dev/cu.usbmodem142101 at 115200 baud.\n",
      "TCLab Firmware 1.5.1 Arduino Leonardo/Micro.\n",
      "TCLab disconnected successfully.\n"
     ]
    }
   ],
   "source": [
    "from tclab import TCLab\n",
    "\n",
    "with TCLab() as lab:\n",
    "    lab.LED(100)"
   ]
  },
  {
   "cell_type": "markdown",
   "metadata": {},
   "source": [
    "The following code uses the `TCLab.LED()` command to cause the LED to blink on and off at 100% brightness once a second for five seconds. The standard Python library function `time.sleep()` is used to pause execution."
   ]
  },
  {
   "cell_type": "code",
   "execution_count": 38,
   "metadata": {},
   "outputs": [
    {
     "name": "stdout",
     "output_type": "stream",
     "text": [
      "TCLab version 0.4.9\n",
      "Arduino Leonardo connected on port /dev/cu.usbmodem142101 at 115200 baud.\n",
      "TCLab Firmware 1.5.1 Arduino Leonardo/Micro.\n",
      "TCLab disconnected successfully.\n"
     ]
    }
   ],
   "source": [
    "from tclab import TCLab\n",
    "import time\n",
    "\n",
    "with TCLab() as lab:\n",
    "    for k in range(0, 5):        # repeat 5 times\n",
    "        lab.LED(100)             # LED set to 100%\n",
    "        time.sleep(0.5)          # sleep for 0.5 seconds\n",
    "        lab.LED(0)               # LED set to 0%\n",
    "        time.sleep(0.5)          # sleep for 0.5 seconds"
   ]
  },
  {
   "cell_type": "markdown",
   "metadata": {},
   "source": [
    "## Reading the temperature sensors\n",
    "\n",
    "The temperatures measured by the thermisters located on the TCLab are accessed as if they were Python variables `TCLab.T1` and `TCLab.T2`. The following cell accesses and prints the current temperatures of the two thermisters."
   ]
  },
  {
   "cell_type": "code",
   "execution_count": 39,
   "metadata": {},
   "outputs": [
    {
     "name": "stdout",
     "output_type": "stream",
     "text": [
      "TCLab version 0.4.9\n",
      "Arduino Leonardo connected on port /dev/cu.usbmodem142101 at 115200 baud.\n",
      "TCLab Firmware 1.5.1 Arduino Leonardo/Micro.\n",
      "Temperature 1: 24.77 C\n",
      "Temperature 2: 24.77 C\n",
      "TCLab disconnected successfully.\n"
     ]
    }
   ],
   "source": [
    "from tclab import TCLab\n",
    "\n",
    "with TCLab() as lab:\n",
    "    print(\"Temperature 1: {0:0.2f} C\".format(lab.T1))\n",
    "    print(\"Temperature 2: {0:0.2f} C\".format(lab.T2))"
   ]
  },
  {
   "cell_type": "markdown",
   "metadata": {},
   "source": [
    "## Setting Heater Power\n",
    "\n",
    "Power for the heaters on the Temperature Control Lab is provided through a USB power cord and a USB power supply. Too achieve the maximum operating envelope the power supply should be capable of 2 amps or 10 watts.\n",
    "\n",
    "The power to each heater is the specified as the product of a specified maximum power multiplied by the percentaage of that power to use.  For heater 1, the maximum power is specified by the variable `TCLab.P1` and the percentage of power to use by `TCLab.U1`. A similar rule holds for heater 2.\n",
    "\n",
    "The applied power, in watts, for heaters 1 and 2 are given by\n",
    "\n",
    "    lab = TCLab()\n",
    "    power_in_watts_heater_1 = 0.013 * lab.P1 * lab.U1 / 100\n",
    "    power_in_watts_heater_2 = 0.013 * lab.P2 * lab.U2 / 100\n",
    "    \n",
    "where the value 0.013 is a conversion from values used in the coding to actual power in measured in watts. "
   ]
  },
  {
   "cell_type": "markdown",
   "metadata": {},
   "source": [
    "### Setting maximum power levels `tclab.TCLab.P1` and `tclab.TCLab.P2`\n",
    "\n",
    "The maximum power available from each heater is adjusted assigning values in the range from 0 to 255 to variables `TCLab.P1` and `TCLab.P2`. Default values of 200 and 100, respectively, are assigned upon the start of a new connection.\n",
    "\n",
    "To convert `TCLab.P1` and `TCLab.P2` values to watts, multiply by a conversion factor of 0.013 watts/unit."
   ]
  },
  {
   "cell_type": "code",
   "execution_count": 58,
   "metadata": {},
   "outputs": [
    {
     "name": "stdout",
     "output_type": "stream",
     "text": [
      "TCLab version 0.4.9\n",
      "Arduino Leonardo connected on port /dev/cu.usbmodem142101 at 115200 baud.\n",
      "TCLab Firmware 1.5.1 Arduino Leonardo/Micro.\n",
      "Startup conditions\n",
      "Maximum power of heater 1: 200.0 = 2.6 watts\n",
      "Maximum power of heater 1: 100.0 = 1.3 watts\n",
      "\n",
      "Set maximum power to 255\n",
      "Maximum power of heater 1: 255.0 = 3.315 watts\n",
      "Maximum power of heater 1: 255.0 = 3.315 watts\n",
      "TCLab disconnected successfully.\n"
     ]
    }
   ],
   "source": [
    "from tclab import TCLab\n",
    "\n",
    "with TCLab() as lab:\n",
    "    print(\"Startup conditions\")\n",
    "    print(\"Maximum power of heater 1:\", lab.P1, \"=\", lab.P1*0.013, \"watts\")\n",
    "    print(\"Maximum power of heater 1:\", lab.P2, \"=\", lab.P2*0.013, \"watts\")\n",
    "    print()\n",
    "    print(\"Set maximum power to 255\")\n",
    "    lab.P1 = 255\n",
    "    lab.P2 = 255\n",
    "    print(\"Maximum power of heater 1:\", lab.P1, \"=\", lab.P1*0.013, \"watts\")\n",
    "    print(\"Maximum power of heater 1:\", lab.P2, \"=\", lab.P2*0.013, \"watts\")    "
   ]
  },
  {
   "cell_type": "markdown",
   "metadata": {},
   "source": [
    "### Setting heater power levels `tclab.TCLab.U1` and `tclab.TCLab.U2`\n",
    "\n",
    "The power to each heater can be accessed or set with variables `TCLab.U1` and `TCLab.U2` with values ranging from 0 to 100."
   ]
  },
  {
   "cell_type": "code",
   "execution_count": 70,
   "metadata": {},
   "outputs": [
    {
     "name": "stdout",
     "output_type": "stream",
     "text": [
      "TCLab version 0.4.9\n",
      "Arduino Leonardo connected on port /dev/cu.usbmodem142101 at 115200 baud.\n",
      "TCLab Firmware 1.5.1 Arduino Leonardo/Micro.\n",
      "\n",
      "Starting Temperature 1: 49.59 C\n",
      "Starting Temperature 2: 39.60 C\n",
      "\n",
      "Maximum power of heater 1: 200.0 = 2.6 watts\n",
      "Maximum power of heater 2: 100.0 = 1.3 watts\n",
      "\n",
      "Set Heater 1: 100.0 %\n",
      "Set Heater 2: 100.0 %\n",
      "\n",
      "Heat for 60 seconds\n",
      "\n",
      "Set Heater 1: 0.0 %\n",
      "Set Heater 2: 0.0 %\n",
      "\n",
      "Final Temperature 1: 54.75 C\n",
      "Final Temperature 2: 43.47 C\n",
      "\n",
      "TCLab disconnected successfully.\n"
     ]
    }
   ],
   "source": [
    "from tclab import TCLab\n",
    "import time\n",
    "\n",
    "with TCLab() as lab:\n",
    "    print()\n",
    "    print(\"Starting Temperature 1: {0:0.2f} C\".format(lab.T1), flush=True)\n",
    "    print(\"Starting Temperature 2: {0:0.2f} C\".format(lab.T2), flush=True)\n",
    "    \n",
    "    print()\n",
    "    print(\"Maximum power of heater 1:\", lab.P1, \"=\", 0.013*lab.P1, \"watts\")\n",
    "    print(\"Maximum power of heater 2:\", lab.P2, \"=\", 0.013*lab.P2, \"watts\")\n",
    "    \n",
    "    print()\n",
    "    print(\"Set Heater 1:\", lab.Q1(100), \"%\", flush=True)\n",
    "    print(\"Set Heater 2:\", lab.Q2(100), \"%\", flush=True)\n",
    "    \n",
    "    t_heat = 60\n",
    "    print()\n",
    "    print(\"Heat for\", t_heat, \"seconds\")\n",
    "    time.sleep(t_heat)\n",
    "\n",
    "    print()\n",
    "    print(\"Set Heater 1:\", lab.Q1(0), \"%\",flush=True)\n",
    "    print(\"Set Heater 2:\", lab.Q2(0), \"%\",flush=True)\n",
    "    \n",
    "    print()\n",
    "    print(\"Final Temperature 1: {0:0.2f} C\".format(lab.T1))\n",
    "    print(\"Final Temperature 2: {0:0.2f} C\".format(lab.T2))\n",
    "    print()"
   ]
  },
  {
   "cell_type": "markdown",
   "metadata": {},
   "source": [
    "### Setting heater power levels TCLab.Q1() and TCLab.Q2()\n",
    "\n",
    "Earlier versions of the Temperature Control Lab used functions `TCLab.Q1()` and `TCLab.Q2()` to set the percentage of maximum power applied to heaters 1 and 2, respectively.  These are functionally equivalent to assigning values to `TCLab.P1` and `TCLab.P2`.  "
   ]
  },
  {
   "cell_type": "markdown",
   "metadata": {},
   "source": [
    "## Synchronizing with real time using `tclab.clock(tperiod, tsample)`\n",
    "\n",
    "Coding for the Temperature Control Laboratory will typically include a code block that must be executed at regular intervals for a period of time.  `tclab.clock(tperiod, tsample)` is a Python iterator designed to simplify coding for those applications, where `tperiod` is the period of operation and `tsample` is the time between executions of the code block. \n",
    "\n",
    "The following code will print \"Hello, World\" every two seconds for sixty seconds.\n",
    "\n",
    "    from tclab import TCLab, clock\n",
    "    \n",
    "    with TCLab() as lab:\n",
    "        for t in clock(60, 2):\n",
    "            pass\n",
    "\n",
    "The following code cell demonstrates use of `tclab.clock()` to read a series of temperature measurements."
   ]
  },
  {
   "cell_type": "code",
   "execution_count": 3,
   "metadata": {},
   "outputs": [
    {
     "name": "stdout",
     "output_type": "stream",
     "text": [
      "TCLab version 0.4.9\n",
      "Arduino Leonardo connected on port /dev/cu.usbmodem142101 at 115200 baud.\n",
      "TCLab Firmware 1.5.1 Arduino Leonardo/Micro.\n",
      "\n",
      "Set Heater 1 to 100.0% of max power of 200.0 units\n",
      "Set Heater 2 to 100.0% of max power of 100.0 units\n",
      "\n",
      "     0.0 sec:   T1 = 29.0 C    T2 = 28.6 C\n",
      "     2.0 sec:   T1 = 29.0 C    T2 = 28.6 C\n",
      "     4.0 sec:   T1 = 29.0 C    T2 = 28.6 C\n",
      "     6.0 sec:   T1 = 29.0 C    T2 = 28.6 C\n",
      "     8.0 sec:   T1 = 28.6 C    T2 = 28.6 C\n",
      "    10.0 sec:   T1 = 28.6 C    T2 = 28.6 C\n",
      "    12.0 sec:   T1 = 28.6 C    T2 = 28.6 C\n",
      "    14.0 sec:   T1 = 28.6 C    T2 = 28.6 C\n",
      "    16.0 sec:   T1 = 28.6 C    T2 = 28.6 C\n",
      "    18.0 sec:   T1 = 28.6 C    T2 = 28.3 C\n",
      "    20.0 sec:   T1 = 28.6 C    T2 = 29.3 C\n",
      "    22.0 sec:   T1 = 28.6 C    T2 = 28.3 C\n",
      "    24.0 sec:   T1 = 28.6 C    T2 = 29.3 C\n",
      "    26.0 sec:   T1 = 29.0 C    T2 = 29.3 C\n",
      "    28.0 sec:   T1 = 29.0 C    T2 = 28.6 C\n",
      "    30.0 sec:   T1 = 29.3 C    T2 = 28.6 C\n",
      "    32.0 sec:   T1 = 29.6 C    T2 = 29.9 C\n",
      "    34.0 sec:   T1 = 29.9 C    T2 = 29.0 C\n",
      "    36.0 sec:   T1 = 30.2 C    T2 = 29.3 C\n",
      "    38.0 sec:   T1 = 30.9 C    T2 = 30.2 C\n",
      "    40.0 sec:   T1 = 31.2 C    T2 = 29.6 C\n",
      "    42.0 sec:   T1 = 31.5 C    T2 = 30.9 C\n",
      "    44.0 sec:   T1 = 31.9 C    T2 = 29.9 C\n",
      "    46.0 sec:   T1 = 32.5 C    T2 = 31.2 C\n",
      "    48.0 sec:   T1 = 32.8 C    T2 = 30.6 C\n",
      "    50.0 sec:   T1 = 33.5 C    T2 = 31.5 C\n",
      "    52.0 sec:   T1 = 33.8 C    T2 = 30.9 C\n",
      "    54.0 sec:   T1 = 34.4 C    T2 = 32.2 C\n",
      "    56.0 sec:   T1 = 34.8 C    T2 = 31.2 C\n",
      "    58.0 sec:   T1 = 35.4 C    T2 = 32.5 C\n",
      "    60.0 sec:   T1 = 35.7 C    T2 = 31.9 C\n",
      "TCLab disconnected successfully.\n"
     ]
    }
   ],
   "source": [
    "from tclab import TCLab, clock\n",
    "\n",
    "tperiod = 60\n",
    "tsample = 2\n",
    "\n",
    "# connect to the temperature control lab\n",
    "\n",
    "with TCLab() as lab:\n",
    "    # turn heaters on\n",
    "    print()\n",
    "    lab.P1 = 200\n",
    "    lab.P2 = 100\n",
    "    \n",
    "    lab.U1 = 100\n",
    "    lab.U2 = 100\n",
    "    print(\"Set Heater 1 to {0:0.1f}% of max power of {1:0.1f} units\".format(lab.U1, lab.P1))\n",
    "    print(\"Set Heater 2 to {0:0.1f}% of max power of {1:0.1f} units\".format(lab.U2, lab.P2))\n",
    "\n",
    "    # report temperatures for the next tperiod seconds\n",
    "    print()\n",
    "    for t in clock(tperiod, tsample):\n",
    "        print(\"   {0:5.1f} sec:   T1 = {1:0.1f} C    T2 = {2:0.1f} C\".format(t, lab.T1, lab.T2), flush=True)\n",
    "        \n",
    "    lab.U1 = 0\n",
    "    lab.U2 = 0"
   ]
  },
  {
   "cell_type": "markdown",
   "metadata": {},
   "source": [
    "## Data logging with `tclab.Historian`\n",
    "\n",
    "A common requirement in commercial process control systems is to maintain a log of all important process data. `tclab.Historian` is a simple implementation of data historian for the Temperature Control Laboratory.\n",
    "\n",
    "An instance of the `tclab.Historian` from a list of data sources after a connection has been created with `tclab.TCLab`. The data sources are name/function pairs where the function creates the value to be logged. "
   ]
  },
  {
   "cell_type": "code",
   "execution_count": 52,
   "metadata": {},
   "outputs": [
    {
     "name": "stdout",
     "output_type": "stream",
     "text": [
      "TCLab version 0.4.9\n",
      "Arduino Leonardo connected on port /dev/cu.usbmodem142101 at 115200 baud.\n",
      "TCLab Firmware 1.5.1 Arduino Leonardo/Micro.\n",
      "TCLab disconnected successfully.\n"
     ]
    }
   ],
   "source": [
    "from tclab import TCLab, clock, Historian\n",
    "    \n",
    "with TCLab() as lab:\n",
    "    sources = [\n",
    "        ('T1', lambda: lab.T1),\n",
    "        ('T2', lambda: lab.T2),\n",
    "        ('P1', lambda: lab.P1),\n",
    "        ('U1', lambda: lab.U1),\n",
    "        ('P2', lambda: lab.P2),\n",
    "        ('U2', lambda: lab.U2),\n",
    "    ]\n",
    "    h = Historian(sources)\n",
    "    lab.U1 = 100\n",
    "    for t in clock(30, 2):\n",
    "        h.update(t)"
   ]
  },
  {
   "cell_type": "code",
   "execution_count": 54,
   "metadata": {},
   "outputs": [
    {
     "name": "stdout",
     "output_type": "stream",
     "text": [
      "        Time     T1     T2     P1     U1     P2   U2\n",
      "Time                                                \n",
      "0.00    0.00  26.06  24.77  200.0  100.0  100.0  0.0\n",
      "2.00    2.00  26.06  24.77  200.0  100.0  100.0  0.0\n",
      "4.00    4.00  26.06  24.45  200.0  100.0  100.0  0.0\n",
      "6.00    6.00  26.06  24.45  200.0  100.0  100.0  0.0\n",
      "8.00    8.00  26.06  24.45  200.0  100.0  100.0  0.0\n",
      "10.00  10.00  26.06  24.77  200.0  100.0  100.0  0.0\n",
      "12.00  12.00  25.74  24.45  200.0  100.0  100.0  0.0\n",
      "14.01  14.01  25.74  24.45  200.0  100.0  100.0  0.0\n",
      "16.01  16.01  25.74  24.45  200.0  100.0  100.0  0.0\n",
      "18.01  18.01  25.74  24.45  200.0  100.0  100.0  0.0\n",
      "20.00  20.00  25.74  24.45  200.0  100.0  100.0  0.0\n",
      "22.00  22.00  25.74  24.45  200.0  100.0  100.0  0.0\n",
      "24.00  24.00  25.74  24.45  200.0  100.0  100.0  0.0\n",
      "26.00  26.00  25.74  24.45  200.0  100.0  100.0  0.0\n",
      "28.00  28.00  25.74  24.45  200.0  100.0  100.0  0.0\n",
      "30.00  30.00  25.74  24.45  200.0  100.0  100.0  0.0\n"
     ]
    },
    {
     "data": {
      "text/plain": [
       "<matplotlib.axes._subplots.AxesSubplot at 0x122d62890>"
      ]
     },
     "execution_count": 54,
     "metadata": {},
     "output_type": "execute_result"
    },
    {
     "data": {
      "image/png": "[encoded data removed]",
      "text/plain": [
       "<Figure size 432x288 with 1 Axes>"
      ]
     },
     "metadata": {
      "needs_background": "light"
     },
     "output_type": "display_data"
    },
    {
     "data": {
      "image/png": "[encoded data removed]",
      "text/plain": [
       "<Figure size 432x288 with 1 Axes>"
      ]
     },
     "metadata": {
      "needs_background": "light"
     },
     "output_type": "display_data"
    }
   ],
   "source": [
    "# plotting\n",
    "import matplotlib.pyplot as plt\n",
    "t, T1, T2, P1, U1, P2, U2 = h.fields\n",
    "plt.plot(t, T1, t, T2)\n",
    "plt.legend(['T1', 'T2'])\n",
    "\n",
    "# saving to a file\n",
    "h.to_csv('data.csv')\n",
    "\n",
    "# reading from file and plotting with pandas\n",
    "import pandas as pd\n",
    "data = pd.read_csv('data.csv')\n",
    "data.index = data['Time']\n",
    "print(data)\n",
    "data.plot(grid=True)"
   ]
  },
  {
   "cell_type": "markdown",
   "metadata": {},
   "source": [
    "## Real time plotting with `tclab.Plotter`\n",
    "\n",
    "The `tclab.Plotter` class adds to the functionality of `tclab.Historian` by providing real-time plotting of experimental data. An instance of a plotter is created after an historian has been created.\n",
    "\n",
    "    h = Historian(sources)\n",
    "    p = Plotter(h, tperiod)\n",
    "    \n",
    "The plotter is updated by\n",
    "\n",
    "    p.update(t)\n",
    "    \n",
    "which also updates the associated historian. "
   ]
  },
  {
   "cell_type": "code",
   "execution_count": 58,
   "metadata": {},
   "outputs": [
    {
     "data": {
      "image/png": "[encoded data removed]",
      "text/plain": [
       "<Figure size 640x720 with 6 Axes>"
      ]
     },
     "metadata": {},
     "output_type": "display_data"
    },
    {
     "name": "stdout",
     "output_type": "stream",
     "text": [
      "TCLab disconnected successfully.\n"
     ]
    },
    {
     "data": {
      "image/png": "[encoded data removed]",
      "text/plain": [
       "<Figure size 640x720 with 6 Axes>"
      ]
     },
     "metadata": {
      "needs_background": "light"
     },
     "output_type": "display_data"
    }
   ],
   "source": [
    "from tclab import TCLab, clock, Historian, Plotter\n",
    "\n",
    "tperiod = 120\n",
    "tsample = 2\n",
    "    \n",
    "with TCLab() as lab:\n",
    "    sources = [\n",
    "        ('T1', lambda: lab.T1),\n",
    "        ('T2', lambda: lab.T2),\n",
    "        ('P1', lambda: lab.P1),\n",
    "        ('U1', lambda: lab.U1),\n",
    "        ('P2', lambda: lab.P2),\n",
    "        ('U2', lambda: lab.U2),\n",
    "    ]\n",
    "    h = Historian(sources)\n",
    "    p = Plotter(h, 60)\n",
    "    lab.P1 = 255\n",
    "    lab.U1 = 100\n",
    "    for t in clock(tperiod, tsample):\n",
    "        p.update(t)"
   ]
  },
  {
   "cell_type": "markdown",
   "metadata": {},
   "source": [
    "## Example Application: Relay Control"
   ]
  },
  {
   "cell_type": "code",
   "execution_count": 60,
   "metadata": {},
   "outputs": [
    {
     "data": {
      "image/png": "[encoded data removed]",
      "text/plain": [
       "<Figure size 640x360 with 3 Axes>"
      ]
     },
     "metadata": {},
     "output_type": "display_data"
    },
    {
     "name": "stdout",
     "output_type": "stream",
     "text": [
      "TCLab disconnected successfully.\n"
     ]
    },
    {
     "data": {
      "image/png": "[encoded data removed]",
      "text/plain": [
       "<Figure size 640x360 with 3 Axes>"
      ]
     },
     "metadata": {
      "needs_background": "light"
     },
     "output_type": "display_data"
    }
   ],
   "source": [
    "from tclab import TCLab, clock, Historian, Plotter\n",
    "\n",
    "tperiod = 120\n",
    "tsample = 2\n",
    "Tsetpoint = 35\n",
    "    \n",
    "with TCLab() as lab:\n",
    "    sources = [\n",
    "        ('T1', lambda: lab.T1),\n",
    "        ('P1', lambda: lab.P1),\n",
    "        ('U1', lambda: lab.U1),\n",
    "    ]\n",
    "    h = Historian(sources)\n",
    "    p = Plotter(h, 60)\n",
    "    lab.P1 = 255\n",
    "    for t in clock(tperiod, tsample):\n",
    "        lab.U1 = 100 if lab.T1 < Tsetpoint else 0\n",
    "        p.update(t)"
   ]
  }
 ],
 "metadata": {
  "kernelspec": {
   "display_name": "Python 3",
   "language": "python",
   "name": "python3"
  },
  "language_info": {
   "codemirror_mode": {
    "name": "ipython",
    "version": 3
   },
   "file_extension": ".py",
   "mimetype": "text/x-python",
   "name": "python",
   "nbconvert_exporter": "python",
   "pygments_lexer": "ipython3",
   "version": "3.7.4"
  }
 },
 "nbformat": 4,
 "nbformat_minor": 4
}

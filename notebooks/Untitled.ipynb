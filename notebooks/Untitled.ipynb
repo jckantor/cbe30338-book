{
 "cells": [
  {
   "cell_type": "markdown",
   "id": "8a871981-badb-4f96-97b9-89b206bcc5dd",
   "metadata": {},
   "source": [
    "# Time as a Decision Variable\n",
    "\n",
    "It often that time is an important decision variable in process optimization. Questions like \"when will the concentration reach peak value?\", or \"how fast can this separation be done?\", or \"when will the temperature reach the target value?\" are situations where the time becomes a decision variable or even the primary objective for optimization. \n",
    "\n",
    "The purpose of this notebook is to demonstrate how rescaling time can be useful in problems like these. This is not a universal solution for all problems involving time, but it definitely should be part of your modeling toolkit.\n",
    "\n",
    "$$\\frac{dC}{dt} = -\\frac{k_1 C}{k_2 + C}$$\n",
    "\n",
    "$$\\frac{1}{t_f}\\frac{dC}{d\\tau} = -\\frac{k_1 C}{k_2 + C}$$\n",
    "\n",
    "$$\\frac{dC}{d\\tau} = -t_f\\left(\\frac{k_1 C}{k_2 + C} + u(t)\\right)$$\n",
    "\n",
    "Objectives:\n",
    "\n",
    "* Keep the total amount of u(t) small\n",
    "* To a final concentration of 0.5\n",
    "\n",
    "$$\\int_0^{t_f} e^{rt}u(t) dt = t_f\\int_0^{1} u(\\tau) d\\tau$$\n"
   ]
  },
  {
   "cell_type": "code",
   "execution_count": 17,
   "id": "44bfb10c-15a7-4ca4-867d-cc641a2f1efa",
   "metadata": {},
   "outputs": [
    {
     "name": "stdout",
     "output_type": "stream",
     "text": [
      "2.0\n"
     ]
    }
   ],
   "source": [
    "import pyomo.environ as pyo\n",
    "import pyomo.dae as dae\n",
    "\n",
    "k1 =  1\n",
    "k2 = 0.5\n",
    "\n",
    "IC = 1.0\n",
    "\n",
    "m = pyo.ConcreteModel()\n",
    "\n",
    "m.tau = dae.ContinuousSet(bounds=(0, 1))\n",
    "m.C = pyo.Var(m.tau, domain=pyo.NonNegativeReals)\n",
    "m.tf = pyo.Var(domain=pyo.NonNegativeReals)\n",
    "m.u = pyo.Var(m.tau, domain=pyo.NonNegativeReals, bounds=(0, 3))\n",
    "\n",
    "\n",
    "@m.Constraint(m.tau)\n",
    "def my_odd_constraint(m, tau):\n",
    "    if tau >= 0.5 and tau <= 0.75:\n",
    "        return m.u[tau] = 1.0\n",
    "    else:\n",
    "        return pyo.Constraint.Skip\n",
    "\n",
    "m.dCdt = dae.DerivativeVar(m.C)\n",
    "\n",
    "@m.Integral(m.tau)\n",
    "def integral_of_u(m, tau):\n",
    "    return m.tf*m.u[tau]\n",
    "\n",
    "@m.Constraint(m.tau)\n",
    "def ode_model(m, tau):\n",
    "    return m.dCdt[tau] == -m.tf * k1 * m.C[tau]/(k2 + m.C[tau]) + m.tf*m.u[tau]\n",
    "\n",
    "@m.Objective(sense=pyo.minimize)\n",
    "def min_u(m):\n",
    "    return m.integral_of_u\n",
    "\n",
    "@m.Constraint()\n",
    "def final_time(m):\n",
    "    return m.tf == 2.0\n",
    "\n",
    "m.C[0].fix(IC)\n",
    "m.C[1].fix(IC/2)\n",
    "\n",
    "pyo.TransformationFactory('dae.finite_difference').apply_to(m, nfe=100, scheme='FORWARD')\n",
    "pyo.SolverFactory('ipopt').solve(m)\n",
    "print(m.tf())"
   ]
  },
  {
   "cell_type": "markdown",
   "id": "70a8cf13-58bd-4091-8fb3-985fa81c1e1a",
   "metadata": {},
   "source": [
    "$$\\frac{dC}{dt} = - \\frac{k_1 C}{k_2 + C}$$"
   ]
  },
  {
   "cell_type": "code",
   "execution_count": 16,
   "id": "c905cedb-a319-45f2-b8bb-e56f6826a502",
   "metadata": {},
   "outputs": [
    {
     "data": {
      "text/plain": [
       "[<matplotlib.lines.Line2D at 0x7fc0dc494520>]"
      ]
     },
     "execution_count": 16,
     "metadata": {},
     "output_type": "execute_result"
    },
    {
     "data": {
      "image/png": "[encoded data removed]",
      "text/plain": [
       "<Figure size 432x288 with 1 Axes>"
      ]
     },
     "metadata": {
      "needs_background": "light"
     },
     "output_type": "display_data"
    }
   ],
   "source": [
    "import matplotlib.pyplot as plt\n",
    "import numpy as np\n",
    "\n",
    "plt.plot(m.tau, [m.u[tau]() for tau in m.tau])\n",
    "plt.plot(m.tau, [m.C[tau]() for tau in m.tau])\n"
   ]
  },
  {
   "cell_type": "code",
   "execution_count": 9,
   "id": "9eb1b01d-4be0-4ed9-9243-25e0b48caf0c",
   "metadata": {},
   "outputs": [
    {
     "data": {
      "text/plain": [
       "{'Problem': [{'Lower bound': -inf, 'Upper bound': inf, 'Number of objectives': 1, 'Number of constraints': 201, 'Number of variables': 201, 'Sense': 'unknown'}], 'Solver': [{'Status': 'ok', 'Message': 'Ipopt 3.13.4\\\\x3a Optimal Solution Found', 'Termination condition': 'optimal', 'Id': 0, 'Error rc': 0, 'Time': 0.41997814178466797}], 'Solution': [OrderedDict([('number of solutions', 0), ('number of solutions displayed', 0)])]}"
      ]
     },
     "execution_count": 9,
     "metadata": {},
     "output_type": "execute_result"
    }
   ],
   "source": [
    "import pyomo.environ as pyo\n",
    "import pyomo.dae as dae\n",
    "\n",
    "k1 =  1\n",
    "k2 = 0.5\n",
    "\n",
    "IC = 1.0\n",
    "\n",
    "m = pyo.ConcreteModel()\n",
    "\n",
    "m.t = dae.ContinuousSet(bounds=(0, 5))\n",
    "m.C = pyo.Var(m.t, domain=pyo.NonNegativeReals)\n",
    "\n",
    "m.dCdt = dae.DerivativeVar(m.C)\n",
    "\n",
    "@m.Constraint(m.t)\n",
    "def ode_model(m, t):\n",
    "    return m.dCdt[t] == - k1 * m.C[t]/(k2 + m.C[t])\n",
    "\n",
    "m.C[0].fix(IC)\n",
    "\n",
    "\n",
    "pyo.TransformationFactory('dae.finite_difference').apply_to(m, nfe=100, scheme='FORWARD')\n",
    "pyo.SolverFactory('ipopt').solve(m)"
   ]
  },
  {
   "cell_type": "code",
   "execution_count": 10,
   "id": "d5bc61f8-6166-4cad-92ee-3eb2cf5b7b62",
   "metadata": {},
   "outputs": [
    {
     "data": {
      "text/plain": [
       "[<matplotlib.lines.Line2D at 0x7f8238816ac0>]"
      ]
     },
     "execution_count": 10,
     "metadata": {},
     "output_type": "execute_result"
    },
    {
     "data": {
      "image/png": "[encoded data removed]",
      "text/plain": [
       "<Figure size 432x288 with 1 Axes>"
      ]
     },
     "metadata": {
      "needs_background": "light"
     },
     "output_type": "display_data"
    }
   ],
   "source": [
    "import matplotlib.pyplot as plt\n",
    "import numpy as np\n",
    "\n",
    "plt.plot(m.t, [m.C[t]() for t in m.t])"
   ]
  },
  {
   "cell_type": "code",
   "execution_count": null,
   "id": "8108552a-32c6-49f2-a5c1-d3e127e86f99",
   "metadata": {},
   "outputs": [],
   "source": []
  }
 ],
 "metadata": {
  "kernelspec": {
   "display_name": "Python 3 (ipykernel)",
   "language": "python",
   "name": "python3"
  },
  "language_info": {
   "codemirror_mode": {
    "name": "ipython",
    "version": 3
   },
   "file_extension": ".py",
   "mimetype": "text/x-python",
   "name": "python",
   "nbconvert_exporter": "python",
   "pygments_lexer": "ipython3",
   "version": "3.9.7"
  }
 },
 "nbformat": 4,
 "nbformat_minor": 5
}

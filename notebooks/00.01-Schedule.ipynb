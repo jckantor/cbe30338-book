{
 "cells": [
  {
   "cell_type": "markdown",
   "metadata": {
    "pycharm": {}
   },
   "source": [
    "# Schedule and Course Organization (old 2021)"
   ]
  },
  {
   "cell_type": "markdown",
   "metadata": {
    "pycharm": {}
   },
   "source": [
    "## Getting Started\n",
    "\n",
    "**CBE 30338/32338 Chemical Process Control** will be conducted as an in-person course for the 2022 Spring semeter. Please use the period before the start of the semester to prepare your systems and technology. Pay attention to the following the following details:\n",
    "\n",
    "* A major component of the course is hands-on use of real hardware to implement working control systems. You will need to purchase an individual copy of the **Temperature Control Labortory** available through [Amazon](https://www.amazon.com/TCLab-Temperature-Control-Lab/dp/B07GMFWMRY) and [apmonitor.com](https://apmonitor.com/pdc/index.php/Main/PurchaseLabKit). You will need the device no later than the first Friday of the first week of class.\n",
    "\n",
    "* The Temperature Control Lab uses a USB-A port. If your laptop is a newer model with only USB-C ports then you will need to purchase a USB-C to USB-A adaptor ([such as this for an Apple Mac](https://www.amazon.com/Apple-USB-C-to-USB-Adapter/dp/B00VU2OID2/)), or USB-C docking station ([like this](https://www.amazon.com/LENTION-Multi-Port-Compatible-2020-2016-Chromebook/dp/B07FNH5Y84/) from LENTION).\n",
    "\n",
    "* Course materials will be available through this repository and from open-source materials avaiable throught the web."
   ]
  },
  {
   "cell_type": "markdown",
   "metadata": {
    "pycharm": {}
   },
   "source": [
    "## Introduction to the Course and Process Control\n",
    "\n",
    "| Weeks | Unit |\n",
    "| :--: | :-- |\n",
    "| 1 | Introductions to the Course, Process Control, and TC Lab |\n",
    "| 2 - 4 | Modeling |\n",
    "| 5 - 6 | Feedback Control |\n",
    "| 7 - 8 | Process Analytics |\n",
    "| 9 - 10 | Optimization |\n",
    "| 11 - 12 | Predictive Control |\n",
    "| 13 | Discrete Event Systems |\n",
    "| 14 | Student Project Presentations |\n"
   ]
  },
  {
   "cell_type": "markdown",
   "metadata": {
    "pycharm": {}
   },
   "source": [
    "### Week 1\n",
    "\n",
    "Class meetings begin on week 1. Each of the sessions scheduled below will be done as a Zoom meeting. To protect privacy, the specific Zoom meeting links are available through the course management system. Attendance will be monitored for each session with required attendance.\n",
    "\n",
    "| Date | Time (EDT) | Activity | Topic | Reading | Req'd? |\n",
    "| :--  | :--  | :------  | :--- | :--- | :---: |\n",
    "| 2/4(Th) | 11:10am-12:25pm | [Class Meeting](https://notredame.zoom.us/j/98411704304?pwd=Yk1GYjlkRjZnR3UxV0Q2V0RRRXJiUT09) | Introductions <br> Course Resources <br> Syllabus  <br> Introduction to TCLab <br> What is Process Control? | [Syllabus](https://docs.google.com/document/d/1nyId3IqaRej6zYwJ-HlFvR8lfqszkLH7OWzamw-vI-E/edit?usp=sharing) <br> [FBS 1.2-1.4](https://fbswiki.org/wiki/index.php/Feedback_Systems:_An_Introduction_for_Scientists_and_Engineers) <br> [cbe30338-2021 Section 1.1](https://jckantor.github.io/cbe30338-2021/) | &check;\n",
    "| 2/5(F) | 11:40am-12:30pm <br> 1:00-1:50pm | Lab Session 1 <br> Lab Session 2 | **No meeting for week 1** | | "
   ]
  },
  {
   "cell_type": "markdown",
   "metadata": {
    "pycharm": {}
   },
   "source": [
    "## Modeling and Parameter Estimation"
   ]
  },
  {
   "cell_type": "markdown",
   "metadata": {
    "pycharm": {}
   },
   "source": [
    "### Week 2\n",
    "\n",
    "| Date | Time (EDT) | Activity | Topic | Reading | Req'd? | Assignment Due |\n",
    "| :--  | :--  | :------  | :--- | :--- | :---: | :--- |\n",
    "| 2/8(M) | 1:30-3pm | Office hours | | |\n",
    "| 2/9(T) | 11:10am-12:25pm | [Class Meeting](https://notredame.zoom.us/j/98411704304?pwd=Yk1GYjlkRjZnR3UxV0Q2V0RRRXJiUT09) | System Modeling <br> Pharmacokinetics | [FBS 3.1, 3.2](https://fbswiki.org/wiki/index.php/System_Modeling) <br> [cbe30338-2021 Section 2.1](https://jckantor.github.io/cbe30338-2021/) | &check; | HW Assignment 1\n",
    "| 2/11(Th) | 11:10am-12:25pm | [Class Meeting](https://notredame.zoom.us/j/98411704304?pwd=Yk1GYjlkRjZnR3UxV0Q2V0RRRXJiUT09) | First Order Systems <br> Degrees of Freedom | [cbe30338-2021 Section 2.2](https://jckantor.github.io/cbe30338-2021/) | &check;\n",
    "| 2/12(F) | 11:40am-12:30pm <br> 1:00-1:50pm | Lab Session 1 <br> Lab Session 2 | TCLab Operation <br> First Order Model ID | [cbe30338-2021 Section 1.3](https://jckantor.github.io/cbe30338-2021/) <br> [cbe30338-2021 Section 1.4](https://jckantor.github.io/cbe30338-2021/)| &check;"
   ]
  },
  {
   "cell_type": "markdown",
   "metadata": {
    "pycharm": {}
   },
   "source": [
    "### Week 3\n",
    "\n",
    "| Date | Time (EDT) | Activity | Topic | Reading | Req'd? | Assignment Due |\n",
    "| :--  | :--  | :------  | :--- | :---| :---: | :--- |\n",
    "| 2/15(M) | 1:30-3pm | Office hours | | \n",
    "| 2/16(T) | 11:10am-12:25pm | [Class Meeting](https://notredame.zoom.us/j/98411704304?pwd=Yk1GYjlkRjZnR3UxV0Q2V0RRRXJiUT09) | First-Order Model TCLab | [cbe30338-2021 Section 2.3](https://jckantor.github.io/cbe30338-2021/) | &check; | HW Assignment 2 |\n",
    "| 2/18(Th) | 11:10am-12:25pm | [Class Meeting](https://notredame.zoom.us/j/98411704304?pwd=Yk1GYjlkRjZnR3UxV0Q2V0RRRXJiUT09) | Identifying Linear Dynamics | [cbe30338-2021 Section 2.4](https://jckantor.github.io/cbe30338-2021/) | &check;\n",
    "| 2/19(F) | 11:40am-12:30pm <br> 1:00-1:50pm | Lab Session 1 <br> Lab Session 2 | Dynamic Model Identification | | &check; | Lab Assignment 1"
   ]
  },
  {
   "cell_type": "markdown",
   "metadata": {
    "pycharm": {}
   },
   "source": [
    "## Feedback Control"
   ]
  },
  {
   "cell_type": "markdown",
   "metadata": {
    "pycharm": {}
   },
   "source": [
    "### Week 4\n",
    "\n",
    "| Date | Time (EDT) | Activity | Topic | Reading | Req'd? | Assignment Due |\n",
    "| :--  | :--  | :------  | :--- | :--- | :---: | :--- |\n",
    "| 2/22(M) | 1:30-3pm | Office hours | | \n",
    "| 2/23(T) | 11:10am-12:25pm | [Class Meeting](https://notredame.zoom.us/j/98411704304?pwd=Yk1GYjlkRjZnR3UxV0Q2V0RRRXJiUT09) | Case Study: PCR Thermal Cycling <br> Setpoints | [cbe30338-2021 Section 3.1 & 3.2](https://jckantor.github.io/cbe30338-2021/) | &check; | HW Assignment 3 |\n",
    "| 2/25(Th) | 11:10am-12:25pm | [Class Meeting](https://notredame.zoom.us/j/98411704304?pwd=Yk1GYjlkRjZnR3UxV0Q2V0RRRXJiUT09) | Relay, Proportional, and PI Control | [cbe30338-2021 Section 3.3](https://jckantor.github.io/cbe30338-2021/)  | &check; | Quiz 1: Modeling & Identification\n",
    "| 2/26(F) | 11:40am-12:30pm <br> 1:00-1:50pm | Lab Session 1 <br> Lab Session 2 | Single Variable Relay Control <br> PI Control | [cbe30338-2021 Section 3.6](https://jckantor.github.io/cbe30338-2021/) | &check; | Lab Assignment 2"
   ]
  },
  {
   "cell_type": "markdown",
   "metadata": {
    "pycharm": {}
   },
   "source": [
    "### Week 5\n",
    "\n",
    "| Date | Time (EDT) | Activity | Topic | Reading | Req'd? | Assignment Due |\n",
    "| :--  | :--  | :------  | :--- | :--- | :---: | :--- |\n",
    "| 3/1(M) | 1:30-3pm | Office hours | | |\n",
    "| 3/2(T) | 11:10am-12:25pm | **University Mini-break** |  | | | |\n",
    "| 3/4(Th) | 11:10am-12:25pm | [Class Meeting](https://notredame.zoom.us/j/98411704304?pwd=Yk1GYjlkRjZnR3UxV0Q2V0RRRXJiUT09) | PI Implementation & Co-routines | [cbe30338-2021 Section 3.4](https://jckantor.github.io/cbe30338-2021/)  | &check;\n",
    "| 3/5(F) | | **Junior Parents Weekend** | | | | Lab Assignment 3"
   ]
  },
  {
   "cell_type": "markdown",
   "metadata": {
    "pycharm": {}
   },
   "source": [
    "### Week 6\n",
    "\n",
    "| Date | Time (EDT) | Activity | Topic | Reading | Req'd? | Assignment Due |\n",
    "| :--  | :--  | :------  | :--- | :--- | :---: | :--- |\n",
    "| 3/8(M) | 1:30-3pm | Office hours | | \n",
    "| 3/9(T) | 11:10am-12:25pm | [Class Meeting](https://notredame.zoom.us/j/98411704304?pwd=Yk1GYjlkRjZnR3UxV0Q2V0RRRXJiUT09) | Practical PI Control  | [cbe30338-2021 Section 3.5](https://jckantor.github.io/cbe30338-2021/) <br> Astrom and Murray, Chapter 11 | &check; | No assignment (JPW)\n",
    "| 3/11(Th) | 11:10am-12:25pm | [Class Meeting](https://notredame.zoom.us/j/98411704304?pwd=Yk1GYjlkRjZnR3UxV0Q2V0RRRXJiUT09) | Advanced PI and PID Control | | &check;\n",
    "| 3/12(F) | 11:40am-12:30pm <br> 1:00-1:50pm | Lab Session 1 <br> Lab Session 2 | Advanced PID Control | | &check;"
   ]
  },
  {
   "cell_type": "markdown",
   "metadata": {
    "pycharm": {}
   },
   "source": [
    "## Process Analytics"
   ]
  },
  {
   "cell_type": "markdown",
   "metadata": {
    "pycharm": {}
   },
   "source": [
    "### Week 7\n",
    "\n",
    "| Date | Time (EDT) | Activity | Topic | Reading | Req'd? | Assignment Due |\n",
    "| :--  | :--  | :------  | :---  | :--- | :---: | :--- |\n",
    "| 3/15(M) | 1:30-3pm | Drop-in office hours | | |\n",
    "| 3/16(T) | 11:10am-12:25pm | [Class Meeting](https://notredame.zoom.us/j/98411704304?pwd=Yk1GYjlkRjZnR3UxV0Q2V0RRRXJiUT09) | Guest: Katie Gates ND'10 <br> What is Process Analytics? | Data Historian <br> Anamoly Detection | &check; | |\n",
    "| 3/18(Th) | 11:10am-12:25pm | [Class Meeting](https://notredame.zoom.us/j/98411704304?pwd=Yk1GYjlkRjZnR3UxV0Q2V0RRRXJiUT09) | | | &check; | Quiz 2: Feedback Control\n",
    "| 3/19(F) | 11:40am-12:30pm <br> 1:00-1:50pm | Lab Session 1 <br> Lab Session 2 | Using the Data Historian | | &check; | Lab Assignment 4"
   ]
  },
  {
   "cell_type": "markdown",
   "metadata": {
    "pycharm": {}
   },
   "source": [
    "### Week 8\n",
    "\n",
    "| Date | Time (EDT) | Activity | Topic | Reading | Req'd? | Assignment Due |\n",
    "| :--  | :--  | :------  | :--- | :--- | :---: | :--- |\n",
    "| 3/22(M) | 1:30-3pm | Drop-in office hours | | |\n",
    "| 3/23(T) | 11:10am-12:25pm | [Class Meeting](https://notredame.zoom.us/j/98411704304?pwd=Yk1GYjlkRjZnR3UxV0Q2V0RRRXJiUT09) | Anamoly Detection | | &check; | |\n",
    "| 3/25(Th) | 11:10am-12:25pm | [Class Meeting](https://notredame.zoom.us/j/98411704304?pwd=Yk1GYjlkRjZnR3UxV0Q2V0RRRXJiUT09) | Machine Learning | | &check;\n",
    "| 3/26(F) | 11:40am-12:30pm <br> 1:00-1:50pm | Lab Session 1 <br> Lab Session 2 | Machine Learning | | &check; | Lab Assignment 5"
   ]
  },
  {
   "cell_type": "markdown",
   "metadata": {
    "pycharm": {}
   },
   "source": [
    "## Optimization"
   ]
  },
  {
   "cell_type": "markdown",
   "metadata": {
    "pycharm": {}
   },
   "source": [
    "### Week 9\n",
    "\n",
    "| Date | Time (EDT) | Activity | Topic | Reading | Req'd? | Assignment Due |\n",
    "| :--  | :--  | :------  | :--- | :---  | :---: | :--- |\n",
    "| 3/29(M) | 1:30-3pm | Drop-in office hours | | |\n",
    "| 3/30(T) | 11:10am-12:25pm | [Class Meeting](https://notredame.zoom.us/j/98411704304?pwd=Yk1GYjlkRjZnR3UxV0Q2V0RRRXJiUT09) | Introduction to Semester Project <br> | | &check; | |\n",
    "| 4/1(Th) | 11:10am-12:25pm | [Class Meeting](https://notredame.zoom.us/j/98411704304?pwd=Yk1GYjlkRjZnR3UxV0Q2V0RRRXJiUT09) | Linear Production Problem <br> CVXPY| Section 5.1 | &check; | Quiz 3: Process Analytics\n",
    "| 4/2(F) | | **Good Friday** |"
   ]
  },
  {
   "cell_type": "markdown",
   "metadata": {
    "pycharm": {}
   },
   "source": [
    "### Week 10\n",
    "\n",
    "| Date | Time (EDT) | Activity | Topic | Reading | Req'd? | Assignment Due |\n",
    "| :--  | :--  | :------  | :--- | :--- | :---: | :--- |\n",
    "| 4/5(M) | 1:30-3pm | Drop-in office hours | | |\n",
    "| 4/6(T) | 11:10am-12:25pm | [Class Meeting](https://notredame.zoom.us/j/98411704304?pwd=Yk1GYjlkRjZnR3UxV0Q2V0RRRXJiUT09) | Linear Blending | Section 5.2 | &check; | |\n",
    "| 4/8(Th) | 11:10am-12:25pm | [Class Meeting](https://notredame.zoom.us/j/98411704304?pwd=Yk1GYjlkRjZnR3UxV0Q2V0RRRXJiUT09) | Blending | Section 5.3 | &check; | Lab Assignment 6 \n",
    "| 4/9(F) | 11:40am-12:30pm <br> 1:00-1:50pm | Lab Session 1 <br> Lab Session 2 | Static Operability Analysis | Section 6.1 | &check;"
   ]
  },
  {
   "cell_type": "markdown",
   "metadata": {
    "pycharm": {}
   },
   "source": [
    "## Predictive Control"
   ]
  },
  {
   "cell_type": "markdown",
   "metadata": {
    "pycharm": {}
   },
   "source": [
    "### Week 11\n",
    "\n",
    "| Date | Time (EDT) | Activity | Topic | Reading | Req'd? | Assignment Due |\n",
    "| :--  | :--  | :------  | :--- | :--- | :---: | :--- |\n",
    "| 4/12(M) | 1:30-3pm | Drop-in office hours | | |\n",
    "| 4/13(T) | 11:10am-12:25pm | [Class Meeting](https://notredame.zoom.us/j/98411704304?pwd=Yk1GYjlkRjZnR3UxV0Q2V0RRRXJiUT09) | | | &check; |  HW Assignment 4 <br> Project Proposal |\n",
    "| 4/15(Th) | 11:10am-12:25pm | [Class Meeting](https://notredame.zoom.us/j/98411704304?pwd=Yk1GYjlkRjZnR3UxV0Q2V0RRRXJiUT09) | | | &check; |\n",
    "| 4/16(F) | 11:40am-12:30pm <br> 1:00-1:50pm | Lab Session 1 <br> Lab Session 2 | State Estimation | | &check; | Lab Assignment 7 "
   ]
  },
  {
   "cell_type": "markdown",
   "metadata": {
    "pycharm": {}
   },
   "source": [
    "### Week 12\n",
    "\n",
    "| Date | Time (EDT) | Activity | Topic | Reading | Req'd? | Assignment Due |\n",
    "| :--  | :--  | :------  | :--- | :--- | :---: | :--- |\n",
    "| 4/19(M) | 1:30-3pm | Drop-in office hours | | |\n",
    "| 4/20(T) | 11:10am-12:25pm | [Class Meeting](https://notredame.zoom.us/j/98411704304?pwd=Yk1GYjlkRjZnR3UxV0Q2V0RRRXJiUT09) | | | &check; | HW Assignment 4 |\n",
    "| 4/22(Th) | 11:10am-12:25pm | [Class Meeting](https://notredame.zoom.us/j/98411704304?pwd=Yk1GYjlkRjZnR3UxV0Q2V0RRRXJiUT09) | | | &check; |\n",
    "| 4/23(F) | 11:40am-12:30pm <br> 1:00-1:50pm | Lab Session 1 <br> Lab Session 2 | Model Predictive Control | | &check; | Lab Assignment 8"
   ]
  },
  {
   "cell_type": "markdown",
   "metadata": {
    "pycharm": {}
   },
   "source": [
    "## Final Project"
   ]
  },
  {
   "cell_type": "markdown",
   "metadata": {
    "pycharm": {}
   },
   "source": [
    "### Week 13\n",
    "\n",
    "| Date | Time (EDT) | Activity | Topic | Reading | Req'd? | Assignment Due |\n",
    "| :--  | :--  | :------  | :--- | :--- | :---: | :--- |\n",
    "| 4/26(M) | 1:30-3pm | Drop-in office hours | | |\n",
    "| -- | --- | Office hours by appointment |\n",
    "| 4/27(T) | 11:10am-12:25pm | [Class Meeting](https://notredame.zoom.us/j/98411704304?pwd=Yk1GYjlkRjZnR3UxV0Q2V0RRRXJiUT09) | | | &check; |  |\n",
    "| 4/29(Th) | 11:10am-12:25pm | [Class Meeting](https://notredame.zoom.us/j/98411704304?pwd=Yk1GYjlkRjZnR3UxV0Q2V0RRRXJiUT09) | | | &check; | \n",
    "| 4/30(F) | 11:40am-12:30pm <br> 1:00-1:50pm | Lab Session 1 <br> Lab Session 2 | | | &check; | Lab Assignment 9"
   ]
  },
  {
   "cell_type": "markdown",
   "metadata": {
    "pycharm": {}
   },
   "source": [
    "### Week 14\n",
    "\n",
    "| Date | Time (EDT) | Activity | Topic | Reading | Req'd? | Assignment Due |\n",
    "| :--  | :--  | :------  | :--- | :--- | :---: | :--- |\n",
    "| 5/3(M) | 1:30-3pm | Drop-in office hours | | |\n",
    "| -- | --- | Office hours by appointment |\n",
    "| 5/4(T) | 11:10am-12:25pm | [Class Meeting](https://notredame.zoom.us/j/98411704304?pwd=Yk1GYjlkRjZnR3UxV0Q2V0RRRXJiUT09) | | | &check; | Progress Report\n",
    "| 5/6(Th) | 11:10am-12:25pm | [Class Meeting](https://notredame.zoom.us/j/98411704304?pwd=Yk1GYjlkRjZnR3UxV0Q2V0RRRXJiUT09) | | | &check; | Quiz 4: Predictive Control\n",
    "| 5/7(F) | | no lab - Final Project | | |"
   ]
  },
  {
   "cell_type": "markdown",
   "metadata": {
    "pycharm": {}
   },
   "source": [
    "### Finals Week\n",
    "\n",
    "| Date | Time (EDT) | Activity | Topic | Reading | Req'd? | Assignment Due |\n",
    "| :--  | :--  | :------  | :--- | :--- | :---: | :--- |\n",
    "| 5/11(M) | 1:30-3pm | Office hours | | |\n",
    "| -- | --- | Office hours by appointment |\n",
    "| 5/11(T) | 11:10am-12:25pm | [Class Meeting](https://notredame.zoom.us/j/98411704304?pwd=Yk1GYjlkRjZnR3UxV0Q2V0RRRXJiUT09) | | | &check;\n",
    "| 5/14(F) | 10:30am - 12:30pm | Project Presentations | | | &check;"
   ]
  },
  {
   "cell_type": "code",
   "execution_count": null,
   "metadata": {
    "pycharm": {}
   },
   "outputs": [],
   "source": []
  }
 ],
 "metadata": {
  "kernelspec": {
   "display_name": "Python 3 (ipykernel)",
   "language": "python",
   "name": "python3"
  },
  "language_info": {
   "codemirror_mode": {
    "name": "ipython",
    "version": 3
   },
   "file_extension": ".py",
   "mimetype": "text/x-python",
   "name": "python",
   "nbconvert_exporter": "python",
   "pygments_lexer": "ipython3",
   "version": "3.9.7"
  }
 },
 "nbformat": 4,
 "nbformat_minor": 4
}

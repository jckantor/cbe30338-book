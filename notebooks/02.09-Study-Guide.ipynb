{
 "cells": [
  {
   "cell_type": "markdown",
   "id": "3c88fc4c-1ccb-4be4-93cd-df2ef274b7d9",
   "metadata": {},
   "source": [
    "# Study Guide"
   ]
  },
  {
   "cell_type": "markdown",
   "id": "a3789430-9262-4aff-a28d-7988f7ebb1da",
   "metadata": {},
   "source": [
    "## First Order Linear Models\n",
    "\n",
    "### State Space\n",
    "\n",
    "$$\\frac{dx}{dt} = a x + b u$$\n",
    "\n",
    "* What are the units of $a$?\n",
    "* What are the units of $b$?\n",
    "* What is the steady state gain?\n",
    "* What is the time constant?\n",
    "\n",
    "### Gain/Time-Constant \n",
    "\n",
    "$$\\tau \\frac{dx}{dt} = - x + K u$$\n",
    "\n",
    "* What are the units of $\\tau$?\n",
    "* What are the units of $K$?\n",
    "* Convert to state space form.\n",
    "\n",
    "### Parameter Estimation\n",
    "\n",
    "* Estimate the Gain and Time Constant from \n",
    "\n",
    "![this image](http://controlguru.com/wp-content/uploads/2015/04/hetcbig.jpg)\n",
    "\n",
    "* What is the value of $K$? (be careful with sign)\n",
    "* What is $\\tau$?\n",
    "* Does a first order model do an adequate job of modeling this system?"
   ]
  },
  {
   "cell_type": "markdown",
   "id": "f83249a6-f36a-4517-94d7-1e5407d4fa0f",
   "metadata": {},
   "source": [
    "### Exercise\n",
    "\n",
    "Consider a cup of coffee of volume $V$, mass specific heat transfer coefficient $C_p$, heat transfer coefficient $U$, area $A$, and ambient temperature $T_{amb}$.\n",
    "\n",
    "$$\\rho V C_p \\frac{dT}{dt} = UA(T_{amb} - T)$$\n",
    "\n",
    "1. Rewrite this in the standard form. What is $x$? What are $a$ and $b$?\n",
    "2. Rewrite in gain/time constant form. What are $\\tau$?\n",
    "3. Suppose we have a cup that holds 250 ml. The heat capacity of water is 4.2 J/g, and the surface area is 0.03 square meters. You measure the first order time constant to be 12 minutes. Estimate $U$.\n"
   ]
  },
  {
   "cell_type": "markdown",
   "id": "44f83782-feb1-4bfa-bcfb-677325b36fd3",
   "metadata": {},
   "source": [
    "### Exercise\n",
    "\n",
    "Suppose the speed of a car, $x$, in response to a throttle position $u$ has been found to satisfy the equation\n",
    "\n",
    "$$\\frac{dx}{dt} = - 0.12 x + 0.096 u$$\n",
    "\n",
    "The units of $t$ are seconds, speed is measured in miles per hour, and throttle position in percent of full scale. \n",
    "\n",
    "* a. What are the units of $x$ and $u$?\n",
    "* b. What are the units of the $a$ and $b$ coeffients?\n",
    "* c. What is value and units of the steady-state gain? \n",
    "* d. What is the maximum speed of the car?\n",
    "* e. Rewrite the state space equation using metric units of km/hour.\n",
    "\n",
    "Work out the answers before attempting any simulations.\n"
   ]
  },
  {
   "cell_type": "markdown",
   "id": "626e7d8f-6a43-4968-80aa-3bcf5abc3daf",
   "metadata": {},
   "source": [
    "Let's continue with the example of the car. Suppose you are driving at a steady speed of 60 mph then take your foot off the throttle at $t = 20$ seconds.\n",
    "\n",
    "* a. What was the initial throttle setting before 20 seconds?\n",
    "* b. What is the throttle setting after 20 seconds?\n",
    "* c. For the purposes for determining the response after 20 seconds, what is the initial condition?\n",
    "* d. Is the response exponentially decaying, constant, or exponentially increasing?\n"
   ]
  },
  {
   "cell_type": "markdown",
   "id": "cbd7f188-aaf7-4264-b07e-e88ba7e88185",
   "metadata": {},
   "source": [
    "### Exercise\n",
    "\n",
    "An experiment is performed in which a car is run at constant speed on a test track, and the throttle setting is suddenly changed to zero. The recorded speed is shown in the following plot. From this plot, what is the intial condition? What is the first order time constant?\n",
    "\n",
    "![](figures/exercise_time_constant.png)\n"
   ]
  },
  {
   "cell_type": "markdown",
   "id": "d922860e-2cac-4bfd-abc8-4b8693d1b2fc",
   "metadata": {},
   "source": [
    "### Exercise\n",
    "\n",
    "A recent paper demonstrated the use of engineered proteins to create a luminescent biosensor for the detection of the COVID-19 virus. The step response of the biosensor is shown in the chart at the center of this figure.\n",
    "\n",
    "![](figures/Yeh2021_biosensor.png)\n",
    "\n",
    "* Assume a first-order model would be used to describe the dynamics. What is the corresponding time constant? How much time should be allowed for the meaasurement to reach 95% of the steady-state response?\n",
    "\n",
    "* For the same biosensor data, assume the step input of virus has arbitrary units $U = 10000$. For a model in the form\n",
    "\n",
    "$$\\frac{dx}{dt} = a x + b u$$\n",
    "\n",
    "what the values of $a$ and $b$?\n",
    "\n",
    "* Again for the same biosensor data and $U = 10000$, what are the values $K$ and $\\tau$ for a model written in the form\n",
    "\n",
    "$$\\tau\\frac{dx}{dt} = - x + K u$$\n",
    "\n",
    "* Prepare a simulation of the model you have created for the biosensor. (On the quiz, you might be given a simulation model and asked to add parameter values, diagnose a problem, and recreate the model equations.)"
   ]
  },
  {
   "cell_type": "markdown",
   "id": "1074d493-4422-4fcc-a0a7-3b505b5f597f",
   "metadata": {},
   "source": [
    "## State Space Modeling\n",
    "\n",
    "Suppose the Hare and Lynx model could be reduced to the form\n",
    "\n",
    "$$\\begin{align*}\n",
    "\\frac{dH}{dt} & = 3.2 (H - 125) - 0.8 L - 0.1 u \\\\\n",
    "\\frac{dL}{dt} & = 0.4 H + 0.2 L\n",
    "\\end{align*}$$\n",
    "\n",
    "where $u$ is a the loss of hare due to other predators. Rewrite this expression in state space form \n",
    "\n",
    "$$\\frac{dx}{dt} = A x + B u$$\n",
    "\n",
    "* what are the steady states when $u=0$?\n",
    "* what is $x$?\n",
    "* what are $A$ and $B$.\n",
    "\n",
    "Suppose $H$ is measurable. What is $C$ for the model\n",
    "\n",
    "$$\n",
    "\\begin{align*}\n",
    "\\frac{dx}{dt}  & = A x + B u \\\\\n",
    "y & = C x\n",
    "\\end{align*}\n",
    "$$\n",
    "\n",
    "What if $H$ and $L$ are both measurable?"
   ]
  },
  {
   "cell_type": "markdown",
   "id": "62c737de-52e2-4430-9070-32eb6333e984",
   "metadata": {},
   "source": [
    "## TCLab\n",
    "\n",
    "Review your projects. Be sure you can relate the parameters $U_a$, $U_b$, $U_c$ and heat capacities to observable behaviors. "
   ]
  },
  {
   "cell_type": "code",
   "execution_count": null,
   "id": "75b2861b-b282-4ade-ab92-e120ec718b4a",
   "metadata": {},
   "outputs": [],
   "source": []
  }
 ],
 "metadata": {
  "kernelspec": {
   "display_name": "Python 3 (ipykernel)",
   "language": "python",
   "name": "python3"
  },
  "language_info": {
   "codemirror_mode": {
    "name": "ipython",
    "version": 3
   },
   "file_extension": ".py",
   "mimetype": "text/x-python",
   "name": "python",
   "nbconvert_exporter": "python",
   "pygments_lexer": "ipython3",
   "version": "3.9.13"
  }
 },
 "nbformat": 4,
 "nbformat_minor": 5
}

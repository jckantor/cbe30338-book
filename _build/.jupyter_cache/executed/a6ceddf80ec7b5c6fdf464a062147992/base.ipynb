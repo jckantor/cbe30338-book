{
 "cells": [
  {
   "cell_type": "code",
   "execution_count": 1,
   "metadata": {},
   "outputs": [
    {
     "name": "stderr",
     "output_type": "stream",
     "text": [
      "/Users/jeff/opt/anaconda3/lib/python3.8/site-packages/IPython/core/display.py:724: UserWarning: Consider using IPython.display.IFrame instead\n",
      "  warnings.warn(\"Consider using IPython.display.IFrame instead\")\n"
     ]
    },
    {
     "data": {
      "text/html": [
       "<iframe width=\"560\" height=\"315\" src=\"https://www.youtube.com/embed/JplAKJrgyew\" frameborder=\"0\" allow=\"accelerometer; autoplay; clipboard-write; encrypted-media; gyroscope; picture-in-picture\" allowfullscreen></iframe>"
      ],
      "text/plain": [
       "<IPython.core.display.HTML object>"
      ]
     },
     "execution_count": 1,
     "metadata": {},
     "output_type": "execute_result"
    }
   ],
   "source": [
    "from IPython.display import HTML\n",
    "\n",
    "HTML('<iframe width=\"560\" height=\"315\" src=\"https://www.youtube.com/embed/JplAKJrgyew\" frameborder=\"0\" allow=\"accelerometer; autoplay; clipboard-write; encrypted-media; gyroscope; picture-in-picture\" allowfullscreen></iframe>')"
   ]
  },
  {
   "cell_type": "code",
   "execution_count": 2,
   "metadata": {},
   "outputs": [
    {
     "data": {
      "text/html": [
       "<blockquote class=\"twitter-tweet\"><p lang=\"en\" dir=\"ltr\">Giga Shanghai is becoming a production powerhouse. Watch mega castings for Model Y coming out of 6k-ton Giga presses. The whole process is fully automated, including quality check. Pretty mind blowing to say the least. <a href=\"https://t.co/PBMUpDjnD8\">pic.twitter.com/PBMUpDjnD8</a></p>&mdash; Ray4Tesla⚡️🚘☀️🔋 (@ray4tesla) <a href=\"https://twitter.com/ray4tesla/status/1356639381549846529?ref_src=twsrc%5Etfw\">February 2, 2021</a></blockquote> <script async src=\"https://platform.twitter.com/widgets.js\" charset=\"utf-8\"></script>"
      ],
      "text/plain": [
       "<IPython.core.display.HTML object>"
      ]
     },
     "execution_count": 2,
     "metadata": {},
     "output_type": "execute_result"
    }
   ],
   "source": [
    "from IPython.display import HTML\n",
    "s = '<blockquote class=\"twitter-tweet\"><p lang=\"en\" dir=\"ltr\">' + \\\n",
    "    'Giga Shanghai is becoming a production powerhouse. Watch ' + \\\n",
    "    'mega castings for Model Y coming out of 6k-ton Giga presses. ' + \\\n",
    "    'The whole process is fully automated, including quality check. ' + \\\n",
    "    'Pretty mind blowing to say the least. ' + \\\n",
    "    '<a href=\"https://t.co/PBMUpDjnD8\">pic.twitter.com/PBMUpDjnD8</a>' + \\\n",
    "    '</p>&mdash; Ray4Tesla⚡️🚘☀️🔋 (@ray4tesla) ' + \\\n",
    "    '<a href=\"https://twitter.com/ray4tesla/status/1356639381549846529?ref_src=twsrc%5Etfw\">February 2, 2021</a>' + \\\n",
    "    '</blockquote> <script async src=\"https://platform.twitter.com/widgets.js\" charset=\"utf-8\"></script>'\n",
    "HTML(s)"
   ]
  },
  {
   "cell_type": "code",
   "execution_count": null,
   "metadata": {},
   "outputs": [],
   "source": []
  }
 ],
 "metadata": {
  "kernelspec": {
   "display_name": "Python 3",
   "language": "python",
   "name": "python3"
  },
  "language_info": {
   "codemirror_mode": {
    "name": "ipython",
    "version": 3
   },
   "file_extension": ".py",
   "mimetype": "text/x-python",
   "name": "python",
   "nbconvert_exporter": "python",
   "pygments_lexer": "ipython3",
   "version": "3.8.12"
  }
 },
 "nbformat": 4,
 "nbformat_minor": 4
}
{
 "cells": [
  {
   "cell_type": "code",
   "execution_count": 1,
   "metadata": {},
   "outputs": [
    {
     "name": "stdout",
     "output_type": "stream",
     "text": [
      "additional profit 175.03563362453133\n"
     ]
    }
   ],
   "source": [
    "from scipy.optimize import linprog\n",
    "\n",
    "c = [49, 32, -72, -48, -42, -20]\n",
    "\n",
    "A_ub = [[0, 0, 1, 0, 0, 0],\n",
    "        [0, 0, 0, 1, 0, 0],\n",
    "        [0, 0, 0, 0, 1, 0]]\n",
    "\n",
    "b_ub = [24000, 2001, 6000]\n",
    "\n",
    "A_eq = [[0.80, 0.44, -1,  0,  0,  0],\n",
    "        [0.05, 0.10,  0, -1,  0,  0],\n",
    "        [0.10, 0.36,  0,  0, -1,  0],\n",
    "        [0.05, 0.10,  0,  0,  0, -1]]\n",
    "\n",
    "b_eq = [0, 0, 0, 0]\n",
    "\n",
    "results = linprog(c, A_ub, b_ub, A_eq, b_eq)\n",
    "results\n",
    "p0 = 573517.24\n",
    "print('additional profit', -results.fun - p0)"
   ]
  },
  {
   "cell_type": "code",
   "execution_count": 2,
   "metadata": {},
   "outputs": [
    {
     "name": "stdout",
     "output_type": "stream",
     "text": [
      "Optimization terminated successfully.\n",
      "x[ 1] = 26199.3 bbl/day\n",
      "x[ 2] =  6910.3 bbl/day\n",
      "x[ 3] = 24000.0 bbl/day\n",
      "x[ 4] =  2001.0 bbl/day\n",
      "x[ 5] =  5107.7 bbl/day\n",
      "x[ 6] =  2001.0 bbl/day\n"
     ]
    }
   ],
   "source": [
    "print(results.message)\n",
    "if results.success:\n",
    "    for k in range(len(results.x)):\n",
    "        print('x[{0:2d}] = {1:7.1f} bbl/day'.format(k+1, results.x[k]))"
   ]
  },
  {
   "cell_type": "code",
   "execution_count": null,
   "metadata": {},
   "outputs": [],
   "source": []
  },
  {
   "cell_type": "code",
   "execution_count": null,
   "metadata": {},
   "outputs": [],
   "source": []
  }
 ],
 "metadata": {
  "kernelspec": {
   "display_name": "Python 3",
   "language": "python",
   "name": "python3"
  },
  "language_info": {
   "codemirror_mode": {
    "name": "ipython",
    "version": 3
   },
   "file_extension": ".py",
   "mimetype": "text/x-python",
   "name": "python",
   "nbconvert_exporter": "python",
   "pygments_lexer": "ipython3",
   "version": "3.8.12"
  }
 },
 "nbformat": 4,
 "nbformat_minor": 4
}
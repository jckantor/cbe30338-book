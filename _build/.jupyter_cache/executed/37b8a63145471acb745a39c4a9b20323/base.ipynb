{
 "cells": [
  {
   "cell_type": "code",
   "execution_count": 1,
   "metadata": {},
   "outputs": [],
   "source": [
    "import numpy as np\n",
    "import cvxpy as cp"
   ]
  },
  {
   "cell_type": "code",
   "execution_count": 2,
   "metadata": {},
   "outputs": [],
   "source": [
    "# parameter estimates.\n",
    "alpha = 0.00016       # watts / (units P * percent U1)\n",
    "P1 = 200              # P units\n",
    "P2 = 100              # P units\n",
    "CpH = 4.46            # heat capacity of the heater (J/deg C)\n",
    "CpS = 0.819           # heat capacity of the sensor (J/deg C)\n",
    "Ua = 0.050            # heat transfer coefficient from heater to environment\n",
    "Ub = 0.021            # heat transfer coefficient from heater to sensor\n",
    "Uc = 0.0335           # heat transfer coefficient between heaters\n",
    "Tamb = 21             # ambient room temperature\n",
    "\n",
    "# state space model\n",
    "A = np.array([[-(Ua + Ub + Uc)/CpH, Ub/CpH, Uc/CpH, 0], \n",
    "              [Ub/CpS, -Ub/CpS, 0, 0],\n",
    "              [Uc/CpH, 0, -(Ua + Ub + Uc)/CpH, Ub/CpH],\n",
    "              [0, 0, Ub/CpS, -Ub/CpS]])\n",
    "\n",
    "Bu = np.array([[alpha*P1/CpH, 0], [0, 0], [0, alpha*P2/CpH], [0, 0]])\n",
    "\n",
    "Bd = np.array([[Ua/CpH], [0], [Ua/CpH], [0]])\n",
    "\n",
    "C = np.array([[0, 1, 0, 0], [0, 0, 0, 1]])\n",
    "\n",
    "# initial values for states and inputs\n",
    "u_initial = np.array([0, 0])\n",
    "d_initial = np.array([Tamb])\n",
    "x_initial = np.array([Tamb, Tamb, Tamb, Tamb])"
   ]
  },
  {
   "cell_type": "code",
   "execution_count": 3,
   "metadata": {},
   "outputs": [
    {
     "name": "stdout",
     "output_type": "stream",
     "text": [
      "u = [49.99999592 49.9999971 ]\n",
      "x = [48.41880129 48.41880129 41.58119517 41.58119517]\n",
      "y = [48.41880129 41.58119517]\n"
     ]
    }
   ],
   "source": [
    "# knowns\n",
    "d = d_initial            # disturbance\n",
    "r = np.array([30, 40])   # setpoints\n",
    "\n",
    "# unknowns to be computed\n",
    "u = cp.Variable(2)\n",
    "x = cp.Variable(4)\n",
    "y = cp.Variable(2)\n",
    "\n",
    "# objective\n",
    "objective = cp.Minimize(0)\n",
    "\n",
    "# model constraints\n",
    "model_constraints = [\n",
    "    0 == A@x + Bu@u + Bd@d,\n",
    "    y == C@x]\n",
    "\n",
    "# input constraints\n",
    "\n",
    "input_constraints = [\n",
    "    0 <= u, \n",
    "    u <= 100]\n",
    "\n",
    "# output constraints\n",
    "output_constraints = []\n",
    "\n",
    "# setpoints\n",
    "r = np.array([70, 40])\n",
    "setpoints = []\n",
    "objective = cp.Minimize(0)\n",
    "\n",
    "# solve problem\n",
    "constraints = model_constraints + input_constraints + output_constraints + setpoints\n",
    "problem = cp.Problem(objective, constraints)\n",
    "problem.solve()\n",
    "\n",
    "# display solution\n",
    "print(f\"u = {u.value}\")\n",
    "print(f\"x = {x.value}\")\n",
    "print(f\"y = {y.value}\")"
   ]
  },
  {
   "cell_type": "code",
   "execution_count": null,
   "metadata": {},
   "outputs": [],
   "source": []
  },
  {
   "cell_type": "code",
   "execution_count": null,
   "metadata": {},
   "outputs": [],
   "source": []
  }
 ],
 "metadata": {
  "kernelspec": {
   "display_name": "Python 3",
   "language": "python",
   "name": "python3"
  },
  "language_info": {
   "codemirror_mode": {
    "name": "ipython",
    "version": 3
   },
   "file_extension": ".py",
   "mimetype": "text/x-python",
   "name": "python",
   "nbconvert_exporter": "python",
   "pygments_lexer": "ipython3",
   "version": "3.8.12"
  }
 },
 "nbformat": 4,
 "nbformat_minor": 4
}
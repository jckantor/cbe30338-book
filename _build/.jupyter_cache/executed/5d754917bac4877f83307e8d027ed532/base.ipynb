{
 "cells": [
  {
   "cell_type": "code",
   "execution_count": 1,
   "metadata": {
    "nbpages": {
     "level": 1,
     "link": "[3.3 Agent Based Models](https://jckantor.github.io/CBE40455-2020/03.03-Agent-Based-Models.html#3.3-Agent-Based-Models)",
     "section": "3.3 Agent Based Models"
    }
   },
   "outputs": [
    {
     "name": "stdout",
     "output_type": "stream",
     "text": [
      "Requirement already satisfied: simpy in /Users/jeff/opt/anaconda3/lib/python3.8/site-packages (4.0.1)\r\n"
     ]
    }
   ],
   "source": [
    "!pip install simpy"
   ]
  },
  {
   "cell_type": "code",
   "execution_count": 2,
   "metadata": {
    "nbpages": {
     "level": 2,
     "link": "[3.3.2 Example: A room full of Roombas](https://jckantor.github.io/CBE40455-2020/03.03-Agent-Based-Models.html#3.3.2-Example:-A-room-full-of-Roombas)",
     "section": "3.3.2 Example: A room full of Roombas"
    }
   },
   "outputs": [
    {
     "data": {
      "text/html": [
       "<div>\n",
       "<style scoped>\n",
       "    .dataframe tbody tr th:only-of-type {\n",
       "        vertical-align: middle;\n",
       "    }\n",
       "\n",
       "    .dataframe tbody tr th {\n",
       "        vertical-align: top;\n",
       "    }\n",
       "\n",
       "    .dataframe thead th {\n",
       "        text-align: right;\n",
       "    }\n",
       "</style>\n",
       "<table border=\"1\" class=\"dataframe\">\n",
       "  <thead>\n",
       "    <tr style=\"text-align: right;\">\n",
       "      <th></th>\n",
       "      <th>id</th>\n",
       "      <th>charge_time</th>\n",
       "      <th>clean_time</th>\n",
       "    </tr>\n",
       "  </thead>\n",
       "  <tbody>\n",
       "    <tr>\n",
       "      <th>0</th>\n",
       "      <td>A</td>\n",
       "      <td>1.0</td>\n",
       "      <td>2.5</td>\n",
       "    </tr>\n",
       "    <tr>\n",
       "      <th>1</th>\n",
       "      <td>B</td>\n",
       "      <td>0.5</td>\n",
       "      <td>1.5</td>\n",
       "    </tr>\n",
       "    <tr>\n",
       "      <th>2</th>\n",
       "      <td>C</td>\n",
       "      <td>0.8</td>\n",
       "      <td>2.0</td>\n",
       "    </tr>\n",
       "    <tr>\n",
       "      <th>3</th>\n",
       "      <td>D</td>\n",
       "      <td>1.4</td>\n",
       "      <td>3.5</td>\n",
       "    </tr>\n",
       "    <tr>\n",
       "      <th>4</th>\n",
       "      <td>E</td>\n",
       "      <td>0.5</td>\n",
       "      <td>1.2</td>\n",
       "    </tr>\n",
       "    <tr>\n",
       "      <th>5</th>\n",
       "      <td>F</td>\n",
       "      <td>1.0</td>\n",
       "      <td>3.0</td>\n",
       "    </tr>\n",
       "  </tbody>\n",
       "</table>\n",
       "</div>"
      ],
      "text/plain": [
       "  id  charge_time  clean_time\n",
       "0  A          1.0         2.5\n",
       "1  B          0.5         1.5\n",
       "2  C          0.8         2.0\n",
       "3  D          1.4         3.5\n",
       "4  E          0.5         1.2\n",
       "5  F          1.0         3.0"
      ]
     },
     "execution_count": 2,
     "metadata": {},
     "output_type": "execute_result"
    }
   ],
   "source": [
    "import pandas as pd\n",
    "\n",
    "roomba_data = [\n",
    "    [\"A\", 1.0, 2.5],\n",
    "    [\"B\", 0.5, 1.5],\n",
    "    [\"C\", 0.8, 2.0],\n",
    "    [\"D\", 1.4, 3.5],\n",
    "    [\"E\", 0.5, 1.2],\n",
    "    [\"F\", 1.0, 3.0],\n",
    "]\n",
    "\n",
    "roomba_df = pd.DataFrame(roomba_data, columns=[\"id\", \"charge_time\", \"clean_time\"])\n",
    "roomba_df"
   ]
  },
  {
   "cell_type": "code",
   "execution_count": 3,
   "metadata": {
    "nbpages": {
     "level": 2,
     "link": "[3.3.3 One Roomba](https://jckantor.github.io/CBE40455-2020/03.03-Agent-Based-Models.html#3.3.3-One-Roomba)",
     "section": "3.3.3 One Roomba"
    }
   },
   "outputs": [
    {
     "name": "stdout",
     "output_type": "stream",
     "text": [
      "[['A', 'cleaning', 0, 2.5], ['A', 'charging', 2.5, 3.5], ['A', 'cleaning', 3.5, 6.0], ['A', 'charging', 6.0, 7.0], ['A', 'cleaning', 7.0, 9.5], ['A', 'charging', 9.5, 10.5], ['A', 'cleaning', 10.5, 13.0], ['A', 'charging', 13.0, 14.0]]\n"
     ]
    }
   ],
   "source": [
    "import simpy \n",
    "import pandas as pd\n",
    "\n",
    "# create an empty data log\n",
    "data_log = []\n",
    "\n",
    "# The Roomba model isa Python generator. The id, charge_time, and clean_time\n",
    "# parameters are the information needed to specify a particular instance of a Roomba.\n",
    "# The model will log the begin and end of each charge and clean cycle.\n",
    "\n",
    "def roomba(id, charge_time, clean_time):\n",
    "    while True:\n",
    "        # cleaning phase\n",
    "        tic = env.now\n",
    "        yield env.timeout(clean_time)\n",
    "        toc = env.now\n",
    "        data_log.append([id, \"cleaning\", tic, toc])\n",
    "   \n",
    "        # charging phase\n",
    "        tic = env.now\n",
    "        yield env.timeout(charge_time)\n",
    "        toc = env.now\n",
    "        data_log.append([id, \"charging\", tic, toc])\n",
    "\n",
    "# create the simulation environment\n",
    "env = simpy.Environment()\n",
    "\n",
    "# create the processes being simuulated\n",
    "env.process(roomba(\"A\", 1.0, 2.5))\n",
    "\n",
    "# run the simulation\n",
    "env.run(until=16)\n",
    "\n",
    "print(data_log)"
   ]
  },
  {
   "cell_type": "code",
   "execution_count": 4,
   "metadata": {},
   "outputs": [
    {
     "data": {
      "text/html": [
       "<div>\n",
       "<style scoped>\n",
       "    .dataframe tbody tr th:only-of-type {\n",
       "        vertical-align: middle;\n",
       "    }\n",
       "\n",
       "    .dataframe tbody tr th {\n",
       "        vertical-align: top;\n",
       "    }\n",
       "\n",
       "    .dataframe thead th {\n",
       "        text-align: right;\n",
       "    }\n",
       "</style>\n",
       "<table border=\"1\" class=\"dataframe\">\n",
       "  <thead>\n",
       "    <tr style=\"text-align: right;\">\n",
       "      <th></th>\n",
       "      <th>id</th>\n",
       "      <th>activity</th>\n",
       "      <th>begin</th>\n",
       "      <th>end</th>\n",
       "      <th>time</th>\n",
       "    </tr>\n",
       "  </thead>\n",
       "  <tbody>\n",
       "    <tr>\n",
       "      <th>0</th>\n",
       "      <td>A</td>\n",
       "      <td>cleaning</td>\n",
       "      <td>0.0</td>\n",
       "      <td>2.5</td>\n",
       "      <td>2.5</td>\n",
       "    </tr>\n",
       "    <tr>\n",
       "      <th>1</th>\n",
       "      <td>A</td>\n",
       "      <td>charging</td>\n",
       "      <td>2.5</td>\n",
       "      <td>3.5</td>\n",
       "      <td>1.0</td>\n",
       "    </tr>\n",
       "    <tr>\n",
       "      <th>2</th>\n",
       "      <td>A</td>\n",
       "      <td>cleaning</td>\n",
       "      <td>3.5</td>\n",
       "      <td>6.0</td>\n",
       "      <td>2.5</td>\n",
       "    </tr>\n",
       "    <tr>\n",
       "      <th>3</th>\n",
       "      <td>A</td>\n",
       "      <td>charging</td>\n",
       "      <td>6.0</td>\n",
       "      <td>7.0</td>\n",
       "      <td>1.0</td>\n",
       "    </tr>\n",
       "    <tr>\n",
       "      <th>4</th>\n",
       "      <td>A</td>\n",
       "      <td>cleaning</td>\n",
       "      <td>7.0</td>\n",
       "      <td>9.5</td>\n",
       "      <td>2.5</td>\n",
       "    </tr>\n",
       "    <tr>\n",
       "      <th>5</th>\n",
       "      <td>A</td>\n",
       "      <td>charging</td>\n",
       "      <td>9.5</td>\n",
       "      <td>10.5</td>\n",
       "      <td>1.0</td>\n",
       "    </tr>\n",
       "    <tr>\n",
       "      <th>6</th>\n",
       "      <td>A</td>\n",
       "      <td>cleaning</td>\n",
       "      <td>10.5</td>\n",
       "      <td>13.0</td>\n",
       "      <td>2.5</td>\n",
       "    </tr>\n",
       "    <tr>\n",
       "      <th>7</th>\n",
       "      <td>A</td>\n",
       "      <td>charging</td>\n",
       "      <td>13.0</td>\n",
       "      <td>14.0</td>\n",
       "      <td>1.0</td>\n",
       "    </tr>\n",
       "  </tbody>\n",
       "</table>\n",
       "</div>"
      ],
      "text/plain": [
       "  id  activity  begin   end  time\n",
       "0  A  cleaning    0.0   2.5   2.5\n",
       "1  A  charging    2.5   3.5   1.0\n",
       "2  A  cleaning    3.5   6.0   2.5\n",
       "3  A  charging    6.0   7.0   1.0\n",
       "4  A  cleaning    7.0   9.5   2.5\n",
       "5  A  charging    9.5  10.5   1.0\n",
       "6  A  cleaning   10.5  13.0   2.5\n",
       "7  A  charging   13.0  14.0   1.0"
      ]
     },
     "metadata": {},
     "output_type": "display_data"
    }
   ],
   "source": [
    "df = pd.DataFrame(data_log, columns=[\"id\", \"activity\", \"begin\", \"end\"])\n",
    "df[\"time\"] = df[\"end\"] - df[\"begin\"]\n",
    "display(df)"
   ]
  },
  {
   "cell_type": "code",
   "execution_count": 5,
   "metadata": {},
   "outputs": [
    {
     "data": {
      "text/html": [
       "<div>\n",
       "<style scoped>\n",
       "    .dataframe tbody tr th:only-of-type {\n",
       "        vertical-align: middle;\n",
       "    }\n",
       "\n",
       "    .dataframe tbody tr th {\n",
       "        vertical-align: top;\n",
       "    }\n",
       "\n",
       "    .dataframe thead th {\n",
       "        text-align: right;\n",
       "    }\n",
       "</style>\n",
       "<table border=\"1\" class=\"dataframe\">\n",
       "  <thead>\n",
       "    <tr style=\"text-align: right;\">\n",
       "      <th></th>\n",
       "      <th>time</th>\n",
       "    </tr>\n",
       "    <tr>\n",
       "      <th>activity</th>\n",
       "      <th></th>\n",
       "    </tr>\n",
       "  </thead>\n",
       "  <tbody>\n",
       "    <tr>\n",
       "      <th>charging</th>\n",
       "      <td>4.0</td>\n",
       "    </tr>\n",
       "    <tr>\n",
       "      <th>cleaning</th>\n",
       "      <td>10.0</td>\n",
       "    </tr>\n",
       "  </tbody>\n",
       "</table>\n",
       "</div>"
      ],
      "text/plain": [
       "          time\n",
       "activity      \n",
       "charging   4.0\n",
       "cleaning  10.0"
      ]
     },
     "execution_count": 5,
     "metadata": {},
     "output_type": "execute_result"
    }
   ],
   "source": [
    "pd.pivot_table(df, index=[\"activity\"], aggfunc={\"time\":sum} )"
   ]
  },
  {
   "cell_type": "code",
   "execution_count": 6,
   "metadata": {},
   "outputs": [
    {
     "data": {
      "text/html": [
       "<div>\n",
       "<style scoped>\n",
       "    .dataframe tbody tr th:only-of-type {\n",
       "        vertical-align: middle;\n",
       "    }\n",
       "\n",
       "    .dataframe tbody tr th {\n",
       "        vertical-align: top;\n",
       "    }\n",
       "\n",
       "    .dataframe thead th {\n",
       "        text-align: right;\n",
       "    }\n",
       "</style>\n",
       "<table border=\"1\" class=\"dataframe\">\n",
       "  <thead>\n",
       "    <tr style=\"text-align: right;\">\n",
       "      <th></th>\n",
       "      <th>id</th>\n",
       "      <th>activity</th>\n",
       "      <th>begin</th>\n",
       "      <th>end</th>\n",
       "      <th>time</th>\n",
       "    </tr>\n",
       "  </thead>\n",
       "  <tbody>\n",
       "    <tr>\n",
       "      <th>0</th>\n",
       "      <td>E</td>\n",
       "      <td>cleaning</td>\n",
       "      <td>0.0</td>\n",
       "      <td>1.2</td>\n",
       "      <td>1.2</td>\n",
       "    </tr>\n",
       "    <tr>\n",
       "      <th>1</th>\n",
       "      <td>B</td>\n",
       "      <td>cleaning</td>\n",
       "      <td>0.0</td>\n",
       "      <td>1.5</td>\n",
       "      <td>1.5</td>\n",
       "    </tr>\n",
       "    <tr>\n",
       "      <th>2</th>\n",
       "      <td>E</td>\n",
       "      <td>charging</td>\n",
       "      <td>1.2</td>\n",
       "      <td>1.7</td>\n",
       "      <td>0.5</td>\n",
       "    </tr>\n",
       "    <tr>\n",
       "      <th>3</th>\n",
       "      <td>C</td>\n",
       "      <td>cleaning</td>\n",
       "      <td>0.0</td>\n",
       "      <td>2.0</td>\n",
       "      <td>2.0</td>\n",
       "    </tr>\n",
       "    <tr>\n",
       "      <th>4</th>\n",
       "      <td>B</td>\n",
       "      <td>charging</td>\n",
       "      <td>1.5</td>\n",
       "      <td>2.0</td>\n",
       "      <td>0.5</td>\n",
       "    </tr>\n",
       "    <tr>\n",
       "      <th>...</th>\n",
       "      <td>...</td>\n",
       "      <td>...</td>\n",
       "      <td>...</td>\n",
       "      <td>...</td>\n",
       "      <td>...</td>\n",
       "    </tr>\n",
       "    <tr>\n",
       "      <th>59</th>\n",
       "      <td>D</td>\n",
       "      <td>charging</td>\n",
       "      <td>13.3</td>\n",
       "      <td>14.7</td>\n",
       "      <td>1.4</td>\n",
       "    </tr>\n",
       "    <tr>\n",
       "      <th>60</th>\n",
       "      <td>E</td>\n",
       "      <td>cleaning</td>\n",
       "      <td>13.6</td>\n",
       "      <td>14.8</td>\n",
       "      <td>1.2</td>\n",
       "    </tr>\n",
       "    <tr>\n",
       "      <th>61</th>\n",
       "      <td>F</td>\n",
       "      <td>cleaning</td>\n",
       "      <td>12.0</td>\n",
       "      <td>15.0</td>\n",
       "      <td>3.0</td>\n",
       "    </tr>\n",
       "    <tr>\n",
       "      <th>62</th>\n",
       "      <td>E</td>\n",
       "      <td>charging</td>\n",
       "      <td>14.8</td>\n",
       "      <td>15.3</td>\n",
       "      <td>0.5</td>\n",
       "    </tr>\n",
       "    <tr>\n",
       "      <th>63</th>\n",
       "      <td>B</td>\n",
       "      <td>cleaning</td>\n",
       "      <td>14.0</td>\n",
       "      <td>15.5</td>\n",
       "      <td>1.5</td>\n",
       "    </tr>\n",
       "  </tbody>\n",
       "</table>\n",
       "<p>64 rows × 5 columns</p>\n",
       "</div>"
      ],
      "text/plain": [
       "   id  activity  begin   end  time\n",
       "0   E  cleaning    0.0   1.2   1.2\n",
       "1   B  cleaning    0.0   1.5   1.5\n",
       "2   E  charging    1.2   1.7   0.5\n",
       "3   C  cleaning    0.0   2.0   2.0\n",
       "4   B  charging    1.5   2.0   0.5\n",
       ".. ..       ...    ...   ...   ...\n",
       "59  D  charging   13.3  14.7   1.4\n",
       "60  E  cleaning   13.6  14.8   1.2\n",
       "61  F  cleaning   12.0  15.0   3.0\n",
       "62  E  charging   14.8  15.3   0.5\n",
       "63  B  cleaning   14.0  15.5   1.5\n",
       "\n",
       "[64 rows x 5 columns]"
      ]
     },
     "metadata": {},
     "output_type": "display_data"
    }
   ],
   "source": [
    "import simpy \n",
    "import pandas as pd\n",
    "\n",
    "# create an empty data log\n",
    "data_log = []\n",
    "\n",
    "# The Roomba model isa Python generator. The id, charge_time, and clean_time\n",
    "# parameters are the information needed to specify a particular instance of a Roomba.\n",
    "# The model will log the begin and end of each charge and clean cycle.\n",
    "\n",
    "def roomba(id, charge_time, clean_time):\n",
    "    while True:\n",
    "        # cleaning phase\n",
    "        tic = env.now\n",
    "        yield env.timeout(clean_time)\n",
    "        toc = env.now\n",
    "        data_log.append([id, \"cleaning\", tic, toc])\n",
    "   \n",
    "        # charging phase\n",
    "        tic = env.now\n",
    "        yield env.timeout(charge_time)\n",
    "        toc = env.now\n",
    "        data_log.append([id, \"charging\", tic, toc])\n",
    "\n",
    "# create the simulation environment\n",
    "env = simpy.Environment()\n",
    "\n",
    "for r in roomba_df.index:\n",
    "    env.process(roomba(roomba_df[\"id\"][r], roomba_df[\"charge_time\"][r], roomba_df[\"clean_time\"][r]))\n",
    "\n",
    "# run the simulation\n",
    "env.run(until=16)\n",
    "\n",
    "df = pd.DataFrame(data_log, columns=[\"id\", \"activity\", \"begin\", \"end\"])\n",
    "df[\"time\"] = df[\"end\"] - df[\"begin\"]\n",
    "display(df)"
   ]
  },
  {
   "cell_type": "code",
   "execution_count": 7,
   "metadata": {},
   "outputs": [
    {
     "data": {
      "text/html": [
       "<div>\n",
       "<style scoped>\n",
       "    .dataframe tbody tr th:only-of-type {\n",
       "        vertical-align: middle;\n",
       "    }\n",
       "\n",
       "    .dataframe tbody tr th {\n",
       "        vertical-align: top;\n",
       "    }\n",
       "\n",
       "    .dataframe thead th {\n",
       "        text-align: right;\n",
       "    }\n",
       "</style>\n",
       "<table border=\"1\" class=\"dataframe\">\n",
       "  <thead>\n",
       "    <tr style=\"text-align: right;\">\n",
       "      <th></th>\n",
       "      <th>time</th>\n",
       "    </tr>\n",
       "    <tr>\n",
       "      <th>activity</th>\n",
       "      <th></th>\n",
       "    </tr>\n",
       "  </thead>\n",
       "  <tbody>\n",
       "    <tr>\n",
       "      <th>charging</th>\n",
       "      <td>23.2</td>\n",
       "    </tr>\n",
       "    <tr>\n",
       "      <th>cleaning</th>\n",
       "      <td>65.3</td>\n",
       "    </tr>\n",
       "  </tbody>\n",
       "</table>\n",
       "</div>"
      ],
      "text/plain": [
       "          time\n",
       "activity      \n",
       "charging  23.2\n",
       "cleaning  65.3"
      ]
     },
     "execution_count": 7,
     "metadata": {},
     "output_type": "execute_result"
    }
   ],
   "source": [
    "df[\"time\"] = df[\"end\"] - df[\"begin\"]\n",
    "pd.pivot_table(df, index=[\"activity\"], aggfunc={\"time\":sum} )"
   ]
  },
  {
   "cell_type": "code",
   "execution_count": 8,
   "metadata": {
    "nbpages": {
     "level": 3,
     "link": "[3.3.9.4 Exercise 4. (optional)](https://jckantor.github.io/CBE40455-2020/03.03-Agent-Based-Models.html#3.3.9.4-Exercise-4.-(optional))",
     "section": "3.3.9.4 Exercise 4. (optional)"
    }
   },
   "outputs": [
    {
     "data": {
      "image/png": "[encoded data removed]",
      "text/plain": [
       "<Figure size 720x216 with 1 Axes>"
      ]
     },
     "metadata": {
      "needs_background": "light"
     },
     "output_type": "display_data"
    }
   ],
   "source": [
    "%matplotlib inline\n",
    "import matplotlib.pyplot as plt\n",
    "from matplotlib.lines import Line2D\n",
    "\n",
    "def gantt(df, lw=10):\n",
    "    \n",
    "    # create sorted lists of the unique ids and activities appearing in the data log\n",
    "    ids = sorted(list(set(df[\"id\"])))\n",
    "    activities = sorted(list(set(df[\"activity\"])))\n",
    "    \n",
    "    # create list of unique colors for each event\n",
    "    colors = [f\"C{i}\" for i in range(len(activities))]\n",
    "    \n",
    "    # create plot window\n",
    "    fig, ax = plt.subplots(1, 1, figsize=(10, 3))\n",
    "    \n",
    "    # for each event and id, find entries in the data log and plot the begin and end points\n",
    "    for i, activity in enumerate(activities):\n",
    "        for j, id in enumerate(ids):  \n",
    "            for k in df[(df[\"id\"]==id) & (df[\"activity\"]==activity)].index:\n",
    "                ax.plot([df[\"begin\"][k], df[\"end\"][k]], [j, j], colors[i], solid_capstyle=\"butt\", lw=lw)\n",
    "                \n",
    "    # create legend\n",
    "    lines = [Line2D([0], [0], lw=lw, color=colors[i]) for i in range(len(activities))]\n",
    "    ax.legend(lines, activities, bbox_to_anchor=(1.05, 1.0), loc=\"upper left\")\n",
    "    \n",
    "    # annotate the axes\n",
    "    ax.set_yticks(range(len(ids)))\n",
    "    ax.set_yticklabels(ids)\n",
    "    ax.grid(True)\n",
    "    ax.set_xlabel(\"Time\")\n",
    "    ax.set_title(\"Gannt Chart\")\n",
    "    for sp in ['top', 'bottom', 'right', 'left']:\n",
    "        ax.spines[sp].set_visible(False)\n",
    "        \n",
    "gantt(df)"
   ]
  },
  {
   "cell_type": "code",
   "execution_count": 9,
   "metadata": {
    "nbpages": {
     "level": 2,
     "link": "[3.3.7 Charging stations as shared resources](https://jckantor.github.io/CBE40455-2020/03.03-Agent-Based-Models.html#3.3.7-Charging-stations-as-shared-resources)",
     "section": "3.3.7 Charging stations as shared resources"
    }
   },
   "outputs": [
    {
     "name": "stdout",
     "output_type": "stream",
     "text": [
      "          time\n",
      "activity      \n",
      "charging  14.7\n",
      "cleaning  43.5\n"
     ]
    },
    {
     "data": {
      "image/png": "[encoded data removed]",
      "text/plain": [
       "<Figure size 720x216 with 1 Axes>"
      ]
     },
     "metadata": {
      "needs_background": "light"
     },
     "output_type": "display_data"
    }
   ],
   "source": [
    "import simpy \n",
    "import pandas as pd\n",
    "\n",
    "data_log = []\n",
    "\n",
    "def roomba_model(id, charge_time, clean_time):\n",
    "    while True:\n",
    "        tic = env.now\n",
    "        yield env.timeout(clean_time)\n",
    "        toc = env.now\n",
    "        data_log.append([id, \"cleaning\", tic, toc])\n",
    "        \n",
    "        request = chargers.request()\n",
    "        yield request\n",
    "        tic = env.now\n",
    "        yield env.timeout(charge_time)\n",
    "        chargers.release(request)\n",
    "        toc = env.now\n",
    "        data_log.append([id, \"charging\", tic, toc])\n",
    "   \n",
    "env = simpy.Environment()\n",
    "chargers = simpy.Resource(env, capacity=1)\n",
    "\n",
    "for r in roomba_df.index:\n",
    "    env.process(roomba_model(roomba_df[\"id\"][r], roomba_df[\"charge_time\"][r], roomba_df[\"clean_time\"][r]))\n",
    "\n",
    "env.run(until=16)\n",
    "\n",
    "df = pd.DataFrame(data_log, columns=[\"id\", \"activity\", \"begin\", \"end\"])\n",
    "df[\"time\"] = df[\"end\"] - df[\"begin\"]\n",
    "pivot_table = pd.pivot_table(df, index=[\"activity\"], aggfunc={\"time\":sum} )\n",
    "\n",
    "print(pivot_table)\n",
    "gantt(df)"
   ]
  },
  {
   "cell_type": "code",
   "execution_count": 10,
   "metadata": {
    "nbpages": {
     "level": 2,
     "link": "[3.3.8 How many charging stations are required?](https://jckantor.github.io/CBE40455-2020/03.03-Agent-Based-Models.html#3.3.8-How-many-charging-stations-are-required?)",
     "section": "3.3.8 How many charging stations are required?"
    }
   },
   "outputs": [
    {
     "data": {
      "image/png": "[encoded data removed]",
      "text/plain": [
       "<Figure size 720x216 with 1 Axes>"
      ]
     },
     "metadata": {
      "needs_background": "light"
     },
     "output_type": "display_data"
    }
   ],
   "source": [
    "import simpy \n",
    "import pandas as pd\n",
    "import numpy as np\n",
    "\n",
    "data_log = []\n",
    "\n",
    "def roomba_model(id, charge_time, clean_time):\n",
    "    while True:\n",
    "        with chargers.request() as request:\n",
    "            yield request\n",
    "            tic = env.now\n",
    "            yield env.timeout(charge_time)\n",
    "            toc = env.now\n",
    "            data_log.append([id, \"charging\", tic, toc])\n",
    "            \n",
    "        tic = env.now\n",
    "        yield env.timeout(clean_time)\n",
    "        toc = env.now\n",
    "        data_log.append([id, \"cleaning\", tic, toc])\n",
    "        \n",
    "env = simpy.Environment()\n",
    "chargers = simpy.Resource(env, capacity=4)\n",
    "\n",
    "for r in roomba_df.index:\n",
    "    env.process(roomba_model(roomba_df[\"id\"][r], roomba_df[\"charge_time\"][r], roomba_df[\"clean_time\"][r]))\n",
    "\n",
    "env.run(until=16)\n",
    "df = pd.DataFrame(data_log, columns=[\"id\", \"activity\", \"begin\", \"end\"])\n",
    "\n",
    "df[\"time\"] = df[\"end\"] - df[\"begin\"]\n",
    "pd.pivot_table(df, index=[\"activity\"], aggfunc={\"time\":sum} )\n",
    "\n",
    "gantt(df)"
   ]
  },
  {
   "cell_type": "code",
   "execution_count": 11,
   "metadata": {},
   "outputs": [
    {
     "name": "stdout",
     "output_type": "stream",
     "text": [
      "          time\n",
      "activity      \n",
      "charging  22.7\n",
      "cleaning  62.6\n"
     ]
    },
    {
     "data": {
      "image/png": "[encoded data removed]",
      "text/plain": [
       "<Figure size 720x216 with 1 Axes>"
      ]
     },
     "metadata": {
      "needs_background": "light"
     },
     "output_type": "display_data"
    }
   ],
   "source": [
    "import simpy \n",
    "import pandas as pd\n",
    "import numpy as np\n",
    "\n",
    "data_log = []\n",
    "\n",
    "def roomba_model(id, charge_time, clean_time):\n",
    "    while True:\n",
    "        tic = env.now\n",
    "        yield env.timeout(clean_time)\n",
    "        toc = env.now\n",
    "        data_log.append([id, \"cleaning\", tic, toc])\n",
    "        \n",
    "        with chargers.request() as request:\n",
    "            yield request\n",
    "            tic = env.now\n",
    "            yield env.timeout(charge_time)\n",
    "            toc = env.now\n",
    "            data_log.append([id, \"charging\", tic, toc])\n",
    "            \n",
    "reporter_log = []\n",
    "def reporter(dt):\n",
    "    while True:\n",
    "        reporter_log.append([env.now, chargers.count])\n",
    "        yield env.timeout(dt)\n",
    "        \n",
    "env = simpy.Environment()\n",
    "chargers = simpy.Resource(env, capacity=2)\n",
    "\n",
    "for r in roomba_df.index:\n",
    "    env.process(roomba_model(roomba_df[\"id\"][r], roomba_df[\"charge_time\"][r], roomba_df[\"clean_time\"][r]))\n",
    "    \n",
    "env.process(reporter(0.1))\n",
    "\n",
    "env.run(until=16)\n",
    "df = pd.DataFrame(data_log, columns=[\"id\", \"activity\", \"begin\", \"end\"])\n",
    "\n",
    "df[\"time\"] = df[\"end\"] - df[\"begin\"]\n",
    "print(pd.pivot_table(df, index=[\"activity\"], aggfunc={\"time\":sum}))\n",
    "\n",
    "gantt(df)"
   ]
  },
  {
   "cell_type": "code",
   "execution_count": 12,
   "metadata": {},
   "outputs": [
    {
     "data": {
      "text/plain": [
       "(array([17.,  0.,  0., 54.,  0., 90.]),\n",
       " array([0.        , 0.33333333, 0.66666667, 1.        , 1.33333333,\n",
       "        1.66666667, 2.        ]),\n",
       " <BarContainer object of 6 artists>)"
      ]
     },
     "execution_count": 12,
     "metadata": {},
     "output_type": "execute_result"
    },
    {
     "data": {
      "image/png": "[encoded data removed]",
      "text/plain": [
       "<Figure size 432x288 with 1 Axes>"
      ]
     },
     "metadata": {
      "needs_background": "light"
     },
     "output_type": "display_data"
    }
   ],
   "source": [
    "data = np.array(reporter_log)\n",
    "plt.hist(data[:,1], 6)"
   ]
  },
  {
   "cell_type": "code",
   "execution_count": null,
   "metadata": {},
   "outputs": [],
   "source": []
  },
  {
   "cell_type": "code",
   "execution_count": null,
   "metadata": {},
   "outputs": [],
   "source": []
  }
 ],
 "metadata": {
  "kernelspec": {
   "display_name": "Python 3",
   "language": "python",
   "name": "python3"
  },
  "language_info": {
   "codemirror_mode": {
    "name": "ipython",
    "version": 3
   },
   "file_extension": ".py",
   "mimetype": "text/x-python",
   "name": "python",
   "nbconvert_exporter": "python",
   "pygments_lexer": "ipython3",
   "version": "3.8.12"
  }
 },
 "nbformat": 4,
 "nbformat_minor": 4
}
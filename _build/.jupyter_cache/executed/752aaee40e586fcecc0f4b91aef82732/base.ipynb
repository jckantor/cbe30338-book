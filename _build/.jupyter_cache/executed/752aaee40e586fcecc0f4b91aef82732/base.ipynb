{
 "cells": [
  {
   "cell_type": "code",
   "execution_count": 1,
   "metadata": {
    "executionInfo": {
     "elapsed": 351,
     "status": "ok",
     "timestamp": 1617821702648,
     "user": {
      "displayName": "Jeffrey Kantor",
      "photoUrl": "https://lh3.googleusercontent.com/a-/AOh14Gg_n8V7bVINy02QRuRgOoMo11Ri7NKU3OUKdC1bkQ=s64",
      "userId": "09038942003589296665"
     },
     "user_tz": 240
    },
    "id": "cwM6Z9es1HCJ"
   },
   "outputs": [],
   "source": [
    "data = {\n",
    "    \"A\": {\"C\": 2.5, \"Cu\": 0.0, \"Mn\": 1.3, \"amount\": 4000, \"cost\": 1.20},\n",
    "    \"B\": {\"C\": 3.0, \"Cu\": 0.0, \"Mn\": 0.8, \"amount\": 3000, \"cost\": 1.50},\n",
    "    \"C\": {\"C\": 0.0, \"Cu\": 0.3, \"Mn\": 0.0, \"amount\": 6000, \"cost\": 0.90},\n",
    "    \"D\": {\"C\": 0.0, \"Cu\": 90.0, \"Mn\": 0.0, \"amount\": 5000, \"cost\": 1.30},\n",
    "    \"E\": {\"C\": 0.0, \"Cu\": 96.0, \"Mn\": 4.0, \"amount\": 2000, \"cost\": 1.45},\n",
    "    \"F\": {\"C\": 0.0, \"Cu\": 0.4, \"Mn\": 1.2, \"amount\": 3000, \"cost\": 1.20},\n",
    "    \"G\": {\"C\": 0.0, \"Cu\": 0.6, \"Mn\": 0.0, \"amount\": 2500, \"cost\": 1.00},\n",
    "}"
   ]
  },
  {
   "cell_type": "code",
   "execution_count": 1,
   "metadata": {
    "executionInfo": {
     "elapsed": 541,
     "status": "ok",
     "timestamp": 1617821703701,
     "user": {
      "displayName": "Jeffrey Kantor",
      "photoUrl": "https://lh3.googleusercontent.com/a-/AOh14Gg_n8V7bVINy02QRuRgOoMo11Ri7NKU3OUKdC1bkQ=s64",
      "userId": "09038942003589296665"
     },
     "user_tz": 240
    },
    "id": "C5Rf1oc1r8do"
   },
   "outputs": [],
   "source": []
  },
  {
   "cell_type": "code",
   "execution_count": 1,
   "metadata": {
    "executionInfo": {
     "elapsed": 508,
     "status": "ok",
     "timestamp": 1617821704610,
     "user": {
      "displayName": "Jeffrey Kantor",
      "photoUrl": "https://lh3.googleusercontent.com/a-/AOh14Gg_n8V7bVINy02QRuRgOoMo11Ri7NKU3OUKdC1bkQ=s64",
      "userId": "09038942003589296665"
     },
     "user_tz": 240
    },
    "id": "heHrOElXeLQr"
   },
   "outputs": [],
   "source": []
  },
  {
   "cell_type": "code",
   "execution_count": 1,
   "metadata": {
    "executionInfo": {
     "elapsed": 154,
     "status": "ok",
     "timestamp": 1617821711041,
     "user": {
      "displayName": "Jeffrey Kantor",
      "photoUrl": "https://lh3.googleusercontent.com/a-/AOh14Gg_n8V7bVINy02QRuRgOoMo11Ri7NKU3OUKdC1bkQ=s64",
      "userId": "09038942003589296665"
     },
     "user_tz": 240
    },
    "id": "ki-CRcCpmKdg"
   },
   "outputs": [],
   "source": []
  },
  {
   "cell_type": "code",
   "execution_count": null,
   "metadata": {
    "id": "j3gZaXSyzYd5"
   },
   "outputs": [],
   "source": []
  }
 ],
 "metadata": {
  "colab": {
   "authorship_tag": "ABX9TyMII0RLURnK4dpAs76DwefW",
   "collapsed_sections": [],
   "name": "05.03-Homework_5.ipynb",
   "provenance": [
    {
     "file_id": "1KTIh_OFat5L8C2NAapN0DxQzfRkCbSBC",
     "timestamp": 1617821649285
    }
   ]
  },
  "kernelspec": {
   "display_name": "Python 3",
   "language": "python",
   "name": "python3"
  },
  "language_info": {
   "codemirror_mode": {
    "name": "ipython",
    "version": 3
   },
   "file_extension": ".py",
   "mimetype": "text/x-python",
   "name": "python",
   "nbconvert_exporter": "python",
   "pygments_lexer": "ipython3",
   "version": "3.8.12"
  }
 },
 "nbformat": 4,
 "nbformat_minor": 4
}
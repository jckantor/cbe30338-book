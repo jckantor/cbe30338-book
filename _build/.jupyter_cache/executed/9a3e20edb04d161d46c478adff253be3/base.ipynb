{
 "cells": [
  {
   "cell_type": "code",
   "execution_count": 1,
   "metadata": {
    "colab": {},
    "colab_type": "code",
    "id": "0AVcwAQlIzww",
    "nbpages": {
     "level": 3,
     "link": "[6.4.1.2 Google Colab](https://jckantor.github.io/CBE30338/06.04-Linear-Production-Model-in-Pyomo.html#6.4.1.2-Google-Colab)",
     "section": "6.4.1.2 Google Colab"
    }
   },
   "outputs": [],
   "source": [
    "%%capture\n",
    "!pip install -q pyomo\n",
    "!apt-get install -y -qq glpk-utils"
   ]
  },
  {
   "cell_type": "code",
   "execution_count": 2,
   "metadata": {
    "colab": {},
    "colab_type": "code",
    "collapsed": true,
    "id": "lDU-ku2aIzw6",
    "jupyter": {
     "outputs_hidden": true
    },
    "nbpages": {
     "level": 3,
     "link": "[6.4.4.5 Step 5. Display the solution.](https://jckantor.github.io/CBE30338/06.04-Linear-Production-Model-in-Pyomo.html#6.4.4.5-Step-5.-Display-the-solution.)",
     "section": "6.4.4.5 Step 5. Display the solution."
    },
    "outputId": "61e8a517-72e6-4ac1-8231-cbab26b8a000"
   },
   "outputs": [
    {
     "name": "stdout",
     "output_type": "stream",
     "text": [
      "# ==========================================================\n",
      "# = Solver Results                                         =\n",
      "# ==========================================================\n",
      "# ----------------------------------------------------------\n",
      "#   Problem Information\n",
      "# ----------------------------------------------------------\n",
      "Problem: \n",
      "- Name: unknown\n",
      "  Lower bound: 2600.0\n",
      "  Upper bound: 2600.0\n",
      "  Number of objectives: 1\n",
      "  Number of constraints: 4\n",
      "  Number of variables: 3\n",
      "  Number of nonzeros: 6\n",
      "  Sense: maximize\n",
      "# ----------------------------------------------------------\n",
      "#   Solver Information\n",
      "# ----------------------------------------------------------\n",
      "Solver: \n",
      "- Status: ok\n",
      "  Termination condition: optimal\n",
      "  Statistics: \n",
      "    Branch and bound: \n",
      "      Number of bounded subproblems: 0\n",
      "      Number of created subproblems: 0\n",
      "  Error rc: 0\n",
      "  Time: 0.014929056167602539\n",
      "# ----------------------------------------------------------\n",
      "#   Solution Information\n",
      "# ----------------------------------------------------------\n",
      "Solution: \n",
      "- number of solutions: 0\n",
      "  number of solutions displayed: 0\n",
      "2 Var Declarations\n",
      "    x : Size=1, Index=None\n",
      "        Key  : Lower : Value : Upper : Fixed : Stale : Domain\n",
      "        None :     0 :  20.0 :  None : False : False : NonNegativeReals\n",
      "    y : Size=1, Index=None\n",
      "        Key  : Lower : Value : Upper : Fixed : Stale : Domain\n",
      "        None :     0 :  60.0 :  None : False : False : NonNegativeReals\n",
      "\n",
      "1 Objective Declarations\n",
      "    profit : Size=1, Index=None, Active=True\n",
      "        Key  : Active : Sense    : Expression\n",
      "        None :   True : maximize : 40*x + 30*y\n",
      "\n",
      "3 Constraint Declarations\n",
      "    demand : Size=1, Index=None, Active=True\n",
      "        Key  : Lower : Body : Upper : Active\n",
      "        None :  -Inf :    x :  40.0 :   True\n",
      "    laborA : Size=1, Index=None, Active=True\n",
      "        Key  : Lower : Body  : Upper : Active\n",
      "        None :  -Inf : x + y :  80.0 :   True\n",
      "    laborB : Size=1, Index=None, Active=True\n",
      "        Key  : Lower : Body    : Upper : Active\n",
      "        None :  -Inf : 2*x + y : 100.0 :   True\n",
      "\n",
      "6 Declarations: x y profit demand laborA laborB\n",
      "\n",
      "Profit =  2600.0\n",
      "\n",
      "Decision Variables\n",
      "x =  20.0\n",
      "y =  60.0\n",
      "\n",
      "Constraints\n",
      "Demand  =  20.0\n",
      "Labor A =  80.0\n",
      "Labor B =  100.0\n"
     ]
    }
   ],
   "source": [
    "from pyomo.environ import *\n",
    "\n",
    "# create a model\n",
    "model = ConcreteModel()\n",
    "\n",
    "# declare decision variables\n",
    "model.x = Var(domain=NonNegativeReals)\n",
    "model.y = Var(domain=NonNegativeReals)\n",
    "\n",
    "# declare objective\n",
    "model.profit = Objective(expr = 40*model.x + 30*model.y, sense=maximize)\n",
    "\n",
    "# declare constraints\n",
    "model.demand = Constraint(expr = model.x <= 40)\n",
    "model.laborA = Constraint(expr = model.x + model.y <= 80)\n",
    "model.laborB = Constraint(expr = 2*model.x + model.y <= 100)\n",
    "\n",
    "# solve\n",
    "results = SolverFactory('glpk').solve(model)\n",
    "results.write()\n",
    "if results.solver.status:\n",
    "    model.pprint()\n",
    "\n",
    "# display solution\n",
    "print('\\nProfit = ', model.profit())\n",
    "\n",
    "print('\\nDecision Variables')\n",
    "print('x = ', model.x())\n",
    "print('y = ', model.y())\n",
    "\n",
    "print('\\nConstraints')\n",
    "print('Demand  = ', model.demand())\n",
    "print('Labor A = ', model.laborA())\n",
    "print('Labor B = ', model.laborB())"
   ]
  },
  {
   "cell_type": "code",
   "execution_count": 3,
   "metadata": {
    "colab": {
     "base_uri": "https://localhost:8080/",
     "height": 134
    },
    "colab_type": "code",
    "id": "00tkLG2CIzxA",
    "nbpages": {
     "level": 3,
     "link": "[6.4.5.1 Data in Matrix/Vector Format](https://jckantor.github.io/CBE30338/06.04-Linear-Production-Model-in-Pyomo.html#6.4.5.1-Data-in-Matrix/Vector-Format)",
     "section": "6.4.5.1 Data in Matrix/Vector Format"
    },
    "outputId": "e4e4700d-5f26-4d42-f6ad-a902dd9f3a22"
   },
   "outputs": [
    {
     "name": "stdout",
     "output_type": "stream",
     "text": [
      "x[ 0 ] = 20.0\n",
      "x[ 1 ] = 60.0\n",
      "constraints : Size=3\n",
      "    Key : Lower : Body  : Upper\n",
      "      1 :  None :  20.0 :  40.0\n",
      "      2 :  None :  80.0 :  80.0\n",
      "      3 :  None : 100.0 : 100.0\n"
     ]
    }
   ],
   "source": [
    "from pyomo.environ import *\n",
    "import numpy as np\n",
    "\n",
    "# enter data as numpy arrays\n",
    "A = np.array([[1, 0], [1, 1],[2,1]])\n",
    "b = np.array([40, 80,100])\n",
    "c = np.array([40,30])\n",
    "\n",
    "# set of row indices\n",
    "I = range(len(A))\n",
    "\n",
    "# set of column indices\n",
    "J = range(len(A.T))\n",
    "\n",
    "# create a model instance\n",
    "model = ConcreteModel()\n",
    "\n",
    "# create x and y variables in the model\n",
    "model.x = Var(J)\n",
    "\n",
    "# add model constraints\n",
    "model.constraints = ConstraintList()\n",
    "for i in I:\n",
    "    model.constraints.add(sum(A[i,j]*model.x[j] for j in J) <= b[i])\n",
    "\n",
    "# add a model objective\n",
    "model.objective = Objective(expr = sum(c[j]*model.x[j] for j in J), sense=maximize)\n",
    "\n",
    "# create a solver\n",
    "solver = SolverFactory('glpk')\n",
    "\n",
    "# solve\n",
    "solver.solve(model)\n",
    "\n",
    "# print solutions\n",
    "for j in J:\n",
    "    print(\"x[\", j, \"] =\", model.x[j].value)\n",
    "\n",
    "model.constraints.display()"
   ]
  },
  {
   "cell_type": "code",
   "execution_count": null,
   "metadata": {
    "colab": {},
    "colab_type": "code",
    "id": "GDeRpBkRIzxD",
    "nbpages": {
     "level": 3,
     "link": "[6.4.5.1 Data in Matrix/Vector Format](https://jckantor.github.io/CBE30338/06.04-Linear-Production-Model-in-Pyomo.html#6.4.5.1-Data-in-Matrix/Vector-Format)",
     "section": "6.4.5.1 Data in Matrix/Vector Format"
    }
   },
   "outputs": [],
   "source": []
  }
 ],
 "metadata": {
  "colab": {
   "name": "06.04-Linear-Production-Model-in-Pyomo.ipynb",
   "provenance": []
  },
  "kernelspec": {
   "display_name": "Python 3",
   "language": "python",
   "name": "python3"
  },
  "language_info": {
   "codemirror_mode": {
    "name": "ipython",
    "version": 3
   },
   "file_extension": ".py",
   "mimetype": "text/x-python",
   "name": "python",
   "nbconvert_exporter": "python",
   "pygments_lexer": "ipython3",
   "version": "3.8.12"
  }
 },
 "nbformat": 4,
 "nbformat_minor": 4
}
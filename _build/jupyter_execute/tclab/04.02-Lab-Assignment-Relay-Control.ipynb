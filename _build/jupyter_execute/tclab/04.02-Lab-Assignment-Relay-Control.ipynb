{
 "cells": [
  {
   "cell_type": "markdown",
   "metadata": {},
   "source": [
    "# Lab Assignment 4: Relay Control\n",
    "\n",
    "In this lab assignment you will implement relay control for the Temperature Control Laboratory.\n",
    "\n",
    "1. Implement and test a relay control for the heater/sensor system\n",
    "2. Implement and test a relay control to track a complex setpoint."
   ]
  },
  {
   "cell_type": "markdown",
   "metadata": {},
   "source": [
    "## Exercise 1. Relay (or On-Off) control\n"
   ]
  },
  {
   "cell_type": "markdown",
   "metadata": {},
   "source": [
    "Create a notebook to implements a relay control for the Temperature Control Lab subject the following requirements:\n",
    "\n",
    "* Simultaneous control of sensor temperatures T1 and T2 to setpoints 35 and 40 degrees, respectively. The setpoints return to 25 deg C at  t = 300.\n",
    "* Use a tolerance value $d$ of 0.5 deg C.\n",
    "* Set the minimum and maximum values of the heater to 0 and 100%, respectively. lab.P1 and lab.P2 should be left at their default values.\n",
    "* Show the results of an experiment in which the setpoints are adjusted as \n",
    "\n",
    "Some started code is include below."
   ]
  },
  {
   "cell_type": "code",
   "execution_count": null,
   "metadata": {},
   "outputs": [],
   "source": [
    "from tclab import TCLab, clock, Historian, Plotter, setup\n",
    "\n",
    "TCLab = setup(connected=False)\n",
    "\n",
    "# modify these setpoints to change with time\n",
    "\n",
    "def SP1(t):\n",
    "    return 40\n",
    "\n",
    "def SP2(t):\n",
    "    return 35\n",
    "\n",
    "# relay controller\n",
    "def relay(SP, d=1, Umin=0, Umax=100):\n",
    "    U = 0\n",
    "    while True:\n",
    "        t, T = yield U\n",
    "        if T < SP(t) - d/2:\n",
    "            U = Umax\n",
    "        if T > SP(t) + d/2:\n",
    "            U = Umin\n",
    "\n",
    "# create a single control loop\n",
    "controller1 = relay(SP1)\n",
    "controller1.send(None)\n",
    "\n",
    "t_final = 500\n",
    "t_step = 1\n",
    "with TCLab() as lab:\n",
    "    h = Historian({\"T1\": lambda )\n",
    "    p = Plotter(h, t_final)\n",
    "    for t in clock(t_final, t_step):\n",
    "        T1 = lab.T1\n",
    "        U1 = controller1.send([t, T1])\n",
    "        lab.Q1(U1)\n",
    "        p.update()"
   ]
  },
  {
   "cell_type": "markdown",
   "metadata": {},
   "source": [
    "## Procedures\n",
    "\n",
    "1. Begin by testing the above code on your laptop.\n",
    "2. Create a new cell, copy the code to the new cell, and extend the code to control both T1 and T2 to the desired setpoints.\n",
    "3. Create another new cell, modify the setpoint functions to include the switch to 25 degrees at t=300 for both temperatures. Test this cell on your real hardware.\n",
    "4. Create one more new cell, and use class notes on setpoints to create a setpoint function using interpolation that reproduces the chart below. Scale time so the whole temperature program can be completed in 10 minutes. The goal is to hit 50 deg C at 3 miinutes, 27 deg C at 7 minutes, return to 32 deg C at 8 minutes, and hold until 10 minutes. The goal is follow the ramp as closely as possible.\n",
    "\n",
    "Apply the setpoint to T1 while maintaining T2 at a constant 30 deg C."
   ]
  },
  {
   "cell_type": "markdown",
   "metadata": {},
   "source": [
    "![](https://d29hmqxeker05q.cloudfront.net/eyJidWNrZXQiOiJpbWFnZXMuY2tiay5jb20iLCJrZXkiOiJpbWFnZXMvY2hvYzI0NDE0YzA0czAwMXNzMDAxc3NzMDA0ZzAxLmpwZyIsImVkaXRzIjp7InJlc2l6ZSI6eyJ3aXRob3V0RW5sYXJnZW1lbnQiOnRydWUsIndpZHRoIjo2NTEsImhlaWdodCI6NTAwLCJmaXQiOiJpbnNpZGUifSwianBlZyI6eyJxdWFsaXR5Ijo5MCwicHJvZ3Jlc3NpdmUiOnRydWV9fX0=)"
   ]
  },
  {
   "cell_type": "code",
   "execution_count": null,
   "metadata": {},
   "outputs": [],
   "source": []
  }
 ],
 "metadata": {
  "kernelspec": {
   "display_name": "Python 3 (ipykernel)",
   "language": "python",
   "name": "python3"
  },
  "language_info": {
   "codemirror_mode": {
    "name": "ipython",
    "version": 3
   },
   "file_extension": ".py",
   "mimetype": "text/x-python",
   "name": "python",
   "nbconvert_exporter": "python",
   "pygments_lexer": "ipython3",
   "version": "3.9.7"
  }
 },
 "nbformat": 4,
 "nbformat_minor": 4
}
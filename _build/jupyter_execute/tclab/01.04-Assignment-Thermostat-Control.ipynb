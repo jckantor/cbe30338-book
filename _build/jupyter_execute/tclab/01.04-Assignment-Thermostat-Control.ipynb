{
 "cells": [
  {
   "cell_type": "markdown",
   "metadata": {},
   "source": [
    "# Lab 1: Thermostat Control"
   ]
  },
  {
   "cell_type": "markdown",
   "metadata": {},
   "source": [
    "The purpose of this first laboratory session is to verify that you can interface and interact with the TCLab hardware, and familiarize you with the TCLab library. The first exercise will be to code a rudimentary relay (also called 'on-off' or thermostat) controller for one of the two heaters.\n",
    "\n",
    "For background on on-off control, consult\n",
    "\n",
    "* [On-Off Control in Section 1.6 of *Feedback Control for Scientists and Engineers*](http://www.cds.caltech.edu/~murray/books/AM08/pdf/fbs-intro_07Aug2019.pdf#page=19)"
   ]
  },
  {
   "cell_type": "markdown",
   "metadata": {},
   "source": [
    "## Procedures"
   ]
  },
  {
   "cell_type": "markdown",
   "metadata": {},
   "source": [
    "1. Download a copy of this notebook to your laptop and complete the exercises shown below. Under each exercise heading, add as many text and code cells as needed to complete the exercise. The results should be embedded in the notebook. 'Save-as-you-go' to avoid losing your work.\n",
    "\n",
    "1. Submit your completed lab notebook via Canvas. All submissions must be pdf format."
   ]
  },
  {
   "cell_type": "markdown",
   "metadata": {},
   "source": [
    "## Step 1. Download and install TCLab.py\n",
    "\n",
    "Execute the following cell to download and install the TCLab.py python library."
   ]
  },
  {
   "cell_type": "code",
   "execution_count": 1,
   "metadata": {},
   "outputs": [
    {
     "name": "stdout",
     "output_type": "stream",
     "text": [
      "Collecting tclab\n",
      "  Using cached tclab-0.4.9-py2.py3-none-any.whl (28 kB)\n",
      "Collecting pyserial\n",
      "  Using cached pyserial-3.5-py2.py3-none-any.whl (90 kB)\n",
      "Installing collected packages: pyserial, tclab\n",
      "Successfully installed pyserial-3.5 tclab-0.4.9\n"
     ]
    }
   ],
   "source": [
    "!pip install tclab --upgrade"
   ]
  },
  {
   "cell_type": "markdown",
   "metadata": {},
   "source": [
    "## Step 2.  Verify that your hardware and software are working correctly.\n",
    "\n",
    "The following cell should cause the LED on the TCLab shield to light up to 50% maximum brightness. The output of this cell should indicate successful connection and disconnect."
   ]
  },
  {
   "cell_type": "code",
   "execution_count": 3,
   "metadata": {},
   "outputs": [
    {
     "name": "stdout",
     "output_type": "stream",
     "text": [
      "TCLab version 0.4.10dev\n",
      "Arduino Leonardo connected on port /dev/cu.usbmodem144101 at 115200 baud.\n",
      "TCLab Firmware 2.0.1 Arduino Leonardo/Micro.\n",
      "TCLab disconnected successfully.\n"
     ]
    }
   ],
   "source": [
    "from tclab import TCLab\n",
    "\n",
    "with TCLab() as lab:\n",
    "    lab.LED(50)"
   ]
  },
  {
   "cell_type": "markdown",
   "metadata": {},
   "source": [
    "## Step 3. Turn on the heaters for 120 seconds and log temperature response.\n",
    "\n",
    "For this exercise, write a code cell that turns on heater 1 at 100% power, then log the temperature response once per second for 120 seconds. The output of the cell should report the time, power level, and temperature for each measurement. You will need the `clock` function from `tclab` for this exercise."
   ]
  },
  {
   "cell_type": "code",
   "execution_count": 4,
   "metadata": {},
   "outputs": [],
   "source": [
    "# put your code here."
   ]
  },
  {
   "cell_type": "markdown",
   "metadata": {},
   "source": [
    "## Step 4. Code an on-off controller. \n",
    "\n",
    "Code an on-off controller for a setpoint of 30 degrees C using heater 1 as the manipulated variable, and temperature 1 as the measured variable. Operate the controller for at least 5 minutes (600 seconds) reporting time/power/temperature measurements every 2 seconds. "
   ]
  },
  {
   "cell_type": "code",
   "execution_count": 5,
   "metadata": {},
   "outputs": [],
   "source": [
    "# put your code here."
   ]
  },
  {
   "cell_type": "markdown",
   "metadata": {},
   "source": [
    "## Step 5. Analysis\n",
    "\n",
    "Examine the results of the previous exercise and answer the following questions.\n",
    "\n",
    "1. After the initial transients decay and the system is in continuous cycling mode, how much time elapses between power on and power off events?\n",
    "\n",
    "2. What is the approximate duty cycle (i.e, fraction of time the heater is in the 'on' state) once the initial start-up period has passed.\n",
    "\n",
    "3. What is the peak-to-peak magnitude of the temperature oscillation around the setpoint?  Why does this occur?\n",
    "\n",
    "Type your answers in the markdown cell below."
   ]
  },
  {
   "cell_type": "markdown",
   "metadata": {},
   "source": [
    "Write your answers in this markdown cell."
   ]
  }
 ],
 "metadata": {
  "kernelspec": {
   "display_name": "Python 3 (ipykernel)",
   "language": "python",
   "name": "python3"
  },
  "language_info": {
   "codemirror_mode": {
    "name": "ipython",
    "version": 3
   },
   "file_extension": ".py",
   "mimetype": "text/x-python",
   "name": "python",
   "nbconvert_exporter": "python",
   "pygments_lexer": "ipython3",
   "version": "3.9.7"
  }
 },
 "nbformat": 4,
 "nbformat_minor": 4
}
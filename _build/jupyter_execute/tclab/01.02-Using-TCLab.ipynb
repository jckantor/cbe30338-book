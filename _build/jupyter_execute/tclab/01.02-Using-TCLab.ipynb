{
 "cells": [
  {
   "cell_type": "markdown",
   "metadata": {},
   "source": [
    "# Using TCLab"
   ]
  },
  {
   "cell_type": "markdown",
   "metadata": {
    "slideshow": {
     "slide_type": "skip"
    }
   },
   "source": [
    "## Creating a TCLab instance\n",
    "    \n",
    "Once installed, the `tclab` package can be imported into Python and an instance created with the Python statements\n",
    "\n",
    "    from tclab import TCLab\n",
    "    lab = TCLab()\n",
    "    # do something\n",
    "    lab.close()\n",
    "\n",
    "TCLab() attempts to find a device connected to a serial port and return a connection. An error is generated if no device is found.  The connection must be closed when no longer in use."
   ]
  },
  {
   "cell_type": "code",
   "execution_count": 1,
   "metadata": {},
   "outputs": [
    {
     "name": "stdout",
     "output_type": "stream",
     "text": [
      "TCLab version 0.4.10dev\n",
      "Arduino Leonardo connected on port /dev/cu.usbmodem144101 at 115200 baud.\n",
      "TCLab Firmware 2.0.1 Arduino Leonardo/Micro.\n",
      "TCLab disconnected successfully.\n"
     ]
    }
   ],
   "source": [
    "from tclab import TCLab\n",
    "\n",
    "lab = TCLab()\n",
    "# do something\n",
    "lab.close()"
   ]
  },
  {
   "cell_type": "markdown",
   "metadata": {},
   "source": [
    "## Using the LED\n",
    "\n",
    "The following cell demonstrates the  process, and uses the tclab `LED()` function to flash the LED on the Temperature Control Lab for a period of 10 seconds at a 100% brightness level. "
   ]
  },
  {
   "cell_type": "code",
   "execution_count": 2,
   "metadata": {},
   "outputs": [
    {
     "name": "stdout",
     "output_type": "stream",
     "text": [
      "TCLab version 0.4.10dev\n",
      "Arduino Leonardo connected on port /dev/cu.usbmodem144101 at 115200 baud.\n",
      "TCLab Firmware 2.0.1 Arduino Leonardo/Micro.\n",
      "TCLab disconnected successfully.\n"
     ]
    }
   ],
   "source": [
    "from tclab import TCLab\n",
    "\n",
    "lab = TCLab()\n",
    "lab.LED(50)\n",
    "lab.close()"
   ]
  },
  {
   "cell_type": "markdown",
   "metadata": {},
   "source": [
    "## Using TCLab and Python's `with` statement\n",
    "\n",
    "The Python `with` statement provides a convenient means of setting up and closing a connection to the Temperature Control Laboratory. In particular, the with statement establishes a context where a tclab instance is created, assigned to a variable, and automatically closed upon completion. The `with` statement is the preferred way to connect the Temperature Control Laboratory for most uses."
   ]
  },
  {
   "cell_type": "code",
   "execution_count": 3,
   "metadata": {
    "slideshow": {
     "slide_type": "skip"
    }
   },
   "outputs": [
    {
     "name": "stdout",
     "output_type": "stream",
     "text": [
      "TCLab version 0.4.10dev\n",
      "Arduino Leonardo connected on port /dev/cu.usbmodem144101 at 115200 baud.\n",
      "TCLab Firmware 2.0.1 Arduino Leonardo/Micro.\n",
      "TCLab disconnected successfully.\n"
     ]
    }
   ],
   "source": [
    "from tclab import TCLab\n",
    "\n",
    "with TCLab() as lab:\n",
    "    lab.LED(100)"
   ]
  },
  {
   "cell_type": "markdown",
   "metadata": {},
   "source": [
    "## Reading Temperatures\n",
    "\n",
    "Once a tclab instance is created and connected to a device the temperature sensors are acccessed with the attributes `.T1` and `.T2`.  Given an instance named `lab`, the temperatures are accessed as\n",
    "\n",
    "    T1 = lab.T1\n",
    "    T2 = lab.T2\n",
    "\n",
    "Note that `lab.T1` and `lab.T2` are read-only properties. Attempt to assign a value will return a Python error."
   ]
  },
  {
   "cell_type": "code",
   "execution_count": 4,
   "metadata": {},
   "outputs": [
    {
     "name": "stdout",
     "output_type": "stream",
     "text": [
      "TCLab version 0.4.10dev\n",
      "Arduino Leonardo connected on port /dev/cu.usbmodem144101 at 115200 baud.\n",
      "TCLab Firmware 2.0.1 Arduino Leonardo/Micro.\n",
      "Temperature 1: 21.22 C\n",
      "Temperature 2: 20.45 C\n",
      "TCLab disconnected successfully.\n"
     ]
    }
   ],
   "source": [
    "from tclab import TCLab\n",
    "\n",
    "with TCLab() as lab:\n",
    "    T1 = lab.T1\n",
    "    T2 = lab.T2\n",
    "    print(f\"Temperature 1: {T1:0.2f} C\")\n",
    "    print(f\"Temperature 2: {T2:0.2f} C\")"
   ]
  },
  {
   "cell_type": "markdown",
   "metadata": {},
   "source": [
    "## Setting Heater Power"
   ]
  },
  {
   "cell_type": "markdown",
   "metadata": {},
   "source": [
    "### Setting maximum power with `.P1` and `.P2`\n",
    "\n",
    "Heater power is specified as a percentage of the maximum power available at each heater. The maximum power to each heater is determined by setting parameters `.P1` and `.P2` to number in the range 0 and 255. The default settings are\n",
    "\n",
    "    lab.P1 = 200\n",
    "    lab.P2 = 100\n",
    "    \n",
    "Based on laboratory measurements, the power delivered to each heater is approximately 14.5 mW per unit increase in `.P1` and `.P2`. For heater 1 at the default setting of 200, the power is \n",
    "\n",
    "$$ 200 \\times 14.5 \\text{mW} \\times \\frac{\\text{1 watt}}{\\text{1000 mW}} = 2.9\\text{ watts}$$\n",
    "\n",
    "For heater 2 at the default setting of 100, the power is\n",
    "\n",
    "$$ 100 \\times 14.5 \\text{mW} \\times \\frac{\\text{1 watt}}{\\text{1000 mW}} = 1.45\\text{ watts}$$\n",
    "\n",
    "Note that the power delivered to the heaters for constant `.P1` and `.P2` is temperature dependent, and there will be some variation among units.\n",
    "\n",
    "The default values for `.P1` and `.P2` were chosen to avoid unnecessarily high temperatures, and to include an asymmetric response between the two heaters."
   ]
  },
  {
   "cell_type": "code",
   "execution_count": null,
   "metadata": {},
   "outputs": [],
   "source": [
    "from tclab import TCLab\n",
    "\n",
    "with TCLab() as lab:\n",
    "    P1 = lab.P1\n",
    "    P2 = lab.P2\n",
    "    print(f\"The maximum power of heater 1 is set to {P1:.0f} corresponding to {P1*0.0145:.2f} watts.\")\n",
    "    print(f\"The maximum power of heater 1 is set to {P2:.0f} corresponding to {P2*0.0145:.2f} watts.\")"
   ]
  },
  {
   "cell_type": "markdown",
   "metadata": {},
   "source": [
    "### Setting heater power with `.Q1()` and `.Q2()`\n",
    "\n",
    "For legacy reasons, there are two ways to set the percentage of maximum power delivered to the heaters. The first way is to the functions`.Q1()` and `.Q2()` of a `TCLab` instance. For example, both heaters can be set to 100% power with the functions\n",
    "\n",
    "    lab = TCLab()\n",
    "    lab.Q1(100)\n",
    "    lab.Q2(100)\n",
    "\n",
    "The device firmware limits the heaters to a range of 0 to 100%. The current settiing may be accessed via\n",
    "\n",
    "    Q1 = lab.Q1()\n",
    "    Q2 = lab.Q2()\n",
    "    \n",
    "The LED on the temperature control laboratory will turns bright when either heater is on. Closing the TCLab instance turns the heaters off."
   ]
  },
  {
   "cell_type": "code",
   "execution_count": null,
   "metadata": {
    "slideshow": {
     "slide_type": "skip"
    }
   },
   "outputs": [],
   "source": [
    "from tclab import TCLab\n",
    "import time\n",
    "\n",
    "with TCLab() as lab:\n",
    "    print(f\"Starting Temperature 1: {lab.T1:0.2f} C\")\n",
    "    print(f\"Starting Temperature 2: {lab.T2:0.2f} C\")\n",
    "\n",
    "    lab.Q1(100)\n",
    "    lab.Q2(100)\n",
    "    \n",
    "    print(f\"Set Heater 1: {lab.Q1()} %\")\n",
    "    print(f\"Set Heater 2: {lab.Q2()} %\")\n",
    "    \n",
    "    t_heat = 30\n",
    "    print(f\"Heat for {t_heat} seconds\")\n",
    "    time.sleep(t_heat)\n",
    "\n",
    "    print(\"Turn Heaters Off\")\n",
    "    lab.Q1(0)\n",
    "    lab.Q2(0)\n",
    "\n",
    "    print(\"Set Heater 1:\", lab.Q1(), \"%\")\n",
    "    print(\"Set Heater 2:\", lab.Q2(), \"%\")\n",
    "    \n",
    "    print(f\"Final Temperature 1: {lab.T1:0.2f} C\")\n",
    "    print(f\"Final Temperature 2: {lab.T2:0.2f} C\")"
   ]
  },
  {
   "cell_type": "markdown",
   "metadata": {},
   "source": [
    "### Setting heater power with `.U1` and `.U2`\n",
    "\n",
    "Alternatively, the percentage of maximum power delivered to the heaters can be set by assigning value to the `.U1` and `.U2` attributes of a `TCLab` instances. Getting the value of `.U1` and `.U2` retrieves the current settings."
   ]
  },
  {
   "cell_type": "code",
   "execution_count": null,
   "metadata": {},
   "outputs": [],
   "source": [
    "lab = TCLab()\n",
    "\n",
    "print('Setting power levels on heaters 1 and 2')\n",
    "lab.U1 = 50\n",
    "lab.U2 = 25\n",
    "\n",
    "print('Current power level on Heater 1 is: ', lab.U1, '%')\n",
    "print('Current power level on Heater 1 is: ', lab.U2, '%')\n",
    "\n",
    "lab.close()"
   ]
  },
  {
   "cell_type": "markdown",
   "metadata": {
    "slideshow": {
     "slide_type": "skip"
    }
   },
   "source": [
    "## Synchronizing with Real Time using `clock`\n",
    "\n",
    "The `tclab` module includes `clock` for synchronizing calculations with real time.  `clock(t_period, t_step)` generates a sequence of evenly spaced time step over a period`t_period` seconds that are `t_step` seconds apart. If `t_step` is omitted then the default time step is set to 1 second."
   ]
  },
  {
   "cell_type": "code",
   "execution_count": null,
   "metadata": {},
   "outputs": [],
   "source": [
    "from tclab import clock\n",
    "\n",
    "t_period = 6\n",
    "t_step = 2\n",
    "for t in clock(t_period, t_step):\n",
    "    print(t, \"sec.\")"
   ]
  },
  {
   "cell_type": "markdown",
   "metadata": {},
   "source": [
    "There are some considerations to keep in mind when using `clock`. Most important, by its nature Python is not a real-time environment. `clock` makes a best effort to stay in sync with evenly spaced ticks of the real time clock. If, for some reason, the loop falls behind the real time clock, then the generator will skip over the event to get back in sync with the real time clock. Thus the total number of iterations may be less than expected. This behavior is demonstrated in the following cell."
   ]
  },
  {
   "cell_type": "code",
   "execution_count": 10,
   "metadata": {},
   "outputs": [
    {
     "name": "stdout",
     "output_type": "stream",
     "text": [
      "0 sec.\n",
      "2.0 sec.\n",
      "4.0 sec.\n",
      "8.0 sec.\n",
      "10.0 sec.\n",
      "12.0 sec.\n"
     ]
    }
   ],
   "source": [
    "from tclab import TCLab, clock\n",
    "\n",
    "import time\n",
    "\n",
    "t_period = 12\n",
    "t_step = 2\n",
    "for t in clock(t_period, t_step):\n",
    "    print(t, \"sec.\")\n",
    "    \n",
    "    # insert a long time out between 3 and 5 seconds into the event loop\n",
    "    if (t > 3) and (t < 5):\n",
    "        time.sleep(2.2)"
   ]
  },
  {
   "cell_type": "markdown",
   "metadata": {},
   "source": [
    "### Using `clock` with TCLab\n",
    "\n",
    "The following cell demonstrates use of `clock` to perform a short experiment. "
   ]
  },
  {
   "cell_type": "code",
   "execution_count": 11,
   "metadata": {},
   "outputs": [
    {
     "name": "stdout",
     "output_type": "stream",
     "text": [
      "TCLab version 0.4.9\n",
      "Arduino Leonardo connected on port /dev/cu.usbmodem14401 at 115200 baud.\n",
      "TCLab Firmware 2.0.1 Arduino Leonardo/Micro.\n",
      "Set Heater 1 to 100.0 %\n",
      "Set Heater 2 to 100.0 %\n",
      "  0.0 sec:  T1 = 34.8 C   T2 = 31.0 C\n",
      "  1.0 sec:  T1 = 34.8 C   T2 = 31.6 C\n",
      "  2.0 sec:  T1 = 34.8 C   T2 = 31.6 C\n",
      "  3.0 sec:  T1 = 34.9 C   T2 = 31.2 C\n",
      "  4.0 sec:  T1 = 35.0 C   T2 = 31.4 C\n",
      "  5.0 sec:  T1 = 35.1 C   T2 = 31.6 C\n",
      "  6.0 sec:  T1 = 35.1 C   T2 = 32.0 C\n",
      "  7.0 sec:  T1 = 35.2 C   T2 = 32.0 C\n",
      "  8.0 sec:  T1 = 35.3 C   T2 = 31.6 C\n",
      "  9.0 sec:  T1 = 35.4 C   T2 = 31.8 C\n",
      " 10.0 sec:  T1 = 35.4 C   T2 = 32.0 C\n",
      " 11.0 sec:  T1 = 35.7 C   T2 = 32.4 C\n",
      " 12.0 sec:  T1 = 35.7 C   T2 = 32.4 C\n",
      " 13.0 sec:  T1 = 35.9 C   T2 = 32.4 C\n",
      " 14.0 sec:  T1 = 36.0 C   T2 = 32.5 C\n",
      " 15.0 sec:  T1 = 36.1 C   T2 = 32.3 C\n",
      " 16.0 sec:  T1 = 36.4 C   T2 = 32.3 C\n",
      " 17.0 sec:  T1 = 36.4 C   T2 = 32.8 C\n",
      " 18.0 sec:  T1 = 36.7 C   T2 = 33.0 C\n",
      " 19.0 sec:  T1 = 36.9 C   T2 = 33.0 C\n",
      " 20.0 sec:  T1 = 37.0 C   T2 = 32.8 C\n",
      "TCLab disconnected successfully.\n"
     ]
    }
   ],
   "source": [
    "from tclab import TCLab, clock\n",
    "\n",
    "# length of the experiment in seconds\n",
    "t_period = 20\n",
    "\n",
    "with TCLab() as lab:\n",
    "    # turn heaters on to 100%\n",
    "    lab.Q1(100)\n",
    "    lab.Q2(100)\n",
    "    print(f\"Set Heater 1 to {lab.Q1():.1f} %\")\n",
    "    print(f\"Set Heater 2 to {lab.Q2():.1f} %\")\n",
    "\n",
    "    # print temperatures each second for tperiod seconds\n",
    "    for t in clock(t_period):\n",
    "        print(f\"{t:5.1f} sec:  T1 = {lab.T1:4.1f} C   T2 = {lab.T2:4.1f} C\")   "
   ]
  },
  {
   "cell_type": "markdown",
   "metadata": {},
   "source": [
    "## The TCLab `Historian`"
   ]
  },
  {
   "cell_type": "markdown",
   "metadata": {},
   "source": [
    "The `Historian` class provides means for logging process data to a database. \n",
    "\n",
    "Given a list `sources` of data sources and methods to access the data, `Historian(sources)` creates an historian that logs data to database on each call to `.update()`. Given an instance `lab` of a TCLab object, `lab.sources` is a default list of data sources and methods for logging temperatures `lab.T1` and `lab.T2` and power settings `lab.U1` and `lab.U2`.\n",
    "\n",
    "    lab = TCLab()\n",
    "    h = Historian(lab.sources)\n",
    "    \n",
    "The historian automatically initializes a database to log the process data. The database is updated by issuing a command\n",
    "\n",
    "    h.update(t)\n",
    "    \n",
    "where `t` is variable containing the current time. \n",
    "\n",
    "To demonstrate, the following cell logs 10 seconds of data with time varying power level applied to heater 1. When the experiment is over, `h.to_csv` saves the data to a file that be imported in python or a spreadsheet application."
   ]
  },
  {
   "cell_type": "code",
   "execution_count": 12,
   "metadata": {},
   "outputs": [
    {
     "name": "stdout",
     "output_type": "stream",
     "text": [
      "TCLab version 0.4.9\n",
      "Arduino Leonardo connected on port /dev/cu.usbmodem14401 at 115200 baud.\n",
      "TCLab Firmware 2.0.1 Arduino Leonardo/Micro.\n",
      "TCLab disconnected successfully.\n"
     ]
    }
   ],
   "source": [
    "from tclab import TCLab, clock, Historian\n",
    "\n",
    "with TCLab() as lab:\n",
    "    h = Historian(lab.sources)\n",
    "    for t in clock(10):\n",
    "        lab.Q1(100 if t <= 5 else 0)\n",
    "        h.update(t)\n",
    "        \n",
    "h.to_csv('data.csv')"
   ]
  },
  {
   "cell_type": "markdown",
   "metadata": {},
   "source": [
    "Once saved, data can be read and plotted using the [Pandas Data Analysis Library](https://pandas.pydata.org/) as demonstrated in this cell."
   ]
  },
  {
   "cell_type": "code",
   "execution_count": 13,
   "metadata": {},
   "outputs": [
    {
     "name": "stdout",
     "output_type": "stream",
     "text": [
      "        Time      T1      T2     Q1   Q2\n",
      "Time                                    \n",
      "0.00    0.00  37.979  33.306  100.0  0.0\n",
      "1.00    1.00  38.301  33.467  100.0  0.0\n",
      "2.01    2.01  38.397  33.467  100.0  0.0\n",
      "3.01    3.01  38.623  33.757  100.0  0.0\n",
      "4.00    4.00  38.784  33.789  100.0  0.0\n",
      "5.00    5.00  38.945  33.821  100.0  0.0\n",
      "6.00    6.00  39.268  34.111    0.0  0.0\n",
      "7.00    7.00  39.268  34.111    0.0  0.0\n",
      "8.00    8.00  39.461  34.111    0.0  0.0\n",
      "9.00    9.00  39.590  34.144    0.0  0.0\n",
      "10.00  10.00  39.687  34.208    0.0  0.0\n"
     ]
    },
    {
     "data": {
      "text/plain": [
       "<AxesSubplot:xlabel='Time'>"
      ]
     },
     "execution_count": 13,
     "metadata": {},
     "output_type": "execute_result"
    },
    {
     "data": {
      "image/png": "[encoded data removed]",
      "text/plain": [
       "<Figure size 432x288 with 1 Axes>"
      ]
     },
     "metadata": {
      "filenames": {
       "image/png": "/Users/jeff/Google Drive/GitHub/cbe30338-book/_build/jupyter_execute/tclab/01.02-Using-TCLab_26_2.png"
      },
      "needs_background": "light"
     },
     "output_type": "display_data"
    }
   ],
   "source": [
    "%matplotlib inline\n",
    "\n",
    "import pandas as pd\n",
    "data = pd.read_csv('data.csv')\n",
    "data.index = data['Time']\n",
    "print(data)\n",
    "data[['Q1', 'Q2']].plot(grid=True)"
   ]
  },
  {
   "cell_type": "markdown",
   "metadata": {},
   "source": [
    "## The TCLab `Plotter`\n",
    "\n",
    "The `Plotter` class adds a real time plotting of experimental data. A plotter is created from an instance of an historian as follows\n",
    "\n",
    "    h = Historian(lab.sources)\n",
    "    p = Plotter(h)\n",
    "    \n",
    "Updating the plotter also updates the associated historian.\n",
    "\n",
    "    p.update(t)\n",
    "    \n",
    "The following example shows how this works."
   ]
  },
  {
   "cell_type": "code",
   "execution_count": 14,
   "metadata": {},
   "outputs": [
    {
     "data": {
      "image/png": "[encoded data removed]",
      "text/plain": [
       "<Figure size 640x480 with 4 Axes>"
      ]
     },
     "metadata": {
      "filenames": {
       "image/png": "/Users/jeff/Google Drive/GitHub/cbe30338-book/_build/jupyter_execute/tclab/01.02-Using-TCLab_28_0.png"
      }
     },
     "output_type": "display_data"
    },
    {
     "name": "stdout",
     "output_type": "stream",
     "text": [
      "TCLab disconnected successfully.\n"
     ]
    },
    {
     "data": {
      "image/png": "[encoded data removed]",
      "text/plain": [
       "<Figure size 640x480 with 4 Axes>"
      ]
     },
     "metadata": {
      "filenames": {
       "image/png": "/Users/jeff/Google Drive/GitHub/cbe30338-book/_build/jupyter_execute/tclab/01.02-Using-TCLab_28_2.png"
      },
      "needs_background": "light"
     },
     "output_type": "display_data"
    }
   ],
   "source": [
    "%matplotlib inline\n",
    "import matplotlib.pyplot as plt\n",
    "\n",
    "from tclab import TCLab, clock, Historian, Plotter\n",
    "\n",
    "with TCLab() as lab:\n",
    "    h = Historian(lab.sources)\n",
    "    p = Plotter(h, 10)\n",
    "    for t in clock(10):\n",
    "        lab.Q1(100 if t <= 5 else 0)\n",
    "        p.update(t)\n",
    "        \n",
    "h.to_csv('data.csv')"
   ]
  },
  {
   "cell_type": "markdown",
   "metadata": {},
   "source": [
    "## Using TCLab Offline\n",
    "\n",
    "The `tclab` library includes a simulation capability. This is useful for circumstances when it isn't possible to access the hardware.  The followinig cell demonstrated the use of `setup` to use the library in simulation mode. The argument `connected` is set to `True` if the hardware is connected, otherwise `False`. Simulation mode allows the use of the `speedup` parameter to run experiments at some multiple of real time. "
   ]
  },
  {
   "cell_type": "code",
   "execution_count": 15,
   "metadata": {},
   "outputs": [
    {
     "data": {
      "image/png": "[encoded data removed]",
      "text/plain": [
       "<Figure size 640x480 with 4 Axes>"
      ]
     },
     "metadata": {
      "filenames": {
       "image/png": "/Users/jeff/Google Drive/GitHub/cbe30338-book/_build/jupyter_execute/tclab/01.02-Using-TCLab_30_0.png"
      }
     },
     "output_type": "display_data"
    },
    {
     "name": "stdout",
     "output_type": "stream",
     "text": [
      "TCLab Model disconnected successfully.\n"
     ]
    },
    {
     "data": {
      "image/png": "[encoded data removed]",
      "text/plain": [
       "<Figure size 640x480 with 4 Axes>"
      ]
     },
     "metadata": {
      "filenames": {
       "image/png": "/Users/jeff/Google Drive/GitHub/cbe30338-book/_build/jupyter_execute/tclab/01.02-Using-TCLab_30_2.png"
      },
      "needs_background": "light"
     },
     "output_type": "display_data"
    }
   ],
   "source": [
    "%matplotlib inline\n",
    "from tclab import clock, setup, Historian, Plotter\n",
    "\n",
    "t_period = 120\n",
    "TCLab = setup(connected=False, speedup=20)\n",
    "        \n",
    "with TCLab() as lab:\n",
    "    h = Historian(lab.sources)\n",
    "    p = Plotter(h, t_period)\n",
    "    for t in clock(t_period):\n",
    "        lab.Q1(100 if t % 20 <= 5 else 0)\n",
    "        p.update(t)"
   ]
  },
  {
   "cell_type": "markdown",
   "metadata": {},
   "source": [
    "## Running Diagnostics"
   ]
  },
  {
   "cell_type": "code",
   "execution_count": 16,
   "metadata": {},
   "outputs": [
    {
     "name": "stdout",
     "output_type": "stream",
     "text": [
      "Version =  0.4.9\n",
      "\n",
      "Checking connection\n",
      "-------------------\n",
      "Looking for Arduino on any port...\n",
      "Arduino Leonardo found on port /dev/cu.usbmodem14401\n",
      "\n",
      "Testing TCLab object in debug mode\n",
      "----------------------------------\n",
      "TCLab version 0.4.9\n",
      "Sent: \"Q1 0\"\n",
      "Return: \"0.000\"\n",
      "Sent: \"VER\"\n",
      "Return: \"TCLab Firmware 2.0.1 Arduino Leonardo/Micro\"\n",
      "Arduino Leonardo connected on port /dev/cu.usbmodem14401 at 115200 baud.\n",
      "TCLab Firmware 2.0.1 Arduino Leonardo/Micro.\n",
      "Sent: \"Q2 0\"\n",
      "Return: \"0.000\"\n",
      "Reading temperature\n",
      "Sent: \"T1\"\n",
      "Return: \"42.200\"\n",
      "42.2\n",
      "Sent: \"Q1 0\"\n",
      "Return: \"0.000\"\n",
      "Sent: \"Q2 0\"\n",
      "Return: \"0.000\"\n",
      "Sent: \"X\"\n",
      "Return: \"Stop\"\n",
      "TCLab disconnected successfully.\n",
      "\n",
      "Testing TCLab functions\n",
      "-----------------------\n",
      "TCLab version 0.4.9\n",
      "Arduino Leonardo connected on port /dev/cu.usbmodem14401 at 115200 baud.\n",
      "TCLab Firmware 2.0.1 Arduino Leonardo/Micro.\n",
      "Testing LED. Should turn on for 10 seconds.\n",
      "Countdown: 0  \n",
      "\n",
      "Reading temperatures\n",
      "T1 = 41.201 °C, T2 = 35.723 °C\n",
      "\n",
      "Writing fractional value to heaters...\n",
      "We wrote Q1 = 0.5, and read back Q1 = 0.5\n",
      "\n",
      "We will now turn on the heaters, wait 30 seconds and see if the temperatures have gone up. \n",
      "Countdown: 0   \n",
      "\n",
      "T1 started a 41.201 °C and went to 43.264 °C\n",
      "T2 started a 35.723 °C and went to 38.204 °C\n",
      "\n",
      "\n",
      "Throughput check\n",
      "----------------\n",
      "This part checks how fast your unit is\n",
      "We will read T1 as fast as possible\n",
      "Time elapsed: 9.96 s. Number of reads: 148. Sampling rate: 14.85 Hz\n",
      "TCLab disconnected successfully.\n",
      "\n",
      "Diagnostics complete\n"
     ]
    }
   ],
   "source": [
    "import tclab\n",
    "\n",
    "print(\"Version = \", tclab.__version__)\n",
    "tclab.diagnose()"
   ]
  }
 ],
 "metadata": {
  "kernelspec": {
   "display_name": "Python 3 (ipykernel)",
   "language": "python",
   "name": "python3"
  },
  "language_info": {
   "codemirror_mode": {
    "name": "ipython",
    "version": 3
   },
   "file_extension": ".py",
   "mimetype": "text/x-python",
   "name": "python",
   "nbconvert_exporter": "python",
   "pygments_lexer": "ipython3",
   "version": "3.8.12"
  }
 },
 "nbformat": 4,
 "nbformat_minor": 4
}
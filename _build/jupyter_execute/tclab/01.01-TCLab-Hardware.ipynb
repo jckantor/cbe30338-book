{
 "cells": [
  {
   "cell_type": "markdown",
   "metadata": {},
   "source": [
    "# Setting up the Temperature Control Lab\n",
    "\n",
    "The [Temperature Control Laboratory](http://apmonitor.com/pdc/index.php/Main/ArduinoTemperatureControl) provides a low-cost, hands-on learning environment for process control. The Arduino-based device comprises a two-input, two-output system of heaters and sensors. [TCLab](https://github.com/jckantor/TCLab) is a Python library providing the software tools to create and test control algorithms ranging from simple step testing to sophisticated multivarible predictive control.\n",
    "\n",
    "![](figures/B.00-arduino_lab_kit.png)\n",
    "\n",
    "The Temperature Control Laboratory hardware consists of five components:\n",
    "\n",
    "1. Arduino Leonardo microcontroller board.\n",
    "\n",
    "2. The Temperature Control Laboratory plug-in board (also known as a shield).\n",
    "\n",
    "3. Five watt USB power supply.\n",
    "\n",
    "4. 5.5mm to USB power supply cable.\n",
    "\n",
    "5. USB 2.0 data cable. (w/mini-USB connector for Arduino Uno, or micro-USB cable for Arduino Leonardo.)\n",
    "\n",
    "\n",
    "\n",
    "Before going further, be sure to complete the steps outlined under *Hardware setup* as described in TCLab [README](https://github.com/jckantor/TCLab/blob/master/README.rst). \n",
    "\n",
    "Mac OS users may need to install a serial driver available [here](https://github.com/adrianmihalko/ch340g-ch34g-ch34x-mac-os-x-driver). Normally the TCLab shield will already be mounted on the Arduino board, and the firmware driver will have been loaded on to the Arduino."
   ]
  },
  {
   "cell_type": "code",
   "execution_count": null,
   "metadata": {},
   "outputs": [],
   "source": []
  }
 ],
 "metadata": {
  "kernelspec": {
   "display_name": "Python 3 (ipykernel)",
   "language": "python",
   "name": "python3"
  },
  "language_info": {
   "codemirror_mode": {
    "name": "ipython",
    "version": 3
   },
   "file_extension": ".py",
   "mimetype": "text/x-python",
   "name": "python",
   "nbconvert_exporter": "python",
   "pygments_lexer": "ipython3",
   "version": "3.8.12"
  }
 },
 "nbformat": 4,
 "nbformat_minor": 4
}
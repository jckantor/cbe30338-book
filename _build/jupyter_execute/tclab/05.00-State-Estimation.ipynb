{
 "cells": [
  {
   "cell_type": "markdown",
   "metadata": {
    "id": "iXWCukfc-_7X"
   },
   "source": [
    "# State Estimation\n",
    "\n",
    "\n",
    "## Reference materials\n",
    "\n",
    "* Wang, Shuo. \"Kalman Filter in a Nutshell.\" *Towards Data Science*, https://towardsdatascience.com/kalman-filter-in-a-nutshell-e66154a06862. Accessed 6 December 2020."
   ]
  }
 ],
 "metadata": {
  "colab": {
   "collapsed_sections": [],
   "name": "03.00-State-Estimation.ipynb",
   "provenance": []
  },
  "kernelspec": {
   "display_name": "Python 3 (ipykernel)",
   "language": "python",
   "name": "python3"
  },
  "language_info": {
   "codemirror_mode": {
    "name": "ipython",
    "version": 3
   },
   "file_extension": ".py",
   "mimetype": "text/x-python",
   "name": "python",
   "nbconvert_exporter": "python",
   "pygments_lexer": "ipython3",
   "version": "3.8.12"
  }
 },
 "nbformat": 4,
 "nbformat_minor": 4
}
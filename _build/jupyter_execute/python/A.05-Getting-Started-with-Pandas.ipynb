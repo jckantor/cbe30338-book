{
 "cells": [
  {
   "cell_type": "markdown",
   "id": "aaedf1f5-ab14-4062-82be-f1576fb4ce1d",
   "metadata": {},
   "source": [
    "# Getting Started with Pandas\n",
    "\n",
    "[Pandas](https://pandas.pydata.org/) is the most popular and widely used Python library for data wrangling and analysis. Originally eveloped in the financial services industry, pandas is now included in all major distributions of Python and has become a mainstay for doing data analysis in Python. \n",
    "\n",
    "The purpose of this notebook is to get you started using pandas. Pandas is a big library capable of handling complex applications. But in the spirit of the 80/20 rule (i.e., [Pareto principle]()), our goal here is to introduce a small part of the pandas library that can handle requirements.\n",
    "\n",
    "This streamlined approach employees principles of \"Tidy Data\", a consistent, simple, and straightforward approach to organizing tabular data. Keeping data organized following \"Tidy Data\" principles means much less time \"wrangling\" data, short and clear Python code for analysis, and more time devoted to creating good data."
   ]
  },
  {
   "cell_type": "markdown",
   "id": "6ddf0aec-72ad-4b06-8686-046a6736e4cc",
   "metadata": {},
   "source": [
    "## Tidy Data\n",
    "\n",
    "Data acquired in process applications is normally accumulated by repeated observation of process variables. The values are typically numbers, such as temperature or pressure, but can also be strings, integers, or categorical data, such as whether a solenoid valve is an \"on\" or \"off\", or the status of a process alarm.\n",
    "\n",
    "We will make the following assumptions about our data sets.\n",
    "\n",
    "* Data from repeated observations is arranged in tabular form in data files. Each distinct experiment, treatment, or unit of data is located in a separate file.\n",
    "* Every column of a data file holds all data for a unique variable.\n",
    "* Every row of a data file is an observation.\n",
    "* Every cell contains a single value.\n",
    "\n",
    "These straightforward guidelines are closely tied to concepts underlying relational databases and have become known as the [\"Tidy Data\"](https://vita.had.co.nz/papers/tidy-data.pdf) principles popularized by Hadley Wickham. Adopting these principles when creating and saving data streamlines later analysis. [Hart, et al., provide excellent contrasting examples of tidy and messy data](https://journals.plos.org/ploscompbiol/article?id=10.1371/journal.pcbi.1005097).\n",
    "\n",
    "For these notes we will assume our data is stored in data files organized using \"Tiny Data\" principles. If your data doesn't satisfy these assumptions, follow the procedures described by [Wickham](https://vita.had.co.nz/papers/tidy-data.pdf) to reorgnize your data for efficient analysis."
   ]
  },
  {
   "cell_type": "markdown",
   "id": "065569db-eca9-4b71-bbed-9adff76508dc",
   "metadata": {},
   "source": [
    "## Reading Data Files\n",
    "\n",
    "We proceed assuming data stored in data files, each data file corresponding to an experiment or other clearly defined collection of observations. "
   ]
  },
  {
   "cell_type": "markdown",
   "id": "9b7b727f-4983-4c59-b822-15668266501b",
   "metadata": {},
   "source": [
    "### From .csv files\n",
    "\n",
    "For files stored in `.csv` format, a pandas **DataFrame** object is created with the [`read_csv(data_file)`](https://pandas.pydata.org/docs/reference/api/pandas.read_csv.html). `data_file` is a string containing a url or the name of a local file. `read_csv()` function has many optional arguments, but for simple cases the path to the data file is often enough to do the job."
   ]
  },
  {
   "cell_type": "code",
   "execution_count": 1,
   "id": "5fb562ba-4015-4a35-8041-3c116822a8ff",
   "metadata": {},
   "outputs": [
    {
     "data": {
      "text/html": [
       "<div>\n",
       "<style scoped>\n",
       "    .dataframe tbody tr th:only-of-type {\n",
       "        vertical-align: middle;\n",
       "    }\n",
       "\n",
       "    .dataframe tbody tr th {\n",
       "        vertical-align: top;\n",
       "    }\n",
       "\n",
       "    .dataframe thead th {\n",
       "        text-align: right;\n",
       "    }\n",
       "</style>\n",
       "<table border=\"1\" class=\"dataframe\">\n",
       "  <thead>\n",
       "    <tr style=\"text-align: right;\">\n",
       "      <th></th>\n",
       "      <th>Time</th>\n",
       "      <th>T1</th>\n",
       "      <th>T2</th>\n",
       "      <th>Q1</th>\n",
       "      <th>Q2</th>\n",
       "    </tr>\n",
       "  </thead>\n",
       "  <tbody>\n",
       "    <tr>\n",
       "      <th>0</th>\n",
       "      <td>0.00</td>\n",
       "      <td>21.543</td>\n",
       "      <td>20.898</td>\n",
       "      <td>50.0</td>\n",
       "      <td>0.0</td>\n",
       "    </tr>\n",
       "    <tr>\n",
       "      <th>1</th>\n",
       "      <td>1.00</td>\n",
       "      <td>21.543</td>\n",
       "      <td>20.898</td>\n",
       "      <td>50.0</td>\n",
       "      <td>0.0</td>\n",
       "    </tr>\n",
       "    <tr>\n",
       "      <th>2</th>\n",
       "      <td>2.01</td>\n",
       "      <td>21.543</td>\n",
       "      <td>20.898</td>\n",
       "      <td>50.0</td>\n",
       "      <td>0.0</td>\n",
       "    </tr>\n",
       "    <tr>\n",
       "      <th>3</th>\n",
       "      <td>3.01</td>\n",
       "      <td>21.543</td>\n",
       "      <td>20.931</td>\n",
       "      <td>50.0</td>\n",
       "      <td>0.0</td>\n",
       "    </tr>\n",
       "    <tr>\n",
       "      <th>4</th>\n",
       "      <td>4.00</td>\n",
       "      <td>21.543</td>\n",
       "      <td>20.931</td>\n",
       "      <td>50.0</td>\n",
       "      <td>0.0</td>\n",
       "    </tr>\n",
       "    <tr>\n",
       "      <th>...</th>\n",
       "      <td>...</td>\n",
       "      <td>...</td>\n",
       "      <td>...</td>\n",
       "      <td>...</td>\n",
       "      <td>...</td>\n",
       "    </tr>\n",
       "    <tr>\n",
       "      <th>796</th>\n",
       "      <td>796.00</td>\n",
       "      <td>58.281</td>\n",
       "      <td>37.656</td>\n",
       "      <td>50.0</td>\n",
       "      <td>0.0</td>\n",
       "    </tr>\n",
       "    <tr>\n",
       "      <th>797</th>\n",
       "      <td>797.01</td>\n",
       "      <td>58.120</td>\n",
       "      <td>37.656</td>\n",
       "      <td>50.0</td>\n",
       "      <td>0.0</td>\n",
       "    </tr>\n",
       "    <tr>\n",
       "      <th>798</th>\n",
       "      <td>798.01</td>\n",
       "      <td>58.378</td>\n",
       "      <td>37.560</td>\n",
       "      <td>50.0</td>\n",
       "      <td>0.0</td>\n",
       "    </tr>\n",
       "    <tr>\n",
       "      <th>799</th>\n",
       "      <td>799.00</td>\n",
       "      <td>58.281</td>\n",
       "      <td>37.624</td>\n",
       "      <td>50.0</td>\n",
       "      <td>0.0</td>\n",
       "    </tr>\n",
       "    <tr>\n",
       "      <th>800</th>\n",
       "      <td>800.01</td>\n",
       "      <td>58.668</td>\n",
       "      <td>37.592</td>\n",
       "      <td>50.0</td>\n",
       "      <td>0.0</td>\n",
       "    </tr>\n",
       "  </tbody>\n",
       "</table>\n",
       "<p>801 rows × 5 columns</p>\n",
       "</div>"
      ],
      "text/plain": [
       "       Time      T1      T2    Q1   Q2\n",
       "0      0.00  21.543  20.898  50.0  0.0\n",
       "1      1.00  21.543  20.898  50.0  0.0\n",
       "2      2.01  21.543  20.898  50.0  0.0\n",
       "3      3.01  21.543  20.931  50.0  0.0\n",
       "4      4.00  21.543  20.931  50.0  0.0\n",
       "..      ...     ...     ...   ...  ...\n",
       "796  796.00  58.281  37.656  50.0  0.0\n",
       "797  797.01  58.120  37.656  50.0  0.0\n",
       "798  798.01  58.378  37.560  50.0  0.0\n",
       "799  799.00  58.281  37.624  50.0  0.0\n",
       "800  800.01  58.668  37.592  50.0  0.0\n",
       "\n",
       "[801 rows x 5 columns]"
      ]
     },
     "metadata": {},
     "output_type": "display_data"
    }
   ],
   "source": [
    "import pandas as pd\n",
    "\n",
    "data_file = \"https://raw.githubusercontent.com/jckantor/cbe30338-book/main/notebooks/data/tclab-data-example.csv\"\n",
    "df = pd.read_csv(data_file)\n",
    "display(df)"
   ]
  },
  {
   "cell_type": "markdown",
   "id": "d1da165c-0b60-4ea3-8d43-78f4bc683f38",
   "metadata": {},
   "source": [
    "### From Google Sheets\n",
    "\n",
    "Google sheets are a convenient to collect and share data. There is a complete API and libraries to enable full read/write access to Google Sheets. But if the data is not confidential and can be temporarilty published to the web for public access, then it takes just a few steps and one line of Python to read the data as pandas DataFrame.\n",
    "\n",
    "The first step is publish the sheet to the web. In Google Sheets, select \"File > Share > Publish to the Web\".\n",
    "\n",
    "![](figures/pandas-google-sheets-1.png)\n",
    "\n",
    "In the dialog box, choose the \"Link\" tab. The choose the sheet to be published and \"Comma-seperated values (.csv)\" from the drop down menus. Click \"Publish\".\n",
    "\n",
    "![](figures/pandas-google-sheets-2.png)\n",
    "\n",
    "After confirming the choice to publish, copy the link url.  This url can be read by `.read_csv()` to create a pandas dataframe.\n",
    "\n",
    "![](figures/pandas-google-sheets-3.png)\n",
    "\n",
    "Copy the url into the following cell to complete the operation."
   ]
  },
  {
   "cell_type": "code",
   "execution_count": 2,
   "id": "70a6069a-a547-48a5-9c85-1f15b151acff",
   "metadata": {},
   "outputs": [
    {
     "data": {
      "text/html": [
       "<div>\n",
       "<style scoped>\n",
       "    .dataframe tbody tr th:only-of-type {\n",
       "        vertical-align: middle;\n",
       "    }\n",
       "\n",
       "    .dataframe tbody tr th {\n",
       "        vertical-align: top;\n",
       "    }\n",
       "\n",
       "    .dataframe thead th {\n",
       "        text-align: right;\n",
       "    }\n",
       "</style>\n",
       "<table border=\"1\" class=\"dataframe\">\n",
       "  <thead>\n",
       "    <tr style=\"text-align: right;\">\n",
       "      <th></th>\n",
       "      <th>Hot Flow (L/hr)</th>\n",
       "      <th>Cold Flow (L/hr)</th>\n",
       "      <th>Time</th>\n",
       "      <th>H Outlet</th>\n",
       "      <th>H Inlet</th>\n",
       "      <th>C Inlet</th>\n",
       "      <th>C Outlet</th>\n",
       "      <th>T5 (ｰC)</th>\n",
       "      <th>T6 (ｰC)</th>\n",
       "      <th>T7 (ｰC)</th>\n",
       "      <th>...</th>\n",
       "      <th>dQm/dt (kW)</th>\n",
       "      <th>cp2 (kJ/kg*K)</th>\n",
       "      <th>cp1 (kJ/kg*K)</th>\n",
       "      <th>dTm (ｰC)</th>\n",
       "      <th>k1 (kW/K*mｲ)</th>\n",
       "      <th>k2 (kW/K*mｲ)</th>\n",
       "      <th>km (kW/K*mｲ)</th>\n",
       "      <th>rho1 (kg/dmｳ)</th>\n",
       "      <th>rho2 (kg/dmｳ)</th>\n",
       "      <th>EFF (%)</th>\n",
       "    </tr>\n",
       "  </thead>\n",
       "  <tbody>\n",
       "    <tr>\n",
       "      <th>0</th>\n",
       "      <td>651</td>\n",
       "      <td>798</td>\n",
       "      <td>32:08.1</td>\n",
       "      <td>37.3</td>\n",
       "      <td>56.4</td>\n",
       "      <td>15.5</td>\n",
       "      <td>30.8</td>\n",
       "      <td>41.8</td>\n",
       "      <td>18.8</td>\n",
       "      <td>45.5</td>\n",
       "      <td>...</td>\n",
       "      <td>14.29</td>\n",
       "      <td>4.183</td>\n",
       "      <td>4.179</td>\n",
       "      <td>23.6</td>\n",
       "      <td>10.703</td>\n",
       "      <td>13.305</td>\n",
       "      <td>8.673</td>\n",
       "      <td>0.989</td>\n",
       "      <td>0.998</td>\n",
       "      <td>100.0</td>\n",
       "    </tr>\n",
       "    <tr>\n",
       "      <th>1</th>\n",
       "      <td>651</td>\n",
       "      <td>798</td>\n",
       "      <td>32:07.8</td>\n",
       "      <td>37.2</td>\n",
       "      <td>56.3</td>\n",
       "      <td>15.4</td>\n",
       "      <td>30.8</td>\n",
       "      <td>41.8</td>\n",
       "      <td>18.8</td>\n",
       "      <td>45.5</td>\n",
       "      <td>...</td>\n",
       "      <td>14.29</td>\n",
       "      <td>4.183</td>\n",
       "      <td>4.179</td>\n",
       "      <td>23.6</td>\n",
       "      <td>10.678</td>\n",
       "      <td>13.329</td>\n",
       "      <td>8.671</td>\n",
       "      <td>0.989</td>\n",
       "      <td>0.998</td>\n",
       "      <td>100.0</td>\n",
       "    </tr>\n",
       "    <tr>\n",
       "      <th>2</th>\n",
       "      <td>651</td>\n",
       "      <td>798</td>\n",
       "      <td>32:07.6</td>\n",
       "      <td>37.2</td>\n",
       "      <td>56.3</td>\n",
       "      <td>15.4</td>\n",
       "      <td>30.8</td>\n",
       "      <td>41.8</td>\n",
       "      <td>18.8</td>\n",
       "      <td>45.5</td>\n",
       "      <td>...</td>\n",
       "      <td>14.25</td>\n",
       "      <td>4.183</td>\n",
       "      <td>4.179</td>\n",
       "      <td>23.6</td>\n",
       "      <td>10.654</td>\n",
       "      <td>13.329</td>\n",
       "      <td>8.639</td>\n",
       "      <td>0.989</td>\n",
       "      <td>0.998</td>\n",
       "      <td>100.0</td>\n",
       "    </tr>\n",
       "    <tr>\n",
       "      <th>3</th>\n",
       "      <td>650</td>\n",
       "      <td>512</td>\n",
       "      <td>29:13.0</td>\n",
       "      <td>41.4</td>\n",
       "      <td>56.4</td>\n",
       "      <td>15.6</td>\n",
       "      <td>34.7</td>\n",
       "      <td>45.5</td>\n",
       "      <td>20.3</td>\n",
       "      <td>48.4</td>\n",
       "      <td>...</td>\n",
       "      <td>11.39</td>\n",
       "      <td>4.182</td>\n",
       "      <td>4.179</td>\n",
       "      <td>23.7</td>\n",
       "      <td>10.862</td>\n",
       "      <td>8.483</td>\n",
       "      <td>6.884</td>\n",
       "      <td>0.989</td>\n",
       "      <td>0.997</td>\n",
       "      <td>99.0</td>\n",
       "    </tr>\n",
       "    <tr>\n",
       "      <th>4</th>\n",
       "      <td>650</td>\n",
       "      <td>512</td>\n",
       "      <td>29:12.3</td>\n",
       "      <td>41.4</td>\n",
       "      <td>56.4</td>\n",
       "      <td>15.6</td>\n",
       "      <td>34.7</td>\n",
       "      <td>45.5</td>\n",
       "      <td>20.3</td>\n",
       "      <td>48.4</td>\n",
       "      <td>...</td>\n",
       "      <td>11.35</td>\n",
       "      <td>4.182</td>\n",
       "      <td>4.179</td>\n",
       "      <td>23.7</td>\n",
       "      <td>10.814</td>\n",
       "      <td>8.482</td>\n",
       "      <td>6.866</td>\n",
       "      <td>0.989</td>\n",
       "      <td>0.997</td>\n",
       "      <td>98.0</td>\n",
       "    </tr>\n",
       "    <tr>\n",
       "      <th>5</th>\n",
       "      <td>650</td>\n",
       "      <td>512</td>\n",
       "      <td>29:12.1</td>\n",
       "      <td>41.4</td>\n",
       "      <td>56.4</td>\n",
       "      <td>15.6</td>\n",
       "      <td>34.7</td>\n",
       "      <td>45.5</td>\n",
       "      <td>20.3</td>\n",
       "      <td>48.4</td>\n",
       "      <td>...</td>\n",
       "      <td>11.30</td>\n",
       "      <td>4.182</td>\n",
       "      <td>4.179</td>\n",
       "      <td>23.7</td>\n",
       "      <td>10.814</td>\n",
       "      <td>8.410</td>\n",
       "      <td>6.837</td>\n",
       "      <td>0.987</td>\n",
       "      <td>0.996</td>\n",
       "      <td>140.0</td>\n",
       "    </tr>\n",
       "    <tr>\n",
       "      <th>6</th>\n",
       "      <td>655</td>\n",
       "      <td>201</td>\n",
       "      <td>26:17.3</td>\n",
       "      <td>47.9</td>\n",
       "      <td>56.4</td>\n",
       "      <td>16.1</td>\n",
       "      <td>42.3</td>\n",
       "      <td>50.4</td>\n",
       "      <td>24.2</td>\n",
       "      <td>52.0</td>\n",
       "      <td>...</td>\n",
       "      <td>7.75</td>\n",
       "      <td>4.180</td>\n",
       "      <td>4.180</td>\n",
       "      <td>21.7</td>\n",
       "      <td>10.824</td>\n",
       "      <td>4.951</td>\n",
       "      <td>5.105</td>\n",
       "      <td>0.987</td>\n",
       "      <td>0.996</td>\n",
       "      <td>137.0</td>\n",
       "    </tr>\n",
       "    <tr>\n",
       "      <th>7</th>\n",
       "      <td>655</td>\n",
       "      <td>201</td>\n",
       "      <td>26:17.1</td>\n",
       "      <td>47.9</td>\n",
       "      <td>56.4</td>\n",
       "      <td>16.2</td>\n",
       "      <td>42.3</td>\n",
       "      <td>50.6</td>\n",
       "      <td>24.2</td>\n",
       "      <td>52.0</td>\n",
       "      <td>...</td>\n",
       "      <td>7.60</td>\n",
       "      <td>4.180</td>\n",
       "      <td>4.180</td>\n",
       "      <td>21.7</td>\n",
       "      <td>10.751</td>\n",
       "      <td>4.805</td>\n",
       "      <td>5.004</td>\n",
       "      <td>0.987</td>\n",
       "      <td>0.996</td>\n",
       "      <td>132.0</td>\n",
       "    </tr>\n",
       "    <tr>\n",
       "      <th>8</th>\n",
       "      <td>655</td>\n",
       "      <td>201</td>\n",
       "      <td>26:16.8</td>\n",
       "      <td>47.9</td>\n",
       "      <td>56.4</td>\n",
       "      <td>16.2</td>\n",
       "      <td>42.3</td>\n",
       "      <td>50.6</td>\n",
       "      <td>24.2</td>\n",
       "      <td>52.1</td>\n",
       "      <td>...</td>\n",
       "      <td>7.49</td>\n",
       "      <td>4.180</td>\n",
       "      <td>4.180</td>\n",
       "      <td>21.7</td>\n",
       "      <td>10.751</td>\n",
       "      <td>4.660</td>\n",
       "      <td>4.933</td>\n",
       "      <td>0.990</td>\n",
       "      <td>0.998</td>\n",
       "      <td>99.0</td>\n",
       "    </tr>\n",
       "    <tr>\n",
       "      <th>9</th>\n",
       "      <td>503</td>\n",
       "      <td>795</td>\n",
       "      <td>20:22.3</td>\n",
       "      <td>34.5</td>\n",
       "      <td>56.4</td>\n",
       "      <td>15.5</td>\n",
       "      <td>29.1</td>\n",
       "      <td>39.2</td>\n",
       "      <td>18.1</td>\n",
       "      <td>43.3</td>\n",
       "      <td>...</td>\n",
       "      <td>12.62</td>\n",
       "      <td>4.183</td>\n",
       "      <td>4.179</td>\n",
       "      <td>22.9</td>\n",
       "      <td>8.296</td>\n",
       "      <td>13.285</td>\n",
       "      <td>7.882</td>\n",
       "      <td>0.990</td>\n",
       "      <td>0.998</td>\n",
       "      <td>98.0</td>\n",
       "    </tr>\n",
       "    <tr>\n",
       "      <th>10</th>\n",
       "      <td>503</td>\n",
       "      <td>795</td>\n",
       "      <td>20:22.1</td>\n",
       "      <td>34.5</td>\n",
       "      <td>56.4</td>\n",
       "      <td>15.5</td>\n",
       "      <td>29.1</td>\n",
       "      <td>39.2</td>\n",
       "      <td>18.1</td>\n",
       "      <td>43.3</td>\n",
       "      <td>...</td>\n",
       "      <td>12.64</td>\n",
       "      <td>4.183</td>\n",
       "      <td>4.179</td>\n",
       "      <td>22.9</td>\n",
       "      <td>8.345</td>\n",
       "      <td>13.260</td>\n",
       "      <td>7.897</td>\n",
       "      <td>0.990</td>\n",
       "      <td>0.998</td>\n",
       "      <td>99.0</td>\n",
       "    </tr>\n",
       "    <tr>\n",
       "      <th>11</th>\n",
       "      <td>503</td>\n",
       "      <td>795</td>\n",
       "      <td>20:21.8</td>\n",
       "      <td>34.5</td>\n",
       "      <td>56.4</td>\n",
       "      <td>15.5</td>\n",
       "      <td>29.1</td>\n",
       "      <td>39.2</td>\n",
       "      <td>18.1</td>\n",
       "      <td>43.3</td>\n",
       "      <td>...</td>\n",
       "      <td>12.61</td>\n",
       "      <td>4.183</td>\n",
       "      <td>4.179</td>\n",
       "      <td>22.9</td>\n",
       "      <td>8.321</td>\n",
       "      <td>13.260</td>\n",
       "      <td>7.885</td>\n",
       "      <td>NaN</td>\n",
       "      <td>NaN</td>\n",
       "      <td>NaN</td>\n",
       "    </tr>\n",
       "    <tr>\n",
       "      <th>12</th>\n",
       "      <td>500</td>\n",
       "      <td>498</td>\n",
       "      <td>18:25.1</td>\n",
       "      <td>38.6</td>\n",
       "      <td>56.4</td>\n",
       "      <td>15.8</td>\n",
       "      <td>32.9</td>\n",
       "      <td>42.8</td>\n",
       "      <td>19.4</td>\n",
       "      <td>46.2</td>\n",
       "      <td>...</td>\n",
       "      <td>11.24</td>\n",
       "      <td>4.182</td>\n",
       "      <td>4.179</td>\n",
       "      <td>23.1</td>\n",
       "      <td>8.290</td>\n",
       "      <td>10.163</td>\n",
       "      <td>6.957</td>\n",
       "      <td>0.989</td>\n",
       "      <td>0.997</td>\n",
       "      <td>119.0</td>\n",
       "    </tr>\n",
       "    <tr>\n",
       "      <th>13</th>\n",
       "      <td>500</td>\n",
       "      <td>498</td>\n",
       "      <td>18:24.8</td>\n",
       "      <td>38.6</td>\n",
       "      <td>56.4</td>\n",
       "      <td>15.8</td>\n",
       "      <td>33.0</td>\n",
       "      <td>42.8</td>\n",
       "      <td>19.4</td>\n",
       "      <td>46.2</td>\n",
       "      <td>...</td>\n",
       "      <td>11.18</td>\n",
       "      <td>4.182</td>\n",
       "      <td>4.179</td>\n",
       "      <td>23.2</td>\n",
       "      <td>8.338</td>\n",
       "      <td>10.017</td>\n",
       "      <td>6.906</td>\n",
       "      <td>0.989</td>\n",
       "      <td>0.997</td>\n",
       "      <td>116.0</td>\n",
       "    </tr>\n",
       "    <tr>\n",
       "      <th>14</th>\n",
       "      <td>500</td>\n",
       "      <td>498</td>\n",
       "      <td>18:24.6</td>\n",
       "      <td>38.7</td>\n",
       "      <td>56.4</td>\n",
       "      <td>15.8</td>\n",
       "      <td>33.0</td>\n",
       "      <td>42.9</td>\n",
       "      <td>19.4</td>\n",
       "      <td>46.2</td>\n",
       "      <td>...</td>\n",
       "      <td>11.06</td>\n",
       "      <td>4.182</td>\n",
       "      <td>4.179</td>\n",
       "      <td>23.2</td>\n",
       "      <td>8.314</td>\n",
       "      <td>9.846</td>\n",
       "      <td>6.834</td>\n",
       "      <td>0.989</td>\n",
       "      <td>0.997</td>\n",
       "      <td>115.0</td>\n",
       "    </tr>\n",
       "    <tr>\n",
       "      <th>15</th>\n",
       "      <td>502</td>\n",
       "      <td>199</td>\n",
       "      <td>15:05.3</td>\n",
       "      <td>45.8</td>\n",
       "      <td>56.2</td>\n",
       "      <td>16.2</td>\n",
       "      <td>41.3</td>\n",
       "      <td>49.0</td>\n",
       "      <td>23.6</td>\n",
       "      <td>51.0</td>\n",
       "      <td>...</td>\n",
       "      <td>5.97</td>\n",
       "      <td>4.180</td>\n",
       "      <td>4.180</td>\n",
       "      <td>21.4</td>\n",
       "      <td>8.398</td>\n",
       "      <td>3.301</td>\n",
       "      <td>3.992</td>\n",
       "      <td>0.988</td>\n",
       "      <td>0.996</td>\n",
       "      <td>94.0</td>\n",
       "    </tr>\n",
       "    <tr>\n",
       "      <th>16</th>\n",
       "      <td>502</td>\n",
       "      <td>199</td>\n",
       "      <td>15:05.1</td>\n",
       "      <td>45.8</td>\n",
       "      <td>56.2</td>\n",
       "      <td>16.2</td>\n",
       "      <td>41.3</td>\n",
       "      <td>49.0</td>\n",
       "      <td>23.6</td>\n",
       "      <td>51.0</td>\n",
       "      <td>...</td>\n",
       "      <td>5.97</td>\n",
       "      <td>4.180</td>\n",
       "      <td>4.180</td>\n",
       "      <td>21.4</td>\n",
       "      <td>8.374</td>\n",
       "      <td>3.301</td>\n",
       "      <td>3.986</td>\n",
       "      <td>0.988</td>\n",
       "      <td>0.996</td>\n",
       "      <td>94.0</td>\n",
       "    </tr>\n",
       "    <tr>\n",
       "      <th>17</th>\n",
       "      <td>502</td>\n",
       "      <td>199</td>\n",
       "      <td>15:04.8</td>\n",
       "      <td>45.8</td>\n",
       "      <td>56.2</td>\n",
       "      <td>16.2</td>\n",
       "      <td>41.3</td>\n",
       "      <td>49.0</td>\n",
       "      <td>23.6</td>\n",
       "      <td>51.0</td>\n",
       "      <td>...</td>\n",
       "      <td>5.99</td>\n",
       "      <td>4.180</td>\n",
       "      <td>4.180</td>\n",
       "      <td>21.5</td>\n",
       "      <td>8.374</td>\n",
       "      <td>3.350</td>\n",
       "      <td>3.992</td>\n",
       "      <td>0.988</td>\n",
       "      <td>0.996</td>\n",
       "      <td>96.0</td>\n",
       "    </tr>\n",
       "    <tr>\n",
       "      <th>18</th>\n",
       "      <td>205</td>\n",
       "      <td>801</td>\n",
       "      <td>10:02.8</td>\n",
       "      <td>25.2</td>\n",
       "      <td>55.0</td>\n",
       "      <td>15.4</td>\n",
       "      <td>23.2</td>\n",
       "      <td>29.6</td>\n",
       "      <td>16.2</td>\n",
       "      <td>34.7</td>\n",
       "      <td>...</td>\n",
       "      <td>7.20</td>\n",
       "      <td>4.185</td>\n",
       "      <td>4.179</td>\n",
       "      <td>18.7</td>\n",
       "      <td>3.456</td>\n",
       "      <td>13.275</td>\n",
       "      <td>5.503</td>\n",
       "      <td>0.992</td>\n",
       "      <td>0.998</td>\n",
       "      <td>100.0</td>\n",
       "    </tr>\n",
       "    <tr>\n",
       "      <th>19</th>\n",
       "      <td>205</td>\n",
       "      <td>801</td>\n",
       "      <td>10:02.6</td>\n",
       "      <td>25.2</td>\n",
       "      <td>55.1</td>\n",
       "      <td>15.4</td>\n",
       "      <td>23.2</td>\n",
       "      <td>29.7</td>\n",
       "      <td>16.2</td>\n",
       "      <td>34.7</td>\n",
       "      <td>...</td>\n",
       "      <td>7.22</td>\n",
       "      <td>4.185</td>\n",
       "      <td>4.179</td>\n",
       "      <td>18.7</td>\n",
       "      <td>3.480</td>\n",
       "      <td>13.275</td>\n",
       "      <td>5.523</td>\n",
       "      <td>0.992</td>\n",
       "      <td>0.998</td>\n",
       "      <td>99.0</td>\n",
       "    </tr>\n",
       "    <tr>\n",
       "      <th>20</th>\n",
       "      <td>205</td>\n",
       "      <td>801</td>\n",
       "      <td>10:02.3</td>\n",
       "      <td>25.2</td>\n",
       "      <td>55.1</td>\n",
       "      <td>15.4</td>\n",
       "      <td>23.2</td>\n",
       "      <td>29.7</td>\n",
       "      <td>16.2</td>\n",
       "      <td>34.6</td>\n",
       "      <td>...</td>\n",
       "      <td>7.19</td>\n",
       "      <td>4.185</td>\n",
       "      <td>4.179</td>\n",
       "      <td>18.7</td>\n",
       "      <td>3.456</td>\n",
       "      <td>13.251</td>\n",
       "      <td>5.498</td>\n",
       "      <td>0.992</td>\n",
       "      <td>0.998</td>\n",
       "      <td>100.0</td>\n",
       "    </tr>\n",
       "    <tr>\n",
       "      <th>21</th>\n",
       "      <td>204</td>\n",
       "      <td>500</td>\n",
       "      <td>07:06.6</td>\n",
       "      <td>28.5</td>\n",
       "      <td>55.0</td>\n",
       "      <td>15.6</td>\n",
       "      <td>26.5</td>\n",
       "      <td>33.1</td>\n",
       "      <td>17.1</td>\n",
       "      <td>37.8</td>\n",
       "      <td>...</td>\n",
       "      <td>6.41</td>\n",
       "      <td>4.184</td>\n",
       "      <td>4.179</td>\n",
       "      <td>19.7</td>\n",
       "      <td>3.478</td>\n",
       "      <td>8.398</td>\n",
       "      <td>4.654</td>\n",
       "      <td>0.992</td>\n",
       "      <td>0.998</td>\n",
       "      <td>99.0</td>\n",
       "    </tr>\n",
       "    <tr>\n",
       "      <th>22</th>\n",
       "      <td>204</td>\n",
       "      <td>500</td>\n",
       "      <td>07:06.3</td>\n",
       "      <td>28.5</td>\n",
       "      <td>55.0</td>\n",
       "      <td>15.6</td>\n",
       "      <td>26.5</td>\n",
       "      <td>33.1</td>\n",
       "      <td>17.1</td>\n",
       "      <td>37.8</td>\n",
       "      <td>...</td>\n",
       "      <td>6.38</td>\n",
       "      <td>4.184</td>\n",
       "      <td>4.179</td>\n",
       "      <td>19.7</td>\n",
       "      <td>3.454</td>\n",
       "      <td>8.398</td>\n",
       "      <td>4.638</td>\n",
       "      <td>0.992</td>\n",
       "      <td>0.998</td>\n",
       "      <td>100.0</td>\n",
       "    </tr>\n",
       "    <tr>\n",
       "      <th>23</th>\n",
       "      <td>204</td>\n",
       "      <td>500</td>\n",
       "      <td>07:06.1</td>\n",
       "      <td>28.5</td>\n",
       "      <td>55.0</td>\n",
       "      <td>15.6</td>\n",
       "      <td>26.5</td>\n",
       "      <td>33.1</td>\n",
       "      <td>17.1</td>\n",
       "      <td>37.8</td>\n",
       "      <td>...</td>\n",
       "      <td>6.37</td>\n",
       "      <td>4.184</td>\n",
       "      <td>4.179</td>\n",
       "      <td>19.7</td>\n",
       "      <td>3.454</td>\n",
       "      <td>8.374</td>\n",
       "      <td>4.631</td>\n",
       "      <td>0.992</td>\n",
       "      <td>0.998</td>\n",
       "      <td>100.0</td>\n",
       "    </tr>\n",
       "  </tbody>\n",
       "</table>\n",
       "<p>24 rows × 27 columns</p>\n",
       "</div>"
      ],
      "text/plain": [
       "    Hot Flow (L/hr)  Cold Flow (L/hr)     Time  H Outlet  H Inlet  C Inlet  \\\n",
       "0               651               798  32:08.1      37.3     56.4     15.5   \n",
       "1               651               798  32:07.8      37.2     56.3     15.4   \n",
       "2               651               798  32:07.6      37.2     56.3     15.4   \n",
       "3               650               512  29:13.0      41.4     56.4     15.6   \n",
       "4               650               512  29:12.3      41.4     56.4     15.6   \n",
       "5               650               512  29:12.1      41.4     56.4     15.6   \n",
       "6               655               201  26:17.3      47.9     56.4     16.1   \n",
       "7               655               201  26:17.1      47.9     56.4     16.2   \n",
       "8               655               201  26:16.8      47.9     56.4     16.2   \n",
       "9               503               795  20:22.3      34.5     56.4     15.5   \n",
       "10              503               795  20:22.1      34.5     56.4     15.5   \n",
       "11              503               795  20:21.8      34.5     56.4     15.5   \n",
       "12              500               498  18:25.1      38.6     56.4     15.8   \n",
       "13              500               498  18:24.8      38.6     56.4     15.8   \n",
       "14              500               498  18:24.6      38.7     56.4     15.8   \n",
       "15              502               199  15:05.3      45.8     56.2     16.2   \n",
       "16              502               199  15:05.1      45.8     56.2     16.2   \n",
       "17              502               199  15:04.8      45.8     56.2     16.2   \n",
       "18              205               801  10:02.8      25.2     55.0     15.4   \n",
       "19              205               801  10:02.6      25.2     55.1     15.4   \n",
       "20              205               801  10:02.3      25.2     55.1     15.4   \n",
       "21              204               500  07:06.6      28.5     55.0     15.6   \n",
       "22              204               500  07:06.3      28.5     55.0     15.6   \n",
       "23              204               500  07:06.1      28.5     55.0     15.6   \n",
       "\n",
       "    C Outlet  T5 (ｰC)  T6 (ｰC)  T7 (ｰC)  ...  dQm/dt (kW)  cp2 (kJ/kg*K)  \\\n",
       "0       30.8     41.8     18.8     45.5  ...        14.29          4.183   \n",
       "1       30.8     41.8     18.8     45.5  ...        14.29          4.183   \n",
       "2       30.8     41.8     18.8     45.5  ...        14.25          4.183   \n",
       "3       34.7     45.5     20.3     48.4  ...        11.39          4.182   \n",
       "4       34.7     45.5     20.3     48.4  ...        11.35          4.182   \n",
       "5       34.7     45.5     20.3     48.4  ...        11.30          4.182   \n",
       "6       42.3     50.4     24.2     52.0  ...         7.75          4.180   \n",
       "7       42.3     50.6     24.2     52.0  ...         7.60          4.180   \n",
       "8       42.3     50.6     24.2     52.1  ...         7.49          4.180   \n",
       "9       29.1     39.2     18.1     43.3  ...        12.62          4.183   \n",
       "10      29.1     39.2     18.1     43.3  ...        12.64          4.183   \n",
       "11      29.1     39.2     18.1     43.3  ...        12.61          4.183   \n",
       "12      32.9     42.8     19.4     46.2  ...        11.24          4.182   \n",
       "13      33.0     42.8     19.4     46.2  ...        11.18          4.182   \n",
       "14      33.0     42.9     19.4     46.2  ...        11.06          4.182   \n",
       "15      41.3     49.0     23.6     51.0  ...         5.97          4.180   \n",
       "16      41.3     49.0     23.6     51.0  ...         5.97          4.180   \n",
       "17      41.3     49.0     23.6     51.0  ...         5.99          4.180   \n",
       "18      23.2     29.6     16.2     34.7  ...         7.20          4.185   \n",
       "19      23.2     29.7     16.2     34.7  ...         7.22          4.185   \n",
       "20      23.2     29.7     16.2     34.6  ...         7.19          4.185   \n",
       "21      26.5     33.1     17.1     37.8  ...         6.41          4.184   \n",
       "22      26.5     33.1     17.1     37.8  ...         6.38          4.184   \n",
       "23      26.5     33.1     17.1     37.8  ...         6.37          4.184   \n",
       "\n",
       "    cp1 (kJ/kg*K)  dTm (ｰC)  k1 (kW/K*mｲ)  k2 (kW/K*mｲ)  km (kW/K*mｲ)  \\\n",
       "0           4.179      23.6        10.703        13.305         8.673   \n",
       "1           4.179      23.6        10.678        13.329         8.671   \n",
       "2           4.179      23.6        10.654        13.329         8.639   \n",
       "3           4.179      23.7        10.862         8.483         6.884   \n",
       "4           4.179      23.7        10.814         8.482         6.866   \n",
       "5           4.179      23.7        10.814         8.410         6.837   \n",
       "6           4.180      21.7        10.824         4.951         5.105   \n",
       "7           4.180      21.7        10.751         4.805         5.004   \n",
       "8           4.180      21.7        10.751         4.660         4.933   \n",
       "9           4.179      22.9         8.296        13.285         7.882   \n",
       "10          4.179      22.9         8.345        13.260         7.897   \n",
       "11          4.179      22.9         8.321        13.260         7.885   \n",
       "12          4.179      23.1         8.290        10.163         6.957   \n",
       "13          4.179      23.2         8.338        10.017         6.906   \n",
       "14          4.179      23.2         8.314         9.846         6.834   \n",
       "15          4.180      21.4         8.398         3.301         3.992   \n",
       "16          4.180      21.4         8.374         3.301         3.986   \n",
       "17          4.180      21.5         8.374         3.350         3.992   \n",
       "18          4.179      18.7         3.456        13.275         5.503   \n",
       "19          4.179      18.7         3.480        13.275         5.523   \n",
       "20          4.179      18.7         3.456        13.251         5.498   \n",
       "21          4.179      19.7         3.478         8.398         4.654   \n",
       "22          4.179      19.7         3.454         8.398         4.638   \n",
       "23          4.179      19.7         3.454         8.374         4.631   \n",
       "\n",
       "    rho1 (kg/dmｳ)  rho2 (kg/dmｳ)  EFF (%)  \n",
       "0           0.989          0.998    100.0  \n",
       "1           0.989          0.998    100.0  \n",
       "2           0.989          0.998    100.0  \n",
       "3           0.989          0.997     99.0  \n",
       "4           0.989          0.997     98.0  \n",
       "5           0.987          0.996    140.0  \n",
       "6           0.987          0.996    137.0  \n",
       "7           0.987          0.996    132.0  \n",
       "8           0.990          0.998     99.0  \n",
       "9           0.990          0.998     98.0  \n",
       "10          0.990          0.998     99.0  \n",
       "11            NaN            NaN      NaN  \n",
       "12          0.989          0.997    119.0  \n",
       "13          0.989          0.997    116.0  \n",
       "14          0.989          0.997    115.0  \n",
       "15          0.988          0.996     94.0  \n",
       "16          0.988          0.996     94.0  \n",
       "17          0.988          0.996     96.0  \n",
       "18          0.992          0.998    100.0  \n",
       "19          0.992          0.998     99.0  \n",
       "20          0.992          0.998    100.0  \n",
       "21          0.992          0.998     99.0  \n",
       "22          0.992          0.998    100.0  \n",
       "23          0.992          0.998    100.0  \n",
       "\n",
       "[24 rows x 27 columns]"
      ]
     },
     "execution_count": 2,
     "metadata": {},
     "output_type": "execute_result"
    }
   ],
   "source": [
    "sheet_url = \"https://docs.google.com/spreadsheets/d/e/2PACX-1vSNUCEFMaGZ-y18p-AnDoImEeenMLbRxXBABwFNeP8I3xiUejolPJx-kr4aUywD0szRel81Kftr8J0R/pub?gid=896527992&single=true&output=csv\"\n",
    "hx = pd.read_csv(sheet_url)\n",
    "hx"
   ]
  },
  {
   "cell_type": "markdown",
   "id": "052c02f4-fd87-4e70-adc5-8d6c20cc79fd",
   "metadata": {},
   "source": [
    "### From Python\n",
    "\n",
    "Pandas dataframes can be created directly in Python. Here we demonstrate use of a Python dictionary to create a dataframe with data for variables computed as numpy arrays."
   ]
  },
  {
   "cell_type": "code",
   "execution_count": 3,
   "id": "ff338826-21cb-4bb2-aa3f-fb8916c09d8c",
   "metadata": {},
   "outputs": [
    {
     "data": {
      "text/html": [
       "<div>\n",
       "<style scoped>\n",
       "    .dataframe tbody tr th:only-of-type {\n",
       "        vertical-align: middle;\n",
       "    }\n",
       "\n",
       "    .dataframe tbody tr th {\n",
       "        vertical-align: top;\n",
       "    }\n",
       "\n",
       "    .dataframe thead th {\n",
       "        text-align: right;\n",
       "    }\n",
       "</style>\n",
       "<table border=\"1\" class=\"dataframe\">\n",
       "  <thead>\n",
       "    <tr style=\"text-align: right;\">\n",
       "      <th></th>\n",
       "      <th>time</th>\n",
       "      <th>sin</th>\n",
       "      <th>cos</th>\n",
       "    </tr>\n",
       "  </thead>\n",
       "  <tbody>\n",
       "    <tr>\n",
       "      <th>0</th>\n",
       "      <td>0.00</td>\n",
       "      <td>0.000000</td>\n",
       "      <td>1.000000</td>\n",
       "    </tr>\n",
       "    <tr>\n",
       "      <th>1</th>\n",
       "      <td>0.05</td>\n",
       "      <td>0.049979</td>\n",
       "      <td>0.998750</td>\n",
       "    </tr>\n",
       "    <tr>\n",
       "      <th>2</th>\n",
       "      <td>0.10</td>\n",
       "      <td>0.099833</td>\n",
       "      <td>0.995004</td>\n",
       "    </tr>\n",
       "    <tr>\n",
       "      <th>3</th>\n",
       "      <td>0.15</td>\n",
       "      <td>0.149438</td>\n",
       "      <td>0.988771</td>\n",
       "    </tr>\n",
       "    <tr>\n",
       "      <th>4</th>\n",
       "      <td>0.20</td>\n",
       "      <td>0.198669</td>\n",
       "      <td>0.980067</td>\n",
       "    </tr>\n",
       "    <tr>\n",
       "      <th>...</th>\n",
       "      <td>...</td>\n",
       "      <td>...</td>\n",
       "      <td>...</td>\n",
       "    </tr>\n",
       "    <tr>\n",
       "      <th>196</th>\n",
       "      <td>9.80</td>\n",
       "      <td>-0.366479</td>\n",
       "      <td>-0.930426</td>\n",
       "    </tr>\n",
       "    <tr>\n",
       "      <th>197</th>\n",
       "      <td>9.85</td>\n",
       "      <td>-0.412523</td>\n",
       "      <td>-0.910947</td>\n",
       "    </tr>\n",
       "    <tr>\n",
       "      <th>198</th>\n",
       "      <td>9.90</td>\n",
       "      <td>-0.457536</td>\n",
       "      <td>-0.889191</td>\n",
       "    </tr>\n",
       "    <tr>\n",
       "      <th>199</th>\n",
       "      <td>9.95</td>\n",
       "      <td>-0.501405</td>\n",
       "      <td>-0.865213</td>\n",
       "    </tr>\n",
       "    <tr>\n",
       "      <th>200</th>\n",
       "      <td>10.00</td>\n",
       "      <td>-0.544021</td>\n",
       "      <td>-0.839072</td>\n",
       "    </tr>\n",
       "  </tbody>\n",
       "</table>\n",
       "<p>201 rows × 3 columns</p>\n",
       "</div>"
      ],
      "text/plain": [
       "      time       sin       cos\n",
       "0     0.00  0.000000  1.000000\n",
       "1     0.05  0.049979  0.998750\n",
       "2     0.10  0.099833  0.995004\n",
       "3     0.15  0.149438  0.988771\n",
       "4     0.20  0.198669  0.980067\n",
       "..     ...       ...       ...\n",
       "196   9.80 -0.366479 -0.930426\n",
       "197   9.85 -0.412523 -0.910947\n",
       "198   9.90 -0.457536 -0.889191\n",
       "199   9.95 -0.501405 -0.865213\n",
       "200  10.00 -0.544021 -0.839072\n",
       "\n",
       "[201 rows x 3 columns]"
      ]
     },
     "execution_count": 3,
     "metadata": {},
     "output_type": "execute_result"
    }
   ],
   "source": [
    "import numpy as np\n",
    "\n",
    "t = np.linspace(0, 10, 201)\n",
    "s = np.sin(t)\n",
    "c = np.cos(t)\n",
    "\n",
    "df_np = pd.DataFrame({\"time\": t, \"sin\": s, \"cos\": c})\n",
    "df_np"
   ]
  },
  {
   "cell_type": "markdown",
   "id": "28278dbe-1939-4343-8e24-c1da00852835",
   "metadata": {},
   "source": [
    "## Accessing Data from DataFrames\n",
    "\n",
    "The core object in pandas is the **DataFrame**. For \"Tidy Data\", a DataFrame will be collection of columns, each column containing observations of a single, unique variable. Each row is one observation of all variables. "
   ]
  },
  {
   "cell_type": "markdown",
   "id": "5db8f882-226b-4468-9b19-0420e5f87726",
   "metadata": {},
   "source": [
    "The **index** assigns a unique label to each row/observation."
   ]
  },
  {
   "cell_type": "code",
   "execution_count": 4,
   "id": "0d3ba1c9-5ecb-465d-844b-9e46ab497d2b",
   "metadata": {},
   "outputs": [
    {
     "data": {
      "text/plain": [
       "RangeIndex(start=0, stop=801, step=1)"
      ]
     },
     "execution_count": 4,
     "metadata": {},
     "output_type": "execute_result"
    }
   ],
   "source": [
    "df.index"
   ]
  },
  {
   "cell_type": "markdown",
   "id": "d823453e-5b3b-4803-9384-6db6ea8e12b8",
   "metadata": {},
   "source": [
    "The names of the **columns** are given by `.columns`."
   ]
  },
  {
   "cell_type": "code",
   "execution_count": 5,
   "id": "07c74eb7-fb7e-40cf-8899-6bbc6032ead9",
   "metadata": {},
   "outputs": [
    {
     "data": {
      "text/plain": [
       "Index(['Time', 'T1', 'T2', 'Q1', 'Q2'], dtype='object')"
      ]
     },
     "execution_count": 5,
     "metadata": {},
     "output_type": "execute_result"
    }
   ],
   "source": [
    "df.columns"
   ]
  },
  {
   "cell_type": "markdown",
   "id": "5525aa72-c5b4-4ce5-8f99-05264d8c9c7b",
   "metadata": {},
   "source": [
    "Each column forms a ``Series`` comprised of all observations of a variable. There are several common ways to access the data series for a variable. These produce the same result. \n",
    "\n",
    "* `df[\"T1\"]` \n",
    "* `df.T1`\n",
    "* `df.loc[:, \"T1\"]`\n",
    "\n",
    "Which you choose depends on situation and context."
   ]
  },
  {
   "cell_type": "code",
   "execution_count": 6,
   "id": "dfca8cd0-642d-48fd-b907-52a703f08fcb",
   "metadata": {},
   "outputs": [
    {
     "data": {
      "text/plain": [
       "0      21.543\n",
       "1      21.543\n",
       "2      21.543\n",
       "3      21.543\n",
       "4      21.543\n",
       "        ...  \n",
       "796    58.281\n",
       "797    58.120\n",
       "798    58.378\n",
       "799    58.281\n",
       "800    58.668\n",
       "Name: T1, Length: 801, dtype: float64"
      ]
     },
     "execution_count": 6,
     "metadata": {},
     "output_type": "execute_result"
    }
   ],
   "source": [
    "df[\"T1\"]"
   ]
  },
  {
   "cell_type": "markdown",
   "id": "db6102f4-de9e-400c-b89b-5a9592f4a186",
   "metadata": {},
   "source": [
    "The `.loc[row, column]` is used to extract slices of the dataframe. A single value is accessed by row index and column label."
   ]
  },
  {
   "cell_type": "code",
   "execution_count": 7,
   "id": "8bd12830-5500-41e6-9bbd-1a0ac33287ae",
   "metadata": {},
   "outputs": [
    {
     "data": {
      "text/plain": [
       "21.543"
      ]
     },
     "execution_count": 7,
     "metadata": {},
     "output_type": "execute_result"
    }
   ],
   "source": [
    "df.loc[3, \"T1\"]"
   ]
  },
  {
   "cell_type": "markdown",
   "id": "48ab526e-a188-4419-aed7-614f1652038a",
   "metadata": {},
   "source": [
    "To extract values for multiple variables from a single observation."
   ]
  },
  {
   "cell_type": "code",
   "execution_count": 8,
   "id": "d8667171-91c6-4415-bee4-cf562067b3d5",
   "metadata": {},
   "outputs": [
    {
     "data": {
      "text/plain": [
       "T1    21.543\n",
       "T2    20.931\n",
       "Name: 3, dtype: float64"
      ]
     },
     "execution_count": 8,
     "metadata": {},
     "output_type": "execute_result"
    }
   ],
   "source": [
    "df.loc[3, [\"T1\", \"T2\"]]"
   ]
  },
  {
   "cell_type": "markdown",
   "id": "5fa640dc-7d45-489a-b206-9fc32e0ef9bd",
   "metadata": {},
   "source": [
    "To extract a range of observations of one or more variables."
   ]
  },
  {
   "cell_type": "code",
   "execution_count": 9,
   "id": "de565ee4-958e-4358-999d-be5951043fd8",
   "metadata": {},
   "outputs": [
    {
     "data": {
      "text/html": [
       "<div>\n",
       "<style scoped>\n",
       "    .dataframe tbody tr th:only-of-type {\n",
       "        vertical-align: middle;\n",
       "    }\n",
       "\n",
       "    .dataframe tbody tr th {\n",
       "        vertical-align: top;\n",
       "    }\n",
       "\n",
       "    .dataframe thead th {\n",
       "        text-align: right;\n",
       "    }\n",
       "</style>\n",
       "<table border=\"1\" class=\"dataframe\">\n",
       "  <thead>\n",
       "    <tr style=\"text-align: right;\">\n",
       "      <th></th>\n",
       "      <th>T1</th>\n",
       "      <th>T2</th>\n",
       "    </tr>\n",
       "  </thead>\n",
       "  <tbody>\n",
       "    <tr>\n",
       "      <th>3</th>\n",
       "      <td>21.543</td>\n",
       "      <td>20.931</td>\n",
       "    </tr>\n",
       "    <tr>\n",
       "      <th>4</th>\n",
       "      <td>21.543</td>\n",
       "      <td>20.931</td>\n",
       "    </tr>\n",
       "    <tr>\n",
       "      <th>5</th>\n",
       "      <td>21.543</td>\n",
       "      <td>20.931</td>\n",
       "    </tr>\n",
       "  </tbody>\n",
       "</table>\n",
       "</div>"
      ],
      "text/plain": [
       "       T1      T2\n",
       "3  21.543  20.931\n",
       "4  21.543  20.931\n",
       "5  21.543  20.931"
      ]
     },
     "execution_count": 9,
     "metadata": {},
     "output_type": "execute_result"
    }
   ],
   "source": [
    "df.loc[3:5, [\"T1\", \"T2\"]]"
   ]
  },
  {
   "cell_type": "markdown",
   "id": "95018a65-1b1f-4ac6-87d8-c4477dd450b6",
   "metadata": {},
   "source": [
    "Observations can be selected by conditions."
   ]
  },
  {
   "cell_type": "code",
   "execution_count": 10,
   "id": "2deed7e8-0797-4cec-a919-d7e46ef5be17",
   "metadata": {},
   "outputs": [
    {
     "data": {
      "text/html": [
       "<div>\n",
       "<style scoped>\n",
       "    .dataframe tbody tr th:only-of-type {\n",
       "        vertical-align: middle;\n",
       "    }\n",
       "\n",
       "    .dataframe tbody tr th {\n",
       "        vertical-align: top;\n",
       "    }\n",
       "\n",
       "    .dataframe thead th {\n",
       "        text-align: right;\n",
       "    }\n",
       "</style>\n",
       "<table border=\"1\" class=\"dataframe\">\n",
       "  <thead>\n",
       "    <tr style=\"text-align: right;\">\n",
       "      <th></th>\n",
       "      <th>Time</th>\n",
       "      <th>T1</th>\n",
       "      <th>T2</th>\n",
       "      <th>Q1</th>\n",
       "      <th>Q2</th>\n",
       "    </tr>\n",
       "  </thead>\n",
       "  <tbody>\n",
       "    <tr>\n",
       "      <th>100</th>\n",
       "      <td>100.01</td>\n",
       "      <td>36.367</td>\n",
       "      <td>22.929</td>\n",
       "      <td>50.0</td>\n",
       "      <td>0.0</td>\n",
       "    </tr>\n",
       "    <tr>\n",
       "      <th>101</th>\n",
       "      <td>101.00</td>\n",
       "      <td>36.399</td>\n",
       "      <td>23.090</td>\n",
       "      <td>50.0</td>\n",
       "      <td>0.0</td>\n",
       "    </tr>\n",
       "    <tr>\n",
       "      <th>102</th>\n",
       "      <td>102.01</td>\n",
       "      <td>36.689</td>\n",
       "      <td>23.154</td>\n",
       "      <td>50.0</td>\n",
       "      <td>0.0</td>\n",
       "    </tr>\n",
       "    <tr>\n",
       "      <th>103</th>\n",
       "      <td>103.01</td>\n",
       "      <td>36.689</td>\n",
       "      <td>23.154</td>\n",
       "      <td>50.0</td>\n",
       "      <td>0.0</td>\n",
       "    </tr>\n",
       "    <tr>\n",
       "      <th>104</th>\n",
       "      <td>104.01</td>\n",
       "      <td>37.012</td>\n",
       "      <td>23.187</td>\n",
       "      <td>50.0</td>\n",
       "      <td>0.0</td>\n",
       "    </tr>\n",
       "    <tr>\n",
       "      <th>105</th>\n",
       "      <td>105.01</td>\n",
       "      <td>37.012</td>\n",
       "      <td>23.154</td>\n",
       "      <td>50.0</td>\n",
       "      <td>0.0</td>\n",
       "    </tr>\n",
       "    <tr>\n",
       "      <th>106</th>\n",
       "      <td>106.00</td>\n",
       "      <td>37.173</td>\n",
       "      <td>23.154</td>\n",
       "      <td>50.0</td>\n",
       "      <td>0.0</td>\n",
       "    </tr>\n",
       "    <tr>\n",
       "      <th>107</th>\n",
       "      <td>107.00</td>\n",
       "      <td>37.334</td>\n",
       "      <td>23.187</td>\n",
       "      <td>50.0</td>\n",
       "      <td>0.0</td>\n",
       "    </tr>\n",
       "    <tr>\n",
       "      <th>108</th>\n",
       "      <td>108.00</td>\n",
       "      <td>37.398</td>\n",
       "      <td>23.380</td>\n",
       "      <td>50.0</td>\n",
       "      <td>0.0</td>\n",
       "    </tr>\n",
       "    <tr>\n",
       "      <th>109</th>\n",
       "      <td>109.01</td>\n",
       "      <td>37.656</td>\n",
       "      <td>23.412</td>\n",
       "      <td>50.0</td>\n",
       "      <td>0.0</td>\n",
       "    </tr>\n",
       "    <tr>\n",
       "      <th>110</th>\n",
       "      <td>110.00</td>\n",
       "      <td>37.656</td>\n",
       "      <td>23.412</td>\n",
       "      <td>50.0</td>\n",
       "      <td>0.0</td>\n",
       "    </tr>\n",
       "  </tbody>\n",
       "</table>\n",
       "</div>"
      ],
      "text/plain": [
       "       Time      T1      T2    Q1   Q2\n",
       "100  100.01  36.367  22.929  50.0  0.0\n",
       "101  101.00  36.399  23.090  50.0  0.0\n",
       "102  102.01  36.689  23.154  50.0  0.0\n",
       "103  103.01  36.689  23.154  50.0  0.0\n",
       "104  104.01  37.012  23.187  50.0  0.0\n",
       "105  105.01  37.012  23.154  50.0  0.0\n",
       "106  106.00  37.173  23.154  50.0  0.0\n",
       "107  107.00  37.334  23.187  50.0  0.0\n",
       "108  108.00  37.398  23.380  50.0  0.0\n",
       "109  109.01  37.656  23.412  50.0  0.0\n",
       "110  110.00  37.656  23.412  50.0  0.0"
      ]
     },
     "execution_count": 10,
     "metadata": {},
     "output_type": "execute_result"
    }
   ],
   "source": [
    "df[(df.Time >= 100) & (df.Time <= 110)]"
   ]
  },
  {
   "cell_type": "markdown",
   "id": "df5137a0-43b4-4663-bd13-14085a3510f3",
   "metadata": {
    "tags": []
   },
   "source": [
    "## Visualizing Data\n",
    "\n",
    "Pandas provides convenient tools for displaying data in tabular and graphical formats."
   ]
  },
  {
   "cell_type": "markdown",
   "id": "20a81dbf-93ff-435a-812f-fdc0acdaf620",
   "metadata": {},
   "source": [
    "### Tabular Display\n",
    "\n",
    "The quickest way to display a dataframe as a table is with `display()`. Additional styling and formating options are available through a dataframe's `.style` property."
   ]
  },
  {
   "cell_type": "code",
   "execution_count": 11,
   "id": "672affe7-33d2-4947-a856-e807fa01e548",
   "metadata": {},
   "outputs": [
    {
     "data": {
      "text/html": [
       "<div>\n",
       "<style scoped>\n",
       "    .dataframe tbody tr th:only-of-type {\n",
       "        vertical-align: middle;\n",
       "    }\n",
       "\n",
       "    .dataframe tbody tr th {\n",
       "        vertical-align: top;\n",
       "    }\n",
       "\n",
       "    .dataframe thead th {\n",
       "        text-align: right;\n",
       "    }\n",
       "</style>\n",
       "<table border=\"1\" class=\"dataframe\">\n",
       "  <thead>\n",
       "    <tr style=\"text-align: right;\">\n",
       "      <th></th>\n",
       "      <th>Time</th>\n",
       "      <th>T1</th>\n",
       "      <th>T2</th>\n",
       "      <th>Q1</th>\n",
       "      <th>Q2</th>\n",
       "    </tr>\n",
       "  </thead>\n",
       "  <tbody>\n",
       "    <tr>\n",
       "      <th>0</th>\n",
       "      <td>0.00</td>\n",
       "      <td>21.543</td>\n",
       "      <td>20.898</td>\n",
       "      <td>50.0</td>\n",
       "      <td>0.0</td>\n",
       "    </tr>\n",
       "    <tr>\n",
       "      <th>1</th>\n",
       "      <td>1.00</td>\n",
       "      <td>21.543</td>\n",
       "      <td>20.898</td>\n",
       "      <td>50.0</td>\n",
       "      <td>0.0</td>\n",
       "    </tr>\n",
       "    <tr>\n",
       "      <th>2</th>\n",
       "      <td>2.01</td>\n",
       "      <td>21.543</td>\n",
       "      <td>20.898</td>\n",
       "      <td>50.0</td>\n",
       "      <td>0.0</td>\n",
       "    </tr>\n",
       "    <tr>\n",
       "      <th>3</th>\n",
       "      <td>3.01</td>\n",
       "      <td>21.543</td>\n",
       "      <td>20.931</td>\n",
       "      <td>50.0</td>\n",
       "      <td>0.0</td>\n",
       "    </tr>\n",
       "    <tr>\n",
       "      <th>4</th>\n",
       "      <td>4.00</td>\n",
       "      <td>21.543</td>\n",
       "      <td>20.931</td>\n",
       "      <td>50.0</td>\n",
       "      <td>0.0</td>\n",
       "    </tr>\n",
       "    <tr>\n",
       "      <th>...</th>\n",
       "      <td>...</td>\n",
       "      <td>...</td>\n",
       "      <td>...</td>\n",
       "      <td>...</td>\n",
       "      <td>...</td>\n",
       "    </tr>\n",
       "    <tr>\n",
       "      <th>796</th>\n",
       "      <td>796.00</td>\n",
       "      <td>58.281</td>\n",
       "      <td>37.656</td>\n",
       "      <td>50.0</td>\n",
       "      <td>0.0</td>\n",
       "    </tr>\n",
       "    <tr>\n",
       "      <th>797</th>\n",
       "      <td>797.01</td>\n",
       "      <td>58.120</td>\n",
       "      <td>37.656</td>\n",
       "      <td>50.0</td>\n",
       "      <td>0.0</td>\n",
       "    </tr>\n",
       "    <tr>\n",
       "      <th>798</th>\n",
       "      <td>798.01</td>\n",
       "      <td>58.378</td>\n",
       "      <td>37.560</td>\n",
       "      <td>50.0</td>\n",
       "      <td>0.0</td>\n",
       "    </tr>\n",
       "    <tr>\n",
       "      <th>799</th>\n",
       "      <td>799.00</td>\n",
       "      <td>58.281</td>\n",
       "      <td>37.624</td>\n",
       "      <td>50.0</td>\n",
       "      <td>0.0</td>\n",
       "    </tr>\n",
       "    <tr>\n",
       "      <th>800</th>\n",
       "      <td>800.01</td>\n",
       "      <td>58.668</td>\n",
       "      <td>37.592</td>\n",
       "      <td>50.0</td>\n",
       "      <td>0.0</td>\n",
       "    </tr>\n",
       "  </tbody>\n",
       "</table>\n",
       "<p>801 rows × 5 columns</p>\n",
       "</div>"
      ],
      "text/plain": [
       "       Time      T1      T2    Q1   Q2\n",
       "0      0.00  21.543  20.898  50.0  0.0\n",
       "1      1.00  21.543  20.898  50.0  0.0\n",
       "2      2.01  21.543  20.898  50.0  0.0\n",
       "3      3.01  21.543  20.931  50.0  0.0\n",
       "4      4.00  21.543  20.931  50.0  0.0\n",
       "..      ...     ...     ...   ...  ...\n",
       "796  796.00  58.281  37.656  50.0  0.0\n",
       "797  797.01  58.120  37.656  50.0  0.0\n",
       "798  798.01  58.378  37.560  50.0  0.0\n",
       "799  799.00  58.281  37.624  50.0  0.0\n",
       "800  800.01  58.668  37.592  50.0  0.0\n",
       "\n",
       "[801 rows x 5 columns]"
      ]
     },
     "metadata": {},
     "output_type": "display_data"
    }
   ],
   "source": [
    "display(df)"
   ]
  },
  {
   "cell_type": "markdown",
   "id": "267cd663-20e3-4939-a95f-13e340a58c75",
   "metadata": {},
   "source": [
    "For development it is often enough to view just the first few rows or last few rows of a dataframe. The dataframe methods `.head()` and `.tail()` provide this service."
   ]
  },
  {
   "cell_type": "code",
   "execution_count": 12,
   "id": "5b7381ce-1794-45e0-9439-0395c332b13d",
   "metadata": {},
   "outputs": [
    {
     "data": {
      "text/html": [
       "<div>\n",
       "<style scoped>\n",
       "    .dataframe tbody tr th:only-of-type {\n",
       "        vertical-align: middle;\n",
       "    }\n",
       "\n",
       "    .dataframe tbody tr th {\n",
       "        vertical-align: top;\n",
       "    }\n",
       "\n",
       "    .dataframe thead th {\n",
       "        text-align: right;\n",
       "    }\n",
       "</style>\n",
       "<table border=\"1\" class=\"dataframe\">\n",
       "  <thead>\n",
       "    <tr style=\"text-align: right;\">\n",
       "      <th></th>\n",
       "      <th>Time</th>\n",
       "      <th>T1</th>\n",
       "      <th>T2</th>\n",
       "      <th>Q1</th>\n",
       "      <th>Q2</th>\n",
       "    </tr>\n",
       "  </thead>\n",
       "  <tbody>\n",
       "    <tr>\n",
       "      <th>0</th>\n",
       "      <td>0.00</td>\n",
       "      <td>21.543</td>\n",
       "      <td>20.898</td>\n",
       "      <td>50.0</td>\n",
       "      <td>0.0</td>\n",
       "    </tr>\n",
       "    <tr>\n",
       "      <th>1</th>\n",
       "      <td>1.00</td>\n",
       "      <td>21.543</td>\n",
       "      <td>20.898</td>\n",
       "      <td>50.0</td>\n",
       "      <td>0.0</td>\n",
       "    </tr>\n",
       "    <tr>\n",
       "      <th>2</th>\n",
       "      <td>2.01</td>\n",
       "      <td>21.543</td>\n",
       "      <td>20.898</td>\n",
       "      <td>50.0</td>\n",
       "      <td>0.0</td>\n",
       "    </tr>\n",
       "    <tr>\n",
       "      <th>3</th>\n",
       "      <td>3.01</td>\n",
       "      <td>21.543</td>\n",
       "      <td>20.931</td>\n",
       "      <td>50.0</td>\n",
       "      <td>0.0</td>\n",
       "    </tr>\n",
       "    <tr>\n",
       "      <th>4</th>\n",
       "      <td>4.00</td>\n",
       "      <td>21.543</td>\n",
       "      <td>20.931</td>\n",
       "      <td>50.0</td>\n",
       "      <td>0.0</td>\n",
       "    </tr>\n",
       "  </tbody>\n",
       "</table>\n",
       "</div>"
      ],
      "text/plain": [
       "   Time      T1      T2    Q1   Q2\n",
       "0  0.00  21.543  20.898  50.0  0.0\n",
       "1  1.00  21.543  20.898  50.0  0.0\n",
       "2  2.01  21.543  20.898  50.0  0.0\n",
       "3  3.01  21.543  20.931  50.0  0.0\n",
       "4  4.00  21.543  20.931  50.0  0.0"
      ]
     },
     "execution_count": 12,
     "metadata": {},
     "output_type": "execute_result"
    }
   ],
   "source": [
    "df.head(5)"
   ]
  },
  {
   "cell_type": "code",
   "execution_count": 13,
   "id": "9490bc9b-746a-433d-bfb2-c802b082c58b",
   "metadata": {},
   "outputs": [
    {
     "data": {
      "text/html": [
       "<div>\n",
       "<style scoped>\n",
       "    .dataframe tbody tr th:only-of-type {\n",
       "        vertical-align: middle;\n",
       "    }\n",
       "\n",
       "    .dataframe tbody tr th {\n",
       "        vertical-align: top;\n",
       "    }\n",
       "\n",
       "    .dataframe thead th {\n",
       "        text-align: right;\n",
       "    }\n",
       "</style>\n",
       "<table border=\"1\" class=\"dataframe\">\n",
       "  <thead>\n",
       "    <tr style=\"text-align: right;\">\n",
       "      <th></th>\n",
       "      <th>Time</th>\n",
       "      <th>T1</th>\n",
       "      <th>T2</th>\n",
       "      <th>Q1</th>\n",
       "      <th>Q2</th>\n",
       "    </tr>\n",
       "  </thead>\n",
       "  <tbody>\n",
       "    <tr>\n",
       "      <th>796</th>\n",
       "      <td>796.00</td>\n",
       "      <td>58.281</td>\n",
       "      <td>37.656</td>\n",
       "      <td>50.0</td>\n",
       "      <td>0.0</td>\n",
       "    </tr>\n",
       "    <tr>\n",
       "      <th>797</th>\n",
       "      <td>797.01</td>\n",
       "      <td>58.120</td>\n",
       "      <td>37.656</td>\n",
       "      <td>50.0</td>\n",
       "      <td>0.0</td>\n",
       "    </tr>\n",
       "    <tr>\n",
       "      <th>798</th>\n",
       "      <td>798.01</td>\n",
       "      <td>58.378</td>\n",
       "      <td>37.560</td>\n",
       "      <td>50.0</td>\n",
       "      <td>0.0</td>\n",
       "    </tr>\n",
       "    <tr>\n",
       "      <th>799</th>\n",
       "      <td>799.00</td>\n",
       "      <td>58.281</td>\n",
       "      <td>37.624</td>\n",
       "      <td>50.0</td>\n",
       "      <td>0.0</td>\n",
       "    </tr>\n",
       "    <tr>\n",
       "      <th>800</th>\n",
       "      <td>800.01</td>\n",
       "      <td>58.668</td>\n",
       "      <td>37.592</td>\n",
       "      <td>50.0</td>\n",
       "      <td>0.0</td>\n",
       "    </tr>\n",
       "  </tbody>\n",
       "</table>\n",
       "</div>"
      ],
      "text/plain": [
       "       Time      T1      T2    Q1   Q2\n",
       "796  796.00  58.281  37.656  50.0  0.0\n",
       "797  797.01  58.120  37.656  50.0  0.0\n",
       "798  798.01  58.378  37.560  50.0  0.0\n",
       "799  799.00  58.281  37.624  50.0  0.0\n",
       "800  800.01  58.668  37.592  50.0  0.0"
      ]
     },
     "execution_count": 13,
     "metadata": {},
     "output_type": "execute_result"
    }
   ],
   "source": [
    "df.tail(5)"
   ]
  },
  {
   "cell_type": "markdown",
   "id": "a1668657-4c97-4eee-be76-1d24e4ee046c",
   "metadata": {},
   "source": [
    "### Plotting\n",
    "\n",
    "An extensive variety of plots can be constructed using a dataframe's `.plot()` method. Many of the usual Matploblib plotting commands can be accessed through options passed to `.plot()`. For many routine applications, a single call of a dataframe's `.plot()` method can replace many lines of Python code using Matplotlib.\n",
    "\n",
    "For example, to plot all observations for a single variable."
   ]
  },
  {
   "cell_type": "code",
   "execution_count": 14,
   "id": "26f91ea0-e636-4e03-9365-6315bb24ec85",
   "metadata": {},
   "outputs": [
    {
     "data": {
      "text/plain": [
       "<AxesSubplot:>"
      ]
     },
     "execution_count": 14,
     "metadata": {},
     "output_type": "execute_result"
    },
    {
     "data": {
      "image/png": "[encoded data removed]",
      "text/plain": [
       "<Figure size 432x288 with 1 Axes>"
      ]
     },
     "metadata": {
      "filenames": {
       "image/png": "/Users/jeff/Google Drive/GitHub/cbe30338-book/_build/jupyter_execute/python/A.05-Getting-Started-with-Pandas_31_1.png"
      },
      "needs_background": "light"
     },
     "output_type": "display_data"
    }
   ],
   "source": [
    "df.T1.plot()"
   ]
  },
  {
   "cell_type": "markdown",
   "id": "f90de215-a7b0-41dd-a876-4968c8aa54fe",
   "metadata": {},
   "source": [
    "The `.plot()` method will often be used to plot one or more variables on the vertical 'y' axis as a function of another variable on the horizontal 'x' axes. Additional options specify line styles, grid, labels, titles, and much more. "
   ]
  },
  {
   "cell_type": "code",
   "execution_count": 15,
   "id": "b73efd71-a9aa-4071-ba10-7c37c21e5375",
   "metadata": {},
   "outputs": [
    {
     "data": {
      "text/plain": [
       "<AxesSubplot:title={'center':'TC Lab'}, xlabel='Time', ylabel='deg C'>"
      ]
     },
     "execution_count": 15,
     "metadata": {},
     "output_type": "execute_result"
    },
    {
     "data": {
      "image/png": "[encoded data removed]",
      "text/plain": [
       "<Figure size 432x288 with 1 Axes>"
      ]
     },
     "metadata": {
      "filenames": {
       "image/png": "/Users/jeff/Google Drive/GitHub/cbe30338-book/_build/jupyter_execute/python/A.05-Getting-Started-with-Pandas_33_1.png"
      },
      "needs_background": "light"
     },
     "output_type": "display_data"
    }
   ],
   "source": [
    "df.plot(\"Time\", [\"T1\", \"T2\"], style={\"T1\":'rx', \"T2\":'g'}, lw=2, ms=3, \n",
    "        ylabel=\"deg C\", title=\"TC Lab\", grid=True)"
   ]
  },
  {
   "cell_type": "code",
   "execution_count": 16,
   "id": "5206d37d-a553-4a23-b50e-4d8011c5a1de",
   "metadata": {},
   "outputs": [
    {
     "data": {
      "text/plain": [
       "array([[<AxesSubplot:xlabel='Time'>, <AxesSubplot:xlabel='Time'>]],\n",
       "      dtype=object)"
      ]
     },
     "execution_count": 16,
     "metadata": {},
     "output_type": "execute_result"
    },
    {
     "data": {
      "image/png": "[encoded data removed]",
      "text/plain": [
       "<Figure size 720x144 with 2 Axes>"
      ]
     },
     "metadata": {
      "filenames": {
       "image/png": "/Users/jeff/Google Drive/GitHub/cbe30338-book/_build/jupyter_execute/python/A.05-Getting-Started-with-Pandas_34_1.png"
      },
      "needs_background": "light"
     },
     "output_type": "display_data"
    }
   ],
   "source": [
    "df.plot(x = \"Time\", y=[\"T1\", \"T2\"], subplots=True, figsize=(10, 2), grid=True, layout=(1, 2))"
   ]
  },
  {
   "cell_type": "code",
   "execution_count": 17,
   "id": "20260be4-e2ca-4884-9916-c120ca282562",
   "metadata": {},
   "outputs": [
    {
     "data": {
      "text/plain": [
       "<AxesSubplot:xlabel='Time'>"
      ]
     },
     "execution_count": 17,
     "metadata": {},
     "output_type": "execute_result"
    },
    {
     "data": {
      "image/png": "[encoded data removed]",
      "text/plain": [
       "<Figure size 864x360 with 1 Axes>"
      ]
     },
     "metadata": {
      "filenames": {
       "image/png": "/Users/jeff/Google Drive/GitHub/cbe30338-book/_build/jupyter_execute/python/A.05-Getting-Started-with-Pandas_35_1.png"
      },
      "needs_background": "light"
     },
     "output_type": "display_data"
    }
   ],
   "source": [
    "df[(df.Time > 570) & (df.Time < 680)].plot(x=\"Time\", y=\"T1\", figsize=(12, 5), style={\"T1\":\"s:\"}, grid=True)"
   ]
  },
  {
   "cell_type": "markdown",
   "id": "194931b0-43f1-416f-b20e-2e2556b169c0",
   "metadata": {},
   "source": [
    "### Scatter Plots"
   ]
  },
  {
   "cell_type": "code",
   "execution_count": 18,
   "id": "af8bf96f-6388-4d30-bfd6-301168ba9ee1",
   "metadata": {},
   "outputs": [
    {
     "data": {
      "text/plain": [
       "<AxesSubplot:xlabel='T1', ylabel='T2'>"
      ]
     },
     "execution_count": 18,
     "metadata": {},
     "output_type": "execute_result"
    },
    {
     "data": {
      "image/png": "[encoded data removed]",
      "text/plain": [
       "<Figure size 432x288 with 1 Axes>"
      ]
     },
     "metadata": {
      "filenames": {
       "image/png": "/Users/jeff/Google Drive/GitHub/cbe30338-book/_build/jupyter_execute/python/A.05-Getting-Started-with-Pandas_37_1.png"
      },
      "needs_background": "light"
     },
     "output_type": "display_data"
    }
   ],
   "source": [
    "df.plot.scatter(x = \"T1\", y = \"T2\")"
   ]
  },
  {
   "cell_type": "markdown",
   "id": "103bbfaf-13f8-455f-ad6b-abc3ae659b71",
   "metadata": {},
   "source": [
    "### Statistical Plots"
   ]
  },
  {
   "cell_type": "code",
   "execution_count": 19,
   "id": "2b50b78b-ce5b-4647-a991-7ef785825cc8",
   "metadata": {},
   "outputs": [
    {
     "data": {
      "text/plain": [
       "array([[<AxesSubplot:title={'center':'T1'}>,\n",
       "        <AxesSubplot:title={'center':'T2'}>]], dtype=object)"
      ]
     },
     "execution_count": 19,
     "metadata": {},
     "output_type": "execute_result"
    },
    {
     "data": {
      "image/png": "[encoded data removed]",
      "text/plain": [
       "<Figure size 720x216 with 2 Axes>"
      ]
     },
     "metadata": {
      "filenames": {
       "image/png": "/Users/jeff/Google Drive/GitHub/cbe30338-book/_build/jupyter_execute/python/A.05-Getting-Started-with-Pandas_39_1.png"
      },
      "needs_background": "light"
     },
     "output_type": "display_data"
    }
   ],
   "source": [
    "df[[\"T1\", \"T2\"]].hist(bins=30, figsize=(10, 3))"
   ]
  },
  {
   "cell_type": "markdown",
   "id": "8768e11b-e3a4-43ca-994b-7f4575b853ed",
   "metadata": {},
   "source": [
    "## Working with Variables\n",
    "\n",
    "Pandas provide are an effective data structure for calculations with data.\n",
    "\n",
    "To illustrate, here we have temperature and flow data for a double pipe heat exchanger "
   ]
  },
  {
   "cell_type": "code",
   "execution_count": 20,
   "id": "e1a840a3-6938-485e-9de8-54412e973741",
   "metadata": {},
   "outputs": [
    {
     "name": "stdout",
     "output_type": "stream",
     "text": [
      "Index(['Hot Flow (L/hr)', 'Cold Flow (L/hr)', 'Time', 'H Outlet', 'H Inlet',\n",
      "       'C Inlet', 'C Outlet', 'T5 (ｰC)', 'T6 (ｰC)', 'T7 (ｰC)', 'T8 (ｰC)',\n",
      "       'T9 (ｰC)', 'T10 (ｰC)', 'dp1 (mbar)', 'dp2 (mbar)', 'dQ1/dt (kW)',\n",
      "       'dQ2/dt (kW)', 'dQm/dt (kW)', 'cp2 (kJ/kg*K)', 'cp1 (kJ/kg*K)',\n",
      "       'dTm (ｰC)', 'k1 (kW/K*mｲ)', 'k2 (kW/K*mｲ)', 'km (kW/K*mｲ)',\n",
      "       'rho1 (kg/dmｳ)', 'rho2 (kg/dmｳ)', 'EFF (%)'],\n",
      "      dtype='object')\n"
     ]
    }
   ],
   "source": [
    "print(hx.columns)"
   ]
  },
  {
   "cell_type": "code",
   "execution_count": 22,
   "id": "32d5db74-d0a7-40a9-b790-58c7efbe5f89",
   "metadata": {},
   "outputs": [
    {
     "data": {
      "text/plain": [
       "<AxesSubplot:title={'center':'Heat Balances'}>"
      ]
     },
     "execution_count": 22,
     "metadata": {},
     "output_type": "execute_result"
    },
    {
     "data": {
      "image/png": "[encoded data removed]",
      "text/plain": [
       "<Figure size 432x288 with 1 Axes>"
      ]
     },
     "metadata": {
      "filenames": {
       "image/png": "/Users/jeff/Google Drive/GitHub/cbe30338-book/_build/jupyter_execute/python/A.05-Getting-Started-with-Pandas_42_1.png"
      },
      "needs_background": "light"
     },
     "output_type": "display_data"
    }
   ],
   "source": [
    "# heat capacity of water \n",
    "Cp = 4.18 # kJ/ L / C\n",
    "\n",
    "hx[\"Qh\"] = Cp * hx[\"Hot Flow (L/hr)\"] * (hx[\"H Inlet\"] - hx[\"H Outlet\"]) / 3600\n",
    "hx[\"Qc\"] = Cp * hx[\"Cold Flow (L/hr)\"] * (hx[\"C Outlet\"] - hx[\"C Inlet\"]) / 3600\n",
    "\n",
    "hx.plot(y = [\"Qh\", \"Qc\"], ylim = (0, 15), grid=True, title=\"Heat Balances\")"
   ]
  },
  {
   "cell_type": "code",
   "execution_count": 25,
   "id": "2af9282d-f6b8-43ce-8b3f-e5ba97e6a37f",
   "metadata": {},
   "outputs": [
    {
     "data": {
      "text/plain": [
       "0     23.649139\n",
       "1     23.601683\n",
       "2     23.601683\n",
       "3     23.690900\n",
       "4     23.690900\n",
       "5     23.690900\n",
       "6     21.763415\n",
       "7     21.724590\n",
       "8     21.724590\n",
       "9     22.899854\n",
       "10    22.899854\n",
       "11    22.899854\n",
       "12    23.148236\n",
       "13    23.098701\n",
       "14    23.149100\n",
       "15    21.415674\n",
       "16    21.415674\n",
       "17    21.415674\n",
       "18    18.690256\n",
       "19    18.725265\n",
       "20    18.725265\n",
       "21    19.680153\n",
       "22    19.680153\n",
       "23    19.680153\n",
       "Name: LMTD, dtype: float64"
      ]
     },
     "execution_count": 25,
     "metadata": {},
     "output_type": "execute_result"
    }
   ],
   "source": [
    "import numpy as np\n",
    "\n",
    "dT1 = hx[\"H Inlet\"] - hx[\"C Outlet\"]\n",
    "dT0 = hx[\"H Outlet\"] - hx[\"C Inlet\"]\n",
    "\n",
    "hx[\"LMTD\"] = (dT1 - dT0) / np.log(dT1/dT0)\n",
    "hx[\"LMTD\"]"
   ]
  },
  {
   "cell_type": "code",
   "execution_count": 45,
   "id": "9626d168-5cb2-4eb5-8104-a5895678409b",
   "metadata": {},
   "outputs": [],
   "source": [
    "hx[\"UA\"] =  0.5*(hx.Qh + hx.Qc)/hx.LMTD\n",
    "hx[\"R\"] = 1.0/hx[\"UA\"]\n",
    "hx[\"Ac\"] = hx[\"Hot Flow (L/hr)\"]**(-0.8)\n",
    "hx[\"Ah\"] = hx[\"Cold Flow (L/hr)\"]**(-0.8)"
   ]
  },
  {
   "cell_type": "code",
   "execution_count": 46,
   "id": "0de44709-e45a-47ec-bcec-f5c8298844cc",
   "metadata": {},
   "outputs": [
    {
     "name": "stdout",
     "output_type": "stream",
     "text": [
      "Intercept      0.141716\n",
      "Ac           115.292199\n",
      "Ah           186.346764\n",
      "dtype: float64\n",
      "                            OLS Regression Results                            \n",
      "==============================================================================\n",
      "Dep. Variable:                      R   R-squared:                       0.997\n",
      "Model:                            OLS   Adj. R-squared:                  0.997\n",
      "Method:                 Least Squares   F-statistic:                     3711.\n",
      "Date:                Sun, 30 Jan 2022   Prob (F-statistic):           1.70e-27\n",
      "Time:                        23:10:39   Log-Likelihood:                 44.929\n",
      "No. Observations:                  24   AIC:                            -83.86\n",
      "Df Residuals:                      21   BIC:                            -80.32\n",
      "Df Model:                           2                                         \n",
      "Covariance Type:            nonrobust                                         \n",
      "==============================================================================\n",
      "                 coef    std err          t      P>|t|      [0.025      0.975]\n",
      "------------------------------------------------------------------------------\n",
      "Intercept      0.1417      0.032      4.425      0.000       0.075       0.208\n",
      "Ac           115.2922      2.465     46.762      0.000     110.165     120.419\n",
      "Ah           186.3468      2.233     83.445      0.000     181.703     190.991\n",
      "==============================================================================\n",
      "Omnibus:                        9.087   Durbin-Watson:                   0.894\n",
      "Prob(Omnibus):                  0.011   Jarque-Bera (JB):                2.268\n",
      "Skew:                           0.227   Prob(JB):                        0.322\n",
      "Kurtosis:                       1.564   Cond. No.                         334.\n",
      "==============================================================================\n",
      "\n",
      "Notes:\n",
      "[1] Standard Errors assume that the covariance matrix of the errors is correctly specified.\n"
     ]
    }
   ],
   "source": [
    "import statsmodels.formula.api as sm\n",
    "\n",
    "result = sm.ols(formula=\"R ~ Ac + Ah\", data = hx).fit()\n",
    "print(result.params)\n",
    "print(result.summary())"
   ]
  },
  {
   "cell_type": "code",
   "execution_count": 47,
   "id": "b753564f-629b-4daa-ad79-72d114c9b87d",
   "metadata": {},
   "outputs": [
    {
     "data": {
      "text/plain": [
       "<AxesSubplot:>"
      ]
     },
     "execution_count": 47,
     "metadata": {},
     "output_type": "execute_result"
    },
    {
     "data": {
      "image/png": "[encoded data removed]",
      "text/plain": [
       "<Figure size 432x288 with 1 Axes>"
      ]
     },
     "metadata": {
      "filenames": {
       "image/png": "/Users/jeff/Google Drive/GitHub/cbe30338-book/_build/jupyter_execute/python/A.05-Getting-Started-with-Pandas_46_1.png"
      },
      "needs_background": "light"
     },
     "output_type": "display_data"
    }
   ],
   "source": [
    "hx[\"UA_pred\"] = 1/(0.14 + 115.3*hx[\"Ac\"] + 186.3*hx[\"Ah\"])\n",
    "hx.plot(y = [\"UA\", \"UA_pred\"], grid=True)"
   ]
  },
  {
   "cell_type": "code",
   "execution_count": null,
   "id": "2e7b0188-2bf3-4229-9ce6-560f096ed5ef",
   "metadata": {},
   "outputs": [],
   "source": []
  }
 ],
 "metadata": {
  "kernelspec": {
   "display_name": "Python 3 (ipykernel)",
   "language": "python",
   "name": "python3"
  },
  "language_info": {
   "codemirror_mode": {
    "name": "ipython",
    "version": 3
   },
   "file_extension": ".py",
   "mimetype": "text/x-python",
   "name": "python",
   "nbconvert_exporter": "python",
   "pygments_lexer": "ipython3",
   "version": "3.9.7"
  }
 },
 "nbformat": 4,
 "nbformat_minor": 5
}
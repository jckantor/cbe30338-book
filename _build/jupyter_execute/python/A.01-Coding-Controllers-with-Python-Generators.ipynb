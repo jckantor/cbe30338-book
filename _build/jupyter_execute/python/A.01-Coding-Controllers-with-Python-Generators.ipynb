{
 "cells": [
  {
   "cell_type": "markdown",
   "metadata": {},
   "source": [
    "<!--NOTEBOOK_HEADER-->\n",
    "*This notebook contains course material from [CBE32338](https://jckantor.github.io/CBE32338)\n",
    "by Jeffrey Kantor (jeff at nd.edu); the content is available [on Github](https://github.com/jckantor/CBE2338.git).\n",
    "The text is released under the [CC-BY-NC-ND-4.0 license](https://creativecommons.org/licenses/by-nc-nd/4.0/legalcode),\n",
    "and code is released under the [MIT license](https://opensource.org/licenses/MIT).*"
   ]
  },
  {
   "cell_type": "markdown",
   "metadata": {},
   "source": [
    "<!--NAVIGATION-->\n",
    "< [Additional Python](http://nbviewer.jupyter.org/github/jckantor/CBE32338/blob/master/notebooks/A.00-Additional-Python.ipynb) | [Contents](toc.ipynb) | [Modular Simulation using Python Generators](http://nbviewer.jupyter.org/github/jckantor/CBE32338/blob/master/notebooks/A.02-Modular-Approach-to-Simulation-using-Python-Generators.ipynb) ><p><a href=\"https://colab.research.google.com/github/jckantor/CBE32338/blob/master/notebooks/A.01-Coding-Controllers-with-Python-Generators.ipynb\"><img align=\"left\" src=\"https://colab.research.google.com/assets/colab-badge.svg\" alt=\"Open in Colab\" title=\"Open in Google Colaboratory\"></a><p><a href=\"https://raw.githubusercontent.com/jckantor/CBE32338/master/notebooks/A.01-Coding-Controllers-with-Python-Generators.ipynb\"><img align=\"left\" src=\"https://img.shields.io/badge/Github-Download-blue.svg\" alt=\"Download\" title=\"Download Notebook\"></a>"
   ]
  },
  {
   "cell_type": "markdown",
   "metadata": {},
   "source": [
    "# Coding Controllers with Python Generators\n",
    "\n",
    "Up to this point we have been implementing simple control strategies where the manipulated variable depends only on current values of the process variable and setpoint. Relay control, for example, can be expressed mathematically as\n",
    "\n",
    "$$MV = Kp \\times (SP - PV)$$\n",
    "\n",
    "and implemented in Python as\n",
    "\n",
    "    def proportional(PV,SP):\n",
    "        MV = Kp * (SP - PV)\n",
    "        return MV\n",
    "\n",
    "Python functions carry no persistent memory from one use to the next, which is fine if the control algorithm requires no knowledge of the past.\n",
    "\n",
    "The problem, however, is that more useful control algorithms require use of past measurements. Proportional-integral control, for example, tracks the cumulative sum of the differences between setpoint and the process variable. Because a Python function disappears completely after the return statement, the value of the cumulative sum must be stored somewhere in code. The coding problem is to figure out how and where to store that information between calls to the algorithm. We seek coding methods that encapsulate the state of control algorithms.\n",
    "\n",
    "There are several ways this can be done in Python (roughly in order of increasing capability and complexity):\n",
    "\n",
    "* Generators written using the Python `yield` statement\n",
    "* Classes\n",
    "* Asynchronous programming with co-routines\n",
    "* Threads\n",
    "\n",
    "Classes, in particular, are a tool for encapsulating data and functionality within a single software entity. Classes are widely used in Python programming, and should eventually become part of every Python programmer's toolkit.\n",
    "\n",
    "As we demonstrate below, however, the Python `yield` statement is often sufficient to write self-contained implementations of control algorithm. \n",
    "\n",
    "## Python Generators and the Yield Statement\n",
    "\n",
    "The cells below provide a very brief introduction to Python generators. More information can be found [here](https://jeffknupp.com/blog/2013/04/07/improve-your-python-yield-and-generators-explained/)\n",
    "\n",
    "A function incorporating a `yield` statement is used to create generators.  Like the `return` statement, `yield` says to return a value and control to the calling routine. But unlike the `return` statement, following a `yield` the generator goes into a suspended state. On the next use it will pick up execution right where execution left off.\n",
    "\n",
    "Here's an example produces a generator for four numbers."
   ]
  },
  {
   "cell_type": "code",
   "execution_count": 1,
   "metadata": {},
   "outputs": [],
   "source": [
    "def numbers_gen():\n",
    "    yield 0\n",
    "    yield 1\n",
    "    yield 2.7182818\n",
    "    yield 3.1415926"
   ]
  },
  {
   "cell_type": "markdown",
   "metadata": {},
   "source": [
    "To use this, first create the actual generator object that will do the work. "
   ]
  },
  {
   "cell_type": "code",
   "execution_count": 2,
   "metadata": {},
   "outputs": [],
   "source": [
    "numbers = numbers_gen()"
   ]
  },
  {
   "cell_type": "markdown",
   "metadata": {},
   "source": [
    "The generator object `numbers` has a `send` method for sending information to the generator and causing it to execute until the next `yield`.  For this case all we need to send is `None`."
   ]
  },
  {
   "cell_type": "code",
   "execution_count": 3,
   "metadata": {},
   "outputs": [
    {
     "name": "stdout",
     "output_type": "stream",
     "text": [
      "0\n",
      "1\n",
      "2.7182818\n",
      "3.1415926\n"
     ]
    }
   ],
   "source": [
    "print(numbers.send(None))\n",
    "print(numbers.send(None))\n",
    "print(numbers.send(None))\n",
    "print(numbers.send(None))"
   ]
  },
  {
   "cell_type": "markdown",
   "metadata": {},
   "source": [
    "The `send` method provides two-way communication with a generator. Here's an example of how that works."
   ]
  },
  {
   "cell_type": "code",
   "execution_count": 5,
   "metadata": {},
   "outputs": [
    {
     "name": "stdout",
     "output_type": "stream",
     "text": [
      "Started\n",
      "Hello, World\n"
     ]
    }
   ],
   "source": [
    "def texter_gen():\n",
    "    a = yield \"Started\"\n",
    "    b = yield a\n",
    "    \n",
    "texter = texter_gen()\n",
    "print(texter.send(None))\n",
    "print(texter.send(\"Hello, World\"))"
   ]
  },
  {
   "cell_type": "markdown",
   "metadata": {},
   "source": [
    "There's a subtle detail here that easy to miss. The first `send` starts the generator which then executes up to the first yield statement. At that point execution halts and the message \"Started\" is sent to the calling routine. The second `send` causes execution to pick up again and puts the message \"Hello, World\" into variable `a`.  \n",
    "\n",
    "An important point is that the first `send` to a generator must always be `None`.\n",
    "\n",
    "In the next example `yield` is placed inside an infinite loop. This function creates generators that return the square of the number sent."
   ]
  },
  {
   "cell_type": "code",
   "execution_count": 6,
   "metadata": {},
   "outputs": [
    {
     "name": "stdout",
     "output_type": "stream",
     "text": [
      "16\n",
      "144\n",
      "1764\n"
     ]
    }
   ],
   "source": [
    "# A function that will create generators\n",
    "def our_numbers():\n",
    "    n = 0\n",
    "    while True:\n",
    "        n = yield n*n\n",
    "\n",
    "# create a generator\n",
    "numbers = our_numbers()\n",
    "\n",
    "# start the generator\n",
    "numbers.send(None)        \n",
    "\n",
    "# send values to the generator and print the results\n",
    "print(numbers.send(4))\n",
    "print(numbers.send(12))\n",
    "print(numbers.send(42))\n",
    "\n",
    "# how to remove a generator when finished using it.\n",
    "numbers.close()"
   ]
  },
  {
   "cell_type": "markdown",
   "metadata": {},
   "source": [
    "Let's now consider how generators may be used for process control applications. The next cell defines a function that will create generators that perform as proportional controllers with specified gain $K_p$ and setpoint $SP$. When sent a current value of the process variable `PV`, the controllers will return a value for the manipulated variable `MV`."
   ]
  },
  {
   "cell_type": "code",
   "execution_count": 7,
   "metadata": {},
   "outputs": [],
   "source": [
    "def proportional(Kp, SP):\n",
    "    \"\"\"Creates proportional controllers with specified gain and setpoint.\"\"\"\n",
    "    MV = 0\n",
    "    while True:\n",
    "        PV = yield MV\n",
    "        MV = Kp * (SP - PV)"
   ]
  },
  {
   "cell_type": "markdown",
   "metadata": {},
   "source": [
    "Let's create and initialize two controllers with the same setpoint but different gains."
   ]
  },
  {
   "cell_type": "code",
   "execution_count": 8,
   "metadata": {},
   "outputs": [
    {
     "data": {
      "text/plain": [
       "0"
      ]
     },
     "execution_count": 8,
     "metadata": {},
     "output_type": "execute_result"
    }
   ],
   "source": [
    "controller1 = proportional(10, 40)\n",
    "controller1.send(None)\n",
    "\n",
    "controller2 = proportional(1, 40)\n",
    "controller2.send(None)"
   ]
  },
  {
   "cell_type": "markdown",
   "metadata": {},
   "source": [
    "Let's see how these controllers would respond to a PV value of 35."
   ]
  },
  {
   "cell_type": "code",
   "execution_count": 9,
   "metadata": {},
   "outputs": [
    {
     "name": "stdout",
     "output_type": "stream",
     "text": [
      "Controller 1: MV =  50\n",
      "Controller 2: MV =  5\n"
     ]
    }
   ],
   "source": [
    "PV = 35\n",
    "\n",
    "print(\"Controller 1: MV = \", controller1.send(PV))\n",
    "print(\"Controller 2: MV = \", controller2.send(PV))"
   ]
  },
  {
   "cell_type": "markdown",
   "metadata": {},
   "source": [
    "From a coding and maintenance perspective, this is a very useful feature. We need to create and maintain only one copy of the control algorithm."
   ]
  },
  {
   "cell_type": "markdown",
   "metadata": {},
   "source": [
    "## Example: Relay Control with Hysteresis\n",
    "\n",
    "Relay control can work well but is sensitive to measurement noise. Even a relatively small amount of measurement noise causes the manipulated variable to rapidly cycle between extreme values. Needless to say, this would be a unacceptable in large scale chemical plants.\n",
    "\n",
    "A common workaround is add a small amount of hystersis to the controller. Here's an example from the Inkbird IB-16 controller that is typical of a commercial devices found in the food and pharaceutical industries.\n",
    "\n",
    "<img src='images/Inkbird-16.png' style=\"float: left;padding-right:10px;\"></img>\n",
    "<img src='images/Inkbird-16-Manual.png' style=\"float: right;padding-left:30px;\"></img>"
   ]
  },
  {
   "cell_type": "markdown",
   "metadata": {},
   "source": [
    "The controller is modeled\n",
    "\n",
    "$$MV_k = \\begin{cases} 100 & \\mbox{if }PV_k \\leq SP - d \\\\ 0 & \\mbox{if }PV_k \\geq SP + d \\\\ MV_{k-1}\\end{cases}$$\n",
    "\n",
    "where $SP \\pm d$ is the range over which the manipulated variable is left unchanged.\n",
    "\n",
    "This can be coded as follows"
   ]
  },
  {
   "cell_type": "code",
   "execution_count": 10,
   "metadata": {},
   "outputs": [],
   "source": [
    "def relay(d, SP):\n",
    "    MV = 0\n",
    "    while True:\n",
    "        PV = yield MV\n",
    "        MV_prev = MV\n",
    "        MV = 100 if PV < SP - d else 0 if PV > SP + d else MV_prev"
   ]
  },
  {
   "cell_type": "markdown",
   "metadata": {},
   "source": [
    "### Simulation"
   ]
  },
  {
   "cell_type": "code",
   "execution_count": 11,
   "metadata": {
    "scrolled": false
   },
   "outputs": [
    {
     "data": {
      "image/png": "[encoded data removed]",
      "text/plain": [
       "<matplotlib.figure.Figure at 0x1104a2dd8>"
      ]
     },
     "metadata": {
      "filenames": {
       "image/png": "/Users/jeff/Google Drive/GitHub/cbe30338-book/_build/jupyter_execute/python/A.01-Coding-Controllers-with-Python-Generators_23_0.png"
      }
     },
     "output_type": "display_data"
    },
    {
     "name": "stdout",
     "output_type": "stream",
     "text": [
      "Surrogate TCLab disconnected successfully.\n"
     ]
    }
   ],
   "source": [
    "from tclab import clock, setup, Historian, Plotter\n",
    "TCLab = setup(connected=False, speedup=10)\n",
    "\n",
    "thermostat = relay(2,40)    # create thermostat\n",
    "thermostat.send(None)       # initialize thermostat\n",
    "\n",
    "with TCLab() as a:\n",
    "    h = Historian(a.sources)\n",
    "    p = Plotter(h, twindow=360)\n",
    "    for t in clock(360):\n",
    "        PV = a.T1                         # get measurements\n",
    "        MV = thermostat.send(PV)          # compute control action\n",
    "        a.U1 = MV                         # apply command\n",
    "        p.update(t)                       # update information display"
   ]
  },
  {
   "cell_type": "markdown",
   "metadata": {},
   "source": [
    "### Experiment"
   ]
  },
  {
   "cell_type": "code",
   "execution_count": 12,
   "metadata": {
    "scrolled": false
   },
   "outputs": [
    {
     "data": {
      "image/png": "[encoded data removed]",
      "text/plain": [
       "<matplotlib.figure.Figure at 0x1110ec2e8>"
      ]
     },
     "metadata": {
      "filenames": {
       "image/png": "/Users/jeff/Google Drive/GitHub/cbe30338-book/_build/jupyter_execute/python/A.01-Coding-Controllers-with-Python-Generators_25_0.png"
      }
     },
     "output_type": "display_data"
    },
    {
     "name": "stdout",
     "output_type": "stream",
     "text": [
      "TCLab disconnected successfully.\n"
     ]
    }
   ],
   "source": [
    "from tclab import clock, setup, Historian, Plotter\n",
    "TCLab = setup(connected=True, speedup=1)\n",
    "\n",
    "thermostat = relay(2,40)    # create thermostat\n",
    "thermostat.send(None)       # initialize thermostat\n",
    "\n",
    "with TCLab() as a:\n",
    "    h = Historian(a.sources)\n",
    "    p = Plotter(h,twindow=300)\n",
    "    for t in clock(300, strict=False):\n",
    "        PV = a.T1                         # get measurements\n",
    "        MV = thermostat.send(PV)          # compute control action\n",
    "        a.U1 = MV                         # apply command\n",
    "        p.update(t)                       # update information display"
   ]
  },
  {
   "cell_type": "markdown",
   "metadata": {},
   "source": [
    "## Example: Proportional-Integral Control\n",
    "\n",
    "A simple velocity form of Proportional-Integral control is an example of a controller with internal state. In velocity form,\n",
    "\n",
    "$$MV_{k} = MV_{k-1} + K_p (e_k - e_{k-1}) + K_iT_se_k$$\n",
    "\n",
    "where $e_k$ is the difference between setpoint and measured process variable\n",
    "\n",
    "$$e_k = SP_k - PV_k$$\n",
    "\n",
    "$K_p$ and $K_i$ are control constants, and $T_s$ is the sampling time. To prevent windup of the integral term, a PI algorithm will typically enforce upper and lower bounds on the value of $MV$. \n",
    "\n",
    "The following cell provides a direct implementation of this algorithm as a Python generator."
   ]
  },
  {
   "cell_type": "code",
   "execution_count": 13,
   "metadata": {},
   "outputs": [],
   "source": [
    "def PI(Kp, Ki, b=1):\n",
    "    \"\"\"Proportional Integral Control.\"\"\"\n",
    "    t = 0\n",
    "    e = 0\n",
    "    MV = 0\n",
    "    while True:\n",
    "        # store prior values before yielding\n",
    "        t_prev = t\n",
    "        e_prev = e\n",
    "        MV_prev = MV\n",
    "        \n",
    "        # yield\n",
    "        PV, SP, t = yield MV\n",
    "\n",
    "        # PI control algorithm\n",
    "        e = b*SP - PV\n",
    "        MV = MV_prev + Kp*(e - e_prev) + Ki*(t - t_prev)*(SP - PV)\n",
    "        \n",
    "        # prevent integral windup\n",
    "        MV = max(0, min(100, MV))"
   ]
  },
  {
   "cell_type": "markdown",
   "metadata": {},
   "source": [
    "### Simulation"
   ]
  },
  {
   "cell_type": "code",
   "execution_count": 14,
   "metadata": {
    "scrolled": false
   },
   "outputs": [
    {
     "data": {
      "image/png": "[encoded data removed]",
      "text/plain": [
       "<matplotlib.figure.Figure at 0x11046a8d0>"
      ]
     },
     "metadata": {
      "filenames": {
       "image/png": "/Users/jeff/Google Drive/GitHub/cbe30338-book/_build/jupyter_execute/python/A.01-Coding-Controllers-with-Python-Generators_29_0.png"
      }
     },
     "output_type": "display_data"
    },
    {
     "name": "stdout",
     "output_type": "stream",
     "text": [
      "Surrogate TCLab disconnected successfully.\n"
     ]
    }
   ],
   "source": [
    "from tclab import clock, setup, Historian, Plotter\n",
    "TCLab = setup(connected=False, speedup=10)\n",
    "\n",
    "controller = PI(3, 0.03)    # create thermostat\n",
    "controller.send(None)       # initialize thermostat\n",
    "\n",
    "SP = 40\n",
    "\n",
    "with TCLab() as a:\n",
    "    h = Historian(a.sources)\n",
    "    p = Plotter(h, twindow=400)\n",
    "    for t in clock(400):\n",
    "        PV = a.T1                         # get measurements\n",
    "        MV = controller.send([PV,SP,t])   # compute control action\n",
    "        a.U1 = MV                         # apply command\n",
    "        p.update(t)                       # update information display"
   ]
  },
  {
   "cell_type": "markdown",
   "metadata": {},
   "source": [
    "### Experiment"
   ]
  },
  {
   "cell_type": "code",
   "execution_count": 16,
   "metadata": {},
   "outputs": [
    {
     "data": {
      "image/png": "[encoded data removed]",
      "text/plain": [
       "<matplotlib.figure.Figure at 0x10dd3bef0>"
      ]
     },
     "metadata": {
      "filenames": {
       "image/png": "/Users/jeff/Google Drive/GitHub/cbe30338-book/_build/jupyter_execute/python/A.01-Coding-Controllers-with-Python-Generators_31_0.png"
      }
     },
     "output_type": "display_data"
    },
    {
     "name": "stdout",
     "output_type": "stream",
     "text": [
      "TCLab disconnected successfully.\n"
     ]
    }
   ],
   "source": [
    "from tclab import clock, setup, Historian, Plotter\n",
    "TCLab = setup(connected=True)\n",
    "\n",
    "controller = PI(3, 0.03)    # create thermostat\n",
    "controller.send(None)       # initialize thermostat\n",
    "\n",
    "SP = 40\n",
    "\n",
    "with TCLab() as a:\n",
    "    h = Historian(a.sources)\n",
    "    p = Plotter(h, twindow=400)\n",
    "    for t in clock(400, tol=0.5):\n",
    "        PV = a.T1                         # get measurements\n",
    "        MV = controller.send([PV,SP,t])   # compute control action\n",
    "        a.U1 = MV                         # apply command\n",
    "        p.update(t)                       # update information display"
   ]
  },
  {
   "cell_type": "code",
   "execution_count": null,
   "metadata": {},
   "outputs": [],
   "source": []
  },
  {
   "cell_type": "markdown",
   "metadata": {},
   "source": [
    "<!--NAVIGATION-->\n",
    "< [Additional Python](http://nbviewer.jupyter.org/github/jckantor/CBE32338/blob/master/notebooks/A.00-Additional-Python.ipynb) | [Contents](toc.ipynb) | [Modular Simulation using Python Generators](http://nbviewer.jupyter.org/github/jckantor/CBE32338/blob/master/notebooks/A.02-Modular-Approach-to-Simulation-using-Python-Generators.ipynb) ><p><a href=\"https://colab.research.google.com/github/jckantor/CBE32338/blob/master/notebooks/A.01-Coding-Controllers-with-Python-Generators.ipynb\"><img align=\"left\" src=\"https://colab.research.google.com/assets/colab-badge.svg\" alt=\"Open in Colab\" title=\"Open in Google Colaboratory\"></a><p><a href=\"https://raw.githubusercontent.com/jckantor/CBE32338/master/notebooks/A.01-Coding-Controllers-with-Python-Generators.ipynb\"><img align=\"left\" src=\"https://img.shields.io/badge/Github-Download-blue.svg\" alt=\"Download\" title=\"Download Notebook\"></a>"
   ]
  }
 ],
 "metadata": {
  "kernelspec": {
   "display_name": "Python 3",
   "language": "python",
   "name": "python3"
  },
  "language_info": {
   "codemirror_mode": {
    "name": "ipython",
    "version": 3
   },
   "file_extension": ".py",
   "mimetype": "text/x-python",
   "name": "python",
   "nbconvert_exporter": "python",
   "pygments_lexer": "ipython3",
   "version": "3.6.8"
  }
 },
 "nbformat": 4,
 "nbformat_minor": 2
}
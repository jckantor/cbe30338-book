{
 "cells": [
  {
   "cell_type": "markdown",
   "metadata": {
    "tags": []
   },
   "source": [
    "# Case Study: PCR Thermal Cycler Protocols\n",
    "\n",
    "The goal of this next section is to create a function that returns the value of a setpoint profile for a PCR thermal cycler. We'll break this into a series of steps:\n",
    "\n",
    "* Specify a PCR protocol\n",
    "* Convert the PCR protocol in a sequence of ramp and soak periods\n",
    "* Create a function that returns the value of setpoint at any point in time\n",
    "* Create a function that returns a setpoint function."
   ]
  },
  {
   "cell_type": "markdown",
   "metadata": {
    "colab": {},
    "colab_type": "code",
    "id": "rGhvoGiONmjt"
   },
   "source": [
    "## Typcial PCR thermal cycler protocols\n",
    "\n",
    "Here's an example of a PCR thermal cycler protocol:\n",
    "\n",
    "* Activation of polymerase: 95°C, 15 min\n",
    "* Thermal cycling: 30 cycles\n",
    "    * Denaturation: 94°C, 20 s\n",
    "    * Annealing: 60°C, 20 s\n",
    "    * Elongation: 72°C, 30 s\n",
    "* Extension: 72°C, 10 min\n",
    "* Storage: 4°C, as necessary\n",
    "\n",
    "The details of these protocols vary depending on the nature of the test, the reagents used, and the type of detection that will be employed. In real-time PCR, the number of cycling steps will end once a positive result is obtained."
   ]
  },
  {
   "cell_type": "markdown",
   "metadata": {},
   "source": [
    "## Representing PCR protocols in Python\n",
    "\n",
    "The PCR protocol is a series of (time, temperature) pairs. The code in the next cell represents a protocol as a sequence of (time, temperature) pairs in a Python list. The list is constructed by concatenating subprotocols denoting the activation, cycling and extension steps in a PCR protocol"
   ]
  },
  {
   "cell_type": "code",
   "execution_count": 51,
   "metadata": {},
   "outputs": [
    {
     "data": {
      "text/plain": [
       "array([[900,  95],\n",
       "       [ 20,  94],\n",
       "       [ 20,  60],\n",
       "       [ 30,  72],\n",
       "       [ 20,  94],\n",
       "       [ 20,  60],\n",
       "       [ 30,  72],\n",
       "       [ 20,  94],\n",
       "       [ 20,  60],\n",
       "       [ 30,  72],\n",
       "       [ 20,  94],\n",
       "       [ 20,  60],\n",
       "       [ 30,  72],\n",
       "       [ 20,  94],\n",
       "       [ 20,  60],\n",
       "       [ 30,  72],\n",
       "       [600,  72],\n",
       "       [  0,  30]])"
      ]
     },
     "execution_count": 51,
     "metadata": {},
     "output_type": "execute_result"
    }
   ],
   "source": [
    "%matplotlib inline\n",
    "import numpy as np\n",
    "import matplotlib.pyplot as plt\n",
    "\n",
    "# number of cycles\n",
    "n_cycles = 5\n",
    "\n",
    "# enter steps in the protocol as a list of (time, temperature) pairs\n",
    "activation = [(900, 95)]\n",
    "cycling = [(20, 94), (20, 60), (30, 72)]*n_cycles\n",
    "extension = [(600, 72)]\n",
    "finish = [[0, 30]]\n",
    "\n",
    "# concatenate into a list of (time, temperature) intervals\n",
    "protocol = np.concatenate([activation, cycling, extension, finish])\n",
    "protocol"
   ]
  },
  {
   "cell_type": "markdown",
   "metadata": {},
   "source": [
    "## Converting to ramp, soak specifications\n",
    "\n",
    "Each step in a PCR protocol consists of an initial ramp to the specified temperature, followed by a soak for the specified time and temperature. We begin the coding by demonstrating how to interpret the protocol specification as a series of ramp and soak periods."
   ]
  },
  {
   "cell_type": "code",
   "execution_count": 52,
   "metadata": {},
   "outputs": [
    {
     "name": "stdout",
     "output_type": "stream",
     "text": [
      "Ramp to 95C\n",
      "Soak at 95C for 900 seconds.\n",
      "Ramp to 94C\n",
      "Soak at 94C for  20 seconds.\n",
      "Ramp to 60C\n",
      "Soak at 60C for  20 seconds.\n",
      "Ramp to 72C\n",
      "Soak at 72C for  30 seconds.\n",
      "Ramp to 94C\n",
      "Soak at 94C for  20 seconds.\n",
      "Ramp to 60C\n",
      "Soak at 60C for  20 seconds.\n",
      "Ramp to 72C\n",
      "Soak at 72C for  30 seconds.\n",
      "Ramp to 94C\n",
      "Soak at 94C for  20 seconds.\n",
      "Ramp to 60C\n",
      "Soak at 60C for  20 seconds.\n",
      "Ramp to 72C\n",
      "Soak at 72C for  30 seconds.\n",
      "Ramp to 94C\n",
      "Soak at 94C for  20 seconds.\n",
      "Ramp to 60C\n",
      "Soak at 60C for  20 seconds.\n",
      "Ramp to 72C\n",
      "Soak at 72C for  30 seconds.\n",
      "Ramp to 94C\n",
      "Soak at 94C for  20 seconds.\n",
      "Ramp to 60C\n",
      "Soak at 60C for  20 seconds.\n",
      "Ramp to 72C\n",
      "Soak at 72C for  30 seconds.\n",
      "Ramp to 72C\n",
      "Soak at 72C for 600 seconds.\n",
      "Ramp to 30C\n",
      "Soak at 30C for   0 seconds.\n"
     ]
    }
   ],
   "source": [
    "# each soak period is preceeded by a ramp\n",
    "for time, temp in protocol:\n",
    "    print(f\"Ramp to {temp}C\")\n",
    "    print(f\"Soak at {temp}C for {time:3d} seconds.\" )"
   ]
  },
  {
   "cell_type": "markdown",
   "metadata": {},
   "source": [
    "The next step is to introduce a ramp rate and add variables to track the start time and temperature for each segment. We will assume all ramp rates have the same absolute value."
   ]
  },
  {
   "cell_type": "code",
   "execution_count": 53,
   "metadata": {},
   "outputs": [
    {
     "name": "stdout",
     "output_type": "stream",
     "text": [
      "Time =    0.0: Ramp to 95C\n",
      "Time -   29.6: Soak at 95C for 900 seconds\n",
      "Time =  929.6: Ramp to 94C\n",
      "Time -  930.0: Soak at 94C for 20 seconds\n",
      "Time =  950.0: Ramp to 60C\n",
      "Time -  963.6: Soak at 60C for 20 seconds\n",
      "Time =  983.6: Ramp to 72C\n",
      "Time -  988.4: Soak at 72C for 30 seconds\n",
      "Time = 1018.4: Ramp to 94C\n",
      "Time - 1027.2: Soak at 94C for 20 seconds\n",
      "Time = 1047.2: Ramp to 60C\n",
      "Time - 1060.8: Soak at 60C for 20 seconds\n",
      "Time = 1080.8: Ramp to 72C\n",
      "Time - 1085.6: Soak at 72C for 30 seconds\n",
      "Time = 1115.6: Ramp to 94C\n",
      "Time - 1124.4: Soak at 94C for 20 seconds\n",
      "Time = 1144.4: Ramp to 60C\n",
      "Time - 1158.0: Soak at 60C for 20 seconds\n",
      "Time = 1178.0: Ramp to 72C\n",
      "Time - 1182.8: Soak at 72C for 30 seconds\n",
      "Time = 1212.8: Ramp to 94C\n",
      "Time - 1221.6: Soak at 94C for 20 seconds\n",
      "Time = 1241.6: Ramp to 60C\n",
      "Time - 1255.2: Soak at 60C for 20 seconds\n",
      "Time = 1275.2: Ramp to 72C\n",
      "Time - 1280.0: Soak at 72C for 30 seconds\n",
      "Time = 1310.0: Ramp to 94C\n",
      "Time - 1318.8: Soak at 94C for 20 seconds\n",
      "Time = 1338.8: Ramp to 60C\n",
      "Time - 1352.4: Soak at 60C for 20 seconds\n",
      "Time = 1372.4: Ramp to 72C\n",
      "Time - 1377.2: Soak at 72C for 30 seconds\n",
      "Time = 1407.2: Ramp to 72C\n",
      "Time - 1407.2: Soak at 72C for 600 seconds\n",
      "Time = 2007.2: Ramp to 30C\n",
      "Time - 2024.0: Soak at 30C for 0 seconds\n"
     ]
    }
   ],
   "source": [
    "# add varibles to track current time and temperature\n",
    "# ramp period is determined by a \"ramp_rate\"\n",
    "ramp_rate = 2.5\n",
    "time_now = 0.0\n",
    "temp_now = 21.0\n",
    "\n",
    "for time, temp in protocol:\n",
    "    print(f\"Time = {time_now:6.1f}: Ramp to {temp}C\")\n",
    "    time_now += np.abs((temp - temp_now)/ramp_rate) \n",
    "    temp_now = temp\n",
    "    print(f\"Time - {time_now:6.1f}: Soak at {temp}C for {time} seconds\")\n",
    "    time_now += time"
   ]
  },
  {
   "cell_type": "markdown",
   "metadata": {},
   "source": [
    "## Finding the start and finish of each segment\n",
    "\n",
    "Finally, we create a two column numpy array representing the setpoint profile. The first row in the array is the starting time and temperature. Each subsequent row constains the ending time and temperature of a segment."
   ]
  },
  {
   "cell_type": "code",
   "execution_count": 54,
   "metadata": {},
   "outputs": [
    {
     "data": {
      "text/plain": [
       "array([[   0.,   21.],\n",
       "       [ 148.,   95.],\n",
       "       [1048.,   95.],\n",
       "       [1050.,   94.],\n",
       "       [1070.,   94.],\n",
       "       [1138.,   60.],\n",
       "       [1158.,   60.],\n",
       "       [1182.,   72.],\n",
       "       [1212.,   72.],\n",
       "       [1256.,   94.],\n",
       "       [1276.,   94.],\n",
       "       [1344.,   60.],\n",
       "       [1364.,   60.],\n",
       "       [1388.,   72.],\n",
       "       [1418.,   72.],\n",
       "       [1462.,   94.],\n",
       "       [1482.,   94.],\n",
       "       [1550.,   60.],\n",
       "       [1570.,   60.],\n",
       "       [1594.,   72.],\n",
       "       [1624.,   72.],\n",
       "       [1668.,   94.],\n",
       "       [1688.,   94.],\n",
       "       [1756.,   60.],\n",
       "       [1776.,   60.],\n",
       "       [1800.,   72.],\n",
       "       [1830.,   72.],\n",
       "       [1874.,   94.],\n",
       "       [1894.,   94.],\n",
       "       [1962.,   60.],\n",
       "       [1982.,   60.],\n",
       "       [2006.,   72.],\n",
       "       [2036.,   72.],\n",
       "       [2036.,   72.],\n",
       "       [2636.,   72.],\n",
       "       [2720.,   30.],\n",
       "       [2720.,   30.]])"
      ]
     },
     "execution_count": 54,
     "metadata": {},
     "output_type": "execute_result"
    }
   ],
   "source": [
    "# store the data in a list of time, temperature pairs marking the end of each period\n",
    "\n",
    "ramp_rate = 0.5 # deg/sec\n",
    "time_now = 0.0\n",
    "temp_now = 21.0\n",
    "\n",
    "# intialze a list with the starting time and temperature\n",
    "SP_list = [[time_now, temp_now]]\n",
    "\n",
    "# append the ending time and temperature to the list\n",
    "for time, temp in protocol:\n",
    "    # ramp\n",
    "    time_now += np.abs((temp - temp_now)/ramp_rate) \n",
    "    temp_now = temp\n",
    "    SP_list.append([time_now, temp_now])\n",
    "\n",
    "    # soak\n",
    "    time_now += time\n",
    "    SP_list.append([time_now, temp_now])\n",
    "\n",
    "# convert list to numpy array to access columns\n",
    "SP_array = np.array(SP_list)\n",
    "SP_array"
   ]
  },
  {
   "cell_type": "code",
   "execution_count": 55,
   "metadata": {},
   "outputs": [
    {
     "data": {
      "text/plain": [
       "[<matplotlib.lines.Line2D at 0x7ffdc1607eb0>]"
      ]
     },
     "execution_count": 55,
     "metadata": {},
     "output_type": "execute_result"
    },
    {
     "data": {
      "image/png": "[encoded data removed]",
      "text/plain": [
       "<Figure size 864x360 with 1 Axes>"
      ]
     },
     "metadata": {
      "filenames": {
       "image/png": "/Users/jeff/Google Drive/GitHub/cbe30338-book/_build/jupyter_execute/notebooks/03.02a-Setpoints_10_1.png"
      },
      "needs_background": "light"
     },
     "output_type": "display_data"
    }
   ],
   "source": [
    "fig, ax = plt.subplots(1, 1, figsize=(12, 5))\n",
    "ax.plot(SP_array[:,0], SP_array[:,1], '.')"
   ]
  },
  {
   "cell_type": "markdown",
   "metadata": {},
   "source": [
    "## Finding the setpoint function by interpolating the start and end of each segment\n",
    "\n",
    "To implement control algorithms we will need to find values of the setpoint function at arbitrary points in time, not just at the start and finish of ramp or soak periods. The standard numpy library includes a linear interpolation function [`numpy.interp`](https://numpy.org/doc/stable/reference/generated/numpy.interp.html) well suited to this purpose."
   ]
  },
  {
   "cell_type": "code",
   "execution_count": 56,
   "metadata": {},
   "outputs": [
    {
     "data": {
      "text/plain": [
       "Text(0.5, 1.0, 'Setpoint function')"
      ]
     },
     "execution_count": 56,
     "metadata": {},
     "output_type": "execute_result"
    },
    {
     "data": {
      "image/png": "[encoded data removed]",
      "text/plain": [
       "<Figure size 864x360 with 1 Axes>"
      ]
     },
     "metadata": {
      "filenames": {
       "image/png": "/Users/jeff/Google Drive/GitHub/cbe30338-book/_build/jupyter_execute/notebooks/03.02a-Setpoints_12_1.png"
      },
      "needs_background": "light"
     },
     "output_type": "display_data"
    }
   ],
   "source": [
    "# create function to interpolate\n",
    "\n",
    "def SP(t):\n",
    "    return np.interp(t, SP_array[:,0], SP_array[:, 1])\n",
    "\n",
    "# plotting the setpoint function\n",
    "t = np.linspace(-100, max(SP_array[:,0]), 2000)\n",
    "fig, ax = plt.subplots(1, 1, figsize=(12,5))\n",
    "ax.plot(t, SP(t))\n",
    "ax.set_title(\"Setpoint function\")"
   ]
  },
  {
   "cell_type": "markdown",
   "metadata": {},
   "source": [
    "## Creating a setpoint function for PCR thermal cycler\n",
    "\n",
    "The last step is to put all of these steps together to create a function that generates a setpoint function. This is an example of a very powerful coding technique of [nested functions](https://realpython.com/inner-functions-what-are-they-good-for/)."
   ]
  },
  {
   "cell_type": "code",
   "execution_count": 57,
   "metadata": {},
   "outputs": [
    {
     "data": {
      "text/plain": [
       "Text(0.5, 1.0, 'Setpoint function')"
      ]
     },
     "execution_count": 57,
     "metadata": {},
     "output_type": "execute_result"
    },
    {
     "data": {
      "image/png": "[encoded data removed]",
      "text/plain": [
       "<Figure size 864x360 with 1 Axes>"
      ]
     },
     "metadata": {
      "filenames": {
       "image/png": "/Users/jeff/Google Drive/GitHub/cbe30338-book/_build/jupyter_execute/notebooks/03.02a-Setpoints_14_1.png"
      },
      "needs_background": "light"
     },
     "output_type": "display_data"
    }
   ],
   "source": [
    "# create the setpoint function from a specified PCR \n",
    "def PCR_setpoint(protocol):\n",
    "    \n",
    "    ramp_rate = 0.5 # deg/sec\n",
    "    time_now = 0.0\n",
    "    temp_now = 21.0\n",
    "\n",
    "    # intialze a list with the starting time and temperature\n",
    "    SP_list = [[time_now, temp_now]]\n",
    "\n",
    "    # append the ending time and temperature to the list\n",
    "    for time, temp in protocol:\n",
    "        # ramp\n",
    "        time_now += np.abs((temp - temp_now)/ramp_rate) \n",
    "        temp_now = temp\n",
    "        SP_list.append([time_now, temp_now])\n",
    "\n",
    "        # soak\n",
    "        time_now += time\n",
    "        SP_list.append([time_now, temp_now])\n",
    "\n",
    "    # convert list to numpy array to access columns\n",
    "    SP_array = np.array(SP_list)\n",
    "    \n",
    "    def SP(t):\n",
    "        return np.interp(t, SP_array[:,0], SP_array[:, 1])\n",
    "\n",
    "    return SP\n",
    "\n",
    "# create a setpoint function\n",
    "setpoint = PCR_setpoint(protocol)\n",
    "\n",
    "# plotting the setpoint function\n",
    "t = np.linspace(0, 3000, 3000)\n",
    "fig, ax = plt.subplots(1, 1, figsize=(12,5))\n",
    "ax.plot(t, setpoint(t))\n",
    "ax.set_title(\"Setpoint function\")"
   ]
  },
  {
   "cell_type": "markdown",
   "metadata": {},
   "source": [
    "<hr>\n",
    "\n",
    "**Study Question:** Change the protocol to include 30 thermal cycles, then create the setpoint function with `PCR_setpoint()` and plot the results.\n",
    "\n",
    "**Study Question:** To better reflect the unequal heating and cooling rates available in most PCR devices, modify `PCR_setpoint()` to provide differing ramp rates for positive going and negative going ramps. Demonstrate the result using a postive ramp_rate of 2.5 degC/sec and a negative ramp_rate of -0.5 degC/sec.\n",
    "\n",
    "<hr>"
   ]
  }
 ],
 "metadata": {
  "kernelspec": {
   "display_name": "Python 3 (ipykernel)",
   "language": "python",
   "name": "python3"
  },
  "language_info": {
   "codemirror_mode": {
    "name": "ipython",
    "version": 3
   },
   "file_extension": ".py",
   "mimetype": "text/x-python",
   "name": "python",
   "nbconvert_exporter": "python",
   "pygments_lexer": "ipython3",
   "version": "3.9.7"
  }
 },
 "nbformat": 4,
 "nbformat_minor": 4
}
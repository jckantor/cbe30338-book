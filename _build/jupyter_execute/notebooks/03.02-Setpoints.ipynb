{
 "cells": [
  {
   "cell_type": "markdown",
   "metadata": {},
   "source": [
    "# Setpoints\n",
    "\n",
    "Setpoints are functions of time that establish target values for key control variables. This notebook describes typical nomenclature used in describing setpoint functions, and shows how to creatd setpoint functions in Python."
   ]
  },
  {
   "cell_type": "markdown",
   "metadata": {},
   "source": [
    "## Setpoint profiles\n",
    "\n",
    "Example descriptions from commercial vendors:\n",
    "\n",
    "* [West Control Solutions: Understanding Setpoint Ramping and Ramp/Soak Temperature Control](https://www.west-cs.com/news/understanding-setpoint-ramping-and-rampsoak-temperature-control/)\n",
    "* [Eurotherm: Ramp and Soak Applications](https://www.eurotherm.com/us/temperature-control-applications-us/ramp-and-soak-applications/)\n",
    "* [Allen-Bradley: Introduction to the Allen Bradley Ramp/Soak Controller](https://control.com/technical-articles/Introduction-to-the-Allen-Bradley-Ramp-Soak-Controller-System/)\n",
    "* [Wikipedia: Thermal Profiling](https://en.wikipedia.org/wiki/Thermal_profiling)\n",
    "\n",
    "Common descriptions for setpoint functions include so-called **step** changes, and **ramp** and **soak** periods.\n",
    "\n",
    "* A **step** change is an discontinuous change in setpoint value occuring as specified point in time. An example is specifying a setpoint change from 45 deg C to 65 deg C at a specified point in time.\n",
    "* A **soak** (or **dwell**) is a specified period of time over which the setpoint is held a constant, specified value.\n",
    "* A **ramp** is a specified period of time over which the setpoint changes at a constant rate from a specified starting value to a specified final value.\n",
    "* The **ramp rate** is the rate of change in a setpoint ramp. These may have positive or negative values."
   ]
  },
  {
   "cell_type": "code",
   "execution_count": 35,
   "metadata": {},
   "outputs": [
    {
     "data": {
      "text/plain": [
       "Text(210, 55, 'Soak/Dwell')"
      ]
     },
     "execution_count": 35,
     "metadata": {},
     "output_type": "execute_result"
    },
    {
     "data": {
      "image/png": "[encoded data removed]",
      "text/plain": [
       "<Figure size 432x288 with 1 Axes>"
      ]
     },
     "metadata": {
      "filenames": {
       "image/png": "/Users/jeff/Google Drive/GitHub/cbe30338-book/_build/jupyter_execute/notebooks/03.02-Setpoints_2_1.png"
      },
      "needs_background": "light"
     },
     "output_type": "display_data"
    }
   ],
   "source": [
    "import numpy as np\n",
    "import pandas as pd\n",
    "\n",
    "import matplotlib.pyplot as plt\n",
    "\n",
    "# specify a setpoint profile\n",
    "profile = [\n",
    "    (0, 25),\n",
    "    (50, 35),\n",
    "    (120, 35),\n",
    "    (120, 40),\n",
    "    (170, 50),\n",
    "    (170, 50),\n",
    "    (270, 50),\n",
    "    (370, 40),\n",
    "    (450, 40),\n",
    "    (600, 25),\n",
    "]\n",
    "\n",
    "sp_profile = pd.DataFrame(profile, columns=[\"Time\", \"SP\"])\n",
    "ax = sp_profile.plot(x=\"Time\", grid=True, ylim=(25, 60), title=\"Setpoint\")\n",
    "ax.annotate(\"Step\", xy=(120, 37.5), xytext=(180, 37.5), fontsize=20, \n",
    "            va=\"center\", arrowprops=dict(facecolor='black', shrink=0.05))\n",
    "ax.annotate(\"Ramp\", xy=(320, 45), xytext=(380, 48), fontsize=20, \n",
    "            va=\"center\", arrowprops=dict(facecolor='black', shrink=0.05))\n",
    "ax.annotate(\"Soak/Dwell\", xy=(210, 50), xytext=(210, 55), fontsize=20, \n",
    "            ha=\"center\", arrowprops=dict(facecolor='black', shrink=0.05))"
   ]
  },
  {
   "cell_type": "markdown",
   "metadata": {},
   "source": [
    "<hr>\n",
    "\n",
    "**Study Question:** Classify all of the segments in the sample setpoint profile.\n",
    "\n",
    "**Study Question:** What is the ramp rate of the first ramp in the example above.\n",
    "\n",
    "**Study Question:** Modify the data in the above example to remove the step. Replace it with a single raamp from the initial condition to the soak period that begins at t=170 at a temperature of 170C.\n",
    "\n",
    "<hr>"
   ]
  },
  {
   "cell_type": "markdown",
   "metadata": {},
   "source": [
    "## Creating setpoint functions\n",
    "\n",
    "For feedback control we would like functions that return the value of a setpoint for any point in time. Functions are in the form $SP_1(t)$ and $SP_2(t)$, for example, are straightfoward to use inside in control applications. \n",
    "\n",
    "In the section we show how to write a function that accepts points defining a piecewise linear setpoint profile, then produce a function to compute the setpoint for any point in time."
   ]
  },
  {
   "cell_type": "markdown",
   "metadata": {},
   "source": [
    "### Specifying piecewise linear setpoint profiles\n",
    "\n",
    "Describiing the setpoint as a series of a step/ramp/soak periods naturally leads a piecewise linear function. The start and end of each line segment are spceified by (time, value) pairs. Ordering these points into a list provides a straightforward specification of the setpoint, \n",
    "\n",
    "Here we show the points for a typical setpoint."
   ]
  },
  {
   "cell_type": "code",
   "execution_count": 37,
   "metadata": {},
   "outputs": [
    {
     "name": "stdout",
     "output_type": "stream",
     "text": [
      "   Time  SP\n",
      "0     0  25\n",
      "1    50  35\n",
      "2   120  35\n",
      "3   120  40\n",
      "4   170  50\n",
      "5   170  50\n",
      "6   270  50\n",
      "7   370  40\n",
      "8   450  40\n",
      "9   600  25\n"
     ]
    },
    {
     "data": {
      "text/plain": [
       "<AxesSubplot:xlabel='Time'>"
      ]
     },
     "execution_count": 37,
     "metadata": {},
     "output_type": "execute_result"
    },
    {
     "data": {
      "image/png": "[encoded data removed]",
      "text/plain": [
       "<Figure size 432x288 with 1 Axes>"
      ]
     },
     "metadata": {
      "filenames": {
       "image/png": "/Users/jeff/Google Drive/GitHub/cbe30338-book/_build/jupyter_execute/notebooks/03.02-Setpoints_6_2.png"
      },
      "needs_background": "light"
     },
     "output_type": "display_data"
    }
   ],
   "source": [
    "import numpy as np\n",
    "import matplotlib.pyplot as plt\n",
    "\n",
    "sp_profile = pd.DataFrame([(0, 25), (50, 35), (120, 35), (120, 40), (170, 50), \n",
    "                        (170, 50), (270, 50), (370, 40), (450, 40), (600, 25)],\n",
    "                       columns=[\"Time\", \"SP\"])\n",
    "\n",
    "print(sp_profile)\n",
    "sp_profile.plot(x=\"Time\", y=\"SP\", style={\"SP\": \"r.\"}, ms=10, ylim=(25, 80), grid=True)"
   ]
  },
  {
   "cell_type": "markdown",
   "metadata": {},
   "source": [
    "### Interpolation\n",
    "\n",
    "Interpolation is a method to fill in points between known values of a function. Here we will use linear interpolation to create a continuous setpoint function given \"breakpoint\".\n",
    "\n",
    "The Python standard libraries include "
   ]
  },
  {
   "cell_type": "code",
   "execution_count": 27,
   "metadata": {},
   "outputs": [
    {
     "data": {
      "text/plain": [
       "35.0"
      ]
     },
     "execution_count": 27,
     "metadata": {},
     "output_type": "execute_result"
    }
   ],
   "source": [
    "t_interp = profile[\"Time\"]\n",
    "sp_interp = profile[\"SP\"]\n",
    "\n",
    "np.interp(500, t_interp, sp_interp)"
   ]
  },
  {
   "cell_type": "code",
   "execution_count": 39,
   "metadata": {},
   "outputs": [
    {
     "data": {
      "text/plain": [
       "35.0"
      ]
     },
     "execution_count": 39,
     "metadata": {},
     "output_type": "execute_result"
    }
   ],
   "source": [
    "def sp(t):\n",
    "    t_interp = sp_profile[\"Time\"]\n",
    "    y_interp = sp_profile[\"SP\"]\n",
    "    return np.interp(t, t_interp, y_interp)\n",
    "\n",
    "sp(500)"
   ]
  },
  {
   "cell_type": "code",
   "execution_count": 42,
   "metadata": {},
   "outputs": [
    {
     "data": {
      "text/plain": [
       "[<matplotlib.lines.Line2D at 0x7ffdc16d8790>]"
      ]
     },
     "execution_count": 42,
     "metadata": {},
     "output_type": "execute_result"
    },
    {
     "data": {
      "image/png": "[encoded data removed]",
      "text/plain": [
       "<Figure size 432x288 with 1 Axes>"
      ]
     },
     "metadata": {
      "filenames": {
       "image/png": "/Users/jeff/Google Drive/GitHub/cbe30338-book/_build/jupyter_execute/notebooks/03.02-Setpoints_10_1.png"
      },
      "needs_background": "light"
     },
     "output_type": "display_data"
    }
   ],
   "source": [
    "t = np.linspace(0, 600, 101)\n",
    "\n",
    "ax = sp_profile.plot(x=\"Time\", y=\"SP\", style={\"SP\": \"r.\"}, ms=20, ylim=(25, 60), grid=True)\n",
    "ax.plot(t, sp(t), '.')"
   ]
  },
  {
   "cell_type": "markdown",
   "metadata": {},
   "source": [
    "### A functon to create functions\n",
    "\n",
    "Python functions are frequently written to accept data, perform calculations, and return values. What may be less familiar is that functions can also return function. This is just what we neeed - a function that accepts a series of (time, value) pairs describing a setpoint profile, then returns a function that can be used to find values of the setpoint at any point in time."
   ]
  },
  {
   "cell_type": "code",
   "execution_count": 46,
   "metadata": {},
   "outputs": [],
   "source": [
    "def create_setpoint_function(profile):\n",
    "    \n",
    "    profile = np.array(profile)\n",
    "    t_interp = profile[:, 0]\n",
    "    y_interp = profile[:, 1]\n",
    "    \n",
    "    # define a function to interpolate time and values\n",
    "    def setpoint_function(t):\n",
    "        return np.interp(t, t_interp, y_interp)\n",
    "    \n",
    "    # return that function\n",
    "    return setpoint_function"
   ]
  },
  {
   "cell_type": "markdown",
   "metadata": {},
   "source": [
    "### Example of a setpoint function\n",
    "\n",
    "The following example creates a setpoint function that produces setpoints corresponding the profile described in the introduction to this notebook."
   ]
  },
  {
   "cell_type": "code",
   "execution_count": 47,
   "metadata": {},
   "outputs": [
    {
     "name": "stdout",
     "output_type": "stream",
     "text": [
      "at time = 100 setpoint = 35.0\n"
     ]
    }
   ],
   "source": [
    "sp = create_setpoint_function(sp_profile)\n",
    "\n",
    "# print select values\n",
    "t = 100\n",
    "print(f\"at time = {t:3d} setpoint = {sp(t)}\")"
   ]
  },
  {
   "cell_type": "markdown",
   "metadata": {},
   "source": [
    "We can use the setpoint function to create plots."
   ]
  },
  {
   "cell_type": "code",
   "execution_count": 49,
   "metadata": {},
   "outputs": [
    {
     "data": {
      "image/png": "[encoded data removed]",
      "text/plain": [
       "<Figure size 720x360 with 1 Axes>"
      ]
     },
     "metadata": {
      "filenames": {
       "image/png": "/Users/jeff/Google Drive/GitHub/cbe30338-book/_build/jupyter_execute/notebooks/03.02-Setpoints_16_0.png"
      },
      "needs_background": "light"
     },
     "output_type": "display_data"
    }
   ],
   "source": [
    "import matplotlib.pyplot as plt\n",
    "\n",
    "# compute setpoint values\n",
    "t = np.linspace(0, 600, 600)\n",
    "y = sp(t)\n",
    "\n",
    "# create a plot\n",
    "fix, ax = plt.subplots(1, 1, figsize=(10, 5))\n",
    "ax.plot(t, y)\n",
    "ax.set_xlabel(\"time / seconds\")\n",
    "ax.set_title(\"setpoint function\")\n",
    "ax.grid(True)"
   ]
  },
  {
   "cell_type": "markdown",
   "metadata": {},
   "source": [
    "### Creating multiple setpoint functions \n",
    "\n",
    "The next cell demonstrates the use of `create_setpoint_function` to create multiple independent setpoint functions."
   ]
  },
  {
   "cell_type": "code",
   "execution_count": 50,
   "metadata": {},
   "outputs": [
    {
     "data": {
      "text/plain": [
       "[<matplotlib.lines.Line2D at 0x7ffdc1af8a60>]"
      ]
     },
     "execution_count": 50,
     "metadata": {},
     "output_type": "execute_result"
    },
    {
     "data": {
      "image/png": "[encoded data removed]",
      "text/plain": [
       "<Figure size 432x288 with 2 Axes>"
      ]
     },
     "metadata": {
      "filenames": {
       "image/png": "/Users/jeff/Google Drive/GitHub/cbe30338-book/_build/jupyter_execute/notebooks/03.02-Setpoints_18_1.png"
      },
      "needs_background": "light"
     },
     "output_type": "display_data"
    }
   ],
   "source": [
    "T_amb = 21.0\n",
    "\n",
    "sp_1 = create_setpoint_function([[0, T_amb], [20, T_amb], [60, 50], [100, 50], [140, T_amb]])\n",
    "sp_2 = create_setpoint_function([[0, T_amb], [0, 45], [120, 35], [200, T_amb]])\n",
    "\n",
    "# create plot axes\n",
    "fig, ax = plt.subplots(2, 1)\n",
    "\n",
    "# plot setpoint functions\n",
    "t = np.linspace(-1, 250, 250)\n",
    "ax[0].plot(t, sp_1(t))\n",
    "ax[1].plot(t, sp_2(t))"
   ]
  }
 ],
 "metadata": {
  "kernelspec": {
   "display_name": "Python 3 (ipykernel)",
   "language": "python",
   "name": "python3"
  },
  "language_info": {
   "codemirror_mode": {
    "name": "ipython",
    "version": 3
   },
   "file_extension": ".py",
   "mimetype": "text/x-python",
   "name": "python",
   "nbconvert_exporter": "python",
   "pygments_lexer": "ipython3",
   "version": "3.9.7"
  }
 },
 "nbformat": 4,
 "nbformat_minor": 4
}
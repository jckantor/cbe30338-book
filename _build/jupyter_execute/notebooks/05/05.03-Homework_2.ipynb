{
 "cells": [
  {
   "cell_type": "markdown",
   "metadata": {
    "id": "5jDthKd8zoSX",
    "tags": []
   },
   "source": [
    "# Homework Assignment 2: Optimization\n",
    "\n",
    "Homework assigment 4 is intended to develop your skills in creating linear programming models. The lecture notes (notebook 5.2) will provide with a starting point for the following exercises. The problem data has been changed to provide a more meaningful example for sensitivity analysis.\n",
    "\n",
    "\n",
    "You have been placed in charge of a metals reuse operation. A collection of raw materials are available with key parameters given in the following table.\n",
    "\n",
    "| material | % carbon (C) | % copper (Cu) | % manganese (Mn) | amount (kg) | cost (\\$/kg) | type |\n",
    "| :---: | :---: | :---: | :---: | :---: | :---: | :---\n",
    "| A | 2.5 | 0.0 | 1.3 | 4000 | 1.20 | iron alloy\n",
    "| B | 3.0 | 0.0 | 0.8 | 3000 | 1.50 | iron alloy\n",
    "| C | 0.0 | 0.3 | 0.0 | 6000 | 0.90 | iron alloy\n",
    "| D | 0.0 | 90.0 | 0.0 | 5000 | 1.30 | copper alloy\n",
    "| E | 0.0 | 96.0 | 4.0 | 2000 | 1.45 | copper alloy\n",
    "| F | 0.0 | 0.4 | 1.2 | 3000 | 1.20 | aluminum alloy\n",
    "| G | 0.0 | 0.6 | 0.0 | 2500 | 1.00 | aluminum alloy\n",
    "\n",
    "A customer has requested 5000 kg of mix satisfying these  specifications:\n",
    "\n",
    "| Component | min % | max % |\n",
    "| :---: | :---: | :---: |\n",
    "| C | 2.0 | 3.0 |\n",
    "| Cu | 0.4 | 0.6 |\n",
    "| Mn | 1.2 | 1.65 |\n",
    "\n",
    "For convenience, the raw material data has been organized as a nested dictionaries."
   ]
  },
  {
   "cell_type": "code",
   "execution_count": 4,
   "metadata": {
    "executionInfo": {
     "elapsed": 351,
     "status": "ok",
     "timestamp": 1617821702648,
     "user": {
      "displayName": "Jeffrey Kantor",
      "photoUrl": "https://lh3.googleusercontent.com/a-/AOh14Gg_n8V7bVINy02QRuRgOoMo11Ri7NKU3OUKdC1bkQ=s64",
      "userId": "09038942003589296665"
     },
     "user_tz": 240
    },
    "id": "cwM6Z9es1HCJ"
   },
   "outputs": [
    {
     "data": {
      "text/html": [
       "<div>\n",
       "<style scoped>\n",
       "    .dataframe tbody tr th:only-of-type {\n",
       "        vertical-align: middle;\n",
       "    }\n",
       "\n",
       "    .dataframe tbody tr th {\n",
       "        vertical-align: top;\n",
       "    }\n",
       "\n",
       "    .dataframe thead th {\n",
       "        text-align: right;\n",
       "    }\n",
       "</style>\n",
       "<table border=\"1\" class=\"dataframe\">\n",
       "  <thead>\n",
       "    <tr style=\"text-align: right;\">\n",
       "      <th></th>\n",
       "      <th>C</th>\n",
       "      <th>Cu</th>\n",
       "      <th>Mn</th>\n",
       "      <th>amount</th>\n",
       "      <th>cost</th>\n",
       "    </tr>\n",
       "  </thead>\n",
       "  <tbody>\n",
       "    <tr>\n",
       "      <th>A</th>\n",
       "      <td>2.5</td>\n",
       "      <td>0.0</td>\n",
       "      <td>1.3</td>\n",
       "      <td>4000.0</td>\n",
       "      <td>1.20</td>\n",
       "    </tr>\n",
       "    <tr>\n",
       "      <th>B</th>\n",
       "      <td>3.0</td>\n",
       "      <td>0.0</td>\n",
       "      <td>0.8</td>\n",
       "      <td>3000.0</td>\n",
       "      <td>1.50</td>\n",
       "    </tr>\n",
       "    <tr>\n",
       "      <th>C</th>\n",
       "      <td>0.0</td>\n",
       "      <td>0.3</td>\n",
       "      <td>0.0</td>\n",
       "      <td>6000.0</td>\n",
       "      <td>0.90</td>\n",
       "    </tr>\n",
       "    <tr>\n",
       "      <th>D</th>\n",
       "      <td>0.0</td>\n",
       "      <td>90.0</td>\n",
       "      <td>0.0</td>\n",
       "      <td>5000.0</td>\n",
       "      <td>1.30</td>\n",
       "    </tr>\n",
       "    <tr>\n",
       "      <th>E</th>\n",
       "      <td>0.0</td>\n",
       "      <td>96.0</td>\n",
       "      <td>4.0</td>\n",
       "      <td>2000.0</td>\n",
       "      <td>1.45</td>\n",
       "    </tr>\n",
       "    <tr>\n",
       "      <th>F</th>\n",
       "      <td>0.0</td>\n",
       "      <td>0.4</td>\n",
       "      <td>1.2</td>\n",
       "      <td>3000.0</td>\n",
       "      <td>1.20</td>\n",
       "    </tr>\n",
       "    <tr>\n",
       "      <th>G</th>\n",
       "      <td>0.0</td>\n",
       "      <td>0.6</td>\n",
       "      <td>0.0</td>\n",
       "      <td>2500.0</td>\n",
       "      <td>1.00</td>\n",
       "    </tr>\n",
       "  </tbody>\n",
       "</table>\n",
       "</div>"
      ],
      "text/plain": [
       "     C    Cu   Mn  amount  cost\n",
       "A  2.5   0.0  1.3  4000.0  1.20\n",
       "B  3.0   0.0  0.8  3000.0  1.50\n",
       "C  0.0   0.3  0.0  6000.0  0.90\n",
       "D  0.0  90.0  0.0  5000.0  1.30\n",
       "E  0.0  96.0  4.0  2000.0  1.45\n",
       "F  0.0   0.4  1.2  3000.0  1.20\n",
       "G  0.0   0.6  0.0  2500.0  1.00"
      ]
     },
     "metadata": {},
     "output_type": "display_data"
    }
   ],
   "source": [
    "import pandas as pd\n",
    "\n",
    "data = pd.DataFrame.from_dict({\n",
    "    \"A\": {\"C\": 2.5, \"Cu\": 0.0, \"Mn\": 1.3, \"amount\": 4000, \"cost\": 1.20},\n",
    "    \"B\": {\"C\": 3.0, \"Cu\": 0.0, \"Mn\": 0.8, \"amount\": 3000, \"cost\": 1.50},\n",
    "    \"C\": {\"C\": 0.0, \"Cu\": 0.3, \"Mn\": 0.0, \"amount\": 6000, \"cost\": 0.90},\n",
    "    \"D\": {\"C\": 0.0, \"Cu\": 90.0, \"Mn\": 0.0, \"amount\": 5000, \"cost\": 1.30},\n",
    "    \"E\": {\"C\": 0.0, \"Cu\": 96.0, \"Mn\": 4.0, \"amount\": 2000, \"cost\": 1.45},\n",
    "    \"F\": {\"C\": 0.0, \"Cu\": 0.4, \"Mn\": 1.2, \"amount\": 3000, \"cost\": 1.20},\n",
    "    \"G\": {\"C\": 0.0, \"Cu\": 0.6, \"Mn\": 0.0, \"amount\": 2500, \"cost\": 1.00},\n",
    "}).T\n",
    "\n",
    "display(data)"
   ]
  },
  {
   "cell_type": "markdown",
   "metadata": {
    "id": "-OKFyi0htQ9I"
   },
   "source": [
    "## Exercise 1. Getting Started\n",
    "\n",
    "\n"
   ]
  },
  {
   "cell_type": "markdown",
   "metadata": {
    "id": "Pk02uJ5WmKie"
   },
   "source": [
    "Considering just the constraint on carbon content, adapt the `blend_beer` function from notebook 5.2 to find a minimum cost blend raw materials that yield 5000 kg of product with a carbon content between 2.0 and 3.0%. For this first exercise you can ignore the bounds on the available amount of each raw material.\n",
    "\n",
    "* change the name of the function to `metal_blend`.\n",
    "* `metal_blend` should accept arguments including\n",
    "    * `data`, \n",
    "    * the required mass of final product, and\n",
    "    *  the acceptable range of carbon content specified as a pair of numbers of  `[lower_bound, upper_bound]`.\n",
    "* `metal_blend` should return the minimum cost, and the amounts of each raw material to include in the blend.\n",
    "\n",
    "Demonstrate use of `metal_blend` to compute the required blend. From the results of the calculation to report\n",
    "\n",
    "* the cost of the blend\n",
    "* the total mass of the blend\n",
    "* the mass of each raw material used in the blend\n",
    "* the composition of the blend with regard to the species carbon, copper and managanese.\n",
    "\n",
    "You may find it convenient to write a function for this purpose that can be used in the following exercise.\n",
    "\n"
   ]
  },
  {
   "cell_type": "markdown",
   "metadata": {
    "id": "_0QMFKqur4qJ"
   },
   "source": [
    "### Solution"
   ]
  },
  {
   "cell_type": "code",
   "execution_count": 1,
   "metadata": {
    "executionInfo": {
     "elapsed": 541,
     "status": "ok",
     "timestamp": 1617821703701,
     "user": {
      "displayName": "Jeffrey Kantor",
      "photoUrl": "https://lh3.googleusercontent.com/a-/AOh14Gg_n8V7bVINy02QRuRgOoMo11Ri7NKU3OUKdC1bkQ=s64",
      "userId": "09038942003589296665"
     },
     "user_tz": 240
    },
    "id": "C5Rf1oc1r8do"
   },
   "outputs": [],
   "source": []
  },
  {
   "cell_type": "markdown",
   "metadata": {
    "id": "DSHMhaDmdb-G"
   },
   "source": [
    "## Exercise 2. Incorporating Constraints\n",
    "\n",
    "We'll continue this problem by incorporating all of the constraints. The constraiints include:\n",
    "\n",
    "* Lower and upper bounds on the copper and manganese composition\n",
    "* Limits on the amount of available raw material\n",
    "\n",
    "The easiest way to proceed is to copy and paste `metal_blend` into a cell below, then add constraints one at a time until all have been incorporated.\n",
    "\n",
    "What is the minimum price you would need to charge in $/kg to produce 5,000 kg of requested product?"
   ]
  },
  {
   "cell_type": "code",
   "execution_count": 1,
   "metadata": {
    "executionInfo": {
     "elapsed": 508,
     "status": "ok",
     "timestamp": 1617821704610,
     "user": {
      "displayName": "Jeffrey Kantor",
      "photoUrl": "https://lh3.googleusercontent.com/a-/AOh14Gg_n8V7bVINy02QRuRgOoMo11Ri7NKU3OUKdC1bkQ=s64",
      "userId": "09038942003589296665"
     },
     "user_tz": 240
    },
    "id": "heHrOElXeLQr"
   },
   "outputs": [],
   "source": []
  },
  {
   "cell_type": "markdown",
   "metadata": {
    "id": "Jq99WAVRlLQt"
   },
   "source": [
    "## Exercise 3. Sensitivity Analysis\n",
    "\n",
    "One of the important reasons to create optimization models is to understand the value of the raw materials that are available to you, and how to adjust operations to accomodate changing requirements. The is commonly referred to as **sensitivity analysis**.\n",
    "\n",
    "Using the functions you've created in above exercises, answer the following questions:\n",
    "\n",
    "1. The customer is very pleased with your initial pricing for 5,000 kg of the desired product, and now wishes to increase the order to 6,000 kg. Does your unit cost ($/kg) go up? If so, explain why your unit cost has gone up.\n",
    "\n",
    "2. Is there an upper limit on how much product your can provide to this customer? (Use trial and error. To the nearest 100 kg, find the maximum amount of product you can ship to the customer.) What is the unit cost now?\n",
    "\n",
    "3. After some negotiation, you and your customer settle on an order of 6,500 kg. Now you wish to negotiate with your suppliers for more raw material. How much money to you save for 1 additional kg of raw material \"A\"? Based on this, what price would you be willing to pay your supplier for additional \"A\"?\n",
    "\n"
   ]
  },
  {
   "cell_type": "code",
   "execution_count": 1,
   "metadata": {
    "executionInfo": {
     "elapsed": 154,
     "status": "ok",
     "timestamp": 1617821711041,
     "user": {
      "displayName": "Jeffrey Kantor",
      "photoUrl": "https://lh3.googleusercontent.com/a-/AOh14Gg_n8V7bVINy02QRuRgOoMo11Ri7NKU3OUKdC1bkQ=s64",
      "userId": "09038942003589296665"
     },
     "user_tz": 240
    },
    "id": "ki-CRcCpmKdg"
   },
   "outputs": [],
   "source": []
  },
  {
   "cell_type": "code",
   "execution_count": null,
   "metadata": {
    "id": "j3gZaXSyzYd5"
   },
   "outputs": [],
   "source": []
  }
 ],
 "metadata": {
  "colab": {
   "authorship_tag": "ABX9TyMII0RLURnK4dpAs76DwefW",
   "collapsed_sections": [],
   "name": "05.03-Homework_5.ipynb",
   "provenance": [
    {
     "file_id": "1KTIh_OFat5L8C2NAapN0DxQzfRkCbSBC",
     "timestamp": 1617821649285
    }
   ]
  },
  "kernelspec": {
   "display_name": "Python 3 (ipykernel)",
   "language": "python",
   "name": "python3"
  },
  "language_info": {
   "codemirror_mode": {
    "name": "ipython",
    "version": 3
   },
   "file_extension": ".py",
   "mimetype": "text/x-python",
   "name": "python",
   "nbconvert_exporter": "python",
   "pygments_lexer": "ipython3",
   "version": "3.9.7"
  }
 },
 "nbformat": 4,
 "nbformat_minor": 4
}
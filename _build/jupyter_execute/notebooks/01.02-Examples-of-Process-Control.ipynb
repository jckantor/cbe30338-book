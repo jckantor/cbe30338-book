{
 "cells": [
  {
   "cell_type": "markdown",
   "metadata": {},
   "source": [
    "# Examples of Process Control"
   ]
  },
  {
   "cell_type": "markdown",
   "metadata": {},
   "source": [
    "## Biomedical: Automated Insulin Therapy\n",
    "\n",
    "Over the last decade, due to the research work by chemical and biomedical engineers, automated insulin therapies are now commercially available from several manufacturers. The following links and illusration show the major components of these systems. \n",
    "\n",
    "* What sensors are required?\n",
    "* What actuators are required?\n",
    "* What is the control objective?\n",
    "* How do you assure safety?\n",
    "\n",
    "[Medtronic MiniMed 770G System](https://www.medtronicdiabetes.com/products/minimed-770g-insulin-pump-system?utm_source=tsa_google_ppc&utm_campaign=Insulin+Pumps+2.0&utm_medium=text&gclid=Cj0KCQiA0-6ABhDMARIsAFVdQv87xTl1TF0Yx9YWM-LRV4x-FjZvWFaZhSA_33o--SDWvbY7h4O-UyEaAvzaEALw_wcB&gclsrc=aw.ds)\n",
    "\n",
    "![](https://www.medtronicdiabetes.com/res/img/770g/770g-img1a.jpg)"
   ]
  },
  {
   "cell_type": "markdown",
   "metadata": {},
   "source": [
    "### Discussion Questions\n",
    "\n",
    "Consider the automated insulin control system in the following image.  Indentify\n",
    "\n",
    "* Sensors\n",
    "* Actuators\n",
    "* Process\n",
    "* Computations (where are they done?)\n",
    "* What are disturbance variables?\n",
    "* Can you directly measure what you actually need to control?\n",
    "* What are the manipulated variables? \n",
    "* Are there other manipulations you might wish to do?\n",
    "* What is the setpoint?\n",
    "* What diagnostic outputs would you wish to monitor?"
   ]
  },
  {
   "cell_type": "markdown",
   "metadata": {},
   "source": [
    "## Refineries: Fluidized Catalytic Cracking Unit (FCCU)\n",
    "\n",
    "The FCCU is a critical process in most refineries. This is the unit responsible for 'cracking' the long chain hydrocarbons found to create more valuable molecules that can be blended into gasoline. Operation of the FCCU involves a complex coordination of a large scale reactors, regenerators, distillation operating with the potential for catastrophic accidents. When you here of explosions at refineries, often it is the outcome of some event involving operation of the FCCU.\n",
    "\n",
    "The following video was created by the U.S. Chemical Safety Board (USCSB) to demonstrate causes of an explosion in 2015 at an ExxonMobil refinery in Torrance, CA.  Watch the first 2-3 minutes for an excellent animation of FCCU operation. While you are watching the animation, ask yourself how this unit can be controlled to establish desired flowrates, prevent hazards, maximize the economic value of the products, and acheive product quality requirements. \n",
    "\n",
    "(If found this interesting,  you might also check out an animation of a [2005 incident at the BP Texas City Refinery](https://youtu.be/goSEyGNfiPM?t=43))"
   ]
  },
  {
   "cell_type": "code",
   "execution_count": 1,
   "metadata": {},
   "outputs": [
    {
     "name": "stderr",
     "output_type": "stream",
     "text": [
      "/Users/jeff/opt/anaconda3/lib/python3.8/site-packages/IPython/core/display.py:724: UserWarning: Consider using IPython.display.IFrame instead\n",
      "  warnings.warn(\"Consider using IPython.display.IFrame instead\")\n"
     ]
    },
    {
     "data": {
      "text/html": [
       "<iframe width=\"560\" height=\"315\" src=\"https://www.youtube.com/embed/JplAKJrgyew\" frameborder=\"0\" allow=\"accelerometer; autoplay; clipboard-write; encrypted-media; gyroscope; picture-in-picture\" allowfullscreen></iframe>"
      ],
      "text/plain": [
       "<IPython.core.display.HTML object>"
      ]
     },
     "execution_count": 1,
     "metadata": {},
     "output_type": "execute_result"
    }
   ],
   "source": [
    "from IPython.display import HTML\n",
    "\n",
    "HTML('<iframe width=\"560\" height=\"315\" src=\"https://www.youtube.com/embed/JplAKJrgyew\" frameborder=\"0\" allow=\"accelerometer; autoplay; clipboard-write; encrypted-media; gyroscope; picture-in-picture\" allowfullscreen></iframe>')"
   ]
  },
  {
   "cell_type": "markdown",
   "metadata": {},
   "source": [
    "## Manufacturing: Tesla Shanghai Gigafactory\n",
    "\n",
    "Telsa has recently been outfitting factories with very large scale automated casting ('megacasting') to signficantly reduce the complexity of its manufacturiing processes.\n",
    "\n",
    "As you watch the following video, try to identify the many levels of control required to realize this automated manufacturing system. For example, what sensors and actuators are required for each robot to do their tasks?  How is quality control maintained? How are operations coordinated among the assembly stations in the manufacturing line?"
   ]
  },
  {
   "cell_type": "code",
   "execution_count": 2,
   "metadata": {},
   "outputs": [
    {
     "data": {
      "text/html": [
       "<blockquote class=\"twitter-tweet\"><p lang=\"en\" dir=\"ltr\">Giga Shanghai is becoming a production powerhouse. Watch mega castings for Model Y coming out of 6k-ton Giga presses. The whole process is fully automated, including quality check. Pretty mind blowing to say the least. <a href=\"https://t.co/PBMUpDjnD8\">pic.twitter.com/PBMUpDjnD8</a></p>&mdash; Ray4Tesla⚡️🚘☀️🔋 (@ray4tesla) <a href=\"https://twitter.com/ray4tesla/status/1356639381549846529?ref_src=twsrc%5Etfw\">February 2, 2021</a></blockquote> <script async src=\"https://platform.twitter.com/widgets.js\" charset=\"utf-8\"></script>"
      ],
      "text/plain": [
       "<IPython.core.display.HTML object>"
      ]
     },
     "execution_count": 2,
     "metadata": {},
     "output_type": "execute_result"
    }
   ],
   "source": [
    "from IPython.display import HTML\n",
    "s = '<blockquote class=\"twitter-tweet\"><p lang=\"en\" dir=\"ltr\">' + \\\n",
    "    'Giga Shanghai is becoming a production powerhouse. Watch ' + \\\n",
    "    'mega castings for Model Y coming out of 6k-ton Giga presses. ' + \\\n",
    "    'The whole process is fully automated, including quality check. ' + \\\n",
    "    'Pretty mind blowing to say the least. ' + \\\n",
    "    '<a href=\"https://t.co/PBMUpDjnD8\">pic.twitter.com/PBMUpDjnD8</a>' + \\\n",
    "    '</p>&mdash; Ray4Tesla⚡️🚘☀️🔋 (@ray4tesla) ' + \\\n",
    "    '<a href=\"https://twitter.com/ray4tesla/status/1356639381549846529?ref_src=twsrc%5Etfw\">February 2, 2021</a>' + \\\n",
    "    '</blockquote> <script async src=\"https://platform.twitter.com/widgets.js\" charset=\"utf-8\"></script>'\n",
    "HTML(s)"
   ]
  },
  {
   "cell_type": "markdown",
   "metadata": {},
   "source": []
  }
 ],
 "metadata": {
  "kernelspec": {
   "display_name": "Python 3 (ipykernel)",
   "language": "python",
   "name": "python3"
  },
  "language_info": {
   "codemirror_mode": {
    "name": "ipython",
    "version": 3
   },
   "file_extension": ".py",
   "mimetype": "text/x-python",
   "name": "python",
   "nbconvert_exporter": "python",
   "pygments_lexer": "ipython3",
   "version": "3.8.12"
  }
 },
 "nbformat": 4,
 "nbformat_minor": 4
}
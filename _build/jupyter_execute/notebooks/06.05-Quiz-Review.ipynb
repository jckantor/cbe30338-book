{
 "cells": [
  {
   "cell_type": "markdown",
   "metadata": {},
   "source": [
    "# Quiz Review for Chapters 5 and 6"
   ]
  },
  {
   "cell_type": "markdown",
   "metadata": {},
   "source": [
    "## Material covered\n",
    "\n",
    "* Optimization: 5.1, 5.2, 5.3, 5.5, \n",
    "* Predictive Control: 6.1, 6.2, 6.3, 6.4"
   ]
  },
  {
   "cell_type": "markdown",
   "metadata": {},
   "source": [
    "## Learning Goals\n",
    "\n",
    "You should be able to:\n",
    "\n",
    "1. Describe elements of an optimization problem:\n",
    "    * Decision variables.\n",
    "        * What are decision variables?\n",
    "        * Types of decision variables: Real, Nonnegative, boolean, integer.\n",
    "        * Typical onstraints on decision variables: Upper and lower bounds.\n",
    "    * Constraints\n",
    "        * Inequalities\n",
    "        * Equalitis\n",
    "        * Algebraic\n",
    "        * Differential equations\n",
    "        * Feasible regions\n",
    "        * Active vs inactive constraints\n",
    "    * Objective function\n",
    "        * Types: Minimize, maximize\n",
    "        * Objective functions are scalar functions of the decision variables\n",
    "    * Types of optimization problems\n",
    "        * Linear, Nonlinear\n",
    "        * Integer\n",
    "    * Outcomes\n",
    "        * Feasible vs infeasible\n",
    "        * Unbounded\n",
    "        * Optimal solution \n",
    "        \n",
    "2. Formulating Optimization problems\n",
    "    * Blending problems\n",
    "        * Decision variables represent how much of something will be used or created\n",
    "        * There is usually a collection of underlying materials or resourcds that will be combined.\n",
    "        * The objective function typically represents overall cost, profit, or property.\n",
    "    * Procedure\n",
    "        * Identify the index sets.\n",
    "        * Create decision variables, one for each member of the index set\n",
    "        * Establish upper and lower bounds, if they exist, for the decision variables\n",
    "        * Define objective function\n",
    "        * Define constraints\n",
    "        * Create problem and solve\n",
    "        * Display solution in ways that are meaningful to the application\n",
    "    * Sensitivity Studies\n",
    "        \n",
    "3. Predictive Control\n",
    "    * Open-Loop optimization\n",
    "        * Formulate and solve for the control trajectory\n",
    "        * The state-space model provide equality constraints\n",
    "    * Closed-loop predictive control\n",
    "        * Observer/Estimator required to provide current values of the state\n",
    "        * Solve an open-loop optimization to find control policy\n",
    "        * Apply new control policy\n",
    "        * Repeat the procedure when new measurement information is available\n",
    "        "
   ]
  },
  {
   "cell_type": "markdown",
   "metadata": {},
   "source": [
    "## Exercises\n",
    "\n",
    "1. Study questions from Notebook 5.2.3\n",
    "2. Review the sensitivity analysis for Homework 4\n",
    "3. Review the medical application in this notebook https://jckantor.github.io/CBE30338/07.01-Simulation-and-Optimal-Control-in-Pharmacokinetics.html.  \n",
    "    * Be sure you can recode the same problem in CVXPY.\n",
    "    * As stated, this is an open-loop opimization problem. Be sure you would know how to formulate the problem for predictive control. What would be the objective function? The constraints? The bounds on the decision variables? "
   ]
  },
  {
   "cell_type": "code",
   "execution_count": null,
   "metadata": {},
   "outputs": [],
   "source": []
  }
 ],
 "metadata": {
  "kernelspec": {
   "display_name": "Python 3 (ipykernel)",
   "language": "python",
   "name": "python3"
  },
  "language_info": {
   "codemirror_mode": {
    "name": "ipython",
    "version": 3
   },
   "file_extension": ".py",
   "mimetype": "text/x-python",
   "name": "python",
   "nbconvert_exporter": "python",
   "pygments_lexer": "ipython3",
   "version": "3.8.12"
  }
 },
 "nbformat": 4,
 "nbformat_minor": 4
}
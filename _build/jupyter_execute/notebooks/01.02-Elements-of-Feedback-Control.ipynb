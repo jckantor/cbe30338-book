{
 "cells": [
  {
   "cell_type": "markdown",
   "metadata": {},
   "source": [
    "# Elements of Process Control"
   ]
  },
  {
   "cell_type": "markdown",
   "metadata": {},
   "source": [
    "## Feedback Control\n",
    "\n",
    "![](./figures/FeedbackControlDiagram.png)"
   ]
  },
  {
   "cell_type": "markdown",
   "metadata": {},
   "source": [
    "## System Variables\n",
    "\n",
    "* **DV: Disturbance Variables**: External variables that impose changes on the system under study.\n",
    "\n",
    "* **MV: Manipulated Variables**: Variables that can be manipulated in order to acheive a desired response.\n",
    "\n",
    "* **CV: Controlled Variables**: System variables that are the targets of the control actions.\n",
    "\n",
    "* **PV: Process Variables**: System variables that are measured for the purpose of control. Ideally these would be the same as the controlled variables. Frequently, however, values of the controlled variable must be inferred from variables that can be measured with the available instrumentation.\n",
    "\n",
    "* **SP: Setpoint Variables**: Desired values for the controlled variables.\n",
    "\n",
    "* **Diagnostics**: Control system outputs indicating the internal state or condition of the process or controller."
   ]
  },
  {
   "cell_type": "markdown",
   "metadata": {},
   "source": [
    "## Controllers\n",
    "\n",
    "![](figures/PID_controllers.jpg)"
   ]
  },
  {
   "cell_type": "markdown",
   "metadata": {},
   "source": [
    "## Sensors\n",
    "\n",
    "There are only two methods to determine if a process is operating properly. The most direct method is to directly measure the variables of interest. If you're trying to control the temperature of a process stream, then a direct measurement of temperature is likely the most effective \n",
    "\n",
    "\n",
    "### The \"Big Four\"\n",
    "\n",
    "* Thermocouples\n",
    "\n",
    "![](figures/thermocouple.jpg)\n",
    "\n",
    "* Platinum resistance\n",
    "* Thermisters\n",
    "* Infrared Imaging sensors\n",
    "\n",
    "Pressure\n",
    "\n",
    "![](figures/pressure.jpg)\n",
    "\n",
    "Level\n",
    "\n",
    "Flow"
   ]
  },
  {
   "cell_type": "markdown",
   "metadata": {},
   "source": [
    "### A \"Cast of Thousands\"\n",
    "\n",
    "Position\n",
    "\n",
    "Composition\n",
    "\n",
    "Humidity\n",
    "\n",
    "Accelerators\n",
    "\n",
    "Magnetic field"
   ]
  },
  {
   "cell_type": "markdown",
   "metadata": {},
   "source": [
    "## Actuators\n",
    "\n",
    "### Control Valves\n",
    "\n",
    "Solenoid Valves (On/Off)\n",
    "\n",
    "![](figures/solenoid_valve.jpg)\n",
    "\n",
    "Proportional Control Valves\n",
    "\n",
    "![](figures/control_valve.jpg)\n",
    "\n",
    "### Pumps\n",
    "\n",
    "![](figures/pump2.jpg)\n",
    "\n",
    "![](figures/pump.jpg)\n",
    "\n",
    "Heaters\n",
    "\n",
    "Positioners/Motors/Servos\n",
    "\n"
   ]
  },
  {
   "cell_type": "code",
   "execution_count": null,
   "metadata": {},
   "outputs": [],
   "source": []
  }
 ],
 "metadata": {
  "kernelspec": {
   "display_name": "Python 3 (ipykernel)",
   "language": "python",
   "name": "python3"
  },
  "language_info": {
   "codemirror_mode": {
    "name": "ipython",
    "version": 3
   },
   "file_extension": ".py",
   "mimetype": "text/x-python",
   "name": "python",
   "nbconvert_exporter": "python",
   "pygments_lexer": "ipython3",
   "version": "3.8.12"
  }
 },
 "nbformat": 4,
 "nbformat_minor": 4
}
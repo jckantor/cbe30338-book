{
 "cells": [
  {
   "cell_type": "markdown",
   "metadata": {},
   "source": [
    "# First Order Model for a Single Heater"
   ]
  },
  {
   "cell_type": "markdown",
   "metadata": {},
   "source": [
    "![Comsol model of Temperature Control Laboratory](figures/arduino_comsol.png)"
   ]
  },
  {
   "cell_type": "markdown",
   "metadata": {},
   "source": [
    "## Learning Goals\n",
    "\n",
    "Mathematical modeling is an integral part of process control. Process models come in many forms for different purposes, ranging from the barest of information about a process to sophisticated simulation involving millions of computational nodes.  \n",
    "\n",
    "Our purpose here is to demonstrate simple approaches that provide with insight about the qualitative nature of process dynamics. We show how to construct simple models from first-principles understanding of the processes, and how to fit those models to experimental data.\n",
    "\n",
    "In this notebook we:\n",
    "\n",
    "* Construct a first-order lumped model for a single heater/sensor assembly on the Temperature Control Laboratory\n",
    "* Relate this model to the previously enountered first-order linear systems\n",
    "* Demonstrate how to estimate parameters from step test experiments."
   ]
  },
  {
   "cell_type": "markdown",
   "metadata": {},
   "source": [
    "## First-order model for a single heater/sensor assembly"
   ]
  },
  {
   "cell_type": "markdown",
   "metadata": {},
   "source": [
    "### Energy Balance\n",
    "\n",
    "We'll be begin by developing a model for one of the heater/sensor assemblies located on the Temperature Control Laboratory. The basic outline of an energy balaance is given by\n",
    "\n",
    "$$\\fbox{Rate of energy accumulation} = \\fbox{Rate of energy in flow} - \\fbox{Rate of energy outflow}$$\n",
    "\n",
    "In the absence of material flows, kinetic or potential energy, or chemical changes, the changes in sensible temperature is the only form of energy accumulation. If we assume the whole heater/sensor assembly is at uniform temperature $T_1$, with mass $m$, and a constant and average specific heat capacity $\\hat{C}_p$,\n",
    "\n",
    "$$\\fbox{Rate of energy accumulation} = m \\hat{C}_p \\frac{dT_1}{dt}$$\n",
    "\n",
    "For the purposes of this model we will lump the mass and specific heat capacity into a single parameter representing the overall heat capacity of the assembly\n",
    "\n",
    "$$C_p = m \\hat{C}_p$$\n",
    "\n",
    "The final expression for the rate of energy accumulation becomes\n",
    "\n",
    "$$\\fbox{Rate of energy accumulation} = C_p \\frac{dT_1}{dt}$$"
   ]
  },
  {
   "cell_type": "markdown",
   "metadata": {},
   "source": [
    ":::{admonition} Study Question\n",
    "\n",
    "What are the units of $C_p$?\n",
    "\n",
    ":::"
   ]
  },
  {
   "cell_type": "markdown",
   "metadata": {},
   "source": [
    "### Energy inflow\n",
    "\n",
    "The flow of energy into into the heater/sensor assembly is controlled by variable $u_1$, the percentage of maximum available power to the heater. As a safety feature to protect both the user and the equipment, the maximum power available to the heater is set by an Arduino parameter $P_1$ specified as an 8 bit integer value between 0 and 255. \n",
    "\n",
    "The actual power delivered to the heater is therefore proportional to the product $P_1u_1$\n",
    "\n",
    "$$\\fbox{Rate of energy in flow} \\propto P_1 u_1$$\n",
    "\n",
    "where\n",
    "\n",
    "$$\\begin{align*}\n",
    "0 & \\leq u_1 \\leq 100 \\\\\n",
    "0 & \\leq P_1 \\leq 255 \n",
    "\\end{align*}$$\n",
    "\n",
    "An experimentally parameter $\\alpha$ is introduced to establish the actual power delivered in units of watts\n",
    "\n",
    "$$\\fbox{Rate of energy in flow} = \\alpha P_1 u_1$$"
   ]
  },
  {
   "cell_type": "markdown",
   "metadata": {},
   "source": [
    ":::{admonition} Study Question\n",
    "\n",
    "What are the units of $\\alpha$, $P_1$, and $U_1$?\n",
    "\n",
    ":::"
   ]
  },
  {
   "cell_type": "markdown",
   "metadata": {},
   "source": [
    ":::{admonition} Study Question\n",
    "\n",
    "How would determine $\\alpha$ experimentally? What experiments would you perform? What equipment would you need in addition to that delivered with the Temperature Control Lab? \n",
    "\n",
    ":::"
   ]
  },
  {
   "cell_type": "markdown",
   "metadata": {},
   "source": [
    "### Energy outflow\n",
    "\n",
    "Energy flows out of the assembly primarily through convective heat transfer to the surrounding environment. At the relatively low operating temperatures of the device, the amount of radiative heat transfer is neglible. \n",
    "\n",
    "$$\\fbox{Rate of energy outflow} = U_a(T_1 - T_{amb})$$\n",
    "\n",
    "Parameters $U_a$ and $T_{amb}$ are the overall heat transfer coefficient and ambient temperature, respectively."
   ]
  },
  {
   "cell_type": "markdown",
   "metadata": {},
   "source": [
    ":::{admonition} Study Question\n",
    "\n",
    "Do you agree with the assumptions embedded in this equation? What other considerations might apply?\n",
    "\n",
    ":::"
   ]
  },
  {
   "cell_type": "markdown",
   "metadata": {},
   "source": [
    ":::{admonition} Study Question\n",
    "\n",
    "What are the units of $U_a$?\n",
    "\n",
    ":::"
   ]
  },
  {
   "cell_type": "markdown",
   "metadata": {},
   "source": [
    ":::{admonition} Study Question\n",
    "\n",
    "How can you determine $T_{amb}$ in experiments you do with the Temperature Control Lab?\n",
    "\n",
    ":::"
   ]
  },
  {
   "cell_type": "markdown",
   "metadata": {},
   "source": [
    "### One-state model\n",
    "\n",
    "Putting these terms together in the energy balance yields a first-order model for the response of the heater/sensor assembly on the Temperature Control Laboratory.\n",
    "\n",
    "$$\n",
    "\\begin{align}\n",
    "C_p\\frac{dT_1}{dt} & = U_a(T_{amb} - T_1) + \\alpha P_1u_1 \\\\\n",
    "\\end{align}\n",
    "$$\n"
   ]
  },
  {
   "cell_type": "markdown",
   "metadata": {},
   "source": [
    "## Parameter Estimation\n",
    "\n",
    "At steady-state\n",
    "\n",
    "$$0 = U_a(T_{amb} - T_1) + \\alpha P_1u_1$$\n",
    "\n",
    "which can be solved to give\n",
    "\n",
    "$$T_1 = T_{amb} + \\frac{\\alpha}{\n"
   ]
  },
  {
   "cell_type": "markdown",
   "metadata": {},
   "source": [
    "### Estimating $\\alpha$\n",
    "\n",
    "As it happens, the parameter $\\alpha$ exhibits a mild temperature dependency due to the intrinisic properties of semiconductors. The following experiment sets to P1 to a value of 200 in the arbitrary units of the Arduino hardware, then sets U1 to 50%. The power delivered to the device is measured after reaching operating temperature. "
   ]
  },
  {
   "cell_type": "code",
   "execution_count": 5,
   "metadata": {},
   "outputs": [
    {
     "data": {
      "image/png": "[encoded data removed]",
      "text/plain": [
       "<Figure size 720x360 with 1 Axes>"
      ]
     },
     "metadata": {
      "filenames": {
       "image/png": "/Users/jeff/Google Drive/GitHub/cbe30338-book/_build/jupyter_execute/notebooks/02.03-First-Order-Model-for-a-Single-Heater_16_0.png"
      },
      "needs_background": "light"
     },
     "output_type": "display_data"
    }
   ],
   "source": [
    "import pandas as pd\n",
    "\n",
    "t_expt = 600\n",
    "\n",
    "data_file = \"data/Model_Data.csv\"\n",
    "connected = False\n",
    "\n",
    "if connected:\n",
    "    # run experiment and record data locally\n",
    "    from tclab import TCLab, clock, Historian, Plotter\n",
    "    with TCLab() as lab:\n",
    "        h = Historian(lab.sources)\n",
    "        p = Plotter(h, t_expt)\n",
    "        lab.P1 = 200\n",
    "        lab.U1 = 50\n",
    "        for t in clock(t_expt, 10):\n",
    "            print(t, lab.T1)\n",
    "            p.update(t)\n",
    "\n",
    "    h.to_csv(data_file)\n",
    "else:\n",
    "    # download previously recorded data from repository\n",
    "    df = pd.read_csv(\"https://jckantor.github.io/cbe30338-2021/\" + data_file)\n",
    "    ax = df.plot(\"Time\", figsize=(10, 5))\n",
    "    ax.grid(True)\n",
    "    ax.set_title(f\"Peak Temperature = {df['T1'].max()}\")"
   ]
  },
  {
   "cell_type": "markdown",
   "metadata": {},
   "source": [
    "![](figures/Model_Data_Image.jpg)\n",
    "\n",
    "Under these conditions, starting with an ambient temperature of 21 C, when the system reached steady-state the measured voltage was 5.10 volts with a current of 0.315 amps, or 1.61 watts, resulting in a peak temperature of 53 C\n",
    "\n",
    "$$\\alpha P_1 u_1 = 1.6 \\text{ watts} \\implies \\alpha = \\frac{1.6\\text{watts}}{200 \\times 50} = 0.00016 \\frac{\\text{watts}}{\\text{units P1} \\times \\text{percent U1}}$$"
   ]
  },
  {
   "cell_type": "markdown",
   "metadata": {},
   "source": [
    ":::{admonition} Study Question\n",
    "\n",
    "What is the maximum power that could be delivered to the heater/sensor assembly?\n",
    "\n",
    ":::"
   ]
  },
  {
   "cell_type": "markdown",
   "metadata": {},
   "source": [
    "## Modeling Deviations from Steady State"
   ]
  },
  {
   "cell_type": "markdown",
   "metadata": {},
   "source": [
    "### Steady State\n",
    "\n",
    "We'll begin our analysis by investigating the steady-state response of this system to a steady-state input $\\bar{u}_{1}$.  At steady-state all variables are constant so $\\frac{dT_1}{dt} = 0$, which leaves \n",
    "\n",
    "$$\\begin{align}\n",
    "0 = U_a(T_{amb} - \\bar{T}_1) + \\alpha P_1\\bar{u}_{1}\n",
    "\\end{align}$$\n",
    "\n",
    "Solving for $\\bar{T}_{1}$\n",
    "\n",
    "$$\\bar{T}_{1} = T_{amb} + \\frac{\\alpha P_1}{U_a}\\bar{u}_{1}$$"
   ]
  },
  {
   "cell_type": "markdown",
   "metadata": {},
   "source": [
    ":::{admonition} Study Question\n",
    "\n",
    "In the cell below, write Python code to estimate the value of $U_a$.\n",
    "\n",
    ":::"
   ]
  },
  {
   "cell_type": "markdown",
   "metadata": {},
   "source": [
    ":::{admonition} Study Question\n",
    "\n",
    "Using the results of this calculation, estimate the maximum acheivable temperature with this device.\n",
    "\n",
    ":::"
   ]
  },
  {
   "cell_type": "markdown",
   "metadata": {},
   "source": [
    "### Deviation Variables\n",
    "\n",
    "In examining the response of the temperature control laboratory, we see the temperature is a deviation from ambient temperature, i.e.,\n",
    "\n",
    "$$\\begin{align}\n",
    "T_1' = T_1 - T_{amb}\n",
    "\\end{align}$$\n",
    "\n",
    "For process control purposes, we are often interested in the deviation of a process variable from a nominal value. In this case the choice of deviation variable is clearly obvious which is designated $T_1'$. From the steady state equation we see\n",
    "\n",
    "$$\\begin{align}\n",
    "\\bar{T}_1' = \\bar{T}_1 - T_{amb} = \\frac{\\alpha P_1}{U_a}\\bar{u}_1\n",
    "\\end{align}$$\n",
    "\n",
    "which is a somewhat simpler expression.\n",
    "\n",
    "Let's see what happens to the transient model. Substituting $T_1 = T_{amb} + T_1'$ into the differential equation gives\n",
    "\n",
    "$$\\begin{align}\n",
    "C_p\\frac{d(T_{amb}+T_1')}{dt} & = U_a(T_{amb} - (T_{amb} + T_1')) + \\alpha P_1u_1\n",
    "\\end{align}$$\n",
    "\n",
    "Expanding these terms\n",
    "\n",
    "$$\\begin{align}\n",
    "C_p\\underbrace{\\frac{dT_{amb}}{dt}}_{0} + C_p\\frac{dT_1'}{dt} & = U_a(\\underbrace{T_{amb} - T_{amb}}_{0} - T_1') + \\alpha P_1u_1\n",
    "\\end{align}$$\n",
    "\n",
    "we see several terms drop out. The derivative of any constant is zero, and see a cancelation on the right hand side, leaving\n",
    "\n",
    "$$\\begin{align}\n",
    "C_p\\frac{dT_1'}{dt} & = - U_aT_1' + \\alpha P_1u_1\n",
    "\\end{align}$$\n",
    "\n",
    "One last manipulation will bring this model into a commonly used standard form\n",
    "\n",
    "$$\\begin{align}\n",
    "\\frac{dT_1'}{dt} & = - \\frac{U_a}{C_p}T_1' + \\frac{\\alpha P_1}{C_p}u_1\n",
    "\\end{align}$$"
   ]
  },
  {
   "cell_type": "markdown",
   "metadata": {},
   "source": [
    ":::{admonition} Study Question\n",
    "\n",
    "Previously we estimated $U_a$ and $\\alpha$ from steady-state measurements. Can $C_p$ be estimated from steady-state measurements? Why or why not?\n",
    "\n",
    ":::"
   ]
  },
  {
   "cell_type": "markdown",
   "metadata": {},
   "source": [
    "### First Order Linear Differential Equations\n",
    "\n",
    "A standard form for a single differential equation is\n",
    "\n",
    "$$\\begin{align}\n",
    "\\frac{dx}{dt} & = ax + bu\n",
    "\\end{align}$$\n",
    "\n",
    "where $a$ and $b$ are model constants, $x$ is the dependent variable, and $u$ is an exogeneous input.  "
   ]
  },
  {
   "cell_type": "markdown",
   "metadata": {},
   "source": [
    "#### Steady State Response\n",
    "\n",
    "For a constant value $\\bar{u}$, the steady state response $\\bar{x}$ is given by solution to the equation\n",
    "\n",
    "$$\\begin{align}\n",
    "0 & = a\\bar{x} + b\\bar{u}\n",
    "\\end{align}$$\n",
    "\n",
    "which is\n",
    "\n",
    "$$\\begin{align}\n",
    "\\bar{x} & = -\\frac{b}{a} \\bar{u}\n",
    "\\end{align}$$"
   ]
  },
  {
   "cell_type": "markdown",
   "metadata": {},
   "source": [
    "#### Transient Response\n",
    "\n",
    "The transient response is given by\n",
    "\n",
    "$$\\begin{align}\n",
    "x(t) & = \\bar{x} + \\left[x(t_0) - \\bar{x}\\right] e^{a(t-t_0)}\n",
    "\\end{align}$$\n",
    "\n",
    "which is an exact, analytical solution."
   ]
  },
  {
   "cell_type": "markdown",
   "metadata": {},
   "source": [
    "#### Apply to Model Equation\n",
    "\n",
    "We now apply this textbook solution to the model equation. Comparing equations, we make the following identifications\n",
    "\n",
    "$$\\begin{align}\n",
    "T_1' \\sim x \\\\\n",
    "-\\frac{U_a}{C_p} \\sim a \\\\\n",
    "\\frac{\\alpha P_1}{C_p} \\sim b \\\\\n",
    "u_1 \\sim u\n",
    "\\end{align}$$\n",
    "\n",
    "Substituting these terms into the standard solution we confirm the steady-state solution found above, and provides a solution for the transient response of the deviation variables.\n",
    "\n",
    "$$\\begin{align}\n",
    "\\bar{x} = -\\frac{b}{a}\\bar{u} \\qquad & \\Rightarrow \\qquad \\bar{T}_{1}' = \\frac{\\alpha P_1}{U_a}\\bar{u}_{1} \\\\\n",
    "x(t) = \\bar{x} + \\left[x(t_0) - \\bar{x}\\right] e^{a(t-t_0)} \\qquad & \\Rightarrow \\qquad\n",
    "T_1'(t) = \\frac{\\alpha P_1}{U_a}\\bar{u}_{1} + \\left[T_1'(t_0) - \\frac{\\alpha P_1}{U_a}\\bar{u}_{1}\\right]e^{-\\frac{U_a}{C_p}(t-t_0)}\n",
    "\\end{align}$$"
   ]
  },
  {
   "cell_type": "markdown",
   "metadata": {},
   "source": [
    "### Plotting the Analytical Solution\n",
    "\n",
    "The following cell demonstrates use of these results to plot the transient response for a particular choice of model parameters. \n",
    "\n",
    "The steady state analysis provided an estimate for the gross heat transfer coefficient $U_a$. Rerun this cell for different values of gross heat capacity $C_p$. Try to find a value that at least mimics the experimental response shown above."
   ]
  },
  {
   "cell_type": "code",
   "execution_count": 2,
   "metadata": {},
   "outputs": [
    {
     "data": {
      "image/png": "[encoded data removed]",
      "text/plain": [
       "<Figure size 432x288 with 1 Axes>"
      ]
     },
     "metadata": {
      "filenames": {
       "image/png": "/Users/jeff/Google Drive/GitHub/cbe30338-book/_build/jupyter_execute/notebooks/02.03-First-Order-Model-for-a-Single-Heater_30_0.png"
      },
      "needs_background": "light"
     },
     "output_type": "display_data"
    }
   ],
   "source": [
    "%matplotlib inline\n",
    "import numpy as np\n",
    "import matplotlib.pyplot as plt\n",
    "\n",
    "# parameter values and units\n",
    "alpha = 0.00016        # watts / (units P1 * percent U1)\n",
    "P1 = 200               # P1 units\n",
    "Ua = 0.05              # watts/deg C\n",
    "Cp = 6                 # joules/deg C\n",
    "U1 = 50                # steady state value of u1 (percent)\n",
    "T_amb = 21             # deg C\n",
    "\n",
    "# initial conditions\n",
    "T1_dev_initial = 0\n",
    "\n",
    "# steady state solution\n",
    "T1_dev_ss = alpha*P1*U1/Ua\n",
    "\n",
    "# compute the transient solution\n",
    "t = np.linspace(0, 600)\n",
    "T1_dev = T1_dev_ss + (T1_dev_initial - T1_dev_ss)*np.exp(-Ua*t/Cp)\n",
    "\n",
    "# plot\n",
    "fig, ax = plt.subplots(1, 1)\n",
    "ax.plot(t, T1_dev + T_amb)\n",
    "ax.set_xlabel('time / seconds')\n",
    "ax.set_ylabel('temperature / °C')\n",
    "ax.grid(True)"
   ]
  },
  {
   "cell_type": "markdown",
   "metadata": {},
   "source": [
    "## Matching the Model to Experimental Data\n",
    "\n",
    "The following cell provides an interactive tool for 'tuning' the model to fit the experimental data. Work with the sliders to find good choices for each of the parameters. "
   ]
  },
  {
   "cell_type": "code",
   "execution_count": 3,
   "metadata": {},
   "outputs": [
    {
     "data": {
      "image/png": "[encoded data removed]",
      "text/plain": [
       "<Figure size 720x576 with 2 Axes>"
      ]
     },
     "metadata": {
      "filenames": {
       "image/png": "/Users/jeff/Google Drive/GitHub/cbe30338-book/_build/jupyter_execute/notebooks/02.03-First-Order-Model-for-a-Single-Heater_32_0.png"
      },
      "needs_background": "light"
     },
     "output_type": "display_data"
    }
   ],
   "source": [
    "%matplotlib inline\n",
    "import pandas as pd\n",
    "import matplotlib.pyplot as plt\n",
    "\n",
    "data_file = \"data/Model_Data.csv\"\n",
    "data = pd.read_csv(\"https://jckantor.github.io/cbe30338-2021/\" + data_file).set_index(\"Time\")[1:]\n",
    "t = data.index\n",
    "T1 = data['T1'].values\n",
    "\n",
    "# parameter values and units\n",
    "alpha = 0.00016        # watts / (units P1 * percent U1)\n",
    "P1 = 200               # P1 units\n",
    "Ua = 0.05              # watts/deg C\n",
    "Cp = 6                 # joules/deg C\n",
    "U1 = 50                # steady state value of u1 (percent)\n",
    "T_amb = 21             # deg C\n",
    "\n",
    "def compare(Ua, Cp):\n",
    "    T1_dev_initial = 0\n",
    "    T1_dev_ss = alpha*P1*U1/Ua\n",
    "    T1_dev = T1_dev_ss + (T1_dev_initial - T1_dev_ss)*np.exp(-Ua*t/Cp)\n",
    "    T1_model = T1_dev + T_amb\n",
    "    \n",
    "    fig, ax = plt.subplots(2, 1, figsize=(10,8))\n",
    "    \n",
    "    ax[0].plot(t, T1, t, T1_model)\n",
    "    ax[0].set_xlabel('time / seconds')\n",
    "    ax[0].set_ylabel('temperture / °C')\n",
    "    ax[0].grid(True)\n",
    "\n",
    "    ax[0].text(200, 30, f'Ua = {Ua}')\n",
    "    ax[0].text(200, 25, f'Cp = {Cp}')\n",
    "    \n",
    "    ax[1].plot(t, T1_model - T1)\n",
    "    ax[1].set_title(f'Sum of errors = {sum(abs(T1_model-T1)):0.1f}')\n",
    "    ax[1].grid(True)\n",
    "    \n",
    "    plt.tight_layout()\n",
    "\n",
    "compare(0.05, 8)"
   ]
  },
  {
   "cell_type": "markdown",
   "metadata": {},
   "source": [
    ":::{admonition} Study Question\n",
    "\n",
    "1. By trial and error using the `compare()` function defined above, tetermine values for $U_a$ and $C_p$ that yield a good fit of the model to the data. \n",
    "\n",
    "1. Are you able to remove all systematic error? If not, why not?\n",
    "\n",
    "1. The sum of absolute errors is shown on the chart. Try to find values of $U_a$ and $C_p$ that minimize this error criterion. In your opinion, is that the best choice of model parameters? Why or why not?\n",
    "\n",
    "1. Does this solution make sense? The [specific heat capacity for solids](https://en.wikipedia.org/wiki/Heat_capacity) is typically has values in the range of 0.2 to 0.9 watts/degC/gram. Using a value of 0.9 that is typical of aluminum and plastics used for electronic products, what would be the estimated mass of the heater/sensor combination?\n",
    "\n",
    "1. Suppose we want to improve the model. Where should we go from here?  \n",
    "\n",
    ":::"
   ]
  },
  {
   "cell_type": "markdown",
   "metadata": {},
   "source": [
    "## Exercises\n",
    "\n",
    "1. This notebook attempted to fit a first-order model of a heater/sensor assembly to experimental data. In the course of the fit, estimates were derived for parameters $\\alpha$, P1, $U_a$, and $C_p$. From these parameter values, estimate a time constant. \n",
    "\n",
    "2. Apply the techniques outlined in Section 2.2 for the estimation of time constants from experimental data. How does that value compare to the calculation in the first question?\n",
    "\n",
    "3. One idea to improve the fit of the model to the data would be add an additional adjustable parameter. Suppose we assume $T_amb$ isn't measured. Create a new notebook. Based on the code cell above where the function `compare` is defined, create a new function called `compare3` that takes accepts parameters $T_amb$, $Ua$, and $Cp$ and compares prediction to experimental data. By trial and error, find values of the three parameters that best 'fit' the data.  Were you able to reduce the structural error in the model? Discuss your result."
   ]
  },
  {
   "cell_type": "code",
   "execution_count": null,
   "metadata": {},
   "outputs": [],
   "source": []
  }
 ],
 "metadata": {
  "kernelspec": {
   "display_name": "Python 3 (ipykernel)",
   "language": "python",
   "name": "python3"
  },
  "language_info": {
   "codemirror_mode": {
    "name": "ipython",
    "version": 3
   },
   "file_extension": ".py",
   "mimetype": "text/x-python",
   "name": "python",
   "nbconvert_exporter": "python",
   "pygments_lexer": "ipython3",
   "version": "3.9.7"
  }
 },
 "nbformat": 4,
 "nbformat_minor": 4
}
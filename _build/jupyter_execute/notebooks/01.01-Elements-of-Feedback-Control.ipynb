{
 "cells": [
  {
   "cell_type": "markdown",
   "metadata": {},
   "source": [
    "# Elements of Process Control"
   ]
  },
  {
   "cell_type": "markdown",
   "metadata": {},
   "source": [
    "## Feedback Control\n",
    "\n",
    "![](./figures/FeedbackControlDiagram2.png)"
   ]
  },
  {
   "cell_type": "markdown",
   "metadata": {},
   "source": [
    "## Process Variables\n",
    "\n",
    "* **DV: Disturbance Variables** are exogenous variables (that is, variables that are determined outside the scope of the system under study) that impose changes on the system under study.\n",
    "\n",
    "* **MV: Manipulated Variables** are system variables that can be directly manipulated in order to acheive a desired response.\n",
    "\n",
    "* **CV: Controlled Variables** are the system variables that are the targets of the control actions.\n",
    "\n",
    "* **PV: Process Variables** are the system variables that can be measured. Ideally these would be the same as the controlled variables. Frequently, however, values of the controlled variable must be inferred from the variables that can be measured with the available instrumentation.\n",
    "\n",
    "* **SP: Setpoint Variables** are desired values for the controlled variables.\n",
    "\n",
    "* **Diagnostics** are outputs from the controller indicating the internal state of the process, or which alert the operator to abnormal conditions."
   ]
  },
  {
   "cell_type": "markdown",
   "metadata": {},
   "source": [
    "## Process Sensors\n",
    "\n",
    "There are only two methods to determine if a process is operating properly. The most direct method is to directly measure the variables of interest. If you're trying to control the temperature of a process stream, then a direct measurement of temperature is likely the most effective \n",
    "\n",
    "Temperature\n",
    "\n",
    "Pressure\n",
    "\n",
    "Level\n",
    "\n",
    "Flow"
   ]
  },
  {
   "cell_type": "code",
   "execution_count": null,
   "metadata": {},
   "outputs": [],
   "source": []
  }
 ],
 "metadata": {
  "kernelspec": {
   "display_name": "Python 3 (ipykernel)",
   "language": "python",
   "name": "python3"
  },
  "language_info": {
   "codemirror_mode": {
    "name": "ipython",
    "version": 3
   },
   "file_extension": ".py",
   "mimetype": "text/x-python",
   "name": "python",
   "nbconvert_exporter": "python",
   "pygments_lexer": "ipython3",
   "version": "3.8.12"
  }
 },
 "nbformat": 4,
 "nbformat_minor": 4
}
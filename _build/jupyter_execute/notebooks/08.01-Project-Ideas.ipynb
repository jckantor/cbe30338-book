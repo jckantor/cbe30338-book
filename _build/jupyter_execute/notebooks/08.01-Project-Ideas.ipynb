{
 "cells": [
  {
   "cell_type": "markdown",
   "id": "6674305a-984e-4169-9479-3f9eb0b54012",
   "metadata": {},
   "source": [
    "# Project Ideas"
   ]
  },
  {
   "cell_type": "markdown",
   "id": "e4c59c08-207f-4fc4-a6d9-a60f183b83f4",
   "metadata": {
    "tags": []
   },
   "source": [
    "## Simulation and Optimal Control of the Williams-Otto Process using Pyomo\n",
    "\n",
    "The Williams-Otto process is a hypothetical process presented in a 1960 paper as a benchmark problem to investigate the use of advanced strategies for process control. At that time [Theodore J. Williams](https://en.wikipedia.org/wiki/Theodore_J._Williams) and Robert Otto were process control engineers working at Monsanto Corporation. Williams later became a professor of engineering and director of the Purdue Laboratory for Applied Industrial Control at Purdue University.\n",
    "\n",
    "Like others in the large chemical and oil companies of the era, they were investigating whether rapidly evolving computer technology of the era could be used to automate large scale chemical operations. Their paper offered a common framework for academics and industrial partners to compare the many competing proposals for advanced control systems. Sixty years later, the Williams-Otto process continues to benchmark system for the study of process control and dynamics.\n",
    "\n",
    "The goal of this project is to produce a Python library to support the use of the Williams-Otto process in process control education. The deliverables will be a collection of Jupyter notebooks implementing the Pyomo model described in {cite}`schmid2020simulation`."
   ]
  },
  {
   "cell_type": "code",
   "execution_count": null,
   "id": "6d7f0adb-a146-45fe-a9b9-cd84e1734d6c",
   "metadata": {},
   "outputs": [],
   "source": []
  }
 ],
 "metadata": {
  "kernelspec": {
   "display_name": "Python 3 (ipykernel)",
   "language": "python",
   "name": "python3"
  },
  "language_info": {
   "codemirror_mode": {
    "name": "ipython",
    "version": 3
   },
   "file_extension": ".py",
   "mimetype": "text/x-python",
   "name": "python",
   "nbconvert_exporter": "python",
   "pygments_lexer": "ipython3",
   "version": "3.9.7"
  }
 },
 "nbformat": 4,
 "nbformat_minor": 5
}
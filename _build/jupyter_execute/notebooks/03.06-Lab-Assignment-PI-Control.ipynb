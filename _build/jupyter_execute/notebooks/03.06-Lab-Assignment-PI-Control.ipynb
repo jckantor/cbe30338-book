{
 "cells": [
  {
   "cell_type": "markdown",
   "metadata": {},
   "source": [
    "# Lab Assignment 3: Relay and PI Control\n",
    "\n",
    "This lab assignment introduces the use of relay, proportional (P), and proportional-integral (PI) control for the Temperature Control Laboratory. In this assignment you will \n",
    "\n",
    "1. implement and test a relay control for the dual heater/sensor system\n",
    "2. implement and test a proportional-integral (PI) control algorithm for a single heater/sensor"
   ]
  },
  {
   "cell_type": "markdown",
   "metadata": {},
   "source": [
    "## Exercise 1. Relay (or On-Off) control\n"
   ]
  },
  {
   "cell_type": "markdown",
   "metadata": {},
   "source": [
    "Create a notebook to implement a relay control for the Temperature Control Lab subject the following requirements:\n",
    "\n",
    "* Simultaneous control of sensor temperatures T1 and T2.\n",
    "* Use a tolerance value $d$ of 0.5 deg C.\n",
    "* Set the minimum and maximum values of the heater to 0 and 100%, respectively. lab.P1 and lab.P2 should be left at their default values.\n",
    "* Show the results of an experiment in which the setpoints are adjusted as follows:\n",
    "    * SP1 is initially ambient temperature. SP1 increases to 35 deg at time t=20 and remains constant.\n",
    "    * SP2 is initially ambient temperature. SP2 increases linearly to 45 deg C beginning at t=120 with the transition complete at time t=220.\n",
    "    * Run the experiment until you reach a steady oscillation about the final operating point, and for no shorter than  600 sec.\n",
    "    \n",
    "    \n",
    "Questions:\n",
    "\n",
    "   1. After the system has settled to a steady oscillation about the final operating point, what is the maximum deviation from the setpoints?\n",
    "   2. What is the approximate switching frequency of the manipulated variables?"
   ]
  },
  {
   "cell_type": "code",
   "execution_count": 5,
   "metadata": {},
   "outputs": [],
   "source": [
    "%matplotlib inline\n",
    "from tclab import TCLab, clock, Historian, Plotter\n",
    "\n",
    "# insert code below"
   ]
  },
  {
   "cell_type": "markdown",
   "metadata": {},
   "source": [
    "## Exercise 2. Implementing a PI Controller"
   ]
  },
  {
   "cell_type": "markdown",
   "metadata": {},
   "source": [
    "Create a notebook to implement PI for the Temperature Control Lab.\n",
    "\n",
    "* Using the simulation mode, create an implementaton of PI control and, by trail and error, find values for Kp and Ki, that provide a fast and accurate acquisitioni of the desired setpoint.\n",
    "\n",
    "* Show the results of an experiment in which the setpoints are adjusted as follows:\n",
    "    * SP1 is initially ambient temperature. SP1 increases linearly to 45 deg C beginning at t=20 with the transition complete at time t=120.\n",
    "    * Run the experiment until you reach a steady oscillation about the final operating point, and for no shorter than  600 sec.\n",
    "    \n",
    "    \n",
    "Questions:\n",
    "\n",
    "   1. After the system has settled to a steady oscillation about the final operating point, what is the maximum deviation from the setpoints?\n"
   ]
  },
  {
   "cell_type": "code",
   "execution_count": null,
   "metadata": {},
   "outputs": [],
   "source": []
  }
 ],
 "metadata": {
  "kernelspec": {
   "display_name": "Python 3 (ipykernel)",
   "language": "python",
   "name": "python3"
  },
  "language_info": {
   "codemirror_mode": {
    "name": "ipython",
    "version": 3
   },
   "file_extension": ".py",
   "mimetype": "text/x-python",
   "name": "python",
   "nbconvert_exporter": "python",
   "pygments_lexer": "ipython3",
   "version": "3.8.12"
  }
 },
 "nbformat": 4,
 "nbformat_minor": 4
}
{
 "cells": [
  {
   "cell_type": "markdown",
   "id": "c228940c-19af-40ca-8d8b-4438858949bf",
   "metadata": {},
   "source": [
    "# Pharmacokinetic Modeling of Glucose-Responsive Materials for Drug Delivery"
   ]
  },
  {
   "cell_type": "markdown",
   "id": "ce73f911-7eb9-426e-9146-bd74393a5068",
   "metadata": {},
   "source": [
    "# Description\n",
    "\n",
    "Diabetes afflicts many millions of people globally and places a substantial burder on health care systems. The automated delivery of insulin with pumps has improved the quality of life for many, and when coupled with glucose sensors and feedback control, can acheive a reasonable level of control over glucose levels. But these techniques require external devices and a great deal of care for successful operation.\n",
    "\n",
    "New technologies have emerged in the form of glucose-responsive insulin for the delivery of Insulin. More recently, Prof. Matt Weber at Notre Dame has developed a glucose-responsive hydrogel for the delivery of glucagon, the enzyme antagonist to insulin. Together, these materials offer the prospect of high-fidelity control of glucose.\n",
    "\n",
    "The goal of this project is to create a simulation model to study the combined use of these technologies to regulate glucose in the human body. The interaction of multiple feedback loops is expected to constrain the design of the materials. The models will be based on recent work by Prof. Weber and the simulation models developed in other laboratories. {cite}`bakh2017rational`, {cite}`yang2020connecting`, \n"
   ]
  },
  {
   "cell_type": "markdown",
   "id": "35767c7d-3298-462f-ba33-12fd00831557",
   "metadata": {},
   "source": [
    "Bakh, N. A., Bisker, G., Lee, M. A., Gong, X., & Strano, M. S. (2017). Rational Design of Glucose‐Responsive Insulin Using Pharmacokinetic Modeling. Advanced Healthcare Materials, 6(22), 1700601.\n",
    "\n",
    "Yang, J. F., Gong, X., Bakh, N. A., Carr, K., Phillips, N. F., Ismail-Beigi, F., ... & Strano, M. S. (2020). Connecting rodent and human pharmacokinetic models for the design and translation of glucose-responsive insulin. Diabetes, 69(8), 1815-1826.\n",
    "\n",
    "Jarosinski, M. A., Dhayalan, B., Rege, N., Chatterjee, D., & Weiss, M. A. (2021). ‘Smart’insulin-delivery technologies and intrinsic glucose-responsive insulin analogues. Diabetologia, 64(5), 1016-1029.\n"
   ]
  },
  {
   "cell_type": "code",
   "execution_count": null,
   "id": "cf71a5df-384f-405f-8588-8d3326db39fd",
   "metadata": {},
   "outputs": [],
   "source": []
  }
 ],
 "metadata": {
  "kernelspec": {
   "display_name": "Python 3 (ipykernel)",
   "language": "python",
   "name": "python3"
  },
  "language_info": {
   "codemirror_mode": {
    "name": "ipython",
    "version": 3
   },
   "file_extension": ".py",
   "mimetype": "text/x-python",
   "name": "python",
   "nbconvert_exporter": "python",
   "pygments_lexer": "ipython3",
   "version": "3.9.7"
  }
 },
 "nbformat": 4,
 "nbformat_minor": 5
}
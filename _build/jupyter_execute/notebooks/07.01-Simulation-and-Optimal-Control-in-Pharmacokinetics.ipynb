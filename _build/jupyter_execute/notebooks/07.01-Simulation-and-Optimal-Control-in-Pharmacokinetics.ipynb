{
 "cells": [
  {
   "cell_type": "markdown",
   "metadata": {
    "colab_type": "text",
    "id": "8C_vr6C0Jf8I"
   },
   "source": [
    "# Simulation and Optimal Control in Pharmacokinetics"
   ]
  },
  {
   "cell_type": "markdown",
   "metadata": {
    "colab_type": "text",
    "id": "r1DkXPM5wif0"
   },
   "source": [
    "## Installations and Initialization\n",
    "\n",
    "Pyomo and ipopt are now preinstalled on [Google Colaboratory](https://colab.research.google.com/). On MacOS and Windows PC, a one-time installation of pyomo and ipopt is required. The following commands will perform the needed installation when using the Anaconda distribution of Python."
   ]
  },
  {
   "cell_type": "code",
   "execution_count": null,
   "metadata": {
    "colab": {},
    "colab_type": "code",
    "id": "fP3nFqWlidrB"
   },
   "outputs": [],
   "source": [
    "!wget -N -q \"https://ampl.com/dl/open/ipopt/ipopt-linux64.zip\"\n",
    "!unzip -o -q ipopt-linux64\n",
    "ipopt_executable = '/content/ipopt'"
   ]
  },
  {
   "cell_type": "code",
   "execution_count": 6,
   "metadata": {
    "colab": {},
    "colab_type": "code",
    "id": "ISnPZ93d5Zvr"
   },
   "outputs": [],
   "source": [
    "import matplotlib.pyplot as plt\n",
    "import pyomo.environ as pyo\n",
    "import pyomo.dae as dae"
   ]
  },
  {
   "cell_type": "markdown",
   "metadata": {
    "colab_type": "text",
    "id": "GAe_MZ1QKG6j"
   },
   "source": [
    "On MacOS and Windows PC, a one-time installation of pyomo and ipopt is required. The following commands will perform the needed installation when using the Anaconda distribution of Python.\n",
    "\n",
    "    !conda install -c conda-forge pyomo\n",
    "    !conda install -c conda-forge pyomo.extras\n",
    "    !conda install -c conda-forge ipopt"
   ]
  },
  {
   "cell_type": "markdown",
   "metadata": {
    "colab_type": "text",
    "id": "29eeNeG5HiH2"
   },
   "source": [
    "## A Pharmacokinetics Example\n",
    "\n",
    "Pharmacokinetics -- the study of the drugs and other substances administered to a living organism -- is a rich source of examples for simulation and optimization. Here we discuss a solution to a very simple problem.\n",
    "\n",
    "A patient is admitted to a clinic with a dangerous blood borne infection that needs to be treated with a specific antibiotic. The treatment requires a minimum therapeutic concentration of 20 mg/liter of blood, but, for safety reasons, should not exceed 40 mg/liter. The attending physician has established a target value of 25 mg/liter.  The antibiotic will be administered to the patient by continuous infusion over a 72 hour period using a pump capable of delivering up to 50 mg/hour.\n",
    "\n",
    "![Infusionspumpe](https://upload.wikimedia.org/wikipedia/commons/thumb/e/ed/Infusionspumpe.JPG/256px-Infusionspumpe.JPG)\n",
    "\n",
    "(photo from [Pflegewiki-User Würfel](https://commons.wikimedia.org/wiki/File:Infusionspumpe.JPG), [CC BY-SA 3.0](http://creativecommons.org/licenses/by-sa/3.0/))\n",
    "\n",
    "The research literature shows dynamics of antibiotic concentration in the body behaves according to a one-compartment pharmacokinetic model\n",
    "\n",
    "\\begin{align*}\n",
    "V\\frac{dC}{dt} & = u(t) - k C\n",
    "\\end{align*}\n",
    "\n",
    "where $V$ is compartment volume (e.g., blood is about 5 liters in an adult), and $kC$ is the rate of elimination due to all sources, including metabolism and excretion. Based on an observed half-life in the blood of 8 hours, $k$ has an estimated value of 0.625 liters/hour. Given this information, what administration policy would you recommend?"
   ]
  },
  {
   "cell_type": "markdown",
   "metadata": {
    "colab_type": "text",
    "id": "gPvUJdEuYqPr"
   },
   "source": [
    "## Simulation of Fixed Infusion Rate Strategy\n",
    "\n",
    "The first strategy we will investigate is constant infusion.  At steady-state, the pharmacokinetic model becomes\n",
    "\n",
    "\\begin{align*}\n",
    "\\bar{u} & = k \\bar{C} \\\\\n",
    "& = 0.625 \\times 25 \\\\\n",
    "& = 15.625 \\mbox{ mg/hr}\n",
    "\\end{align*}\n",
    "\n",
    "The following cell simulates the patient response."
   ]
  },
  {
   "cell_type": "code",
   "execution_count": 14,
   "metadata": {
    "colab": {
     "base_uri": "https://localhost:8080/",
     "height": 294
    },
    "colab_type": "code",
    "executionInfo": {
     "elapsed": 1061,
     "status": "ok",
     "timestamp": 1554231652418,
     "user": {
      "displayName": "Jeffrey Kantor",
      "photoUrl": "https://lh5.googleusercontent.com/-8zK5aAW5RMQ/AAAAAAAAAAI/AAAAAAAAKB0/kssUQyz8DTQ/s64/photo.jpg",
      "userId": "09038942003589296665"
     },
     "user_tz": 240
    },
    "id": "QG8LbaTVJnkm",
    "outputId": "76b19a5c-76d3-4180-ef56-50e8d78fa7ef"
   },
   "outputs": [
    {
     "ename": "ValueError",
     "evalue": "key 'method' not defined for ConfigDict '' and implicit (undefined) keys are not allowed",
     "output_type": "error",
     "traceback": [
      "\u001b[0;31m---------------------------------------------------------------------------\u001b[0m",
      "\u001b[0;31mValueError\u001b[0m                                Traceback (most recent call last)",
      "Input \u001b[0;32mIn [14]\u001b[0m, in \u001b[0;36m<cell line: 26>\u001b[0;34m()\u001b[0m\n\u001b[1;32m     23\u001b[0m model\u001b[38;5;241m.\u001b[39mC[\u001b[38;5;241m0\u001b[39m]\u001b[38;5;241m.\u001b[39mfix(\u001b[38;5;241m0\u001b[39m)\n\u001b[1;32m     25\u001b[0m \u001b[38;5;66;03m# transform the model to a system of algebraic constraints\u001b[39;00m\n\u001b[0;32m---> 26\u001b[0m \u001b[43mTransformationFactory\u001b[49m\u001b[43m(\u001b[49m\u001b[38;5;124;43m'\u001b[39;49m\u001b[38;5;124;43mdae.finite_difference\u001b[39;49m\u001b[38;5;124;43m'\u001b[39;49m\u001b[43m)\u001b[49m\u001b[38;5;241;43m.\u001b[39;49m\u001b[43mapply_to\u001b[49m\u001b[43m(\u001b[49m\u001b[43mmodel\u001b[49m\u001b[43m,\u001b[49m\u001b[43m \u001b[49m\u001b[43mnfe\u001b[49m\u001b[38;5;241;43m=\u001b[39;49m\u001b[38;5;241;43m50\u001b[39;49m\u001b[43m,\u001b[49m\u001b[43m \u001b[49m\u001b[43mmethod\u001b[49m\u001b[38;5;241;43m=\u001b[39;49m\u001b[38;5;124;43m'\u001b[39;49m\u001b[38;5;124;43mbackwards\u001b[39;49m\u001b[38;5;124;43m'\u001b[39;49m\u001b[43m)\u001b[49m\n\u001b[1;32m     28\u001b[0m \u001b[38;5;66;03m# compute a solution using the Pyomo simulator capability\u001b[39;00m\n\u001b[1;32m     29\u001b[0m tsim, profiles \u001b[38;5;241m=\u001b[39m Simulator(model, package\u001b[38;5;241m=\u001b[39m\u001b[38;5;124m'\u001b[39m\u001b[38;5;124mioppt\u001b[39m\u001b[38;5;124m'\u001b[39m)\u001b[38;5;241m.\u001b[39msimulate()\n",
      "File \u001b[0;32m~/opt/anaconda3/lib/python3.9/site-packages/pyomo/core/base/transformation.py:69\u001b[0m, in \u001b[0;36mTransformation.apply_to\u001b[0;34m(self, model, **kwds)\u001b[0m\n\u001b[1;32m     67\u001b[0m \u001b[38;5;28;01mif\u001b[39;00m \u001b[38;5;129;01mnot\u001b[39;00m \u001b[38;5;28mhasattr\u001b[39m(model, \u001b[38;5;124m'\u001b[39m\u001b[38;5;124m_transformation_data\u001b[39m\u001b[38;5;124m'\u001b[39m):\n\u001b[1;32m     68\u001b[0m     model\u001b[38;5;241m.\u001b[39m_transformation_data \u001b[38;5;241m=\u001b[39m TransformationData()\n\u001b[0;32m---> 69\u001b[0m \u001b[38;5;28;43mself\u001b[39;49m\u001b[38;5;241;43m.\u001b[39;49m\u001b[43m_apply_to\u001b[49m\u001b[43m(\u001b[49m\u001b[43mmodel\u001b[49m\u001b[43m,\u001b[49m\u001b[43m \u001b[49m\u001b[38;5;241;43m*\u001b[39;49m\u001b[38;5;241;43m*\u001b[39;49m\u001b[43mkwds\u001b[49m\u001b[43m)\u001b[49m\n\u001b[1;32m     70\u001b[0m timer\u001b[38;5;241m.\u001b[39mreport()\n",
      "File \u001b[0;32m~/opt/anaconda3/lib/python3.9/site-packages/pyomo/dae/plugins/finitedifference.py:169\u001b[0m, in \u001b[0;36mFinite_Difference_Transformation._apply_to\u001b[0;34m(self, instance, **kwds)\u001b[0m\n\u001b[1;32m    153\u001b[0m \u001b[38;5;28;01mdef\u001b[39;00m \u001b[38;5;21m_apply_to\u001b[39m(\u001b[38;5;28mself\u001b[39m, instance, \u001b[38;5;241m*\u001b[39m\u001b[38;5;241m*\u001b[39mkwds):\n\u001b[1;32m    154\u001b[0m     \u001b[38;5;124;03m\"\"\"\u001b[39;00m\n\u001b[1;32m    155\u001b[0m \u001b[38;5;124;03m    Applies the transformation to a modeling instance\u001b[39;00m\n\u001b[1;32m    156\u001b[0m \n\u001b[0;32m   (...)\u001b[0m\n\u001b[1;32m    166\u001b[0m \u001b[38;5;124;03m                  scheme is the backward difference method\u001b[39;00m\n\u001b[1;32m    167\u001b[0m \u001b[38;5;124;03m    \"\"\"\u001b[39;00m\n\u001b[0;32m--> 169\u001b[0m     config \u001b[38;5;241m=\u001b[39m \u001b[38;5;28;43mself\u001b[39;49m\u001b[38;5;241;43m.\u001b[39;49m\u001b[43mCONFIG\u001b[49m\u001b[43m(\u001b[49m\u001b[43mkwds\u001b[49m\u001b[43m)\u001b[49m\n\u001b[1;32m    171\u001b[0m     tmpnfe \u001b[38;5;241m=\u001b[39m config\u001b[38;5;241m.\u001b[39mnfe\n\u001b[1;32m    172\u001b[0m     tmpds \u001b[38;5;241m=\u001b[39m config\u001b[38;5;241m.\u001b[39mwrt\n",
      "File \u001b[0;32m~/opt/anaconda3/lib/python3.9/site-packages/pyomo/common/config.py:1231\u001b[0m, in \u001b[0;36mConfigBase.__call__\u001b[0;34m(self, value, default, domain, description, doc, visibility, implicit, implicit_domain, preserve_implicit)\u001b[0m\n\u001b[1;32m   1229\u001b[0m \u001b[38;5;66;03m# ... and set the value, if appropriate\u001b[39;00m\n\u001b[1;32m   1230\u001b[0m \u001b[38;5;28;01mif\u001b[39;00m value \u001b[38;5;129;01mis\u001b[39;00m \u001b[38;5;129;01mnot\u001b[39;00m NoArgumentGiven:\n\u001b[0;32m-> 1231\u001b[0m     \u001b[43mans\u001b[49m\u001b[38;5;241;43m.\u001b[39;49m\u001b[43mset_value\u001b[49m\u001b[43m(\u001b[49m\u001b[43mvalue\u001b[49m\u001b[43m)\u001b[49m\n\u001b[1;32m   1232\u001b[0m \u001b[38;5;28;01mreturn\u001b[39;00m ans\n",
      "File \u001b[0;32m~/opt/anaconda3/lib/python3.9/site-packages/pyomo/common/config.py:2177\u001b[0m, in \u001b[0;36mConfigDict.set_value\u001b[0;34m(self, value, skip_implicit)\u001b[0m\n\u001b[1;32m   2175\u001b[0m             _implicit\u001b[38;5;241m.\u001b[39mappend(key)\n\u001b[1;32m   2176\u001b[0m         \u001b[38;5;28;01melse\u001b[39;00m:\n\u001b[0;32m-> 2177\u001b[0m             \u001b[38;5;28;01mraise\u001b[39;00m \u001b[38;5;167;01mValueError\u001b[39;00m(\n\u001b[1;32m   2178\u001b[0m                 \u001b[38;5;124m\"\u001b[39m\u001b[38;5;124mkey \u001b[39m\u001b[38;5;124m'\u001b[39m\u001b[38;5;132;01m%s\u001b[39;00m\u001b[38;5;124m'\u001b[39m\u001b[38;5;124m not defined for ConfigDict \u001b[39m\u001b[38;5;124m'\u001b[39m\u001b[38;5;132;01m%s\u001b[39;00m\u001b[38;5;124m'\u001b[39m\u001b[38;5;124m and \u001b[39m\u001b[38;5;124m\"\u001b[39m\n\u001b[1;32m   2179\u001b[0m                 \u001b[38;5;124m\"\u001b[39m\u001b[38;5;124mimplicit (undefined) keys are not allowed\u001b[39m\u001b[38;5;124m\"\u001b[39m \u001b[38;5;241m%\u001b[39m\n\u001b[1;32m   2180\u001b[0m                 (key, \u001b[38;5;28mself\u001b[39m\u001b[38;5;241m.\u001b[39mname(\u001b[38;5;28;01mTrue\u001b[39;00m)))\n\u001b[1;32m   2182\u001b[0m \u001b[38;5;66;03m# If the set_value fails part-way through the new values, we\u001b[39;00m\n\u001b[1;32m   2183\u001b[0m \u001b[38;5;66;03m# want to restore a deterministic state.  That is, either\u001b[39;00m\n\u001b[1;32m   2184\u001b[0m \u001b[38;5;66;03m# set_value succeeds completely, or else nothing happens.\u001b[39;00m\n\u001b[1;32m   2185\u001b[0m _old_data \u001b[38;5;241m=\u001b[39m \u001b[38;5;28mself\u001b[39m\u001b[38;5;241m.\u001b[39mvalue(\u001b[38;5;28;01mFalse\u001b[39;00m)\n",
      "\u001b[0;31mValueError\u001b[0m: key 'method' not defined for ConfigDict '' and implicit (undefined) keys are not allowed"
     ]
    }
   ],
   "source": [
    "# parameters\n",
    "t_final = 72     # hours\n",
    "V = 5.0          # liters\n",
    "k = 0.625        # liters/hour\n",
    "u = 25*0.625     # mg/hour infusion rate\n",
    "\n",
    "# create a model\n",
    "model = pyo.ConcreteModel()\n",
    "\n",
    "# define time as a continous set with bounds\n",
    "model.t = dae.ContinuousSet(bounds=(0, t_final))\n",
    "\n",
    "# define problem variable indexed by time\n",
    "model.C = pyo.Var(model.t, domain=pyo.NonNegativeReals)\n",
    "model.dCdt = dae.DerivativeVar(model.C, wrt=model.t)\n",
    "\n",
    "# the differential equation is a constraint indexed by time\n",
    "@model.Constraint(model.t)\n",
    "def ode(model, t):\n",
    "    return V*model.dCdt[t] == u - k*model.C[t]\n",
    "\n",
    "# initial condition\n",
    "model.C[0].fix(0)\n",
    "\n",
    "# transform the model to a system of algebraic constraints\n",
    "TransformationFactory('dae.finite_difference').apply_to(model, nfe=50, method='backwards')\n",
    "\n",
    "# compute a solution using the Pyomo simulator capability\n",
    "tsim, profiles = Simulator(model, package='ioppt').simulate()\n",
    "\n",
    "# plot results\n",
    "plt.plot(tsim, profiles)\n",
    "plt.xlabel('time / hours')\n",
    "plt.ylabel('mg/liter')\n",
    "plt.title('Blood conctration for a steady infusion of ' + str(u) + ' mg/hr.');"
   ]
  },
  {
   "cell_type": "markdown",
   "metadata": {
    "colab_type": "text",
    "id": "PPEH2YEfLvc2"
   },
   "source": [
    "## Optimizing the Infusion Strategy\n",
    "\n",
    "The simulation results show that a constant rate of infusion results in a prolonged period, more than twelve hours, where the antibiotic concentration is below the minimum therapuetic dose of 20 mg/liter. Can we find a better strategy?  In particular, can a time-varying strategy yield reduce the time needed to achieve the therapuetic level?\n",
    "\n",
    "For this case, we consider $u(t)$ to be a time-varying infusion rate bounded by the capabilities of the infusion pump.\n",
    "\n",
    "\\begin{align*}\n",
    "0 \\leq u(t) \\leq 50 \\mbox{ mg/hr}\n",
    "\\end{align*}\n",
    "\n",
    "Next we need to express the objective of maintaining the antibiotic concentration at or near a value $C_{SP}$ = 25 mg/liter.  For this purpose, we define the objective as minimizing the integral square error defined as\n",
    "\n",
    "\\begin{align*}\n",
    "\\mbox{ISE} & = \\int_0^{t_f} (C(t) - C_{SP})^2 \\, dt\n",
    "\\end{align*}\n",
    "\n",
    "The next cell demonstrates how to formulate the model in Pyomo, and compute a solution using ipopt."
   ]
  },
  {
   "cell_type": "code",
   "execution_count": 38,
   "metadata": {
    "colab": {
     "base_uri": "https://localhost:8080/",
     "height": 441
    },
    "colab_type": "code",
    "executionInfo": {
     "elapsed": 2244,
     "status": "ok",
     "timestamp": 1554236085393,
     "user": {
      "displayName": "Jeffrey Kantor",
      "photoUrl": "https://lh5.googleusercontent.com/-8zK5aAW5RMQ/AAAAAAAAAAI/AAAAAAAAKB0/kssUQyz8DTQ/s64/photo.jpg",
      "userId": "09038942003589296665"
     },
     "user_tz": 240
    },
    "id": "ee6k_bfnLuii",
    "outputId": "831cec23-29e0-425b-bc18-6541920996a4"
   },
   "outputs": [
    {
     "data": {
      "image/png": "[encoded data removed]",
      "text/plain": [
       "<Figure size 576x432 with 2 Axes>"
      ]
     },
     "metadata": {
      "filenames": {
       "image/png": "/Users/jeff/Google Drive/GitHub/cbe30338-book/_build/jupyter_execute/notebooks/07.01-Simulation-and-Optimal-Control-in-Pharmacokinetics_9_0.png"
      },
      "tags": []
     },
     "output_type": "display_data"
    }
   ],
   "source": [
    "# parameters\n",
    "t_final = 72     # hours\n",
    "V = 5.0          # liters\n",
    "k = 0.625        # liters/hour\n",
    "u_max = 50       # mg/hour infusion rate\n",
    "Csp = 25         # setpoint\n",
    "\n",
    "# create a model\n",
    "model = ConcreteModel()\n",
    "\n",
    "# define time as a continous set with bounds\n",
    "model.t = ContinuousSet(bounds=(0, t_final))\n",
    "\n",
    "# define problem variable indexed by time\n",
    "model.u = Var(model.t, bounds=(0, u_max))\n",
    "model.C = Var(model.t, domain=NonNegativeReals)\n",
    "model.dCdt = DerivativeVar(model.C, wrt=model.t)\n",
    "\n",
    "# the differential equation is a constraint indexed by time\n",
    "model.ode = Constraint(model.t, rule=lambda model, t: V*model.dCdt[t] == model.u[t] - k*model.C[t])\n",
    "\n",
    "# initial condition\n",
    "model.C[0].fix(0)\n",
    "\n",
    "# objective\n",
    "model.ise = Integral(model.t, wrt=model.t, rule=lambda model, t: (model.C[t] - Csp)**2)\n",
    "model.obj = Objective(expr=model.ise, sense=minimize)\n",
    "\n",
    "# transform the model to a system of algebraic constraints\n",
    "TransformationFactory('dae.finite_difference').apply_to(model, nfe=200, method='backwards')\n",
    "\n",
    "# simulation\n",
    "SolverFactory('ipopt', executable=ipopt_executable).solve(model)\n",
    "\n",
    "# extract solutions from the model\n",
    "tsim = [t for t in model.t]\n",
    "Csim = [model.C[t]() for t in model.t]\n",
    "usim = [model.u[t]() for t in model.t]\n",
    "\n",
    "# plot results\n",
    "plt.figure(figsize=(8,6))\n",
    "plt.subplot(2,1,1)\n",
    "plt.plot(tsim, Csim)\n",
    "plt.title('Blood concentration of antibiotic')\n",
    "plt.xlabel('time / hours')\n",
    "plt.ylabel('mg/liter')\n",
    "\n",
    "plt.subplot(2,1,2)\n",
    "plt.plot(tsim, usim)\n",
    "plt.ylim((0, 1.1*u_max))\n",
    "plt.title('Infusion rate')\n",
    "plt.xlabel('time / hours')\n",
    "plt.ylabel('mg/hour')\n",
    "\n",
    "plt.tight_layout()"
   ]
  },
  {
   "cell_type": "markdown",
   "metadata": {
    "colab_type": "text",
    "id": "GUKn6xfIm-TJ"
   },
   "source": [
    "The result of this optimization is a much better therapy for the patient. Therapuetic levels of antibiotic are reach with 3 hours thereby leading to an earlier outcome and the possibility of an earlier recovery.\n"
   ]
  },
  {
   "cell_type": "markdown",
   "metadata": {
    "colab_type": "text",
    "id": "gbz3hEHdpcGo"
   },
   "source": [
    "## Alternative Objectives\n",
    "\n"
   ]
  },
  {
   "cell_type": "code",
   "execution_count": 39,
   "metadata": {
    "colab": {
     "base_uri": "https://localhost:8080/",
     "height": 441
    },
    "colab_type": "code",
    "executionInfo": {
     "elapsed": 1415,
     "status": "ok",
     "timestamp": 1554236107978,
     "user": {
      "displayName": "Jeffrey Kantor",
      "photoUrl": "https://lh5.googleusercontent.com/-8zK5aAW5RMQ/AAAAAAAAAAI/AAAAAAAAKB0/kssUQyz8DTQ/s64/photo.jpg",
      "userId": "09038942003589296665"
     },
     "user_tz": 240
    },
    "id": "vo_Y2R-hmwHt",
    "outputId": "16f74e27-33b6-460b-8d07-1333a449f11d"
   },
   "outputs": [
    {
     "data": {
      "image/png": "[encoded data removed]",
      "text/plain": [
       "<Figure size 576x432 with 2 Axes>"
      ]
     },
     "metadata": {
      "filenames": {
       "image/png": "/Users/jeff/Google Drive/GitHub/cbe30338-book/_build/jupyter_execute/notebooks/07.01-Simulation-and-Optimal-Control-in-Pharmacokinetics_12_0.png"
      },
      "tags": []
     },
     "output_type": "display_data"
    }
   ],
   "source": [
    "# parameters\n",
    "t_final = 72     # hours\n",
    "V = 5.0          # liters\n",
    "k = 0.625        # liters/hour\n",
    "u_max = 50       # mg/hour infusion rate\n",
    "C_mtd = 20         # setpoint\n",
    "\n",
    "# create a model\n",
    "model = ConcreteModel()\n",
    "\n",
    "# define time as a continous set with bounds\n",
    "model.t = ContinuousSet(bounds=(0, t_final))\n",
    "\n",
    "# define problem variable indexed by time\n",
    "model.err = Var(model.t, domain=NonNegativeReals)\n",
    "model.u = Var(model.t, bounds=(0, u_max))\n",
    "model.C = Var(model.t, bounds=(0, 25))\n",
    "model.dCdt = DerivativeVar(model.C, wrt=model.t)\n",
    "\n",
    "# the differential equation is a constraint indexed by time\n",
    "model.ode = Constraint(model.t, rule=lambda model, t: V*model.dCdt[t] == model.u[t] - k*model.C[t])\n",
    "\n",
    "# initial condition\n",
    "model.C[0].fix(0)\n",
    "\n",
    "# objective\n",
    "model.edef = Constraint(model.t, rule=lambda model, t: model.err[t] >= C_mtd - model.C[t])\n",
    "model.iae = Integral(model.t, wrt=model.t, rule=lambda model, t: model.err[t]**2)\n",
    "model.obj = Objective(expr=model.iae, sense=minimize)\n",
    "\n",
    "# transform the model to a system of algebraic constraints\n",
    "TransformationFactory('dae.finite_difference').apply_to(model, nfe=200, method='backwards')\n",
    "\n",
    "# simulation\n",
    "SolverFactory('ipopt', executable=ipopt_executable).solve(model)\n",
    "\n",
    "# extract solutions from the model\n",
    "tsim = [t for t in model.t]\n",
    "Csim = [model.C[t]() for t in model.t]\n",
    "usim = [model.u[t]() for t in model.t]\n",
    "\n",
    "# plot results\n",
    "plt.figure(figsize=(8,6))\n",
    "plt.subplot(2,1,1)\n",
    "plt.plot(tsim, Csim)\n",
    "plt.title('Blood concentration of antibiotic')\n",
    "plt.xlabel('time / hours')\n",
    "plt.ylabel('mg/liter')\n",
    "\n",
    "plt.subplot(2,1,2)\n",
    "plt.plot(tsim, usim)\n",
    "plt.ylim((0, 1.1*u_max))\n",
    "plt.title('Infusion rate')\n",
    "plt.xlabel('time / hours')\n",
    "plt.ylabel('mg/hour')\n",
    "\n",
    "plt.tight_layout()"
   ]
  },
  {
   "cell_type": "code",
   "execution_count": null,
   "metadata": {
    "colab": {},
    "colab_type": "code",
    "id": "5k6wBKOhqEBF"
   },
   "outputs": [],
   "source": []
  },
  {
   "cell_type": "markdown",
   "metadata": {},
   "source": [
    "<!--NAVIGATION-->\n",
    "< [Simulation and Optimal Control](http://nbviewer.jupyter.org/github/jckantor/CBE30338/blob/master/notebooks/07.00-Simulation-and-Optimal-Control.ipynb) | [Contents](toc.ipynb) | [Soft Landing a Rocket](http://nbviewer.jupyter.org/github/jckantor/CBE30338/blob/master/notebooks/07.02-Soft-Landing-a-Rocket.ipynb) ><p><a href=\"https://colab.research.google.com/github/jckantor/CBE30338/blob/master/notebooks/07.01-Simulation-and-Optimal-Control-in-Pharmacokinetics.ipynb\"><img align=\"left\" src=\"https://colab.research.google.com/assets/colab-badge.svg\" alt=\"Open in Colab\" title=\"Open in Google Colaboratory\"></a><p><a href=\"https://raw.githubusercontent.com/jckantor/CBE30338/master/notebooks/07.01-Simulation-and-Optimal-Control-in-Pharmacokinetics.ipynb\"><img align=\"left\" src=\"https://img.shields.io/badge/Github-Download-blue.svg\" alt=\"Download\" title=\"Download Notebook\"></a>"
   ]
  }
 ],
 "metadata": {
  "colab": {
   "collapsed_sections": [],
   "name": "Simulation-and-Optimal-Control-in-Pharmacokinetics.ipynb",
   "provenance": [
    {
     "file_id": "1N-5hZtszVX-0zNIxxh_IQFRIbCGNBzaf",
     "timestamp": 1554226556061
    },
    {
     "file_id": "1TWUL-fRHE-VHji5VHLwKEf-5hY25zpE7",
     "timestamp": 1554216937956
    },
    {
     "file_id": "1dZEqItjD20N1qGb0kQbEFA4Ylc1k0QWq",
     "timestamp": 1554216470815
    }
   ],
   "version": "0.3.2"
  },
  "kernelspec": {
   "display_name": "Python 3 (ipykernel)",
   "language": "python",
   "name": "python3"
  },
  "language_info": {
   "codemirror_mode": {
    "name": "ipython",
    "version": 3
   },
   "file_extension": ".py",
   "mimetype": "text/x-python",
   "name": "python",
   "nbconvert_exporter": "python",
   "pygments_lexer": "ipython3",
   "version": "3.9.7"
  }
 },
 "nbformat": 4,
 "nbformat_minor": 4
}
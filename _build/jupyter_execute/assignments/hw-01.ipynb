{
 "cells": [
  {
   "cell_type": "markdown",
   "id": "4085561b-5e5c-40d1-a5c9-be0d732e3c40",
   "metadata": {},
   "source": [
    "# Homework 1\n",
    "\n",
    "**Instructions:** Your submission should consist of two files:\n",
    "\n",
    "* File 1: A Jupyter notebook that should execute successfully on Google Colab. The notebook should produce the computational results for Problems 1 and 2. Use section headers to separate the solutions. You may cut and paste from the course notes as needed, but should be clearly indicated. Where possible, your code should be in separate cells and clearly indicated for grading purposes.\n",
    "\n",
    "* File 2: A single file with a pdf scan (sorry, no jpgs -- they are too difficult to read and comment) showing the solution to part one of problem 2."
   ]
  },
  {
   "cell_type": "markdown",
   "id": "9bad82bc-399d-485a-86f4-6119ba0b6ccf",
   "metadata": {},
   "source": [
    "## Problem 1\n",
    "\n",
    "Referring to the notes for [One Compartment Pharmacokinetics](../notebooks/02.01-One-Compartment-Pharmacokinetics.ipynb), the purpose of the dosing regime is to maintain the plasma concentration above the MBC level for at least 96 hours. Assuming that each dose is 64 mg, ad a dosing period $dt = 1$ hour, modify the simulation and find the largest value of $t_{dose}$ that satisfies the MBC objective for a 96 hour period.  Show a plot concentration versus time, and include Python code to compute the total amount of antibiotic administered for the whole treatment.\n",
    "\n"
   ]
  },
  {
   "cell_type": "markdown",
   "id": "73babfe4-bf13-46c8-b887-e06deb84126f",
   "metadata": {
    "slideshow": {
     "slide_type": "-"
    }
   },
   "source": [
    "## Problem 2\n",
    "\n",
    "Consider a continous antibiotic injection at a constant rate designed to maintain the plasma concentration at minimum bactricidal level. Your solution should proceed in three steps:\n",
    "\n",
    "1. First, by hand, set up and solve the steady state equation to find the desired constant dosage rate. \n",
    "2. Modify the Python function for $u(t)$ to simulate the desired flowrate.\n",
    "3. Verify your result by repeating the above simulation using your function for $u(t)$. "
   ]
  },
  {
   "cell_type": "code",
   "execution_count": null,
   "id": "611f331d-3466-4818-b132-d42a04458c42",
   "metadata": {
    "tags": []
   },
   "outputs": [],
   "source": []
  },
  {
   "cell_type": "code",
   "execution_count": null,
   "id": "33fe6dab-6a3a-4aba-96a5-5fb81c0c08fe",
   "metadata": {},
   "outputs": [],
   "source": []
  }
 ],
 "metadata": {
  "kernelspec": {
   "display_name": "Python 3 (ipykernel)",
   "language": "python",
   "name": "python3"
  },
  "language_info": {
   "codemirror_mode": {
    "name": "ipython",
    "version": 3
   },
   "file_extension": ".py",
   "mimetype": "text/x-python",
   "name": "python",
   "nbconvert_exporter": "python",
   "pygments_lexer": "ipython3",
   "version": "3.9.7"
  }
 },
 "nbformat": 4,
 "nbformat_minor": 5
}
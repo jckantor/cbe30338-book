{
 "cells": [
  {
   "cell_type": "markdown",
   "metadata": {
    "id": "HtA0uizcYoia"
   },
   "source": [
    "# Adding Logical Decisions to our Models"
   ]
  },
  {
   "cell_type": "code",
   "execution_count": 1,
   "metadata": {
    "colab": {
     "base_uri": "https://localhost:8080/"
    },
    "executionInfo": {
     "elapsed": 33592,
     "status": "ok",
     "timestamp": 1648569336541,
     "user": {
      "displayName": "Jeffrey Kantor",
      "userId": "09038942003589296665"
     },
     "user_tz": 240
    },
    "id": "6RQ6Ult-Ymt2",
    "outputId": "c115d934-b40e-432d-9c46-611fed26dd91"
   },
   "outputs": [
    {
     "name": "stdout",
     "output_type": "stream",
     "text": [
      "installing pyomo . pyomo installed\n",
      "installing and testing solvers ...\n",
      ".. glpk installed\n",
      ".. ipopt\n",
      ".. gecode\n",
      ".. bonmin\n",
      ".. couenne\n",
      ".. gurobi_direct installed\n",
      ".. cbc installed\n",
      "installation and testing complete\n"
     ]
    }
   ],
   "source": [
    "# Import Pyomo and solvers for Google Colab\n",
    "import sys\n",
    "if \"google.colab\" in sys.modules:\n",
    "    !wget -N -q https://raw.githubusercontent.com/jckantor/MO-book/main/tools/install_on_colab.py \n",
    "    %run install_on_colab.py"
   ]
  },
  {
   "cell_type": "markdown",
   "metadata": {
    "id": "vSPkIPCSamAg"
   },
   "source": [
    "## How to pack our knapsack"
   ]
  },
  {
   "cell_type": "code",
   "execution_count": null,
   "metadata": {
    "id": "Bb-m25FDYnsX"
   },
   "outputs": [],
   "source": [
    "import pandas as pd\n",
    "import pyomo.environ as pyo\n",
    "\n",
    "weights = [3, 4, 5, 6]\n",
    "profits = [2, 4, 1, 5]\n",
    "\n",
    "\n"
   ]
  }
 ],
 "metadata": {
  "colab": {
   "authorship_tag": "ABX9TyMJvHjeJAg/TvJb8GofBZTb",
   "history_visible": true,
   "name": "CBE30338-Knapsack.ipynb",
   "provenance": []
  },
  "kernelspec": {
   "display_name": "Python 3",
   "name": "python3"
  },
  "language_info": {
   "name": "python"
  }
 },
 "nbformat": 4,
 "nbformat_minor": 0
}
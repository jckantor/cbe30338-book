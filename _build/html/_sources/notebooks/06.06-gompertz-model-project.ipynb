{
 "cells": [
  {
   "cell_type": "markdown",
   "id": "0c17dd34-ec0a-437b-98fe-279fb264c77a",
   "metadata": {},
   "source": [
    "# Project: Gompertz Model for Tumor Growth"
   ]
  },
  {
   "cell_type": "markdown",
   "id": "7812342e-f357-4fb9-92de-fa910bb1e3cf",
   "metadata": {},
   "source": [
    "For this project you will apply the modeling and dynamic optimization skills we have been learning in class to devise therapeutic strategies for treating tumors.\n",
    "\n",
    "The Gompertz model was developed in the 19th century as actuarial model for human mortality, then adapted in the 1960's as a successful model to describe the growth of tumors. Conceptually, the model describes the growth cycle of a population of cancer cells. In practice the model is normally calibrated to represent the measured size of a tumor. Let $N$ be the diameter of the tumor, then the usual form of the Gompertz model is given by\n",
    "\n",
    "$$\\frac{dN}{dt} = \\rho N \\log(\\frac{K}{N})$$\n",
    "\n",
    "where $\\rho$ is a growth constant related to the proliferative ability of the cells, and $K$ is carrying capacity defined as the maximum size that can be reached with available nutrients. For this project, we will use a slightly modified model that generally behaves better for optimization studies\n",
    "\n",
    "$$\\frac{dN}{dt} = \\rho N \\left(1 - \\frac{N}{K}\\right)$$\n",
    "\n",
    "This is the generalized logistic equation. The parameters have the same interpretation.\n",
    "\n",
    "> Geng, C., Paganetti, H., & Grassberger, C. (2017). Prediction of treatment response for combined chemo-and radiation therapy for non-small cell lung cancer patients using a bio-mathematical model. Scientific reports, 7(1), 1-12. https://www.ncbi.nlm.nih.gov/pmc/articles/PMC5648928/"
   ]
  },
  {
   "cell_type": "markdown",
   "id": "4f8ac5d6-0113-41da-8d23-a1dcc9e9b8cf",
   "metadata": {},
   "source": [
    "## Problem 1. Simulation (10 pts).\n",
    "\n",
    "Staging is a step in the diagnostic process that accounts for a complex array of biomedical features to determine the current state of disease and to guide subsequent therapeutic decisions. For this project we will use tumor size as a measure of disease stage. The first problem examines the progress of the disease in the absence of any therapy."
   ]
  },
  {
   "cell_type": "markdown",
   "id": "46a5cb5f-bb6e-44b0-ab19-6cca57506a13",
   "metadata": {},
   "source": [
    "Given an initial tumor size at the detectable limit 0.3 cm, solve for the time for the disease to evolve to Stage 1, Stage 2, etc., as outlined in the table below. You may use any solution technique of your choice, such as root find or adding decision variables to the Pyomo model. Use parameter values $\\rho = 0.02$ and $K = 20.0$\n",
    "\n",
    "| Size | Stage | Day |\n",
    "| :--: | :-- | :---: |\n",
    "| < 3 mm | Undetectable | 0 |\n",
    "| 1.2 cm | Stage 1 | ? | \n",
    "| 3.5 cm | Stage 2 | ? |\n",
    "| 6.9 cm | Stage 3 | ? |\n",
    "| 9.7 cm | Stage 4 | ? |\n",
    "| 13.0 cm | Death | ? |\n",
    "\n",
    "Your solution to this problem will be graded on\n",
    "\n",
    "1. (3 pts) presenting a viable solution strategy,\n",
    "2. (5 pts) execution of the strategy in code,\n",
    "3. (2 pts) the numerical solution."
   ]
  },
  {
   "cell_type": "markdown",
   "id": "de25a612-d006-4782-aa9f-8e556f55ad6f",
   "metadata": {},
   "source": [
    "### Your Solution\n",
    "\n",
    "Place your comments here."
   ]
  },
  {
   "cell_type": "markdown",
   "id": "1a4e76e7-4768-4a01-a1c8-9f3d8b30ea33",
   "metadata": {},
   "source": []
  },
  {
   "cell_type": "markdown",
   "id": "eda63981-57c2-4219-ac5b-b2df9bfaeaf5",
   "metadata": {},
   "source": [
    "Use the following Pyomo model as a starting point for your solution."
   ]
  },
  {
   "cell_type": "code",
   "execution_count": 388,
   "id": "81852c07-8788-4f53-9dcc-040175c13a6d",
   "metadata": {},
   "outputs": [
    {
     "data": {
      "image/png": "[encoded data removed]",
      "text/plain": [
       "<Figure size 864x360 with 1 Axes>"
      ]
     },
     "metadata": {
      "needs_background": "light"
     },
     "output_type": "display_data"
    }
   ],
   "source": [
    "import pyomo.environ as pyo\n",
    "import pyomo.dae as dae\n",
    "import matplotlib.pyplot as plt\n",
    "import numpy as np\n",
    "\n",
    "rho = 0.02\n",
    "K = 20.0\n",
    "\n",
    "def growth_model(IC=1.0, tf=400):\n",
    "\n",
    "    m = pyo.ConcreteModel()\n",
    "    m.t = dae.ContinuousSet(bounds=(0, tf))\n",
    "\n",
    "    m.N = pyo.Var(m.t, domain=pyo.NonNegativeReals)\n",
    "    m.dNdt = dae.DerivativeVar(m.N)\n",
    "    \n",
    "    m.N[0].fix(IC)\n",
    "\n",
    "    @m.Constraint(m.t)\n",
    "    def gompertz(m, t):\n",
    "        return m.dNdt[t] == rho * m.N[t] * (1 - m.N[t]/K)\n",
    "\n",
    "    pyo.TransformationFactory('dae.finite_difference').apply_to(m, nfe=2*int(tf), scheme='FORWARD')\n",
    "    pyo.SolverFactory('ipopt').solve(m)\n",
    "    \n",
    "    return m\n",
    "\n",
    "m = growth_model(0.3, 400)\n",
    "\n",
    "fig, *ax = plt.subplots(figsize=(12, 5))\n",
    "ax[0].plot(m.t, [m.N[t]() for t in m.t], label='untreated growth')\n",
    "ax[0].set_xlabel('Days')\n",
    "ax[0].set_ylabel('Size (cm)')\n",
    "ax[0].set_title('Gompertz model')\n",
    "ax[0].grid(True)"
   ]
  },
  {
   "cell_type": "markdown",
   "id": "02b8e419-2f30-4222-aa57-44265984359e",
   "metadata": {
    "tags": []
   },
   "source": [
    "## Problem 2. Radiation Therapy (10pts)\n",
    "\n",
    "Radiation therapy is a widely use therapy intervention for many solid tumors. A model for the effect of radiation is given by\n",
    "\n",
    "$$\\frac{dN}{dt} = \\underbrace{\\rho N \\left(1 - \\frac{N}{K}\\right)}_\\text{Growth} - \\underbrace{\\left(\\alpha d(t) + \\beta d(t)^2\\right)N}_\\text{Radition}$$\n",
    "\n",
    "where the second term modifies the Gompertz growth model to include radiation effects. ($\\alpha = 0.06$, $\\beta = 0.006$)\n",
    "\n",
    "$$\\alpha = 0.08$$\n",
    "$$\\beta = 0.008$$\n",
    "\n",
    "Variable $d(t)$ is dosage measured in Gray (Gy), the standard SI units for absorbed dose of ionizing radiation. The radiation therapy is limited to a daily limit of 0.8 Gray/day and a total limit of 60 Gray.  As a head start, the following Pyomo model is given which incorporates the constraint\n",
    "\n",
    "$$\\int_0^{t_f} d(t)\\ dt \\leq 60$$\n",
    "\n",
    "The main challenge of this problem is to identify and implement a meaningful objective function.\n",
    "\n",
    "1. Modify the Pyomo model below to include the $d \\leq 0.8$ Gy constraint on daily dose.\n",
    "\n",
    "2. Consider a therapy horizon of 400 days. In either words or with a mathematical expression, write down an objective function in the cell below. "
   ]
  },
  {
   "cell_type": "markdown",
   "id": "1df64eea-2c5d-4bc9-942b-b1d2afbf7798",
   "metadata": {},
   "source": []
  },
  {
   "cell_type": "markdown",
   "id": "a63059d6-7fc2-4749-a0ee-5447cc5cf5d0",
   "metadata": {},
   "source": [
    "3. Implement and test your objective function for a patient diagnosed with Stage 2 disease.  You may need to modify and test your objective until you arrive at a relevant result. There is no \"right\" answer, but some answers are better than others. Will radiation therapy alone provide adequate treatment subject the constraints and given model parameters?\n",
    "\n",
    "Your solution will be graded as follows:\n",
    "\n",
    "1. Written rationale for the choice of objective. (4 pts.)\n",
    "2. Correctly implemented constraints on radiation. (2 pts.)\n",
    "3. Code and implementation. (4 pts.)\n"
   ]
  },
  {
   "cell_type": "code",
   "execution_count": 387,
   "id": "361ba2ad-bbc5-4b26-b49f-8df0cd8f5540",
   "metadata": {},
   "outputs": [
    {
     "name": "stdout",
     "output_type": "stream",
     "text": [
      "59.59860467993624\n"
     ]
    },
    {
     "data": {
      "image/png": "[encoded data removed]",
      "text/plain": [
       "<Figure size 864x360 with 2 Axes>"
      ]
     },
     "metadata": {
      "needs_background": "light"
     },
     "output_type": "display_data"
    }
   ],
   "source": [
    "import pyomo.environ as pyo\n",
    "import pyomo.dae as dae\n",
    "import matplotlib.pyplot as plt\n",
    "import numpy as np\n",
    "\n",
    "alpha = 0.06\n",
    "beta =  0.006\n",
    "\n",
    "def radiation_model(IC=1.0, tf=400):\n",
    "\n",
    "    m = pyo.ConcreteModel()\n",
    "    m.t = dae.ContinuousSet(bounds=(0, tf))\n",
    "\n",
    "    m.N = pyo.Var(m.t, domain=pyo.NonNegativeReals)\n",
    "    m.d = pyo.Var(m.t, domain=pyo.NonNegativeReals)\n",
    "    \n",
    "    m.dNdt = dae.DerivativeVar(m.N)\n",
    "    \n",
    "    m.N[0].fix(IC)\n",
    "    \n",
    "    @m.Integral(m.t)\n",
    "    def doseage(m, t):\n",
    "        return m.d[t]\n",
    "    \n",
    "    @m.Constraint()\n",
    "    def total_dose(m):\n",
    "        return m.doseage <= 60\n",
    "\n",
    "    @m.Constraint(m.t)\n",
    "    def gompertz(m, t):\n",
    "        return m.dNdt[t] == rho * m.N[t] * (1 - m.N[t]/K) - (alpha * m.d[t] + beta * m.d[t]**2) * m.N[t]\n",
    "\n",
    "    pyo.TransformationFactory('dae.finite_difference').apply_to(m, nfe=1*int(tf), scheme='FORWARD')\n",
    "    pyo.SolverFactory('ipopt').solve(m)\n",
    "    \n",
    "    return m\n",
    "\n",
    "m = radiation_model(3.5, 400)\n",
    "\n",
    "fig, ax = plt.subplots(2, 1, figsize=(12, 5), sharex=True)\n",
    "ax[0].plot(m.t, [m.N[t]() for t in m.t], label='untreated growth')\n",
    "ax[0].set_ylabel('Size (cm)')\n",
    "ax[0].set_title('Gompertz model')\n",
    "ax[0].grid(True)\n",
    "\n",
    "ax[1].plot(m.t, [m.d[t]() for t in m.t], label='radiation')\n",
    "ax[1].set_ylabel('dose [Gr/day]')\n",
    "ax[1].set_xlabel('Days')\n",
    "ax[1].grid(True)\n",
    "\n",
    "print(m.doseage())"
   ]
  },
  {
   "cell_type": "markdown",
   "id": "a2e7487d-7bdc-404c-b6f0-ef00643ea46b",
   "metadata": {
    "jp-MarkdownHeadingCollapsed": true,
    "tags": []
   },
   "source": [
    "## Problem 3. Combined Radiation and Chemo Therapy (20 pts)\n",
    "\n",
    "Another common treatment is a combination of chemotherapy and radiation. The chemotherapy is incorporated in the model as \n",
    "\n",
    "$$\\frac{dN}{dt} = \\underbrace{\\rho N \\left(1 - \\frac{N}{K}\\right)}_\\text{Growth} - \\underbrace{\\left(\\alpha d(t) + \\beta d(t)^2\\right)N}_\\text{Radition} + \\underbrace{-\\gamma C(t) N}_\\text{Chemotherapy}$$\n",
    "\n",
    "where the parameter $\\gamma = 0.01$. The chemotherapeutic agent is toxic and therefore limited to 4 units per day, and a total 100 units over 100 days. The drug as a half-life of 1 day.\n",
    "\n",
    "1. Using the Pyomo model below as a starting point, add additional decision variables `m.u[t]` to model the administration of the chemotherapeutic agent, and `m.C[t]` to model the blood concentration of the agent. You will need to add an additional differential equation to model the half-life of the agent in the bloodstream.\n",
    "\n",
    "2. Add constraints all necessary constraints to restrict the total radiation and chemotherapeutic dosages. \n",
    "\n",
    "3. Add a suitable objective functions.\n",
    "\n",
    "4. Test the performance of your approach to a patient presenting with Stage 3 disease. \n",
    "\n",
    "Grading:\n",
    "\n",
    "1. \n"
   ]
  },
  {
   "cell_type": "code",
   "execution_count": null,
   "id": "41190cfb-fb68-4e76-b0f7-e1025ece84e1",
   "metadata": {},
   "outputs": [],
   "source": [
    "import pyomo.environ as pyo\n",
    "import pyomo.dae as dae\n",
    "import matplotlib.pyplot as plt\n",
    "import numpy as np\n",
    "\n",
    "alpha = 0.06\n",
    "beta =  0.006\n",
    "\n",
    "def radiation_model(IC=1.0, tf=400):\n",
    "\n",
    "    m = pyo.ConcreteModel()\n",
    "    m.t = dae.ContinuousSet(bounds=(0, tf))\n",
    "\n",
    "    m.N = pyo.Var(m.t, domain=pyo.NonNegativeReals)\n",
    "    m.d = pyo.Var(m.t, domain=pyo.NonNegativeReals)\n",
    "    \n",
    "    m.dNdt = dae.DerivativeVar(m.N)\n",
    "    \n",
    "    m.N[0].fix(IC)\n",
    "    \n",
    "    @m.Integral(m.t)\n",
    "    def doseage(m, t):\n",
    "        return m.d[t]\n",
    "    \n",
    "    @m.Constraint()\n",
    "    def total_dose(m):\n",
    "        return m.doseage <= 60\n",
    "\n",
    "    @m.Constraint(m.t)\n",
    "    def gompertz(m, t):\n",
    "        return m.dNdt[t] == rho * m.N[t] * (1 - m.N[t]/K) - (alpha * m.d[t] + beta * m.d[t]**2) * m.N[t]\n",
    "\n",
    "    pyo.TransformationFactory('dae.finite_difference').apply_to(m, nfe=1*int(tf), scheme='FORWARD')\n",
    "    pyo.SolverFactory('ipopt').solve(m)\n",
    "    \n",
    "    return m\n",
    "\n",
    "m = radiation_model(3.5, 400)\n",
    "\n",
    "fig, ax = plt.subplots(3, 1, figsize=(12, 5), sharex=True)\n",
    "ax[0].plot(m.t, [m.N[t]() for t in m.t], label='untreated growth')\n",
    "ax[0].set_ylabel('Size (cm)')\n",
    "ax[0].set_title('Gompertz model')\n",
    "ax[0].grid(True)\n",
    "\n",
    "ax[1].plot(m.t, [m.d[t]() for t in m.t], label='radiation')\n",
    "ax[1].set_ylabel('dose [Gr/day]')\n",
    "ax[1].set_xlabel('Days')\n",
    "ax[1].grid(True)\n",
    "\n",
    "ax[2].plot(m.t, [m.u[t]() for t in m.t], label='chemotherapy')\n",
    "ax[2].set_ylabel('dose [Gr/day]')\n",
    "ax[2].set_xlabel('Days')\n",
    "ax[2].grid(True)\n",
    "\n",
    "\n",
    "print(m.doseage())"
   ]
  },
  {
   "cell_type": "markdown",
   "id": "0aca22bd-ec63-4dfa-9cd6-a5c719a3ab60",
   "metadata": {},
   "source": []
  },
  {
   "cell_type": "markdown",
   "id": "35e0bd6b-c210-47bd-8f76-36e36b68ea44",
   "metadata": {},
   "source": [
    "3. \n"
   ]
  },
  {
   "cell_type": "code",
   "execution_count": 354,
   "id": "bd309d49-debd-450a-8c71-0e580a000dda",
   "metadata": {},
   "outputs": [
    {
     "ename": "SyntaxError",
     "evalue": "invalid syntax (4211747485.py, line 36)",
     "output_type": "error",
     "traceback": [
      "\u001b[0;36m  Input \u001b[0;32mIn [354]\u001b[0;36m\u001b[0m\n\u001b[0;31m    m.N[0].fix(N_1)\u001b[0m\n\u001b[0m    ^\u001b[0m\n\u001b[0;31mSyntaxError\u001b[0m\u001b[0;31m:\u001b[0m invalid syntax\n"
     ]
    }
   ],
   "source": [
    "alpha = 0.16\n",
    "dmax = 0.8\n",
    "tf = 400\n",
    "\n",
    "import pyomo.environ as pyo\n",
    "import pyomo.dae as dae\n",
    "import matplotlib.pyplot as plt\n",
    "\n",
    "def growth_model():\n",
    "\n",
    "    m = pyo.ConcreteModel()\n",
    "    m.t = dae.ContinuousSet(bounds=(0, tf))\n",
    "\n",
    "    m.N = pyo.Var(m.t, domain=pyo.NonNegativeReals)\n",
    "    m.d = pyo.Var(m.t, domain=pyo.NonNegativeReals, bounds=(0, dmax))\n",
    "    m.Nmax = pyo.Var()\n",
    "\n",
    "    m.dNdt = dae.DerivativeVar(m.N)\n",
    "    \n",
    "    @m.Integral(m.t)\n",
    "    def radiation(m, t):\n",
    "        return m.d[t]\n",
    "    \n",
    "    @m.Constraint()\n",
    "    def total_radition_limit(m):\n",
    "        return m.radiation <= 60.0\n",
    "    \n",
    "    @m.Constraint(m.t)\n",
    "    def negative_growth(m, t):\n",
    "        return m.N[t] <= m.N[0]\n",
    "\n",
    "    @m.Constraint(m.t)\n",
    "    def gompertz(m, t):\n",
    "        return m.dNdt[t] == rho * m.N[t] * pyo.log(K / m.N[t]) - (alpha * m.d[t] * m.N[t]\n",
    "\n",
    "    m.N[0].fix(N_1)\n",
    "    \n",
    "    @m.Objective(sense=pyo.minimize)\n",
    "    def objective(m):\n",
    "        return m.N[tf]\n",
    "\n",
    "    pyo.TransformationFactory('dae.finite_difference').apply_to(m, nfe=1000)\n",
    "    pyo.SolverFactory('ipopt').solve(m)\n",
    "    \n",
    "    return m\n",
    "\n",
    "m = growth_model()\n",
    "\n",
    "fig, ax = plt.subplots(2, 1, figsize=(12, 5))\n",
    "ax[0].plot(m.t, [m.N[t]() for t in m.t])\n",
    "ax[1].plot(m.t, [m.d[t]() for t in m.t])"
   ]
  },
  {
   "cell_type": "code",
   "execution_count": 71,
   "id": "a377a308-af73-436d-9c79-538b859b67f7",
   "metadata": {},
   "outputs": [
    {
     "ename": "SyntaxError",
     "evalue": "invalid syntax (346086088.py, line 1)",
     "output_type": "error",
     "traceback": [
      "\u001b[0;36m  Input \u001b[0;32mIn [71]\u001b[0;36m\u001b[0m\n\u001b[0;31m    $$\\frac{dC}{dt} = -0.693 * t\u001b[0m\n\u001b[0m    ^\u001b[0m\n\u001b[0;31mSyntaxError\u001b[0m\u001b[0;31m:\u001b[0m invalid syntax\n"
     ]
    }
   ],
   "source": [
    "$$\\frac{dC}{dt} = -0.693 * t\n",
    "\n",
    "Half-life = 1 day.\n",
    "\n"
   ]
  },
  {
   "cell_type": "code",
   "execution_count": null,
   "id": "f124e103-af93-4600-b664-5087680b47bc",
   "metadata": {},
   "outputs": [],
   "source": []
  },
  {
   "cell_type": "markdown",
   "id": "fed895fb-14ec-43d6-8222-36e3d7627c90",
   "metadata": {},
   "source": [
    "$$\\frac{dN}{dt} = \\rho N \\log(K/N) - \\beta_c C N - \\left(\\alpha d(t) + \\beta d(t)^2\\right)N$$"
   ]
  },
  {
   "cell_type": "code",
   "execution_count": 175,
   "id": "fcf7fb35-0ab6-4908-aafc-23954a5ce2bd",
   "metadata": {},
   "outputs": [],
   "source": [
    "K = 30\n",
    "rho = 0.007\n",
    "\n",
    "# tumor stages\n",
    "\n",
    "N_1 = 1.66\n",
    "N_2 = 4.49\n",
    "N_3 = 5.63\n",
    "N_4 = 9.26\n",
    "\n",
    "# death condition\n",
    "\n",
    "N_t = 13.0\n",
    "\n",
    "# remission\n",
    "\n",
    "N_0 = 0.03"
   ]
  },
  {
   "cell_type": "code",
   "execution_count": null,
   "id": "4089d842-363f-4871-bb69-183069751689",
   "metadata": {},
   "outputs": [],
   "source": []
  }
 ],
 "metadata": {
  "kernelspec": {
   "display_name": "Python 3 (ipykernel)",
   "language": "python",
   "name": "python3"
  },
  "language_info": {
   "codemirror_mode": {
    "name": "ipython",
    "version": 3
   },
   "file_extension": ".py",
   "mimetype": "text/x-python",
   "name": "python",
   "nbconvert_exporter": "python",
   "pygments_lexer": "ipython3",
   "version": "3.9.7"
  }
 },
 "nbformat": 4,
 "nbformat_minor": 5
}

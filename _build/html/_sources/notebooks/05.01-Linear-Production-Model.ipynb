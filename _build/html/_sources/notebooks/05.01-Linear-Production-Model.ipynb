{
 "cells": [
  {
   "cell_type": "markdown",
   "metadata": {},
   "source": [
    "<!--NOTEBOOK_HEADER-->\n",
    "*This notebook contains course material from [CBE30338](https://jckantor.github.io/CBE30338)\n",
    "by Jeffrey Kantor (jeff at nd.edu); the content is available [on Github](https://github.com/jckantor/CBE30338.git).\n",
    "The text is released under the [CC-BY-NC-ND-4.0 license](https://creativecommons.org/licenses/by-nc-nd/4.0/legalcode),\n",
    "and code is released under the [MIT license](https://opensource.org/licenses/MIT).*"
   ]
  },
  {
   "cell_type": "markdown",
   "metadata": {},
   "source": [
    "<!--NAVIGATION-->\n",
    "< [Unconstrained Scalar Optimization](http://nbviewer.jupyter.org/github/jckantor/CBE30338/blob/master/notebooks/06.01-Unconstrained-Scalar-Optimization.ipynb) | [Contents](toc.ipynb) | [Linear Programming](http://nbviewer.jupyter.org/github/jckantor/CBE30338/blob/master/notebooks/06.03-Linear-Programming.ipynb) ><p><a href=\"https://colab.research.google.com/github/jckantor/CBE30338/blob/master/notebooks/06.02-Linear-Production-Model.ipynb\"><img align=\"left\" src=\"https://colab.research.google.com/assets/colab-badge.svg\" alt=\"Open in Colab\" title=\"Open in Google Colaboratory\"></a><p><a href=\"https://raw.githubusercontent.com/jckantor/CBE30338/master/notebooks/06.02-Linear-Production-Model.ipynb\"><img align=\"left\" src=\"https://img.shields.io/badge/Github-Download-blue.svg\" alt=\"Download\" title=\"Download Notebook\"></a>"
   ]
  },
  {
   "cell_type": "markdown",
   "metadata": {
    "slideshow": {
     "slide_type": "slide"
    }
   },
   "source": [
    "# Linear Production Model"
   ]
  },
  {
   "cell_type": "markdown",
   "metadata": {},
   "source": [
    "This notebook demonstrates the use of linear programming to maximize profit for a simple model of a multiproduct production facility. The notebook uses [Pyomo](http://www.pyomo.org/) to represent the model with the [glpk](https://en.wikibooks.org/wiki/GLPK) solver to calculate solutions."
   ]
  },
  {
   "cell_type": "markdown",
   "metadata": {
    "slideshow": {
     "slide_type": "slide"
    }
   },
   "source": [
    "## Example: Production Plan for a Single Product Plant"
   ]
  },
  {
   "cell_type": "markdown",
   "metadata": {},
   "source": [
    "Suppose you are thinking about starting up a business to produce Product X. You have determined there is a market for X of up to 40 units per week at a price of \\$270 each. The production of each unit requires \\$100 of raw materials, 1 hour of type A labor, and 2 hours of type B labor. You have an unlimited amount of raw material available to you, but only 80 hours per week of labor A at a cost of \\$50/hour, and 100 hours per week of labor B at a cost of \\$40 per hour. Ignoring all other expenses, what is the maximum weekly profit?\n",
    "\n",
    "To get started on this problem, we sketch a flow diagram illustrating the flow of raw materials and labor through the production plant."
   ]
  },
  {
   "cell_type": "markdown",
   "metadata": {},
   "source": [
    "![LP_ProductX.png](./figures/LP_ProductX.png)"
   ]
  },
  {
   "cell_type": "markdown",
   "metadata": {},
   "source": [
    "The essential decision we need to make is how many units or Product X to produce each week. That's our *decision variable* which we denote as $x$. The weekly revenues are then\n",
    "\n",
    "$$ \\mbox{Revenue} = \\$270 x $$\n",
    "\n",
    "The costs include the value of the raw materials and each form of labor. If we produce x units a week, then the total cost is\n",
    "\n",
    "$$ \\mbox{Cost} = \\underbrace{\\$100 x}_{\\mbox{Raw Material}} \n",
    "    + \\underbrace{\\$50 x}_{\\mbox{Labor A}} + \\underbrace{2\\times\\$40 x}_{\\mbox{Labor B}} = \\$230 x$$\n",
    "    \n",
    "We see immediately that the gross profit is just\n",
    "\n",
    "$$\\begin{eqnarray*}\\mbox{Profit} & = & \\mbox{Revenue} - \\mbox{Cost} \\\\\n",
    "& = & \\$270x - \\$230x \\\\\n",
    "& = & \\$40 x\n",
    "\\end{eqnarray*}$$\n",
    "\n",
    "which means there is a profit earned on each unit of X produced, so let's produce as many as possible. \n",
    "\n",
    "There are three constraints that limit how many units can be produced. There is market demand for no more than 40 units per week. Producing $x = 40$ units per week will require 40 hours per week of Labor A, and 80 hours per week of Labor B. Checking those constraints we see that we have enough labor of each type, so the maximum profit will be\n",
    "\n",
    "$$\\max \\mbox{Profit} = $40 \\mbox{ per unit} \\times 40 \\mbox{ units per week} = \\$1600 \\mbox{ per week}$$\n",
    "\n",
    "What we conclude is that market demand is the 'most constraining constraint.' Once we've made that deduction, the rest is a straightforward problem that can be solved by inspection.  "
   ]
  },
  {
   "cell_type": "markdown",
   "metadata": {},
   "source": [
    "### Mathematical Model\n",
    "\n",
    "Even though this example has a straightforward solution, it is useful to consider how it can be represented mathematically, and solved using typical tools for linear programming.\n",
    "\n",
    "The mathematical representation consists of a single non-negative decision variable, $x$, an objective function, and a set of linear constraints.  Here we include all constraints even though we know only one of them -- the most 'constraining constraint' -- will be active.\n",
    "\n",
    "\\begin{align}\n",
    "\\max_{x \\geq 0} &\\ 40\\ x  & \\mbox{objective}\\\\\n",
    "\\mbox{subject to:}\\qquad \\\\\n",
    "x & \\leq 40  & \\mbox{demand constraint} \\\\\n",
    "x & \\leq 80  & \\mbox{labor A constraint} \\\\\n",
    "2\\ x & \\leq 100 & \\mbox{labor B constraint}\n",
    "\\end{align}\n",
    "\n",
    "All of these constraints must be satisfied, therefore the demand constraint is the 'most constrainting'. Again, the maximum value of $x$ is 40, so the maximum profit is $\\$ 40 \\times 40 = \\$1,600$."
   ]
  },
  {
   "cell_type": "markdown",
   "metadata": {},
   "source": [
    "### Exercises"
   ]
  },
  {
   "cell_type": "markdown",
   "metadata": {},
   "source": [
    "1. Suppose the demand could be increased to 50 units per month. What would be the increased profits?  What if the demand increased to 60 units per month?  How much would you be willing to pay for your marketing department for the increased demand?\n",
    "\n",
    "2. Increase the cost of LaborB. At what point is it no longer financially viable to run the plant?"
   ]
  },
  {
   "cell_type": "markdown",
   "metadata": {
    "slideshow": {
     "slide_type": "slide"
    }
   },
   "source": [
    "## Production Plan: Product Y"
   ]
  },
  {
   "cell_type": "markdown",
   "metadata": {},
   "source": [
    "Your marketing department has developed plans for a new product called Y. The product sells at a price of \\\\$210 each, and they expect that you can sell all that you can make. It's also cheaper to make, requiring only \\\\$90 in raw materials, 1 hour of Labor type A at \\\\$50 per hour, and 1 hour of Labor B at \\\\$40 per hour. What is the potential weekly profit?"
   ]
  },
  {
   "cell_type": "markdown",
   "metadata": {},
   "source": [
    "![LP_ProductY.png](./figures/LP_ProductY.png)"
   ]
  },
  {
   "cell_type": "markdown",
   "metadata": {},
   "source": [
    "The analysis proceeds in the same form as Product X. In this case the revenue is given by\n",
    "\n",
    "$$ \\mbox{Revenue} = \\$210 y $$\n",
    "\n",
    "The total cost is\n",
    "\n",
    "$$ \\mbox{Cost} = \\underbrace{\\$90 x}_{\\mbox{Raw Material}} \n",
    "    + \\underbrace{\\$50 x}_{\\mbox{Labor A}} + \\underbrace{\\$40 x}_{\\mbox{Labor B}} = \\$180 x$$\n",
    "    \n",
    "The gross profit is thn\n",
    "\n",
    "\\begin{eqnarray}\\mbox{Profit} & = & \\mbox{Revenue} - \\mbox{Cost} \\\\\n",
    "& = & \\$210x - \\$180x \\\\\n",
    "& = & \\$30 x\n",
    "\\end{eqnarray}\n",
    "\n",
    "We see the profit per unit of Y is smaller. So a decision to produce Y instead of X must be based on the ability to make Y in larger quantities.\n",
    "\n",
    "The mathematical formulation of this problem becomes\n",
    "\n",
    "\\begin{align}\n",
    "\\max_{y \\geq 0} &\\ 30\\ y  & \\mbox{objective}\\\\\n",
    "\\mbox{subject to:}\\qquad \\\\\n",
    "y & \\leq 80  & \\mbox{labor A constraint} \\\\\n",
    "y & \\leq 100 & \\mbox{labor B constraint}\n",
    "\\end{align}"
   ]
  },
  {
   "cell_type": "markdown",
   "metadata": {},
   "source": [
    "Compared to product X, we can manufacture and sell up 80 units per week for a total profit of \\$2,400. This is very welcome news. "
   ]
  },
  {
   "cell_type": "markdown",
   "metadata": {},
   "source": [
    "### Exercises\n",
    "\n",
    "1. What is the limiting resource?  That is, which of the two types of labor limits the capacity of your plant to produce more units of Y?\n",
    "\n",
    "2. What rate would you be willing to pay for the additional labor necessary to increase the production of Y?"
   ]
  },
  {
   "cell_type": "markdown",
   "metadata": {
    "slideshow": {
     "slide_type": "slide"
    }
   },
   "source": [
    "## Production Plan: Mixed Product Strategy"
   ]
  },
  {
   "cell_type": "markdown",
   "metadata": {},
   "source": [
    "So far we have learned that we can make \\\\$1,600 per week by manufacturing product X, and \\\\$2,400 per week manufacturing product Y.  Is it possible to do even better?\n",
    "\n",
    "To answer this question, we consider the possibilty of manufacturing both products in the same plant. The marketing department assures us that product Y will not affect the sales of product X.  So the same constraints hold as before, but now we have two decision variables, $x$ and $y$."
   ]
  },
  {
   "cell_type": "markdown",
   "metadata": {},
   "source": [
    "![LP_ProductXY.png](./figures/LP_ProductXY.png)"
   ]
  },
  {
   "cell_type": "markdown",
   "metadata": {},
   "source": [
    "Mathematical formulation\n",
    "\n",
    "\\begin{align}\n",
    "\\max_{x,y \\geq 0} &\\ 40\\ x + 30\\ y  & \\mbox{objective}\\\\\n",
    "\\mbox{subject to:}\\qquad \\\\\n",
    "x & \\leq 40  & \\mbox{demand constraint} \\\\\n",
    "x + y & \\leq 80  & \\mbox{labor A constraint} \\\\\n",
    "2x + y & \\leq 100 & \\mbox{labor B constraint}\n",
    "\\end{align}"
   ]
  },
  {
   "cell_type": "markdown",
   "metadata": {},
   "source": [
    "## Solution using CVXPY\n",
    "\n",
    "Here we will demonstrate the elementary use of [CVXPY](https://www.cvxpy.org/), a optimization modeling language that is embedded in Python using the cvxpy library."
   ]
  },
  {
   "cell_type": "code",
   "execution_count": 23,
   "metadata": {},
   "outputs": [
    {
     "name": "stdout",
     "output_type": "stream",
     "text": [
      "Optimal Profit = $2600.00\n",
      "x = 20.00\n",
      "y = 60.00\n"
     ]
    }
   ],
   "source": [
    "import numpy as np\n",
    "import cvxpy as cp\n",
    "\n",
    "# create decision variables, setting non-negative attribute to true\n",
    "x = cp.Variable(nonneg=True)\n",
    "y = cp.Variable(nonneg=True)\n",
    "\n",
    "# create list of constraints\n",
    "constraints = [x <= 40,\n",
    "               x + y <= 80,\n",
    "               2*x + y <= 100]\n",
    "\n",
    "# create objective\n",
    "objective = cp.Maximize(40*x + 30*y)\n",
    "\n",
    "# create and solve the optimization problem\n",
    "problem = cp.Problem(objective, constraints)\n",
    "problem.solve()\n",
    "\n",
    "# access numerical solution\n",
    "print(f\"Optimal Profit = ${problem.value:<7.2f}\")\n",
    "print(f\"x = {x.value:4.2f}\")\n",
    "print(f\"y = {y.value:4.2f}\")"
   ]
  },
  {
   "cell_type": "markdown",
   "metadata": {},
   "source": [
    "## Solution using scipy.optimize.linprog\n",
    "\n",
    "The [scipy.optimize library](https://docs.scipy.org/doc/scipy/reference/optimize.html) includes a comprehensive collection of functions for finding roots and minimizing systems of one or more equations. Given a new problem, this library is often a good place to look for tools needed to solve a system of equations, or to minimize a particular objective.\n",
    "\n",
    "In particular, the function `scipy.optimize.linprog` solves linear programming problems represented in the form\n",
    "\n",
    "\\begin{align}\n",
    "\\min_{x \\geq 0} &\\ c^T x \\\\\n",
    "\\mbox{subject to:}\\qquad \\\\\n",
    "A_{ub} & \\leq b_{ub} \\\\\n",
    "A_{eq} & = b_{eq} \\\\\n",
    "\\end{align}\n",
    "\n",
    "where $c$ is a vector of coefficients in the objective function to be minimized, $A_{ub}$ and $b_{ub}$ are the coefficients and right-hand-sides of problem constraints written as upper bounds, and $A_{eq}$ and $b_{eq}$ are coefficients and right-hand-sides for equality constraints."
   ]
  },
  {
   "cell_type": "code",
   "execution_count": 31,
   "metadata": {},
   "outputs": [
    {
     "data": {
      "text/plain": [
       "array([19.99999999, 60.00000001])"
      ]
     },
     "execution_count": 31,
     "metadata": {},
     "output_type": "execute_result"
    }
   ],
   "source": [
    "import numpy as np\n",
    "import cvxpy as cp\n",
    "\n",
    "c = np.array([40, 30])\n",
    "A = np.array([[1, 0], [1, 1], [2, 1]])\n",
    "b = np.array([40, 80, 100])\n",
    "\n",
    "x = cp.Variable(shape=(2), nonneg=True)\n",
    "\n",
    "constraints = [A@x <= b]\n",
    "prob = cp.Problem(cp.Maximize(c@x), constraints)\n",
    "prob.solve()\n",
    "x.value"
   ]
  },
  {
   "cell_type": "code",
   "execution_count": 23,
   "metadata": {},
   "outputs": [
    {
     "name": "stdout",
     "output_type": "stream",
     "text": [
      "Optimization terminated successfully.\n",
      "x = [ 20.  60.]\n",
      "objective =  -2600.0\n"
     ]
    }
   ],
   "source": [
    "from scipy.optimize import linprog\n",
    "\n",
    "c = [-40, -30]\n",
    "\n",
    "A_ub = [[1, 0], \n",
    "        [1, 1], \n",
    "        [2, 1]]\n",
    "\n",
    "b_ub = [40, \n",
    "        80, \n",
    "        100]\n",
    "\n",
    "results = linprog(c, A_ub, b_ub)\n",
    "\n",
    "print(results.message)\n",
    "if results.success:\n",
    "    print('x =', results.x)\n",
    "    print('objective = ', results.fun)"
   ]
  },
  {
   "cell_type": "markdown",
   "metadata": {},
   "source": [
    "The mixed product strategy earns more profit than either of the single product srategies. Does this surprise you?  Before going further, try to explain why it is possible for a mixed product strategy to earn more profit than either of the possible single product strategies."
   ]
  },
  {
   "cell_type": "markdown",
   "metadata": {
    "slideshow": {
     "slide_type": "slide"
    }
   },
   "source": [
    "## What are the active constraints?"
   ]
  },
  {
   "cell_type": "code",
   "execution_count": 10,
   "metadata": {
    "slideshow": {
     "slide_type": "fragment"
    }
   },
   "outputs": [
    {
     "data": {
      "image/png": "[encoded data removed]",
      "text/plain": [
       "<matplotlib.figure.Figure at 0x118c25e80>"
      ]
     },
     "metadata": {},
     "output_type": "display_data"
    }
   ],
   "source": [
    "%matplotlib inline\n",
    "from pylab import *\n",
    "\n",
    "figure(figsize=(6,6))\n",
    "subplot(111, aspect='equal')\n",
    "axis([0,100,0,100])\n",
    "xlabel('Production Qty X')\n",
    "ylabel('Production Qty Y')\n",
    "\n",
    "# Labor A constraint\n",
    "x = array([0,80])\n",
    "y = 80 - x\n",
    "plot(x,y,'r',lw=2)\n",
    "fill_between([0,80,100],[80,0,0],[100,100,100],color='r',alpha=0.15)\n",
    "\n",
    "# Labor B constraint\n",
    "x = array([0,50])\n",
    "y = 100 - 2*x\n",
    "plot(x,y,'b',lw=2)\n",
    "fill_between([0,50,100],[100,0,0],[100,100,100],color='b',alpha=0.15)\n",
    "\n",
    "# Demand constraint\n",
    "plot([40,40],[0,100],'g',lw=2)\n",
    "fill_between([40,100],[0,0],[100,100],color='g',alpha=0.15)\n",
    "\n",
    "legend(['Labor A Constraint','Labor B Constraint','Demand Constraint'])\n",
    "\n",
    "# Contours of constant profit\n",
    "x = array([0,100])\n",
    "for p in linspace(0,3600,10):\n",
    "    y = (p - 40*x)/30\n",
    "    plot(x,y,'y--')\n",
    "\n",
    "# Optimum\n",
    "plot(20,60,'r.',ms=20)\n",
    "annotate('Mixed Product Strategy', xy=(20,60), xytext=(50,70),\n",
    "         arrowprops=dict(shrink=.1,width=1,headwidth=5))\n",
    "\n",
    "plot(0,80,'b.',ms=20)\n",
    "annotate('Y Only', xy=(0,80), xytext=(20,90),\n",
    "         arrowprops=dict(shrink=0.1,width=1,headwidth=5))\n",
    "\n",
    "plot(40,0,'b.',ms=20)\n",
    "annotate('X Only', xy=(40,0), xytext=(70,20),\n",
    "         arrowprops=dict(shrink=0.1,width=1,headwidth=5))\n",
    "\n",
    "text(4,23,'Increasing Profit')\n",
    "annotate('', xy=(20,15), xytext=(0,0),\n",
    "         arrowprops=dict(width=0.5,headwidth=5))\n",
    "\n",
    "savefig('figures/LPprob01.png', bbox_inches='tight')"
   ]
  },
  {
   "cell_type": "markdown",
   "metadata": {
    "slideshow": {
     "slide_type": "slide"
    }
   },
   "source": [
    "## What is the incremental value of labor?\n",
    "\n",
    "The optimal solution is found at the intersection of constraints corresponding to Labor A and Labor B.  These are the **active constraints**. Adding additional labor of either type will increase the profit.  By contrast, the demand constraint for product X is inactive at the optimum, therefore attempting to increase demand for product X would be wasted effort.\n",
    "\n",
    "This leaves the important question of how much the profit will increase if additional resources are available. Let's see what happens if one additional hour of Labor A is available."
   ]
  },
  {
   "cell_type": "code",
   "execution_count": 4,
   "metadata": {
    "slideshow": {
     "slide_type": "fragment"
    }
   },
   "outputs": [
    {
     "name": "stdout",
     "output_type": "stream",
     "text": [
      "Optimization terminated successfully.\n",
      "x = [ 19.  62.]\n",
      "objective =  -2620.0\n"
     ]
    }
   ],
   "source": [
    "from scipy.optimize import linprog\n",
    "\n",
    "c = [-40, -30]\n",
    "\n",
    "A_ub = [[1, 0], \n",
    "        [1, 1], \n",
    "        [2, 1]]\n",
    "\n",
    "b_ub = [40,\n",
    "        81,    #  <<<<<< 1 additional hour of Labor A\n",
    "        100]\n",
    "\n",
    "results = linprog(c, A_ub, b_ub)\n",
    "\n",
    "print(results.message)\n",
    "if results.success:\n",
    "    print('x =', results.x)\n",
    "    print('objective = ', results.fun)"
   ]
  },
  {
   "cell_type": "markdown",
   "metadata": {},
   "source": [
    "An additional hour of Labor A increases the profit by \\$20. The base cost of \\$50/hour for Labor A is included in the objective function. Therefore we should be willing to pay up to \\$50 + \\$20 = \\$70/hour for additional Labor A."
   ]
  },
  {
   "cell_type": "markdown",
   "metadata": {},
   "source": [
    "### Exercise\n",
    "\n",
    "1. What is the incremental value of Labor B?"
   ]
  },
  {
   "cell_type": "markdown",
   "metadata": {
    "slideshow": {
     "slide_type": "slide"
    }
   },
   "source": [
    "## Theory of Constraints"
   ]
  },
  {
   "cell_type": "markdown",
   "metadata": {
    "slideshow": {
     "slide_type": "fragment"
    }
   },
   "source": [
    "* For $n$ decisions you should expect to find $n$ 'active' constraints.\n",
    "* Each inactive constraint has an associated 'slack.'  The associated resources have no incremental value.\n",
    "* Each active constraint has an associated 'shadow price'.  This is additional value of additional resources."
   ]
  },
  {
   "cell_type": "markdown",
   "metadata": {},
   "source": [
    "<!--NAVIGATION-->\n",
    "< [Unconstrained Scalar Optimization](http://nbviewer.jupyter.org/github/jckantor/CBE30338/blob/master/notebooks/06.01-Unconstrained-Scalar-Optimization.ipynb) | [Contents](toc.ipynb) | [Linear Programming](http://nbviewer.jupyter.org/github/jckantor/CBE30338/blob/master/notebooks/06.03-Linear-Programming.ipynb) ><p><a href=\"https://colab.research.google.com/github/jckantor/CBE30338/blob/master/notebooks/06.02-Linear-Production-Model.ipynb\"><img align=\"left\" src=\"https://colab.research.google.com/assets/colab-badge.svg\" alt=\"Open in Colab\" title=\"Open in Google Colaboratory\"></a><p><a href=\"https://raw.githubusercontent.com/jckantor/CBE30338/master/notebooks/06.02-Linear-Production-Model.ipynb\"><img align=\"left\" src=\"https://img.shields.io/badge/Github-Download-blue.svg\" alt=\"Download\" title=\"Download Notebook\"></a>"
   ]
  }
 ],
 "metadata": {
  "kernelspec": {
   "display_name": "Python 3",
   "language": "python",
   "name": "python3"
  },
  "language_info": {
   "codemirror_mode": {
    "name": "ipython",
    "version": 3
   },
   "file_extension": ".py",
   "mimetype": "text/x-python",
   "name": "python",
   "nbconvert_exporter": "python",
   "pygments_lexer": "ipython3",
   "version": "3.8.5"
  }
 },
 "nbformat": 4,
 "nbformat_minor": 4
}

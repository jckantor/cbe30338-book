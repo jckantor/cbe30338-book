{
 "cells": [
  {
   "cell_type": "markdown",
   "metadata": {
    "id": "MchKwOJOlq_A",
    "nbpages": {
     "level": 1,
     "link": "[6.2 Simulation and Open-Loop Optimal Control](https://jckantor.github.io/cbe30338-2021/06.02-Simulation-and-Open-Loop-Optimal-Control.html#6.2-Simulation-and-Open-Loop-Optimal-Control)",
     "section": "6.2 Simulation and Open-Loop Optimal Control"
    }
   },
   "source": [
    "#  Predictive Control\n"
   ]
  },
  {
   "cell_type": "code",
   "execution_count": 68,
   "metadata": {},
   "outputs": [],
   "source": [
    "# Install Pyomo and solvers for Google Colab\n",
    "import sys\n",
    "if \"google.colab\" in sys.modules:\n",
    "    !wget -N -q https://raw.githubusercontent.com/jckantor/MO-book/main/tools/install_on_colab.py \n",
    "    %run install_on_colab.py"
   ]
  },
  {
   "cell_type": "code",
   "execution_count": 69,
   "metadata": {
    "tags": []
   },
   "outputs": [],
   "source": [
    "import numpy as np\n",
    "import matplotlib.pyplot as plt"
   ]
  },
  {
   "cell_type": "markdown",
   "metadata": {
    "id": "gsSqgmyilq_B",
    "nbpages": {
     "level": 3,
     "link": "[6.2.1.1 Model](https://jckantor.github.io/cbe30338-2021/06.02-Simulation-and-Open-Loop-Optimal-Control.html#6.2.1.1-Model)",
     "section": "6.2.1.1 Model"
    }
   },
   "source": [
    "## Feedforward Optimal Control\n",
    "\n",
    "An optimal control policy minimizes the differences\n",
    "\n",
    "$$\n",
    "\\begin{align*}\n",
    "\\min_{u} \\int_{t_0}^{t_f} \\|SP(t) - T_H(t)\\|^2\\,dt \\\\\n",
    "\\end{align*}\n",
    "$$\n",
    "\n",
    "subject to constraints\n",
    "\n",
    "$$\n",
    "\\begin{align*}\n",
    "C_p^H \\frac{dT_H}{dt} & = U_a (T_{amb} - T_H) + U_c (T_S - T_H) + \\alpha P u(t)\\\\\n",
    "C_p^S \\frac{dT_S}{dt} & = - U_c (T_S - T_H)  \\\\\n",
    "\\\\\n",
    "\\text{control limits}\\qquad0 \\leq u(t) & \\leq 100.0\n",
    "\\\\\n",
    "\\text{initial condition}\\qquad T_H(t_0) & = T_{amb} \\\\\n",
    "\\text{initial condition}\\qquad T_S(t_0) & = T_{amb}\n",
    "\\end{align*}\n",
    "$$\n",
    "\n",
    "Note that `pyomo.dae` has an `Integral` object to help with these situations.\n",
    "\n",
    "\n"
   ]
  },
  {
   "cell_type": "code",
   "execution_count": 70,
   "metadata": {},
   "outputs": [],
   "source": [
    "# parameter estimates.\n",
    "alpha = 0.00016       # watts / (units P * percent U1)\n",
    "P = 200               # P units\n",
    "Ua = 0.050            # heat transfer coefficient from heater to environment\n",
    "CpH = 2.2             # heat capacity of the heater (J/deg C)\n",
    "CpS = 1.9             # heat capacity of the sensor (J/deg C)\n",
    "Ub = 0.021            # heat transfer coefficient from heater to sensor\n",
    "Tamb = 21.0           # ambient temperature"
   ]
  },
  {
   "cell_type": "markdown",
   "metadata": {
    "tags": []
   },
   "source": [
    "## Controlling to a Reference Tractory\n",
    "\n",
    "The reference trajectory is a sequence of ramp/soak intervals.  Python function `r(t)` uses `numpy.interp` to compute values of the reference trajectory at any point in time."
   ]
  },
  {
   "cell_type": "code",
   "execution_count": 71,
   "metadata": {},
   "outputs": [
    {
     "data": {
      "image/png": "[encoded data removed]",
      "text/plain": [
       "<Figure size 720x216 with 1 Axes>"
      ]
     },
     "metadata": {
      "needs_background": "light"
     },
     "output_type": "display_data"
    }
   ],
   "source": [
    "# time grid\n",
    "tf = 1000\n",
    "dt = 2\n",
    "n = round(tf/dt)\n",
    "t_grid = np.linspace(0, 1000, n+1)\n",
    "\n",
    "# ambient temperature\n",
    "Tamb = 21\n",
    "\n",
    "# setpoint/reference\n",
    "def SP(t):\n",
    "    return np.interp(t, [0, 50, 150, 450, 550], [Tamb, Tamb, 60, 60, 35])\n",
    "\n",
    "# plot function\n",
    "fig, ax = plt.subplots(1, 1, figsize=(10, 3))\n",
    "ax.plot(t_grid, SP(t_grid), label=\"setpoint\")\n",
    "ax.set_title('setpoint')\n",
    "ax.set_ylabel('deg C')\n",
    "ax.legend()\n",
    "ax.grid(True)"
   ]
  },
  {
   "cell_type": "code",
   "execution_count": 72,
   "metadata": {
    "colab": {
     "base_uri": "https://localhost:8080/",
     "height": 441
    },
    "executionInfo": {
     "elapsed": 6186,
     "status": "ok",
     "timestamp": 1618928059293,
     "user": {
      "displayName": "",
      "photoUrl": "",
      "userId": ""
     },
     "user_tz": 240
    },
    "id": "7c6IY7rolxul",
    "outputId": "501e7233-58ea-4357-d2b7-ac4691463cf5"
   },
   "outputs": [],
   "source": [
    "import pyomo.environ as pyo\n",
    "import pyomo.dae as dae\n",
    "\n",
    "def optimal_control(Th, Ts, SP=60.0):\n",
    "    \n",
    "    tf = 300.0\n",
    "\n",
    "    m = pyo.ConcreteModel('TCLab Heater/Sensor')\n",
    "\n",
    "    m.t = dae.ContinuousSet(bounds=(0, tf))\n",
    "    m.Th = pyo.Var(m.t)\n",
    "    m.Ts = pyo.Var(m.t)\n",
    "    m.u = pyo.Var(m.t, bounds=(0, 100))\n",
    "\n",
    "    m.dTh = dae.DerivativeVar(m.Th)\n",
    "    m.dTs = dae.DerivativeVar(m.Ts)\n",
    "\n",
    "    @m.Integral(m.t)\n",
    "    def ise(m, t):\n",
    "        return (SP - m.Th[t])**2\n",
    "\n",
    "    @m.Constraint(m.t)\n",
    "    def heater(m, t):\n",
    "        return CpH * m.dTh[t] == Ua *(Tamb - m.Th[t]) + Ub*(m.Ts[t] - m.Th[t]) + alpha*P*m.u[t]\n",
    "\n",
    "    @m.Constraint(m.t)\n",
    "    def sensor(m, t):\n",
    "        return CpS * m.dTs[t] == Ub *(m.Th[t] - m.Ts[t]) \n",
    "\n",
    "    m.Th[0].fix(Th)\n",
    "    m.Ts[0].fix(Ts)\n",
    "\n",
    "    @m.Objective(sense=pyo.minimize)\n",
    "    def objective(m):\n",
    "        return m.ise\n",
    "\n",
    "    pyo.TransformationFactory('dae.finite_difference').apply_to(m, nfe=60, wrt=m.t, scheme=\"FORWARD\")\n",
    "    pyo.SolverFactory('ipopt').solve(m)\n",
    "    \n",
    "    return m, m.u[0]()"
   ]
  },
  {
   "cell_type": "code",
   "execution_count": 82,
   "metadata": {
    "colab": {
     "base_uri": "https://localhost:8080/",
     "height": 441
    },
    "executionInfo": {
     "elapsed": 6186,
     "status": "ok",
     "timestamp": 1618928059293,
     "user": {
      "displayName": "",
      "photoUrl": "",
      "userId": ""
     },
     "user_tz": 240
    },
    "id": "7c6IY7rolxul",
    "outputId": "501e7233-58ea-4357-d2b7-ac4691463cf5"
   },
   "outputs": [
    {
     "name": "stdout",
     "output_type": "stream",
     "text": [
      "100.0\n"
     ]
    },
    {
     "data": {
      "image/png": "[encoded data removed]",
      "text/plain": [
       "<Figure size 432x288 with 2 Axes>"
      ]
     },
     "metadata": {
      "needs_background": "light"
     },
     "output_type": "display_data"
    }
   ],
   "source": [
    "Th = 30\n",
    "Ts = 30\n",
    "SP = 60\n",
    "\n",
    "m, u = optimal_control(Th, Ts, SP)\n",
    "print(u)\n",
    "\n",
    "fig, ax = plt.subplots(2, 1)\n",
    "\n",
    "ax[0].plot(m.t, [m.Th[t]() for t in m.t], label=\"Th1\")\n",
    "ax[0].plot(m.t, [m.Ts[t]() for t in m.t], label=\"Ts1\")\n",
    "ax[0].legend()\n",
    "ax[0].set_xlabel(\"Time\")\n",
    "ax[0].set_ylabel(\"Temperature\")\n",
    "ax[0].grid()\n",
    "\n",
    "ax[1].plot(m.t, [m.u[t]() for t in m.t], label=\"U1\")\n",
    "ax[0].legend()\n",
    "ax[1].grid()"
   ]
  },
  {
   "cell_type": "markdown",
   "metadata": {},
   "source": [
    "## Assumptions for Predictive Control\n",
    "\n",
    "* Future values of the setpoint are equal to the current setpoint.\n",
    "* Future values of the disturbance are equal to the current setpoint.\n"
   ]
  },
  {
   "cell_type": "markdown",
   "metadata": {},
   "source": [
    "## TCLab Event Loop with Relay Control\n",
    "\n",
    "Borrowing from notebook 4.6."
   ]
  },
  {
   "cell_type": "code",
   "execution_count": 84,
   "metadata": {},
   "outputs": [
    {
     "data": {
      "image/png": "[encoded data removed]",
      "text/plain": [
       "<Figure size 640x240 with 2 Axes>"
      ]
     },
     "metadata": {},
     "output_type": "display_data"
    },
    {
     "name": "stdout",
     "output_type": "stream",
     "text": [
      "TCLab Model disconnected successfully.\n"
     ]
    },
    {
     "data": {
      "image/png": "[encoded data removed]",
      "text/plain": [
       "<Figure size 640x240 with 2 Axes>"
      ]
     },
     "metadata": {
      "needs_background": "light"
     },
     "output_type": "display_data"
    }
   ],
   "source": [
    "t_step = 5\n",
    "tf = 300\n",
    "\n",
    "import numpy as np\n",
    "from tclab import setup, clock, Historian, Plotter\n",
    "\n",
    "# Relay Control\n",
    "def relay(MV_min, MV_max):\n",
    "    MV = MV_min\n",
    "    while True:\n",
    "        SP, PV = yield MV\n",
    "        MV = MV_max if PV < SP else MV_min\n",
    "\n",
    "# create a controller instance\n",
    "controller = relay(0, 100)\n",
    "U1 = next(controller)\n",
    "\n",
    "# execute the event loop\n",
    "TCLab = setup(connected=False, speedup=20)\n",
    "with TCLab() as lab:\n",
    "    h = Historian([('SP', lambda: SP), \n",
    "                   ('T1', lambda: lab.T1), \n",
    "                   ('Q1', lab.Q1)])\n",
    "    p = Plotter(h, tf, layout=[['T1', 'SP'], ['Q1']])\n",
    "    for t in clock(tf, t_step):\n",
    "        T1 = lab.T1 \n",
    "        U1 = controller.send([SP, T1])\n",
    "        lab.Q1(U1)\n",
    "        p.update(t)"
   ]
  },
  {
   "cell_type": "code",
   "execution_count": null,
   "metadata": {},
   "outputs": [],
   "source": [
    "t_step = 5\n",
    "tf = 300\n",
    "\n",
    "import numpy as np\n",
    "from tclab import setup, clock, Historian, Plotter\n",
    "\n",
    "# Relay Control\n",
    "def relay(MV_min, MV_max):\n",
    "    MV = MV_min\n",
    "    while True:\n",
    "        SP, PV = yield MV\n",
    "        MV = MV_max if PV < SP else MV_min\n",
    "        \n",
    "# Observer\n",
    "def tclab_model():\n",
    "    # initialize variables\n",
    "    t_now = 0\n",
    "    x_now = x_initial\n",
    "    \n",
    "    while True:\n",
    "        # yield current state, get MV for next period\n",
    "        t_next, Q = yield x_now\n",
    "        \n",
    "        # compute next state\n",
    "        u = [Q]\n",
    "        x_next = x_now + (t_next - t_now)*(np.dot(A, x_now) + np.dot(Bu, u) + np.dot(Bd, d))\n",
    "        \n",
    "        # update time and state\n",
    "        t_now = t_next\n",
    "        x_now = x_next\n",
    "\n",
    "\n",
    "# create a controller instance\n",
    "controller = relay(0, 100)\n",
    "U1 = next(controller)\n",
    "\n",
    "# execute the event loop\n",
    "TCLab = setup(connected=False, speedup=20)\n",
    "with TCLab() as lab:\n",
    "    h = Historian([('SP', lambda: SP), \n",
    "                   ('T1', lambda: lab.T1), \n",
    "                   ('Q1', lab.Q1)])\n",
    "    p = Plotter(h, tf, layout=[['T1', 'SP'], ['Q1']])\n",
    "    for t in clock(tf, t_step):\n",
    "        T1 = lab.T1 \n",
    "        U1 = controller.send([SP, T1])\n",
    "        lab.Q1(U1)\n",
    "        p.update(t)"
   ]
  },
  {
   "cell_type": "markdown",
   "metadata": {},
   "source": [
    "## What we need our predictive controller to do ...\n",
    "\n",
    "* Compute given current values of Th, Ts, d, and SP\n",
    "* Compute control policy"
   ]
  },
  {
   "cell_type": "code",
   "execution_count": 110,
   "metadata": {},
   "outputs": [],
   "source": [
    "\n",
    "def predictive_control(t_horizon=600, dt=2):\n",
    "    n = round(t_horizon/dt)\n",
    "    t_grid = np.linspace(0, t_horizon, n+1)\n",
    "    \n",
    "    u = {t: cp.Variable(1, nonneg=True) for t in t_grid}\n",
    "    x = {t: cp.Variable(2) for t in t_grid}\n",
    "    y = {t: cp.Variable(1) for t in t_grid}\n",
    "    output = [y[t] == C@x[t] for t in t_grid]\n",
    "    inputs = [u[t] <= 100 for t in t_grid]\n",
    "    model = [x[t] == x[t-dt] + dt*(A@x[t-dt] + Bu@u[t-dt] + Bd@[Tamb]) for t in t_grid[1:]]\n",
    "    MV = 0\n",
    "    \n",
    "    while True:\n",
    "        print(MV)\n",
    "        SP, Th, Ts = yield MV\n",
    "        objective = cp.Minimize(sum((y[t]-SP)**2 for t in t_grid))\n",
    "        IC = [x[0] == np.array([Th, Ts])]\n",
    "        problem = cp.Problem(objective,  model + IC + output + inputs)\n",
    "        problem.solve()\n",
    "        MV = u[0].value[0]"
   ]
  },
  {
   "cell_type": "code",
   "execution_count": 111,
   "metadata": {},
   "outputs": [
    {
     "data": {
      "image/png": "[encoded data removed]",
      "text/plain": [
       "<Figure size 640x240 with 2 Axes>"
      ]
     },
     "metadata": {},
     "output_type": "display_data"
    },
    {
     "name": "stdout",
     "output_type": "stream",
     "text": [
      "TCLab Model disconnected successfully.\n"
     ]
    },
    {
     "data": {
      "image/png": "[encoded data removed]",
      "text/plain": [
       "<Figure size 640x240 with 2 Axes>"
      ]
     },
     "metadata": {
      "needs_background": "light"
     },
     "output_type": "display_data"
    }
   ],
   "source": [
    "t_final = 300\n",
    "t_step = 2\n",
    "\n",
    "# create a controller instance\n",
    "controller = predictive_control()\n",
    "U1 = next(controller)\n",
    "\n",
    "# create estimator instance\n",
    "L = np.array([[0.4], [0.2]])\n",
    "observer = tclab_observer(L)\n",
    "Th, Ts = next(observer)\n",
    "\n",
    "# execute the event loop\n",
    "TCLab = setup(connected=False, speedup=20)\n",
    "with TCLab() as lab:\n",
    "    h = Historian([('SP', lambda: SP), \n",
    "                   ('T1', lambda: lab.T1), \n",
    "                   ('Q1', lab.Q1), \n",
    "                   ('Th', lambda: Th), \n",
    "                   ('Ts', lambda: Ts)])\n",
    "    p = Plotter(h, t_final, layout=[['T1','Ts','Th', 'SP'], ['Q1']])\n",
    "    for t in clock(t_final, t_step):\n",
    "        T1 = lab.T1 \n",
    "        Th, Ts = observer.send([t, U1, T1])\n",
    "        U1 = controller.send([SP, Th, Ts])\n",
    "        lab.Q1(U1)\n",
    "        p.update(t)"
   ]
  },
  {
   "cell_type": "markdown",
   "metadata": {
    "id": "D_2whAmBnT3z"
   },
   "source": [
    "What information do you need to compute the control policy $u(t)$?\n",
    "\n",
    "* Modify model for constant d\n",
    "* Demonstrate effect of lack of future information about setpoint\n",
    "* Demonstrate effect of initial condition\n",
    "\n",
    "Now write a function that computes a control policy given tstep, d, x, and SP\n",
    "\n"
   ]
  },
  {
   "cell_type": "markdown",
   "metadata": {
    "id": "flr5i2IQqlIH"
   },
   "source": [
    "* Encapsulate code as a generator\n"
   ]
  },
  {
   "cell_type": "markdown",
   "metadata": {
    "id": "iqcgQFZ2qvpu"
   },
   "source": [
    "* Set up event loop for tclab"
   ]
  },
  {
   "cell_type": "markdown",
   "metadata": {
    "id": "xCyRLchqq2il"
   },
   "source": [
    "* add observer"
   ]
  }
 ],
 "metadata": {
  "colab": {
   "collapsed_sections": [],
   "name": "Predictive-Control.ipynb",
   "provenance": [
    {
     "file_id": "https://github.com/jckantor/cbe30338-2021/blob/master/docs/06.02-Simulation-and-Open-Loop-Optimal-Control.ipynb",
     "timestamp": 1618928532300
    }
   ]
  },
  "kernelspec": {
   "display_name": "Python 3 (ipykernel)",
   "language": "python",
   "name": "python3"
  },
  "language_info": {
   "codemirror_mode": {
    "name": "ipython",
    "version": 3
   },
   "file_extension": ".py",
   "mimetype": "text/x-python",
   "name": "python",
   "nbconvert_exporter": "python",
   "pygments_lexer": "ipython3",
   "version": "3.9.7"
  }
 },
 "nbformat": 4,
 "nbformat_minor": 4
}

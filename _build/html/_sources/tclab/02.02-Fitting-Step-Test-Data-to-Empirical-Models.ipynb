{
 "cells": [
  {
   "cell_type": "markdown",
   "metadata": {},
   "source": [
    "<!--NOTEBOOK_HEADER-->\n",
    "*This notebook contains course material from [CBE32338](https://jckantor.github.io/CBE32338)\n",
    "by Jeffrey Kantor (jeff at nd.edu); the content is available [on Github](https://github.com/jckantor/CBE2338.git).\n",
    "The text is released under the [CC-BY-NC-ND-4.0 license](https://creativecommons.org/licenses/by-nc-nd/4.0/legalcode),\n",
    "and code is released under the [MIT license](https://opensource.org/licenses/MIT).*"
   ]
  },
  {
   "cell_type": "markdown",
   "metadata": {},
   "source": [
    "<!--NAVIGATION-->\n",
    "< [Step Testing](http://nbviewer.jupyter.org/github/jckantor/CBE32338/blob/master/notebooks/02.01-Step-Testing.ipynb) | [Contents](toc.ipynb) | [First Order Model for a Single Heater](http://nbviewer.jupyter.org/github/jckantor/CBE32338/blob/master/notebooks/02.03-First-Order-Model-for-a-Single-Heater.ipynb) ><p><a href=\"https://colab.research.google.com/github/jckantor/CBE32338/blob/master/notebooks/02.02-Fitting-Step-Test-Data-to-Empirical-Models.ipynb\"><img align=\"left\" src=\"https://colab.research.google.com/assets/colab-badge.svg\" alt=\"Open in Colab\" title=\"Open in Google Colaboratory\"></a><p><a href=\"https://raw.githubusercontent.com/jckantor/CBE32338/master/notebooks/02.02-Fitting-Step-Test-Data-to-Empirical-Models.ipynb\"><img align=\"left\" src=\"https://img.shields.io/badge/Github-Download-blue.svg\" alt=\"Download\" title=\"Download Notebook\"></a>"
   ]
  },
  {
   "cell_type": "markdown",
   "metadata": {
    "slideshow": {
     "slide_type": "slide"
    }
   },
   "source": [
    "# Fitting Step Test Data to Empirical Models"
   ]
  },
  {
   "cell_type": "markdown",
   "metadata": {},
   "source": [
    "## Read the Data File"
   ]
  },
  {
   "cell_type": "code",
   "execution_count": 17,
   "metadata": {},
   "outputs": [
    {
     "data": {
      "text/plain": [
       "<matplotlib.axes._subplots.AxesSubplot at 0x11efd7350>"
      ]
     },
     "execution_count": 17,
     "metadata": {},
     "output_type": "execute_result"
    },
    {
     "data": {
      "image/png": "[encoded data removed]",
      "text/plain": [
       "<Figure size 432x288 with 1 Axes>"
      ]
     },
     "metadata": {
      "needs_background": "light"
     },
     "output_type": "display_data"
    }
   ],
   "source": [
    "%matplotlib inline\n",
    "import pandas as pd\n",
    "\n",
    "df = pd.read_csv('data/step-test-data.csv')\n",
    "df = df.set_index('Time')\n",
    "df.plot(grid=True)"
   ]
  },
  {
   "cell_type": "markdown",
   "metadata": {},
   "source": [
    "## Parameter Estimation"
   ]
  },
  {
   "cell_type": "markdown",
   "metadata": {},
   "source": [
    "### Fitting the Step Change Data to a First Order Model\n",
    "\n",
    "For a first-order linear system initially at steady-state, the response to a step input change at $t=0$ is given by\n",
    "\n",
    "$$y(t) = y(0) + K(1 - e^{-t/\\tau}) \\Delta U$$\n",
    "\n",
    "where $\\Delta U$ is the magnitude of the step change. Converting to notation used for the temperature control lab where $y(t) = T_1(t)$ and $\\Delta U = \\Delta Q_1$\n",
    "\n",
    "$$T_1(t) = T_1(0) + K_1(1 - e^{-t/\\tau_1}) \\Delta Q_1$$\n",
    "\n",
    "the following cells provide initial estimates for the steady state gain $K_1$ and time constant $\\tau_1$."
   ]
  },
  {
   "cell_type": "markdown",
   "metadata": {},
   "source": [
    "### Reading Saved Data"
   ]
  },
  {
   "cell_type": "code",
   "execution_count": 19,
   "metadata": {},
   "outputs": [
    {
     "data": {
      "text/plain": [
       "<matplotlib.axes._subplots.AxesSubplot at 0x11f23f2d0>"
      ]
     },
     "execution_count": 19,
     "metadata": {},
     "output_type": "execute_result"
    },
    {
     "data": {
      "image/png": "[encoded data removed]",
      "text/plain": [
       "<Figure size 432x288 with 1 Axes>"
      ]
     },
     "metadata": {
      "needs_background": "light"
     },
     "output_type": "display_data"
    }
   ],
   "source": [
    "df[['Q1','T1','T2']].plot(grid=True)"
   ]
  },
  {
   "cell_type": "markdown",
   "metadata": {},
   "source": [
    "### Estimating Gain and Time Constant\n",
    "\n",
    "In the limit $t\\rightarrow\\infty$ the first order model becomes\n",
    "\n",
    "$$T_1(\\infty) = T_1(0) + K_1\\Delta Q_1$$\n",
    "\n",
    "which provides an method for estimating $K_1$\n",
    "\n",
    "$$K_1 = \\frac{T_1(\\infty) - T_1(0)}{\\Delta Q_1}$$\n",
    "\n",
    "These calculations are performed below where we use the first and last measurements of $T_1$ as estimates of $T_1(0)$ and $T_1(\\infty)$, respectively."
   ]
  },
  {
   "cell_type": "code",
   "execution_count": 20,
   "metadata": {},
   "outputs": [
    {
     "name": "stdout",
     "output_type": "stream",
     "text": [
      "K1 is approximately 0.6968700000000001\n"
     ]
    }
   ],
   "source": [
    "T1 = df['T1']\n",
    "Q1 = df['Q1']\n",
    "\n",
    "DeltaT1 = max(T1) - min(T1)\n",
    "DeltaQ1 = Q1.mean()\n",
    "\n",
    "K1 = DeltaT1/DeltaQ1\n",
    "print(\"K1 is approximately\", K1)"
   ]
  },
  {
   "cell_type": "code",
   "execution_count": 21,
   "metadata": {},
   "outputs": [
    {
     "name": "stdout",
     "output_type": "stream",
     "text": [
      "tau1 is approximately 163.0 seconds\n"
     ]
    }
   ],
   "source": [
    "# find when the increase in T1 gets larger than 63.2% of the final increase\n",
    "i = (T1 - T1.min()) > 0.632*(T1.max()-T1.min())\n",
    "tau1 = T1.index[i].min()\n",
    "print(\"tau1 is approximately\", tau1, \"seconds\")"
   ]
  },
  {
   "cell_type": "code",
   "execution_count": 22,
   "metadata": {},
   "outputs": [
    {
     "data": {
      "text/plain": [
       "Text(0.5,1,'Residual Error')"
      ]
     },
     "execution_count": 22,
     "metadata": {},
     "output_type": "execute_result"
    },
    {
     "data": {
      "image/png": "[encoded data removed]",
      "text/plain": [
       "<Figure size 720x360 with 2 Axes>"
      ]
     },
     "metadata": {
      "needs_background": "light"
     },
     "output_type": "display_data"
    }
   ],
   "source": [
    "import matplotlib.pyplot as plt\n",
    "import numpy as np\n",
    "\n",
    "exp = np.exp\n",
    "t = df.index\n",
    "\n",
    "T1_est = T1.min() + K1*(1 - exp(-t/tau1))*DeltaQ1\n",
    "\n",
    "plt.figure(figsize=(10,5))\n",
    "ax = plt.subplot(2,1,1)\n",
    "df['T1'].plot(ax = ax, grid=True)\n",
    "plt.plot(t,T1_est)\n",
    "plt.title('Step Test Data Compared to Model')\n",
    "\n",
    "plt.subplot(2,1,2)\n",
    "plt.plot(t,T1_est-T1)\n",
    "plt.grid()\n",
    "plt.title('Residual Error')"
   ]
  },
  {
   "cell_type": "markdown",
   "metadata": {},
   "source": [
    "A first order model captures certain features, and provides a reasonably good result as the system approaches a new steady-state. The problem, however, is that for control we need a good model during initial transient. This is where the first-order model breaks down and predicts a qualitatively different response from what we observe."
   ]
  },
  {
   "cell_type": "markdown",
   "metadata": {},
   "source": [
    "## First Order plus Dead Time\n",
    "\n",
    "$$T_1(t) = T_1(0) + K (1-e^\\frac{t-\\theta}{\\tau}) Q_{step}$$"
   ]
  },
  {
   "cell_type": "code",
   "execution_count": 24,
   "metadata": {
    "scrolled": false
   },
   "outputs": [
    {
     "data": {
      "application/vnd.jupyter.widget-view+json": {
       "model_id": "f6b71003f3994bf9a42616de2504140f",
       "version_major": 2,
       "version_minor": 0
      },
      "text/plain": [
       "interactive(children=(FloatSlider(value=0.6968700000000001, description='K', max=1.0, step=0.001), FloatSlider…"
      ]
     },
     "metadata": {},
     "output_type": "display_data"
    },
    {
     "data": {
      "text/plain": [
       "<function __main__.fopdt(K=0.6968700000000001, tau=163.0, theta=0, T10=20.9)>"
      ]
     },
     "execution_count": 24,
     "metadata": {},
     "output_type": "execute_result"
    }
   ],
   "source": [
    "%matplotlib inline\n",
    "import matplotlib.pyplot as plt\n",
    "import numpy as np\n",
    "import pandas as pd\n",
    "from ipywidgets import interact\n",
    "\n",
    "df = pd.read_csv('data/step-test-data.csv')\n",
    "df = df.set_index('Time')\n",
    "\n",
    "T1 = df['T1']\n",
    "Q1 = df['Q1']\n",
    "t = df.index\n",
    "\n",
    "DeltaT1 = max(T1) - min(T1)\n",
    "DeltaQ1 = Q1.mean()\n",
    "\n",
    "K1 = DeltaT1/DeltaQ1\n",
    "i = (T1 - T1.min()) > 0.632*(T1.max()-T1.min())\n",
    "tau1 = T1.index[i].min()\n",
    "\n",
    "def fopdt(K=K1, tau=tau1, theta=0, T10=T1.min()):\n",
    "    def Q1(t):\n",
    "        return 0 if t < 0 else DeltaQ1\n",
    "    Q1vec = np.vectorize(Q1)\n",
    "    T1_fopdt = T10 + K*(1-np.exp(-(t-theta)/tau))*Q1vec(t-theta)\n",
    "    plt.figure(figsize=(10,5))\n",
    "    plt.subplot(2,1,1)\n",
    "    plt.plot(t,T1_fopdt)\n",
    "    plt.plot(t,df['T1'])\n",
    "    plt.subplot(2,1,2)\n",
    "    plt.plot(t,T1_fopdt - T1)\n",
    "    plt.show()\n",
    "    \n",
    "interact(fopdt,K=(0,1,.001),tau=(50,200,.5),theta=(0,50,.5),T10=(15,25,.1))"
   ]
  },
  {
   "cell_type": "markdown",
   "metadata": {},
   "source": [
    "## Second Order\n",
    "\n",
    "SEMD Eqn. 5-48\n",
    "\n",
    "$$T_1(t) = T_1(0) + K\\left(1 - \\frac{\\tau_1 e^{-t/\\tau_1} - \\tau_2 e^{-t/\\tau_2}}{\\tau_1 - \\tau_2}\\right)Q_1(t)$$"
   ]
  },
  {
   "cell_type": "code",
   "execution_count": 25,
   "metadata": {},
   "outputs": [
    {
     "data": {
      "application/vnd.jupyter.widget-view+json": {
       "model_id": "103b10b4147f468fa171d119c2d1a1ca",
       "version_major": 2,
       "version_minor": 0
      },
      "text/plain": [
       "interactive(children=(FloatSlider(value=0.6968700000000001, description='K', max=1.0, step=0.001), FloatSlider…"
      ]
     },
     "metadata": {},
     "output_type": "display_data"
    },
    {
     "data": {
      "text/plain": [
       "<function __main__.secondorder(K=0.6968700000000001, tau1=163.0, tau2=40, T10=20.9)>"
      ]
     },
     "execution_count": 25,
     "metadata": {},
     "output_type": "execute_result"
    }
   ],
   "source": [
    "%matplotlib inline\n",
    "import matplotlib.pyplot as plt\n",
    "import numpy as np\n",
    "import pandas as pd\n",
    "from ipywidgets import interact\n",
    "\n",
    "df = pd.read_csv('data/step-test-data.csv')\n",
    "df = df.set_index('Time')\n",
    "\n",
    "T1 = df['T1']\n",
    "Q1 = df['Q1']\n",
    "t = df.index\n",
    "\n",
    "DeltaT1 = max(T1) - min(T1)\n",
    "DeltaQ1 = Q1.mean()\n",
    "\n",
    "K1 = DeltaT1/DeltaQ1\n",
    "i = (T1 - T1.min()) > 0.632*(T1.max()-T1.min())\n",
    "tau1 = T1.index[i].min()\n",
    "\n",
    "def secondorder(K=K1, tau1=tau1, tau2=40, T10=T1.min()):\n",
    "    def Qscalar(t):\n",
    "        return 0 if t < 0 else DeltaQ1\n",
    "    Q = np.vectorize(Qscalar)\n",
    "    exp = np.exp\n",
    "    T = T10 + K*(1 - (tau1*exp(-t/tau1) - tau2*exp(-t/tau2))/(tau1-tau2))*Q(t)\n",
    "    plt.subplot(2,1,1)\n",
    "    plt.plot(t,T)\n",
    "    plt.plot(t,df['T1'])\n",
    "    plt.subplot(2,1,2)\n",
    "    plt.plot(t,T1 - T)\n",
    "    plt.show()\n",
    "    \n",
    "interact(secondorder,K=(0,1,.001),tau1=(1,200,.1),tau2=(0,200,.1),T10=(15,25,.1))"
   ]
  },
  {
   "cell_type": "markdown",
   "metadata": {},
   "source": [
    "## Fitting a Second Order Model by Least Squares"
   ]
  },
  {
   "cell_type": "code",
   "execution_count": 26,
   "metadata": {},
   "outputs": [
    {
     "data": {
      "text/plain": [
       "array([  0.69537389,  19.68872647, 141.40950924,  20.91093839])"
      ]
     },
     "execution_count": 26,
     "metadata": {},
     "output_type": "execute_result"
    }
   ],
   "source": [
    "from scipy.optimize import least_squares\n",
    "import numpy as np\n",
    "Qmax = 50\n",
    "\n",
    "def f(x):\n",
    "    K,tau1,tau2,T10 = x\n",
    "    t = df.index\n",
    "    exp = np.exp\n",
    "    Tpred = T10 + K*(1 - (tau1*exp(-t/tau1) - tau2*exp(-t/tau2))/(tau1-tau2))*Qmax\n",
    "    resid = df['T1'] - Tpred\n",
    "    return resid\n",
    "\n",
    "ic = [0.86,40,130,20]\n",
    "\n",
    "r = least_squares(f,ic,bounds=(0,np.inf))\n",
    "r.x"
   ]
  },
  {
   "cell_type": "markdown",
   "metadata": {},
   "source": [
    "$$ G_1(s) = \\frac{0.70}{(20s + 1)(141s + 1)} $$"
   ]
  },
  {
   "cell_type": "code",
   "execution_count": null,
   "metadata": {},
   "outputs": [],
   "source": []
  },
  {
   "cell_type": "markdown",
   "metadata": {},
   "source": [
    "<!--NAVIGATION-->\n",
    "< [Step Testing](http://nbviewer.jupyter.org/github/jckantor/CBE32338/blob/master/notebooks/02.01-Step-Testing.ipynb) | [Contents](toc.ipynb) | [First Order Model for a Single Heater](http://nbviewer.jupyter.org/github/jckantor/CBE32338/blob/master/notebooks/02.03-First-Order-Model-for-a-Single-Heater.ipynb) ><p><a href=\"https://colab.research.google.com/github/jckantor/CBE32338/blob/master/notebooks/02.02-Fitting-Step-Test-Data-to-Empirical-Models.ipynb\"><img align=\"left\" src=\"https://colab.research.google.com/assets/colab-badge.svg\" alt=\"Open in Colab\" title=\"Open in Google Colaboratory\"></a><p><a href=\"https://raw.githubusercontent.com/jckantor/CBE32338/master/notebooks/02.02-Fitting-Step-Test-Data-to-Empirical-Models.ipynb\"><img align=\"left\" src=\"https://img.shields.io/badge/Github-Download-blue.svg\" alt=\"Download\" title=\"Download Notebook\"></a>"
   ]
  }
 ],
 "metadata": {
  "kernelspec": {
   "display_name": "Python 3",
   "language": "python",
   "name": "python3"
  },
  "language_info": {
   "codemirror_mode": {
    "name": "ipython",
    "version": 3
   },
   "file_extension": ".py",
   "mimetype": "text/x-python",
   "name": "python",
   "nbconvert_exporter": "python",
   "pygments_lexer": "ipython3",
   "version": "3.7.4"
  }
 },
 "nbformat": 4,
 "nbformat_minor": 2
}

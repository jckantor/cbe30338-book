{
 "cells": [
  {
   "cell_type": "markdown",
   "metadata": {},
   "source": [
    "# Two-Input, Two-Output Model"
   ]
  },
  {
   "cell_type": "markdown",
   "metadata": {},
   "source": [
    "## Interacting Heaters\n",
    "\n",
    "Our next model considers the interaction between the two heaters. From the step response it is obvious that the heaters interact, and we need to understand how that affects the dynamic performance.  Will we see qualitative differences in the step response once we've included the second heater?\n",
    "\n",
    "\\begin{align}\n",
    "C_p\\frac{dT_1}{dt} & = U_a(T_{amb} - T_1) + U_b(T_2 - T_1) + P_1u_1\\\\\n",
    "C_p\\frac{dT_2}{dt} & = U_a(T_{amb} - T_2) + U_b(T_1 - T_2) + P_2u_2\n",
    "\\end{align}"
   ]
  },
  {
   "cell_type": "markdown",
   "metadata": {},
   "source": [
    "As a first step we isolate the bare derivatives on the left-hand side of the equations. This is good practice in situations where you expect to be doing numerical simulation.\n",
    "\n",
    "\\begin{align}\n",
    "\\frac{dT_1}{dt} & = \\frac{U_a}{C_p}(T_{amb} - T_1) + \\frac{U_b}{C_p}(T_2 - T_1) + \\frac{P_1}{C_p}u_1\\\\\n",
    "\\frac{dT_2}{dt} & = \\frac{U_a}{C_p}(T_{amb} - T_2) + \\frac{U_b}{C_p}(T_1 - T_2) + \\frac{P_2}{C_p}u_2\n",
    "\\end{align}"
   ]
  },
  {
   "cell_type": "markdown",
   "metadata": {},
   "source": [
    "## Deviation Variables\n",
    "\n",
    "As before, the equations appear somewhat simpler if we introduce deviation variables from a nominal state. In this case we'll use the ambient temperature as the reference, so the deviation variable will express deviation from ambient.\n",
    "\n",
    "\\begin{align}\n",
    "T_1' & = T_1 - T_{amb} \\\\\n",
    "T_2' & = T_2 - T_{amb}\n",
    "\\end{align}"
   ]
  },
  {
   "cell_type": "markdown",
   "metadata": {},
   "source": [
    "Then gathering terms\n",
    "\n",
    "\\begin{align}\n",
    "\\frac{dT_1'}{dt} & = -\\frac{U_a+U_b}{C_p}T_1' + \\frac{U_b}{C_p}T_2' + \\frac{P_1}{C_p}u_1\\\\\n",
    "\\frac{dT_2'}{dt} & = -\\frac{U_a+U_b}{C_p}T_2' + \\frac{U_b}{C_p}T_1' + \\frac{P_2}{C_p}u_2\n",
    "\\end{align}"
   ]
  },
  {
   "cell_type": "markdown",
   "metadata": {},
   "source": [
    "An alternative way to express these equations is in matrix/vector form.  We won't use this today, but later will make extensive use of this 'state-space' model of a linear system.\n",
    "\n",
    "\\begin{align}\n",
    "\\left[\\begin{array}{c}\\frac{dT_1'}{dt} \\\\ \\frac{dT_2'}{dt}\\end{array}\\right] & = \n",
    "\\left[\\begin{array}{cc}-\\frac{U_a+U_b}{C_p} & \\frac{U_b}{C_p} \\\\ \\frac{U_b}{C_p} & -\\frac{U_a+U_b}{C_p} \\end{array}\\right]\n",
    "\\left[\\begin{array}{c}T_1' \\\\ T_2'\\end{array}\\right] +\n",
    "\\left[\\begin{array}{cc}\\frac{P_1}{C_p} & 0 \\\\ 0 & \\frac{P_2}{C_p} \\end{array}\\right]\n",
    "\\left[\\begin{array}{c}u_1 \\\\ u_2\\end{array}\\right]\n",
    "\\end{align}"
   ]
  },
  {
   "cell_type": "markdown",
   "metadata": {},
   "source": [
    "## Steady State\n",
    "\n",
    "The steady state is found by setting the derivatives to zero. We'll use a bar over the dependent variables to designate steady state values.\n",
    "\n",
    "\\begin{align}\n",
    "0 & = -(U_a+U_b)\\bar{T}_{1}' + U_b\\bar{T}_{2}' + P_1\\bar{u}_{1}\\\\\n",
    "0 & = -(U_a+U_b)\\bar{T}_{2}' + U_b\\bar{T}_{1}' + P_2\\bar{u}_{1}\n",
    "\\end{align}\n",
    "\n",
    "Our challenge is to solve the following 2x2 system of linear equations for the steady state temperatures.\n",
    "\n",
    "\\begin{align} \n",
    "\\left[\\begin{array}{cc}(U_a+U_b) & -U_b \\\\ -U_b & (U_a+U_b) \\end{array}\\right]\n",
    "\\left[\\begin{array}{c}\\bar{T}_1' \\\\ \\bar{T}_2'\\end{array}\\right] & = \n",
    "\\left[\\begin{array}{c} P_1\\bar{u}_1 \\\\ P_2\\bar{u}_2\\end{array}\\right]\n",
    "\\end{align}\n",
    "\n",
    "The solution to these equations is a bit of work, but you should be able to verify\n",
    "\n",
    "\\begin{align}\n",
    "\\bar{T}_1' & = \\frac{(U_a+U_b)}{U_a(U_a+2U_b)}P_1\\bar{u}_1 + \\frac{U_b}{U_a(U_a+2U_b)}P_2\\bar{u}_2 \\\\\n",
    "\\bar{T}_2' & = \\frac{U_b}{U_a(U_a+2U_b)}P_1\\bar{u}_1 + \\frac{(U_a+U_b)}{U_a(U_a+2U_b)}P_2\\bar{u}_2\n",
    "\\end{align}\n"
   ]
  },
  {
   "cell_type": "markdown",
   "metadata": {},
   "source": [
    "## Estimating $U_a$ and $U_b$\n",
    "\n",
    "Experimental step response data gives us the information needed to estimate parameters $U_a$ and $U_b$. Rearranging the steady state equations, we find a pair of linear equations for $U_a$ and $U_b$.\n",
    "\n",
    "\\begin{align}\n",
    "\\bar{T}_{1}'U_a  + (\\bar{T}_{1}'-\\bar{T}_{2}')U_b & = P_1\\bar{u}_{1}\\\\\n",
    "\\bar{T}_{2}'U_a + (\\bar{T}_{2}'-\\bar{T}_{1}')U_b & = P_2\\bar{u}_{1}\n",
    "\\end{align}\n",
    "\n",
    "There is an analytical solution to these equations\n",
    "\n",
    "\\begin{align}\n",
    "U_a & = \\frac{P_1\\bar{u}_1 + P_2\\bar{u}_2}{\\bar{T}_1' + \\bar{T}_2'}\\\\\n",
    "U_b & = \\frac{\\bar{T}_2'P_1\\bar{u}_1 - \\bar{T}_1'P_2\\bar{u}_2}{(\\bar{T}_1' - \\bar{T}_2')(\\bar{T}_1' + \\bar{T}_2')}\n",
    "\\end{align}\n",
    "\n",
    "The step response data gives us information about steady-state that can be used to estimate values for $U_a$ and $U_b$. First we plot the step response data (see Part 1 if this cell cannot find the data set.)"
   ]
  },
  {
   "cell_type": "code",
   "execution_count": 1,
   "metadata": {},
   "outputs": [
    {
     "data": {
      "image/png": "[encoded data removed]",
      "text/plain": [
       "<matplotlib.figure.Figure at 0x10df40588>"
      ]
     },
     "metadata": {},
     "output_type": "display_data"
    }
   ],
   "source": [
    "%matplotlib inline\n",
    "import pandas as pd\n",
    "import matplotlib.pyplot as plt\n",
    "\n",
    "data = pd.read_csv('Step_Test_Data.csv').set_index('Time')[1:]\n",
    "t = data.index\n",
    "T1 = data['T1'].values\n",
    "T2 = data['T2'].values\n",
    "\n",
    "plt.plot(t, T1, t, T2)\n",
    "plt.xlabel('time / seconds')\n",
    "plt.ylabel('temperture 1 / °C')\n",
    "plt.grid()"
   ]
  },
  {
   "cell_type": "markdown",
   "metadata": {},
   "source": [
    "**Exercise:** Roughly speaking, the has an increase of 35 degrees and T2 and increase of 10 degrees due to a setting u1 to 50% of the maximum power of 4 watts.  Use that information and the above equations to estimate values for $U_a$ and $U_b$."
   ]
  },
  {
   "cell_type": "markdown",
   "metadata": {},
   "source": [
    "## Simulation with odeint"
   ]
  },
  {
   "cell_type": "code",
   "execution_count": 2,
   "metadata": {},
   "outputs": [
    {
     "data": {
      "image/png": "[encoded data removed]",
      "text/plain": [
       "<matplotlib.figure.Figure at 0x10b98a780>"
      ]
     },
     "metadata": {},
     "output_type": "display_data"
    }
   ],
   "source": [
    "%matplotlib inline\n",
    "import numpy as np                  # basic package for numerical calculations\n",
    "import matplotlib.pyplot as plt     # plotting package\n",
    "from scipy.integrate import odeint\n",
    "\n",
    "# parameter values and units\n",
    "P1 = 4                 # watts\n",
    "P2 = 2                 # watts\n",
    "Ua = 0.044             # watts/deg C\n",
    "Ub = 0.018             # watts/deg C\n",
    "Cp = 6                 # joules/deg C\n",
    "u1 = 0.5               # steady state value of u1 (fraction of total power)\n",
    "u2 = 0.0               # steady state value of u2 (fraction of total power)\n",
    "T_ambient = 21         # ambient temperature of the surroundings\n",
    "\n",
    "def deriv(T,t):\n",
    "    T1, T2 = T\n",
    "    dT1 = -(Ua + Ub)*T1/Cp + Ub*T2/Cp + P1*u1/Cp\n",
    "    dT2 = Ub*T1/Cp - (Ua + Ub)*T2/Cp + P2*u2/Cp\n",
    "    return [dT1, dT2]\n",
    "\n",
    "# compute the transient solution\n",
    "t = np.linspace(0,800)\n",
    "T = odeint(deriv, [0,0], t)\n",
    "\n",
    "# plot\n",
    "plt.plot(t, T + T_ambient)\n",
    "plt.xlabel('Time / seconds')\n",
    "plt.ylabel('Temperature / °C')\n",
    "plt.grid()"
   ]
  },
  {
   "cell_type": "markdown",
   "metadata": {},
   "source": [
    "## Fitting the Model to Measured Step Response Data"
   ]
  },
  {
   "cell_type": "code",
   "execution_count": 3,
   "metadata": {},
   "outputs": [
    {
     "data": {
      "application/vnd.jupyter.widget-view+json": {
       "model_id": "dcdd10cdbb834532ba0216d18536017f",
       "version_major": 2,
       "version_minor": 0
      },
      "text/plain": [
       "A Jupyter Widget"
      ]
     },
     "metadata": {},
     "output_type": "display_data"
    },
    {
     "data": {
      "text/plain": [
       "<function __main__.compare>"
      ]
     },
     "execution_count": 3,
     "metadata": {},
     "output_type": "execute_result"
    }
   ],
   "source": [
    "%matplotlib inline\n",
    "import pandas as pd\n",
    "import matplotlib.pyplot as plt\n",
    "from scipy.integrate import odeint\n",
    "from ipywidgets import interact\n",
    "\n",
    "data = pd.read_csv('Step_Test_Data.csv').set_index('Time')[1:]\n",
    "t = data.index\n",
    "T1 = data['T1'].values\n",
    "T2 = data['T2'].values\n",
    "\n",
    "# known parameter values\n",
    "P1 = 4\n",
    "u1 = 0.5   # steady state value of u1 (fraction of total power)\n",
    "P2 = 2\n",
    "u2 = 0.0\n",
    "T_ambient = 21\n",
    "\n",
    "def compare(Ua, Ub, Cp):\n",
    "\n",
    "    def deriv(T,t):\n",
    "        T1, T2 = T\n",
    "        dT1 = -(Ua + Ub)*T1/Cp + Ub*T2/Cp + P1*u1/Cp\n",
    "        dT2 = Ub*T1/Cp - (Ua + Ub)*T2/Cp + P2*u2/Cp\n",
    "        return [dT1, dT2]\n",
    "\n",
    "    T = odeint(deriv, [0,0], t)\n",
    "\n",
    "    # plot\n",
    "    plt.plot(t, T + T_ambient, t, T1, t, T2)\n",
    "    plt.xlabel('Time / seconds')\n",
    "    plt.ylabel('Temperature / °C')\n",
    "    plt.grid()\n",
    "    plt.text(400,28,'Ua = ' + str(Ua))\n",
    "    plt.text(400,24,'Ub = ' + str(Ub))\n",
    "    plt.text(400,20,'Cp = ' + str(Cp))\n",
    "\n",
    "# parameter values and units\n",
    "P1 = 4                 # watts\n",
    "P2 = 2                 # watts\n",
    "Ua = 0.044             # watts/deg C\n",
    "Ub = 0.018             # watts/deg C\n",
    "Cp = 7                 # joules/deg C\n",
    "\n",
    "interact(compare, Ua=(0,0.06,0.001), Ub=(0,0.06,0.001), Cp=(2,10,0.002))"
   ]
  },
  {
   "cell_type": "code",
   "execution_count": null,
   "metadata": {},
   "outputs": [],
   "source": []
  }
 ],
 "metadata": {
  "kernelspec": {
   "display_name": "Python 3 (ipykernel)",
   "language": "python",
   "name": "python3"
  },
  "language_info": {
   "codemirror_mode": {
    "name": "ipython",
    "version": 3
   },
   "file_extension": ".py",
   "mimetype": "text/x-python",
   "name": "python",
   "nbconvert_exporter": "python",
   "pygments_lexer": "ipython3",
   "version": "3.8.12"
  }
 },
 "nbformat": 4,
 "nbformat_minor": 4
}
